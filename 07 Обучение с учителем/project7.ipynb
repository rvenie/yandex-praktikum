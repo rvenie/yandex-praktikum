{
 "cells": [
  {
   "cell_type": "markdown",
   "metadata": {
    "id": "xjsHRY7ftvYg"
   },
   "source": [
    "# Описание проекта\n",
    "\n",
    "Из «Бета-Банка» стали уходить клиенты. Каждый месяц. Немного, но заметно. Банковские маркетологи посчитали: сохранять текущих клиентов дешевле, чем привлекать новых.\n",
    "\n",
    "Нужно спрогнозировать, уйдёт клиент из банка в ближайшее время или нет. Вам предоставлены исторические данные о поведении клиентов и расторжении договоров с банком. \n",
    "\n",
    "Постройте модель с предельно большим значением **F1-меры**. Чтобы сдать проект успешно, нужно довести метрику до **0.59**. Проверьте F1-меру на тестовой выборке самостоятельно.\n",
    "\n",
    "Дополнительно измеряйте AUC-ROC, сравнивайте её значение с F1-мерой.\n",
    "\n",
    "\n"
   ]
  },
  {
   "cell_type": "markdown",
   "metadata": {
    "id": "aoJsT5BbsJjQ"
   },
   "source": [
    "# Загрузка данных"
   ]
  },
  {
   "cell_type": "code",
   "execution_count": 177,
   "metadata": {},
   "outputs": [],
   "source": [
    "# импорт необходимых для проекта библиотек\n",
    "import pandas as pd\n",
    "import numpy as np\n",
    "import seaborn as sns\n",
    "import matplotlib.pyplot as plt\n",
    "from scipy import stats as st \n",
    "import os\n",
    "\n",
    "from sklearn.model_selection import train_test_split\n",
    "from sklearn.metrics import confusion_matrix\n",
    "from sklearn.metrics import f1_score\n",
    "from sklearn.metrics import roc_auc_score\n",
    "from sklearn.metrics import roc_curve \n",
    "from sklearn.linear_model import LogisticRegression\n",
    "from sklearn.tree import DecisionTreeClassifier\n",
    "from sklearn.ensemble import RandomForestClassifier\n",
    "from sklearn.utils import shuffle\n"
   ]
  },
  {
   "cell_type": "code",
   "execution_count": 178,
   "metadata": {
    "colab": {
     "base_uri": "https://localhost:8080/",
     "height": 652
    },
    "id": "uqUJsdGFtr7p",
    "outputId": "f7a5aabf-fa3a-4d07-f01e-47c86071d4df"
   },
   "outputs": [
    {
     "data": {
      "text/html": [
       "<div>\n",
       "<style scoped>\n",
       "    .dataframe tbody tr th:only-of-type {\n",
       "        vertical-align: middle;\n",
       "    }\n",
       "\n",
       "    .dataframe tbody tr th {\n",
       "        vertical-align: top;\n",
       "    }\n",
       "\n",
       "    .dataframe thead th {\n",
       "        text-align: right;\n",
       "    }\n",
       "</style>\n",
       "<table border=\"1\" class=\"dataframe\">\n",
       "  <thead>\n",
       "    <tr style=\"text-align: right;\">\n",
       "      <th></th>\n",
       "      <th>RowNumber</th>\n",
       "      <th>CustomerId</th>\n",
       "      <th>Surname</th>\n",
       "      <th>CreditScore</th>\n",
       "      <th>Geography</th>\n",
       "      <th>Gender</th>\n",
       "      <th>Age</th>\n",
       "      <th>Tenure</th>\n",
       "      <th>Balance</th>\n",
       "      <th>NumOfProducts</th>\n",
       "      <th>HasCrCard</th>\n",
       "      <th>IsActiveMember</th>\n",
       "      <th>EstimatedSalary</th>\n",
       "      <th>Exited</th>\n",
       "    </tr>\n",
       "  </thead>\n",
       "  <tbody>\n",
       "    <tr>\n",
       "      <th>0</th>\n",
       "      <td>1</td>\n",
       "      <td>15634602</td>\n",
       "      <td>Hargrave</td>\n",
       "      <td>619</td>\n",
       "      <td>France</td>\n",
       "      <td>Female</td>\n",
       "      <td>42</td>\n",
       "      <td>2.0</td>\n",
       "      <td>0.00</td>\n",
       "      <td>1</td>\n",
       "      <td>1</td>\n",
       "      <td>1</td>\n",
       "      <td>101348.88</td>\n",
       "      <td>1</td>\n",
       "    </tr>\n",
       "    <tr>\n",
       "      <th>1</th>\n",
       "      <td>2</td>\n",
       "      <td>15647311</td>\n",
       "      <td>Hill</td>\n",
       "      <td>608</td>\n",
       "      <td>Spain</td>\n",
       "      <td>Female</td>\n",
       "      <td>41</td>\n",
       "      <td>1.0</td>\n",
       "      <td>83807.86</td>\n",
       "      <td>1</td>\n",
       "      <td>0</td>\n",
       "      <td>1</td>\n",
       "      <td>112542.58</td>\n",
       "      <td>0</td>\n",
       "    </tr>\n",
       "    <tr>\n",
       "      <th>2</th>\n",
       "      <td>3</td>\n",
       "      <td>15619304</td>\n",
       "      <td>Onio</td>\n",
       "      <td>502</td>\n",
       "      <td>France</td>\n",
       "      <td>Female</td>\n",
       "      <td>42</td>\n",
       "      <td>8.0</td>\n",
       "      <td>159660.80</td>\n",
       "      <td>3</td>\n",
       "      <td>1</td>\n",
       "      <td>0</td>\n",
       "      <td>113931.57</td>\n",
       "      <td>1</td>\n",
       "    </tr>\n",
       "    <tr>\n",
       "      <th>3</th>\n",
       "      <td>4</td>\n",
       "      <td>15701354</td>\n",
       "      <td>Boni</td>\n",
       "      <td>699</td>\n",
       "      <td>France</td>\n",
       "      <td>Female</td>\n",
       "      <td>39</td>\n",
       "      <td>1.0</td>\n",
       "      <td>0.00</td>\n",
       "      <td>2</td>\n",
       "      <td>0</td>\n",
       "      <td>0</td>\n",
       "      <td>93826.63</td>\n",
       "      <td>0</td>\n",
       "    </tr>\n",
       "    <tr>\n",
       "      <th>4</th>\n",
       "      <td>5</td>\n",
       "      <td>15737888</td>\n",
       "      <td>Mitchell</td>\n",
       "      <td>850</td>\n",
       "      <td>Spain</td>\n",
       "      <td>Female</td>\n",
       "      <td>43</td>\n",
       "      <td>2.0</td>\n",
       "      <td>125510.82</td>\n",
       "      <td>1</td>\n",
       "      <td>1</td>\n",
       "      <td>1</td>\n",
       "      <td>79084.10</td>\n",
       "      <td>0</td>\n",
       "    </tr>\n",
       "  </tbody>\n",
       "</table>\n",
       "</div>"
      ],
      "text/plain": [
       "   RowNumber  CustomerId   Surname  CreditScore Geography  Gender  Age  \\\n",
       "0          1    15634602  Hargrave          619    France  Female   42   \n",
       "1          2    15647311      Hill          608     Spain  Female   41   \n",
       "2          3    15619304      Onio          502    France  Female   42   \n",
       "3          4    15701354      Boni          699    France  Female   39   \n",
       "4          5    15737888  Mitchell          850     Spain  Female   43   \n",
       "\n",
       "   Tenure    Balance  NumOfProducts  HasCrCard  IsActiveMember  \\\n",
       "0     2.0       0.00              1          1               1   \n",
       "1     1.0   83807.86              1          0               1   \n",
       "2     8.0  159660.80              3          1               0   \n",
       "3     1.0       0.00              2          0               0   \n",
       "4     2.0  125510.82              1          1               1   \n",
       "\n",
       "   EstimatedSalary  Exited  \n",
       "0        101348.88       1  \n",
       "1        112542.58       0  \n",
       "2        113931.57       1  \n",
       "3         93826.63       0  \n",
       "4         79084.10       0  "
      ]
     },
     "metadata": {},
     "output_type": "display_data"
    },
    {
     "name": "stdout",
     "output_type": "stream",
     "text": [
      "<class 'pandas.core.frame.DataFrame'>\n",
      "RangeIndex: 10000 entries, 0 to 9999\n",
      "Data columns (total 14 columns):\n",
      " #   Column           Non-Null Count  Dtype  \n",
      "---  ------           --------------  -----  \n",
      " 0   RowNumber        10000 non-null  int64  \n",
      " 1   CustomerId       10000 non-null  int64  \n",
      " 2   Surname          10000 non-null  object \n",
      " 3   CreditScore      10000 non-null  int64  \n",
      " 4   Geography        10000 non-null  object \n",
      " 5   Gender           10000 non-null  object \n",
      " 6   Age              10000 non-null  int64  \n",
      " 7   Tenure           9091 non-null   float64\n",
      " 8   Balance          10000 non-null  float64\n",
      " 9   NumOfProducts    10000 non-null  int64  \n",
      " 10  HasCrCard        10000 non-null  int64  \n",
      " 11  IsActiveMember   10000 non-null  int64  \n",
      " 12  EstimatedSalary  10000 non-null  float64\n",
      " 13  Exited           10000 non-null  int64  \n",
      "dtypes: float64(3), int64(8), object(3)\n",
      "memory usage: 1.1+ MB\n"
     ]
    },
    {
     "data": {
      "text/plain": [
       "None"
      ]
     },
     "metadata": {},
     "output_type": "display_data"
    }
   ],
   "source": [
    "\n",
    "# импорт файлов из предполагаемых директорий\n",
    "pth1 = 'Churn.csv'\n",
    "pth2 = './datasets/Churn.csv'\n",
    "pth3 = '/datasets/Churn.csv'\n",
    "pth4 = './Churn.csv'\n",
    "pth5= '/content/drive/MyDrive/Colab Notebooks/datasets/Churn.csv'\n",
    "if os.path.exists(pth1):\n",
    "    df = pd.read_csv(pth1)\n",
    "elif os.path.exists(pth2):\n",
    "    df = pd.read_csv(pth2)\n",
    "elif os.path.exists(pth3):\n",
    "    df = pd.read_csv(pth3)\n",
    "elif os.path.exists(pth4):\n",
    "    df = pd.read_csv(pth4)\n",
    "elif os.path.exists(pth5):\n",
    "    df = pd.read_csv(pth5)\n",
    "else:\n",
    "    print(\"Проверьте правильность пути к датасету\")\n",
    "# краткий обзор датасета\n",
    "display(df.head())\n",
    "display(df.info())"
   ]
  },
  {
   "cell_type": "markdown",
   "metadata": {
    "id": "Nk5dl4CvsOFD"
   },
   "source": [
    "# Подготовка данных"
   ]
  },
  {
   "cell_type": "markdown",
   "metadata": {
    "id": "7CCNihd9s01o"
   },
   "source": [
    "## Приводим названия признаков к порядку\n",
    "\n"
   ]
  },
  {
   "cell_type": "code",
   "execution_count": 179,
   "metadata": {
    "id": "0b8wUIxxs-Z3"
   },
   "outputs": [],
   "source": [
    "df.columns = ['row_number', 'customer_id', 'surname', 'credit_score', 'geography',\n",
    "       'gender', 'age', 'tenure', 'balance', 'num_of_products', 'has_cr_card',\n",
    "       'is_active_member', 'estimated_salary', 'exited']\n",
    "\n"
   ]
  },
  {
   "cell_type": "markdown",
   "metadata": {
    "id": "KvTBtFrQuAgO"
   },
   "source": [
    "## Заполняем пропуски в признаке tenure и готовим датасет к обучению"
   ]
  },
  {
   "cell_type": "markdown",
   "metadata": {},
   "source": [
    "909 пропущенных значений случайны скорее всего случайны, мы заполним их медианами. \n",
    "Также удалим столбцы с фамилиям, номером строки и айди клиента т.к. они не несут ценной информации для поставленной задачи"
   ]
  },
  {
   "cell_type": "code",
   "execution_count": 180,
   "metadata": {
    "colab": {
     "base_uri": "https://localhost:8080/"
    },
    "id": "q6GcXByPuW2Z",
    "outputId": "988c5fef-f4a4-4162-a6ff-26a5cd634ead"
   },
   "outputs": [],
   "source": [
    "# print(df[df['tenure'].isna()])\n",
    "df['tenure'] =  df['tenure'].fillna(df['tenure'].median())\n",
    "df_prep = df.drop('surname', axis=1) \n",
    "df_prep = df_prep.drop('row_number', axis = 1) \n",
    "df_prep = df_prep.drop('customer_id',axis = 1)"
   ]
  },
  {
   "cell_type": "markdown",
   "metadata": {
    "id": "JzN9R8qQ0GAC"
   },
   "source": [
    "## Преобразуем категориальные признаки в численные\n",
    "Не забываем про дамми-ловушку"
   ]
  },
  {
   "cell_type": "code",
   "execution_count": 181,
   "metadata": {
    "id": "TSMDs0TL0PPB",
    "scrolled": true
   },
   "outputs": [
    {
     "name": "stdout",
     "output_type": "stream",
     "text": [
      "<class 'pandas.core.frame.DataFrame'>\n",
      "RangeIndex: 10000 entries, 0 to 9999\n",
      "Data columns (total 12 columns):\n",
      " #   Column             Non-Null Count  Dtype  \n",
      "---  ------             --------------  -----  \n",
      " 0   credit_score       10000 non-null  int64  \n",
      " 1   age                10000 non-null  int64  \n",
      " 2   tenure             10000 non-null  float64\n",
      " 3   balance            10000 non-null  float64\n",
      " 4   num_of_products    10000 non-null  int64  \n",
      " 5   has_cr_card        10000 non-null  int64  \n",
      " 6   is_active_member   10000 non-null  int64  \n",
      " 7   estimated_salary   10000 non-null  float64\n",
      " 8   exited             10000 non-null  int64  \n",
      " 9   geography_Germany  10000 non-null  uint8  \n",
      " 10  geography_Spain    10000 non-null  uint8  \n",
      " 11  gender_Male        10000 non-null  uint8  \n",
      "dtypes: float64(3), int64(6), uint8(3)\n",
      "memory usage: 732.5 KB\n"
     ]
    }
   ],
   "source": [
    "df_prep = pd.get_dummies(df_prep, drop_first=True) # преобразуем категориальные признаки в численные, не забыв про дамми-ловушку\n",
    "df_prep.info() # убеждаемся, что преобразование прошло успешно"
   ]
  },
  {
   "cell_type": "markdown",
   "metadata": {
    "id": "jLsMaMNbxmkD"
   },
   "source": [
    "## Подготовка к обучению"
   ]
  },
  {
   "cell_type": "code",
   "execution_count": 182,
   "metadata": {
    "id": "Y_mPRNp9x8ji"
   },
   "outputs": [],
   "source": [
    "features = df_prep.drop('exited', axis=1)\n",
    "target = df_prep['exited']\n",
    "# Создаем тренировочную и валидационной выборки\n",
    "features_train, features_valid, target_train, target_valid= train_test_split(features, target, test_size=0.25, random_state=12345) \n",
    "# Создаем тестовую выборку\n",
    "features_train, features_test, target_train, target_test= train_test_split(features_train, target_train, test_size=0.25, random_state=12345) \n"
   ]
  },
  {
   "cell_type": "code",
   "execution_count": 183,
   "metadata": {},
   "outputs": [
    {
     "data": {
      "text/plain": [
       "'Тренировочная:'"
      ]
     },
     "metadata": {},
     "output_type": "display_data"
    },
    {
     "data": {
      "text/plain": [
       "(5625, 11)"
      ]
     },
     "metadata": {},
     "output_type": "display_data"
    },
    {
     "data": {
      "text/plain": [
       "'Валидационная:'"
      ]
     },
     "metadata": {},
     "output_type": "display_data"
    },
    {
     "data": {
      "text/plain": [
       "(2500, 11)"
      ]
     },
     "metadata": {},
     "output_type": "display_data"
    },
    {
     "data": {
      "text/plain": [
       "'Тестовая:'"
      ]
     },
     "metadata": {},
     "output_type": "display_data"
    },
    {
     "data": {
      "text/plain": [
       "(1875, 11)"
      ]
     },
     "metadata": {},
     "output_type": "display_data"
    }
   ],
   "source": [
    "# код ревьюера\n",
    "display('Тренировочная:', features_train.shape)\n",
    "display('Валидационная:', features_valid.shape)\n",
    "display('Тестовая:', features_test.shape)"
   ]
  },
  {
   "cell_type": "markdown",
   "metadata": {},
   "source": [
    "## Приводим тестовую и валидационную выборки к единому размеру"
   ]
  },
  {
   "cell_type": "code",
   "execution_count": 184,
   "metadata": {},
   "outputs": [
    {
     "data": {
      "text/plain": [
       "'Тренировочная:'"
      ]
     },
     "metadata": {},
     "output_type": "display_data"
    },
    {
     "data": {
      "text/plain": [
       "(5625, 11)"
      ]
     },
     "metadata": {},
     "output_type": "display_data"
    },
    {
     "data": {
      "text/plain": [
       "'Валидационная:'"
      ]
     },
     "metadata": {},
     "output_type": "display_data"
    },
    {
     "data": {
      "text/plain": [
       "(1875, 11)"
      ]
     },
     "metadata": {},
     "output_type": "display_data"
    },
    {
     "data": {
      "text/plain": [
       "'Тестовая:'"
      ]
     },
     "metadata": {},
     "output_type": "display_data"
    },
    {
     "data": {
      "text/plain": [
       "(1875, 11)"
      ]
     },
     "metadata": {},
     "output_type": "display_data"
    }
   ],
   "source": [
    "features_test_size = features_test.shape[0]\n",
    "features_valid = shuffle(features_valid, random_state=12345)[:features_test_size]\n",
    "\n",
    "target_test_size = target_test.shape[0]\n",
    "target_valid = shuffle(target_valid, random_state=12345)[:target_test_size]\n",
    "\n",
    "\n",
    "display('Тренировочная:', features_train.shape)\n",
    "display('Валидационная:', features_valid.shape)\n",
    "display('Тестовая:', features_test.shape)"
   ]
  },
  {
   "cell_type": "markdown",
   "metadata": {
    "id": "RhT-Yj7QosjH"
   },
   "source": [
    "# Исследуйте баланс классов, обучите модель без учёта дисбаланса. \n",
    "Кратко опишите выводы.\n"
   ]
  },
  {
   "cell_type": "code",
   "execution_count": 185,
   "metadata": {
    "colab": {
     "base_uri": "https://localhost:8080/"
    },
    "id": "7KaNeZYRglaQ",
    "outputId": "75cbcb8d-60c6-40b1-89df-2b9fc9ed7db7"
   },
   "outputs": [
    {
     "name": "stdout",
     "output_type": "stream",
     "text": [
      "Баланс классов: 0    7963\n",
      "1    2037\n",
      "Name: exited, dtype: int64\n"
     ]
    }
   ],
   "source": [
    "print('Баланс классов:', target.value_counts())"
   ]
  },
  {
   "cell_type": "markdown",
   "metadata": {
    "id": "5nXGo0iptuh7"
   },
   "source": [
    "Очвидно Отрицательного класса намного больше, чем положительного"
   ]
  },
  {
   "cell_type": "markdown",
   "metadata": {
    "id": "-wtyORyFr_5i"
   },
   "source": [
    "## Модель Дерева решений"
   ]
  },
  {
   "cell_type": "code",
   "execution_count": 186,
   "metadata": {
    "colab": {
     "base_uri": "https://localhost:8080/"
    },
    "id": "EuTho1ZQr_Q1",
    "outputId": "c346fe8d-32d9-40b6-f85b-757242c10db9"
   },
   "outputs": [
    {
     "name": "stdout",
     "output_type": "stream",
     "text": [
      "Наилучшее F1 модели дерева решений на полученых даных: 0.5525902668759812 При глубине: 8 При параметре criterion: entropy При параметре splitter: best\n",
      "None\n"
     ]
    }
   ],
   "source": [
    "def dtc(features, target):\n",
    "    best_model_dtc = None\n",
    "    best_depth = 0\n",
    "    best_score_dtc = 0 \n",
    "    for splitter in [\"best\", \"random\"]:\n",
    "        for criterion in [\"gini\", \"entropy\"]:\n",
    "            for depth in range(1, 16):\n",
    "                model = DecisionTreeClassifier(criterion=criterion, splitter=splitter, random_state=12345, max_depth=depth)\n",
    "                model.fit(features, target) \n",
    "                predicted_valid = model.predict(features_valid)\n",
    "                score = f1_score(target_valid, predicted_valid)\n",
    "                if score > best_score_dtc:\n",
    "                    best_model_dtc = model\n",
    "                    best_score_dtc = score\n",
    "                    best_depth_dtc = depth\n",
    "                    best_criterion_dtc = criterion\n",
    "                    best_splitter_dtc = splitter\n",
    "    print(\"Наилучшее F1 модели дерева решений на полученых даных:\", best_score_dtc, \"При глубине:\", best_depth_dtc, \"При параметре criterion:\", best_criterion_dtc, \"При параметре splitter:\", best_splitter_dtc)\n",
    "print(dtc(features_train, target_train))\n"
   ]
  },
  {
   "cell_type": "markdown",
   "metadata": {
    "id": "mryXrpVYJbfH"
   },
   "source": [
    "## Модель случайного леса"
   ]
  },
  {
   "cell_type": "code",
   "execution_count": 187,
   "metadata": {
    "colab": {
     "base_uri": "https://localhost:8080/"
    },
    "id": "Z1Cz6SpzkrDi",
    "outputId": "95bfef02-7aa9-4163-8b0a-838de32f21d9"
   },
   "outputs": [
    {
     "name": "stdout",
     "output_type": "stream",
     "text": [
      "Наилучшее F1 модели случайного леса на полученных данных: 0.570162481536189 При глубине: 18 При параметре criterion: gini При параметре n_estimators: 9\n",
      "None\n"
     ]
    }
   ],
   "source": [
    "def rfc(features, target):\n",
    "    best_model_rfc = None\n",
    "    best_score_rfc = 0\n",
    "    best_est_rfc = 0\n",
    "    for criterion in [\"gini\", \"entropy\"]:\n",
    "        for depth in range(1, 21):\n",
    "            for est in range(1, 21):\n",
    "                model = RandomForestClassifier(criterion = criterion, max_depth=depth, random_state=12345, n_estimators=est)\n",
    "                model.fit(features, target) \n",
    "                predicted_valid = model.predict(features_valid)\n",
    "                score = f1_score(target_valid, predicted_valid)\n",
    "                if score > best_score_rfc:\n",
    "                    best_model_rfc = model\n",
    "                    best_score_rfc = score\n",
    "                    best_depth_rfc = depth\n",
    "                    best_criterion_rfc = criterion\n",
    "                    best_est_rfc = est\n",
    "    print(\"Наилучшее F1 модели случайного леса на полученных данных:\", best_score_rfc, \"При глубине:\", best_depth_rfc, \"При параметре criterion:\", best_criterion_rfc, \"При параметре n_estimators:\", best_est_rfc)\n",
    "print(rfc(features_train, target_train))"
   ]
  },
  {
   "cell_type": "markdown",
   "metadata": {
    "id": "_pOkknCqhXa_"
   },
   "source": [
    "## Логистическая регрессия\n"
   ]
  },
  {
   "cell_type": "code",
   "execution_count": 188,
   "metadata": {
    "colab": {
     "base_uri": "https://localhost:8080/"
    },
    "id": "sOAXYlUf7ZPr",
    "outputId": "c6e21a6d-1ec3-4b71-cf0c-80d0bc2401e4"
   },
   "outputs": [
    {
     "name": "stderr",
     "output_type": "stream",
     "text": [
      "/opt/conda/lib/python3.9/site-packages/sklearn/svm/_base.py:985: ConvergenceWarning: Liblinear failed to converge, increase the number of iterations.\n",
      "  warnings.warn(\"Liblinear failed to converge, increase \"\n",
      "/opt/conda/lib/python3.9/site-packages/sklearn/svm/_base.py:985: ConvergenceWarning: Liblinear failed to converge, increase the number of iterations.\n",
      "  warnings.warn(\"Liblinear failed to converge, increase \"\n"
     ]
    },
    {
     "name": "stdout",
     "output_type": "stream",
     "text": [
      "Наилучшее F1 модели логистической регрессии: 0.09954751131221719 При параметре max_iter: 30\n",
      "None\n"
     ]
    }
   ],
   "source": [
    "def lr(features, target):\n",
    "    best_model_lr = None\n",
    "    best_score_lr = 0\n",
    "    best_iter_lr = 0\n",
    "    for i in range(10, 150, 10):\n",
    "        model = LogisticRegression(random_state=12345, solver='liblinear', max_iter=i)\n",
    "        model.fit(features, target)\n",
    "        predicted_valid = model.predict(features_valid)\n",
    "        score = f1_score(target_valid, predicted_valid)\n",
    "        if score > best_score_lr:\n",
    "            best_model_lr = model\n",
    "            best_score_lr = score\n",
    "            best_iter_lr = i\n",
    "    print(\"Наилучшее F1 модели логистической регрессии:\", best_score_lr, \"При параметре max_iter:\", best_iter_lr)\n",
    "print(lr(features_train, target_train))"
   ]
  },
  {
   "cell_type": "markdown",
   "metadata": {
    "id": "HNRN0t89Dcxq"
   },
   "source": [
    "> Резюмируя проделанную работу над обучением трех моделей классификации **без балансировки классов** можно сказать, что ни одна из моделей не достигла поставленной задачи. Все модели одинаково плохо различают отрицательные и положительные классы."
   ]
  },
  {
   "cell_type": "markdown",
   "metadata": {
    "id": "JjBWPquro0LO"
   },
   "source": [
    "# Улучшите качество модели, учитывая дисбаланс классов. Обучите разные модели и найдите лучшую. Кратко опишите выводы.\n"
   ]
  },
  {
   "cell_type": "markdown",
   "metadata": {
    "id": "Y13RAVyEHDmL"
   },
   "source": [
    "## Устраняем дисбаланс классов, применяя метод upsampling\n"
   ]
  },
  {
   "cell_type": "code",
   "execution_count": 189,
   "metadata": {
    "colab": {
     "base_uri": "https://localhost:8080/"
    },
    "id": "aXZ31xr6HCk_",
    "outputId": "16d37993-6465-4431-e8c2-882733ee2d2c"
   },
   "outputs": [
    {
     "name": "stdout",
     "output_type": "stream",
     "text": [
      "Смотрим баланс классов 0    4503\n",
      "1    4488\n",
      "Name: exited, dtype: int64\n"
     ]
    }
   ],
   "source": [
    "def upsample(features, target, repeat):\n",
    "    features_zeros = features[target == 0]\n",
    "    features_ones = features[target == 1]\n",
    "    target_zeros = target[target == 0]\n",
    "    target_ones = target[target == 1]\n",
    "    \n",
    "    features_upsampled = pd.concat([features_zeros] + [features_ones] * repeat)\n",
    "    target_upsampled = pd.concat([target_zeros] + [target_ones] * repeat)\n",
    "    \n",
    "    features_upsampled, target_upsampled = shuffle(features_upsampled, target_upsampled, random_state=12345)\n",
    "    return features_upsampled, target_upsampled\n",
    "    \n",
    "features_upsampled, target_upsampled = upsample(features_train, target_train, 4)\n",
    "\n",
    "print('Смотрим баланс классов',target_upsampled.value_counts())\n",
    "\n"
   ]
  },
  {
   "cell_type": "markdown",
   "metadata": {},
   "source": [
    "## Устраняем дисбаланс классов, применяя downsampling"
   ]
  },
  {
   "cell_type": "code",
   "execution_count": 190,
   "metadata": {},
   "outputs": [
    {
     "name": "stdout",
     "output_type": "stream",
     "text": [
      "Смотрим баланс классов 0    1126\n",
      "1    1122\n",
      "Name: exited, dtype: int64\n"
     ]
    }
   ],
   "source": [
    "def downsample(features, target, fraction):\n",
    "    features_zeros = features[target == 0]\n",
    "    features_ones = features[target == 1]\n",
    "    target_zeros = target[target == 0]\n",
    "    target_ones = target[target == 1]\n",
    "\n",
    "    features_downsampled = pd.concat(\n",
    "        [features_zeros.sample(frac=fraction, random_state=12345)] + [features_ones])\n",
    "    target_downsampled = pd.concat(\n",
    "        [target_zeros.sample(frac=fraction, random_state=12345)] + [target_ones])\n",
    "    \n",
    "    features_downsampled, target_downsampled = shuffle(\n",
    "        features_downsampled, target_downsampled, random_state=12345)\n",
    "    \n",
    "    return features_downsampled, target_downsampled\n",
    "\n",
    "features_downsampled, target_downsampled = downsample(features_train, target_train, 0.25)\n",
    "print('Смотрим баланс классов',target_downsampled.value_counts())"
   ]
  },
  {
   "cell_type": "markdown",
   "metadata": {
    "id": "d7hji9LWRndu"
   },
   "source": [
    "# Тренируем и настраиваем модели на сбалансированных данных"
   ]
  },
  {
   "cell_type": "markdown",
   "metadata": {},
   "source": [
    "## Модель дерева решений"
   ]
  },
  {
   "cell_type": "code",
   "execution_count": 191,
   "metadata": {},
   "outputs": [
    {
     "name": "stdout",
     "output_type": "stream",
     "text": [
      "Результат тренировки модели дерева решений на upsampled данных\n",
      "Наилучшее F1 модели дерева решений на полученых даных: 0.5964523281596452 При глубине: 8 При параметре criterion: gini При параметре splitter: random\n",
      "None\n",
      "\n",
      "Результат тренировки модели дерева решений на downsampled данных\n",
      "Наилучшее F1 модели дерева решений на полученых даных: 0.6003898635477583 При глубине: 6 При параметре criterion: entropy При параметре splitter: best\n",
      "None\n",
      "\n",
      "Наилучшее F1 модели дерева решений на взвешенных даных: 0.5916069600818834 При глубине: 8 При параметре criterion: entropy При параметре splitter: random\n"
     ]
    }
   ],
   "source": [
    "# Тренируем на upsampled данных\n",
    "print('Результат тренировки модели дерева решений на upsampled данных')\n",
    "print(dtc(features_upsampled, target_upsampled))\n",
    "print()\n",
    "# Тренируем на downsampled данных\n",
    "print('Результат тренировки модели дерева решений на downsampled данных')\n",
    "print(dtc(features_downsampled, target_downsampled))\n",
    "print()\n",
    "# Тренируем на сбалансированных классах\n",
    "best_model_dtc = None\n",
    "best_depth = 0\n",
    "best_score_dtc = 0 \n",
    "for splitter in [\"best\", \"random\"]:\n",
    "    for criterion in [\"gini\", \"entropy\"]:\n",
    "        for depth in range(1, 16):\n",
    "            model = DecisionTreeClassifier(criterion=criterion, class_weight='balanced', splitter=splitter, random_state=12345, max_depth=depth)\n",
    "            model.fit(features_train, target_train) \n",
    "            predicted_valid = model.predict(features_valid)\n",
    "            score = f1_score(target_valid, predicted_valid)\n",
    "            if score > best_score_dtc:\n",
    "                best_model_dtc = model\n",
    "                best_score_dtc = score\n",
    "                best_depth_dtc = depth\n",
    "                best_criterion_dtc = criterion\n",
    "                best_splitter_dtc = splitter\n",
    "print(\"Наилучшее F1 модели дерева решений на взвешенных даных:\", best_score_dtc, \"При глубине:\", best_depth_dtc, \"При параметре criterion:\", best_criterion_dtc, \"При параметре splitter:\", best_splitter_dtc)\n"
   ]
  },
  {
   "cell_type": "markdown",
   "metadata": {},
   "source": [
    "## Модель случайного леса"
   ]
  },
  {
   "cell_type": "code",
   "execution_count": 192,
   "metadata": {},
   "outputs": [
    {
     "name": "stdout",
     "output_type": "stream",
     "text": [
      "Результат тренировки модели случайного леса на upsampled данных\n",
      "Наилучшее F1 модели случайного леса на полученных данных: 0.6482758620689655 При глубине: 9 При параметре criterion: entropy При параметре n_estimators: 13\n",
      "None\n",
      "\n",
      "Результат тренировки модели случайного леса на downsampled данных\n",
      "Наилучшее F1 модели случайного леса на полученных данных: 0.6233766233766235 При глубине: 4 При параметре criterion: entropy При параметре n_estimators: 9\n",
      "None\n",
      "\n",
      "Наилучшее F1 модели случайного леса на взвешенных данных: 0.6437291897891232 При глубине: 7 При параметре criterion: gini При параметре n_estimators: 17\n"
     ]
    }
   ],
   "source": [
    "# Тренируем на downsampled данных\n",
    "print('Результат тренировки модели случайного леса на upsampled данных')\n",
    "print(rfc(features_upsampled, target_upsampled))\n",
    "print()\n",
    "# Тренируем на downsampled данных\n",
    "print('Результат тренировки модели случайного леса на downsampled данных')\n",
    "print(rfc(features_downsampled, target_downsampled))\n",
    "print()\n",
    "\n",
    "# Тренируем на взвешенных данных\n",
    "best_model_rfc = None\n",
    "best_score_rfc = 0\n",
    "best_est_rfc = 0\n",
    "for criterion in [\"gini\", \"entropy\"]:\n",
    "    for depth in range(1, 21):\n",
    "        for est in range(1, 21):\n",
    "            model = RandomForestClassifier(criterion = criterion, class_weight='balanced', max_depth=depth, random_state=12345, n_estimators=est) # обучите модель с заданным количеством деревьев\n",
    "            model.fit(features_train, target_train) \n",
    "            predicted_valid = model.predict(features_valid)\n",
    "            score = f1_score(target_valid, predicted_valid)\n",
    "            if score > best_score_rfc:\n",
    "                best_model_rfc = model\n",
    "                best_score_rfc = score\n",
    "                best_depth_rfc = depth\n",
    "                best_criterion_rfc = criterion\n",
    "                best_est_rfc = est\n",
    "print(\"Наилучшее F1 модели случайного леса на взвешенных данных:\", best_score_rfc, \"При глубине:\", best_depth_rfc, \"При параметре criterion:\", best_criterion_rfc, \"При параметре n_estimators:\", best_est_rfc)"
   ]
  },
  {
   "cell_type": "markdown",
   "metadata": {},
   "source": [
    "## Модель логистической регрессии "
   ]
  },
  {
   "cell_type": "code",
   "execution_count": 193,
   "metadata": {
    "colab": {
     "base_uri": "https://localhost:8080/"
    },
    "id": "5wztrhjfXr_b",
    "outputId": "0d4eeb69-bbc2-4bd3-c527-162c48d482ea"
   },
   "outputs": [
    {
     "name": "stdout",
     "output_type": "stream",
     "text": [
      "Результат тренировки модели логистической регрессии на upsampled данных\n"
     ]
    },
    {
     "name": "stderr",
     "output_type": "stream",
     "text": [
      "/opt/conda/lib/python3.9/site-packages/sklearn/svm/_base.py:985: ConvergenceWarning: Liblinear failed to converge, increase the number of iterations.\n",
      "  warnings.warn(\"Liblinear failed to converge, increase \"\n"
     ]
    },
    {
     "name": "stdout",
     "output_type": "stream",
     "text": [
      "Наилучшее F1 модели логистической регрессии: 0.4477611940298507 При параметре max_iter: 20\n",
      "None\n",
      "\n",
      "Результат тренировки модели логистической регрессии на downsampled данных\n"
     ]
    },
    {
     "name": "stderr",
     "output_type": "stream",
     "text": [
      "/opt/conda/lib/python3.9/site-packages/sklearn/svm/_base.py:985: ConvergenceWarning: Liblinear failed to converge, increase the number of iterations.\n",
      "  warnings.warn(\"Liblinear failed to converge, increase \"\n"
     ]
    },
    {
     "name": "stdout",
     "output_type": "stream",
     "text": [
      "Наилучшее F1 модели логистической регрессии: 0.4437030859049208 При параметре max_iter: 20\n",
      "None\n",
      "\n"
     ]
    },
    {
     "name": "stderr",
     "output_type": "stream",
     "text": [
      "/opt/conda/lib/python3.9/site-packages/sklearn/svm/_base.py:985: ConvergenceWarning: Liblinear failed to converge, increase the number of iterations.\n",
      "  warnings.warn(\"Liblinear failed to converge, increase \"\n"
     ]
    },
    {
     "name": "stdout",
     "output_type": "stream",
     "text": [
      "Наилучшее F1 модели логистической регрессии на взвешенных данных: 0.441860465116279 При параметре max_iter: 20\n",
      "\n"
     ]
    }
   ],
   "source": [
    "# Тренируем на downsampled данных\n",
    "print('Результат тренировки модели логистической регрессии на upsampled данных')\n",
    "print(lr(features_upsampled, target_upsampled))\n",
    "print()\n",
    "# Тренируем на downsampled данных\n",
    "print('Результат тренировки модели логистической регрессии на downsampled данных')\n",
    "print(lr(features_downsampled, target_downsampled))\n",
    "print()\n",
    "# Тренируем на взвешенных данных\n",
    "best_model_lr = None\n",
    "best_score_lr = 0\n",
    "best_iter_lr = 0\n",
    "for i in range(10, 150, 10):\n",
    "    model = LogisticRegression(random_state=12345, class_weight='balanced', solver='liblinear', max_iter=i)\n",
    "    model.fit(features_train, target_train)\n",
    "    predicted_valid = model.predict(features_valid)\n",
    "    score = f1_score(target_valid, predicted_valid)\n",
    "    if score > best_score_lr:\n",
    "        best_model_lr = model\n",
    "        best_score_lr = score\n",
    "        best_iter_lr = i\n",
    "print(\"Наилучшее F1 модели логистической регрессии на взвешенных данных:\", best_score_lr, \"При параметре max_iter:\", best_iter_lr) # сохраните наилучшую модель\n",
    "print()"
   ]
  },
  {
   "cell_type": "markdown",
   "metadata": {
    "id": "jzk3BhHtfmwT"
   },
   "source": [
    "Балансирование данных помогло улучшить способность моделей распознавать классы обьектов. Лучше всего с этой задачей справляется **модель случайного леса** на upsampled данных, при глубине: 9, параметре criterion: entropy, параметре n_estimators: 13"
   ]
  },
  {
   "cell_type": "markdown",
   "metadata": {
    "id": "CTUKmsYro3PO"
   },
   "source": [
    "# Проведите финальное тестирование.\n",
    "\n"
   ]
  },
  {
   "cell_type": "code",
   "execution_count": 194,
   "metadata": {
    "colab": {
     "base_uri": "https://localhost:8080/",
     "height": 1000
    },
    "id": "w00sYgrogWpH",
    "outputId": "2b175c26-b96b-4d2d-b042-6f1bef5559f7"
   },
   "outputs": [
    {
     "name": "stdout",
     "output_type": "stream",
     "text": [
      "Результат тестирования модели случайного леса на upsampled данных\n",
      "AUC-ROC модели на тестовой выборке c использованием upsampled данных: 0.8669679633867275\n",
      "F1 модели на тестовой выборке c использованием upsampled данных: 0.6162657502863689\n",
      "\n"
     ]
    },
    {
     "data": {
      "image/png": "[encoded data removed]",
      "text/plain": [
       "<Figure size 432x288 with 1 Axes>"
      ]
     },
     "metadata": {
      "needs_background": "light"
     },
     "output_type": "display_data"
    },
    {
     "name": "stdout",
     "output_type": "stream",
     "text": [
      "\n",
      "Результат тестирования модели случайного леса на взвешенных данных\n",
      "AUC-ROC модели на тестовой выборке c использованием взвешенных данных: 0.8613069882063016\n",
      "F1 модели на тестовой выборке c использованием взвешенных данных: 0.6090808416389812\n",
      "\n"
     ]
    },
    {
     "data": {
      "image/png": "[encoded data removed]",
      "text/plain": [
       "<Figure size 432x288 with 1 Axes>"
      ]
     },
     "metadata": {
      "needs_background": "light"
     },
     "output_type": "display_data"
    }
   ],
   "source": [
    "# Тренируем на upsampled данных\n",
    "print('Результат тестирования модели случайного леса на upsampled данных')\n",
    "model = RandomForestClassifier(criterion='entropy', max_depth=9, random_state=12345, n_estimators=13)\n",
    "model.fit(features_upsampled, target_upsampled)\n",
    "predicted_test = model.predict(features_test)\n",
    "probabilities_test = model.predict_proba(features_test)\n",
    "probabilities_one_test = probabilities_test[:, 1]\n",
    "score = f1_score(target_test, predicted_test)\n",
    "auc_roc = roc_auc_score(target_test, probabilities_one_test)\n",
    "f1 = f1_score(target_test, predicted_test)\n",
    "print('AUC-ROC модели на тестовой выборке c использованием upsampled данных:', auc_roc)\n",
    "print('F1 модели на тестовой выборке c использованием upsampled данных:', f1)\n",
    "print()\n",
    "fpr, tpr, thresholds = roc_curve(target_test, probabilities_one_valid) \n",
    "\n",
    "plt.figure()\n",
    "plt.plot(fpr, tpr)\n",
    "plt.plot([0, 1], [0, 1], linestyle='--')\n",
    "plt.ylim([0.0, 1.0])\n",
    "plt.xlim([0.0, 1.0])\n",
    "plt.ylabel('True Positive Rate')\n",
    "plt.xlabel('False Positive Rate')\n",
    "plt.title('ROC-кривая модели c использованием взвешенных данных')\n",
    "plt.show()\n",
    "print()\n",
    "\n",
    "# Тренируем на взвешенных данных\n",
    "print('Результат тестирования модели случайного леса на взвешенных данных')\n",
    "model = RandomForestClassifier(criterion='gini', max_depth=7, class_weight='balanced', random_state=12345, n_estimators=17)\n",
    "model.fit(features_upsampled, target_upsampled)\n",
    "predicted_test = model.predict(features_test)\n",
    "probabilities_test = model.predict_proba(features_test)\n",
    "probabilities_one_test = probabilities_test[:, 1]\n",
    "score = f1_score(target_test, predicted_test)\n",
    "auc_roc = roc_auc_score(target_test, probabilities_one_test)\n",
    "f1 = f1_score(target_test, predicted_test)\n",
    "print('AUC-ROC модели на тестовой выборке c использованием взвешенных данных:', auc_roc)\n",
    "print('F1 модели на тестовой выборке c использованием взвешенных данных:', f1)\n",
    "print()\n",
    "fpr, tpr, thresholds = roc_curve(target_test, probabilities_one_valid) \n",
    "\n",
    "plt.figure()\n",
    "plt.plot(fpr, tpr)\n",
    "plt.plot([0, 1], [0, 1], linestyle='--')\n",
    "plt.ylim([0.0, 1.0])\n",
    "plt.xlim([0.0, 1.0])\n",
    "plt.ylabel('True Positive Rate')\n",
    "plt.xlabel('False Positive Rate')\n",
    "plt.title('ROC-кривая модели c использованием взвешенных данных')\n",
    "plt.show()\n",
    "\n"
   ]
  },
  {
   "cell_type": "markdown",
   "metadata": {
    "id": "FyaoL5zqf8w6"
   },
   "source": [
    "> На тестовой выборке достигла поставленной задачи и только **модель случайного леса** с методом балансировки данных upsample. Значение метрики AUC-ROC при этом коррелирует со значением F1 меры\n",
    "\n"
   ]
  },
  {
   "cell_type": "markdown",
   "metadata": {
    "id": "jWdbI4Ez0wDr"
   },
   "source": [
    "# Общий вывод"
   ]
  },
  {
   "cell_type": "markdown",
   "metadata": {
    "id": "go9d9Glt00bU"
   },
   "source": [
    "Наиболее успешно прогноризует отток клиентов **модель случайного леса** со сбалансированными данными по методу upsample и гиперпараметрами criterion='entropy', max_depth=9, n_estimators=13\n",
    "\n",
    "AUC-ROC модели на тестовой выборке c использованием upsampled данных: 0.8669679633867275\n",
    "F1 модели на тестовой выборке c использованием upsampled данных: 0.6162657502863689\n",
    "\n",
    "Цель достигнута."
   ]
  }
 ],
 "metadata": {
  "ExecuteTimeLog": [
   {
    "duration": 1887,
    "start_time": "2023-05-24T13:22:49.069Z"
   },
   {
    "duration": 6,
    "start_time": "2023-05-24T13:22:50.959Z"
   },
   {
    "duration": 22,
    "start_time": "2023-05-24T13:22:50.967Z"
   },
   {
    "duration": 39,
    "start_time": "2023-05-24T13:22:50.991Z"
   },
   {
    "duration": 970,
    "start_time": "2023-05-24T13:22:51.034Z"
   },
   {
    "duration": 64,
    "start_time": "2023-05-24T13:22:52.006Z"
   },
   {
    "duration": 1314,
    "start_time": "2023-05-24T13:22:52.072Z"
   },
   {
    "duration": 74032,
    "start_time": "2023-05-24T13:22:53.388Z"
   },
   {
    "duration": 464,
    "start_time": "2023-05-24T13:24:07.426Z"
   },
   {
    "duration": 141,
    "start_time": "2023-05-24T13:24:07.892Z"
   },
   {
    "duration": 393,
    "start_time": "2023-05-24T13:24:08.035Z"
   },
   {
    "duration": 1386,
    "start_time": "2023-05-24T13:24:08.431Z"
   },
   {
    "duration": 9,
    "start_time": "2023-05-24T14:53:18.740Z"
   },
   {
    "duration": 191,
    "start_time": "2023-05-24T14:58:06.758Z"
   },
   {
    "duration": 4,
    "start_time": "2023-05-24T14:58:06.952Z"
   },
   {
    "duration": 15,
    "start_time": "2023-05-24T14:58:06.959Z"
   },
   {
    "duration": 34,
    "start_time": "2023-05-24T14:58:06.977Z"
   },
   {
    "duration": 15,
    "start_time": "2023-05-24T14:58:07.028Z"
   },
   {
    "duration": 19,
    "start_time": "2023-05-24T14:58:07.048Z"
   },
   {
    "duration": 6,
    "start_time": "2023-05-24T14:58:07.069Z"
   },
   {
    "duration": 1207,
    "start_time": "2023-05-24T14:58:07.076Z"
   },
   {
    "duration": 66580,
    "start_time": "2023-05-24T14:58:08.285Z"
   },
   {
    "duration": 54,
    "start_time": "2023-05-25T10:29:37.192Z"
   },
   {
    "duration": 1582,
    "start_time": "2023-05-25T10:29:41.438Z"
   },
   {
    "duration": 300,
    "start_time": "2023-05-25T10:29:43.022Z"
   },
   {
    "duration": 3,
    "start_time": "2023-05-25T10:29:43.323Z"
   },
   {
    "duration": 27,
    "start_time": "2023-05-25T10:29:43.328Z"
   },
   {
    "duration": 20,
    "start_time": "2023-05-25T10:29:43.357Z"
   },
   {
    "duration": 9,
    "start_time": "2023-05-25T10:29:43.378Z"
   },
   {
    "duration": 9,
    "start_time": "2023-05-25T10:29:43.388Z"
   },
   {
    "duration": 11,
    "start_time": "2023-05-25T10:29:43.398Z"
   },
   {
    "duration": 856,
    "start_time": "2023-05-25T10:29:43.412Z"
   },
   {
    "duration": 48974,
    "start_time": "2023-05-25T10:29:44.269Z"
   },
   {
    "duration": 1864,
    "start_time": "2023-05-25T10:30:33.245Z"
   },
   {
    "duration": 105,
    "start_time": "2023-05-25T10:30:35.117Z"
   },
   {
    "duration": 207,
    "start_time": "2023-05-25T10:30:35.224Z"
   },
   {
    "duration": 982,
    "start_time": "2023-05-25T10:30:35.433Z"
   },
   {
    "duration": 15,
    "start_time": "2023-05-25T12:13:27.860Z"
   },
   {
    "duration": 99,
    "start_time": "2023-05-25T12:14:00.309Z"
   },
   {
    "duration": 13,
    "start_time": "2023-05-25T12:20:28.276Z"
   },
   {
    "duration": 12,
    "start_time": "2023-05-25T12:20:41.493Z"
   },
   {
    "duration": 13,
    "start_time": "2023-05-25T12:21:26.226Z"
   },
   {
    "duration": 12,
    "start_time": "2023-05-25T12:22:16.553Z"
   },
   {
    "duration": 13,
    "start_time": "2023-05-25T12:22:22.771Z"
   },
   {
    "duration": 17,
    "start_time": "2023-05-25T12:22:27.736Z"
   },
   {
    "duration": 4,
    "start_time": "2023-05-25T12:36:08.141Z"
   },
   {
    "duration": 121,
    "start_time": "2023-05-25T12:36:08.146Z"
   },
   {
    "duration": 3,
    "start_time": "2023-05-25T12:36:08.268Z"
   },
   {
    "duration": 10,
    "start_time": "2023-05-25T12:36:08.272Z"
   },
   {
    "duration": 23,
    "start_time": "2023-05-25T12:36:08.283Z"
   },
   {
    "duration": 12,
    "start_time": "2023-05-25T12:36:08.307Z"
   },
   {
    "duration": 8,
    "start_time": "2023-05-25T12:36:08.320Z"
   },
   {
    "duration": 4,
    "start_time": "2023-05-25T12:36:08.329Z"
   },
   {
    "duration": 772,
    "start_time": "2023-05-25T12:36:08.335Z"
   },
   {
    "duration": 43711,
    "start_time": "2023-05-25T12:36:09.109Z"
   },
   {
    "duration": 2390,
    "start_time": "2023-05-25T12:36:52.821Z"
   },
   {
    "duration": 102,
    "start_time": "2023-05-25T12:36:55.212Z"
   },
   {
    "duration": 110,
    "start_time": "2023-05-25T12:36:55.315Z"
   },
   {
    "duration": 2187,
    "start_time": "2023-05-25T12:36:55.427Z"
   },
   {
    "duration": 134,
    "start_time": "2023-05-25T12:36:57.616Z"
   },
   {
    "duration": 58,
    "start_time": "2023-05-25T12:36:57.751Z"
   },
   {
    "duration": 781,
    "start_time": "2023-05-25T12:36:57.810Z"
   },
   {
    "duration": 2162,
    "start_time": "2023-05-25T12:37:47.378Z"
   },
   {
    "duration": 22,
    "start_time": "2023-05-25T12:43:38.524Z"
   },
   {
    "duration": 3,
    "start_time": "2023-05-25T12:44:06.754Z"
   },
   {
    "duration": 126,
    "start_time": "2023-05-25T12:44:06.759Z"
   },
   {
    "duration": 3,
    "start_time": "2023-05-25T12:44:06.887Z"
   },
   {
    "duration": 9,
    "start_time": "2023-05-25T12:44:06.892Z"
   },
   {
    "duration": 16,
    "start_time": "2023-05-25T12:44:06.902Z"
   },
   {
    "duration": 7,
    "start_time": "2023-05-25T12:44:06.919Z"
   },
   {
    "duration": 9,
    "start_time": "2023-05-25T12:44:06.928Z"
   },
   {
    "duration": 5,
    "start_time": "2023-05-25T12:44:06.939Z"
   },
   {
    "duration": 72,
    "start_time": "2023-05-25T12:44:06.945Z"
   },
   {
    "duration": 0,
    "start_time": "2023-05-25T12:44:07.018Z"
   },
   {
    "duration": 0,
    "start_time": "2023-05-25T12:44:07.020Z"
   },
   {
    "duration": 0,
    "start_time": "2023-05-25T12:44:07.020Z"
   },
   {
    "duration": 12,
    "start_time": "2023-05-25T12:44:07.027Z"
   },
   {
    "duration": 2200,
    "start_time": "2023-05-25T12:44:07.075Z"
   },
   {
    "duration": 9,
    "start_time": "2023-05-25T12:44:09.276Z"
   },
   {
    "duration": 0,
    "start_time": "2023-05-25T12:44:09.286Z"
   },
   {
    "duration": 0,
    "start_time": "2023-05-25T12:44:09.287Z"
   },
   {
    "duration": 22,
    "start_time": "2023-05-25T12:45:55.146Z"
   },
   {
    "duration": 23,
    "start_time": "2023-05-25T12:46:16.378Z"
   },
   {
    "duration": 774,
    "start_time": "2023-05-25T12:46:56.239Z"
   },
   {
    "duration": 753,
    "start_time": "2023-05-25T12:47:26.187Z"
   },
   {
    "duration": 21,
    "start_time": "2023-05-25T12:48:01.277Z"
   },
   {
    "duration": 43397,
    "start_time": "2023-05-25T12:48:19.794Z"
   },
   {
    "duration": 2135,
    "start_time": "2023-05-25T12:49:57.875Z"
   },
   {
    "duration": 2572,
    "start_time": "2023-05-25T12:50:30.838Z"
   },
   {
    "duration": 68,
    "start_time": "2023-05-25T12:57:38.459Z"
   },
   {
    "duration": 10,
    "start_time": "2023-05-25T12:57:43.016Z"
   },
   {
    "duration": 2636,
    "start_time": "2023-05-25T13:00:28.323Z"
   },
   {
    "duration": 131116,
    "start_time": "2023-05-25T13:06:19.440Z"
   },
   {
    "duration": 2254,
    "start_time": "2023-05-25T13:08:30.558Z"
   },
   {
    "duration": 78555,
    "start_time": "2023-05-25T13:09:41.160Z"
   },
   {
    "duration": 0,
    "start_time": "2023-05-25T13:10:59.716Z"
   },
   {
    "duration": 11,
    "start_time": "2023-05-25T13:11:06.286Z"
   },
   {
    "duration": 2540,
    "start_time": "2023-05-25T13:11:23.675Z"
   },
   {
    "duration": 6426,
    "start_time": "2023-05-25T13:11:30.985Z"
   },
   {
    "duration": 3,
    "start_time": "2023-05-25T13:17:50.432Z"
   },
   {
    "duration": 19,
    "start_time": "2023-05-25T13:25:10.599Z"
   },
   {
    "duration": 17,
    "start_time": "2023-05-25T13:25:26.778Z"
   },
   {
    "duration": 20,
    "start_time": "2023-05-25T13:27:42.849Z"
   },
   {
    "duration": 4,
    "start_time": "2023-05-25T13:30:54.473Z"
   },
   {
    "duration": 158,
    "start_time": "2023-05-25T13:30:54.479Z"
   },
   {
    "duration": 3,
    "start_time": "2023-05-25T13:30:54.639Z"
   },
   {
    "duration": 14,
    "start_time": "2023-05-25T13:30:54.644Z"
   },
   {
    "duration": 24,
    "start_time": "2023-05-25T13:30:54.660Z"
   },
   {
    "duration": 10,
    "start_time": "2023-05-25T13:30:54.685Z"
   },
   {
    "duration": 28,
    "start_time": "2023-05-25T13:30:54.697Z"
   },
   {
    "duration": 5,
    "start_time": "2023-05-25T13:30:54.726Z"
   },
   {
    "duration": 818,
    "start_time": "2023-05-25T13:30:54.774Z"
   },
   {
    "duration": 37217,
    "start_time": "2023-05-25T13:30:55.594Z"
   },
   {
    "duration": 0,
    "start_time": "2023-05-25T13:31:32.818Z"
   },
   {
    "duration": 0,
    "start_time": "2023-05-25T13:31:32.818Z"
   },
   {
    "duration": 0,
    "start_time": "2023-05-25T13:31:32.826Z"
   },
   {
    "duration": 0,
    "start_time": "2023-05-25T13:31:32.827Z"
   },
   {
    "duration": 0,
    "start_time": "2023-05-25T13:31:32.829Z"
   },
   {
    "duration": 0,
    "start_time": "2023-05-25T13:31:32.830Z"
   },
   {
    "duration": 0,
    "start_time": "2023-05-25T13:31:32.831Z"
   },
   {
    "duration": 0,
    "start_time": "2023-05-25T13:31:32.833Z"
   },
   {
    "duration": 33,
    "start_time": "2023-05-25T13:31:34.790Z"
   },
   {
    "duration": 19,
    "start_time": "2023-05-25T13:31:42.054Z"
   },
   {
    "duration": 0,
    "start_time": "2023-05-25T13:31:42.075Z"
   },
   {
    "duration": 946,
    "start_time": "2023-05-25T13:31:42.155Z"
   },
   {
    "duration": 0,
    "start_time": "2023-05-25T13:32:19.129Z"
   },
   {
    "duration": 0,
    "start_time": "2023-05-25T13:32:19.129Z"
   },
   {
    "duration": 0,
    "start_time": "2023-05-25T13:32:19.130Z"
   },
   {
    "duration": 0,
    "start_time": "2023-05-25T13:32:19.131Z"
   },
   {
    "duration": 0,
    "start_time": "2023-05-25T13:32:19.132Z"
   },
   {
    "duration": 0,
    "start_time": "2023-05-25T13:32:19.133Z"
   },
   {
    "duration": 0,
    "start_time": "2023-05-25T13:32:19.134Z"
   },
   {
    "duration": 0,
    "start_time": "2023-05-25T13:32:19.135Z"
   },
   {
    "duration": 0,
    "start_time": "2023-05-25T13:32:19.136Z"
   },
   {
    "duration": 0,
    "start_time": "2023-05-25T13:32:19.137Z"
   },
   {
    "duration": 0,
    "start_time": "2023-05-25T13:32:19.138Z"
   },
   {
    "duration": 0,
    "start_time": "2023-05-25T13:32:19.139Z"
   },
   {
    "duration": 0,
    "start_time": "2023-05-25T13:32:19.140Z"
   },
   {
    "duration": 0,
    "start_time": "2023-05-25T13:32:19.141Z"
   },
   {
    "duration": 0,
    "start_time": "2023-05-25T13:32:19.143Z"
   },
   {
    "duration": 0,
    "start_time": "2023-05-25T13:32:19.144Z"
   },
   {
    "duration": 0,
    "start_time": "2023-05-25T13:32:19.145Z"
   },
   {
    "duration": 4,
    "start_time": "2023-05-25T13:32:22.146Z"
   },
   {
    "duration": 153,
    "start_time": "2023-05-25T13:32:22.151Z"
   },
   {
    "duration": 7,
    "start_time": "2023-05-25T13:32:22.305Z"
   },
   {
    "duration": 17,
    "start_time": "2023-05-25T13:32:22.314Z"
   },
   {
    "duration": 33,
    "start_time": "2023-05-25T13:32:22.333Z"
   },
   {
    "duration": 11,
    "start_time": "2023-05-25T13:32:22.369Z"
   },
   {
    "duration": 33,
    "start_time": "2023-05-25T13:32:22.382Z"
   },
   {
    "duration": 6,
    "start_time": "2023-05-25T13:32:22.416Z"
   },
   {
    "duration": 843,
    "start_time": "2023-05-25T13:32:22.484Z"
   },
   {
    "duration": 46882,
    "start_time": "2023-05-25T13:32:23.329Z"
   },
   {
    "duration": 0,
    "start_time": "2023-05-25T13:33:10.216Z"
   },
   {
    "duration": 0,
    "start_time": "2023-05-25T13:33:10.217Z"
   },
   {
    "duration": 0,
    "start_time": "2023-05-25T13:33:10.218Z"
   },
   {
    "duration": 0,
    "start_time": "2023-05-25T13:33:10.218Z"
   },
   {
    "duration": 0,
    "start_time": "2023-05-25T13:33:10.219Z"
   },
   {
    "duration": 0,
    "start_time": "2023-05-25T13:33:10.220Z"
   },
   {
    "duration": 0,
    "start_time": "2023-05-25T13:33:10.221Z"
   },
   {
    "duration": 6,
    "start_time": "2023-05-25T13:33:12.594Z"
   },
   {
    "duration": 152,
    "start_time": "2023-05-25T13:33:12.602Z"
   },
   {
    "duration": 4,
    "start_time": "2023-05-25T13:33:12.755Z"
   },
   {
    "duration": 9,
    "start_time": "2023-05-25T13:33:12.762Z"
   },
   {
    "duration": 16,
    "start_time": "2023-05-25T13:33:12.773Z"
   },
   {
    "duration": 21,
    "start_time": "2023-05-25T13:33:12.791Z"
   },
   {
    "duration": 20,
    "start_time": "2023-05-25T13:33:12.816Z"
   },
   {
    "duration": 5,
    "start_time": "2023-05-25T13:33:12.837Z"
   },
   {
    "duration": 857,
    "start_time": "2023-05-25T13:33:12.877Z"
   },
   {
    "duration": 49884,
    "start_time": "2023-05-25T13:33:13.736Z"
   },
   {
    "duration": 2298,
    "start_time": "2023-05-25T13:34:03.625Z"
   },
   {
    "duration": 90,
    "start_time": "2023-05-25T13:34:05.927Z"
   },
   {
    "duration": 99,
    "start_time": "2023-05-25T13:34:06.020Z"
   },
   {
    "duration": 2422,
    "start_time": "2023-05-25T13:34:06.120Z"
   },
   {
    "duration": 144997,
    "start_time": "2023-05-25T13:34:08.543Z"
   },
   {
    "duration": 5784,
    "start_time": "2023-05-25T13:36:33.542Z"
   },
   {
    "duration": 51835,
    "start_time": "2023-05-25T13:36:39.327Z"
   },
   {
    "duration": 0,
    "start_time": "2023-05-25T13:37:31.165Z"
   },
   {
    "duration": 4,
    "start_time": "2023-05-25T13:37:32.692Z"
   },
   {
    "duration": 187,
    "start_time": "2023-05-25T13:37:32.698Z"
   },
   {
    "duration": 3,
    "start_time": "2023-05-25T13:37:32.887Z"
   },
   {
    "duration": 32,
    "start_time": "2023-05-25T13:37:32.893Z"
   },
   {
    "duration": 26,
    "start_time": "2023-05-25T13:37:32.926Z"
   },
   {
    "duration": 9,
    "start_time": "2023-05-25T13:37:32.954Z"
   },
   {
    "duration": 18,
    "start_time": "2023-05-25T13:37:32.996Z"
   },
   {
    "duration": 4,
    "start_time": "2023-05-25T13:37:33.016Z"
   },
   {
    "duration": 29,
    "start_time": "2023-05-25T13:37:33.022Z"
   },
   {
    "duration": 33,
    "start_time": "2023-05-25T13:37:33.105Z"
   },
   {
    "duration": 0,
    "start_time": "2023-05-25T13:37:33.140Z"
   },
   {
    "duration": 26,
    "start_time": "2023-05-25T13:37:33.207Z"
   },
   {
    "duration": 17,
    "start_time": "2023-05-25T13:37:33.238Z"
   },
   {
    "duration": 31,
    "start_time": "2023-05-25T13:37:33.335Z"
   },
   {
    "duration": 46,
    "start_time": "2023-05-25T13:37:33.403Z"
   },
   {
    "duration": 0,
    "start_time": "2023-05-25T13:37:33.451Z"
   },
   {
    "duration": 37,
    "start_time": "2023-05-25T13:37:33.594Z"
   },
   {
    "duration": 17,
    "start_time": "2023-05-25T13:38:23.723Z"
   },
   {
    "duration": 22,
    "start_time": "2023-05-25T13:39:06.028Z"
   },
   {
    "duration": 26,
    "start_time": "2023-05-25T13:41:57.606Z"
   },
   {
    "duration": 14,
    "start_time": "2023-05-25T13:42:42.544Z"
   },
   {
    "duration": 4,
    "start_time": "2023-05-25T13:42:54.977Z"
   },
   {
    "duration": 148,
    "start_time": "2023-05-25T13:42:54.982Z"
   },
   {
    "duration": 4,
    "start_time": "2023-05-25T13:42:55.132Z"
   },
   {
    "duration": 10,
    "start_time": "2023-05-25T13:42:55.140Z"
   },
   {
    "duration": 23,
    "start_time": "2023-05-25T13:42:55.153Z"
   },
   {
    "duration": 9,
    "start_time": "2023-05-25T13:42:55.178Z"
   },
   {
    "duration": 15,
    "start_time": "2023-05-25T13:42:55.304Z"
   },
   {
    "duration": 11,
    "start_time": "2023-05-25T13:42:55.322Z"
   },
   {
    "duration": 4,
    "start_time": "2023-05-25T13:42:55.334Z"
   },
   {
    "duration": 837,
    "start_time": "2023-05-25T13:42:55.486Z"
   },
   {
    "duration": 47698,
    "start_time": "2023-05-25T13:42:56.325Z"
   },
   {
    "duration": 2099,
    "start_time": "2023-05-25T13:43:44.025Z"
   },
   {
    "duration": 93,
    "start_time": "2023-05-25T13:43:46.127Z"
   },
   {
    "duration": 11,
    "start_time": "2023-05-25T13:43:46.222Z"
   },
   {
    "duration": 2298,
    "start_time": "2023-05-25T13:43:46.235Z"
   },
   {
    "duration": 145810,
    "start_time": "2023-05-25T13:43:48.534Z"
   },
   {
    "duration": 5584,
    "start_time": "2023-05-25T13:46:14.348Z"
   },
   {
    "duration": 114110,
    "start_time": "2023-05-25T13:46:19.938Z"
   },
   {
    "duration": 20,
    "start_time": "2023-05-25T13:54:11.478Z"
   },
   {
    "duration": 101,
    "start_time": "2023-05-25T13:57:23.375Z"
   },
   {
    "duration": 91,
    "start_time": "2023-05-25T13:57:32.779Z"
   },
   {
    "duration": 582,
    "start_time": "2023-05-25T13:57:52.176Z"
   },
   {
    "duration": 3,
    "start_time": "2023-05-25T13:59:02.160Z"
   },
   {
    "duration": 184,
    "start_time": "2023-05-25T13:59:02.165Z"
   },
   {
    "duration": 3,
    "start_time": "2023-05-25T13:59:02.350Z"
   },
   {
    "duration": 41,
    "start_time": "2023-05-25T13:59:02.355Z"
   },
   {
    "duration": 22,
    "start_time": "2023-05-25T13:59:02.398Z"
   },
   {
    "duration": 9,
    "start_time": "2023-05-25T13:59:02.422Z"
   },
   {
    "duration": 21,
    "start_time": "2023-05-25T13:59:02.433Z"
   },
   {
    "duration": 26,
    "start_time": "2023-05-25T13:59:02.456Z"
   },
   {
    "duration": 8,
    "start_time": "2023-05-25T13:59:02.484Z"
   },
   {
    "duration": 852,
    "start_time": "2023-05-25T13:59:02.495Z"
   },
   {
    "duration": 45148,
    "start_time": "2023-05-25T13:59:03.349Z"
   },
   {
    "duration": 2529,
    "start_time": "2023-05-25T13:59:48.499Z"
   },
   {
    "duration": 96,
    "start_time": "2023-05-25T13:59:51.031Z"
   },
   {
    "duration": 18,
    "start_time": "2023-05-25T13:59:51.207Z"
   },
   {
    "duration": 2324,
    "start_time": "2023-05-25T13:59:51.226Z"
   },
   {
    "duration": 131470,
    "start_time": "2023-05-25T13:59:53.552Z"
   },
   {
    "duration": 5609,
    "start_time": "2023-05-25T14:02:05.024Z"
   },
   {
    "duration": 522,
    "start_time": "2023-05-25T14:02:10.707Z"
   },
   {
    "duration": 4,
    "start_time": "2023-05-25T14:06:40.678Z"
   },
   {
    "duration": 198,
    "start_time": "2023-05-25T14:06:40.684Z"
   },
   {
    "duration": 3,
    "start_time": "2023-05-25T14:06:40.884Z"
   },
   {
    "duration": 11,
    "start_time": "2023-05-25T14:06:40.889Z"
   },
   {
    "duration": 14,
    "start_time": "2023-05-25T14:06:40.902Z"
   },
   {
    "duration": 13,
    "start_time": "2023-05-25T14:06:40.917Z"
   },
   {
    "duration": 10,
    "start_time": "2023-05-25T14:06:40.931Z"
   },
   {
    "duration": 9,
    "start_time": "2023-05-25T14:06:40.943Z"
   },
   {
    "duration": 4,
    "start_time": "2023-05-25T14:06:40.954Z"
   },
   {
    "duration": 741,
    "start_time": "2023-05-25T14:06:40.979Z"
   },
   {
    "duration": 42942,
    "start_time": "2023-05-25T14:06:41.722Z"
   },
   {
    "duration": 2545,
    "start_time": "2023-05-25T14:07:24.666Z"
   },
   {
    "duration": 104,
    "start_time": "2023-05-25T14:07:27.213Z"
   },
   {
    "duration": 98,
    "start_time": "2023-05-25T14:07:27.319Z"
   },
   {
    "duration": 2219,
    "start_time": "2023-05-25T14:07:27.418Z"
   },
   {
    "duration": 129703,
    "start_time": "2023-05-25T14:07:29.638Z"
   },
   {
    "duration": 5785,
    "start_time": "2023-05-25T14:09:39.342Z"
   },
   {
    "duration": 600,
    "start_time": "2023-05-25T14:09:45.129Z"
   }
  ],
  "colab": {
   "provenance": []
  },
  "kernelspec": {
   "display_name": "Python 3 (ipykernel)",
   "language": "python",
   "name": "python3"
  },
  "language_info": {
   "codemirror_mode": {
    "name": "ipython",
    "version": 3
   },
   "file_extension": ".py",
   "mimetype": "text/x-python",
   "name": "python",
   "nbconvert_exporter": "python",
   "pygments_lexer": "ipython3",
   "version": "3.9.5"
  },
  "toc": {
   "base_numbering": 1,
   "nav_menu": {},
   "number_sections": true,
   "sideBar": true,
   "skip_h1_title": true,
   "title_cell": "Table of Contents",
   "title_sidebar": "Contents",
   "toc_cell": false,
   "toc_position": {},
   "toc_section_display": true,
   "toc_window_display": false
  }
 },
 "nbformat": 4,
 "nbformat_minor": 1
}
