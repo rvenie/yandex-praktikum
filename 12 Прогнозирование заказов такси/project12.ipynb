{
 "cells": [
  {
   "cell_type": "markdown",
   "metadata": {},
   "source": [
    "#  Прогнозирование заказов такси"
   ]
  },
  {
   "cell_type": "markdown",
   "metadata": {
    "toc": true
   },
   "source": [
    "<h1>Содержание<span class=\"tocSkip\"></span></h1>\n",
    "<div class=\"toc\"><ul class=\"toc-item\"><li><span><a href=\"#Описание-проекта\" data-toc-modified-id=\"Описание-проекта-1\"><span class=\"toc-item-num\">1&nbsp;&nbsp;</span>Описание проекта</a></span></li><li><span><a href=\"#Описание-данных\" data-toc-modified-id=\"Описание-данных-2\"><span class=\"toc-item-num\">2&nbsp;&nbsp;</span>Описание данных</a></span></li><li><span><a href=\"#Импорт\" data-toc-modified-id=\"Импорт-3\"><span class=\"toc-item-num\">3&nbsp;&nbsp;</span>Импорт</a></span></li><li><span><a href=\"#Подготовка\" data-toc-modified-id=\"Подготовка-4\"><span class=\"toc-item-num\">4&nbsp;&nbsp;</span>Подготовка</a></span><ul class=\"toc-item\"><li><span><a href=\"#Загрузка-данных\" data-toc-modified-id=\"Загрузка-данных-4.1\"><span class=\"toc-item-num\">4.1&nbsp;&nbsp;</span>Загрузка данных</a></span></li><li><span><a href=\"#Знакомство-с-данными\" data-toc-modified-id=\"Знакомство-с-данными-4.2\"><span class=\"toc-item-num\">4.2&nbsp;&nbsp;</span>Знакомство с данными</a></span></li><li><span><a href=\"#Ресемплинг\" data-toc-modified-id=\"Ресемплинг-4.3\"><span class=\"toc-item-num\">4.3&nbsp;&nbsp;</span>Ресемплинг</a></span></li></ul></li><li><span><a href=\"#Анализ\" data-toc-modified-id=\"Анализ-5\"><span class=\"toc-item-num\">5&nbsp;&nbsp;</span>Анализ</a></span><ul class=\"toc-item\"><li><span><a href=\"#Исследование-данных\" data-toc-modified-id=\"Исследование-данных-5.1\"><span class=\"toc-item-num\">5.1&nbsp;&nbsp;</span>Исследование данных</a></span></li><li><span><a href=\"#Создание-признаков\" data-toc-modified-id=\"Создание-признаков-5.2\"><span class=\"toc-item-num\">5.2&nbsp;&nbsp;</span>Создание признаков</a></span></li></ul></li><li><span><a href=\"#Обучение\" data-toc-modified-id=\"Обучение-6\"><span class=\"toc-item-num\">6&nbsp;&nbsp;</span>Обучение</a></span><ul class=\"toc-item\"><li><span><a href=\"#Разделение-на-тестовый-и-обучающий-наборы\" data-toc-modified-id=\"Разделение-на-тестовый-и-обучающий-наборы-6.1\"><span class=\"toc-item-num\">6.1&nbsp;&nbsp;</span>Разделение на тестовый и обучающий наборы</a></span></li><li><span><a href=\"#Подготовка-данных-для-коросс-валидации\" data-toc-modified-id=\"Подготовка-данных-для-коросс-валидации-6.2\"><span class=\"toc-item-num\">6.2&nbsp;&nbsp;</span>Подготовка данных для коросс-валидации</a></span></li><li><span><a href=\"#Базовая-модель\" data-toc-modified-id=\"Базовая-модель-6.3\"><span class=\"toc-item-num\">6.3&nbsp;&nbsp;</span>Базовая модель</a></span></li><li><span><a href=\"#Модели-с-параметрами-по-умолчанию\" data-toc-modified-id=\"Модели-с-параметрами-по-умолчанию-6.4\"><span class=\"toc-item-num\">6.4&nbsp;&nbsp;</span>Модели с параметрами по умолчанию</a></span><ul class=\"toc-item\"><li><span><a href=\"#Линейная-регрессия\" data-toc-modified-id=\"Линейная-регрессия-6.4.1\"><span class=\"toc-item-num\">6.4.1&nbsp;&nbsp;</span>Линейная регрессия</a></span></li><li><span><a href=\"#RandomForestRegressor\" data-toc-modified-id=\"RandomForestRegressor-6.4.2\"><span class=\"toc-item-num\">6.4.2&nbsp;&nbsp;</span>RandomForestRegressor</a></span></li><li><span><a href=\"#LightGBM\" data-toc-modified-id=\"LightGBM-6.4.3\"><span class=\"toc-item-num\">6.4.3&nbsp;&nbsp;</span>LightGBM</a></span></li></ul></li><li><span><a href=\"#Настройка-гиперпараметров\" data-toc-modified-id=\"Настройка-гиперпараметров-6.5\"><span class=\"toc-item-num\">6.5&nbsp;&nbsp;</span>Настройка гиперпараметров</a></span></li></ul></li><li><span><a href=\"#Тестирование\" data-toc-modified-id=\"Тестирование-7\"><span class=\"toc-item-num\">7&nbsp;&nbsp;</span>Тестирование</a></span></li><li><span><a href=\"#Чек-лист-проверки\" data-toc-modified-id=\"Чек-лист-проверки-8\"><span class=\"toc-item-num\">8&nbsp;&nbsp;</span>Чек-лист проверки</a></span></li></ul></div>"
   ]
  },
  {
   "cell_type": "markdown",
   "metadata": {},
   "source": [
    "## Описание проекта"
   ]
  },
  {
   "cell_type": "markdown",
   "metadata": {},
   "source": [
    "Компания «Чётенькое такси» собрала исторические данные о заказах такси в аэропортах. Чтобы привлекать больше водителей в период пиковой нагрузки, нужно спрогнозировать количество заказов такси на следующий час.\n",
    "\n",
    "**Цель:** Построить модель, предсказывающую количество заказов такси на следующий час.\n",
    "\n",
    "**Целевая метрика:** *RMSE* на тестовой выборке должно быть не больше 48."
   ]
  },
  {
   "cell_type": "markdown",
   "metadata": {},
   "source": [
    "## Описание данных"
   ]
  },
  {
   "cell_type": "markdown",
   "metadata": {},
   "source": [
    "**Файл с данными:** `/datasets/taxi.csv`\n",
    "\n",
    "**Признаки:**\n",
    "- `datetime` - Дата и время заказа,\n",
    "- `num_orders` -Число заказов (целевой признак)."
   ]
  },
  {
   "cell_type": "markdown",
   "metadata": {},
   "source": [
    "## Импорт"
   ]
  },
  {
   "cell_type": "code",
   "execution_count": 1,
   "metadata": {},
   "outputs": [
    {
     "name": "stdout",
     "output_type": "stream",
     "text": [
      "Requirement already satisfied: category_encoders in /opt/conda/envs/practicum/lib/python3.9/site-packages (2.6.0)\n",
      "Requirement already satisfied: pandas>=1.0.5 in /opt/conda/envs/practicum/lib/python3.9/site-packages (from category_encoders) (1.2.4)\n",
      "Requirement already satisfied: numpy>=1.14.0 in /opt/conda/envs/practicum/lib/python3.9/site-packages (from category_encoders) (1.20.1)\n",
      "Requirement already satisfied: statsmodels>=0.9.0 in /opt/conda/envs/practicum/lib/python3.9/site-packages (from category_encoders) (0.13.2)\n",
      "Requirement already satisfied: scikit-learn>=0.20.0 in /opt/conda/envs/practicum/lib/python3.9/site-packages (from category_encoders) (0.24.1)\n",
      "Requirement already satisfied: scipy>=1.0.0 in /opt/conda/envs/practicum/lib/python3.9/site-packages (from category_encoders) (1.8.0)\n",
      "Requirement already satisfied: patsy>=0.5.1 in /opt/conda/envs/practicum/lib/python3.9/site-packages (from category_encoders) (0.5.3)\n",
      "Requirement already satisfied: pytz>=2017.3 in /opt/conda/envs/practicum/lib/python3.9/site-packages (from pandas>=1.0.5->category_encoders) (2022.7.1)\n",
      "Requirement already satisfied: python-dateutil>=2.7.3 in /opt/conda/envs/practicum/lib/python3.9/site-packages (from pandas>=1.0.5->category_encoders) (2.8.2)\n",
      "Requirement already satisfied: six in /opt/conda/envs/practicum/lib/python3.9/site-packages (from patsy>=0.5.1->category_encoders) (1.16.0)\n",
      "Requirement already satisfied: joblib>=0.11 in /opt/conda/envs/practicum/lib/python3.9/site-packages (from scikit-learn>=0.20.0->category_encoders) (1.2.0)\n",
      "Requirement already satisfied: threadpoolctl>=2.0.0 in /opt/conda/envs/practicum/lib/python3.9/site-packages (from scikit-learn>=0.20.0->category_encoders) (3.1.0)\n",
      "Requirement already satisfied: packaging>=21.3 in /opt/conda/envs/practicum/lib/python3.9/site-packages (from statsmodels>=0.9.0->category_encoders) (23.0)\n",
      "\u001b[33mWARNING: Running pip as the 'root' user can result in broken permissions and conflicting behaviour with the system package manager. It is recommended to use a virtual environment instead: https://pip.pypa.io/warnings/venv\u001b[0m\u001b[33m\n",
      "\u001b[0m"
     ]
    }
   ],
   "source": [
    "!pip install category_encoders"
   ]
  },
  {
   "cell_type": "code",
   "execution_count": 2,
   "metadata": {},
   "outputs": [],
   "source": [
    "from category_encoders.target_encoder import TargetEncoder\n",
    "from lightgbm import LGBMRegressor\n",
    "import matplotlib.pyplot as plt\n",
    "import numpy as np\n",
    "import pandas as pd\n",
    "from sklearn.base import BaseEstimator, RegressorMixin\n",
    "from sklearn.ensemble import RandomForestRegressor\n",
    "from sklearn.linear_model import Ridge\n",
    "from sklearn.metrics import mean_squared_error\n",
    "from sklearn.metrics import r2_score\n",
    "from sklearn.model_selection import cross_val_score, GridSearchCV, TimeSeriesSplit, train_test_split\n",
    "from sklearn.pipeline import Pipeline\n",
    "from sklearn.preprocessing import StandardScaler\n",
    "from statsmodels.tsa.seasonal import seasonal_decompose\n",
    "\n",
    "SEED = 42\n",
    "N_SPLITS = 10\n",
    "N_JOBS = -1\n",
    "\n",
    "%matplotlib inline"
   ]
  },
  {
   "cell_type": "markdown",
   "metadata": {},
   "source": [
    "## Подготовка"
   ]
  },
  {
   "cell_type": "markdown",
   "metadata": {},
   "source": [
    "### Загрузка данных"
   ]
  },
  {
   "cell_type": "code",
   "execution_count": 3,
   "metadata": {},
   "outputs": [],
   "source": [
    "try:\n",
    "    data = pd.read_csv('/datasets/taxi.csv')\n",
    "    \n",
    "except FileNotFoundError:\n",
    "    data = pd.read_csv('https://code.s3.yandex.net/datasets/taxi.csv')"
   ]
  },
  {
   "cell_type": "markdown",
   "metadata": {},
   "source": [
    "### Знакомство с данными"
   ]
  },
  {
   "cell_type": "markdown",
   "metadata": {},
   "source": [
    "Выведем общую информацию о датафрейме."
   ]
  },
  {
   "cell_type": "code",
   "execution_count": 4,
   "metadata": {},
   "outputs": [
    {
     "name": "stdout",
     "output_type": "stream",
     "text": [
      "<class 'pandas.core.frame.DataFrame'>\n",
      "RangeIndex: 26496 entries, 0 to 26495\n",
      "Data columns (total 2 columns):\n",
      " #   Column      Non-Null Count  Dtype \n",
      "---  ------      --------------  ----- \n",
      " 0   datetime    26496 non-null  object\n",
      " 1   num_orders  26496 non-null  int64 \n",
      "dtypes: int64(1), object(1)\n",
      "memory usage: 414.1+ KB\n"
     ]
    }
   ],
   "source": [
    "data.info()"
   ]
  },
  {
   "cell_type": "markdown",
   "metadata": {},
   "source": [
    "Проверим содержат ли данные пропуски и полные дубликаты:"
   ]
  },
  {
   "cell_type": "code",
   "execution_count": 5,
   "metadata": {},
   "outputs": [
    {
     "name": "stdout",
     "output_type": "stream",
     "text": [
      "Данные содержат 0 пропусков.\n"
     ]
    }
   ],
   "source": [
    "print(f'Данные содержат {data.isna().sum().sum()} пропусков.')"
   ]
  },
  {
   "cell_type": "code",
   "execution_count": 6,
   "metadata": {},
   "outputs": [
    {
     "name": "stdout",
     "output_type": "stream",
     "text": [
      "Данные содержат 0 дубликатов.\n"
     ]
    }
   ],
   "source": [
    "print(f'Данные содержат {data.duplicated().sum()} дубликатов.')"
   ]
  },
  {
   "cell_type": "markdown",
   "metadata": {},
   "source": [
    "Столбец `datetime` содержит дату и время заказов, преобразуем его в `datetime object`."
   ]
  },
  {
   "cell_type": "code",
   "execution_count": 7,
   "metadata": {},
   "outputs": [],
   "source": [
    "data['datetime'] = pd.to_datetime(data.datetime)"
   ]
  },
  {
   "cell_type": "markdown",
   "metadata": {},
   "source": [
    "Назначим столбец с датой и временем индексом датафрейма, отсортируем индекс и проверим в хронологическом ли порядке расположены даты и время."
   ]
  },
  {
   "cell_type": "code",
   "execution_count": 8,
   "metadata": {},
   "outputs": [
    {
     "name": "stdout",
     "output_type": "stream",
     "text": [
      "Данные расположены в хронологическом порядке.\n"
     ]
    }
   ],
   "source": [
    "data = data.set_index('datetime').sort_index()\n",
    "\n",
    "if data.index.is_monotonic:\n",
    "    print('Данные расположены в хронологическом порядке.')\n",
    "else:\n",
    "    print('Хронологический порядок нарушен.')"
   ]
  },
  {
   "cell_type": "markdown",
   "metadata": {},
   "source": [
    "Выведем первые 10 строк получившегося датафрейма."
   ]
  },
  {
   "cell_type": "code",
   "execution_count": 9,
   "metadata": {},
   "outputs": [
    {
     "data": {
      "text/html": [
       "<div>\n",
       "<style scoped>\n",
       "    .dataframe tbody tr th:only-of-type {\n",
       "        vertical-align: middle;\n",
       "    }\n",
       "\n",
       "    .dataframe tbody tr th {\n",
       "        vertical-align: top;\n",
       "    }\n",
       "\n",
       "    .dataframe thead th {\n",
       "        text-align: right;\n",
       "    }\n",
       "</style>\n",
       "<table border=\"1\" class=\"dataframe\">\n",
       "  <thead>\n",
       "    <tr style=\"text-align: right;\">\n",
       "      <th></th>\n",
       "      <th>num_orders</th>\n",
       "    </tr>\n",
       "    <tr>\n",
       "      <th>datetime</th>\n",
       "      <th></th>\n",
       "    </tr>\n",
       "  </thead>\n",
       "  <tbody>\n",
       "    <tr>\n",
       "      <th>2018-03-01 00:00:00</th>\n",
       "      <td>9</td>\n",
       "    </tr>\n",
       "    <tr>\n",
       "      <th>2018-03-01 00:10:00</th>\n",
       "      <td>14</td>\n",
       "    </tr>\n",
       "    <tr>\n",
       "      <th>2018-03-01 00:20:00</th>\n",
       "      <td>28</td>\n",
       "    </tr>\n",
       "    <tr>\n",
       "      <th>2018-03-01 00:30:00</th>\n",
       "      <td>20</td>\n",
       "    </tr>\n",
       "    <tr>\n",
       "      <th>2018-03-01 00:40:00</th>\n",
       "      <td>32</td>\n",
       "    </tr>\n",
       "  </tbody>\n",
       "</table>\n",
       "</div>"
      ],
      "text/plain": [
       "                     num_orders\n",
       "datetime                       \n",
       "2018-03-01 00:00:00           9\n",
       "2018-03-01 00:10:00          14\n",
       "2018-03-01 00:20:00          28\n",
       "2018-03-01 00:30:00          20\n",
       "2018-03-01 00:40:00          32"
      ]
     },
     "execution_count": 9,
     "metadata": {},
     "output_type": "execute_result"
    }
   ],
   "source": [
    "data.head()"
   ]
  },
  {
   "cell_type": "markdown",
   "metadata": {},
   "source": [
    "### Ресемплинг"
   ]
  },
  {
   "cell_type": "markdown",
   "metadata": {},
   "source": [
    "Данные в таблице приведены с интервалом в 10 минут. Выполним ресемплинг, чтобы получить данные с интервалом в 1 час, будем использовать среднее значение за час и округлим результат до целых."
   ]
  },
  {
   "cell_type": "code",
   "execution_count": 10,
   "metadata": {},
   "outputs": [
    {
     "data": {
      "text/html": [
       "<div>\n",
       "<style scoped>\n",
       "    .dataframe tbody tr th:only-of-type {\n",
       "        vertical-align: middle;\n",
       "    }\n",
       "\n",
       "    .dataframe tbody tr th {\n",
       "        vertical-align: top;\n",
       "    }\n",
       "\n",
       "    .dataframe thead th {\n",
       "        text-align: right;\n",
       "    }\n",
       "</style>\n",
       "<table border=\"1\" class=\"dataframe\">\n",
       "  <thead>\n",
       "    <tr style=\"text-align: right;\">\n",
       "      <th></th>\n",
       "      <th>num_orders</th>\n",
       "    </tr>\n",
       "    <tr>\n",
       "      <th>datetime</th>\n",
       "      <th></th>\n",
       "    </tr>\n",
       "  </thead>\n",
       "  <tbody>\n",
       "    <tr>\n",
       "      <th>2018-03-01 00:00:00</th>\n",
       "      <td>124</td>\n",
       "    </tr>\n",
       "    <tr>\n",
       "      <th>2018-03-01 01:00:00</th>\n",
       "      <td>85</td>\n",
       "    </tr>\n",
       "    <tr>\n",
       "      <th>2018-03-01 02:00:00</th>\n",
       "      <td>71</td>\n",
       "    </tr>\n",
       "    <tr>\n",
       "      <th>2018-03-01 03:00:00</th>\n",
       "      <td>66</td>\n",
       "    </tr>\n",
       "    <tr>\n",
       "      <th>2018-03-01 04:00:00</th>\n",
       "      <td>43</td>\n",
       "    </tr>\n",
       "  </tbody>\n",
       "</table>\n",
       "</div>"
      ],
      "text/plain": [
       "                     num_orders\n",
       "datetime                       \n",
       "2018-03-01 00:00:00         124\n",
       "2018-03-01 01:00:00          85\n",
       "2018-03-01 02:00:00          71\n",
       "2018-03-01 03:00:00          66\n",
       "2018-03-01 04:00:00          43"
      ]
     },
     "metadata": {},
     "output_type": "display_data"
    }
   ],
   "source": [
    "data = data.resample('1H').sum().round()\n",
    "display(data.head())"
   ]
  },
  {
   "cell_type": "markdown",
   "metadata": {},
   "source": [
    "## Анализ"
   ]
  },
  {
   "cell_type": "markdown",
   "metadata": {},
   "source": [
    "### Исследование данных"
   ]
  },
  {
   "cell_type": "markdown",
   "metadata": {},
   "source": [
    "Определим даты первого и последнего наблюдений."
   ]
  },
  {
   "cell_type": "code",
   "execution_count": 11,
   "metadata": {},
   "outputs": [
    {
     "name": "stdout",
     "output_type": "stream",
     "text": [
      "Дата и время начала наблюдений: 2018-03-01 00:00:00\n"
     ]
    }
   ],
   "source": [
    "print(f'Дата и время начала наблюдений: {data.index.min()}')"
   ]
  },
  {
   "cell_type": "code",
   "execution_count": 12,
   "metadata": {},
   "outputs": [
    {
     "name": "stdout",
     "output_type": "stream",
     "text": [
      "Дата и время окончания наблюдений: 2018-08-31 23:00:00\n"
     ]
    }
   ],
   "source": [
    "print(f'Дата и время окончания наблюдений: {data.index.max()}')"
   ]
  },
  {
   "cell_type": "markdown",
   "metadata": {},
   "source": [
    "Построим графики, иллюстрирующие поведение количества заказов во времени, тренд, сезонность и остатки. График сезонности построим за последние 120 часов, чтобы периодичность колебаний была различима."
   ]
  },
  {
   "cell_type": "code",
   "execution_count": 13,
   "metadata": {},
   "outputs": [
    {
     "data": {
      "image/png": "[encoded data removed]",
      "text/plain": [
       "<Figure size 1000x1200 with 4 Axes>"
      ]
     },
     "metadata": {},
     "output_type": "display_data"
    }
   ],
   "source": [
    "decomposed = seasonal_decompose(data)\n",
    "\n",
    "\n",
    "fig, ax = plt.subplots(4, 1, figsize=(10, 12))\n",
    "\n",
    "data.plot(title='Динамика количества заказов', \n",
    "          ylabel='Количество заказов', \n",
    "          ax = ax[0]\n",
    "         )\n",
    "\n",
    "decomposed.trend.plot(title='Тренд', \n",
    "                      ylabel='Количество заказов',\n",
    "                      ax = ax[1]\n",
    "                     )\n",
    "\n",
    "decomposed.seasonal.tail(120).plot(title='Сезонность', \n",
    "                         ylabel='Количество заказов',\n",
    "                         ax = ax[2]\n",
    "                        )\n",
    "\n",
    "decomposed.resid.plot(title='Остатки', \n",
    "                         ylabel='Количество заказов',\n",
    "                         ax = ax[3]\n",
    "                        )\n",
    "\n",
    "\n",
    "plt.tight_layout()\n",
    "plt.show()"
   ]
  },
  {
   "cell_type": "markdown",
   "metadata": {},
   "source": [
    "На графике заказов наблюдается тренд. Также присутствует сезонность c периодичностью примерно 24 часа; у суточной сезонности присутствует ряд пиков. На графике остатков можно заметить, что стандартное отклонение в июле и августе немного выше, чем в другие месяцы, присутствуют выбросы.\n",
    "\n",
    "Посмотрим гистограмму остатков."
   ]
  },
  {
   "cell_type": "code",
   "execution_count": 14,
   "metadata": {},
   "outputs": [
    {
     "data": {
      "image/png": "[encoded data removed]",
      "text/plain": [
       "<Figure size 640x480 with 1 Axes>"
      ]
     },
     "metadata": {},
     "output_type": "display_data"
    }
   ],
   "source": [
    "decomposed.resid.hist(bins=30, density=True)\n",
    "decomposed.resid.plot.kde()\n",
    "\n",
    "plt.title(\"Гистограмма распределения значений остатков\")\n",
    "plt.xlabel(\"Значения остатков\")\n",
    "plt.ylabel(\"Плотность вероятности\")\n",
    "\n",
    "plt.show()"
   ]
  },
  {
   "cell_type": "markdown",
   "metadata": {},
   "source": [
    "Распределение значений остатков по форме близко к нормальному при этом на гистограмме присутствуют выбросы - значения, лежащие за пределами -20 и 20."
   ]
  },
  {
   "cell_type": "markdown",
   "metadata": {},
   "source": [
    "### Создание признаков"
   ]
  },
  {
   "cell_type": "markdown",
   "metadata": {},
   "source": [
    "Создадим отдельные признки для месяца, числа месяца, дня недели и часа."
   ]
  },
  {
   "cell_type": "code",
   "execution_count": 15,
   "metadata": {
    "scrolled": false
   },
   "outputs": [
    {
     "data": {
      "text/html": [
       "<div>\n",
       "<style scoped>\n",
       "    .dataframe tbody tr th:only-of-type {\n",
       "        vertical-align: middle;\n",
       "    }\n",
       "\n",
       "    .dataframe tbody tr th {\n",
       "        vertical-align: top;\n",
       "    }\n",
       "\n",
       "    .dataframe thead th {\n",
       "        text-align: right;\n",
       "    }\n",
       "</style>\n",
       "<table border=\"1\" class=\"dataframe\">\n",
       "  <thead>\n",
       "    <tr style=\"text-align: right;\">\n",
       "      <th></th>\n",
       "      <th>num_orders</th>\n",
       "      <th>month</th>\n",
       "      <th>day</th>\n",
       "      <th>dayofweek</th>\n",
       "      <th>hour</th>\n",
       "    </tr>\n",
       "    <tr>\n",
       "      <th>datetime</th>\n",
       "      <th></th>\n",
       "      <th></th>\n",
       "      <th></th>\n",
       "      <th></th>\n",
       "      <th></th>\n",
       "    </tr>\n",
       "  </thead>\n",
       "  <tbody>\n",
       "    <tr>\n",
       "      <th>2018-08-31 19:00:00</th>\n",
       "      <td>136</td>\n",
       "      <td>8</td>\n",
       "      <td>31</td>\n",
       "      <td>4</td>\n",
       "      <td>19</td>\n",
       "    </tr>\n",
       "    <tr>\n",
       "      <th>2018-08-31 20:00:00</th>\n",
       "      <td>154</td>\n",
       "      <td>8</td>\n",
       "      <td>31</td>\n",
       "      <td>4</td>\n",
       "      <td>20</td>\n",
       "    </tr>\n",
       "    <tr>\n",
       "      <th>2018-08-31 21:00:00</th>\n",
       "      <td>159</td>\n",
       "      <td>8</td>\n",
       "      <td>31</td>\n",
       "      <td>4</td>\n",
       "      <td>21</td>\n",
       "    </tr>\n",
       "    <tr>\n",
       "      <th>2018-08-31 22:00:00</th>\n",
       "      <td>223</td>\n",
       "      <td>8</td>\n",
       "      <td>31</td>\n",
       "      <td>4</td>\n",
       "      <td>22</td>\n",
       "    </tr>\n",
       "    <tr>\n",
       "      <th>2018-08-31 23:00:00</th>\n",
       "      <td>205</td>\n",
       "      <td>8</td>\n",
       "      <td>31</td>\n",
       "      <td>4</td>\n",
       "      <td>23</td>\n",
       "    </tr>\n",
       "  </tbody>\n",
       "</table>\n",
       "</div>"
      ],
      "text/plain": [
       "                     num_orders  month  day  dayofweek  hour\n",
       "datetime                                                    \n",
       "2018-08-31 19:00:00         136      8   31          4    19\n",
       "2018-08-31 20:00:00         154      8   31          4    20\n",
       "2018-08-31 21:00:00         159      8   31          4    21\n",
       "2018-08-31 22:00:00         223      8   31          4    22\n",
       "2018-08-31 23:00:00         205      8   31          4    23"
      ]
     },
     "metadata": {},
     "output_type": "display_data"
    }
   ],
   "source": [
    "data['month'] = data.index.month\n",
    "data['day'] = data.index.day\n",
    "data['dayofweek'] = data.index.dayofweek\n",
    "data['hour'] = data.index.hour\n",
    "\n",
    "display(data.tail())"
   ]
  },
  {
   "cell_type": "markdown",
   "metadata": {},
   "source": [
    "Чтобы выделить тренд, добавим к данным недельное скользящее среднее."
   ]
  },
  {
   "cell_type": "code",
   "execution_count": 16,
   "metadata": {},
   "outputs": [
    {
     "data": {
      "image/png": "[encoded data removed]",
      "text/plain": [
       "<Figure size 1000x300 with 1 Axes>"
      ]
     },
     "metadata": {},
     "output_type": "display_data"
    },
    {
     "data": {
      "text/html": [
       "<div>\n",
       "<style scoped>\n",
       "    .dataframe tbody tr th:only-of-type {\n",
       "        vertical-align: middle;\n",
       "    }\n",
       "\n",
       "    .dataframe tbody tr th {\n",
       "        vertical-align: top;\n",
       "    }\n",
       "\n",
       "    .dataframe thead th {\n",
       "        text-align: right;\n",
       "    }\n",
       "</style>\n",
       "<table border=\"1\" class=\"dataframe\">\n",
       "  <thead>\n",
       "    <tr style=\"text-align: right;\">\n",
       "      <th></th>\n",
       "      <th>num_orders</th>\n",
       "      <th>month</th>\n",
       "      <th>day</th>\n",
       "      <th>dayofweek</th>\n",
       "      <th>hour</th>\n",
       "      <th>moving_average</th>\n",
       "    </tr>\n",
       "    <tr>\n",
       "      <th>datetime</th>\n",
       "      <th></th>\n",
       "      <th></th>\n",
       "      <th></th>\n",
       "      <th></th>\n",
       "      <th></th>\n",
       "      <th></th>\n",
       "    </tr>\n",
       "  </thead>\n",
       "  <tbody>\n",
       "    <tr>\n",
       "      <th>2018-03-01 00:00:00</th>\n",
       "      <td>124</td>\n",
       "      <td>3</td>\n",
       "      <td>1</td>\n",
       "      <td>3</td>\n",
       "      <td>0</td>\n",
       "      <td>NaN</td>\n",
       "    </tr>\n",
       "    <tr>\n",
       "      <th>2018-03-01 01:00:00</th>\n",
       "      <td>85</td>\n",
       "      <td>3</td>\n",
       "      <td>1</td>\n",
       "      <td>3</td>\n",
       "      <td>1</td>\n",
       "      <td>NaN</td>\n",
       "    </tr>\n",
       "    <tr>\n",
       "      <th>2018-03-01 02:00:00</th>\n",
       "      <td>71</td>\n",
       "      <td>3</td>\n",
       "      <td>1</td>\n",
       "      <td>3</td>\n",
       "      <td>2</td>\n",
       "      <td>NaN</td>\n",
       "    </tr>\n",
       "    <tr>\n",
       "      <th>2018-03-01 03:00:00</th>\n",
       "      <td>66</td>\n",
       "      <td>3</td>\n",
       "      <td>1</td>\n",
       "      <td>3</td>\n",
       "      <td>3</td>\n",
       "      <td>NaN</td>\n",
       "    </tr>\n",
       "    <tr>\n",
       "      <th>2018-03-01 04:00:00</th>\n",
       "      <td>43</td>\n",
       "      <td>3</td>\n",
       "      <td>1</td>\n",
       "      <td>3</td>\n",
       "      <td>4</td>\n",
       "      <td>NaN</td>\n",
       "    </tr>\n",
       "  </tbody>\n",
       "</table>\n",
       "</div>"
      ],
      "text/plain": [
       "                     num_orders  month  day  dayofweek  hour  moving_average\n",
       "datetime                                                                    \n",
       "2018-03-01 00:00:00         124      3    1          3     0             NaN\n",
       "2018-03-01 01:00:00          85      3    1          3     1             NaN\n",
       "2018-03-01 02:00:00          71      3    1          3     2             NaN\n",
       "2018-03-01 03:00:00          66      3    1          3     3             NaN\n",
       "2018-03-01 04:00:00          43      3    1          3     4             NaN"
      ]
     },
     "metadata": {},
     "output_type": "display_data"
    }
   ],
   "source": [
    "data['moving_average'] = data.num_orders.shift(1).rolling(24 * 7).mean()\n",
    "\n",
    "data.moving_average.plot(figsize=(10, 3), \n",
    "                         title='Недельное скользящее среднее', \n",
    "                         ylabel='Количество заказов'\n",
    "                        )\n",
    "\n",
    "plt.show()\n",
    "\n",
    "display(data.head())"
   ]
  },
  {
   "cell_type": "markdown",
   "metadata": {},
   "source": [
    "Как было отмечено ранее в данных присутствует сезонность равная примерно 24 часам, также возможно наличие недельной сезонности, поэтому также добавим 168 запаздывающих значения."
   ]
  },
  {
   "cell_type": "code",
   "execution_count": 17,
   "metadata": {},
   "outputs": [],
   "source": [
    "for i in range(24 * 7):\n",
    "    data[f'lag_{i}'] = data.num_orders.shift(i + 1)"
   ]
  },
  {
   "cell_type": "markdown",
   "metadata": {},
   "source": [
    "В начале набора данных образовались пропущенные значения, удалим их."
   ]
  },
  {
   "cell_type": "code",
   "execution_count": 18,
   "metadata": {},
   "outputs": [],
   "source": [
    "data = data.dropna()"
   ]
  },
  {
   "cell_type": "markdown",
   "metadata": {},
   "source": [
    "## Обучение"
   ]
  },
  {
   "cell_type": "markdown",
   "metadata": {},
   "source": [
    "### Разделение на тестовый и обучающий наборы"
   ]
  },
  {
   "cell_type": "markdown",
   "metadata": {},
   "source": [
    "Прежде чем приступать к разарботке моделей раделим датасет на тестовую и обучающую выборки, а также вынесем целевой признак в отдельную переменную."
   ]
  },
  {
   "cell_type": "code",
   "execution_count": 19,
   "metadata": {},
   "outputs": [],
   "source": [
    "y = data.num_orders.copy()\n",
    "X = data.drop(columns=['num_orders'])\n",
    "\n",
    "X_train, X_test, y_train, y_test = train_test_split(X, y, test_size=0.1, shuffle=False, random_state=SEED)"
   ]
  },
  {
   "cell_type": "markdown",
   "metadata": {},
   "source": [
    "### Подготовка данных для коросс-валидации"
   ]
  },
  {
   "cell_type": "markdown",
   "metadata": {},
   "source": [
    "Выполним разделение тренировочного множества на группы с помощью `sklearn.model_selection.TimeSeriesSplit`."
   ]
  },
  {
   "cell_type": "code",
   "execution_count": 20,
   "metadata": {},
   "outputs": [],
   "source": [
    "cv_splits = list(TimeSeriesSplit(n_splits=N_SPLITS).split(X_train, y_train))"
   ]
  },
  {
   "cell_type": "markdown",
   "metadata": {},
   "source": [
    "### Базовая модель\n",
    "В качестве базовой модели используем модель, предсказывающую новое значение $x(t)$ предыдущим значением ряда $x(t-1)$. Оценим качество её предсказаний."
   ]
  },
  {
   "cell_type": "code",
   "execution_count": 21,
   "metadata": {},
   "outputs": [],
   "source": [
    "class DummyTimeSeriesRegressor(BaseEstimator, RegressorMixin):  \n",
    "    \n",
    "    def fit(self, X, y=None):\n",
    "        return self\n",
    "    \n",
    "    def predict(self, X):\n",
    "        return X.lag_0"
   ]
  },
  {
   "cell_type": "markdown",
   "metadata": {},
   "source": [
    "Оценим модель на тречнировочной выборке."
   ]
  },
  {
   "cell_type": "code",
   "execution_count": 22,
   "metadata": {},
   "outputs": [
    {
     "name": "stdout",
     "output_type": "stream",
     "text": [
      "DummyTimeSeriesRegressor (оценки на обучающей выборке):\n",
      "RMSE = 36.49\n",
      "R2 = 0.12\n"
     ]
    }
   ],
   "source": [
    "def evaluate_on_train(estimator, X, y, decimals=2, **kwargs):\n",
    "    y_pred = estimator.fit(X, y, **kwargs).predict(X)\n",
    "    print(f'RMSE = {mean_squared_error(y, y_pred, squared=False).round(decimals)}')\n",
    "    print(f'R2 = {r2_score(y, y_pred).round(decimals)}')\n",
    "    \n",
    "\n",
    "print('DummyTimeSeriesRegressor (оценки на обучающей выборке):')\n",
    "evaluate_on_train(estimator=DummyTimeSeriesRegressor(), \n",
    "                  X=X_train, \n",
    "                  y=y_train,\n",
    "                 )"
   ]
  },
  {
   "cell_type": "markdown",
   "metadata": {},
   "source": [
    "Чтобы получить оценки, близкие к результатам на тестовом множесте, выполним кросс-валидацию."
   ]
  },
  {
   "cell_type": "code",
   "execution_count": 23,
   "metadata": {},
   "outputs": [
    {
     "data": {
      "text/html": [
       "<div>\n",
       "<style scoped>\n",
       "    .dataframe tbody tr th:only-of-type {\n",
       "        vertical-align: middle;\n",
       "    }\n",
       "\n",
       "    .dataframe tbody tr th {\n",
       "        vertical-align: top;\n",
       "    }\n",
       "\n",
       "    .dataframe thead th {\n",
       "        text-align: right;\n",
       "    }\n",
       "</style>\n",
       "<table border=\"1\" class=\"dataframe\">\n",
       "  <thead>\n",
       "    <tr style=\"text-align: right;\">\n",
       "      <th></th>\n",
       "      <th>RMSE</th>\n",
       "    </tr>\n",
       "  </thead>\n",
       "  <tbody>\n",
       "    <tr>\n",
       "      <th>min</th>\n",
       "      <td>29.05</td>\n",
       "    </tr>\n",
       "    <tr>\n",
       "      <th>mean</th>\n",
       "      <td>36.78</td>\n",
       "    </tr>\n",
       "    <tr>\n",
       "      <th>median</th>\n",
       "      <td>35.14</td>\n",
       "    </tr>\n",
       "    <tr>\n",
       "      <th>max</th>\n",
       "      <td>48.18</td>\n",
       "    </tr>\n",
       "    <tr>\n",
       "      <th>std</th>\n",
       "      <td>5.99</td>\n",
       "    </tr>\n",
       "  </tbody>\n",
       "</table>\n",
       "</div>"
      ],
      "text/plain": [
       "         RMSE\n",
       "min     29.05\n",
       "mean    36.78\n",
       "median  35.14\n",
       "max     48.18\n",
       "std      5.99"
      ]
     },
     "execution_count": 23,
     "metadata": {},
     "output_type": "execute_result"
    }
   ],
   "source": [
    "def rmse_cv(estimator, X, y, cv=cv_splits, fit_params=None, n_jobs=N_JOBS, decimals=2):\n",
    "    \n",
    "    scores = cross_val_score(estimator=estimator,\n",
    "                             X=X,\n",
    "                             y=y,\n",
    "                             scoring='neg_mean_squared_error',\n",
    "                             fit_params=fit_params,\n",
    "                             cv=cv,\n",
    "                             n_jobs=n_jobs\n",
    "                            )\n",
    "    \n",
    "    scores = pd.DataFrame(np.sqrt(-scores), columns=['RMSE'])\n",
    "    return scores.agg(['min', 'mean', 'median', 'max', 'std']).round(decimals)\n",
    "\n",
    "\n",
    "rmse_cv(estimator=DummyTimeSeriesRegressor(),\n",
    "        X=X_train, \n",
    "        y=y_train\n",
    "       )"
   ]
  },
  {
   "cell_type": "code",
   "execution_count": 24,
   "metadata": {},
   "outputs": [
    {
     "data": {
      "text/html": [
       "<div>\n",
       "<style scoped>\n",
       "    .dataframe tbody tr th:only-of-type {\n",
       "        vertical-align: middle;\n",
       "    }\n",
       "\n",
       "    .dataframe tbody tr th {\n",
       "        vertical-align: top;\n",
       "    }\n",
       "\n",
       "    .dataframe thead th {\n",
       "        text-align: right;\n",
       "    }\n",
       "</style>\n",
       "<table border=\"1\" class=\"dataframe\">\n",
       "  <thead>\n",
       "    <tr style=\"text-align: right;\">\n",
       "      <th></th>\n",
       "      <th>R2</th>\n",
       "    </tr>\n",
       "  </thead>\n",
       "  <tbody>\n",
       "    <tr>\n",
       "      <th>min</th>\n",
       "      <td>-0.32</td>\n",
       "    </tr>\n",
       "    <tr>\n",
       "      <th>mean</th>\n",
       "      <td>-0.11</td>\n",
       "    </tr>\n",
       "    <tr>\n",
       "      <th>median</th>\n",
       "      <td>-0.06</td>\n",
       "    </tr>\n",
       "    <tr>\n",
       "      <th>max</th>\n",
       "      <td>0.04</td>\n",
       "    </tr>\n",
       "    <tr>\n",
       "      <th>std</th>\n",
       "      <td>0.14</td>\n",
       "    </tr>\n",
       "  </tbody>\n",
       "</table>\n",
       "</div>"
      ],
      "text/plain": [
       "          R2\n",
       "min    -0.32\n",
       "mean   -0.11\n",
       "median -0.06\n",
       "max     0.04\n",
       "std     0.14"
      ]
     },
     "execution_count": 24,
     "metadata": {},
     "output_type": "execute_result"
    }
   ],
   "source": [
    "def r2_cv(estimator, X, y, cv=cv_splits, fit_params=None, n_jobs=N_JOBS, decimals=2):\n",
    "    \n",
    "    scores = cross_val_score(estimator=estimator,\n",
    "                             X=X,\n",
    "                             y=y,\n",
    "                             scoring='r2',\n",
    "                             fit_params=fit_params,\n",
    "                             cv=cv,\n",
    "                             n_jobs=n_jobs\n",
    "                            )\n",
    "    \n",
    "    scores = pd.DataFrame(scores, columns=['R2'])\n",
    "    return scores.agg(['min', 'mean', 'median', 'max', 'std']).round(decimals)\n",
    "    \n",
    "    \n",
    "r2_cv(estimator=DummyTimeSeriesRegressor(), \n",
    "      X=X_train, \n",
    "      y=y_train\n",
    "     )"
   ]
  },
  {
   "cell_type": "markdown",
   "metadata": {},
   "source": [
    "### Модели с параметрами по умолчанию"
   ]
  },
  {
   "cell_type": "markdown",
   "metadata": {},
   "source": [
    "#### Линейная регрессия"
   ]
  },
  {
   "cell_type": "markdown",
   "metadata": {},
   "source": [
    "Попробуем применить линейную регрессию с регуляризацией. Чтобы избежать искажений расстояний в духе \"11 часов больше 0 часов\" закодируем категориальные переменные `category_encoders.target_encoder.TargetEncoder`."
   ]
  },
  {
   "cell_type": "code",
   "execution_count": 25,
   "metadata": {},
   "outputs": [],
   "source": [
    "ridge_regr = Pipeline([\n",
    "    ('encoder', TargetEncoder(cols=['month', 'day', 'dayofweek', 'hour'])),\n",
    "    ('standard_scaler', StandardScaler()),\n",
    "    ('regressor', Ridge())\n",
    "])"
   ]
  },
  {
   "cell_type": "markdown",
   "metadata": {},
   "source": [
    "Оценим модель на тречнировочной выборке."
   ]
  },
  {
   "cell_type": "code",
   "execution_count": 26,
   "metadata": {},
   "outputs": [
    {
     "name": "stdout",
     "output_type": "stream",
     "text": [
      "RidgeRegressor (оценки на обучающей выборке):\n",
      "RMSE = 20.22\n",
      "R2 = 0.73\n"
     ]
    }
   ],
   "source": [
    "print('RidgeRegressor (оценки на обучающей выборке):')\n",
    "evaluate_on_train(estimator=ridge_regr, \n",
    "                  X=X_train, \n",
    "                  y=y_train,\n",
    "                 )"
   ]
  },
  {
   "cell_type": "markdown",
   "metadata": {},
   "source": [
    "Чтобы получить оценки, близкие к результатам на тестовом множесте, выполним кросс-валидацию."
   ]
  },
  {
   "cell_type": "code",
   "execution_count": 27,
   "metadata": {},
   "outputs": [
    {
     "data": {
      "text/html": [
       "<div>\n",
       "<style scoped>\n",
       "    .dataframe tbody tr th:only-of-type {\n",
       "        vertical-align: middle;\n",
       "    }\n",
       "\n",
       "    .dataframe tbody tr th {\n",
       "        vertical-align: top;\n",
       "    }\n",
       "\n",
       "    .dataframe thead th {\n",
       "        text-align: right;\n",
       "    }\n",
       "</style>\n",
       "<table border=\"1\" class=\"dataframe\">\n",
       "  <thead>\n",
       "    <tr style=\"text-align: right;\">\n",
       "      <th></th>\n",
       "      <th>RMSE</th>\n",
       "    </tr>\n",
       "  </thead>\n",
       "  <tbody>\n",
       "    <tr>\n",
       "      <th>min</th>\n",
       "      <td>20.73</td>\n",
       "    </tr>\n",
       "    <tr>\n",
       "      <th>mean</th>\n",
       "      <td>23.63</td>\n",
       "    </tr>\n",
       "    <tr>\n",
       "      <th>median</th>\n",
       "      <td>21.76</td>\n",
       "    </tr>\n",
       "    <tr>\n",
       "      <th>max</th>\n",
       "      <td>33.08</td>\n",
       "    </tr>\n",
       "    <tr>\n",
       "      <th>std</th>\n",
       "      <td>3.82</td>\n",
       "    </tr>\n",
       "  </tbody>\n",
       "</table>\n",
       "</div>"
      ],
      "text/plain": [
       "         RMSE\n",
       "min     20.73\n",
       "mean    23.63\n",
       "median  21.76\n",
       "max     33.08\n",
       "std      3.82"
      ]
     },
     "execution_count": 27,
     "metadata": {},
     "output_type": "execute_result"
    }
   ],
   "source": [
    "rmse_cv(estimator=ridge_regr, \n",
    "        X=X_train, \n",
    "        y=y_train\n",
    "       )"
   ]
  },
  {
   "cell_type": "code",
   "execution_count": 28,
   "metadata": {},
   "outputs": [
    {
     "data": {
      "text/html": [
       "<div>\n",
       "<style scoped>\n",
       "    .dataframe tbody tr th:only-of-type {\n",
       "        vertical-align: middle;\n",
       "    }\n",
       "\n",
       "    .dataframe tbody tr th {\n",
       "        vertical-align: top;\n",
       "    }\n",
       "\n",
       "    .dataframe thead th {\n",
       "        text-align: right;\n",
       "    }\n",
       "</style>\n",
       "<table border=\"1\" class=\"dataframe\">\n",
       "  <thead>\n",
       "    <tr style=\"text-align: right;\">\n",
       "      <th></th>\n",
       "      <th>R2</th>\n",
       "    </tr>\n",
       "  </thead>\n",
       "  <tbody>\n",
       "    <tr>\n",
       "      <th>min</th>\n",
       "      <td>0.24</td>\n",
       "    </tr>\n",
       "    <tr>\n",
       "      <th>mean</th>\n",
       "      <td>0.53</td>\n",
       "    </tr>\n",
       "    <tr>\n",
       "      <th>median</th>\n",
       "      <td>0.57</td>\n",
       "    </tr>\n",
       "    <tr>\n",
       "      <th>max</th>\n",
       "      <td>0.64</td>\n",
       "    </tr>\n",
       "    <tr>\n",
       "      <th>std</th>\n",
       "      <td>0.11</td>\n",
       "    </tr>\n",
       "  </tbody>\n",
       "</table>\n",
       "</div>"
      ],
      "text/plain": [
       "          R2\n",
       "min     0.24\n",
       "mean    0.53\n",
       "median  0.57\n",
       "max     0.64\n",
       "std     0.11"
      ]
     },
     "execution_count": 28,
     "metadata": {},
     "output_type": "execute_result"
    }
   ],
   "source": [
    "r2_cv(estimator=ridge_regr, \n",
    "      X=X_train, \n",
    "      y=y_train\n",
    "     )"
   ]
  },
  {
   "cell_type": "markdown",
   "metadata": {},
   "source": [
    "#### RandomForestRegressor"
   ]
  },
  {
   "cell_type": "markdown",
   "metadata": {},
   "source": [
    "Для древовидных моделей не важны масштабы признаков, поэтому можем использовать случайный лес без предобработки данных.\n",
    "\n",
    "Оценим модель на тречнировочной выборке."
   ]
  },
  {
   "cell_type": "code",
   "execution_count": 29,
   "metadata": {},
   "outputs": [],
   "source": [
    "forest = RandomForestRegressor().fit(X_train, y_train)"
   ]
  },
  {
   "cell_type": "code",
   "execution_count": 30,
   "metadata": {},
   "outputs": [
    {
     "name": "stdout",
     "output_type": "stream",
     "text": [
      "RandomForestRegressor (оценки на обучающей выборке):\n",
      "RMSE = 8.0\n",
      "R2 = 0.96\n"
     ]
    }
   ],
   "source": [
    "print('RandomForestRegressor (оценки на обучающей выборке):')\n",
    "evaluate_on_train(estimator=forest, \n",
    "                  X=X_train, \n",
    "                  y=y_train,\n",
    "                 )"
   ]
  },
  {
   "cell_type": "markdown",
   "metadata": {},
   "source": [
    "Оценим модель с помощью кросс-валидации."
   ]
  },
  {
   "cell_type": "code",
   "execution_count": 31,
   "metadata": {},
   "outputs": [
    {
     "data": {
      "text/html": [
       "<div>\n",
       "<style scoped>\n",
       "    .dataframe tbody tr th:only-of-type {\n",
       "        vertical-align: middle;\n",
       "    }\n",
       "\n",
       "    .dataframe tbody tr th {\n",
       "        vertical-align: top;\n",
       "    }\n",
       "\n",
       "    .dataframe thead th {\n",
       "        text-align: right;\n",
       "    }\n",
       "</style>\n",
       "<table border=\"1\" class=\"dataframe\">\n",
       "  <thead>\n",
       "    <tr style=\"text-align: right;\">\n",
       "      <th></th>\n",
       "      <th>RMSE</th>\n",
       "    </tr>\n",
       "  </thead>\n",
       "  <tbody>\n",
       "    <tr>\n",
       "      <th>min</th>\n",
       "      <td>17.85</td>\n",
       "    </tr>\n",
       "    <tr>\n",
       "      <th>mean</th>\n",
       "      <td>22.11</td>\n",
       "    </tr>\n",
       "    <tr>\n",
       "      <th>median</th>\n",
       "      <td>21.17</td>\n",
       "    </tr>\n",
       "    <tr>\n",
       "      <th>max</th>\n",
       "      <td>30.48</td>\n",
       "    </tr>\n",
       "    <tr>\n",
       "      <th>std</th>\n",
       "      <td>3.77</td>\n",
       "    </tr>\n",
       "  </tbody>\n",
       "</table>\n",
       "</div>"
      ],
      "text/plain": [
       "         RMSE\n",
       "min     17.85\n",
       "mean    22.11\n",
       "median  21.17\n",
       "max     30.48\n",
       "std      3.77"
      ]
     },
     "execution_count": 31,
     "metadata": {},
     "output_type": "execute_result"
    }
   ],
   "source": [
    "rmse_cv(estimator=forest, \n",
    "        X=X_train, \n",
    "        y=y_train\n",
    "       )"
   ]
  },
  {
   "cell_type": "code",
   "execution_count": 32,
   "metadata": {},
   "outputs": [
    {
     "data": {
      "text/html": [
       "<div>\n",
       "<style scoped>\n",
       "    .dataframe tbody tr th:only-of-type {\n",
       "        vertical-align: middle;\n",
       "    }\n",
       "\n",
       "    .dataframe tbody tr th {\n",
       "        vertical-align: top;\n",
       "    }\n",
       "\n",
       "    .dataframe thead th {\n",
       "        text-align: right;\n",
       "    }\n",
       "</style>\n",
       "<table border=\"1\" class=\"dataframe\">\n",
       "  <thead>\n",
       "    <tr style=\"text-align: right;\">\n",
       "      <th></th>\n",
       "      <th>R2</th>\n",
       "    </tr>\n",
       "  </thead>\n",
       "  <tbody>\n",
       "    <tr>\n",
       "      <th>min</th>\n",
       "      <td>0.55</td>\n",
       "    </tr>\n",
       "    <tr>\n",
       "      <th>mean</th>\n",
       "      <td>0.60</td>\n",
       "    </tr>\n",
       "    <tr>\n",
       "      <th>median</th>\n",
       "      <td>0.59</td>\n",
       "    </tr>\n",
       "    <tr>\n",
       "      <th>max</th>\n",
       "      <td>0.66</td>\n",
       "    </tr>\n",
       "    <tr>\n",
       "      <th>std</th>\n",
       "      <td>0.03</td>\n",
       "    </tr>\n",
       "  </tbody>\n",
       "</table>\n",
       "</div>"
      ],
      "text/plain": [
       "          R2\n",
       "min     0.55\n",
       "mean    0.60\n",
       "median  0.59\n",
       "max     0.66\n",
       "std     0.03"
      ]
     },
     "execution_count": 32,
     "metadata": {},
     "output_type": "execute_result"
    }
   ],
   "source": [
    "r2_cv(estimator=forest, \n",
    "      X=X_train, \n",
    "      y=y_train\n",
    "     )"
   ]
  },
  {
   "cell_type": "markdown",
   "metadata": {},
   "source": [
    "Случайный лес демонстрирует оверфитинг, при этом, результаты на кросс-валидации не сильно лучше, чем у линейной регрессии."
   ]
  },
  {
   "cell_type": "markdown",
   "metadata": {},
   "source": [
    "#### LightGBM"
   ]
  },
  {
   "cell_type": "markdown",
   "metadata": {},
   "source": [
    "Оценим модель на тречнировочной выборке."
   ]
  },
  {
   "cell_type": "code",
   "execution_count": 33,
   "metadata": {},
   "outputs": [],
   "source": [
    "lgbm_regressor = LGBMRegressor(n_jobs=N_JOBS, num_threads=4)"
   ]
  },
  {
   "cell_type": "code",
   "execution_count": 34,
   "metadata": {
    "scrolled": true
   },
   "outputs": [
    {
     "name": "stdout",
     "output_type": "stream",
     "text": [
      "LGBMRegressor (оценки на обучающей выборке):\n",
      "[LightGBM] [Warning] num_threads is set=4, n_jobs=-1 will be ignored. Current value: num_threads=4\n"
     ]
    },
    {
     "name": "stderr",
     "output_type": "stream",
     "text": [
      "/opt/conda/envs/practicum/lib/python3.9/site-packages/lightgbm/basic.py:2065: UserWarning: Using categorical_feature in Dataset.\n",
      "  _log_warning('Using categorical_feature in Dataset.')\n"
     ]
    },
    {
     "name": "stdout",
     "output_type": "stream",
     "text": [
      "RMSE = 8.72\n",
      "R2 = 0.95\n"
     ]
    }
   ],
   "source": [
    "print('LGBMRegressor (оценки на обучающей выборке):')\n",
    "evaluate_on_train(estimator=lgbm_regressor, \n",
    "                  X=X_train, \n",
    "                  y=y_train,\n",
    "                  categorical_feature=['month', 'day', 'dayofweek', 'hour'],\n",
    "                 )"
   ]
  },
  {
   "cell_type": "markdown",
   "metadata": {},
   "source": [
    "Оценим модель с помощью кросс-валидации."
   ]
  },
  {
   "cell_type": "code",
   "execution_count": 35,
   "metadata": {
    "scrolled": false
   },
   "outputs": [
    {
     "name": "stderr",
     "output_type": "stream",
     "text": [
      "/opt/conda/envs/practicum/lib/python3.9/site-packages/lightgbm/basic.py:2065: UserWarning: Using categorical_feature in Dataset.\n",
      "  _log_warning('Using categorical_feature in Dataset.')\n",
      "/opt/conda/envs/practicum/lib/python3.9/site-packages/lightgbm/basic.py:2065: UserWarning: Using categorical_feature in Dataset.\n",
      "  _log_warning('Using categorical_feature in Dataset.')\n",
      "/opt/conda/envs/practicum/lib/python3.9/site-packages/lightgbm/basic.py:2065: UserWarning: Using categorical_feature in Dataset.\n",
      "  _log_warning('Using categorical_feature in Dataset.')\n",
      "/opt/conda/envs/practicum/lib/python3.9/site-packages/lightgbm/basic.py:2065: UserWarning: Using categorical_feature in Dataset.\n",
      "  _log_warning('Using categorical_feature in Dataset.')\n",
      "/opt/conda/envs/practicum/lib/python3.9/site-packages/lightgbm/basic.py:2065: UserWarning: Using categorical_feature in Dataset.\n",
      "  _log_warning('Using categorical_feature in Dataset.')\n",
      "/opt/conda/envs/practicum/lib/python3.9/site-packages/lightgbm/basic.py:2065: UserWarning: Using categorical_feature in Dataset.\n",
      "  _log_warning('Using categorical_feature in Dataset.')\n",
      "/opt/conda/envs/practicum/lib/python3.9/site-packages/lightgbm/basic.py:2065: UserWarning: Using categorical_feature in Dataset.\n",
      "  _log_warning('Using categorical_feature in Dataset.')\n",
      "/opt/conda/envs/practicum/lib/python3.9/site-packages/lightgbm/basic.py:2065: UserWarning: Using categorical_feature in Dataset.\n",
      "  _log_warning('Using categorical_feature in Dataset.')\n",
      "/opt/conda/envs/practicum/lib/python3.9/site-packages/lightgbm/basic.py:2065: UserWarning: Using categorical_feature in Dataset.\n",
      "  _log_warning('Using categorical_feature in Dataset.')\n",
      "/opt/conda/envs/practicum/lib/python3.9/site-packages/lightgbm/basic.py:2065: UserWarning: Using categorical_feature in Dataset.\n",
      "  _log_warning('Using categorical_feature in Dataset.')\n"
     ]
    },
    {
     "data": {
      "text/html": [
       "<div>\n",
       "<style scoped>\n",
       "    .dataframe tbody tr th:only-of-type {\n",
       "        vertical-align: middle;\n",
       "    }\n",
       "\n",
       "    .dataframe tbody tr th {\n",
       "        vertical-align: top;\n",
       "    }\n",
       "\n",
       "    .dataframe thead th {\n",
       "        text-align: right;\n",
       "    }\n",
       "</style>\n",
       "<table border=\"1\" class=\"dataframe\">\n",
       "  <thead>\n",
       "    <tr style=\"text-align: right;\">\n",
       "      <th></th>\n",
       "      <th>RMSE</th>\n",
       "    </tr>\n",
       "  </thead>\n",
       "  <tbody>\n",
       "    <tr>\n",
       "      <th>min</th>\n",
       "      <td>19.29</td>\n",
       "    </tr>\n",
       "    <tr>\n",
       "      <th>mean</th>\n",
       "      <td>22.48</td>\n",
       "    </tr>\n",
       "    <tr>\n",
       "      <th>median</th>\n",
       "      <td>21.62</td>\n",
       "    </tr>\n",
       "    <tr>\n",
       "      <th>max</th>\n",
       "      <td>29.88</td>\n",
       "    </tr>\n",
       "    <tr>\n",
       "      <th>std</th>\n",
       "      <td>3.41</td>\n",
       "    </tr>\n",
       "  </tbody>\n",
       "</table>\n",
       "</div>"
      ],
      "text/plain": [
       "         RMSE\n",
       "min     19.29\n",
       "mean    22.48\n",
       "median  21.62\n",
       "max     29.88\n",
       "std      3.41"
      ]
     },
     "execution_count": 35,
     "metadata": {},
     "output_type": "execute_result"
    }
   ],
   "source": [
    "rmse_cv(estimator=lgbm_regressor, \n",
    "        X=X_train, \n",
    "        y=y_train,\n",
    "        fit_params=dict(categorical_feature=['month', 'day', 'dayofweek', 'hour']),\n",
    "       )"
   ]
  },
  {
   "cell_type": "code",
   "execution_count": 36,
   "metadata": {},
   "outputs": [
    {
     "name": "stderr",
     "output_type": "stream",
     "text": [
      "/opt/conda/envs/practicum/lib/python3.9/site-packages/lightgbm/basic.py:2065: UserWarning: Using categorical_feature in Dataset.\n",
      "  _log_warning('Using categorical_feature in Dataset.')\n",
      "/opt/conda/envs/practicum/lib/python3.9/site-packages/lightgbm/basic.py:2065: UserWarning: Using categorical_feature in Dataset.\n",
      "  _log_warning('Using categorical_feature in Dataset.')\n",
      "/opt/conda/envs/practicum/lib/python3.9/site-packages/lightgbm/basic.py:2065: UserWarning: Using categorical_feature in Dataset.\n",
      "  _log_warning('Using categorical_feature in Dataset.')\n",
      "/opt/conda/envs/practicum/lib/python3.9/site-packages/lightgbm/basic.py:2065: UserWarning: Using categorical_feature in Dataset.\n",
      "  _log_warning('Using categorical_feature in Dataset.')\n",
      "/opt/conda/envs/practicum/lib/python3.9/site-packages/lightgbm/basic.py:2065: UserWarning: Using categorical_feature in Dataset.\n",
      "  _log_warning('Using categorical_feature in Dataset.')\n",
      "/opt/conda/envs/practicum/lib/python3.9/site-packages/lightgbm/basic.py:2065: UserWarning: Using categorical_feature in Dataset.\n",
      "  _log_warning('Using categorical_feature in Dataset.')\n",
      "/opt/conda/envs/practicum/lib/python3.9/site-packages/lightgbm/basic.py:2065: UserWarning: Using categorical_feature in Dataset.\n",
      "  _log_warning('Using categorical_feature in Dataset.')\n",
      "/opt/conda/envs/practicum/lib/python3.9/site-packages/lightgbm/basic.py:2065: UserWarning: Using categorical_feature in Dataset.\n",
      "  _log_warning('Using categorical_feature in Dataset.')\n",
      "/opt/conda/envs/practicum/lib/python3.9/site-packages/lightgbm/basic.py:2065: UserWarning: Using categorical_feature in Dataset.\n",
      "  _log_warning('Using categorical_feature in Dataset.')\n",
      "/opt/conda/envs/practicum/lib/python3.9/site-packages/lightgbm/basic.py:2065: UserWarning: Using categorical_feature in Dataset.\n",
      "  _log_warning('Using categorical_feature in Dataset.')\n"
     ]
    },
    {
     "data": {
      "text/html": [
       "<div>\n",
       "<style scoped>\n",
       "    .dataframe tbody tr th:only-of-type {\n",
       "        vertical-align: middle;\n",
       "    }\n",
       "\n",
       "    .dataframe tbody tr th {\n",
       "        vertical-align: top;\n",
       "    }\n",
       "\n",
       "    .dataframe thead th {\n",
       "        text-align: right;\n",
       "    }\n",
       "</style>\n",
       "<table border=\"1\" class=\"dataframe\">\n",
       "  <thead>\n",
       "    <tr style=\"text-align: right;\">\n",
       "      <th></th>\n",
       "      <th>R2</th>\n",
       "    </tr>\n",
       "  </thead>\n",
       "  <tbody>\n",
       "    <tr>\n",
       "      <th>min</th>\n",
       "      <td>0.53</td>\n",
       "    </tr>\n",
       "    <tr>\n",
       "      <th>mean</th>\n",
       "      <td>0.59</td>\n",
       "    </tr>\n",
       "    <tr>\n",
       "      <th>median</th>\n",
       "      <td>0.59</td>\n",
       "    </tr>\n",
       "    <tr>\n",
       "      <th>max</th>\n",
       "      <td>0.63</td>\n",
       "    </tr>\n",
       "    <tr>\n",
       "      <th>std</th>\n",
       "      <td>0.03</td>\n",
       "    </tr>\n",
       "  </tbody>\n",
       "</table>\n",
       "</div>"
      ],
      "text/plain": [
       "          R2\n",
       "min     0.53\n",
       "mean    0.59\n",
       "median  0.59\n",
       "max     0.63\n",
       "std     0.03"
      ]
     },
     "execution_count": 36,
     "metadata": {},
     "output_type": "execute_result"
    }
   ],
   "source": [
    "r2_cv(estimator=lgbm_regressor, \n",
    "      X=X_train, \n",
    "      y=y_train,\n",
    "      fit_params=dict(categorical_feature=['month', 'day', 'dayofweek', 'hour']),\n",
    "     )"
   ]
  },
  {
   "cell_type": "markdown",
   "metadata": {},
   "source": [
    "`lgbm_regressor` демонстрирует чуть более высокую точность, чем линейная регрессия и чуть меньший оверфитинг, чем случайный лес. Попробуем настроить гиперпараметры для `ridge_regr` и `lgbm_regressor`."
   ]
  },
  {
   "cell_type": "markdown",
   "metadata": {},
   "source": [
    "### Настройка гиперпараметров"
   ]
  },
  {
   "cell_type": "markdown",
   "metadata": {},
   "source": [
    "Попробуем подобрать \"силу\" регуляризации для линейной регрессии."
   ]
  },
  {
   "cell_type": "code",
   "execution_count": 37,
   "metadata": {
    "scrolled": true
   },
   "outputs": [
    {
     "data": {
      "text/plain": [
       "{'regressor__alpha': 150}"
      ]
     },
     "execution_count": 37,
     "metadata": {},
     "output_type": "execute_result"
    }
   ],
   "source": [
    "params = {'regressor__alpha': [0.1, 1.0, 10, 50, 100, 150]}\n",
    "\n",
    "grid_search = GridSearchCV(estimator=ridge_regr,\n",
    "                           param_grid=params,\n",
    "                           scoring='neg_mean_squared_error',\n",
    "                           cv=cv_splits,\n",
    "                           n_jobs=N_JOBS,\n",
    "                          )\n",
    "\n",
    "\n",
    "grid_search.fit(X_train, y_train)\n",
    "\n",
    "best_ridge = grid_search.best_estimator_\n",
    "\n",
    "grid_search.best_params_"
   ]
  },
  {
   "cell_type": "markdown",
   "metadata": {},
   "source": [
    "Оценим получившуюся модель на полной обучающей выборке."
   ]
  },
  {
   "cell_type": "code",
   "execution_count": 38,
   "metadata": {},
   "outputs": [
    {
     "name": "stdout",
     "output_type": "stream",
     "text": [
      "best_ridge (оценки на обучающей выборке):\n",
      "RMSE = 20.24\n",
      "R2 = 0.73\n"
     ]
    }
   ],
   "source": [
    "print('best_ridge (оценки на обучающей выборке):')\n",
    "evaluate_on_train(estimator=best_ridge, \n",
    "                  X=X_train, \n",
    "                  y=y_train,\n",
    "                 )"
   ]
  },
  {
   "cell_type": "markdown",
   "metadata": {},
   "source": [
    "Оценим модель с помощью кросс-валидации."
   ]
  },
  {
   "cell_type": "code",
   "execution_count": 39,
   "metadata": {},
   "outputs": [
    {
     "data": {
      "text/html": [
       "<div>\n",
       "<style scoped>\n",
       "    .dataframe tbody tr th:only-of-type {\n",
       "        vertical-align: middle;\n",
       "    }\n",
       "\n",
       "    .dataframe tbody tr th {\n",
       "        vertical-align: top;\n",
       "    }\n",
       "\n",
       "    .dataframe thead th {\n",
       "        text-align: right;\n",
       "    }\n",
       "</style>\n",
       "<table border=\"1\" class=\"dataframe\">\n",
       "  <thead>\n",
       "    <tr style=\"text-align: right;\">\n",
       "      <th></th>\n",
       "      <th>RMSE</th>\n",
       "    </tr>\n",
       "  </thead>\n",
       "  <tbody>\n",
       "    <tr>\n",
       "      <th>min</th>\n",
       "      <td>18.66</td>\n",
       "    </tr>\n",
       "    <tr>\n",
       "      <th>mean</th>\n",
       "      <td>22.21</td>\n",
       "    </tr>\n",
       "    <tr>\n",
       "      <th>median</th>\n",
       "      <td>20.97</td>\n",
       "    </tr>\n",
       "    <tr>\n",
       "      <th>max</th>\n",
       "      <td>30.84</td>\n",
       "    </tr>\n",
       "    <tr>\n",
       "      <th>std</th>\n",
       "      <td>3.65</td>\n",
       "    </tr>\n",
       "  </tbody>\n",
       "</table>\n",
       "</div>"
      ],
      "text/plain": [
       "         RMSE\n",
       "min     18.66\n",
       "mean    22.21\n",
       "median  20.97\n",
       "max     30.84\n",
       "std      3.65"
      ]
     },
     "metadata": {},
     "output_type": "display_data"
    }
   ],
   "source": [
    "linreg_rmse = rmse_cv(estimator=best_ridge, \n",
    "                      X=X_train, \n",
    "                      y=y_train\n",
    "                     )\n",
    "\n",
    "display(linreg_rmse)\n",
    "\n",
    "models_performance = pd.DataFrame(index=['min', 'mean', 'median', 'max', 'std'])\n",
    "models_performance['best_ridge'] = linreg_rmse"
   ]
  },
  {
   "cell_type": "code",
   "execution_count": 40,
   "metadata": {},
   "outputs": [
    {
     "data": {
      "text/html": [
       "<div>\n",
       "<style scoped>\n",
       "    .dataframe tbody tr th:only-of-type {\n",
       "        vertical-align: middle;\n",
       "    }\n",
       "\n",
       "    .dataframe tbody tr th {\n",
       "        vertical-align: top;\n",
       "    }\n",
       "\n",
       "    .dataframe thead th {\n",
       "        text-align: right;\n",
       "    }\n",
       "</style>\n",
       "<table border=\"1\" class=\"dataframe\">\n",
       "  <thead>\n",
       "    <tr style=\"text-align: right;\">\n",
       "      <th></th>\n",
       "      <th>R2</th>\n",
       "    </tr>\n",
       "  </thead>\n",
       "  <tbody>\n",
       "    <tr>\n",
       "      <th>min</th>\n",
       "      <td>0.54</td>\n",
       "    </tr>\n",
       "    <tr>\n",
       "      <th>mean</th>\n",
       "      <td>0.60</td>\n",
       "    </tr>\n",
       "    <tr>\n",
       "      <th>median</th>\n",
       "      <td>0.59</td>\n",
       "    </tr>\n",
       "    <tr>\n",
       "      <th>max</th>\n",
       "      <td>0.65</td>\n",
       "    </tr>\n",
       "    <tr>\n",
       "      <th>std</th>\n",
       "      <td>0.03</td>\n",
       "    </tr>\n",
       "  </tbody>\n",
       "</table>\n",
       "</div>"
      ],
      "text/plain": [
       "          R2\n",
       "min     0.54\n",
       "mean    0.60\n",
       "median  0.59\n",
       "max     0.65\n",
       "std     0.03"
      ]
     },
     "execution_count": 40,
     "metadata": {},
     "output_type": "execute_result"
    }
   ],
   "source": [
    "r2_cv(estimator=best_ridge, \n",
    "      X=X_train, \n",
    "      y=y_train\n",
    "     )"
   ]
  },
  {
   "cell_type": "markdown",
   "metadata": {},
   "source": [
    "Подберём гиперпараметры для `LGBMRegressor`."
   ]
  },
  {
   "cell_type": "code",
   "execution_count": 41,
   "metadata": {
    "scrolled": true
   },
   "outputs": [
    {
     "name": "stderr",
     "output_type": "stream",
     "text": [
      "/opt/conda/envs/practicum/lib/python3.9/site-packages/lightgbm/basic.py:2065: UserWarning: Using categorical_feature in Dataset.\n",
      "  _log_warning('Using categorical_feature in Dataset.')\n",
      "/opt/conda/envs/practicum/lib/python3.9/site-packages/lightgbm/basic.py:2065: UserWarning: Using categorical_feature in Dataset.\n",
      "  _log_warning('Using categorical_feature in Dataset.')\n",
      "/opt/conda/envs/practicum/lib/python3.9/site-packages/lightgbm/basic.py:2065: UserWarning: Using categorical_feature in Dataset.\n",
      "  _log_warning('Using categorical_feature in Dataset.')\n",
      "/opt/conda/envs/practicum/lib/python3.9/site-packages/lightgbm/basic.py:2065: UserWarning: Using categorical_feature in Dataset.\n",
      "  _log_warning('Using categorical_feature in Dataset.')\n",
      "/opt/conda/envs/practicum/lib/python3.9/site-packages/lightgbm/basic.py:2065: UserWarning: Using categorical_feature in Dataset.\n",
      "  _log_warning('Using categorical_feature in Dataset.')\n",
      "/opt/conda/envs/practicum/lib/python3.9/site-packages/lightgbm/basic.py:2065: UserWarning: Using categorical_feature in Dataset.\n",
      "  _log_warning('Using categorical_feature in Dataset.')\n",
      "/opt/conda/envs/practicum/lib/python3.9/site-packages/lightgbm/basic.py:2065: UserWarning: Using categorical_feature in Dataset.\n",
      "  _log_warning('Using categorical_feature in Dataset.')\n",
      "/opt/conda/envs/practicum/lib/python3.9/site-packages/lightgbm/basic.py:2065: UserWarning: Using categorical_feature in Dataset.\n",
      "  _log_warning('Using categorical_feature in Dataset.')\n",
      "/opt/conda/envs/practicum/lib/python3.9/site-packages/lightgbm/basic.py:2065: UserWarning: Using categorical_feature in Dataset.\n",
      "  _log_warning('Using categorical_feature in Dataset.')\n",
      "/opt/conda/envs/practicum/lib/python3.9/site-packages/lightgbm/basic.py:2065: UserWarning: Using categorical_feature in Dataset.\n",
      "  _log_warning('Using categorical_feature in Dataset.')\n",
      "/opt/conda/envs/practicum/lib/python3.9/site-packages/lightgbm/basic.py:2065: UserWarning: Using categorical_feature in Dataset.\n",
      "  _log_warning('Using categorical_feature in Dataset.')\n",
      "/opt/conda/envs/practicum/lib/python3.9/site-packages/lightgbm/basic.py:2065: UserWarning: Using categorical_feature in Dataset.\n",
      "  _log_warning('Using categorical_feature in Dataset.')\n",
      "/opt/conda/envs/practicum/lib/python3.9/site-packages/lightgbm/basic.py:2065: UserWarning: Using categorical_feature in Dataset.\n",
      "  _log_warning('Using categorical_feature in Dataset.')\n",
      "/opt/conda/envs/practicum/lib/python3.9/site-packages/lightgbm/basic.py:2065: UserWarning: Using categorical_feature in Dataset.\n",
      "  _log_warning('Using categorical_feature in Dataset.')\n",
      "/opt/conda/envs/practicum/lib/python3.9/site-packages/lightgbm/basic.py:2065: UserWarning: Using categorical_feature in Dataset.\n",
      "  _log_warning('Using categorical_feature in Dataset.')\n",
      "/opt/conda/envs/practicum/lib/python3.9/site-packages/lightgbm/basic.py:2065: UserWarning: Using categorical_feature in Dataset.\n",
      "  _log_warning('Using categorical_feature in Dataset.')\n",
      "/opt/conda/envs/practicum/lib/python3.9/site-packages/lightgbm/basic.py:2065: UserWarning: Using categorical_feature in Dataset.\n",
      "  _log_warning('Using categorical_feature in Dataset.')\n",
      "/opt/conda/envs/practicum/lib/python3.9/site-packages/lightgbm/basic.py:2065: UserWarning: Using categorical_feature in Dataset.\n",
      "  _log_warning('Using categorical_feature in Dataset.')\n",
      "/opt/conda/envs/practicum/lib/python3.9/site-packages/lightgbm/basic.py:2065: UserWarning: Using categorical_feature in Dataset.\n",
      "  _log_warning('Using categorical_feature in Dataset.')\n",
      "/opt/conda/envs/practicum/lib/python3.9/site-packages/lightgbm/basic.py:2065: UserWarning: Using categorical_feature in Dataset.\n",
      "  _log_warning('Using categorical_feature in Dataset.')\n",
      "/opt/conda/envs/practicum/lib/python3.9/site-packages/lightgbm/basic.py:2065: UserWarning: Using categorical_feature in Dataset.\n",
      "  _log_warning('Using categorical_feature in Dataset.')\n",
      "/opt/conda/envs/practicum/lib/python3.9/site-packages/lightgbm/basic.py:2065: UserWarning: Using categorical_feature in Dataset.\n",
      "  _log_warning('Using categorical_feature in Dataset.')\n",
      "/opt/conda/envs/practicum/lib/python3.9/site-packages/lightgbm/basic.py:2065: UserWarning: Using categorical_feature in Dataset.\n",
      "  _log_warning('Using categorical_feature in Dataset.')\n",
      "/opt/conda/envs/practicum/lib/python3.9/site-packages/lightgbm/basic.py:2065: UserWarning: Using categorical_feature in Dataset.\n",
      "  _log_warning('Using categorical_feature in Dataset.')\n",
      "/opt/conda/envs/practicum/lib/python3.9/site-packages/lightgbm/basic.py:2065: UserWarning: Using categorical_feature in Dataset.\n",
      "  _log_warning('Using categorical_feature in Dataset.')\n",
      "/opt/conda/envs/practicum/lib/python3.9/site-packages/lightgbm/basic.py:2065: UserWarning: Using categorical_feature in Dataset.\n",
      "  _log_warning('Using categorical_feature in Dataset.')\n",
      "/opt/conda/envs/practicum/lib/python3.9/site-packages/lightgbm/basic.py:2065: UserWarning: Using categorical_feature in Dataset.\n",
      "  _log_warning('Using categorical_feature in Dataset.')\n",
      "/opt/conda/envs/practicum/lib/python3.9/site-packages/lightgbm/basic.py:2065: UserWarning: Using categorical_feature in Dataset.\n",
      "  _log_warning('Using categorical_feature in Dataset.')\n",
      "/opt/conda/envs/practicum/lib/python3.9/site-packages/lightgbm/basic.py:2065: UserWarning: Using categorical_feature in Dataset.\n",
      "  _log_warning('Using categorical_feature in Dataset.')\n",
      "/opt/conda/envs/practicum/lib/python3.9/site-packages/lightgbm/basic.py:2065: UserWarning: Using categorical_feature in Dataset.\n",
      "  _log_warning('Using categorical_feature in Dataset.')\n",
      "/opt/conda/envs/practicum/lib/python3.9/site-packages/lightgbm/basic.py:2065: UserWarning: Using categorical_feature in Dataset.\n",
      "  _log_warning('Using categorical_feature in Dataset.')\n",
      "/opt/conda/envs/practicum/lib/python3.9/site-packages/lightgbm/basic.py:2065: UserWarning: Using categorical_feature in Dataset.\n",
      "  _log_warning('Using categorical_feature in Dataset.')\n",
      "/opt/conda/envs/practicum/lib/python3.9/site-packages/lightgbm/basic.py:2065: UserWarning: Using categorical_feature in Dataset.\n",
      "  _log_warning('Using categorical_feature in Dataset.')\n",
      "/opt/conda/envs/practicum/lib/python3.9/site-packages/lightgbm/basic.py:2065: UserWarning: Using categorical_feature in Dataset.\n",
      "  _log_warning('Using categorical_feature in Dataset.')\n",
      "/opt/conda/envs/practicum/lib/python3.9/site-packages/lightgbm/basic.py:2065: UserWarning: Using categorical_feature in Dataset.\n",
      "  _log_warning('Using categorical_feature in Dataset.')\n",
      "/opt/conda/envs/practicum/lib/python3.9/site-packages/lightgbm/basic.py:2065: UserWarning: Using categorical_feature in Dataset.\n",
      "  _log_warning('Using categorical_feature in Dataset.')\n",
      "/opt/conda/envs/practicum/lib/python3.9/site-packages/lightgbm/basic.py:2065: UserWarning: Using categorical_feature in Dataset.\n",
      "  _log_warning('Using categorical_feature in Dataset.')\n",
      "/opt/conda/envs/practicum/lib/python3.9/site-packages/lightgbm/basic.py:2065: UserWarning: Using categorical_feature in Dataset.\n",
      "  _log_warning('Using categorical_feature in Dataset.')\n",
      "/opt/conda/envs/practicum/lib/python3.9/site-packages/lightgbm/basic.py:2065: UserWarning: Using categorical_feature in Dataset.\n",
      "  _log_warning('Using categorical_feature in Dataset.')\n",
      "/opt/conda/envs/practicum/lib/python3.9/site-packages/lightgbm/basic.py:2065: UserWarning: Using categorical_feature in Dataset.\n",
      "  _log_warning('Using categorical_feature in Dataset.')\n",
      "/opt/conda/envs/practicum/lib/python3.9/site-packages/lightgbm/basic.py:2065: UserWarning: Using categorical_feature in Dataset.\n",
      "  _log_warning('Using categorical_feature in Dataset.')\n",
      "/opt/conda/envs/practicum/lib/python3.9/site-packages/lightgbm/basic.py:2065: UserWarning: Using categorical_feature in Dataset.\n",
      "  _log_warning('Using categorical_feature in Dataset.')\n",
      "/opt/conda/envs/practicum/lib/python3.9/site-packages/lightgbm/basic.py:2065: UserWarning: Using categorical_feature in Dataset.\n",
      "  _log_warning('Using categorical_feature in Dataset.')\n",
      "/opt/conda/envs/practicum/lib/python3.9/site-packages/lightgbm/basic.py:2065: UserWarning: Using categorical_feature in Dataset.\n",
      "  _log_warning('Using categorical_feature in Dataset.')\n",
      "/opt/conda/envs/practicum/lib/python3.9/site-packages/lightgbm/basic.py:2065: UserWarning: Using categorical_feature in Dataset.\n",
      "  _log_warning('Using categorical_feature in Dataset.')\n"
     ]
    },
    {
     "name": "stderr",
     "output_type": "stream",
     "text": [
      "/opt/conda/envs/practicum/lib/python3.9/site-packages/lightgbm/basic.py:2065: UserWarning: Using categorical_feature in Dataset.\n",
      "  _log_warning('Using categorical_feature in Dataset.')\n",
      "/opt/conda/envs/practicum/lib/python3.9/site-packages/lightgbm/basic.py:2065: UserWarning: Using categorical_feature in Dataset.\n",
      "  _log_warning('Using categorical_feature in Dataset.')\n",
      "/opt/conda/envs/practicum/lib/python3.9/site-packages/lightgbm/basic.py:2065: UserWarning: Using categorical_feature in Dataset.\n",
      "  _log_warning('Using categorical_feature in Dataset.')\n",
      "/opt/conda/envs/practicum/lib/python3.9/site-packages/lightgbm/basic.py:2065: UserWarning: Using categorical_feature in Dataset.\n",
      "  _log_warning('Using categorical_feature in Dataset.')\n",
      "/opt/conda/envs/practicum/lib/python3.9/site-packages/lightgbm/basic.py:2065: UserWarning: Using categorical_feature in Dataset.\n",
      "  _log_warning('Using categorical_feature in Dataset.')\n",
      "/opt/conda/envs/practicum/lib/python3.9/site-packages/lightgbm/basic.py:2065: UserWarning: Using categorical_feature in Dataset.\n",
      "  _log_warning('Using categorical_feature in Dataset.')\n",
      "/opt/conda/envs/practicum/lib/python3.9/site-packages/lightgbm/basic.py:2065: UserWarning: Using categorical_feature in Dataset.\n",
      "  _log_warning('Using categorical_feature in Dataset.')\n",
      "/opt/conda/envs/practicum/lib/python3.9/site-packages/lightgbm/basic.py:2065: UserWarning: Using categorical_feature in Dataset.\n",
      "  _log_warning('Using categorical_feature in Dataset.')\n",
      "/opt/conda/envs/practicum/lib/python3.9/site-packages/lightgbm/basic.py:2065: UserWarning: Using categorical_feature in Dataset.\n",
      "  _log_warning('Using categorical_feature in Dataset.')\n",
      "/opt/conda/envs/practicum/lib/python3.9/site-packages/lightgbm/basic.py:2065: UserWarning: Using categorical_feature in Dataset.\n",
      "  _log_warning('Using categorical_feature in Dataset.')\n",
      "/opt/conda/envs/practicum/lib/python3.9/site-packages/lightgbm/basic.py:2065: UserWarning: Using categorical_feature in Dataset.\n",
      "  _log_warning('Using categorical_feature in Dataset.')\n",
      "/opt/conda/envs/practicum/lib/python3.9/site-packages/lightgbm/basic.py:2065: UserWarning: Using categorical_feature in Dataset.\n",
      "  _log_warning('Using categorical_feature in Dataset.')\n",
      "/opt/conda/envs/practicum/lib/python3.9/site-packages/lightgbm/basic.py:2065: UserWarning: Using categorical_feature in Dataset.\n",
      "  _log_warning('Using categorical_feature in Dataset.')\n",
      "/opt/conda/envs/practicum/lib/python3.9/site-packages/lightgbm/basic.py:2065: UserWarning: Using categorical_feature in Dataset.\n",
      "  _log_warning('Using categorical_feature in Dataset.')\n",
      "/opt/conda/envs/practicum/lib/python3.9/site-packages/lightgbm/basic.py:2065: UserWarning: Using categorical_feature in Dataset.\n",
      "  _log_warning('Using categorical_feature in Dataset.')\n",
      "/opt/conda/envs/practicum/lib/python3.9/site-packages/lightgbm/basic.py:2065: UserWarning: Using categorical_feature in Dataset.\n",
      "  _log_warning('Using categorical_feature in Dataset.')\n",
      "/opt/conda/envs/practicum/lib/python3.9/site-packages/lightgbm/basic.py:2065: UserWarning: Using categorical_feature in Dataset.\n",
      "  _log_warning('Using categorical_feature in Dataset.')\n",
      "/opt/conda/envs/practicum/lib/python3.9/site-packages/lightgbm/basic.py:2065: UserWarning: Using categorical_feature in Dataset.\n",
      "  _log_warning('Using categorical_feature in Dataset.')\n",
      "/opt/conda/envs/practicum/lib/python3.9/site-packages/lightgbm/basic.py:2065: UserWarning: Using categorical_feature in Dataset.\n",
      "  _log_warning('Using categorical_feature in Dataset.')\n",
      "/opt/conda/envs/practicum/lib/python3.9/site-packages/lightgbm/basic.py:2065: UserWarning: Using categorical_feature in Dataset.\n",
      "  _log_warning('Using categorical_feature in Dataset.')\n",
      "/opt/conda/envs/practicum/lib/python3.9/site-packages/lightgbm/basic.py:2065: UserWarning: Using categorical_feature in Dataset.\n",
      "  _log_warning('Using categorical_feature in Dataset.')\n",
      "/opt/conda/envs/practicum/lib/python3.9/site-packages/lightgbm/basic.py:2065: UserWarning: Using categorical_feature in Dataset.\n",
      "  _log_warning('Using categorical_feature in Dataset.')\n",
      "/opt/conda/envs/practicum/lib/python3.9/site-packages/lightgbm/basic.py:2065: UserWarning: Using categorical_feature in Dataset.\n",
      "  _log_warning('Using categorical_feature in Dataset.')\n",
      "/opt/conda/envs/practicum/lib/python3.9/site-packages/lightgbm/basic.py:2065: UserWarning: Using categorical_feature in Dataset.\n",
      "  _log_warning('Using categorical_feature in Dataset.')\n",
      "/opt/conda/envs/practicum/lib/python3.9/site-packages/lightgbm/basic.py:2065: UserWarning: Using categorical_feature in Dataset.\n",
      "  _log_warning('Using categorical_feature in Dataset.')\n",
      "/opt/conda/envs/practicum/lib/python3.9/site-packages/lightgbm/basic.py:2065: UserWarning: Using categorical_feature in Dataset.\n",
      "  _log_warning('Using categorical_feature in Dataset.')\n",
      "/opt/conda/envs/practicum/lib/python3.9/site-packages/lightgbm/basic.py:2065: UserWarning: Using categorical_feature in Dataset.\n",
      "  _log_warning('Using categorical_feature in Dataset.')\n",
      "/opt/conda/envs/practicum/lib/python3.9/site-packages/lightgbm/basic.py:2065: UserWarning: Using categorical_feature in Dataset.\n",
      "  _log_warning('Using categorical_feature in Dataset.')\n",
      "/opt/conda/envs/practicum/lib/python3.9/site-packages/lightgbm/basic.py:2065: UserWarning: Using categorical_feature in Dataset.\n",
      "  _log_warning('Using categorical_feature in Dataset.')\n",
      "/opt/conda/envs/practicum/lib/python3.9/site-packages/lightgbm/basic.py:2065: UserWarning: Using categorical_feature in Dataset.\n",
      "  _log_warning('Using categorical_feature in Dataset.')\n",
      "/opt/conda/envs/practicum/lib/python3.9/site-packages/lightgbm/basic.py:2065: UserWarning: Using categorical_feature in Dataset.\n",
      "  _log_warning('Using categorical_feature in Dataset.')\n",
      "/opt/conda/envs/practicum/lib/python3.9/site-packages/lightgbm/basic.py:2065: UserWarning: Using categorical_feature in Dataset.\n",
      "  _log_warning('Using categorical_feature in Dataset.')\n",
      "/opt/conda/envs/practicum/lib/python3.9/site-packages/lightgbm/basic.py:2065: UserWarning: Using categorical_feature in Dataset.\n",
      "  _log_warning('Using categorical_feature in Dataset.')\n",
      "/opt/conda/envs/practicum/lib/python3.9/site-packages/lightgbm/basic.py:2065: UserWarning: Using categorical_feature in Dataset.\n",
      "  _log_warning('Using categorical_feature in Dataset.')\n",
      "/opt/conda/envs/practicum/lib/python3.9/site-packages/lightgbm/basic.py:2065: UserWarning: Using categorical_feature in Dataset.\n",
      "  _log_warning('Using categorical_feature in Dataset.')\n",
      "/opt/conda/envs/practicum/lib/python3.9/site-packages/lightgbm/basic.py:2065: UserWarning: Using categorical_feature in Dataset.\n",
      "  _log_warning('Using categorical_feature in Dataset.')\n",
      "/opt/conda/envs/practicum/lib/python3.9/site-packages/lightgbm/basic.py:2065: UserWarning: Using categorical_feature in Dataset.\n",
      "  _log_warning('Using categorical_feature in Dataset.')\n",
      "/opt/conda/envs/practicum/lib/python3.9/site-packages/lightgbm/basic.py:2065: UserWarning: Using categorical_feature in Dataset.\n",
      "  _log_warning('Using categorical_feature in Dataset.')\n",
      "/opt/conda/envs/practicum/lib/python3.9/site-packages/lightgbm/basic.py:2065: UserWarning: Using categorical_feature in Dataset.\n",
      "  _log_warning('Using categorical_feature in Dataset.')\n",
      "/opt/conda/envs/practicum/lib/python3.9/site-packages/lightgbm/basic.py:2065: UserWarning: Using categorical_feature in Dataset.\n",
      "  _log_warning('Using categorical_feature in Dataset.')\n",
      "/opt/conda/envs/practicum/lib/python3.9/site-packages/lightgbm/basic.py:2065: UserWarning: Using categorical_feature in Dataset.\n",
      "  _log_warning('Using categorical_feature in Dataset.')\n",
      "/opt/conda/envs/practicum/lib/python3.9/site-packages/lightgbm/basic.py:2065: UserWarning: Using categorical_feature in Dataset.\n",
      "  _log_warning('Using categorical_feature in Dataset.')\n",
      "/opt/conda/envs/practicum/lib/python3.9/site-packages/lightgbm/basic.py:2065: UserWarning: Using categorical_feature in Dataset.\n",
      "  _log_warning('Using categorical_feature in Dataset.')\n",
      "/opt/conda/envs/practicum/lib/python3.9/site-packages/lightgbm/basic.py:2065: UserWarning: Using categorical_feature in Dataset.\n",
      "  _log_warning('Using categorical_feature in Dataset.')\n",
      "/opt/conda/envs/practicum/lib/python3.9/site-packages/lightgbm/basic.py:2065: UserWarning: Using categorical_feature in Dataset.\n",
      "  _log_warning('Using categorical_feature in Dataset.')\n"
     ]
    },
    {
     "name": "stderr",
     "output_type": "stream",
     "text": [
      "/opt/conda/envs/practicum/lib/python3.9/site-packages/lightgbm/basic.py:2065: UserWarning: Using categorical_feature in Dataset.\n",
      "  _log_warning('Using categorical_feature in Dataset.')\n",
      "/opt/conda/envs/practicum/lib/python3.9/site-packages/lightgbm/basic.py:2065: UserWarning: Using categorical_feature in Dataset.\n",
      "  _log_warning('Using categorical_feature in Dataset.')\n",
      "/opt/conda/envs/practicum/lib/python3.9/site-packages/lightgbm/basic.py:2065: UserWarning: Using categorical_feature in Dataset.\n",
      "  _log_warning('Using categorical_feature in Dataset.')\n",
      "/opt/conda/envs/practicum/lib/python3.9/site-packages/lightgbm/basic.py:2065: UserWarning: Using categorical_feature in Dataset.\n",
      "  _log_warning('Using categorical_feature in Dataset.')\n",
      "/opt/conda/envs/practicum/lib/python3.9/site-packages/lightgbm/basic.py:2065: UserWarning: Using categorical_feature in Dataset.\n",
      "  _log_warning('Using categorical_feature in Dataset.')\n",
      "/opt/conda/envs/practicum/lib/python3.9/site-packages/lightgbm/basic.py:2065: UserWarning: Using categorical_feature in Dataset.\n",
      "  _log_warning('Using categorical_feature in Dataset.')\n",
      "/opt/conda/envs/practicum/lib/python3.9/site-packages/lightgbm/basic.py:2065: UserWarning: Using categorical_feature in Dataset.\n",
      "  _log_warning('Using categorical_feature in Dataset.')\n",
      "/opt/conda/envs/practicum/lib/python3.9/site-packages/lightgbm/basic.py:2065: UserWarning: Using categorical_feature in Dataset.\n",
      "  _log_warning('Using categorical_feature in Dataset.')\n",
      "/opt/conda/envs/practicum/lib/python3.9/site-packages/lightgbm/basic.py:2065: UserWarning: Using categorical_feature in Dataset.\n",
      "  _log_warning('Using categorical_feature in Dataset.')\n",
      "/opt/conda/envs/practicum/lib/python3.9/site-packages/lightgbm/basic.py:2065: UserWarning: Using categorical_feature in Dataset.\n",
      "  _log_warning('Using categorical_feature in Dataset.')\n",
      "/opt/conda/envs/practicum/lib/python3.9/site-packages/lightgbm/basic.py:2065: UserWarning: Using categorical_feature in Dataset.\n",
      "  _log_warning('Using categorical_feature in Dataset.')\n",
      "/opt/conda/envs/practicum/lib/python3.9/site-packages/lightgbm/basic.py:2065: UserWarning: Using categorical_feature in Dataset.\n",
      "  _log_warning('Using categorical_feature in Dataset.')\n",
      "/opt/conda/envs/practicum/lib/python3.9/site-packages/lightgbm/basic.py:2065: UserWarning: Using categorical_feature in Dataset.\n",
      "  _log_warning('Using categorical_feature in Dataset.')\n",
      "/opt/conda/envs/practicum/lib/python3.9/site-packages/lightgbm/basic.py:2065: UserWarning: Using categorical_feature in Dataset.\n",
      "  _log_warning('Using categorical_feature in Dataset.')\n",
      "/opt/conda/envs/practicum/lib/python3.9/site-packages/lightgbm/basic.py:2065: UserWarning: Using categorical_feature in Dataset.\n",
      "  _log_warning('Using categorical_feature in Dataset.')\n",
      "/opt/conda/envs/practicum/lib/python3.9/site-packages/lightgbm/basic.py:2065: UserWarning: Using categorical_feature in Dataset.\n",
      "  _log_warning('Using categorical_feature in Dataset.')\n",
      "/opt/conda/envs/practicum/lib/python3.9/site-packages/lightgbm/basic.py:2065: UserWarning: Using categorical_feature in Dataset.\n",
      "  _log_warning('Using categorical_feature in Dataset.')\n",
      "/opt/conda/envs/practicum/lib/python3.9/site-packages/lightgbm/basic.py:2065: UserWarning: Using categorical_feature in Dataset.\n",
      "  _log_warning('Using categorical_feature in Dataset.')\n",
      "/opt/conda/envs/practicum/lib/python3.9/site-packages/lightgbm/basic.py:2065: UserWarning: Using categorical_feature in Dataset.\n",
      "  _log_warning('Using categorical_feature in Dataset.')\n",
      "/opt/conda/envs/practicum/lib/python3.9/site-packages/lightgbm/basic.py:2065: UserWarning: Using categorical_feature in Dataset.\n",
      "  _log_warning('Using categorical_feature in Dataset.')\n",
      "/opt/conda/envs/practicum/lib/python3.9/site-packages/lightgbm/basic.py:2065: UserWarning: Using categorical_feature in Dataset.\n",
      "  _log_warning('Using categorical_feature in Dataset.')\n",
      "/opt/conda/envs/practicum/lib/python3.9/site-packages/lightgbm/basic.py:2065: UserWarning: Using categorical_feature in Dataset.\n",
      "  _log_warning('Using categorical_feature in Dataset.')\n",
      "/opt/conda/envs/practicum/lib/python3.9/site-packages/lightgbm/basic.py:2065: UserWarning: Using categorical_feature in Dataset.\n",
      "  _log_warning('Using categorical_feature in Dataset.')\n",
      "/opt/conda/envs/practicum/lib/python3.9/site-packages/lightgbm/basic.py:2065: UserWarning: Using categorical_feature in Dataset.\n",
      "  _log_warning('Using categorical_feature in Dataset.')\n",
      "/opt/conda/envs/practicum/lib/python3.9/site-packages/lightgbm/basic.py:2065: UserWarning: Using categorical_feature in Dataset.\n",
      "  _log_warning('Using categorical_feature in Dataset.')\n",
      "/opt/conda/envs/practicum/lib/python3.9/site-packages/lightgbm/basic.py:2065: UserWarning: Using categorical_feature in Dataset.\n",
      "  _log_warning('Using categorical_feature in Dataset.')\n",
      "/opt/conda/envs/practicum/lib/python3.9/site-packages/lightgbm/basic.py:2065: UserWarning: Using categorical_feature in Dataset.\n",
      "  _log_warning('Using categorical_feature in Dataset.')\n",
      "/opt/conda/envs/practicum/lib/python3.9/site-packages/lightgbm/basic.py:2065: UserWarning: Using categorical_feature in Dataset.\n",
      "  _log_warning('Using categorical_feature in Dataset.')\n",
      "/opt/conda/envs/practicum/lib/python3.9/site-packages/lightgbm/basic.py:2065: UserWarning: Using categorical_feature in Dataset.\n",
      "  _log_warning('Using categorical_feature in Dataset.')\n",
      "/opt/conda/envs/practicum/lib/python3.9/site-packages/lightgbm/basic.py:2065: UserWarning: Using categorical_feature in Dataset.\n",
      "  _log_warning('Using categorical_feature in Dataset.')\n",
      "/opt/conda/envs/practicum/lib/python3.9/site-packages/lightgbm/basic.py:2065: UserWarning: Using categorical_feature in Dataset.\n",
      "  _log_warning('Using categorical_feature in Dataset.')\n",
      "/opt/conda/envs/practicum/lib/python3.9/site-packages/lightgbm/basic.py:2065: UserWarning: Using categorical_feature in Dataset.\n",
      "  _log_warning('Using categorical_feature in Dataset.')\n",
      "/opt/conda/envs/practicum/lib/python3.9/site-packages/lightgbm/basic.py:2065: UserWarning: Using categorical_feature in Dataset.\n",
      "  _log_warning('Using categorical_feature in Dataset.')\n",
      "/opt/conda/envs/practicum/lib/python3.9/site-packages/lightgbm/basic.py:2065: UserWarning: Using categorical_feature in Dataset.\n",
      "  _log_warning('Using categorical_feature in Dataset.')\n",
      "/opt/conda/envs/practicum/lib/python3.9/site-packages/lightgbm/basic.py:2065: UserWarning: Using categorical_feature in Dataset.\n",
      "  _log_warning('Using categorical_feature in Dataset.')\n",
      "/opt/conda/envs/practicum/lib/python3.9/site-packages/lightgbm/basic.py:2065: UserWarning: Using categorical_feature in Dataset.\n",
      "  _log_warning('Using categorical_feature in Dataset.')\n",
      "/opt/conda/envs/practicum/lib/python3.9/site-packages/lightgbm/basic.py:2065: UserWarning: Using categorical_feature in Dataset.\n",
      "  _log_warning('Using categorical_feature in Dataset.')\n",
      "/opt/conda/envs/practicum/lib/python3.9/site-packages/lightgbm/basic.py:2065: UserWarning: Using categorical_feature in Dataset.\n",
      "  _log_warning('Using categorical_feature in Dataset.')\n",
      "/opt/conda/envs/practicum/lib/python3.9/site-packages/lightgbm/basic.py:2065: UserWarning: Using categorical_feature in Dataset.\n",
      "  _log_warning('Using categorical_feature in Dataset.')\n",
      "/opt/conda/envs/practicum/lib/python3.9/site-packages/lightgbm/basic.py:2065: UserWarning: Using categorical_feature in Dataset.\n",
      "  _log_warning('Using categorical_feature in Dataset.')\n",
      "/opt/conda/envs/practicum/lib/python3.9/site-packages/lightgbm/basic.py:2065: UserWarning: Using categorical_feature in Dataset.\n",
      "  _log_warning('Using categorical_feature in Dataset.')\n",
      "/opt/conda/envs/practicum/lib/python3.9/site-packages/lightgbm/basic.py:2065: UserWarning: Using categorical_feature in Dataset.\n",
      "  _log_warning('Using categorical_feature in Dataset.')\n",
      "/opt/conda/envs/practicum/lib/python3.9/site-packages/lightgbm/basic.py:2065: UserWarning: Using categorical_feature in Dataset.\n",
      "  _log_warning('Using categorical_feature in Dataset.')\n",
      "/opt/conda/envs/practicum/lib/python3.9/site-packages/lightgbm/basic.py:2065: UserWarning: Using categorical_feature in Dataset.\n",
      "  _log_warning('Using categorical_feature in Dataset.')\n",
      "/opt/conda/envs/practicum/lib/python3.9/site-packages/lightgbm/basic.py:2065: UserWarning: Using categorical_feature in Dataset.\n",
      "  _log_warning('Using categorical_feature in Dataset.')\n"
     ]
    },
    {
     "name": "stderr",
     "output_type": "stream",
     "text": [
      "/opt/conda/envs/practicum/lib/python3.9/site-packages/lightgbm/basic.py:2065: UserWarning: Using categorical_feature in Dataset.\n",
      "  _log_warning('Using categorical_feature in Dataset.')\n",
      "/opt/conda/envs/practicum/lib/python3.9/site-packages/lightgbm/basic.py:2065: UserWarning: Using categorical_feature in Dataset.\n",
      "  _log_warning('Using categorical_feature in Dataset.')\n",
      "/opt/conda/envs/practicum/lib/python3.9/site-packages/lightgbm/basic.py:2065: UserWarning: Using categorical_feature in Dataset.\n",
      "  _log_warning('Using categorical_feature in Dataset.')\n",
      "/opt/conda/envs/practicum/lib/python3.9/site-packages/lightgbm/basic.py:2065: UserWarning: Using categorical_feature in Dataset.\n",
      "  _log_warning('Using categorical_feature in Dataset.')\n",
      "/opt/conda/envs/practicum/lib/python3.9/site-packages/lightgbm/basic.py:2065: UserWarning: Using categorical_feature in Dataset.\n",
      "  _log_warning('Using categorical_feature in Dataset.')\n",
      "/opt/conda/envs/practicum/lib/python3.9/site-packages/lightgbm/basic.py:2065: UserWarning: Using categorical_feature in Dataset.\n",
      "  _log_warning('Using categorical_feature in Dataset.')\n",
      "/opt/conda/envs/practicum/lib/python3.9/site-packages/lightgbm/basic.py:2065: UserWarning: Using categorical_feature in Dataset.\n",
      "  _log_warning('Using categorical_feature in Dataset.')\n",
      "/opt/conda/envs/practicum/lib/python3.9/site-packages/lightgbm/basic.py:2065: UserWarning: Using categorical_feature in Dataset.\n",
      "  _log_warning('Using categorical_feature in Dataset.')\n",
      "/opt/conda/envs/practicum/lib/python3.9/site-packages/lightgbm/basic.py:2065: UserWarning: Using categorical_feature in Dataset.\n",
      "  _log_warning('Using categorical_feature in Dataset.')\n",
      "/opt/conda/envs/practicum/lib/python3.9/site-packages/lightgbm/basic.py:2065: UserWarning: Using categorical_feature in Dataset.\n",
      "  _log_warning('Using categorical_feature in Dataset.')\n",
      "/opt/conda/envs/practicum/lib/python3.9/site-packages/lightgbm/basic.py:2065: UserWarning: Using categorical_feature in Dataset.\n",
      "  _log_warning('Using categorical_feature in Dataset.')\n",
      "/opt/conda/envs/practicum/lib/python3.9/site-packages/lightgbm/basic.py:2065: UserWarning: Using categorical_feature in Dataset.\n",
      "  _log_warning('Using categorical_feature in Dataset.')\n",
      "/opt/conda/envs/practicum/lib/python3.9/site-packages/lightgbm/basic.py:2065: UserWarning: Using categorical_feature in Dataset.\n",
      "  _log_warning('Using categorical_feature in Dataset.')\n",
      "/opt/conda/envs/practicum/lib/python3.9/site-packages/lightgbm/basic.py:2065: UserWarning: Using categorical_feature in Dataset.\n",
      "  _log_warning('Using categorical_feature in Dataset.')\n",
      "/opt/conda/envs/practicum/lib/python3.9/site-packages/lightgbm/basic.py:2065: UserWarning: Using categorical_feature in Dataset.\n",
      "  _log_warning('Using categorical_feature in Dataset.')\n",
      "/opt/conda/envs/practicum/lib/python3.9/site-packages/lightgbm/basic.py:2065: UserWarning: Using categorical_feature in Dataset.\n",
      "  _log_warning('Using categorical_feature in Dataset.')\n",
      "/opt/conda/envs/practicum/lib/python3.9/site-packages/lightgbm/basic.py:2065: UserWarning: Using categorical_feature in Dataset.\n",
      "  _log_warning('Using categorical_feature in Dataset.')\n",
      "/opt/conda/envs/practicum/lib/python3.9/site-packages/lightgbm/basic.py:2065: UserWarning: Using categorical_feature in Dataset.\n",
      "  _log_warning('Using categorical_feature in Dataset.')\n",
      "/opt/conda/envs/practicum/lib/python3.9/site-packages/lightgbm/basic.py:2065: UserWarning: Using categorical_feature in Dataset.\n",
      "  _log_warning('Using categorical_feature in Dataset.')\n",
      "/opt/conda/envs/practicum/lib/python3.9/site-packages/lightgbm/basic.py:2065: UserWarning: Using categorical_feature in Dataset.\n",
      "  _log_warning('Using categorical_feature in Dataset.')\n",
      "/opt/conda/envs/practicum/lib/python3.9/site-packages/lightgbm/basic.py:2065: UserWarning: Using categorical_feature in Dataset.\n",
      "  _log_warning('Using categorical_feature in Dataset.')\n",
      "/opt/conda/envs/practicum/lib/python3.9/site-packages/lightgbm/basic.py:2065: UserWarning: Using categorical_feature in Dataset.\n",
      "  _log_warning('Using categorical_feature in Dataset.')\n",
      "/opt/conda/envs/practicum/lib/python3.9/site-packages/lightgbm/basic.py:2065: UserWarning: Using categorical_feature in Dataset.\n",
      "  _log_warning('Using categorical_feature in Dataset.')\n",
      "/opt/conda/envs/practicum/lib/python3.9/site-packages/lightgbm/basic.py:2065: UserWarning: Using categorical_feature in Dataset.\n",
      "  _log_warning('Using categorical_feature in Dataset.')\n",
      "/opt/conda/envs/practicum/lib/python3.9/site-packages/lightgbm/basic.py:2065: UserWarning: Using categorical_feature in Dataset.\n",
      "  _log_warning('Using categorical_feature in Dataset.')\n",
      "/opt/conda/envs/practicum/lib/python3.9/site-packages/lightgbm/basic.py:2065: UserWarning: Using categorical_feature in Dataset.\n",
      "  _log_warning('Using categorical_feature in Dataset.')\n",
      "/opt/conda/envs/practicum/lib/python3.9/site-packages/lightgbm/basic.py:2065: UserWarning: Using categorical_feature in Dataset.\n",
      "  _log_warning('Using categorical_feature in Dataset.')\n",
      "/opt/conda/envs/practicum/lib/python3.9/site-packages/lightgbm/basic.py:2065: UserWarning: Using categorical_feature in Dataset.\n",
      "  _log_warning('Using categorical_feature in Dataset.')\n",
      "/opt/conda/envs/practicum/lib/python3.9/site-packages/lightgbm/basic.py:2065: UserWarning: Using categorical_feature in Dataset.\n",
      "  _log_warning('Using categorical_feature in Dataset.')\n",
      "/opt/conda/envs/practicum/lib/python3.9/site-packages/lightgbm/basic.py:2065: UserWarning: Using categorical_feature in Dataset.\n",
      "  _log_warning('Using categorical_feature in Dataset.')\n",
      "/opt/conda/envs/practicum/lib/python3.9/site-packages/lightgbm/basic.py:2065: UserWarning: Using categorical_feature in Dataset.\n",
      "  _log_warning('Using categorical_feature in Dataset.')\n",
      "/opt/conda/envs/practicum/lib/python3.9/site-packages/lightgbm/basic.py:2065: UserWarning: Using categorical_feature in Dataset.\n",
      "  _log_warning('Using categorical_feature in Dataset.')\n",
      "/opt/conda/envs/practicum/lib/python3.9/site-packages/lightgbm/basic.py:2065: UserWarning: Using categorical_feature in Dataset.\n",
      "  _log_warning('Using categorical_feature in Dataset.')\n",
      "/opt/conda/envs/practicum/lib/python3.9/site-packages/lightgbm/basic.py:2065: UserWarning: Using categorical_feature in Dataset.\n",
      "  _log_warning('Using categorical_feature in Dataset.')\n",
      "/opt/conda/envs/practicum/lib/python3.9/site-packages/lightgbm/basic.py:2065: UserWarning: Using categorical_feature in Dataset.\n",
      "  _log_warning('Using categorical_feature in Dataset.')\n",
      "/opt/conda/envs/practicum/lib/python3.9/site-packages/lightgbm/basic.py:2065: UserWarning: Using categorical_feature in Dataset.\n",
      "  _log_warning('Using categorical_feature in Dataset.')\n",
      "/opt/conda/envs/practicum/lib/python3.9/site-packages/lightgbm/basic.py:2065: UserWarning: Using categorical_feature in Dataset.\n",
      "  _log_warning('Using categorical_feature in Dataset.')\n",
      "/opt/conda/envs/practicum/lib/python3.9/site-packages/lightgbm/basic.py:2065: UserWarning: Using categorical_feature in Dataset.\n",
      "  _log_warning('Using categorical_feature in Dataset.')\n",
      "/opt/conda/envs/practicum/lib/python3.9/site-packages/lightgbm/basic.py:2065: UserWarning: Using categorical_feature in Dataset.\n",
      "  _log_warning('Using categorical_feature in Dataset.')\n",
      "/opt/conda/envs/practicum/lib/python3.9/site-packages/lightgbm/basic.py:2065: UserWarning: Using categorical_feature in Dataset.\n",
      "  _log_warning('Using categorical_feature in Dataset.')\n",
      "/opt/conda/envs/practicum/lib/python3.9/site-packages/lightgbm/basic.py:2065: UserWarning: Using categorical_feature in Dataset.\n",
      "  _log_warning('Using categorical_feature in Dataset.')\n",
      "/opt/conda/envs/practicum/lib/python3.9/site-packages/lightgbm/basic.py:2065: UserWarning: Using categorical_feature in Dataset.\n",
      "  _log_warning('Using categorical_feature in Dataset.')\n",
      "/opt/conda/envs/practicum/lib/python3.9/site-packages/lightgbm/basic.py:2065: UserWarning: Using categorical_feature in Dataset.\n",
      "  _log_warning('Using categorical_feature in Dataset.')\n",
      "/opt/conda/envs/practicum/lib/python3.9/site-packages/lightgbm/basic.py:2065: UserWarning: Using categorical_feature in Dataset.\n",
      "  _log_warning('Using categorical_feature in Dataset.')\n",
      "/opt/conda/envs/practicum/lib/python3.9/site-packages/lightgbm/basic.py:2065: UserWarning: Using categorical_feature in Dataset.\n",
      "  _log_warning('Using categorical_feature in Dataset.')\n"
     ]
    },
    {
     "name": "stderr",
     "output_type": "stream",
     "text": [
      "/opt/conda/envs/practicum/lib/python3.9/site-packages/lightgbm/basic.py:2065: UserWarning: Using categorical_feature in Dataset.\n",
      "  _log_warning('Using categorical_feature in Dataset.')\n",
      "/opt/conda/envs/practicum/lib/python3.9/site-packages/lightgbm/basic.py:2065: UserWarning: Using categorical_feature in Dataset.\n",
      "  _log_warning('Using categorical_feature in Dataset.')\n",
      "/opt/conda/envs/practicum/lib/python3.9/site-packages/lightgbm/basic.py:2065: UserWarning: Using categorical_feature in Dataset.\n",
      "  _log_warning('Using categorical_feature in Dataset.')\n",
      "/opt/conda/envs/practicum/lib/python3.9/site-packages/lightgbm/basic.py:2065: UserWarning: Using categorical_feature in Dataset.\n",
      "  _log_warning('Using categorical_feature in Dataset.')\n",
      "/opt/conda/envs/practicum/lib/python3.9/site-packages/lightgbm/basic.py:2065: UserWarning: Using categorical_feature in Dataset.\n",
      "  _log_warning('Using categorical_feature in Dataset.')\n",
      "/opt/conda/envs/practicum/lib/python3.9/site-packages/lightgbm/basic.py:2065: UserWarning: Using categorical_feature in Dataset.\n",
      "  _log_warning('Using categorical_feature in Dataset.')\n",
      "/opt/conda/envs/practicum/lib/python3.9/site-packages/lightgbm/basic.py:2065: UserWarning: Using categorical_feature in Dataset.\n",
      "  _log_warning('Using categorical_feature in Dataset.')\n",
      "/opt/conda/envs/practicum/lib/python3.9/site-packages/lightgbm/basic.py:2065: UserWarning: Using categorical_feature in Dataset.\n",
      "  _log_warning('Using categorical_feature in Dataset.')\n",
      "/opt/conda/envs/practicum/lib/python3.9/site-packages/lightgbm/basic.py:2065: UserWarning: Using categorical_feature in Dataset.\n",
      "  _log_warning('Using categorical_feature in Dataset.')\n",
      "/opt/conda/envs/practicum/lib/python3.9/site-packages/lightgbm/basic.py:2065: UserWarning: Using categorical_feature in Dataset.\n",
      "  _log_warning('Using categorical_feature in Dataset.')\n",
      "/opt/conda/envs/practicum/lib/python3.9/site-packages/lightgbm/basic.py:2065: UserWarning: Using categorical_feature in Dataset.\n",
      "  _log_warning('Using categorical_feature in Dataset.')\n",
      "/opt/conda/envs/practicum/lib/python3.9/site-packages/lightgbm/basic.py:2065: UserWarning: Using categorical_feature in Dataset.\n",
      "  _log_warning('Using categorical_feature in Dataset.')\n",
      "/opt/conda/envs/practicum/lib/python3.9/site-packages/lightgbm/basic.py:2065: UserWarning: Using categorical_feature in Dataset.\n",
      "  _log_warning('Using categorical_feature in Dataset.')\n",
      "/opt/conda/envs/practicum/lib/python3.9/site-packages/lightgbm/basic.py:2065: UserWarning: Using categorical_feature in Dataset.\n",
      "  _log_warning('Using categorical_feature in Dataset.')\n",
      "/opt/conda/envs/practicum/lib/python3.9/site-packages/lightgbm/basic.py:2065: UserWarning: Using categorical_feature in Dataset.\n",
      "  _log_warning('Using categorical_feature in Dataset.')\n",
      "/opt/conda/envs/practicum/lib/python3.9/site-packages/lightgbm/basic.py:2065: UserWarning: Using categorical_feature in Dataset.\n",
      "  _log_warning('Using categorical_feature in Dataset.')\n",
      "/opt/conda/envs/practicum/lib/python3.9/site-packages/lightgbm/basic.py:2065: UserWarning: Using categorical_feature in Dataset.\n",
      "  _log_warning('Using categorical_feature in Dataset.')\n",
      "/opt/conda/envs/practicum/lib/python3.9/site-packages/lightgbm/basic.py:2065: UserWarning: Using categorical_feature in Dataset.\n",
      "  _log_warning('Using categorical_feature in Dataset.')\n",
      "/opt/conda/envs/practicum/lib/python3.9/site-packages/lightgbm/basic.py:2065: UserWarning: Using categorical_feature in Dataset.\n",
      "  _log_warning('Using categorical_feature in Dataset.')\n",
      "/opt/conda/envs/practicum/lib/python3.9/site-packages/lightgbm/basic.py:2065: UserWarning: Using categorical_feature in Dataset.\n",
      "  _log_warning('Using categorical_feature in Dataset.')\n",
      "/opt/conda/envs/practicum/lib/python3.9/site-packages/lightgbm/basic.py:2065: UserWarning: Using categorical_feature in Dataset.\n",
      "  _log_warning('Using categorical_feature in Dataset.')\n",
      "/opt/conda/envs/practicum/lib/python3.9/site-packages/lightgbm/basic.py:2065: UserWarning: Using categorical_feature in Dataset.\n",
      "  _log_warning('Using categorical_feature in Dataset.')\n",
      "/opt/conda/envs/practicum/lib/python3.9/site-packages/lightgbm/basic.py:2065: UserWarning: Using categorical_feature in Dataset.\n",
      "  _log_warning('Using categorical_feature in Dataset.')\n",
      "/opt/conda/envs/practicum/lib/python3.9/site-packages/lightgbm/basic.py:2065: UserWarning: Using categorical_feature in Dataset.\n",
      "  _log_warning('Using categorical_feature in Dataset.')\n",
      "/opt/conda/envs/practicum/lib/python3.9/site-packages/lightgbm/basic.py:2065: UserWarning: Using categorical_feature in Dataset.\n",
      "  _log_warning('Using categorical_feature in Dataset.')\n",
      "/opt/conda/envs/practicum/lib/python3.9/site-packages/lightgbm/basic.py:2065: UserWarning: Using categorical_feature in Dataset.\n",
      "  _log_warning('Using categorical_feature in Dataset.')\n",
      "/opt/conda/envs/practicum/lib/python3.9/site-packages/lightgbm/basic.py:2065: UserWarning: Using categorical_feature in Dataset.\n",
      "  _log_warning('Using categorical_feature in Dataset.')\n",
      "/opt/conda/envs/practicum/lib/python3.9/site-packages/lightgbm/basic.py:2065: UserWarning: Using categorical_feature in Dataset.\n",
      "  _log_warning('Using categorical_feature in Dataset.')\n",
      "/opt/conda/envs/practicum/lib/python3.9/site-packages/lightgbm/basic.py:2065: UserWarning: Using categorical_feature in Dataset.\n",
      "  _log_warning('Using categorical_feature in Dataset.')\n",
      "/opt/conda/envs/practicum/lib/python3.9/site-packages/lightgbm/basic.py:2065: UserWarning: Using categorical_feature in Dataset.\n",
      "  _log_warning('Using categorical_feature in Dataset.')\n",
      "/opt/conda/envs/practicum/lib/python3.9/site-packages/lightgbm/basic.py:2065: UserWarning: Using categorical_feature in Dataset.\n",
      "  _log_warning('Using categorical_feature in Dataset.')\n",
      "/opt/conda/envs/practicum/lib/python3.9/site-packages/lightgbm/basic.py:2065: UserWarning: Using categorical_feature in Dataset.\n",
      "  _log_warning('Using categorical_feature in Dataset.')\n",
      "/opt/conda/envs/practicum/lib/python3.9/site-packages/lightgbm/basic.py:2065: UserWarning: Using categorical_feature in Dataset.\n",
      "  _log_warning('Using categorical_feature in Dataset.')\n",
      "/opt/conda/envs/practicum/lib/python3.9/site-packages/lightgbm/basic.py:2065: UserWarning: Using categorical_feature in Dataset.\n",
      "  _log_warning('Using categorical_feature in Dataset.')\n",
      "/opt/conda/envs/practicum/lib/python3.9/site-packages/lightgbm/basic.py:2065: UserWarning: Using categorical_feature in Dataset.\n",
      "  _log_warning('Using categorical_feature in Dataset.')\n",
      "/opt/conda/envs/practicum/lib/python3.9/site-packages/lightgbm/basic.py:2065: UserWarning: Using categorical_feature in Dataset.\n",
      "  _log_warning('Using categorical_feature in Dataset.')\n",
      "/opt/conda/envs/practicum/lib/python3.9/site-packages/lightgbm/basic.py:2065: UserWarning: Using categorical_feature in Dataset.\n",
      "  _log_warning('Using categorical_feature in Dataset.')\n",
      "/opt/conda/envs/practicum/lib/python3.9/site-packages/lightgbm/basic.py:2065: UserWarning: Using categorical_feature in Dataset.\n",
      "  _log_warning('Using categorical_feature in Dataset.')\n",
      "/opt/conda/envs/practicum/lib/python3.9/site-packages/lightgbm/basic.py:2065: UserWarning: Using categorical_feature in Dataset.\n",
      "  _log_warning('Using categorical_feature in Dataset.')\n",
      "/opt/conda/envs/practicum/lib/python3.9/site-packages/lightgbm/basic.py:2065: UserWarning: Using categorical_feature in Dataset.\n",
      "  _log_warning('Using categorical_feature in Dataset.')\n",
      "/opt/conda/envs/practicum/lib/python3.9/site-packages/lightgbm/basic.py:2065: UserWarning: Using categorical_feature in Dataset.\n",
      "  _log_warning('Using categorical_feature in Dataset.')\n",
      "/opt/conda/envs/practicum/lib/python3.9/site-packages/lightgbm/basic.py:2065: UserWarning: Using categorical_feature in Dataset.\n",
      "  _log_warning('Using categorical_feature in Dataset.')\n",
      "/opt/conda/envs/practicum/lib/python3.9/site-packages/lightgbm/basic.py:2065: UserWarning: Using categorical_feature in Dataset.\n",
      "  _log_warning('Using categorical_feature in Dataset.')\n",
      "/opt/conda/envs/practicum/lib/python3.9/site-packages/lightgbm/basic.py:2065: UserWarning: Using categorical_feature in Dataset.\n",
      "  _log_warning('Using categorical_feature in Dataset.')\n",
      "/opt/conda/envs/practicum/lib/python3.9/site-packages/lightgbm/basic.py:2065: UserWarning: Using categorical_feature in Dataset.\n",
      "  _log_warning('Using categorical_feature in Dataset.')\n"
     ]
    },
    {
     "name": "stderr",
     "output_type": "stream",
     "text": [
      "/opt/conda/envs/practicum/lib/python3.9/site-packages/lightgbm/basic.py:2065: UserWarning: Using categorical_feature in Dataset.\n",
      "  _log_warning('Using categorical_feature in Dataset.')\n",
      "/opt/conda/envs/practicum/lib/python3.9/site-packages/lightgbm/basic.py:2065: UserWarning: Using categorical_feature in Dataset.\n",
      "  _log_warning('Using categorical_feature in Dataset.')\n",
      "/opt/conda/envs/practicum/lib/python3.9/site-packages/lightgbm/basic.py:2065: UserWarning: Using categorical_feature in Dataset.\n",
      "  _log_warning('Using categorical_feature in Dataset.')\n",
      "/opt/conda/envs/practicum/lib/python3.9/site-packages/lightgbm/basic.py:2065: UserWarning: Using categorical_feature in Dataset.\n",
      "  _log_warning('Using categorical_feature in Dataset.')\n",
      "/opt/conda/envs/practicum/lib/python3.9/site-packages/lightgbm/basic.py:2065: UserWarning: Using categorical_feature in Dataset.\n",
      "  _log_warning('Using categorical_feature in Dataset.')\n",
      "/opt/conda/envs/practicum/lib/python3.9/site-packages/lightgbm/basic.py:2065: UserWarning: Using categorical_feature in Dataset.\n",
      "  _log_warning('Using categorical_feature in Dataset.')\n",
      "/opt/conda/envs/practicum/lib/python3.9/site-packages/lightgbm/basic.py:2065: UserWarning: Using categorical_feature in Dataset.\n",
      "  _log_warning('Using categorical_feature in Dataset.')\n",
      "/opt/conda/envs/practicum/lib/python3.9/site-packages/lightgbm/basic.py:2065: UserWarning: Using categorical_feature in Dataset.\n",
      "  _log_warning('Using categorical_feature in Dataset.')\n",
      "/opt/conda/envs/practicum/lib/python3.9/site-packages/lightgbm/basic.py:2065: UserWarning: Using categorical_feature in Dataset.\n",
      "  _log_warning('Using categorical_feature in Dataset.')\n",
      "/opt/conda/envs/practicum/lib/python3.9/site-packages/lightgbm/basic.py:2065: UserWarning: Using categorical_feature in Dataset.\n",
      "  _log_warning('Using categorical_feature in Dataset.')\n",
      "/opt/conda/envs/practicum/lib/python3.9/site-packages/lightgbm/basic.py:2065: UserWarning: Using categorical_feature in Dataset.\n",
      "  _log_warning('Using categorical_feature in Dataset.')\n",
      "/opt/conda/envs/practicum/lib/python3.9/site-packages/lightgbm/basic.py:2065: UserWarning: Using categorical_feature in Dataset.\n",
      "  _log_warning('Using categorical_feature in Dataset.')\n",
      "/opt/conda/envs/practicum/lib/python3.9/site-packages/lightgbm/basic.py:2065: UserWarning: Using categorical_feature in Dataset.\n",
      "  _log_warning('Using categorical_feature in Dataset.')\n",
      "/opt/conda/envs/practicum/lib/python3.9/site-packages/lightgbm/basic.py:2065: UserWarning: Using categorical_feature in Dataset.\n",
      "  _log_warning('Using categorical_feature in Dataset.')\n",
      "/opt/conda/envs/practicum/lib/python3.9/site-packages/lightgbm/basic.py:2065: UserWarning: Using categorical_feature in Dataset.\n",
      "  _log_warning('Using categorical_feature in Dataset.')\n",
      "/opt/conda/envs/practicum/lib/python3.9/site-packages/lightgbm/basic.py:2065: UserWarning: Using categorical_feature in Dataset.\n",
      "  _log_warning('Using categorical_feature in Dataset.')\n",
      "/opt/conda/envs/practicum/lib/python3.9/site-packages/lightgbm/basic.py:2065: UserWarning: Using categorical_feature in Dataset.\n",
      "  _log_warning('Using categorical_feature in Dataset.')\n",
      "/opt/conda/envs/practicum/lib/python3.9/site-packages/lightgbm/basic.py:2065: UserWarning: Using categorical_feature in Dataset.\n",
      "  _log_warning('Using categorical_feature in Dataset.')\n",
      "/opt/conda/envs/practicum/lib/python3.9/site-packages/lightgbm/basic.py:2065: UserWarning: Using categorical_feature in Dataset.\n",
      "  _log_warning('Using categorical_feature in Dataset.')\n",
      "/opt/conda/envs/practicum/lib/python3.9/site-packages/lightgbm/basic.py:2065: UserWarning: Using categorical_feature in Dataset.\n",
      "  _log_warning('Using categorical_feature in Dataset.')\n",
      "/opt/conda/envs/practicum/lib/python3.9/site-packages/lightgbm/basic.py:2065: UserWarning: Using categorical_feature in Dataset.\n",
      "  _log_warning('Using categorical_feature in Dataset.')\n",
      "/opt/conda/envs/practicum/lib/python3.9/site-packages/lightgbm/basic.py:2065: UserWarning: Using categorical_feature in Dataset.\n",
      "  _log_warning('Using categorical_feature in Dataset.')\n",
      "/opt/conda/envs/practicum/lib/python3.9/site-packages/lightgbm/basic.py:2065: UserWarning: Using categorical_feature in Dataset.\n",
      "  _log_warning('Using categorical_feature in Dataset.')\n",
      "/opt/conda/envs/practicum/lib/python3.9/site-packages/lightgbm/basic.py:2065: UserWarning: Using categorical_feature in Dataset.\n",
      "  _log_warning('Using categorical_feature in Dataset.')\n",
      "/opt/conda/envs/practicum/lib/python3.9/site-packages/lightgbm/basic.py:2065: UserWarning: Using categorical_feature in Dataset.\n",
      "  _log_warning('Using categorical_feature in Dataset.')\n",
      "/opt/conda/envs/practicum/lib/python3.9/site-packages/lightgbm/basic.py:2065: UserWarning: Using categorical_feature in Dataset.\n",
      "  _log_warning('Using categorical_feature in Dataset.')\n",
      "/opt/conda/envs/practicum/lib/python3.9/site-packages/lightgbm/basic.py:2065: UserWarning: Using categorical_feature in Dataset.\n",
      "  _log_warning('Using categorical_feature in Dataset.')\n",
      "/opt/conda/envs/practicum/lib/python3.9/site-packages/lightgbm/basic.py:2065: UserWarning: Using categorical_feature in Dataset.\n",
      "  _log_warning('Using categorical_feature in Dataset.')\n",
      "/opt/conda/envs/practicum/lib/python3.9/site-packages/lightgbm/basic.py:2065: UserWarning: Using categorical_feature in Dataset.\n",
      "  _log_warning('Using categorical_feature in Dataset.')\n",
      "/opt/conda/envs/practicum/lib/python3.9/site-packages/lightgbm/basic.py:2065: UserWarning: Using categorical_feature in Dataset.\n",
      "  _log_warning('Using categorical_feature in Dataset.')\n",
      "/opt/conda/envs/practicum/lib/python3.9/site-packages/lightgbm/basic.py:2065: UserWarning: Using categorical_feature in Dataset.\n",
      "  _log_warning('Using categorical_feature in Dataset.')\n",
      "/opt/conda/envs/practicum/lib/python3.9/site-packages/lightgbm/basic.py:2065: UserWarning: Using categorical_feature in Dataset.\n",
      "  _log_warning('Using categorical_feature in Dataset.')\n",
      "/opt/conda/envs/practicum/lib/python3.9/site-packages/lightgbm/basic.py:2065: UserWarning: Using categorical_feature in Dataset.\n",
      "  _log_warning('Using categorical_feature in Dataset.')\n",
      "/opt/conda/envs/practicum/lib/python3.9/site-packages/lightgbm/basic.py:2065: UserWarning: Using categorical_feature in Dataset.\n",
      "  _log_warning('Using categorical_feature in Dataset.')\n",
      "/opt/conda/envs/practicum/lib/python3.9/site-packages/lightgbm/basic.py:2065: UserWarning: Using categorical_feature in Dataset.\n",
      "  _log_warning('Using categorical_feature in Dataset.')\n",
      "/opt/conda/envs/practicum/lib/python3.9/site-packages/lightgbm/basic.py:2065: UserWarning: Using categorical_feature in Dataset.\n",
      "  _log_warning('Using categorical_feature in Dataset.')\n",
      "/opt/conda/envs/practicum/lib/python3.9/site-packages/lightgbm/basic.py:2065: UserWarning: Using categorical_feature in Dataset.\n",
      "  _log_warning('Using categorical_feature in Dataset.')\n",
      "/opt/conda/envs/practicum/lib/python3.9/site-packages/lightgbm/basic.py:2065: UserWarning: Using categorical_feature in Dataset.\n",
      "  _log_warning('Using categorical_feature in Dataset.')\n",
      "/opt/conda/envs/practicum/lib/python3.9/site-packages/lightgbm/basic.py:2065: UserWarning: Using categorical_feature in Dataset.\n",
      "  _log_warning('Using categorical_feature in Dataset.')\n",
      "/opt/conda/envs/practicum/lib/python3.9/site-packages/lightgbm/basic.py:2065: UserWarning: Using categorical_feature in Dataset.\n",
      "  _log_warning('Using categorical_feature in Dataset.')\n",
      "/opt/conda/envs/practicum/lib/python3.9/site-packages/lightgbm/basic.py:2065: UserWarning: Using categorical_feature in Dataset.\n",
      "  _log_warning('Using categorical_feature in Dataset.')\n",
      "/opt/conda/envs/practicum/lib/python3.9/site-packages/lightgbm/basic.py:2065: UserWarning: Using categorical_feature in Dataset.\n",
      "  _log_warning('Using categorical_feature in Dataset.')\n",
      "/opt/conda/envs/practicum/lib/python3.9/site-packages/lightgbm/basic.py:2065: UserWarning: Using categorical_feature in Dataset.\n",
      "  _log_warning('Using categorical_feature in Dataset.')\n",
      "/opt/conda/envs/practicum/lib/python3.9/site-packages/lightgbm/basic.py:2065: UserWarning: Using categorical_feature in Dataset.\n",
      "  _log_warning('Using categorical_feature in Dataset.')\n",
      "/opt/conda/envs/practicum/lib/python3.9/site-packages/lightgbm/basic.py:2065: UserWarning: Using categorical_feature in Dataset.\n",
      "  _log_warning('Using categorical_feature in Dataset.')\n"
     ]
    },
    {
     "name": "stderr",
     "output_type": "stream",
     "text": [
      "/opt/conda/envs/practicum/lib/python3.9/site-packages/lightgbm/basic.py:2065: UserWarning: Using categorical_feature in Dataset.\n",
      "  _log_warning('Using categorical_feature in Dataset.')\n",
      "/opt/conda/envs/practicum/lib/python3.9/site-packages/lightgbm/basic.py:2065: UserWarning: Using categorical_feature in Dataset.\n",
      "  _log_warning('Using categorical_feature in Dataset.')\n",
      "/opt/conda/envs/practicum/lib/python3.9/site-packages/lightgbm/basic.py:2065: UserWarning: Using categorical_feature in Dataset.\n",
      "  _log_warning('Using categorical_feature in Dataset.')\n",
      "/opt/conda/envs/practicum/lib/python3.9/site-packages/lightgbm/basic.py:2065: UserWarning: Using categorical_feature in Dataset.\n",
      "  _log_warning('Using categorical_feature in Dataset.')\n",
      "/opt/conda/envs/practicum/lib/python3.9/site-packages/lightgbm/basic.py:2065: UserWarning: Using categorical_feature in Dataset.\n",
      "  _log_warning('Using categorical_feature in Dataset.')\n",
      "/opt/conda/envs/practicum/lib/python3.9/site-packages/lightgbm/basic.py:2065: UserWarning: Using categorical_feature in Dataset.\n",
      "  _log_warning('Using categorical_feature in Dataset.')\n",
      "/opt/conda/envs/practicum/lib/python3.9/site-packages/lightgbm/basic.py:2065: UserWarning: Using categorical_feature in Dataset.\n",
      "  _log_warning('Using categorical_feature in Dataset.')\n",
      "/opt/conda/envs/practicum/lib/python3.9/site-packages/lightgbm/basic.py:2065: UserWarning: Using categorical_feature in Dataset.\n",
      "  _log_warning('Using categorical_feature in Dataset.')\n",
      "/opt/conda/envs/practicum/lib/python3.9/site-packages/lightgbm/basic.py:2065: UserWarning: Using categorical_feature in Dataset.\n",
      "  _log_warning('Using categorical_feature in Dataset.')\n",
      "/opt/conda/envs/practicum/lib/python3.9/site-packages/lightgbm/basic.py:2065: UserWarning: Using categorical_feature in Dataset.\n",
      "  _log_warning('Using categorical_feature in Dataset.')\n",
      "/opt/conda/envs/practicum/lib/python3.9/site-packages/lightgbm/basic.py:2065: UserWarning: Using categorical_feature in Dataset.\n",
      "  _log_warning('Using categorical_feature in Dataset.')\n",
      "/opt/conda/envs/practicum/lib/python3.9/site-packages/lightgbm/basic.py:2065: UserWarning: Using categorical_feature in Dataset.\n",
      "  _log_warning('Using categorical_feature in Dataset.')\n",
      "/opt/conda/envs/practicum/lib/python3.9/site-packages/lightgbm/basic.py:2065: UserWarning: Using categorical_feature in Dataset.\n",
      "  _log_warning('Using categorical_feature in Dataset.')\n",
      "/opt/conda/envs/practicum/lib/python3.9/site-packages/lightgbm/basic.py:2065: UserWarning: Using categorical_feature in Dataset.\n",
      "  _log_warning('Using categorical_feature in Dataset.')\n",
      "/opt/conda/envs/practicum/lib/python3.9/site-packages/lightgbm/basic.py:2065: UserWarning: Using categorical_feature in Dataset.\n",
      "  _log_warning('Using categorical_feature in Dataset.')\n",
      "/opt/conda/envs/practicum/lib/python3.9/site-packages/lightgbm/basic.py:2065: UserWarning: Using categorical_feature in Dataset.\n",
      "  _log_warning('Using categorical_feature in Dataset.')\n",
      "/opt/conda/envs/practicum/lib/python3.9/site-packages/lightgbm/basic.py:2065: UserWarning: Using categorical_feature in Dataset.\n",
      "  _log_warning('Using categorical_feature in Dataset.')\n",
      "/opt/conda/envs/practicum/lib/python3.9/site-packages/lightgbm/basic.py:2065: UserWarning: Using categorical_feature in Dataset.\n",
      "  _log_warning('Using categorical_feature in Dataset.')\n",
      "/opt/conda/envs/practicum/lib/python3.9/site-packages/lightgbm/basic.py:2065: UserWarning: Using categorical_feature in Dataset.\n",
      "  _log_warning('Using categorical_feature in Dataset.')\n",
      "/opt/conda/envs/practicum/lib/python3.9/site-packages/lightgbm/basic.py:2065: UserWarning: Using categorical_feature in Dataset.\n",
      "  _log_warning('Using categorical_feature in Dataset.')\n",
      "/opt/conda/envs/practicum/lib/python3.9/site-packages/lightgbm/basic.py:2065: UserWarning: Using categorical_feature in Dataset.\n",
      "  _log_warning('Using categorical_feature in Dataset.')\n",
      "/opt/conda/envs/practicum/lib/python3.9/site-packages/lightgbm/basic.py:2065: UserWarning: Using categorical_feature in Dataset.\n",
      "  _log_warning('Using categorical_feature in Dataset.')\n",
      "/opt/conda/envs/practicum/lib/python3.9/site-packages/lightgbm/basic.py:2065: UserWarning: Using categorical_feature in Dataset.\n",
      "  _log_warning('Using categorical_feature in Dataset.')\n",
      "/opt/conda/envs/practicum/lib/python3.9/site-packages/lightgbm/basic.py:2065: UserWarning: Using categorical_feature in Dataset.\n",
      "  _log_warning('Using categorical_feature in Dataset.')\n",
      "/opt/conda/envs/practicum/lib/python3.9/site-packages/lightgbm/basic.py:2065: UserWarning: Using categorical_feature in Dataset.\n",
      "  _log_warning('Using categorical_feature in Dataset.')\n",
      "/opt/conda/envs/practicum/lib/python3.9/site-packages/lightgbm/basic.py:2065: UserWarning: Using categorical_feature in Dataset.\n",
      "  _log_warning('Using categorical_feature in Dataset.')\n",
      "/opt/conda/envs/practicum/lib/python3.9/site-packages/lightgbm/basic.py:2065: UserWarning: Using categorical_feature in Dataset.\n",
      "  _log_warning('Using categorical_feature in Dataset.')\n",
      "/opt/conda/envs/practicum/lib/python3.9/site-packages/lightgbm/basic.py:2065: UserWarning: Using categorical_feature in Dataset.\n",
      "  _log_warning('Using categorical_feature in Dataset.')\n",
      "/opt/conda/envs/practicum/lib/python3.9/site-packages/lightgbm/basic.py:2065: UserWarning: Using categorical_feature in Dataset.\n",
      "  _log_warning('Using categorical_feature in Dataset.')\n",
      "/opt/conda/envs/practicum/lib/python3.9/site-packages/lightgbm/basic.py:2065: UserWarning: Using categorical_feature in Dataset.\n",
      "  _log_warning('Using categorical_feature in Dataset.')\n",
      "/opt/conda/envs/practicum/lib/python3.9/site-packages/lightgbm/basic.py:2065: UserWarning: Using categorical_feature in Dataset.\n",
      "  _log_warning('Using categorical_feature in Dataset.')\n",
      "/opt/conda/envs/practicum/lib/python3.9/site-packages/lightgbm/basic.py:2065: UserWarning: Using categorical_feature in Dataset.\n",
      "  _log_warning('Using categorical_feature in Dataset.')\n",
      "/opt/conda/envs/practicum/lib/python3.9/site-packages/lightgbm/basic.py:2065: UserWarning: Using categorical_feature in Dataset.\n",
      "  _log_warning('Using categorical_feature in Dataset.')\n",
      "/opt/conda/envs/practicum/lib/python3.9/site-packages/lightgbm/basic.py:2065: UserWarning: Using categorical_feature in Dataset.\n",
      "  _log_warning('Using categorical_feature in Dataset.')\n",
      "/opt/conda/envs/practicum/lib/python3.9/site-packages/lightgbm/basic.py:2065: UserWarning: Using categorical_feature in Dataset.\n",
      "  _log_warning('Using categorical_feature in Dataset.')\n",
      "/opt/conda/envs/practicum/lib/python3.9/site-packages/lightgbm/basic.py:2065: UserWarning: Using categorical_feature in Dataset.\n",
      "  _log_warning('Using categorical_feature in Dataset.')\n",
      "/opt/conda/envs/practicum/lib/python3.9/site-packages/lightgbm/basic.py:2065: UserWarning: Using categorical_feature in Dataset.\n",
      "  _log_warning('Using categorical_feature in Dataset.')\n",
      "/opt/conda/envs/practicum/lib/python3.9/site-packages/lightgbm/basic.py:2065: UserWarning: Using categorical_feature in Dataset.\n",
      "  _log_warning('Using categorical_feature in Dataset.')\n",
      "/opt/conda/envs/practicum/lib/python3.9/site-packages/lightgbm/basic.py:2065: UserWarning: Using categorical_feature in Dataset.\n",
      "  _log_warning('Using categorical_feature in Dataset.')\n",
      "/opt/conda/envs/practicum/lib/python3.9/site-packages/lightgbm/basic.py:2065: UserWarning: Using categorical_feature in Dataset.\n",
      "  _log_warning('Using categorical_feature in Dataset.')\n",
      "/opt/conda/envs/practicum/lib/python3.9/site-packages/lightgbm/basic.py:2065: UserWarning: Using categorical_feature in Dataset.\n",
      "  _log_warning('Using categorical_feature in Dataset.')\n",
      "/opt/conda/envs/practicum/lib/python3.9/site-packages/lightgbm/basic.py:2065: UserWarning: Using categorical_feature in Dataset.\n",
      "  _log_warning('Using categorical_feature in Dataset.')\n",
      "/opt/conda/envs/practicum/lib/python3.9/site-packages/lightgbm/basic.py:2065: UserWarning: Using categorical_feature in Dataset.\n",
      "  _log_warning('Using categorical_feature in Dataset.')\n",
      "/opt/conda/envs/practicum/lib/python3.9/site-packages/lightgbm/basic.py:2065: UserWarning: Using categorical_feature in Dataset.\n",
      "  _log_warning('Using categorical_feature in Dataset.')\n",
      "/opt/conda/envs/practicum/lib/python3.9/site-packages/lightgbm/basic.py:2065: UserWarning: Using categorical_feature in Dataset.\n",
      "  _log_warning('Using categorical_feature in Dataset.')\n"
     ]
    },
    {
     "name": "stderr",
     "output_type": "stream",
     "text": [
      "/opt/conda/envs/practicum/lib/python3.9/site-packages/lightgbm/basic.py:2065: UserWarning: Using categorical_feature in Dataset.\n",
      "  _log_warning('Using categorical_feature in Dataset.')\n",
      "/opt/conda/envs/practicum/lib/python3.9/site-packages/lightgbm/basic.py:2065: UserWarning: Using categorical_feature in Dataset.\n",
      "  _log_warning('Using categorical_feature in Dataset.')\n",
      "/opt/conda/envs/practicum/lib/python3.9/site-packages/lightgbm/basic.py:2065: UserWarning: Using categorical_feature in Dataset.\n",
      "  _log_warning('Using categorical_feature in Dataset.')\n",
      "/opt/conda/envs/practicum/lib/python3.9/site-packages/lightgbm/basic.py:2065: UserWarning: Using categorical_feature in Dataset.\n",
      "  _log_warning('Using categorical_feature in Dataset.')\n",
      "/opt/conda/envs/practicum/lib/python3.9/site-packages/lightgbm/basic.py:2065: UserWarning: Using categorical_feature in Dataset.\n",
      "  _log_warning('Using categorical_feature in Dataset.')\n",
      "/opt/conda/envs/practicum/lib/python3.9/site-packages/lightgbm/basic.py:2065: UserWarning: Using categorical_feature in Dataset.\n",
      "  _log_warning('Using categorical_feature in Dataset.')\n",
      "/opt/conda/envs/practicum/lib/python3.9/site-packages/lightgbm/basic.py:2065: UserWarning: Using categorical_feature in Dataset.\n",
      "  _log_warning('Using categorical_feature in Dataset.')\n",
      "/opt/conda/envs/practicum/lib/python3.9/site-packages/lightgbm/basic.py:2065: UserWarning: Using categorical_feature in Dataset.\n",
      "  _log_warning('Using categorical_feature in Dataset.')\n",
      "/opt/conda/envs/practicum/lib/python3.9/site-packages/lightgbm/basic.py:2065: UserWarning: Using categorical_feature in Dataset.\n",
      "  _log_warning('Using categorical_feature in Dataset.')\n",
      "/opt/conda/envs/practicum/lib/python3.9/site-packages/lightgbm/basic.py:2065: UserWarning: Using categorical_feature in Dataset.\n",
      "  _log_warning('Using categorical_feature in Dataset.')\n",
      "/opt/conda/envs/practicum/lib/python3.9/site-packages/lightgbm/basic.py:2065: UserWarning: Using categorical_feature in Dataset.\n",
      "  _log_warning('Using categorical_feature in Dataset.')\n",
      "/opt/conda/envs/practicum/lib/python3.9/site-packages/lightgbm/basic.py:2065: UserWarning: Using categorical_feature in Dataset.\n",
      "  _log_warning('Using categorical_feature in Dataset.')\n",
      "/opt/conda/envs/practicum/lib/python3.9/site-packages/lightgbm/basic.py:2065: UserWarning: Using categorical_feature in Dataset.\n",
      "  _log_warning('Using categorical_feature in Dataset.')\n",
      "/opt/conda/envs/practicum/lib/python3.9/site-packages/lightgbm/basic.py:2065: UserWarning: Using categorical_feature in Dataset.\n",
      "  _log_warning('Using categorical_feature in Dataset.')\n",
      "/opt/conda/envs/practicum/lib/python3.9/site-packages/lightgbm/basic.py:2065: UserWarning: Using categorical_feature in Dataset.\n",
      "  _log_warning('Using categorical_feature in Dataset.')\n",
      "/opt/conda/envs/practicum/lib/python3.9/site-packages/lightgbm/basic.py:2065: UserWarning: Using categorical_feature in Dataset.\n",
      "  _log_warning('Using categorical_feature in Dataset.')\n",
      "/opt/conda/envs/practicum/lib/python3.9/site-packages/lightgbm/basic.py:2065: UserWarning: Using categorical_feature in Dataset.\n",
      "  _log_warning('Using categorical_feature in Dataset.')\n",
      "/opt/conda/envs/practicum/lib/python3.9/site-packages/lightgbm/basic.py:2065: UserWarning: Using categorical_feature in Dataset.\n",
      "  _log_warning('Using categorical_feature in Dataset.')\n",
      "/opt/conda/envs/practicum/lib/python3.9/site-packages/lightgbm/basic.py:2065: UserWarning: Using categorical_feature in Dataset.\n",
      "  _log_warning('Using categorical_feature in Dataset.')\n",
      "/opt/conda/envs/practicum/lib/python3.9/site-packages/lightgbm/basic.py:2065: UserWarning: Using categorical_feature in Dataset.\n",
      "  _log_warning('Using categorical_feature in Dataset.')\n",
      "/opt/conda/envs/practicum/lib/python3.9/site-packages/lightgbm/basic.py:2065: UserWarning: Using categorical_feature in Dataset.\n",
      "  _log_warning('Using categorical_feature in Dataset.')\n",
      "/opt/conda/envs/practicum/lib/python3.9/site-packages/lightgbm/basic.py:2065: UserWarning: Using categorical_feature in Dataset.\n",
      "  _log_warning('Using categorical_feature in Dataset.')\n",
      "/opt/conda/envs/practicum/lib/python3.9/site-packages/lightgbm/basic.py:2065: UserWarning: Using categorical_feature in Dataset.\n",
      "  _log_warning('Using categorical_feature in Dataset.')\n",
      "/opt/conda/envs/practicum/lib/python3.9/site-packages/lightgbm/basic.py:2065: UserWarning: Using categorical_feature in Dataset.\n",
      "  _log_warning('Using categorical_feature in Dataset.')\n",
      "/opt/conda/envs/practicum/lib/python3.9/site-packages/lightgbm/basic.py:2065: UserWarning: Using categorical_feature in Dataset.\n",
      "  _log_warning('Using categorical_feature in Dataset.')\n",
      "/opt/conda/envs/practicum/lib/python3.9/site-packages/lightgbm/basic.py:2065: UserWarning: Using categorical_feature in Dataset.\n",
      "  _log_warning('Using categorical_feature in Dataset.')\n",
      "/opt/conda/envs/practicum/lib/python3.9/site-packages/lightgbm/basic.py:2065: UserWarning: Using categorical_feature in Dataset.\n",
      "  _log_warning('Using categorical_feature in Dataset.')\n",
      "/opt/conda/envs/practicum/lib/python3.9/site-packages/lightgbm/basic.py:2065: UserWarning: Using categorical_feature in Dataset.\n",
      "  _log_warning('Using categorical_feature in Dataset.')\n",
      "/opt/conda/envs/practicum/lib/python3.9/site-packages/lightgbm/basic.py:2065: UserWarning: Using categorical_feature in Dataset.\n",
      "  _log_warning('Using categorical_feature in Dataset.')\n",
      "/opt/conda/envs/practicum/lib/python3.9/site-packages/lightgbm/basic.py:2065: UserWarning: Using categorical_feature in Dataset.\n",
      "  _log_warning('Using categorical_feature in Dataset.')\n",
      "/opt/conda/envs/practicum/lib/python3.9/site-packages/lightgbm/basic.py:2065: UserWarning: Using categorical_feature in Dataset.\n",
      "  _log_warning('Using categorical_feature in Dataset.')\n",
      "/opt/conda/envs/practicum/lib/python3.9/site-packages/lightgbm/basic.py:2065: UserWarning: Using categorical_feature in Dataset.\n",
      "  _log_warning('Using categorical_feature in Dataset.')\n",
      "/opt/conda/envs/practicum/lib/python3.9/site-packages/lightgbm/basic.py:2065: UserWarning: Using categorical_feature in Dataset.\n",
      "  _log_warning('Using categorical_feature in Dataset.')\n",
      "/opt/conda/envs/practicum/lib/python3.9/site-packages/lightgbm/basic.py:2065: UserWarning: Using categorical_feature in Dataset.\n",
      "  _log_warning('Using categorical_feature in Dataset.')\n",
      "/opt/conda/envs/practicum/lib/python3.9/site-packages/lightgbm/basic.py:2065: UserWarning: Using categorical_feature in Dataset.\n",
      "  _log_warning('Using categorical_feature in Dataset.')\n",
      "/opt/conda/envs/practicum/lib/python3.9/site-packages/lightgbm/basic.py:2065: UserWarning: Using categorical_feature in Dataset.\n",
      "  _log_warning('Using categorical_feature in Dataset.')\n",
      "/opt/conda/envs/practicum/lib/python3.9/site-packages/lightgbm/basic.py:2065: UserWarning: Using categorical_feature in Dataset.\n",
      "  _log_warning('Using categorical_feature in Dataset.')\n",
      "/opt/conda/envs/practicum/lib/python3.9/site-packages/lightgbm/basic.py:2065: UserWarning: Using categorical_feature in Dataset.\n",
      "  _log_warning('Using categorical_feature in Dataset.')\n",
      "/opt/conda/envs/practicum/lib/python3.9/site-packages/lightgbm/basic.py:2065: UserWarning: Using categorical_feature in Dataset.\n",
      "  _log_warning('Using categorical_feature in Dataset.')\n",
      "/opt/conda/envs/practicum/lib/python3.9/site-packages/lightgbm/basic.py:2065: UserWarning: Using categorical_feature in Dataset.\n",
      "  _log_warning('Using categorical_feature in Dataset.')\n",
      "/opt/conda/envs/practicum/lib/python3.9/site-packages/lightgbm/basic.py:2065: UserWarning: Using categorical_feature in Dataset.\n",
      "  _log_warning('Using categorical_feature in Dataset.')\n",
      "/opt/conda/envs/practicum/lib/python3.9/site-packages/lightgbm/basic.py:2065: UserWarning: Using categorical_feature in Dataset.\n",
      "  _log_warning('Using categorical_feature in Dataset.')\n",
      "/opt/conda/envs/practicum/lib/python3.9/site-packages/lightgbm/basic.py:2065: UserWarning: Using categorical_feature in Dataset.\n",
      "  _log_warning('Using categorical_feature in Dataset.')\n",
      "/opt/conda/envs/practicum/lib/python3.9/site-packages/lightgbm/basic.py:2065: UserWarning: Using categorical_feature in Dataset.\n",
      "  _log_warning('Using categorical_feature in Dataset.')\n",
      "/opt/conda/envs/practicum/lib/python3.9/site-packages/lightgbm/basic.py:2065: UserWarning: Using categorical_feature in Dataset.\n",
      "  _log_warning('Using categorical_feature in Dataset.')\n"
     ]
    },
    {
     "name": "stderr",
     "output_type": "stream",
     "text": [
      "/opt/conda/envs/practicum/lib/python3.9/site-packages/lightgbm/basic.py:2065: UserWarning: Using categorical_feature in Dataset.\n",
      "  _log_warning('Using categorical_feature in Dataset.')\n",
      "/opt/conda/envs/practicum/lib/python3.9/site-packages/lightgbm/basic.py:2065: UserWarning: Using categorical_feature in Dataset.\n",
      "  _log_warning('Using categorical_feature in Dataset.')\n",
      "/opt/conda/envs/practicum/lib/python3.9/site-packages/lightgbm/basic.py:2065: UserWarning: Using categorical_feature in Dataset.\n",
      "  _log_warning('Using categorical_feature in Dataset.')\n",
      "/opt/conda/envs/practicum/lib/python3.9/site-packages/lightgbm/basic.py:2065: UserWarning: Using categorical_feature in Dataset.\n",
      "  _log_warning('Using categorical_feature in Dataset.')\n",
      "/opt/conda/envs/practicum/lib/python3.9/site-packages/lightgbm/basic.py:2065: UserWarning: Using categorical_feature in Dataset.\n",
      "  _log_warning('Using categorical_feature in Dataset.')\n",
      "/opt/conda/envs/practicum/lib/python3.9/site-packages/lightgbm/basic.py:2065: UserWarning: Using categorical_feature in Dataset.\n",
      "  _log_warning('Using categorical_feature in Dataset.')\n",
      "/opt/conda/envs/practicum/lib/python3.9/site-packages/lightgbm/basic.py:2065: UserWarning: Using categorical_feature in Dataset.\n",
      "  _log_warning('Using categorical_feature in Dataset.')\n",
      "/opt/conda/envs/practicum/lib/python3.9/site-packages/lightgbm/basic.py:2065: UserWarning: Using categorical_feature in Dataset.\n",
      "  _log_warning('Using categorical_feature in Dataset.')\n",
      "/opt/conda/envs/practicum/lib/python3.9/site-packages/lightgbm/basic.py:2065: UserWarning: Using categorical_feature in Dataset.\n",
      "  _log_warning('Using categorical_feature in Dataset.')\n",
      "/opt/conda/envs/practicum/lib/python3.9/site-packages/lightgbm/basic.py:2065: UserWarning: Using categorical_feature in Dataset.\n",
      "  _log_warning('Using categorical_feature in Dataset.')\n",
      "/opt/conda/envs/practicum/lib/python3.9/site-packages/lightgbm/basic.py:2065: UserWarning: Using categorical_feature in Dataset.\n",
      "  _log_warning('Using categorical_feature in Dataset.')\n",
      "/opt/conda/envs/practicum/lib/python3.9/site-packages/lightgbm/basic.py:2065: UserWarning: Using categorical_feature in Dataset.\n",
      "  _log_warning('Using categorical_feature in Dataset.')\n",
      "/opt/conda/envs/practicum/lib/python3.9/site-packages/lightgbm/basic.py:2065: UserWarning: Using categorical_feature in Dataset.\n",
      "  _log_warning('Using categorical_feature in Dataset.')\n",
      "/opt/conda/envs/practicum/lib/python3.9/site-packages/lightgbm/basic.py:2065: UserWarning: Using categorical_feature in Dataset.\n",
      "  _log_warning('Using categorical_feature in Dataset.')\n",
      "/opt/conda/envs/practicum/lib/python3.9/site-packages/lightgbm/basic.py:2065: UserWarning: Using categorical_feature in Dataset.\n",
      "  _log_warning('Using categorical_feature in Dataset.')\n",
      "/opt/conda/envs/practicum/lib/python3.9/site-packages/lightgbm/basic.py:2065: UserWarning: Using categorical_feature in Dataset.\n",
      "  _log_warning('Using categorical_feature in Dataset.')\n",
      "/opt/conda/envs/practicum/lib/python3.9/site-packages/lightgbm/basic.py:2065: UserWarning: Using categorical_feature in Dataset.\n",
      "  _log_warning('Using categorical_feature in Dataset.')\n",
      "/opt/conda/envs/practicum/lib/python3.9/site-packages/lightgbm/basic.py:2065: UserWarning: Using categorical_feature in Dataset.\n",
      "  _log_warning('Using categorical_feature in Dataset.')\n",
      "/opt/conda/envs/practicum/lib/python3.9/site-packages/lightgbm/basic.py:2065: UserWarning: Using categorical_feature in Dataset.\n",
      "  _log_warning('Using categorical_feature in Dataset.')\n",
      "/opt/conda/envs/practicum/lib/python3.9/site-packages/lightgbm/basic.py:2065: UserWarning: Using categorical_feature in Dataset.\n",
      "  _log_warning('Using categorical_feature in Dataset.')\n",
      "/opt/conda/envs/practicum/lib/python3.9/site-packages/lightgbm/basic.py:2065: UserWarning: Using categorical_feature in Dataset.\n",
      "  _log_warning('Using categorical_feature in Dataset.')\n",
      "/opt/conda/envs/practicum/lib/python3.9/site-packages/lightgbm/basic.py:2065: UserWarning: Using categorical_feature in Dataset.\n",
      "  _log_warning('Using categorical_feature in Dataset.')\n",
      "/opt/conda/envs/practicum/lib/python3.9/site-packages/lightgbm/basic.py:2065: UserWarning: Using categorical_feature in Dataset.\n",
      "  _log_warning('Using categorical_feature in Dataset.')\n",
      "/opt/conda/envs/practicum/lib/python3.9/site-packages/lightgbm/basic.py:2065: UserWarning: Using categorical_feature in Dataset.\n",
      "  _log_warning('Using categorical_feature in Dataset.')\n",
      "/opt/conda/envs/practicum/lib/python3.9/site-packages/lightgbm/basic.py:2065: UserWarning: Using categorical_feature in Dataset.\n",
      "  _log_warning('Using categorical_feature in Dataset.')\n",
      "/opt/conda/envs/practicum/lib/python3.9/site-packages/lightgbm/basic.py:2065: UserWarning: Using categorical_feature in Dataset.\n",
      "  _log_warning('Using categorical_feature in Dataset.')\n",
      "/opt/conda/envs/practicum/lib/python3.9/site-packages/lightgbm/basic.py:2065: UserWarning: Using categorical_feature in Dataset.\n",
      "  _log_warning('Using categorical_feature in Dataset.')\n",
      "/opt/conda/envs/practicum/lib/python3.9/site-packages/lightgbm/basic.py:2065: UserWarning: Using categorical_feature in Dataset.\n",
      "  _log_warning('Using categorical_feature in Dataset.')\n",
      "/opt/conda/envs/practicum/lib/python3.9/site-packages/lightgbm/basic.py:2065: UserWarning: Using categorical_feature in Dataset.\n",
      "  _log_warning('Using categorical_feature in Dataset.')\n",
      "/opt/conda/envs/practicum/lib/python3.9/site-packages/lightgbm/basic.py:2065: UserWarning: Using categorical_feature in Dataset.\n",
      "  _log_warning('Using categorical_feature in Dataset.')\n",
      "/opt/conda/envs/practicum/lib/python3.9/site-packages/lightgbm/basic.py:2065: UserWarning: Using categorical_feature in Dataset.\n",
      "  _log_warning('Using categorical_feature in Dataset.')\n",
      "/opt/conda/envs/practicum/lib/python3.9/site-packages/lightgbm/basic.py:2065: UserWarning: Using categorical_feature in Dataset.\n",
      "  _log_warning('Using categorical_feature in Dataset.')\n",
      "/opt/conda/envs/practicum/lib/python3.9/site-packages/lightgbm/basic.py:2065: UserWarning: Using categorical_feature in Dataset.\n",
      "  _log_warning('Using categorical_feature in Dataset.')\n",
      "/opt/conda/envs/practicum/lib/python3.9/site-packages/lightgbm/basic.py:2065: UserWarning: Using categorical_feature in Dataset.\n",
      "  _log_warning('Using categorical_feature in Dataset.')\n",
      "/opt/conda/envs/practicum/lib/python3.9/site-packages/lightgbm/basic.py:2065: UserWarning: Using categorical_feature in Dataset.\n",
      "  _log_warning('Using categorical_feature in Dataset.')\n",
      "/opt/conda/envs/practicum/lib/python3.9/site-packages/lightgbm/basic.py:2065: UserWarning: Using categorical_feature in Dataset.\n",
      "  _log_warning('Using categorical_feature in Dataset.')\n",
      "/opt/conda/envs/practicum/lib/python3.9/site-packages/lightgbm/basic.py:2065: UserWarning: Using categorical_feature in Dataset.\n",
      "  _log_warning('Using categorical_feature in Dataset.')\n",
      "/opt/conda/envs/practicum/lib/python3.9/site-packages/lightgbm/basic.py:2065: UserWarning: Using categorical_feature in Dataset.\n",
      "  _log_warning('Using categorical_feature in Dataset.')\n",
      "/opt/conda/envs/practicum/lib/python3.9/site-packages/lightgbm/basic.py:2065: UserWarning: Using categorical_feature in Dataset.\n",
      "  _log_warning('Using categorical_feature in Dataset.')\n",
      "/opt/conda/envs/practicum/lib/python3.9/site-packages/lightgbm/basic.py:2065: UserWarning: Using categorical_feature in Dataset.\n",
      "  _log_warning('Using categorical_feature in Dataset.')\n",
      "/opt/conda/envs/practicum/lib/python3.9/site-packages/lightgbm/basic.py:2065: UserWarning: Using categorical_feature in Dataset.\n",
      "  _log_warning('Using categorical_feature in Dataset.')\n",
      "/opt/conda/envs/practicum/lib/python3.9/site-packages/lightgbm/basic.py:2065: UserWarning: Using categorical_feature in Dataset.\n",
      "  _log_warning('Using categorical_feature in Dataset.')\n",
      "/opt/conda/envs/practicum/lib/python3.9/site-packages/lightgbm/basic.py:2065: UserWarning: Using categorical_feature in Dataset.\n",
      "  _log_warning('Using categorical_feature in Dataset.')\n",
      "/opt/conda/envs/practicum/lib/python3.9/site-packages/lightgbm/basic.py:2065: UserWarning: Using categorical_feature in Dataset.\n",
      "  _log_warning('Using categorical_feature in Dataset.')\n",
      "/opt/conda/envs/practicum/lib/python3.9/site-packages/lightgbm/basic.py:2065: UserWarning: Using categorical_feature in Dataset.\n",
      "  _log_warning('Using categorical_feature in Dataset.')\n"
     ]
    },
    {
     "name": "stderr",
     "output_type": "stream",
     "text": [
      "/opt/conda/envs/practicum/lib/python3.9/site-packages/lightgbm/basic.py:2065: UserWarning: Using categorical_feature in Dataset.\n",
      "  _log_warning('Using categorical_feature in Dataset.')\n",
      "/opt/conda/envs/practicum/lib/python3.9/site-packages/lightgbm/basic.py:2065: UserWarning: Using categorical_feature in Dataset.\n",
      "  _log_warning('Using categorical_feature in Dataset.')\n",
      "/opt/conda/envs/practicum/lib/python3.9/site-packages/lightgbm/basic.py:2065: UserWarning: Using categorical_feature in Dataset.\n",
      "  _log_warning('Using categorical_feature in Dataset.')\n",
      "/opt/conda/envs/practicum/lib/python3.9/site-packages/lightgbm/basic.py:2065: UserWarning: Using categorical_feature in Dataset.\n",
      "  _log_warning('Using categorical_feature in Dataset.')\n",
      "/opt/conda/envs/practicum/lib/python3.9/site-packages/lightgbm/basic.py:2065: UserWarning: Using categorical_feature in Dataset.\n",
      "  _log_warning('Using categorical_feature in Dataset.')\n",
      "/opt/conda/envs/practicum/lib/python3.9/site-packages/lightgbm/basic.py:2065: UserWarning: Using categorical_feature in Dataset.\n",
      "  _log_warning('Using categorical_feature in Dataset.')\n",
      "/opt/conda/envs/practicum/lib/python3.9/site-packages/lightgbm/basic.py:2065: UserWarning: Using categorical_feature in Dataset.\n",
      "  _log_warning('Using categorical_feature in Dataset.')\n",
      "/opt/conda/envs/practicum/lib/python3.9/site-packages/lightgbm/basic.py:2065: UserWarning: Using categorical_feature in Dataset.\n",
      "  _log_warning('Using categorical_feature in Dataset.')\n",
      "/opt/conda/envs/practicum/lib/python3.9/site-packages/lightgbm/basic.py:2065: UserWarning: Using categorical_feature in Dataset.\n",
      "  _log_warning('Using categorical_feature in Dataset.')\n",
      "/opt/conda/envs/practicum/lib/python3.9/site-packages/lightgbm/basic.py:2065: UserWarning: Using categorical_feature in Dataset.\n",
      "  _log_warning('Using categorical_feature in Dataset.')\n",
      "/opt/conda/envs/practicum/lib/python3.9/site-packages/lightgbm/basic.py:2065: UserWarning: Using categorical_feature in Dataset.\n",
      "  _log_warning('Using categorical_feature in Dataset.')\n",
      "/opt/conda/envs/practicum/lib/python3.9/site-packages/lightgbm/basic.py:2065: UserWarning: Using categorical_feature in Dataset.\n",
      "  _log_warning('Using categorical_feature in Dataset.')\n",
      "/opt/conda/envs/practicum/lib/python3.9/site-packages/lightgbm/basic.py:2065: UserWarning: Using categorical_feature in Dataset.\n",
      "  _log_warning('Using categorical_feature in Dataset.')\n",
      "/opt/conda/envs/practicum/lib/python3.9/site-packages/lightgbm/basic.py:2065: UserWarning: Using categorical_feature in Dataset.\n",
      "  _log_warning('Using categorical_feature in Dataset.')\n",
      "/opt/conda/envs/practicum/lib/python3.9/site-packages/lightgbm/basic.py:2065: UserWarning: Using categorical_feature in Dataset.\n",
      "  _log_warning('Using categorical_feature in Dataset.')\n",
      "/opt/conda/envs/practicum/lib/python3.9/site-packages/lightgbm/basic.py:2065: UserWarning: Using categorical_feature in Dataset.\n",
      "  _log_warning('Using categorical_feature in Dataset.')\n",
      "/opt/conda/envs/practicum/lib/python3.9/site-packages/lightgbm/basic.py:2065: UserWarning: Using categorical_feature in Dataset.\n",
      "  _log_warning('Using categorical_feature in Dataset.')\n",
      "/opt/conda/envs/practicum/lib/python3.9/site-packages/lightgbm/basic.py:2065: UserWarning: Using categorical_feature in Dataset.\n",
      "  _log_warning('Using categorical_feature in Dataset.')\n",
      "/opt/conda/envs/practicum/lib/python3.9/site-packages/lightgbm/basic.py:2065: UserWarning: Using categorical_feature in Dataset.\n",
      "  _log_warning('Using categorical_feature in Dataset.')\n",
      "/opt/conda/envs/practicum/lib/python3.9/site-packages/lightgbm/basic.py:2065: UserWarning: Using categorical_feature in Dataset.\n",
      "  _log_warning('Using categorical_feature in Dataset.')\n",
      "/opt/conda/envs/practicum/lib/python3.9/site-packages/lightgbm/basic.py:2065: UserWarning: Using categorical_feature in Dataset.\n",
      "  _log_warning('Using categorical_feature in Dataset.')\n",
      "/opt/conda/envs/practicum/lib/python3.9/site-packages/lightgbm/basic.py:2065: UserWarning: Using categorical_feature in Dataset.\n",
      "  _log_warning('Using categorical_feature in Dataset.')\n",
      "/opt/conda/envs/practicum/lib/python3.9/site-packages/lightgbm/basic.py:2065: UserWarning: Using categorical_feature in Dataset.\n",
      "  _log_warning('Using categorical_feature in Dataset.')\n",
      "/opt/conda/envs/practicum/lib/python3.9/site-packages/lightgbm/basic.py:2065: UserWarning: Using categorical_feature in Dataset.\n",
      "  _log_warning('Using categorical_feature in Dataset.')\n",
      "/opt/conda/envs/practicum/lib/python3.9/site-packages/lightgbm/basic.py:2065: UserWarning: Using categorical_feature in Dataset.\n",
      "  _log_warning('Using categorical_feature in Dataset.')\n",
      "/opt/conda/envs/practicum/lib/python3.9/site-packages/lightgbm/basic.py:2065: UserWarning: Using categorical_feature in Dataset.\n",
      "  _log_warning('Using categorical_feature in Dataset.')\n",
      "/opt/conda/envs/practicum/lib/python3.9/site-packages/lightgbm/basic.py:2065: UserWarning: Using categorical_feature in Dataset.\n",
      "  _log_warning('Using categorical_feature in Dataset.')\n",
      "/opt/conda/envs/practicum/lib/python3.9/site-packages/lightgbm/basic.py:2065: UserWarning: Using categorical_feature in Dataset.\n",
      "  _log_warning('Using categorical_feature in Dataset.')\n",
      "/opt/conda/envs/practicum/lib/python3.9/site-packages/lightgbm/basic.py:2065: UserWarning: Using categorical_feature in Dataset.\n",
      "  _log_warning('Using categorical_feature in Dataset.')\n",
      "/opt/conda/envs/practicum/lib/python3.9/site-packages/lightgbm/basic.py:2065: UserWarning: Using categorical_feature in Dataset.\n",
      "  _log_warning('Using categorical_feature in Dataset.')\n",
      "/opt/conda/envs/practicum/lib/python3.9/site-packages/lightgbm/basic.py:2065: UserWarning: Using categorical_feature in Dataset.\n",
      "  _log_warning('Using categorical_feature in Dataset.')\n",
      "/opt/conda/envs/practicum/lib/python3.9/site-packages/lightgbm/basic.py:2065: UserWarning: Using categorical_feature in Dataset.\n",
      "  _log_warning('Using categorical_feature in Dataset.')\n",
      "/opt/conda/envs/practicum/lib/python3.9/site-packages/lightgbm/basic.py:2065: UserWarning: Using categorical_feature in Dataset.\n",
      "  _log_warning('Using categorical_feature in Dataset.')\n",
      "/opt/conda/envs/practicum/lib/python3.9/site-packages/lightgbm/basic.py:2065: UserWarning: Using categorical_feature in Dataset.\n",
      "  _log_warning('Using categorical_feature in Dataset.')\n",
      "/opt/conda/envs/practicum/lib/python3.9/site-packages/lightgbm/basic.py:2065: UserWarning: Using categorical_feature in Dataset.\n",
      "  _log_warning('Using categorical_feature in Dataset.')\n",
      "/opt/conda/envs/practicum/lib/python3.9/site-packages/lightgbm/basic.py:2065: UserWarning: Using categorical_feature in Dataset.\n",
      "  _log_warning('Using categorical_feature in Dataset.')\n",
      "/opt/conda/envs/practicum/lib/python3.9/site-packages/lightgbm/basic.py:2065: UserWarning: Using categorical_feature in Dataset.\n",
      "  _log_warning('Using categorical_feature in Dataset.')\n",
      "/opt/conda/envs/practicum/lib/python3.9/site-packages/lightgbm/basic.py:2065: UserWarning: Using categorical_feature in Dataset.\n",
      "  _log_warning('Using categorical_feature in Dataset.')\n",
      "/opt/conda/envs/practicum/lib/python3.9/site-packages/lightgbm/basic.py:2065: UserWarning: Using categorical_feature in Dataset.\n",
      "  _log_warning('Using categorical_feature in Dataset.')\n",
      "/opt/conda/envs/practicum/lib/python3.9/site-packages/lightgbm/basic.py:2065: UserWarning: Using categorical_feature in Dataset.\n",
      "  _log_warning('Using categorical_feature in Dataset.')\n",
      "/opt/conda/envs/practicum/lib/python3.9/site-packages/lightgbm/basic.py:2065: UserWarning: Using categorical_feature in Dataset.\n",
      "  _log_warning('Using categorical_feature in Dataset.')\n",
      "/opt/conda/envs/practicum/lib/python3.9/site-packages/lightgbm/basic.py:2065: UserWarning: Using categorical_feature in Dataset.\n",
      "  _log_warning('Using categorical_feature in Dataset.')\n",
      "/opt/conda/envs/practicum/lib/python3.9/site-packages/lightgbm/basic.py:2065: UserWarning: Using categorical_feature in Dataset.\n",
      "  _log_warning('Using categorical_feature in Dataset.')\n",
      "/opt/conda/envs/practicum/lib/python3.9/site-packages/lightgbm/basic.py:2065: UserWarning: Using categorical_feature in Dataset.\n",
      "  _log_warning('Using categorical_feature in Dataset.')\n",
      "/opt/conda/envs/practicum/lib/python3.9/site-packages/lightgbm/basic.py:2065: UserWarning: Using categorical_feature in Dataset.\n",
      "  _log_warning('Using categorical_feature in Dataset.')\n"
     ]
    },
    {
     "name": "stderr",
     "output_type": "stream",
     "text": [
      "/opt/conda/envs/practicum/lib/python3.9/site-packages/lightgbm/basic.py:2065: UserWarning: Using categorical_feature in Dataset.\n",
      "  _log_warning('Using categorical_feature in Dataset.')\n",
      "/opt/conda/envs/practicum/lib/python3.9/site-packages/lightgbm/basic.py:2065: UserWarning: Using categorical_feature in Dataset.\n",
      "  _log_warning('Using categorical_feature in Dataset.')\n",
      "/opt/conda/envs/practicum/lib/python3.9/site-packages/lightgbm/basic.py:2065: UserWarning: Using categorical_feature in Dataset.\n",
      "  _log_warning('Using categorical_feature in Dataset.')\n",
      "/opt/conda/envs/practicum/lib/python3.9/site-packages/lightgbm/basic.py:2065: UserWarning: Using categorical_feature in Dataset.\n",
      "  _log_warning('Using categorical_feature in Dataset.')\n",
      "/opt/conda/envs/practicum/lib/python3.9/site-packages/lightgbm/basic.py:2065: UserWarning: Using categorical_feature in Dataset.\n",
      "  _log_warning('Using categorical_feature in Dataset.')\n",
      "/opt/conda/envs/practicum/lib/python3.9/site-packages/lightgbm/basic.py:2065: UserWarning: Using categorical_feature in Dataset.\n",
      "  _log_warning('Using categorical_feature in Dataset.')\n",
      "/opt/conda/envs/practicum/lib/python3.9/site-packages/lightgbm/basic.py:2065: UserWarning: Using categorical_feature in Dataset.\n",
      "  _log_warning('Using categorical_feature in Dataset.')\n",
      "/opt/conda/envs/practicum/lib/python3.9/site-packages/lightgbm/basic.py:2065: UserWarning: Using categorical_feature in Dataset.\n",
      "  _log_warning('Using categorical_feature in Dataset.')\n",
      "/opt/conda/envs/practicum/lib/python3.9/site-packages/lightgbm/basic.py:2065: UserWarning: Using categorical_feature in Dataset.\n",
      "  _log_warning('Using categorical_feature in Dataset.')\n",
      "/opt/conda/envs/practicum/lib/python3.9/site-packages/lightgbm/basic.py:2065: UserWarning: Using categorical_feature in Dataset.\n",
      "  _log_warning('Using categorical_feature in Dataset.')\n",
      "/opt/conda/envs/practicum/lib/python3.9/site-packages/lightgbm/basic.py:2065: UserWarning: Using categorical_feature in Dataset.\n",
      "  _log_warning('Using categorical_feature in Dataset.')\n",
      "/opt/conda/envs/practicum/lib/python3.9/site-packages/lightgbm/basic.py:2065: UserWarning: Using categorical_feature in Dataset.\n",
      "  _log_warning('Using categorical_feature in Dataset.')\n",
      "/opt/conda/envs/practicum/lib/python3.9/site-packages/lightgbm/basic.py:2065: UserWarning: Using categorical_feature in Dataset.\n",
      "  _log_warning('Using categorical_feature in Dataset.')\n",
      "/opt/conda/envs/practicum/lib/python3.9/site-packages/lightgbm/basic.py:2065: UserWarning: Using categorical_feature in Dataset.\n",
      "  _log_warning('Using categorical_feature in Dataset.')\n",
      "/opt/conda/envs/practicum/lib/python3.9/site-packages/lightgbm/basic.py:2065: UserWarning: Using categorical_feature in Dataset.\n",
      "  _log_warning('Using categorical_feature in Dataset.')\n",
      "/opt/conda/envs/practicum/lib/python3.9/site-packages/lightgbm/basic.py:2065: UserWarning: Using categorical_feature in Dataset.\n",
      "  _log_warning('Using categorical_feature in Dataset.')\n",
      "/opt/conda/envs/practicum/lib/python3.9/site-packages/lightgbm/basic.py:2065: UserWarning: Using categorical_feature in Dataset.\n",
      "  _log_warning('Using categorical_feature in Dataset.')\n",
      "/opt/conda/envs/practicum/lib/python3.9/site-packages/lightgbm/basic.py:2065: UserWarning: Using categorical_feature in Dataset.\n",
      "  _log_warning('Using categorical_feature in Dataset.')\n",
      "/opt/conda/envs/practicum/lib/python3.9/site-packages/lightgbm/basic.py:2065: UserWarning: Using categorical_feature in Dataset.\n",
      "  _log_warning('Using categorical_feature in Dataset.')\n",
      "/opt/conda/envs/practicum/lib/python3.9/site-packages/lightgbm/basic.py:2065: UserWarning: Using categorical_feature in Dataset.\n",
      "  _log_warning('Using categorical_feature in Dataset.')\n",
      "/opt/conda/envs/practicum/lib/python3.9/site-packages/lightgbm/basic.py:2065: UserWarning: Using categorical_feature in Dataset.\n",
      "  _log_warning('Using categorical_feature in Dataset.')\n",
      "/opt/conda/envs/practicum/lib/python3.9/site-packages/lightgbm/basic.py:2065: UserWarning: Using categorical_feature in Dataset.\n",
      "  _log_warning('Using categorical_feature in Dataset.')\n",
      "/opt/conda/envs/practicum/lib/python3.9/site-packages/lightgbm/basic.py:2065: UserWarning: Using categorical_feature in Dataset.\n",
      "  _log_warning('Using categorical_feature in Dataset.')\n",
      "/opt/conda/envs/practicum/lib/python3.9/site-packages/lightgbm/basic.py:2065: UserWarning: Using categorical_feature in Dataset.\n",
      "  _log_warning('Using categorical_feature in Dataset.')\n",
      "/opt/conda/envs/practicum/lib/python3.9/site-packages/lightgbm/basic.py:2065: UserWarning: Using categorical_feature in Dataset.\n",
      "  _log_warning('Using categorical_feature in Dataset.')\n",
      "/opt/conda/envs/practicum/lib/python3.9/site-packages/lightgbm/basic.py:2065: UserWarning: Using categorical_feature in Dataset.\n",
      "  _log_warning('Using categorical_feature in Dataset.')\n",
      "/opt/conda/envs/practicum/lib/python3.9/site-packages/lightgbm/basic.py:2065: UserWarning: Using categorical_feature in Dataset.\n",
      "  _log_warning('Using categorical_feature in Dataset.')\n",
      "/opt/conda/envs/practicum/lib/python3.9/site-packages/lightgbm/basic.py:2065: UserWarning: Using categorical_feature in Dataset.\n",
      "  _log_warning('Using categorical_feature in Dataset.')\n",
      "/opt/conda/envs/practicum/lib/python3.9/site-packages/lightgbm/basic.py:2065: UserWarning: Using categorical_feature in Dataset.\n",
      "  _log_warning('Using categorical_feature in Dataset.')\n",
      "/opt/conda/envs/practicum/lib/python3.9/site-packages/lightgbm/basic.py:2065: UserWarning: Using categorical_feature in Dataset.\n",
      "  _log_warning('Using categorical_feature in Dataset.')\n",
      "/opt/conda/envs/practicum/lib/python3.9/site-packages/lightgbm/basic.py:2065: UserWarning: Using categorical_feature in Dataset.\n",
      "  _log_warning('Using categorical_feature in Dataset.')\n",
      "/opt/conda/envs/practicum/lib/python3.9/site-packages/lightgbm/basic.py:2065: UserWarning: Using categorical_feature in Dataset.\n",
      "  _log_warning('Using categorical_feature in Dataset.')\n",
      "/opt/conda/envs/practicum/lib/python3.9/site-packages/lightgbm/basic.py:2065: UserWarning: Using categorical_feature in Dataset.\n",
      "  _log_warning('Using categorical_feature in Dataset.')\n",
      "/opt/conda/envs/practicum/lib/python3.9/site-packages/lightgbm/basic.py:2065: UserWarning: Using categorical_feature in Dataset.\n",
      "  _log_warning('Using categorical_feature in Dataset.')\n",
      "/opt/conda/envs/practicum/lib/python3.9/site-packages/lightgbm/basic.py:2065: UserWarning: Using categorical_feature in Dataset.\n",
      "  _log_warning('Using categorical_feature in Dataset.')\n",
      "/opt/conda/envs/practicum/lib/python3.9/site-packages/lightgbm/basic.py:2065: UserWarning: Using categorical_feature in Dataset.\n",
      "  _log_warning('Using categorical_feature in Dataset.')\n",
      "/opt/conda/envs/practicum/lib/python3.9/site-packages/lightgbm/basic.py:2065: UserWarning: Using categorical_feature in Dataset.\n",
      "  _log_warning('Using categorical_feature in Dataset.')\n",
      "/opt/conda/envs/practicum/lib/python3.9/site-packages/lightgbm/basic.py:2065: UserWarning: Using categorical_feature in Dataset.\n",
      "  _log_warning('Using categorical_feature in Dataset.')\n",
      "/opt/conda/envs/practicum/lib/python3.9/site-packages/lightgbm/basic.py:2065: UserWarning: Using categorical_feature in Dataset.\n",
      "  _log_warning('Using categorical_feature in Dataset.')\n",
      "/opt/conda/envs/practicum/lib/python3.9/site-packages/lightgbm/basic.py:2065: UserWarning: Using categorical_feature in Dataset.\n",
      "  _log_warning('Using categorical_feature in Dataset.')\n",
      "/opt/conda/envs/practicum/lib/python3.9/site-packages/lightgbm/basic.py:2065: UserWarning: Using categorical_feature in Dataset.\n",
      "  _log_warning('Using categorical_feature in Dataset.')\n",
      "/opt/conda/envs/practicum/lib/python3.9/site-packages/lightgbm/basic.py:2065: UserWarning: Using categorical_feature in Dataset.\n",
      "  _log_warning('Using categorical_feature in Dataset.')\n",
      "/opt/conda/envs/practicum/lib/python3.9/site-packages/lightgbm/basic.py:2065: UserWarning: Using categorical_feature in Dataset.\n",
      "  _log_warning('Using categorical_feature in Dataset.')\n",
      "/opt/conda/envs/practicum/lib/python3.9/site-packages/lightgbm/basic.py:2065: UserWarning: Using categorical_feature in Dataset.\n",
      "  _log_warning('Using categorical_feature in Dataset.')\n",
      "/opt/conda/envs/practicum/lib/python3.9/site-packages/lightgbm/basic.py:2065: UserWarning: Using categorical_feature in Dataset.\n",
      "  _log_warning('Using categorical_feature in Dataset.')\n"
     ]
    },
    {
     "name": "stderr",
     "output_type": "stream",
     "text": [
      "/opt/conda/envs/practicum/lib/python3.9/site-packages/lightgbm/basic.py:2065: UserWarning: Using categorical_feature in Dataset.\n",
      "  _log_warning('Using categorical_feature in Dataset.')\n",
      "/opt/conda/envs/practicum/lib/python3.9/site-packages/lightgbm/basic.py:2065: UserWarning: Using categorical_feature in Dataset.\n",
      "  _log_warning('Using categorical_feature in Dataset.')\n",
      "/opt/conda/envs/practicum/lib/python3.9/site-packages/lightgbm/basic.py:2065: UserWarning: Using categorical_feature in Dataset.\n",
      "  _log_warning('Using categorical_feature in Dataset.')\n",
      "/opt/conda/envs/practicum/lib/python3.9/site-packages/lightgbm/basic.py:2065: UserWarning: Using categorical_feature in Dataset.\n",
      "  _log_warning('Using categorical_feature in Dataset.')\n",
      "/opt/conda/envs/practicum/lib/python3.9/site-packages/lightgbm/basic.py:2065: UserWarning: Using categorical_feature in Dataset.\n",
      "  _log_warning('Using categorical_feature in Dataset.')\n",
      "/opt/conda/envs/practicum/lib/python3.9/site-packages/lightgbm/basic.py:2065: UserWarning: Using categorical_feature in Dataset.\n",
      "  _log_warning('Using categorical_feature in Dataset.')\n",
      "/opt/conda/envs/practicum/lib/python3.9/site-packages/lightgbm/basic.py:2065: UserWarning: Using categorical_feature in Dataset.\n",
      "  _log_warning('Using categorical_feature in Dataset.')\n",
      "/opt/conda/envs/practicum/lib/python3.9/site-packages/lightgbm/basic.py:2065: UserWarning: Using categorical_feature in Dataset.\n",
      "  _log_warning('Using categorical_feature in Dataset.')\n",
      "/opt/conda/envs/practicum/lib/python3.9/site-packages/lightgbm/basic.py:2065: UserWarning: Using categorical_feature in Dataset.\n",
      "  _log_warning('Using categorical_feature in Dataset.')\n",
      "/opt/conda/envs/practicum/lib/python3.9/site-packages/lightgbm/basic.py:2065: UserWarning: Using categorical_feature in Dataset.\n",
      "  _log_warning('Using categorical_feature in Dataset.')\n",
      "/opt/conda/envs/practicum/lib/python3.9/site-packages/lightgbm/basic.py:2065: UserWarning: Using categorical_feature in Dataset.\n",
      "  _log_warning('Using categorical_feature in Dataset.')\n",
      "/opt/conda/envs/practicum/lib/python3.9/site-packages/lightgbm/basic.py:2065: UserWarning: Using categorical_feature in Dataset.\n",
      "  _log_warning('Using categorical_feature in Dataset.')\n",
      "/opt/conda/envs/practicum/lib/python3.9/site-packages/lightgbm/basic.py:2065: UserWarning: Using categorical_feature in Dataset.\n",
      "  _log_warning('Using categorical_feature in Dataset.')\n",
      "/opt/conda/envs/practicum/lib/python3.9/site-packages/lightgbm/basic.py:2065: UserWarning: Using categorical_feature in Dataset.\n",
      "  _log_warning('Using categorical_feature in Dataset.')\n",
      "/opt/conda/envs/practicum/lib/python3.9/site-packages/lightgbm/basic.py:2065: UserWarning: Using categorical_feature in Dataset.\n",
      "  _log_warning('Using categorical_feature in Dataset.')\n",
      "/opt/conda/envs/practicum/lib/python3.9/site-packages/lightgbm/basic.py:2065: UserWarning: Using categorical_feature in Dataset.\n",
      "  _log_warning('Using categorical_feature in Dataset.')\n",
      "/opt/conda/envs/practicum/lib/python3.9/site-packages/lightgbm/basic.py:2065: UserWarning: Using categorical_feature in Dataset.\n",
      "  _log_warning('Using categorical_feature in Dataset.')\n",
      "/opt/conda/envs/practicum/lib/python3.9/site-packages/lightgbm/basic.py:2065: UserWarning: Using categorical_feature in Dataset.\n",
      "  _log_warning('Using categorical_feature in Dataset.')\n",
      "/opt/conda/envs/practicum/lib/python3.9/site-packages/lightgbm/basic.py:2065: UserWarning: Using categorical_feature in Dataset.\n",
      "  _log_warning('Using categorical_feature in Dataset.')\n",
      "/opt/conda/envs/practicum/lib/python3.9/site-packages/lightgbm/basic.py:2065: UserWarning: Using categorical_feature in Dataset.\n",
      "  _log_warning('Using categorical_feature in Dataset.')\n",
      "/opt/conda/envs/practicum/lib/python3.9/site-packages/lightgbm/basic.py:2065: UserWarning: Using categorical_feature in Dataset.\n",
      "  _log_warning('Using categorical_feature in Dataset.')\n",
      "/opt/conda/envs/practicum/lib/python3.9/site-packages/lightgbm/basic.py:2065: UserWarning: Using categorical_feature in Dataset.\n",
      "  _log_warning('Using categorical_feature in Dataset.')\n",
      "/opt/conda/envs/practicum/lib/python3.9/site-packages/lightgbm/basic.py:2065: UserWarning: Using categorical_feature in Dataset.\n",
      "  _log_warning('Using categorical_feature in Dataset.')\n",
      "/opt/conda/envs/practicum/lib/python3.9/site-packages/lightgbm/basic.py:2065: UserWarning: Using categorical_feature in Dataset.\n",
      "  _log_warning('Using categorical_feature in Dataset.')\n",
      "/opt/conda/envs/practicum/lib/python3.9/site-packages/lightgbm/basic.py:2065: UserWarning: Using categorical_feature in Dataset.\n",
      "  _log_warning('Using categorical_feature in Dataset.')\n",
      "/opt/conda/envs/practicum/lib/python3.9/site-packages/lightgbm/basic.py:2065: UserWarning: Using categorical_feature in Dataset.\n",
      "  _log_warning('Using categorical_feature in Dataset.')\n",
      "/opt/conda/envs/practicum/lib/python3.9/site-packages/lightgbm/basic.py:2065: UserWarning: Using categorical_feature in Dataset.\n",
      "  _log_warning('Using categorical_feature in Dataset.')\n",
      "/opt/conda/envs/practicum/lib/python3.9/site-packages/lightgbm/basic.py:2065: UserWarning: Using categorical_feature in Dataset.\n",
      "  _log_warning('Using categorical_feature in Dataset.')\n",
      "/opt/conda/envs/practicum/lib/python3.9/site-packages/lightgbm/basic.py:2065: UserWarning: Using categorical_feature in Dataset.\n",
      "  _log_warning('Using categorical_feature in Dataset.')\n",
      "/opt/conda/envs/practicum/lib/python3.9/site-packages/lightgbm/basic.py:2065: UserWarning: Using categorical_feature in Dataset.\n",
      "  _log_warning('Using categorical_feature in Dataset.')\n",
      "/opt/conda/envs/practicum/lib/python3.9/site-packages/lightgbm/basic.py:2065: UserWarning: Using categorical_feature in Dataset.\n",
      "  _log_warning('Using categorical_feature in Dataset.')\n",
      "/opt/conda/envs/practicum/lib/python3.9/site-packages/lightgbm/basic.py:2065: UserWarning: Using categorical_feature in Dataset.\n",
      "  _log_warning('Using categorical_feature in Dataset.')\n",
      "/opt/conda/envs/practicum/lib/python3.9/site-packages/lightgbm/basic.py:2065: UserWarning: Using categorical_feature in Dataset.\n",
      "  _log_warning('Using categorical_feature in Dataset.')\n",
      "/opt/conda/envs/practicum/lib/python3.9/site-packages/lightgbm/basic.py:2065: UserWarning: Using categorical_feature in Dataset.\n",
      "  _log_warning('Using categorical_feature in Dataset.')\n",
      "/opt/conda/envs/practicum/lib/python3.9/site-packages/lightgbm/basic.py:2065: UserWarning: Using categorical_feature in Dataset.\n",
      "  _log_warning('Using categorical_feature in Dataset.')\n",
      "/opt/conda/envs/practicum/lib/python3.9/site-packages/lightgbm/basic.py:2065: UserWarning: Using categorical_feature in Dataset.\n",
      "  _log_warning('Using categorical_feature in Dataset.')\n",
      "/opt/conda/envs/practicum/lib/python3.9/site-packages/lightgbm/basic.py:2065: UserWarning: Using categorical_feature in Dataset.\n",
      "  _log_warning('Using categorical_feature in Dataset.')\n",
      "/opt/conda/envs/practicum/lib/python3.9/site-packages/lightgbm/basic.py:2065: UserWarning: Using categorical_feature in Dataset.\n",
      "  _log_warning('Using categorical_feature in Dataset.')\n",
      "/opt/conda/envs/practicum/lib/python3.9/site-packages/lightgbm/basic.py:2065: UserWarning: Using categorical_feature in Dataset.\n",
      "  _log_warning('Using categorical_feature in Dataset.')\n",
      "/opt/conda/envs/practicum/lib/python3.9/site-packages/lightgbm/basic.py:2065: UserWarning: Using categorical_feature in Dataset.\n",
      "  _log_warning('Using categorical_feature in Dataset.')\n",
      "/opt/conda/envs/practicum/lib/python3.9/site-packages/lightgbm/basic.py:2065: UserWarning: Using categorical_feature in Dataset.\n",
      "  _log_warning('Using categorical_feature in Dataset.')\n",
      "/opt/conda/envs/practicum/lib/python3.9/site-packages/lightgbm/basic.py:2065: UserWarning: Using categorical_feature in Dataset.\n",
      "  _log_warning('Using categorical_feature in Dataset.')\n",
      "/opt/conda/envs/practicum/lib/python3.9/site-packages/lightgbm/basic.py:2065: UserWarning: Using categorical_feature in Dataset.\n",
      "  _log_warning('Using categorical_feature in Dataset.')\n",
      "/opt/conda/envs/practicum/lib/python3.9/site-packages/lightgbm/basic.py:2065: UserWarning: Using categorical_feature in Dataset.\n",
      "  _log_warning('Using categorical_feature in Dataset.')\n",
      "/opt/conda/envs/practicum/lib/python3.9/site-packages/lightgbm/basic.py:2065: UserWarning: Using categorical_feature in Dataset.\n",
      "  _log_warning('Using categorical_feature in Dataset.')\n"
     ]
    },
    {
     "name": "stderr",
     "output_type": "stream",
     "text": [
      "/opt/conda/envs/practicum/lib/python3.9/site-packages/lightgbm/basic.py:2065: UserWarning: Using categorical_feature in Dataset.\n",
      "  _log_warning('Using categorical_feature in Dataset.')\n",
      "/opt/conda/envs/practicum/lib/python3.9/site-packages/lightgbm/basic.py:2065: UserWarning: Using categorical_feature in Dataset.\n",
      "  _log_warning('Using categorical_feature in Dataset.')\n",
      "/opt/conda/envs/practicum/lib/python3.9/site-packages/lightgbm/basic.py:2065: UserWarning: Using categorical_feature in Dataset.\n",
      "  _log_warning('Using categorical_feature in Dataset.')\n",
      "/opt/conda/envs/practicum/lib/python3.9/site-packages/lightgbm/basic.py:2065: UserWarning: Using categorical_feature in Dataset.\n",
      "  _log_warning('Using categorical_feature in Dataset.')\n",
      "/opt/conda/envs/practicum/lib/python3.9/site-packages/lightgbm/basic.py:2065: UserWarning: Using categorical_feature in Dataset.\n",
      "  _log_warning('Using categorical_feature in Dataset.')\n",
      "/opt/conda/envs/practicum/lib/python3.9/site-packages/lightgbm/basic.py:2065: UserWarning: Using categorical_feature in Dataset.\n",
      "  _log_warning('Using categorical_feature in Dataset.')\n",
      "/opt/conda/envs/practicum/lib/python3.9/site-packages/lightgbm/basic.py:2065: UserWarning: Using categorical_feature in Dataset.\n",
      "  _log_warning('Using categorical_feature in Dataset.')\n",
      "/opt/conda/envs/practicum/lib/python3.9/site-packages/lightgbm/basic.py:2065: UserWarning: Using categorical_feature in Dataset.\n",
      "  _log_warning('Using categorical_feature in Dataset.')\n",
      "/opt/conda/envs/practicum/lib/python3.9/site-packages/lightgbm/basic.py:2065: UserWarning: Using categorical_feature in Dataset.\n",
      "  _log_warning('Using categorical_feature in Dataset.')\n",
      "/opt/conda/envs/practicum/lib/python3.9/site-packages/lightgbm/basic.py:2065: UserWarning: Using categorical_feature in Dataset.\n",
      "  _log_warning('Using categorical_feature in Dataset.')\n",
      "/opt/conda/envs/practicum/lib/python3.9/site-packages/lightgbm/basic.py:2065: UserWarning: Using categorical_feature in Dataset.\n",
      "  _log_warning('Using categorical_feature in Dataset.')\n",
      "/opt/conda/envs/practicum/lib/python3.9/site-packages/lightgbm/basic.py:2065: UserWarning: Using categorical_feature in Dataset.\n",
      "  _log_warning('Using categorical_feature in Dataset.')\n",
      "/opt/conda/envs/practicum/lib/python3.9/site-packages/lightgbm/basic.py:2065: UserWarning: Using categorical_feature in Dataset.\n",
      "  _log_warning('Using categorical_feature in Dataset.')\n",
      "/opt/conda/envs/practicum/lib/python3.9/site-packages/lightgbm/basic.py:2065: UserWarning: Using categorical_feature in Dataset.\n",
      "  _log_warning('Using categorical_feature in Dataset.')\n",
      "/opt/conda/envs/practicum/lib/python3.9/site-packages/lightgbm/basic.py:2065: UserWarning: Using categorical_feature in Dataset.\n",
      "  _log_warning('Using categorical_feature in Dataset.')\n",
      "/opt/conda/envs/practicum/lib/python3.9/site-packages/lightgbm/basic.py:2065: UserWarning: Using categorical_feature in Dataset.\n",
      "  _log_warning('Using categorical_feature in Dataset.')\n",
      "/opt/conda/envs/practicum/lib/python3.9/site-packages/lightgbm/basic.py:2065: UserWarning: Using categorical_feature in Dataset.\n",
      "  _log_warning('Using categorical_feature in Dataset.')\n",
      "/opt/conda/envs/practicum/lib/python3.9/site-packages/lightgbm/basic.py:2065: UserWarning: Using categorical_feature in Dataset.\n",
      "  _log_warning('Using categorical_feature in Dataset.')\n",
      "/opt/conda/envs/practicum/lib/python3.9/site-packages/lightgbm/basic.py:2065: UserWarning: Using categorical_feature in Dataset.\n",
      "  _log_warning('Using categorical_feature in Dataset.')\n",
      "/opt/conda/envs/practicum/lib/python3.9/site-packages/lightgbm/basic.py:2065: UserWarning: Using categorical_feature in Dataset.\n",
      "  _log_warning('Using categorical_feature in Dataset.')\n",
      "/opt/conda/envs/practicum/lib/python3.9/site-packages/lightgbm/basic.py:2065: UserWarning: Using categorical_feature in Dataset.\n",
      "  _log_warning('Using categorical_feature in Dataset.')\n",
      "/opt/conda/envs/practicum/lib/python3.9/site-packages/lightgbm/basic.py:2065: UserWarning: Using categorical_feature in Dataset.\n",
      "  _log_warning('Using categorical_feature in Dataset.')\n",
      "/opt/conda/envs/practicum/lib/python3.9/site-packages/lightgbm/basic.py:2065: UserWarning: Using categorical_feature in Dataset.\n",
      "  _log_warning('Using categorical_feature in Dataset.')\n",
      "/opt/conda/envs/practicum/lib/python3.9/site-packages/lightgbm/basic.py:2065: UserWarning: Using categorical_feature in Dataset.\n",
      "  _log_warning('Using categorical_feature in Dataset.')\n",
      "/opt/conda/envs/practicum/lib/python3.9/site-packages/lightgbm/basic.py:2065: UserWarning: Using categorical_feature in Dataset.\n",
      "  _log_warning('Using categorical_feature in Dataset.')\n",
      "/opt/conda/envs/practicum/lib/python3.9/site-packages/lightgbm/basic.py:2065: UserWarning: Using categorical_feature in Dataset.\n",
      "  _log_warning('Using categorical_feature in Dataset.')\n",
      "/opt/conda/envs/practicum/lib/python3.9/site-packages/lightgbm/basic.py:2065: UserWarning: Using categorical_feature in Dataset.\n",
      "  _log_warning('Using categorical_feature in Dataset.')\n",
      "/opt/conda/envs/practicum/lib/python3.9/site-packages/lightgbm/basic.py:2065: UserWarning: Using categorical_feature in Dataset.\n",
      "  _log_warning('Using categorical_feature in Dataset.')\n",
      "/opt/conda/envs/practicum/lib/python3.9/site-packages/lightgbm/basic.py:2065: UserWarning: Using categorical_feature in Dataset.\n",
      "  _log_warning('Using categorical_feature in Dataset.')\n",
      "/opt/conda/envs/practicum/lib/python3.9/site-packages/lightgbm/basic.py:2065: UserWarning: Using categorical_feature in Dataset.\n",
      "  _log_warning('Using categorical_feature in Dataset.')\n",
      "/opt/conda/envs/practicum/lib/python3.9/site-packages/lightgbm/basic.py:2065: UserWarning: Using categorical_feature in Dataset.\n",
      "  _log_warning('Using categorical_feature in Dataset.')\n",
      "/opt/conda/envs/practicum/lib/python3.9/site-packages/lightgbm/basic.py:2065: UserWarning: Using categorical_feature in Dataset.\n",
      "  _log_warning('Using categorical_feature in Dataset.')\n",
      "/opt/conda/envs/practicum/lib/python3.9/site-packages/lightgbm/basic.py:2065: UserWarning: Using categorical_feature in Dataset.\n",
      "  _log_warning('Using categorical_feature in Dataset.')\n",
      "/opt/conda/envs/practicum/lib/python3.9/site-packages/lightgbm/basic.py:2065: UserWarning: Using categorical_feature in Dataset.\n",
      "  _log_warning('Using categorical_feature in Dataset.')\n",
      "/opt/conda/envs/practicum/lib/python3.9/site-packages/lightgbm/basic.py:2065: UserWarning: Using categorical_feature in Dataset.\n",
      "  _log_warning('Using categorical_feature in Dataset.')\n",
      "/opt/conda/envs/practicum/lib/python3.9/site-packages/lightgbm/basic.py:2065: UserWarning: Using categorical_feature in Dataset.\n",
      "  _log_warning('Using categorical_feature in Dataset.')\n",
      "/opt/conda/envs/practicum/lib/python3.9/site-packages/lightgbm/basic.py:2065: UserWarning: Using categorical_feature in Dataset.\n",
      "  _log_warning('Using categorical_feature in Dataset.')\n",
      "/opt/conda/envs/practicum/lib/python3.9/site-packages/lightgbm/basic.py:2065: UserWarning: Using categorical_feature in Dataset.\n",
      "  _log_warning('Using categorical_feature in Dataset.')\n",
      "/opt/conda/envs/practicum/lib/python3.9/site-packages/lightgbm/basic.py:2065: UserWarning: Using categorical_feature in Dataset.\n",
      "  _log_warning('Using categorical_feature in Dataset.')\n",
      "/opt/conda/envs/practicum/lib/python3.9/site-packages/lightgbm/basic.py:2065: UserWarning: Using categorical_feature in Dataset.\n",
      "  _log_warning('Using categorical_feature in Dataset.')\n",
      "/opt/conda/envs/practicum/lib/python3.9/site-packages/lightgbm/basic.py:2065: UserWarning: Using categorical_feature in Dataset.\n",
      "  _log_warning('Using categorical_feature in Dataset.')\n",
      "/opt/conda/envs/practicum/lib/python3.9/site-packages/lightgbm/basic.py:2065: UserWarning: Using categorical_feature in Dataset.\n",
      "  _log_warning('Using categorical_feature in Dataset.')\n",
      "/opt/conda/envs/practicum/lib/python3.9/site-packages/lightgbm/basic.py:2065: UserWarning: Using categorical_feature in Dataset.\n",
      "  _log_warning('Using categorical_feature in Dataset.')\n",
      "/opt/conda/envs/practicum/lib/python3.9/site-packages/lightgbm/basic.py:2065: UserWarning: Using categorical_feature in Dataset.\n",
      "  _log_warning('Using categorical_feature in Dataset.')\n",
      "/opt/conda/envs/practicum/lib/python3.9/site-packages/lightgbm/basic.py:2065: UserWarning: Using categorical_feature in Dataset.\n",
      "  _log_warning('Using categorical_feature in Dataset.')\n"
     ]
    },
    {
     "name": "stderr",
     "output_type": "stream",
     "text": [
      "/opt/conda/envs/practicum/lib/python3.9/site-packages/lightgbm/basic.py:2065: UserWarning: Using categorical_feature in Dataset.\n",
      "  _log_warning('Using categorical_feature in Dataset.')\n",
      "/opt/conda/envs/practicum/lib/python3.9/site-packages/lightgbm/basic.py:2065: UserWarning: Using categorical_feature in Dataset.\n",
      "  _log_warning('Using categorical_feature in Dataset.')\n",
      "/opt/conda/envs/practicum/lib/python3.9/site-packages/lightgbm/basic.py:2065: UserWarning: Using categorical_feature in Dataset.\n",
      "  _log_warning('Using categorical_feature in Dataset.')\n",
      "/opt/conda/envs/practicum/lib/python3.9/site-packages/lightgbm/basic.py:2065: UserWarning: Using categorical_feature in Dataset.\n",
      "  _log_warning('Using categorical_feature in Dataset.')\n",
      "/opt/conda/envs/practicum/lib/python3.9/site-packages/lightgbm/basic.py:2065: UserWarning: Using categorical_feature in Dataset.\n",
      "  _log_warning('Using categorical_feature in Dataset.')\n",
      "/opt/conda/envs/practicum/lib/python3.9/site-packages/lightgbm/basic.py:2065: UserWarning: Using categorical_feature in Dataset.\n",
      "  _log_warning('Using categorical_feature in Dataset.')\n",
      "/opt/conda/envs/practicum/lib/python3.9/site-packages/lightgbm/basic.py:2065: UserWarning: Using categorical_feature in Dataset.\n",
      "  _log_warning('Using categorical_feature in Dataset.')\n",
      "/opt/conda/envs/practicum/lib/python3.9/site-packages/lightgbm/basic.py:2065: UserWarning: Using categorical_feature in Dataset.\n",
      "  _log_warning('Using categorical_feature in Dataset.')\n",
      "/opt/conda/envs/practicum/lib/python3.9/site-packages/lightgbm/basic.py:2065: UserWarning: Using categorical_feature in Dataset.\n",
      "  _log_warning('Using categorical_feature in Dataset.')\n",
      "/opt/conda/envs/practicum/lib/python3.9/site-packages/lightgbm/basic.py:2065: UserWarning: Using categorical_feature in Dataset.\n",
      "  _log_warning('Using categorical_feature in Dataset.')\n",
      "/opt/conda/envs/practicum/lib/python3.9/site-packages/lightgbm/basic.py:2065: UserWarning: Using categorical_feature in Dataset.\n",
      "  _log_warning('Using categorical_feature in Dataset.')\n",
      "/opt/conda/envs/practicum/lib/python3.9/site-packages/lightgbm/basic.py:2065: UserWarning: Using categorical_feature in Dataset.\n",
      "  _log_warning('Using categorical_feature in Dataset.')\n",
      "/opt/conda/envs/practicum/lib/python3.9/site-packages/lightgbm/basic.py:2065: UserWarning: Using categorical_feature in Dataset.\n",
      "  _log_warning('Using categorical_feature in Dataset.')\n",
      "/opt/conda/envs/practicum/lib/python3.9/site-packages/lightgbm/basic.py:2065: UserWarning: Using categorical_feature in Dataset.\n",
      "  _log_warning('Using categorical_feature in Dataset.')\n",
      "/opt/conda/envs/practicum/lib/python3.9/site-packages/lightgbm/basic.py:2065: UserWarning: Using categorical_feature in Dataset.\n",
      "  _log_warning('Using categorical_feature in Dataset.')\n",
      "/opt/conda/envs/practicum/lib/python3.9/site-packages/lightgbm/basic.py:2065: UserWarning: Using categorical_feature in Dataset.\n",
      "  _log_warning('Using categorical_feature in Dataset.')\n",
      "/opt/conda/envs/practicum/lib/python3.9/site-packages/lightgbm/basic.py:2065: UserWarning: Using categorical_feature in Dataset.\n",
      "  _log_warning('Using categorical_feature in Dataset.')\n",
      "/opt/conda/envs/practicum/lib/python3.9/site-packages/lightgbm/basic.py:2065: UserWarning: Using categorical_feature in Dataset.\n",
      "  _log_warning('Using categorical_feature in Dataset.')\n",
      "/opt/conda/envs/practicum/lib/python3.9/site-packages/lightgbm/basic.py:2065: UserWarning: Using categorical_feature in Dataset.\n",
      "  _log_warning('Using categorical_feature in Dataset.')\n",
      "/opt/conda/envs/practicum/lib/python3.9/site-packages/lightgbm/basic.py:2065: UserWarning: Using categorical_feature in Dataset.\n",
      "  _log_warning('Using categorical_feature in Dataset.')\n",
      "/opt/conda/envs/practicum/lib/python3.9/site-packages/lightgbm/basic.py:2065: UserWarning: Using categorical_feature in Dataset.\n",
      "  _log_warning('Using categorical_feature in Dataset.')\n",
      "/opt/conda/envs/practicum/lib/python3.9/site-packages/lightgbm/basic.py:2065: UserWarning: Using categorical_feature in Dataset.\n",
      "  _log_warning('Using categorical_feature in Dataset.')\n",
      "/opt/conda/envs/practicum/lib/python3.9/site-packages/lightgbm/basic.py:2065: UserWarning: Using categorical_feature in Dataset.\n",
      "  _log_warning('Using categorical_feature in Dataset.')\n",
      "/opt/conda/envs/practicum/lib/python3.9/site-packages/lightgbm/basic.py:2065: UserWarning: Using categorical_feature in Dataset.\n",
      "  _log_warning('Using categorical_feature in Dataset.')\n",
      "/opt/conda/envs/practicum/lib/python3.9/site-packages/lightgbm/basic.py:2065: UserWarning: Using categorical_feature in Dataset.\n",
      "  _log_warning('Using categorical_feature in Dataset.')\n",
      "/opt/conda/envs/practicum/lib/python3.9/site-packages/lightgbm/basic.py:2065: UserWarning: Using categorical_feature in Dataset.\n",
      "  _log_warning('Using categorical_feature in Dataset.')\n",
      "/opt/conda/envs/practicum/lib/python3.9/site-packages/lightgbm/basic.py:2065: UserWarning: Using categorical_feature in Dataset.\n",
      "  _log_warning('Using categorical_feature in Dataset.')\n",
      "/opt/conda/envs/practicum/lib/python3.9/site-packages/lightgbm/basic.py:2065: UserWarning: Using categorical_feature in Dataset.\n",
      "  _log_warning('Using categorical_feature in Dataset.')\n",
      "/opt/conda/envs/practicum/lib/python3.9/site-packages/lightgbm/basic.py:2065: UserWarning: Using categorical_feature in Dataset.\n",
      "  _log_warning('Using categorical_feature in Dataset.')\n",
      "/opt/conda/envs/practicum/lib/python3.9/site-packages/lightgbm/basic.py:2065: UserWarning: Using categorical_feature in Dataset.\n",
      "  _log_warning('Using categorical_feature in Dataset.')\n",
      "/opt/conda/envs/practicum/lib/python3.9/site-packages/lightgbm/basic.py:2065: UserWarning: Using categorical_feature in Dataset.\n",
      "  _log_warning('Using categorical_feature in Dataset.')\n",
      "/opt/conda/envs/practicum/lib/python3.9/site-packages/lightgbm/basic.py:2065: UserWarning: Using categorical_feature in Dataset.\n",
      "  _log_warning('Using categorical_feature in Dataset.')\n",
      "/opt/conda/envs/practicum/lib/python3.9/site-packages/lightgbm/basic.py:2065: UserWarning: Using categorical_feature in Dataset.\n",
      "  _log_warning('Using categorical_feature in Dataset.')\n",
      "/opt/conda/envs/practicum/lib/python3.9/site-packages/lightgbm/basic.py:2065: UserWarning: Using categorical_feature in Dataset.\n",
      "  _log_warning('Using categorical_feature in Dataset.')\n",
      "/opt/conda/envs/practicum/lib/python3.9/site-packages/lightgbm/basic.py:2065: UserWarning: Using categorical_feature in Dataset.\n",
      "  _log_warning('Using categorical_feature in Dataset.')\n",
      "/opt/conda/envs/practicum/lib/python3.9/site-packages/lightgbm/basic.py:2065: UserWarning: Using categorical_feature in Dataset.\n",
      "  _log_warning('Using categorical_feature in Dataset.')\n",
      "/opt/conda/envs/practicum/lib/python3.9/site-packages/lightgbm/basic.py:2065: UserWarning: Using categorical_feature in Dataset.\n",
      "  _log_warning('Using categorical_feature in Dataset.')\n",
      "/opt/conda/envs/practicum/lib/python3.9/site-packages/lightgbm/basic.py:2065: UserWarning: Using categorical_feature in Dataset.\n",
      "  _log_warning('Using categorical_feature in Dataset.')\n",
      "/opt/conda/envs/practicum/lib/python3.9/site-packages/lightgbm/basic.py:2065: UserWarning: Using categorical_feature in Dataset.\n",
      "  _log_warning('Using categorical_feature in Dataset.')\n",
      "/opt/conda/envs/practicum/lib/python3.9/site-packages/lightgbm/basic.py:2065: UserWarning: Using categorical_feature in Dataset.\n",
      "  _log_warning('Using categorical_feature in Dataset.')\n",
      "/opt/conda/envs/practicum/lib/python3.9/site-packages/lightgbm/basic.py:2065: UserWarning: Using categorical_feature in Dataset.\n",
      "  _log_warning('Using categorical_feature in Dataset.')\n",
      "/opt/conda/envs/practicum/lib/python3.9/site-packages/lightgbm/basic.py:2065: UserWarning: Using categorical_feature in Dataset.\n",
      "  _log_warning('Using categorical_feature in Dataset.')\n",
      "/opt/conda/envs/practicum/lib/python3.9/site-packages/lightgbm/basic.py:2065: UserWarning: Using categorical_feature in Dataset.\n",
      "  _log_warning('Using categorical_feature in Dataset.')\n",
      "/opt/conda/envs/practicum/lib/python3.9/site-packages/lightgbm/basic.py:2065: UserWarning: Using categorical_feature in Dataset.\n",
      "  _log_warning('Using categorical_feature in Dataset.')\n",
      "/opt/conda/envs/practicum/lib/python3.9/site-packages/lightgbm/basic.py:2065: UserWarning: Using categorical_feature in Dataset.\n",
      "  _log_warning('Using categorical_feature in Dataset.')\n"
     ]
    },
    {
     "name": "stderr",
     "output_type": "stream",
     "text": [
      "/opt/conda/envs/practicum/lib/python3.9/site-packages/lightgbm/basic.py:2065: UserWarning: Using categorical_feature in Dataset.\n",
      "  _log_warning('Using categorical_feature in Dataset.')\n",
      "/opt/conda/envs/practicum/lib/python3.9/site-packages/lightgbm/basic.py:2065: UserWarning: Using categorical_feature in Dataset.\n",
      "  _log_warning('Using categorical_feature in Dataset.')\n",
      "/opt/conda/envs/practicum/lib/python3.9/site-packages/lightgbm/basic.py:2065: UserWarning: Using categorical_feature in Dataset.\n",
      "  _log_warning('Using categorical_feature in Dataset.')\n",
      "/opt/conda/envs/practicum/lib/python3.9/site-packages/lightgbm/basic.py:2065: UserWarning: Using categorical_feature in Dataset.\n",
      "  _log_warning('Using categorical_feature in Dataset.')\n",
      "/opt/conda/envs/practicum/lib/python3.9/site-packages/lightgbm/basic.py:2065: UserWarning: Using categorical_feature in Dataset.\n",
      "  _log_warning('Using categorical_feature in Dataset.')\n",
      "/opt/conda/envs/practicum/lib/python3.9/site-packages/lightgbm/basic.py:2065: UserWarning: Using categorical_feature in Dataset.\n",
      "  _log_warning('Using categorical_feature in Dataset.')\n",
      "/opt/conda/envs/practicum/lib/python3.9/site-packages/lightgbm/basic.py:2065: UserWarning: Using categorical_feature in Dataset.\n",
      "  _log_warning('Using categorical_feature in Dataset.')\n",
      "/opt/conda/envs/practicum/lib/python3.9/site-packages/lightgbm/basic.py:2065: UserWarning: Using categorical_feature in Dataset.\n",
      "  _log_warning('Using categorical_feature in Dataset.')\n",
      "/opt/conda/envs/practicum/lib/python3.9/site-packages/lightgbm/basic.py:2065: UserWarning: Using categorical_feature in Dataset.\n",
      "  _log_warning('Using categorical_feature in Dataset.')\n",
      "/opt/conda/envs/practicum/lib/python3.9/site-packages/lightgbm/basic.py:2065: UserWarning: Using categorical_feature in Dataset.\n",
      "  _log_warning('Using categorical_feature in Dataset.')\n",
      "/opt/conda/envs/practicum/lib/python3.9/site-packages/lightgbm/basic.py:2065: UserWarning: Using categorical_feature in Dataset.\n",
      "  _log_warning('Using categorical_feature in Dataset.')\n",
      "/opt/conda/envs/practicum/lib/python3.9/site-packages/lightgbm/basic.py:2065: UserWarning: Using categorical_feature in Dataset.\n",
      "  _log_warning('Using categorical_feature in Dataset.')\n",
      "/opt/conda/envs/practicum/lib/python3.9/site-packages/lightgbm/basic.py:2065: UserWarning: Using categorical_feature in Dataset.\n",
      "  _log_warning('Using categorical_feature in Dataset.')\n",
      "/opt/conda/envs/practicum/lib/python3.9/site-packages/lightgbm/basic.py:2065: UserWarning: Using categorical_feature in Dataset.\n",
      "  _log_warning('Using categorical_feature in Dataset.')\n",
      "/opt/conda/envs/practicum/lib/python3.9/site-packages/lightgbm/basic.py:2065: UserWarning: Using categorical_feature in Dataset.\n",
      "  _log_warning('Using categorical_feature in Dataset.')\n",
      "/opt/conda/envs/practicum/lib/python3.9/site-packages/lightgbm/basic.py:2065: UserWarning: Using categorical_feature in Dataset.\n",
      "  _log_warning('Using categorical_feature in Dataset.')\n",
      "/opt/conda/envs/practicum/lib/python3.9/site-packages/lightgbm/basic.py:2065: UserWarning: Using categorical_feature in Dataset.\n",
      "  _log_warning('Using categorical_feature in Dataset.')\n",
      "/opt/conda/envs/practicum/lib/python3.9/site-packages/lightgbm/basic.py:2065: UserWarning: Using categorical_feature in Dataset.\n",
      "  _log_warning('Using categorical_feature in Dataset.')\n",
      "/opt/conda/envs/practicum/lib/python3.9/site-packages/lightgbm/basic.py:2065: UserWarning: Using categorical_feature in Dataset.\n",
      "  _log_warning('Using categorical_feature in Dataset.')\n",
      "/opt/conda/envs/practicum/lib/python3.9/site-packages/lightgbm/basic.py:2065: UserWarning: Using categorical_feature in Dataset.\n",
      "  _log_warning('Using categorical_feature in Dataset.')\n",
      "/opt/conda/envs/practicum/lib/python3.9/site-packages/lightgbm/basic.py:2065: UserWarning: Using categorical_feature in Dataset.\n",
      "  _log_warning('Using categorical_feature in Dataset.')\n",
      "/opt/conda/envs/practicum/lib/python3.9/site-packages/lightgbm/basic.py:2065: UserWarning: Using categorical_feature in Dataset.\n",
      "  _log_warning('Using categorical_feature in Dataset.')\n",
      "/opt/conda/envs/practicum/lib/python3.9/site-packages/lightgbm/basic.py:2065: UserWarning: Using categorical_feature in Dataset.\n",
      "  _log_warning('Using categorical_feature in Dataset.')\n",
      "/opt/conda/envs/practicum/lib/python3.9/site-packages/lightgbm/basic.py:2065: UserWarning: Using categorical_feature in Dataset.\n",
      "  _log_warning('Using categorical_feature in Dataset.')\n",
      "/opt/conda/envs/practicum/lib/python3.9/site-packages/lightgbm/basic.py:2065: UserWarning: Using categorical_feature in Dataset.\n",
      "  _log_warning('Using categorical_feature in Dataset.')\n",
      "/opt/conda/envs/practicum/lib/python3.9/site-packages/lightgbm/basic.py:2065: UserWarning: Using categorical_feature in Dataset.\n",
      "  _log_warning('Using categorical_feature in Dataset.')\n",
      "/opt/conda/envs/practicum/lib/python3.9/site-packages/lightgbm/basic.py:2065: UserWarning: Using categorical_feature in Dataset.\n",
      "  _log_warning('Using categorical_feature in Dataset.')\n",
      "/opt/conda/envs/practicum/lib/python3.9/site-packages/lightgbm/basic.py:2065: UserWarning: Using categorical_feature in Dataset.\n",
      "  _log_warning('Using categorical_feature in Dataset.')\n",
      "/opt/conda/envs/practicum/lib/python3.9/site-packages/lightgbm/basic.py:2065: UserWarning: Using categorical_feature in Dataset.\n",
      "  _log_warning('Using categorical_feature in Dataset.')\n",
      "/opt/conda/envs/practicum/lib/python3.9/site-packages/lightgbm/basic.py:2065: UserWarning: Using categorical_feature in Dataset.\n",
      "  _log_warning('Using categorical_feature in Dataset.')\n",
      "/opt/conda/envs/practicum/lib/python3.9/site-packages/lightgbm/basic.py:2065: UserWarning: Using categorical_feature in Dataset.\n",
      "  _log_warning('Using categorical_feature in Dataset.')\n",
      "/opt/conda/envs/practicum/lib/python3.9/site-packages/lightgbm/basic.py:2065: UserWarning: Using categorical_feature in Dataset.\n",
      "  _log_warning('Using categorical_feature in Dataset.')\n",
      "/opt/conda/envs/practicum/lib/python3.9/site-packages/lightgbm/basic.py:2065: UserWarning: Using categorical_feature in Dataset.\n",
      "  _log_warning('Using categorical_feature in Dataset.')\n",
      "/opt/conda/envs/practicum/lib/python3.9/site-packages/lightgbm/basic.py:2065: UserWarning: Using categorical_feature in Dataset.\n",
      "  _log_warning('Using categorical_feature in Dataset.')\n",
      "/opt/conda/envs/practicum/lib/python3.9/site-packages/lightgbm/basic.py:2065: UserWarning: Using categorical_feature in Dataset.\n",
      "  _log_warning('Using categorical_feature in Dataset.')\n",
      "/opt/conda/envs/practicum/lib/python3.9/site-packages/lightgbm/basic.py:2065: UserWarning: Using categorical_feature in Dataset.\n",
      "  _log_warning('Using categorical_feature in Dataset.')\n",
      "/opt/conda/envs/practicum/lib/python3.9/site-packages/lightgbm/basic.py:2065: UserWarning: Using categorical_feature in Dataset.\n",
      "  _log_warning('Using categorical_feature in Dataset.')\n",
      "/opt/conda/envs/practicum/lib/python3.9/site-packages/lightgbm/basic.py:2065: UserWarning: Using categorical_feature in Dataset.\n",
      "  _log_warning('Using categorical_feature in Dataset.')\n",
      "/opt/conda/envs/practicum/lib/python3.9/site-packages/lightgbm/basic.py:2065: UserWarning: Using categorical_feature in Dataset.\n",
      "  _log_warning('Using categorical_feature in Dataset.')\n",
      "/opt/conda/envs/practicum/lib/python3.9/site-packages/lightgbm/basic.py:2065: UserWarning: Using categorical_feature in Dataset.\n",
      "  _log_warning('Using categorical_feature in Dataset.')\n",
      "/opt/conda/envs/practicum/lib/python3.9/site-packages/lightgbm/basic.py:2065: UserWarning: Using categorical_feature in Dataset.\n",
      "  _log_warning('Using categorical_feature in Dataset.')\n",
      "/opt/conda/envs/practicum/lib/python3.9/site-packages/lightgbm/basic.py:2065: UserWarning: Using categorical_feature in Dataset.\n",
      "  _log_warning('Using categorical_feature in Dataset.')\n",
      "/opt/conda/envs/practicum/lib/python3.9/site-packages/lightgbm/basic.py:2065: UserWarning: Using categorical_feature in Dataset.\n",
      "  _log_warning('Using categorical_feature in Dataset.')\n",
      "/opt/conda/envs/practicum/lib/python3.9/site-packages/lightgbm/basic.py:2065: UserWarning: Using categorical_feature in Dataset.\n",
      "  _log_warning('Using categorical_feature in Dataset.')\n",
      "/opt/conda/envs/practicum/lib/python3.9/site-packages/lightgbm/basic.py:2065: UserWarning: Using categorical_feature in Dataset.\n",
      "  _log_warning('Using categorical_feature in Dataset.')\n"
     ]
    },
    {
     "name": "stderr",
     "output_type": "stream",
     "text": [
      "/opt/conda/envs/practicum/lib/python3.9/site-packages/lightgbm/basic.py:2065: UserWarning: Using categorical_feature in Dataset.\n",
      "  _log_warning('Using categorical_feature in Dataset.')\n",
      "/opt/conda/envs/practicum/lib/python3.9/site-packages/lightgbm/basic.py:2065: UserWarning: Using categorical_feature in Dataset.\n",
      "  _log_warning('Using categorical_feature in Dataset.')\n",
      "/opt/conda/envs/practicum/lib/python3.9/site-packages/lightgbm/basic.py:2065: UserWarning: Using categorical_feature in Dataset.\n",
      "  _log_warning('Using categorical_feature in Dataset.')\n",
      "/opt/conda/envs/practicum/lib/python3.9/site-packages/lightgbm/basic.py:2065: UserWarning: Using categorical_feature in Dataset.\n",
      "  _log_warning('Using categorical_feature in Dataset.')\n",
      "/opt/conda/envs/practicum/lib/python3.9/site-packages/lightgbm/basic.py:2065: UserWarning: Using categorical_feature in Dataset.\n",
      "  _log_warning('Using categorical_feature in Dataset.')\n",
      "/opt/conda/envs/practicum/lib/python3.9/site-packages/lightgbm/basic.py:2065: UserWarning: Using categorical_feature in Dataset.\n",
      "  _log_warning('Using categorical_feature in Dataset.')\n",
      "/opt/conda/envs/practicum/lib/python3.9/site-packages/lightgbm/basic.py:2065: UserWarning: Using categorical_feature in Dataset.\n",
      "  _log_warning('Using categorical_feature in Dataset.')\n",
      "/opt/conda/envs/practicum/lib/python3.9/site-packages/lightgbm/basic.py:2065: UserWarning: Using categorical_feature in Dataset.\n",
      "  _log_warning('Using categorical_feature in Dataset.')\n",
      "/opt/conda/envs/practicum/lib/python3.9/site-packages/lightgbm/basic.py:2065: UserWarning: Using categorical_feature in Dataset.\n",
      "  _log_warning('Using categorical_feature in Dataset.')\n",
      "/opt/conda/envs/practicum/lib/python3.9/site-packages/lightgbm/basic.py:2065: UserWarning: Using categorical_feature in Dataset.\n",
      "  _log_warning('Using categorical_feature in Dataset.')\n",
      "/opt/conda/envs/practicum/lib/python3.9/site-packages/lightgbm/basic.py:2065: UserWarning: Using categorical_feature in Dataset.\n",
      "  _log_warning('Using categorical_feature in Dataset.')\n",
      "/opt/conda/envs/practicum/lib/python3.9/site-packages/lightgbm/basic.py:2065: UserWarning: Using categorical_feature in Dataset.\n",
      "  _log_warning('Using categorical_feature in Dataset.')\n",
      "/opt/conda/envs/practicum/lib/python3.9/site-packages/lightgbm/basic.py:2065: UserWarning: Using categorical_feature in Dataset.\n",
      "  _log_warning('Using categorical_feature in Dataset.')\n",
      "/opt/conda/envs/practicum/lib/python3.9/site-packages/lightgbm/basic.py:2065: UserWarning: Using categorical_feature in Dataset.\n",
      "  _log_warning('Using categorical_feature in Dataset.')\n",
      "/opt/conda/envs/practicum/lib/python3.9/site-packages/lightgbm/basic.py:2065: UserWarning: Using categorical_feature in Dataset.\n",
      "  _log_warning('Using categorical_feature in Dataset.')\n",
      "/opt/conda/envs/practicum/lib/python3.9/site-packages/lightgbm/basic.py:2065: UserWarning: Using categorical_feature in Dataset.\n",
      "  _log_warning('Using categorical_feature in Dataset.')\n",
      "/opt/conda/envs/practicum/lib/python3.9/site-packages/lightgbm/basic.py:2065: UserWarning: Using categorical_feature in Dataset.\n",
      "  _log_warning('Using categorical_feature in Dataset.')\n",
      "/opt/conda/envs/practicum/lib/python3.9/site-packages/lightgbm/basic.py:2065: UserWarning: Using categorical_feature in Dataset.\n",
      "  _log_warning('Using categorical_feature in Dataset.')\n",
      "/opt/conda/envs/practicum/lib/python3.9/site-packages/lightgbm/basic.py:2065: UserWarning: Using categorical_feature in Dataset.\n",
      "  _log_warning('Using categorical_feature in Dataset.')\n",
      "/opt/conda/envs/practicum/lib/python3.9/site-packages/lightgbm/basic.py:2065: UserWarning: Using categorical_feature in Dataset.\n",
      "  _log_warning('Using categorical_feature in Dataset.')\n",
      "/opt/conda/envs/practicum/lib/python3.9/site-packages/lightgbm/basic.py:2065: UserWarning: Using categorical_feature in Dataset.\n",
      "  _log_warning('Using categorical_feature in Dataset.')\n",
      "/opt/conda/envs/practicum/lib/python3.9/site-packages/lightgbm/basic.py:2065: UserWarning: Using categorical_feature in Dataset.\n",
      "  _log_warning('Using categorical_feature in Dataset.')\n",
      "/opt/conda/envs/practicum/lib/python3.9/site-packages/lightgbm/basic.py:2065: UserWarning: Using categorical_feature in Dataset.\n",
      "  _log_warning('Using categorical_feature in Dataset.')\n",
      "/opt/conda/envs/practicum/lib/python3.9/site-packages/lightgbm/basic.py:2065: UserWarning: Using categorical_feature in Dataset.\n",
      "  _log_warning('Using categorical_feature in Dataset.')\n",
      "/opt/conda/envs/practicum/lib/python3.9/site-packages/lightgbm/basic.py:2065: UserWarning: Using categorical_feature in Dataset.\n",
      "  _log_warning('Using categorical_feature in Dataset.')\n",
      "/opt/conda/envs/practicum/lib/python3.9/site-packages/lightgbm/basic.py:2065: UserWarning: Using categorical_feature in Dataset.\n",
      "  _log_warning('Using categorical_feature in Dataset.')\n",
      "/opt/conda/envs/practicum/lib/python3.9/site-packages/lightgbm/basic.py:2065: UserWarning: Using categorical_feature in Dataset.\n",
      "  _log_warning('Using categorical_feature in Dataset.')\n",
      "/opt/conda/envs/practicum/lib/python3.9/site-packages/lightgbm/basic.py:2065: UserWarning: Using categorical_feature in Dataset.\n",
      "  _log_warning('Using categorical_feature in Dataset.')\n",
      "/opt/conda/envs/practicum/lib/python3.9/site-packages/lightgbm/basic.py:2065: UserWarning: Using categorical_feature in Dataset.\n",
      "  _log_warning('Using categorical_feature in Dataset.')\n",
      "/opt/conda/envs/practicum/lib/python3.9/site-packages/lightgbm/basic.py:2065: UserWarning: Using categorical_feature in Dataset.\n",
      "  _log_warning('Using categorical_feature in Dataset.')\n",
      "/opt/conda/envs/practicum/lib/python3.9/site-packages/lightgbm/basic.py:2065: UserWarning: Using categorical_feature in Dataset.\n",
      "  _log_warning('Using categorical_feature in Dataset.')\n",
      "/opt/conda/envs/practicum/lib/python3.9/site-packages/lightgbm/basic.py:2065: UserWarning: Using categorical_feature in Dataset.\n",
      "  _log_warning('Using categorical_feature in Dataset.')\n",
      "/opt/conda/envs/practicum/lib/python3.9/site-packages/lightgbm/basic.py:2065: UserWarning: Using categorical_feature in Dataset.\n",
      "  _log_warning('Using categorical_feature in Dataset.')\n",
      "/opt/conda/envs/practicum/lib/python3.9/site-packages/lightgbm/basic.py:2065: UserWarning: Using categorical_feature in Dataset.\n",
      "  _log_warning('Using categorical_feature in Dataset.')\n",
      "/opt/conda/envs/practicum/lib/python3.9/site-packages/lightgbm/basic.py:2065: UserWarning: Using categorical_feature in Dataset.\n",
      "  _log_warning('Using categorical_feature in Dataset.')\n",
      "/opt/conda/envs/practicum/lib/python3.9/site-packages/lightgbm/basic.py:2065: UserWarning: Using categorical_feature in Dataset.\n",
      "  _log_warning('Using categorical_feature in Dataset.')\n",
      "/opt/conda/envs/practicum/lib/python3.9/site-packages/lightgbm/basic.py:2065: UserWarning: Using categorical_feature in Dataset.\n",
      "  _log_warning('Using categorical_feature in Dataset.')\n",
      "/opt/conda/envs/practicum/lib/python3.9/site-packages/lightgbm/basic.py:2065: UserWarning: Using categorical_feature in Dataset.\n",
      "  _log_warning('Using categorical_feature in Dataset.')\n",
      "/opt/conda/envs/practicum/lib/python3.9/site-packages/lightgbm/basic.py:2065: UserWarning: Using categorical_feature in Dataset.\n",
      "  _log_warning('Using categorical_feature in Dataset.')\n",
      "/opt/conda/envs/practicum/lib/python3.9/site-packages/lightgbm/basic.py:2065: UserWarning: Using categorical_feature in Dataset.\n",
      "  _log_warning('Using categorical_feature in Dataset.')\n",
      "/opt/conda/envs/practicum/lib/python3.9/site-packages/lightgbm/basic.py:2065: UserWarning: Using categorical_feature in Dataset.\n",
      "  _log_warning('Using categorical_feature in Dataset.')\n",
      "/opt/conda/envs/practicum/lib/python3.9/site-packages/lightgbm/basic.py:2065: UserWarning: Using categorical_feature in Dataset.\n",
      "  _log_warning('Using categorical_feature in Dataset.')\n",
      "/opt/conda/envs/practicum/lib/python3.9/site-packages/lightgbm/basic.py:2065: UserWarning: Using categorical_feature in Dataset.\n",
      "  _log_warning('Using categorical_feature in Dataset.')\n",
      "/opt/conda/envs/practicum/lib/python3.9/site-packages/lightgbm/basic.py:2065: UserWarning: Using categorical_feature in Dataset.\n",
      "  _log_warning('Using categorical_feature in Dataset.')\n",
      "/opt/conda/envs/practicum/lib/python3.9/site-packages/lightgbm/basic.py:2065: UserWarning: Using categorical_feature in Dataset.\n",
      "  _log_warning('Using categorical_feature in Dataset.')\n"
     ]
    },
    {
     "name": "stderr",
     "output_type": "stream",
     "text": [
      "/opt/conda/envs/practicum/lib/python3.9/site-packages/lightgbm/basic.py:2065: UserWarning: Using categorical_feature in Dataset.\n",
      "  _log_warning('Using categorical_feature in Dataset.')\n",
      "/opt/conda/envs/practicum/lib/python3.9/site-packages/lightgbm/basic.py:2065: UserWarning: Using categorical_feature in Dataset.\n",
      "  _log_warning('Using categorical_feature in Dataset.')\n",
      "/opt/conda/envs/practicum/lib/python3.9/site-packages/lightgbm/basic.py:2065: UserWarning: Using categorical_feature in Dataset.\n",
      "  _log_warning('Using categorical_feature in Dataset.')\n",
      "/opt/conda/envs/practicum/lib/python3.9/site-packages/lightgbm/basic.py:2065: UserWarning: Using categorical_feature in Dataset.\n",
      "  _log_warning('Using categorical_feature in Dataset.')\n",
      "/opt/conda/envs/practicum/lib/python3.9/site-packages/lightgbm/basic.py:2065: UserWarning: Using categorical_feature in Dataset.\n",
      "  _log_warning('Using categorical_feature in Dataset.')\n",
      "/opt/conda/envs/practicum/lib/python3.9/site-packages/lightgbm/basic.py:2065: UserWarning: Using categorical_feature in Dataset.\n",
      "  _log_warning('Using categorical_feature in Dataset.')\n",
      "/opt/conda/envs/practicum/lib/python3.9/site-packages/lightgbm/basic.py:2065: UserWarning: Using categorical_feature in Dataset.\n",
      "  _log_warning('Using categorical_feature in Dataset.')\n",
      "/opt/conda/envs/practicum/lib/python3.9/site-packages/lightgbm/basic.py:2065: UserWarning: Using categorical_feature in Dataset.\n",
      "  _log_warning('Using categorical_feature in Dataset.')\n",
      "/opt/conda/envs/practicum/lib/python3.9/site-packages/lightgbm/basic.py:2065: UserWarning: Using categorical_feature in Dataset.\n",
      "  _log_warning('Using categorical_feature in Dataset.')\n",
      "/opt/conda/envs/practicum/lib/python3.9/site-packages/lightgbm/basic.py:2065: UserWarning: Using categorical_feature in Dataset.\n",
      "  _log_warning('Using categorical_feature in Dataset.')\n",
      "/opt/conda/envs/practicum/lib/python3.9/site-packages/lightgbm/basic.py:2065: UserWarning: Using categorical_feature in Dataset.\n",
      "  _log_warning('Using categorical_feature in Dataset.')\n",
      "/opt/conda/envs/practicum/lib/python3.9/site-packages/lightgbm/basic.py:2065: UserWarning: Using categorical_feature in Dataset.\n",
      "  _log_warning('Using categorical_feature in Dataset.')\n",
      "/opt/conda/envs/practicum/lib/python3.9/site-packages/lightgbm/basic.py:2065: UserWarning: Using categorical_feature in Dataset.\n",
      "  _log_warning('Using categorical_feature in Dataset.')\n",
      "/opt/conda/envs/practicum/lib/python3.9/site-packages/lightgbm/basic.py:2065: UserWarning: Using categorical_feature in Dataset.\n",
      "  _log_warning('Using categorical_feature in Dataset.')\n",
      "/opt/conda/envs/practicum/lib/python3.9/site-packages/lightgbm/basic.py:2065: UserWarning: Using categorical_feature in Dataset.\n",
      "  _log_warning('Using categorical_feature in Dataset.')\n",
      "/opt/conda/envs/practicum/lib/python3.9/site-packages/lightgbm/basic.py:2065: UserWarning: Using categorical_feature in Dataset.\n",
      "  _log_warning('Using categorical_feature in Dataset.')\n",
      "/opt/conda/envs/practicum/lib/python3.9/site-packages/lightgbm/basic.py:2065: UserWarning: Using categorical_feature in Dataset.\n",
      "  _log_warning('Using categorical_feature in Dataset.')\n",
      "/opt/conda/envs/practicum/lib/python3.9/site-packages/lightgbm/basic.py:2065: UserWarning: Using categorical_feature in Dataset.\n",
      "  _log_warning('Using categorical_feature in Dataset.')\n",
      "/opt/conda/envs/practicum/lib/python3.9/site-packages/lightgbm/basic.py:2065: UserWarning: Using categorical_feature in Dataset.\n",
      "  _log_warning('Using categorical_feature in Dataset.')\n",
      "/opt/conda/envs/practicum/lib/python3.9/site-packages/lightgbm/basic.py:2065: UserWarning: Using categorical_feature in Dataset.\n",
      "  _log_warning('Using categorical_feature in Dataset.')\n",
      "/opt/conda/envs/practicum/lib/python3.9/site-packages/lightgbm/basic.py:2065: UserWarning: Using categorical_feature in Dataset.\n",
      "  _log_warning('Using categorical_feature in Dataset.')\n",
      "/opt/conda/envs/practicum/lib/python3.9/site-packages/lightgbm/basic.py:2065: UserWarning: Using categorical_feature in Dataset.\n",
      "  _log_warning('Using categorical_feature in Dataset.')\n",
      "/opt/conda/envs/practicum/lib/python3.9/site-packages/lightgbm/basic.py:2065: UserWarning: Using categorical_feature in Dataset.\n",
      "  _log_warning('Using categorical_feature in Dataset.')\n",
      "/opt/conda/envs/practicum/lib/python3.9/site-packages/lightgbm/basic.py:2065: UserWarning: Using categorical_feature in Dataset.\n",
      "  _log_warning('Using categorical_feature in Dataset.')\n",
      "/opt/conda/envs/practicum/lib/python3.9/site-packages/lightgbm/basic.py:2065: UserWarning: Using categorical_feature in Dataset.\n",
      "  _log_warning('Using categorical_feature in Dataset.')\n",
      "/opt/conda/envs/practicum/lib/python3.9/site-packages/lightgbm/basic.py:2065: UserWarning: Using categorical_feature in Dataset.\n",
      "  _log_warning('Using categorical_feature in Dataset.')\n",
      "/opt/conda/envs/practicum/lib/python3.9/site-packages/lightgbm/basic.py:2065: UserWarning: Using categorical_feature in Dataset.\n",
      "  _log_warning('Using categorical_feature in Dataset.')\n",
      "/opt/conda/envs/practicum/lib/python3.9/site-packages/lightgbm/basic.py:2065: UserWarning: Using categorical_feature in Dataset.\n",
      "  _log_warning('Using categorical_feature in Dataset.')\n",
      "/opt/conda/envs/practicum/lib/python3.9/site-packages/lightgbm/basic.py:2065: UserWarning: Using categorical_feature in Dataset.\n",
      "  _log_warning('Using categorical_feature in Dataset.')\n",
      "/opt/conda/envs/practicum/lib/python3.9/site-packages/lightgbm/basic.py:2065: UserWarning: Using categorical_feature in Dataset.\n",
      "  _log_warning('Using categorical_feature in Dataset.')\n",
      "/opt/conda/envs/practicum/lib/python3.9/site-packages/lightgbm/basic.py:2065: UserWarning: Using categorical_feature in Dataset.\n",
      "  _log_warning('Using categorical_feature in Dataset.')\n",
      "/opt/conda/envs/practicum/lib/python3.9/site-packages/lightgbm/basic.py:2065: UserWarning: Using categorical_feature in Dataset.\n",
      "  _log_warning('Using categorical_feature in Dataset.')\n",
      "/opt/conda/envs/practicum/lib/python3.9/site-packages/lightgbm/basic.py:2065: UserWarning: Using categorical_feature in Dataset.\n",
      "  _log_warning('Using categorical_feature in Dataset.')\n",
      "/opt/conda/envs/practicum/lib/python3.9/site-packages/lightgbm/basic.py:2065: UserWarning: Using categorical_feature in Dataset.\n",
      "  _log_warning('Using categorical_feature in Dataset.')\n",
      "/opt/conda/envs/practicum/lib/python3.9/site-packages/lightgbm/basic.py:2065: UserWarning: Using categorical_feature in Dataset.\n",
      "  _log_warning('Using categorical_feature in Dataset.')\n",
      "/opt/conda/envs/practicum/lib/python3.9/site-packages/lightgbm/basic.py:2065: UserWarning: Using categorical_feature in Dataset.\n",
      "  _log_warning('Using categorical_feature in Dataset.')\n",
      "/opt/conda/envs/practicum/lib/python3.9/site-packages/lightgbm/basic.py:2065: UserWarning: Using categorical_feature in Dataset.\n",
      "  _log_warning('Using categorical_feature in Dataset.')\n",
      "/opt/conda/envs/practicum/lib/python3.9/site-packages/lightgbm/basic.py:2065: UserWarning: Using categorical_feature in Dataset.\n",
      "  _log_warning('Using categorical_feature in Dataset.')\n",
      "/opt/conda/envs/practicum/lib/python3.9/site-packages/lightgbm/basic.py:2065: UserWarning: Using categorical_feature in Dataset.\n",
      "  _log_warning('Using categorical_feature in Dataset.')\n",
      "/opt/conda/envs/practicum/lib/python3.9/site-packages/lightgbm/basic.py:2065: UserWarning: Using categorical_feature in Dataset.\n",
      "  _log_warning('Using categorical_feature in Dataset.')\n",
      "/opt/conda/envs/practicum/lib/python3.9/site-packages/lightgbm/basic.py:2065: UserWarning: Using categorical_feature in Dataset.\n",
      "  _log_warning('Using categorical_feature in Dataset.')\n",
      "/opt/conda/envs/practicum/lib/python3.9/site-packages/lightgbm/basic.py:2065: UserWarning: Using categorical_feature in Dataset.\n",
      "  _log_warning('Using categorical_feature in Dataset.')\n",
      "/opt/conda/envs/practicum/lib/python3.9/site-packages/lightgbm/basic.py:2065: UserWarning: Using categorical_feature in Dataset.\n",
      "  _log_warning('Using categorical_feature in Dataset.')\n",
      "/opt/conda/envs/practicum/lib/python3.9/site-packages/lightgbm/basic.py:2065: UserWarning: Using categorical_feature in Dataset.\n",
      "  _log_warning('Using categorical_feature in Dataset.')\n",
      "/opt/conda/envs/practicum/lib/python3.9/site-packages/lightgbm/basic.py:2065: UserWarning: Using categorical_feature in Dataset.\n",
      "  _log_warning('Using categorical_feature in Dataset.')\n"
     ]
    },
    {
     "name": "stderr",
     "output_type": "stream",
     "text": [
      "/opt/conda/envs/practicum/lib/python3.9/site-packages/lightgbm/basic.py:2065: UserWarning: Using categorical_feature in Dataset.\n",
      "  _log_warning('Using categorical_feature in Dataset.')\n",
      "/opt/conda/envs/practicum/lib/python3.9/site-packages/lightgbm/basic.py:2065: UserWarning: Using categorical_feature in Dataset.\n",
      "  _log_warning('Using categorical_feature in Dataset.')\n",
      "/opt/conda/envs/practicum/lib/python3.9/site-packages/lightgbm/basic.py:2065: UserWarning: Using categorical_feature in Dataset.\n",
      "  _log_warning('Using categorical_feature in Dataset.')\n",
      "/opt/conda/envs/practicum/lib/python3.9/site-packages/lightgbm/basic.py:2065: UserWarning: Using categorical_feature in Dataset.\n",
      "  _log_warning('Using categorical_feature in Dataset.')\n",
      "/opt/conda/envs/practicum/lib/python3.9/site-packages/lightgbm/basic.py:2065: UserWarning: Using categorical_feature in Dataset.\n",
      "  _log_warning('Using categorical_feature in Dataset.')\n",
      "/opt/conda/envs/practicum/lib/python3.9/site-packages/lightgbm/basic.py:2065: UserWarning: Using categorical_feature in Dataset.\n",
      "  _log_warning('Using categorical_feature in Dataset.')\n",
      "/opt/conda/envs/practicum/lib/python3.9/site-packages/lightgbm/basic.py:2065: UserWarning: Using categorical_feature in Dataset.\n",
      "  _log_warning('Using categorical_feature in Dataset.')\n",
      "/opt/conda/envs/practicum/lib/python3.9/site-packages/lightgbm/basic.py:2065: UserWarning: Using categorical_feature in Dataset.\n",
      "  _log_warning('Using categorical_feature in Dataset.')\n",
      "/opt/conda/envs/practicum/lib/python3.9/site-packages/lightgbm/basic.py:2065: UserWarning: Using categorical_feature in Dataset.\n",
      "  _log_warning('Using categorical_feature in Dataset.')\n",
      "/opt/conda/envs/practicum/lib/python3.9/site-packages/lightgbm/basic.py:2065: UserWarning: Using categorical_feature in Dataset.\n",
      "  _log_warning('Using categorical_feature in Dataset.')\n",
      "/opt/conda/envs/practicum/lib/python3.9/site-packages/lightgbm/basic.py:2065: UserWarning: Using categorical_feature in Dataset.\n",
      "  _log_warning('Using categorical_feature in Dataset.')\n",
      "/opt/conda/envs/practicum/lib/python3.9/site-packages/lightgbm/basic.py:2065: UserWarning: Using categorical_feature in Dataset.\n",
      "  _log_warning('Using categorical_feature in Dataset.')\n",
      "/opt/conda/envs/practicum/lib/python3.9/site-packages/lightgbm/basic.py:2065: UserWarning: Using categorical_feature in Dataset.\n",
      "  _log_warning('Using categorical_feature in Dataset.')\n",
      "/opt/conda/envs/practicum/lib/python3.9/site-packages/lightgbm/basic.py:2065: UserWarning: Using categorical_feature in Dataset.\n",
      "  _log_warning('Using categorical_feature in Dataset.')\n",
      "/opt/conda/envs/practicum/lib/python3.9/site-packages/lightgbm/basic.py:2065: UserWarning: Using categorical_feature in Dataset.\n",
      "  _log_warning('Using categorical_feature in Dataset.')\n",
      "/opt/conda/envs/practicum/lib/python3.9/site-packages/lightgbm/basic.py:2065: UserWarning: Using categorical_feature in Dataset.\n",
      "  _log_warning('Using categorical_feature in Dataset.')\n",
      "/opt/conda/envs/practicum/lib/python3.9/site-packages/lightgbm/basic.py:2065: UserWarning: Using categorical_feature in Dataset.\n",
      "  _log_warning('Using categorical_feature in Dataset.')\n",
      "/opt/conda/envs/practicum/lib/python3.9/site-packages/lightgbm/basic.py:2065: UserWarning: Using categorical_feature in Dataset.\n",
      "  _log_warning('Using categorical_feature in Dataset.')\n",
      "/opt/conda/envs/practicum/lib/python3.9/site-packages/lightgbm/basic.py:2065: UserWarning: Using categorical_feature in Dataset.\n",
      "  _log_warning('Using categorical_feature in Dataset.')\n",
      "/opt/conda/envs/practicum/lib/python3.9/site-packages/lightgbm/basic.py:2065: UserWarning: Using categorical_feature in Dataset.\n",
      "  _log_warning('Using categorical_feature in Dataset.')\n",
      "/opt/conda/envs/practicum/lib/python3.9/site-packages/lightgbm/basic.py:2065: UserWarning: Using categorical_feature in Dataset.\n",
      "  _log_warning('Using categorical_feature in Dataset.')\n",
      "/opt/conda/envs/practicum/lib/python3.9/site-packages/lightgbm/basic.py:2065: UserWarning: Using categorical_feature in Dataset.\n",
      "  _log_warning('Using categorical_feature in Dataset.')\n",
      "/opt/conda/envs/practicum/lib/python3.9/site-packages/lightgbm/basic.py:2065: UserWarning: Using categorical_feature in Dataset.\n",
      "  _log_warning('Using categorical_feature in Dataset.')\n",
      "/opt/conda/envs/practicum/lib/python3.9/site-packages/lightgbm/basic.py:2065: UserWarning: Using categorical_feature in Dataset.\n",
      "  _log_warning('Using categorical_feature in Dataset.')\n",
      "/opt/conda/envs/practicum/lib/python3.9/site-packages/lightgbm/basic.py:2065: UserWarning: Using categorical_feature in Dataset.\n",
      "  _log_warning('Using categorical_feature in Dataset.')\n",
      "/opt/conda/envs/practicum/lib/python3.9/site-packages/lightgbm/basic.py:2065: UserWarning: Using categorical_feature in Dataset.\n",
      "  _log_warning('Using categorical_feature in Dataset.')\n",
      "/opt/conda/envs/practicum/lib/python3.9/site-packages/lightgbm/basic.py:2065: UserWarning: Using categorical_feature in Dataset.\n",
      "  _log_warning('Using categorical_feature in Dataset.')\n",
      "/opt/conda/envs/practicum/lib/python3.9/site-packages/lightgbm/basic.py:2065: UserWarning: Using categorical_feature in Dataset.\n",
      "  _log_warning('Using categorical_feature in Dataset.')\n",
      "/opt/conda/envs/practicum/lib/python3.9/site-packages/lightgbm/basic.py:2065: UserWarning: Using categorical_feature in Dataset.\n",
      "  _log_warning('Using categorical_feature in Dataset.')\n",
      "/opt/conda/envs/practicum/lib/python3.9/site-packages/lightgbm/basic.py:2065: UserWarning: Using categorical_feature in Dataset.\n",
      "  _log_warning('Using categorical_feature in Dataset.')\n",
      "/opt/conda/envs/practicum/lib/python3.9/site-packages/lightgbm/basic.py:2065: UserWarning: Using categorical_feature in Dataset.\n",
      "  _log_warning('Using categorical_feature in Dataset.')\n",
      "/opt/conda/envs/practicum/lib/python3.9/site-packages/lightgbm/basic.py:2065: UserWarning: Using categorical_feature in Dataset.\n",
      "  _log_warning('Using categorical_feature in Dataset.')\n",
      "/opt/conda/envs/practicum/lib/python3.9/site-packages/lightgbm/basic.py:2065: UserWarning: Using categorical_feature in Dataset.\n",
      "  _log_warning('Using categorical_feature in Dataset.')\n",
      "/opt/conda/envs/practicum/lib/python3.9/site-packages/lightgbm/basic.py:2065: UserWarning: Using categorical_feature in Dataset.\n",
      "  _log_warning('Using categorical_feature in Dataset.')\n",
      "/opt/conda/envs/practicum/lib/python3.9/site-packages/lightgbm/basic.py:2065: UserWarning: Using categorical_feature in Dataset.\n",
      "  _log_warning('Using categorical_feature in Dataset.')\n",
      "/opt/conda/envs/practicum/lib/python3.9/site-packages/lightgbm/basic.py:2065: UserWarning: Using categorical_feature in Dataset.\n",
      "  _log_warning('Using categorical_feature in Dataset.')\n",
      "/opt/conda/envs/practicum/lib/python3.9/site-packages/lightgbm/basic.py:2065: UserWarning: Using categorical_feature in Dataset.\n",
      "  _log_warning('Using categorical_feature in Dataset.')\n",
      "/opt/conda/envs/practicum/lib/python3.9/site-packages/lightgbm/basic.py:2065: UserWarning: Using categorical_feature in Dataset.\n",
      "  _log_warning('Using categorical_feature in Dataset.')\n",
      "/opt/conda/envs/practicum/lib/python3.9/site-packages/lightgbm/basic.py:2065: UserWarning: Using categorical_feature in Dataset.\n",
      "  _log_warning('Using categorical_feature in Dataset.')\n",
      "/opt/conda/envs/practicum/lib/python3.9/site-packages/lightgbm/basic.py:2065: UserWarning: Using categorical_feature in Dataset.\n",
      "  _log_warning('Using categorical_feature in Dataset.')\n",
      "/opt/conda/envs/practicum/lib/python3.9/site-packages/lightgbm/basic.py:2065: UserWarning: Using categorical_feature in Dataset.\n",
      "  _log_warning('Using categorical_feature in Dataset.')\n",
      "/opt/conda/envs/practicum/lib/python3.9/site-packages/lightgbm/basic.py:2065: UserWarning: Using categorical_feature in Dataset.\n",
      "  _log_warning('Using categorical_feature in Dataset.')\n",
      "/opt/conda/envs/practicum/lib/python3.9/site-packages/lightgbm/basic.py:2065: UserWarning: Using categorical_feature in Dataset.\n",
      "  _log_warning('Using categorical_feature in Dataset.')\n",
      "/opt/conda/envs/practicum/lib/python3.9/site-packages/lightgbm/basic.py:2065: UserWarning: Using categorical_feature in Dataset.\n",
      "  _log_warning('Using categorical_feature in Dataset.')\n",
      "/opt/conda/envs/practicum/lib/python3.9/site-packages/lightgbm/basic.py:2065: UserWarning: Using categorical_feature in Dataset.\n",
      "  _log_warning('Using categorical_feature in Dataset.')\n"
     ]
    },
    {
     "name": "stderr",
     "output_type": "stream",
     "text": [
      "/opt/conda/envs/practicum/lib/python3.9/site-packages/lightgbm/basic.py:2065: UserWarning: Using categorical_feature in Dataset.\n",
      "  _log_warning('Using categorical_feature in Dataset.')\n"
     ]
    },
    {
     "name": "stdout",
     "output_type": "stream",
     "text": [
      "[LightGBM] [Warning] num_threads is set=4, n_jobs=-1 will be ignored. Current value: num_threads=4\n"
     ]
    },
    {
     "data": {
      "text/plain": [
       "{'learning_rate': 0.05, 'max_depth': 50, 'n_estimators': 150, 'num_leaves': 31}"
      ]
     },
     "execution_count": 41,
     "metadata": {},
     "output_type": "execute_result"
    }
   ],
   "source": [
    "params = {'num_leaves': [26, 31, 36],\n",
    "          'max_depth': [50, 100, 150],\n",
    "          'learning_rate': [0.05, 0.10, 0.15],\n",
    "          'n_estimators': [50, 100, 150],\n",
    "         }\n",
    "\n",
    "grid_search = GridSearchCV(estimator=lgbm_regressor,\n",
    "                           param_grid=params,\n",
    "                           scoring='neg_mean_squared_error',\n",
    "                           cv=cv_splits,\n",
    "                           n_jobs=N_JOBS,\n",
    "                          )\n",
    "\n",
    "\n",
    "grid_search.fit(X_train, y_train, categorical_feature=['month', 'day', 'dayofweek', 'hour'])\n",
    "\n",
    "best_lgbm = grid_search.best_estimator_\n",
    "\n",
    "grid_search.best_params_"
   ]
  },
  {
   "cell_type": "markdown",
   "metadata": {},
   "source": [
    "Оценим получившуюся модель на полной обучающей выборке."
   ]
  },
  {
   "cell_type": "code",
   "execution_count": 42,
   "metadata": {},
   "outputs": [
    {
     "name": "stdout",
     "output_type": "stream",
     "text": [
      "best_lgbm (оценки на обучающей выборке):\n",
      "RMSE = 10.84\n",
      "R2 = 0.92\n"
     ]
    }
   ],
   "source": [
    "print('best_lgbm (оценки на обучающей выборке):')\n",
    "evaluate_on_train(estimator=best_lgbm, \n",
    "                  X=X_train, \n",
    "                  y=y_train,\n",
    "                 )"
   ]
  },
  {
   "cell_type": "markdown",
   "metadata": {},
   "source": [
    "Оценим модель с помощью кросс-валидации."
   ]
  },
  {
   "cell_type": "code",
   "execution_count": 43,
   "metadata": {},
   "outputs": [
    {
     "data": {
      "text/html": [
       "<div>\n",
       "<style scoped>\n",
       "    .dataframe tbody tr th:only-of-type {\n",
       "        vertical-align: middle;\n",
       "    }\n",
       "\n",
       "    .dataframe tbody tr th {\n",
       "        vertical-align: top;\n",
       "    }\n",
       "\n",
       "    .dataframe thead th {\n",
       "        text-align: right;\n",
       "    }\n",
       "</style>\n",
       "<table border=\"1\" class=\"dataframe\">\n",
       "  <thead>\n",
       "    <tr style=\"text-align: right;\">\n",
       "      <th></th>\n",
       "      <th>RMSE</th>\n",
       "    </tr>\n",
       "  </thead>\n",
       "  <tbody>\n",
       "    <tr>\n",
       "      <th>min</th>\n",
       "      <td>17.64</td>\n",
       "    </tr>\n",
       "    <tr>\n",
       "      <th>mean</th>\n",
       "      <td>22.05</td>\n",
       "    </tr>\n",
       "    <tr>\n",
       "      <th>median</th>\n",
       "      <td>21.13</td>\n",
       "    </tr>\n",
       "    <tr>\n",
       "      <th>max</th>\n",
       "      <td>29.65</td>\n",
       "    </tr>\n",
       "    <tr>\n",
       "      <th>std</th>\n",
       "      <td>3.63</td>\n",
       "    </tr>\n",
       "  </tbody>\n",
       "</table>\n",
       "</div>"
      ],
      "text/plain": [
       "         RMSE\n",
       "min     17.64\n",
       "mean    22.05\n",
       "median  21.13\n",
       "max     29.65\n",
       "std      3.63"
      ]
     },
     "metadata": {},
     "output_type": "display_data"
    }
   ],
   "source": [
    "lgbm_rmse = rmse_cv(estimator=best_lgbm, \n",
    "                    X=X_train, \n",
    "                    y=y_train\n",
    "                   )\n",
    "\n",
    "display(lgbm_rmse)\n",
    "\n",
    "models_performance['best_lgbm'] = lgbm_rmse"
   ]
  },
  {
   "cell_type": "code",
   "execution_count": 44,
   "metadata": {},
   "outputs": [
    {
     "data": {
      "text/html": [
       "<div>\n",
       "<style scoped>\n",
       "    .dataframe tbody tr th:only-of-type {\n",
       "        vertical-align: middle;\n",
       "    }\n",
       "\n",
       "    .dataframe tbody tr th {\n",
       "        vertical-align: top;\n",
       "    }\n",
       "\n",
       "    .dataframe thead th {\n",
       "        text-align: right;\n",
       "    }\n",
       "</style>\n",
       "<table border=\"1\" class=\"dataframe\">\n",
       "  <thead>\n",
       "    <tr style=\"text-align: right;\">\n",
       "      <th></th>\n",
       "      <th>R2</th>\n",
       "    </tr>\n",
       "  </thead>\n",
       "  <tbody>\n",
       "    <tr>\n",
       "      <th>min</th>\n",
       "      <td>0.53</td>\n",
       "    </tr>\n",
       "    <tr>\n",
       "      <th>mean</th>\n",
       "      <td>0.60</td>\n",
       "    </tr>\n",
       "    <tr>\n",
       "      <th>median</th>\n",
       "      <td>0.60</td>\n",
       "    </tr>\n",
       "    <tr>\n",
       "      <th>max</th>\n",
       "      <td>0.66</td>\n",
       "    </tr>\n",
       "    <tr>\n",
       "      <th>std</th>\n",
       "      <td>0.04</td>\n",
       "    </tr>\n",
       "  </tbody>\n",
       "</table>\n",
       "</div>"
      ],
      "text/plain": [
       "          R2\n",
       "min     0.53\n",
       "mean    0.60\n",
       "median  0.60\n",
       "max     0.66\n",
       "std     0.04"
      ]
     },
     "execution_count": 44,
     "metadata": {},
     "output_type": "execute_result"
    }
   ],
   "source": [
    "r2_cv(estimator=best_lgbm, \n",
    "      X=X_train, \n",
    "      y=y_train\n",
    "     )"
   ]
  },
  {
   "cell_type": "markdown",
   "metadata": {},
   "source": [
    "Выведем сводную таблицу, содержащую оценки RMSE с помощью кросс-валидации после настройки гиперпараметров для обеих моделей."
   ]
  },
  {
   "cell_type": "code",
   "execution_count": 45,
   "metadata": {},
   "outputs": [
    {
     "data": {
      "text/html": [
       "<div>\n",
       "<style scoped>\n",
       "    .dataframe tbody tr th:only-of-type {\n",
       "        vertical-align: middle;\n",
       "    }\n",
       "\n",
       "    .dataframe tbody tr th {\n",
       "        vertical-align: top;\n",
       "    }\n",
       "\n",
       "    .dataframe thead th {\n",
       "        text-align: right;\n",
       "    }\n",
       "</style>\n",
       "<table border=\"1\" class=\"dataframe\">\n",
       "  <thead>\n",
       "    <tr style=\"text-align: right;\">\n",
       "      <th></th>\n",
       "      <th>best_ridge</th>\n",
       "      <th>best_lgbm</th>\n",
       "    </tr>\n",
       "  </thead>\n",
       "  <tbody>\n",
       "    <tr>\n",
       "      <th>min</th>\n",
       "      <td>18.66</td>\n",
       "      <td>17.64</td>\n",
       "    </tr>\n",
       "    <tr>\n",
       "      <th>mean</th>\n",
       "      <td>22.21</td>\n",
       "      <td>22.05</td>\n",
       "    </tr>\n",
       "    <tr>\n",
       "      <th>median</th>\n",
       "      <td>20.97</td>\n",
       "      <td>21.13</td>\n",
       "    </tr>\n",
       "    <tr>\n",
       "      <th>max</th>\n",
       "      <td>30.84</td>\n",
       "      <td>29.65</td>\n",
       "    </tr>\n",
       "    <tr>\n",
       "      <th>std</th>\n",
       "      <td>3.65</td>\n",
       "      <td>3.63</td>\n",
       "    </tr>\n",
       "  </tbody>\n",
       "</table>\n",
       "</div>"
      ],
      "text/plain": [
       "        best_ridge  best_lgbm\n",
       "min          18.66      17.64\n",
       "mean         22.21      22.05\n",
       "median       20.97      21.13\n",
       "max          30.84      29.65\n",
       "std           3.65       3.63"
      ]
     },
     "execution_count": 45,
     "metadata": {},
     "output_type": "execute_result"
    }
   ],
   "source": [
    "models_performance"
   ]
  },
  {
   "cell_type": "markdown",
   "metadata": {},
   "source": [
    "Линейная регрессия и `LGBMRegressor` показывают примерно одинаковые результаты на кросс-валидации после настройки гиперпараметров, при этом, `LGBMRegressor` демонстрирует оверфитинг, поэтому остановимся на линейной регрессии."
   ]
  },
  {
   "cell_type": "markdown",
   "metadata": {},
   "source": [
    "## Тестирование"
   ]
  },
  {
   "cell_type": "markdown",
   "metadata": {},
   "source": [
    "Оценим лучшую модель на тестовой выборке."
   ]
  },
  {
   "cell_type": "code",
   "execution_count": 46,
   "metadata": {},
   "outputs": [
    {
     "name": "stdout",
     "output_type": "stream",
     "text": [
      "Результаты лучшей модели на тестовой выборке\n",
      "RMSE: 34.681134342240064\n",
      "R2: 0.6532436053473931\n"
     ]
    }
   ],
   "source": [
    "y_pred = best_ridge.predict(X_test)\n",
    "\n",
    "print('Результаты лучшей модели на тестовой выборке')\n",
    "print(f'RMSE: {mean_squared_error(y_test, y_pred, squared=False)}')\n",
    "print(f'R2: {r2_score(y_test, y_pred)}')"
   ]
  },
  {
   "cell_type": "markdown",
   "metadata": {},
   "source": [
    "Полученный резлуьтат удовлетворяет условию задачи: RMSE на тестовой выборке меньше 48."
   ]
  },
  {
   "cell_type": "markdown",
   "metadata": {},
   "source": [
    "Совместим на одном графике фактические и спрогнозированные значения."
   ]
  },
  {
   "cell_type": "code",
   "execution_count": 47,
   "metadata": {
    "scrolled": true
   },
   "outputs": [
    {
     "data": {
      "image/png": "[encoded data removed]",
      "text/plain": [
       "<Figure size 1000x300 with 1 Axes>"
      ]
     },
     "metadata": {},
     "output_type": "display_data"
    },
    {
     "name": "stdout",
     "output_type": "stream",
     "text": [
      "[LightGBM] [Warning] num_threads is set=4, n_jobs=-1 will be ignored. Current value: num_threads=4\n",
      "[LightGBM] [Warning] num_threads is set=4, n_jobs=-1 will be ignored. Current value: num_threads=4\n",
      "[LightGBM] [Warning] num_threads is set=4, n_jobs=-1 will be ignored. Current value: num_threads=4\n",
      "[LightGBM] [Warning] num_threads is set=4, n_jobs=-1 will be ignored. Current value: num_threads=4\n",
      "[LightGBM] [Warning] num_threads is set=4, n_jobs=-1 will be ignored. Current value: num_threads=4\n",
      "[LightGBM] [Warning] num_threads is set=4, n_jobs=-1 will be ignored. Current value: num_threads=4\n",
      "[LightGBM] [Warning] num_threads is set=4, n_jobs=-1 will be ignored. Current value: num_threads=4\n",
      "[LightGBM] [Warning] num_threads is set=4, n_jobs=-1 will be ignored. Current value: num_threads=4\n",
      "[LightGBM] [Warning] num_threads is set=4, n_jobs=-1 will be ignored. Current value: num_threads=4\n",
      "[LightGBM] [Warning] num_threads is set=4, n_jobs=-1 will be ignored. Current value: num_threads=4\n",
      "[LightGBM] [Warning] num_threads is set=4, n_jobs=-1 will be ignored. Current value: num_threads=4\n",
      "[LightGBM] [Warning] num_threads is set=4, n_jobs=-1 will be ignored. Current value: num_threads=4\n",
      "[LightGBM] [Warning] num_threads is set=4, n_jobs=-1 will be ignored. Current value: num_threads=4\n",
      "[LightGBM] [Warning] num_threads is set=4, n_jobs=-1 will be ignored. Current value: num_threads=4\n",
      "[LightGBM] [Warning] num_threads is set=4, n_jobs=-1 will be ignored. Current value: num_threads=4\n",
      "[LightGBM] [Warning] num_threads is set=4, n_jobs=-1 will be ignored. Current value: num_threads=4\n",
      "[LightGBM] [Warning] num_threads is set=4, n_jobs=-1 will be ignored. Current value: num_threads=4\n",
      "[LightGBM] [Warning] num_threads is set=4, n_jobs=-1 will be ignored. Current value: num_threads=4\n",
      "[LightGBM] [Warning] num_threads is set=4, n_jobs=-1 will be ignored. Current value: num_threads=4\n",
      "[LightGBM] [Warning] num_threads is set=4, n_jobs=-1 will be ignored. Current value: num_threads=4\n",
      "[LightGBM] [Warning] num_threads is set=4, n_jobs=-1 will be ignored. Current value: num_threads=4\n",
      "[LightGBM] [Warning] num_threads is set=4, n_jobs=-1 will be ignored. Current value: num_threads=4\n",
      "[LightGBM] [Warning] num_threads is set=4, n_jobs=-1 will be ignored. Current value: num_threads=4\n",
      "[LightGBM] [Warning] num_threads is set=4, n_jobs=-1 will be ignored. Current value: num_threads=4\n",
      "[LightGBM] [Warning] num_threads is set=4, n_jobs=-1 will be ignored. Current value: num_threads=4\n",
      "[LightGBM] [Warning] num_threads is set=4, n_jobs=-1 will be ignored. Current value: num_threads=4\n",
      "[LightGBM] [Warning] num_threads is set=4, n_jobs=-1 will be ignored. Current value: num_threads=4\n",
      "[LightGBM] [Warning] num_threads is set=4, n_jobs=-1 will be ignored. Current value: num_threads=4\n",
      "[LightGBM] [Warning] num_threads is set=4, n_jobs=-1 will be ignored. Current value: num_threads=4\n",
      "[LightGBM] [Warning] num_threads is set=4, n_jobs=-1 will be ignored. Current value: num_threads=4\n",
      "[LightGBM] [Warning] num_threads is set=4, n_jobs=-1 will be ignored. Current value: num_threads=4\n",
      "[LightGBM] [Warning] num_threads is set=4, n_jobs=-1 will be ignored. Current value: num_threads=4\n",
      "[LightGBM] [Warning] num_threads is set=4, n_jobs=-1 will be ignored. Current value: num_threads=4\n",
      "[LightGBM] [Warning] num_threads is set=4, n_jobs=-1 will be ignored. Current value: num_threads=4\n",
      "[LightGBM] [Warning] num_threads is set=4, n_jobs=-1 will be ignored. Current value: num_threads=4\n",
      "[LightGBM] [Warning] num_threads is set=4, n_jobs=-1 will be ignored. Current value: num_threads=4\n",
      "[LightGBM] [Warning] num_threads is set=4, n_jobs=-1 will be ignored. Current value: num_threads=4\n",
      "[LightGBM] [Warning] num_threads is set=4, n_jobs=-1 will be ignored. Current value: num_threads=4\n",
      "[LightGBM] [Warning] num_threads is set=4, n_jobs=-1 will be ignored. Current value: num_threads=4\n",
      "[LightGBM] [Warning] num_threads is set=4, n_jobs=-1 will be ignored. Current value: num_threads=4\n",
      "[LightGBM] [Warning] num_threads is set=4, n_jobs=-1 will be ignored. Current value: num_threads=4\n",
      "[LightGBM] [Warning] num_threads is set=4, n_jobs=-1 will be ignored. Current value: num_threads=4\n",
      "[LightGBM] [Warning] num_threads is set=4, n_jobs=-1 will be ignored. Current value: num_threads=4\n",
      "[LightGBM] [Warning] num_threads is set=4, n_jobs=-1 will be ignored. Current value: num_threads=4\n",
      "[LightGBM] [Warning] num_threads is set=4, n_jobs=-1 will be ignored. Current value: num_threads=4\n",
      "[LightGBM] [Warning] num_threads is set=4, n_jobs=-1 will be ignored. Current value: num_threads=4\n",
      "[LightGBM] [Warning] num_threads is set=4, n_jobs=-1 will be ignored. Current value: num_threads=4\n",
      "[LightGBM] [Warning] num_threads is set=4, n_jobs=-1 will be ignored. Current value: num_threads=4\n",
      "[LightGBM] [Warning] num_threads is set=4, n_jobs=-1 will be ignored. Current value: num_threads=4\n",
      "[LightGBM] [Warning] num_threads is set=4, n_jobs=-1 will be ignored. Current value: num_threads=4\n",
      "[LightGBM] [Warning] num_threads is set=4, n_jobs=-1 will be ignored. Current value: num_threads=4\n",
      "[LightGBM] [Warning] num_threads is set=4, n_jobs=-1 will be ignored. Current value: num_threads=4\n",
      "[LightGBM] [Warning] num_threads is set=4, n_jobs=-1 will be ignored. Current value: num_threads=4\n",
      "[LightGBM] [Warning] num_threads is set=4, n_jobs=-1 will be ignored. Current value: num_threads=4\n",
      "[LightGBM] [Warning] num_threads is set=4, n_jobs=-1 will be ignored. Current value: num_threads=4\n",
      "[LightGBM] [Warning] num_threads is set=4, n_jobs=-1 will be ignored. Current value: num_threads=4\n",
      "[LightGBM] [Warning] num_threads is set=4, n_jobs=-1 will be ignored. Current value: num_threads=4\n",
      "[LightGBM] [Warning] num_threads is set=4, n_jobs=-1 will be ignored. Current value: num_threads=4\n",
      "[LightGBM] [Warning] num_threads is set=4, n_jobs=-1 will be ignored. Current value: num_threads=4\n",
      "[LightGBM] [Warning] num_threads is set=4, n_jobs=-1 will be ignored. Current value: num_threads=4\n",
      "[LightGBM] [Warning] num_threads is set=4, n_jobs=-1 will be ignored. Current value: num_threads=4\n",
      "[LightGBM] [Warning] num_threads is set=4, n_jobs=-1 will be ignored. Current value: num_threads=4\n",
      "[LightGBM] [Warning] num_threads is set=4, n_jobs=-1 will be ignored. Current value: num_threads=4\n",
      "[LightGBM] [Warning] num_threads is set=4, n_jobs=-1 will be ignored. Current value: num_threads=4\n",
      "[LightGBM] [Warning] num_threads is set=4, n_jobs=-1 will be ignored. Current value: num_threads=4\n",
      "[LightGBM] [Warning] num_threads is set=4, n_jobs=-1 will be ignored. Current value: num_threads=4\n",
      "[LightGBM] [Warning] num_threads is set=4, n_jobs=-1 will be ignored. Current value: num_threads=4\n",
      "[LightGBM] [Warning] num_threads is set=4, n_jobs=-1 will be ignored. Current value: num_threads=4\n",
      "[LightGBM] [Warning] num_threads is set=4, n_jobs=-1 will be ignored. Current value: num_threads=4\n",
      "[LightGBM] [Warning] num_threads is set=4, n_jobs=-1 will be ignored. Current value: num_threads=4\n",
      "[LightGBM] [Warning] num_threads is set=4, n_jobs=-1 will be ignored. Current value: num_threads=4\n",
      "[LightGBM] [Warning] num_threads is set=4, n_jobs=-1 will be ignored. Current value: num_threads=4\n",
      "[LightGBM] [Warning] num_threads is set=4, n_jobs=-1 will be ignored. Current value: num_threads=4\n",
      "[LightGBM] [Warning] num_threads is set=4, n_jobs=-1 will be ignored. Current value: num_threads=4\n",
      "[LightGBM] [Warning] num_threads is set=4, n_jobs=-1 will be ignored. Current value: num_threads=4\n",
      "[LightGBM] [Warning] num_threads is set=4, n_jobs=-1 will be ignored. Current value: num_threads=4\n",
      "[LightGBM] [Warning] num_threads is set=4, n_jobs=-1 will be ignored. Current value: num_threads=4\n",
      "[LightGBM] [Warning] num_threads is set=4, n_jobs=-1 will be ignored. Current value: num_threads=4\n",
      "[LightGBM] [Warning] num_threads is set=4, n_jobs=-1 will be ignored. Current value: num_threads=4\n",
      "[LightGBM] [Warning] num_threads is set=4, n_jobs=-1 will be ignored. Current value: num_threads=4\n",
      "[LightGBM] [Warning] num_threads is set=4, n_jobs=-1 will be ignored. Current value: num_threads=4\n",
      "[LightGBM] [Warning] num_threads is set=4, n_jobs=-1 will be ignored. Current value: num_threads=4\n",
      "[LightGBM] [Warning] num_threads is set=4, n_jobs=-1 will be ignored. Current value: num_threads=4\n",
      "[LightGBM] [Warning] num_threads is set=4, n_jobs=-1 will be ignored. Current value: num_threads=4\n",
      "[LightGBM] [Warning] num_threads is set=4, n_jobs=-1 will be ignored. Current value: num_threads=4\n",
      "[LightGBM] [Warning] num_threads is set=4, n_jobs=-1 will be ignored. Current value: num_threads=4\n",
      "[LightGBM] [Warning] num_threads is set=4, n_jobs=-1 will be ignored. Current value: num_threads=4\n",
      "[LightGBM] [Warning] num_threads is set=4, n_jobs=-1 will be ignored. Current value: num_threads=4\n",
      "[LightGBM] [Warning] num_threads is set=4, n_jobs=-1 will be ignored. Current value: num_threads=4\n",
      "[LightGBM] [Warning] num_threads is set=4, n_jobs=-1 will be ignored. Current value: num_threads=4\n",
      "[LightGBM] [Warning] num_threads is set=4, n_jobs=-1 will be ignored. Current value: num_threads=4\n",
      "[LightGBM] [Warning] num_threads is set=4, n_jobs=-1 will be ignored. Current value: num_threads=4\n",
      "[LightGBM] [Warning] num_threads is set=4, n_jobs=-1 will be ignored. Current value: num_threads=4\n",
      "[LightGBM] [Warning] num_threads is set=4, n_jobs=-1 will be ignored. Current value: num_threads=4\n",
      "[LightGBM] [Warning] num_threads is set=4, n_jobs=-1 will be ignored. Current value: num_threads=4\n",
      "[LightGBM] [Warning] num_threads is set=4, n_jobs=-1 will be ignored. Current value: num_threads=4\n",
      "[LightGBM] [Warning] num_threads is set=4, n_jobs=-1 will be ignored. Current value: num_threads=4\n",
      "[LightGBM] [Warning] num_threads is set=4, n_jobs=-1 will be ignored. Current value: num_threads=4\n",
      "[LightGBM] [Warning] num_threads is set=4, n_jobs=-1 will be ignored. Current value: num_threads=4\n",
      "[LightGBM] [Warning] num_threads is set=4, n_jobs=-1 will be ignored. Current value: num_threads=4\n",
      "[LightGBM] [Warning] num_threads is set=4, n_jobs=-1 will be ignored. Current value: num_threads=4\n",
      "[LightGBM] [Warning] num_threads is set=4, n_jobs=-1 will be ignored. Current value: num_threads=4\n",
      "[LightGBM] [Warning] num_threads is set=4, n_jobs=-1 will be ignored. Current value: num_threads=4\n",
      "[LightGBM] [Warning] num_threads is set=4, n_jobs=-1 will be ignored. Current value: num_threads=4\n",
      "[LightGBM] [Warning] num_threads is set=4, n_jobs=-1 will be ignored. Current value: num_threads=4\n",
      "[LightGBM] [Warning] num_threads is set=4, n_jobs=-1 will be ignored. Current value: num_threads=4\n",
      "[LightGBM] [Warning] num_threads is set=4, n_jobs=-1 will be ignored. Current value: num_threads=4\n",
      "[LightGBM] [Warning] num_threads is set=4, n_jobs=-1 will be ignored. Current value: num_threads=4\n",
      "[LightGBM] [Warning] num_threads is set=4, n_jobs=-1 will be ignored. Current value: num_threads=4\n",
      "[LightGBM] [Warning] num_threads is set=4, n_jobs=-1 will be ignored. Current value: num_threads=4\n",
      "[LightGBM] [Warning] num_threads is set=4, n_jobs=-1 will be ignored. Current value: num_threads=4\n",
      "[LightGBM] [Warning] num_threads is set=4, n_jobs=-1 will be ignored. Current value: num_threads=4\n",
      "[LightGBM] [Warning] num_threads is set=4, n_jobs=-1 will be ignored. Current value: num_threads=4\n",
      "[LightGBM] [Warning] num_threads is set=4, n_jobs=-1 will be ignored. Current value: num_threads=4\n",
      "[LightGBM] [Warning] num_threads is set=4, n_jobs=-1 will be ignored. Current value: num_threads=4\n",
      "[LightGBM] [Warning] num_threads is set=4, n_jobs=-1 will be ignored. Current value: num_threads=4\n",
      "[LightGBM] [Warning] num_threads is set=4, n_jobs=-1 will be ignored. Current value: num_threads=4\n",
      "[LightGBM] [Warning] num_threads is set=4, n_jobs=-1 will be ignored. Current value: num_threads=4\n",
      "[LightGBM] [Warning] num_threads is set=4, n_jobs=-1 will be ignored. Current value: num_threads=4\n",
      "[LightGBM] [Warning] num_threads is set=4, n_jobs=-1 will be ignored. Current value: num_threads=4\n",
      "[LightGBM] [Warning] num_threads is set=4, n_jobs=-1 will be ignored. Current value: num_threads=4\n",
      "[LightGBM] [Warning] num_threads is set=4, n_jobs=-1 will be ignored. Current value: num_threads=4\n",
      "[LightGBM] [Warning] num_threads is set=4, n_jobs=-1 will be ignored. Current value: num_threads=4\n",
      "[LightGBM] [Warning] num_threads is set=4, n_jobs=-1 will be ignored. Current value: num_threads=4\n",
      "[LightGBM] [Warning] num_threads is set=4, n_jobs=-1 will be ignored. Current value: num_threads=4\n",
      "[LightGBM] [Warning] num_threads is set=4, n_jobs=-1 will be ignored. Current value: num_threads=4\n",
      "[LightGBM] [Warning] num_threads is set=4, n_jobs=-1 will be ignored. Current value: num_threads=4\n",
      "[LightGBM] [Warning] num_threads is set=4, n_jobs=-1 will be ignored. Current value: num_threads=4\n",
      "[LightGBM] [Warning] num_threads is set=4, n_jobs=-1 will be ignored. Current value: num_threads=4\n",
      "[LightGBM] [Warning] num_threads is set=4, n_jobs=-1 will be ignored. Current value: num_threads=4\n",
      "[LightGBM] [Warning] num_threads is set=4, n_jobs=-1 will be ignored. Current value: num_threads=4\n",
      "[LightGBM] [Warning] num_threads is set=4, n_jobs=-1 will be ignored. Current value: num_threads=4\n",
      "[LightGBM] [Warning] num_threads is set=4, n_jobs=-1 will be ignored. Current value: num_threads=4\n",
      "[LightGBM] [Warning] num_threads is set=4, n_jobs=-1 will be ignored. Current value: num_threads=4\n",
      "[LightGBM] [Warning] num_threads is set=4, n_jobs=-1 will be ignored. Current value: num_threads=4\n",
      "[LightGBM] [Warning] num_threads is set=4, n_jobs=-1 will be ignored. Current value: num_threads=4\n",
      "[LightGBM] [Warning] num_threads is set=4, n_jobs=-1 will be ignored. Current value: num_threads=4\n"
     ]
    },
    {
     "name": "stdout",
     "output_type": "stream",
     "text": [
      "[LightGBM] [Warning] num_threads is set=4, n_jobs=-1 will be ignored. Current value: num_threads=4\n",
      "[LightGBM] [Warning] num_threads is set=4, n_jobs=-1 will be ignored. Current value: num_threads=4\n",
      "[LightGBM] [Warning] num_threads is set=4, n_jobs=-1 will be ignored. Current value: num_threads=4\n",
      "[LightGBM] [Warning] num_threads is set=4, n_jobs=-1 will be ignored. Current value: num_threads=4\n",
      "[LightGBM] [Warning] num_threads is set=4, n_jobs=-1 will be ignored. Current value: num_threads=4\n",
      "[LightGBM] [Warning] num_threads is set=4, n_jobs=-1 will be ignored. Current value: num_threads=4\n",
      "[LightGBM] [Warning] num_threads is set=4, n_jobs=-1 will be ignored. Current value: num_threads=4\n",
      "[LightGBM] [Warning] num_threads is set=4, n_jobs=-1 will be ignored. Current value: num_threads=4\n",
      "[LightGBM] [Warning] num_threads is set=4, n_jobs=-1 will be ignored. Current value: num_threads=4\n",
      "[LightGBM] [Warning] num_threads is set=4, n_jobs=-1 will be ignored. Current value: num_threads=4\n",
      "[LightGBM] [Warning] num_threads is set=4, n_jobs=-1 will be ignored. Current value: num_threads=4\n",
      "[LightGBM] [Warning] num_threads is set=4, n_jobs=-1 will be ignored. Current value: num_threads=4\n",
      "[LightGBM] [Warning] num_threads is set=4, n_jobs=-1 will be ignored. Current value: num_threads=4\n",
      "[LightGBM] [Warning] num_threads is set=4, n_jobs=-1 will be ignored. Current value: num_threads=4\n",
      "[LightGBM] [Warning] num_threads is set=4, n_jobs=-1 will be ignored. Current value: num_threads=4\n",
      "[LightGBM] [Warning] num_threads is set=4, n_jobs=-1 will be ignored. Current value: num_threads=4\n",
      "[LightGBM] [Warning] num_threads is set=4, n_jobs=-1 will be ignored. Current value: num_threads=4\n",
      "[LightGBM] [Warning] num_threads is set=4, n_jobs=-1 will be ignored. Current value: num_threads=4\n",
      "[LightGBM] [Warning] num_threads is set=4, n_jobs=-1 will be ignored. Current value: num_threads=4\n",
      "[LightGBM] [Warning] num_threads is set=4, n_jobs=-1 will be ignored. Current value: num_threads=4\n",
      "[LightGBM] [Warning] num_threads is set=4, n_jobs=-1 will be ignored. Current value: num_threads=4\n",
      "[LightGBM] [Warning] num_threads is set=4, n_jobs=-1 will be ignored. Current value: num_threads=4\n",
      "[LightGBM] [Warning] num_threads is set=4, n_jobs=-1 will be ignored. Current value: num_threads=4\n",
      "[LightGBM] [Warning] num_threads is set=4, n_jobs=-1 will be ignored. Current value: num_threads=4\n",
      "[LightGBM] [Warning] num_threads is set=4, n_jobs=-1 will be ignored. Current value: num_threads=4\n",
      "[LightGBM] [Warning] num_threads is set=4, n_jobs=-1 will be ignored. Current value: num_threads=4\n",
      "[LightGBM] [Warning] num_threads is set=4, n_jobs=-1 will be ignored. Current value: num_threads=4\n",
      "[LightGBM] [Warning] num_threads is set=4, n_jobs=-1 will be ignored. Current value: num_threads=4\n",
      "[LightGBM] [Warning] num_threads is set=4, n_jobs=-1 will be ignored. Current value: num_threads=4\n",
      "[LightGBM] [Warning] num_threads is set=4, n_jobs=-1 will be ignored. Current value: num_threads=4\n",
      "[LightGBM] [Warning] num_threads is set=4, n_jobs=-1 will be ignored. Current value: num_threads=4\n",
      "[LightGBM] [Warning] num_threads is set=4, n_jobs=-1 will be ignored. Current value: num_threads=4\n",
      "[LightGBM] [Warning] num_threads is set=4, n_jobs=-1 will be ignored. Current value: num_threads=4\n",
      "[LightGBM] [Warning] num_threads is set=4, n_jobs=-1 will be ignored. Current value: num_threads=4\n",
      "[LightGBM] [Warning] num_threads is set=4, n_jobs=-1 will be ignored. Current value: num_threads=4\n",
      "[LightGBM] [Warning] num_threads is set=4, n_jobs=-1 will be ignored. Current value: num_threads=4\n",
      "[LightGBM] [Warning] num_threads is set=4, n_jobs=-1 will be ignored. Current value: num_threads=4\n",
      "[LightGBM] [Warning] num_threads is set=4, n_jobs=-1 will be ignored. Current value: num_threads=4\n",
      "[LightGBM] [Warning] num_threads is set=4, n_jobs=-1 will be ignored. Current value: num_threads=4\n",
      "[LightGBM] [Warning] num_threads is set=4, n_jobs=-1 will be ignored. Current value: num_threads=4\n",
      "[LightGBM] [Warning] num_threads is set=4, n_jobs=-1 will be ignored. Current value: num_threads=4\n",
      "[LightGBM] [Warning] num_threads is set=4, n_jobs=-1 will be ignored. Current value: num_threads=4\n",
      "[LightGBM] [Warning] num_threads is set=4, n_jobs=-1 will be ignored. Current value: num_threads=4\n",
      "[LightGBM] [Warning] num_threads is set=4, n_jobs=-1 will be ignored. Current value: num_threads=4\n",
      "[LightGBM] [Warning] num_threads is set=4, n_jobs=-1 will be ignored. Current value: num_threads=4\n",
      "[LightGBM] [Warning] num_threads is set=4, n_jobs=-1 will be ignored. Current value: num_threads=4\n",
      "[LightGBM] [Warning] num_threads is set=4, n_jobs=-1 will be ignored. Current value: num_threads=4\n",
      "[LightGBM] [Warning] num_threads is set=4, n_jobs=-1 will be ignored. Current value: num_threads=4\n",
      "[LightGBM] [Warning] num_threads is set=4, n_jobs=-1 will be ignored. Current value: num_threads=4\n",
      "[LightGBM] [Warning] num_threads is set=4, n_jobs=-1 will be ignored. Current value: num_threads=4\n",
      "[LightGBM] [Warning] num_threads is set=4, n_jobs=-1 will be ignored. Current value: num_threads=4\n",
      "[LightGBM] [Warning] num_threads is set=4, n_jobs=-1 will be ignored. Current value: num_threads=4\n",
      "[LightGBM] [Warning] num_threads is set=4, n_jobs=-1 will be ignored. Current value: num_threads=4\n",
      "[LightGBM] [Warning] num_threads is set=4, n_jobs=-1 will be ignored. Current value: num_threads=4\n",
      "[LightGBM] [Warning] num_threads is set=4, n_jobs=-1 will be ignored. Current value: num_threads=4\n",
      "[LightGBM] [Warning] num_threads is set=4, n_jobs=-1 will be ignored. Current value: num_threads=4\n",
      "[LightGBM] [Warning] num_threads is set=4, n_jobs=-1 will be ignored. Current value: num_threads=4\n",
      "[LightGBM] [Warning] num_threads is set=4, n_jobs=-1 will be ignored. Current value: num_threads=4\n",
      "[LightGBM] [Warning] num_threads is set=4, n_jobs=-1 will be ignored. Current value: num_threads=4\n",
      "[LightGBM] [Warning] num_threads is set=4, n_jobs=-1 will be ignored. Current value: num_threads=4\n",
      "[LightGBM] [Warning] num_threads is set=4, n_jobs=-1 will be ignored. Current value: num_threads=4\n",
      "[LightGBM] [Warning] num_threads is set=4, n_jobs=-1 will be ignored. Current value: num_threads=4\n",
      "[LightGBM] [Warning] num_threads is set=4, n_jobs=-1 will be ignored. Current value: num_threads=4\n",
      "[LightGBM] [Warning] num_threads is set=4, n_jobs=-1 will be ignored. Current value: num_threads=4\n",
      "[LightGBM] [Warning] num_threads is set=4, n_jobs=-1 will be ignored. Current value: num_threads=4\n",
      "[LightGBM] [Warning] num_threads is set=4, n_jobs=-1 will be ignored. Current value: num_threads=4\n",
      "[LightGBM] [Warning] num_threads is set=4, n_jobs=-1 will be ignored. Current value: num_threads=4\n",
      "[LightGBM] [Warning] num_threads is set=4, n_jobs=-1 will be ignored. Current value: num_threads=4\n",
      "[LightGBM] [Warning] num_threads is set=4, n_jobs=-1 will be ignored. Current value: num_threads=4\n",
      "[LightGBM] [Warning] num_threads is set=4, n_jobs=-1 will be ignored. Current value: num_threads=4\n",
      "[LightGBM] [Warning] num_threads is set=4, n_jobs=-1 will be ignored. Current value: num_threads=4\n",
      "[LightGBM] [Warning] num_threads is set=4, n_jobs=-1 will be ignored. Current value: num_threads=4\n",
      "[LightGBM] [Warning] num_threads is set=4, n_jobs=-1 will be ignored. Current value: num_threads=4\n",
      "[LightGBM] [Warning] num_threads is set=4, n_jobs=-1 will be ignored. Current value: num_threads=4\n",
      "[LightGBM] [Warning] num_threads is set=4, n_jobs=-1 will be ignored. Current value: num_threads=4\n",
      "[LightGBM] [Warning] num_threads is set=4, n_jobs=-1 will be ignored. Current value: num_threads=4\n",
      "[LightGBM] [Warning] num_threads is set=4, n_jobs=-1 will be ignored. Current value: num_threads=4\n",
      "[LightGBM] [Warning] num_threads is set=4, n_jobs=-1 will be ignored. Current value: num_threads=4\n",
      "[LightGBM] [Warning] num_threads is set=4, n_jobs=-1 will be ignored. Current value: num_threads=4\n",
      "[LightGBM] [Warning] num_threads is set=4, n_jobs=-1 will be ignored. Current value: num_threads=4\n",
      "[LightGBM] [Warning] num_threads is set=4, n_jobs=-1 will be ignored. Current value: num_threads=4\n",
      "[LightGBM] [Warning] num_threads is set=4, n_jobs=-1 will be ignored. Current value: num_threads=4\n",
      "[LightGBM] [Warning] num_threads is set=4, n_jobs=-1 will be ignored. Current value: num_threads=4\n",
      "[LightGBM] [Warning] num_threads is set=4, n_jobs=-1 will be ignored. Current value: num_threads=4\n",
      "[LightGBM] [Warning] num_threads is set=4, n_jobs=-1 will be ignored. Current value: num_threads=4\n",
      "[LightGBM] [Warning] num_threads is set=4, n_jobs=-1 will be ignored. Current value: num_threads=4\n",
      "[LightGBM] [Warning] num_threads is set=4, n_jobs=-1 will be ignored. Current value: num_threads=4\n",
      "[LightGBM] [Warning] num_threads is set=4, n_jobs=-1 will be ignored. Current value: num_threads=4\n",
      "[LightGBM] [Warning] num_threads is set=4, n_jobs=-1 will be ignored. Current value: num_threads=4\n",
      "[LightGBM] [Warning] num_threads is set=4, n_jobs=-1 will be ignored. Current value: num_threads=4\n",
      "[LightGBM] [Warning] num_threads is set=4, n_jobs=-1 will be ignored. Current value: num_threads=4\n",
      "[LightGBM] [Warning] num_threads is set=4, n_jobs=-1 will be ignored. Current value: num_threads=4\n",
      "[LightGBM] [Warning] num_threads is set=4, n_jobs=-1 will be ignored. Current value: num_threads=4\n",
      "[LightGBM] [Warning] num_threads is set=4, n_jobs=-1 will be ignored. Current value: num_threads=4\n",
      "[LightGBM] [Warning] num_threads is set=4, n_jobs=-1 will be ignored. Current value: num_threads=4\n",
      "[LightGBM] [Warning] num_threads is set=4, n_jobs=-1 will be ignored. Current value: num_threads=4\n",
      "[LightGBM] [Warning] num_threads is set=4, n_jobs=-1 will be ignored. Current value: num_threads=4\n",
      "[LightGBM] [Warning] num_threads is set=4, n_jobs=-1 will be ignored. Current value: num_threads=4\n",
      "[LightGBM] [Warning] num_threads is set=4, n_jobs=-1 will be ignored. Current value: num_threads=4\n",
      "[LightGBM] [Warning] num_threads is set=4, n_jobs=-1 will be ignored. Current value: num_threads=4\n",
      "[LightGBM] [Warning] num_threads is set=4, n_jobs=-1 will be ignored. Current value: num_threads=4\n",
      "[LightGBM] [Warning] num_threads is set=4, n_jobs=-1 will be ignored. Current value: num_threads=4\n",
      "[LightGBM] [Warning] num_threads is set=4, n_jobs=-1 will be ignored. Current value: num_threads=4\n",
      "[LightGBM] [Warning] num_threads is set=4, n_jobs=-1 will be ignored. Current value: num_threads=4\n",
      "[LightGBM] [Warning] num_threads is set=4, n_jobs=-1 will be ignored. Current value: num_threads=4\n",
      "[LightGBM] [Warning] num_threads is set=4, n_jobs=-1 will be ignored. Current value: num_threads=4\n",
      "[LightGBM] [Warning] num_threads is set=4, n_jobs=-1 will be ignored. Current value: num_threads=4\n",
      "[LightGBM] [Warning] num_threads is set=4, n_jobs=-1 will be ignored. Current value: num_threads=4\n",
      "[LightGBM] [Warning] num_threads is set=4, n_jobs=-1 will be ignored. Current value: num_threads=4\n",
      "[LightGBM] [Warning] num_threads is set=4, n_jobs=-1 will be ignored. Current value: num_threads=4\n",
      "[LightGBM] [Warning] num_threads is set=4, n_jobs=-1 will be ignored. Current value: num_threads=4\n",
      "[LightGBM] [Warning] num_threads is set=4, n_jobs=-1 will be ignored. Current value: num_threads=4\n",
      "[LightGBM] [Warning] num_threads is set=4, n_jobs=-1 will be ignored. Current value: num_threads=4\n",
      "[LightGBM] [Warning] num_threads is set=4, n_jobs=-1 will be ignored. Current value: num_threads=4\n",
      "[LightGBM] [Warning] num_threads is set=4, n_jobs=-1 will be ignored. Current value: num_threads=4\n",
      "[LightGBM] [Warning] num_threads is set=4, n_jobs=-1 will be ignored. Current value: num_threads=4\n",
      "[LightGBM] [Warning] num_threads is set=4, n_jobs=-1 will be ignored. Current value: num_threads=4\n",
      "[LightGBM] [Warning] num_threads is set=4, n_jobs=-1 will be ignored. Current value: num_threads=4\n",
      "[LightGBM] [Warning] num_threads is set=4, n_jobs=-1 will be ignored. Current value: num_threads=4\n",
      "[LightGBM] [Warning] num_threads is set=4, n_jobs=-1 will be ignored. Current value: num_threads=4\n",
      "[LightGBM] [Warning] num_threads is set=4, n_jobs=-1 will be ignored. Current value: num_threads=4\n",
      "[LightGBM] [Warning] num_threads is set=4, n_jobs=-1 will be ignored. Current value: num_threads=4\n",
      "[LightGBM] [Warning] num_threads is set=4, n_jobs=-1 will be ignored. Current value: num_threads=4\n",
      "[LightGBM] [Warning] num_threads is set=4, n_jobs=-1 will be ignored. Current value: num_threads=4\n",
      "[LightGBM] [Warning] num_threads is set=4, n_jobs=-1 will be ignored. Current value: num_threads=4\n",
      "[LightGBM] [Warning] num_threads is set=4, n_jobs=-1 will be ignored. Current value: num_threads=4\n",
      "[LightGBM] [Warning] num_threads is set=4, n_jobs=-1 will be ignored. Current value: num_threads=4\n",
      "[LightGBM] [Warning] num_threads is set=4, n_jobs=-1 will be ignored. Current value: num_threads=4\n",
      "[LightGBM] [Warning] num_threads is set=4, n_jobs=-1 will be ignored. Current value: num_threads=4\n",
      "[LightGBM] [Warning] num_threads is set=4, n_jobs=-1 will be ignored. Current value: num_threads=4\n",
      "[LightGBM] [Warning] num_threads is set=4, n_jobs=-1 will be ignored. Current value: num_threads=4\n",
      "[LightGBM] [Warning] num_threads is set=4, n_jobs=-1 will be ignored. Current value: num_threads=4\n",
      "[LightGBM] [Warning] num_threads is set=4, n_jobs=-1 will be ignored. Current value: num_threads=4\n",
      "[LightGBM] [Warning] num_threads is set=4, n_jobs=-1 will be ignored. Current value: num_threads=4\n",
      "[LightGBM] [Warning] num_threads is set=4, n_jobs=-1 will be ignored. Current value: num_threads=4\n",
      "[LightGBM] [Warning] num_threads is set=4, n_jobs=-1 will be ignored. Current value: num_threads=4\n",
      "[LightGBM] [Warning] num_threads is set=4, n_jobs=-1 will be ignored. Current value: num_threads=4\n",
      "[LightGBM] [Warning] num_threads is set=4, n_jobs=-1 will be ignored. Current value: num_threads=4\n",
      "[LightGBM] [Warning] num_threads is set=4, n_jobs=-1 will be ignored. Current value: num_threads=4\n",
      "[LightGBM] [Warning] num_threads is set=4, n_jobs=-1 will be ignored. Current value: num_threads=4\n",
      "[LightGBM] [Warning] num_threads is set=4, n_jobs=-1 will be ignored. Current value: num_threads=4\n",
      "[LightGBM] [Warning] num_threads is set=4, n_jobs=-1 will be ignored. Current value: num_threads=4\n",
      "[LightGBM] [Warning] num_threads is set=4, n_jobs=-1 will be ignored. Current value: num_threads=4\n",
      "[LightGBM] [Warning] num_threads is set=4, n_jobs=-1 will be ignored. Current value: num_threads=4\n",
      "[LightGBM] [Warning] num_threads is set=4, n_jobs=-1 will be ignored. Current value: num_threads=4\n"
     ]
    },
    {
     "name": "stdout",
     "output_type": "stream",
     "text": [
      "[LightGBM] [Warning] num_threads is set=4, n_jobs=-1 will be ignored. Current value: num_threads=4\n",
      "[LightGBM] [Warning] num_threads is set=4, n_jobs=-1 will be ignored. Current value: num_threads=4\n",
      "[LightGBM] [Warning] num_threads is set=4, n_jobs=-1 will be ignored. Current value: num_threads=4\n",
      "[LightGBM] [Warning] num_threads is set=4, n_jobs=-1 will be ignored. Current value: num_threads=4\n",
      "[LightGBM] [Warning] num_threads is set=4, n_jobs=-1 will be ignored. Current value: num_threads=4\n",
      "[LightGBM] [Warning] num_threads is set=4, n_jobs=-1 will be ignored. Current value: num_threads=4\n",
      "[LightGBM] [Warning] num_threads is set=4, n_jobs=-1 will be ignored. Current value: num_threads=4\n",
      "[LightGBM] [Warning] num_threads is set=4, n_jobs=-1 will be ignored. Current value: num_threads=4\n",
      "[LightGBM] [Warning] num_threads is set=4, n_jobs=-1 will be ignored. Current value: num_threads=4\n",
      "[LightGBM] [Warning] num_threads is set=4, n_jobs=-1 will be ignored. Current value: num_threads=4\n",
      "[LightGBM] [Warning] num_threads is set=4, n_jobs=-1 will be ignored. Current value: num_threads=4\n",
      "[LightGBM] [Warning] num_threads is set=4, n_jobs=-1 will be ignored. Current value: num_threads=4\n",
      "[LightGBM] [Warning] num_threads is set=4, n_jobs=-1 will be ignored. Current value: num_threads=4\n",
      "[LightGBM] [Warning] num_threads is set=4, n_jobs=-1 will be ignored. Current value: num_threads=4\n",
      "[LightGBM] [Warning] num_threads is set=4, n_jobs=-1 will be ignored. Current value: num_threads=4\n",
      "[LightGBM] [Warning] num_threads is set=4, n_jobs=-1 will be ignored. Current value: num_threads=4\n",
      "[LightGBM] [Warning] num_threads is set=4, n_jobs=-1 will be ignored. Current value: num_threads=4\n",
      "[LightGBM] [Warning] num_threads is set=4, n_jobs=-1 will be ignored. Current value: num_threads=4\n",
      "[LightGBM] [Warning] num_threads is set=4, n_jobs=-1 will be ignored. Current value: num_threads=4\n",
      "[LightGBM] [Warning] num_threads is set=4, n_jobs=-1 will be ignored. Current value: num_threads=4\n",
      "[LightGBM] [Warning] num_threads is set=4, n_jobs=-1 will be ignored. Current value: num_threads=4\n",
      "[LightGBM] [Warning] num_threads is set=4, n_jobs=-1 will be ignored. Current value: num_threads=4\n",
      "[LightGBM] [Warning] num_threads is set=4, n_jobs=-1 will be ignored. Current value: num_threads=4\n",
      "[LightGBM] [Warning] num_threads is set=4, n_jobs=-1 will be ignored. Current value: num_threads=4\n",
      "[LightGBM] [Warning] num_threads is set=4, n_jobs=-1 will be ignored. Current value: num_threads=4\n",
      "[LightGBM] [Warning] num_threads is set=4, n_jobs=-1 will be ignored. Current value: num_threads=4\n",
      "[LightGBM] [Warning] num_threads is set=4, n_jobs=-1 will be ignored. Current value: num_threads=4\n",
      "[LightGBM] [Warning] num_threads is set=4, n_jobs=-1 will be ignored. Current value: num_threads=4\n",
      "[LightGBM] [Warning] num_threads is set=4, n_jobs=-1 will be ignored. Current value: num_threads=4\n",
      "[LightGBM] [Warning] num_threads is set=4, n_jobs=-1 will be ignored. Current value: num_threads=4\n",
      "[LightGBM] [Warning] num_threads is set=4, n_jobs=-1 will be ignored. Current value: num_threads=4\n",
      "[LightGBM] [Warning] num_threads is set=4, n_jobs=-1 will be ignored. Current value: num_threads=4\n",
      "[LightGBM] [Warning] num_threads is set=4, n_jobs=-1 will be ignored. Current value: num_threads=4\n",
      "[LightGBM] [Warning] num_threads is set=4, n_jobs=-1 will be ignored. Current value: num_threads=4\n",
      "[LightGBM] [Warning] num_threads is set=4, n_jobs=-1 will be ignored. Current value: num_threads=4\n",
      "[LightGBM] [Warning] num_threads is set=4, n_jobs=-1 will be ignored. Current value: num_threads=4\n",
      "[LightGBM] [Warning] num_threads is set=4, n_jobs=-1 will be ignored. Current value: num_threads=4\n",
      "[LightGBM] [Warning] num_threads is set=4, n_jobs=-1 will be ignored. Current value: num_threads=4\n",
      "[LightGBM] [Warning] num_threads is set=4, n_jobs=-1 will be ignored. Current value: num_threads=4\n",
      "[LightGBM] [Warning] num_threads is set=4, n_jobs=-1 will be ignored. Current value: num_threads=4\n",
      "[LightGBM] [Warning] num_threads is set=4, n_jobs=-1 will be ignored. Current value: num_threads=4\n",
      "[LightGBM] [Warning] num_threads is set=4, n_jobs=-1 will be ignored. Current value: num_threads=4\n",
      "[LightGBM] [Warning] num_threads is set=4, n_jobs=-1 will be ignored. Current value: num_threads=4\n",
      "[LightGBM] [Warning] num_threads is set=4, n_jobs=-1 will be ignored. Current value: num_threads=4\n",
      "[LightGBM] [Warning] num_threads is set=4, n_jobs=-1 will be ignored. Current value: num_threads=4\n",
      "[LightGBM] [Warning] num_threads is set=4, n_jobs=-1 will be ignored. Current value: num_threads=4\n",
      "[LightGBM] [Warning] num_threads is set=4, n_jobs=-1 will be ignored. Current value: num_threads=4\n",
      "[LightGBM] [Warning] num_threads is set=4, n_jobs=-1 will be ignored. Current value: num_threads=4\n",
      "[LightGBM] [Warning] num_threads is set=4, n_jobs=-1 will be ignored. Current value: num_threads=4\n",
      "[LightGBM] [Warning] num_threads is set=4, n_jobs=-1 will be ignored. Current value: num_threads=4\n",
      "[LightGBM] [Warning] num_threads is set=4, n_jobs=-1 will be ignored. Current value: num_threads=4\n",
      "[LightGBM] [Warning] num_threads is set=4, n_jobs=-1 will be ignored. Current value: num_threads=4\n",
      "[LightGBM] [Warning] num_threads is set=4, n_jobs=-1 will be ignored. Current value: num_threads=4\n",
      "[LightGBM] [Warning] num_threads is set=4, n_jobs=-1 will be ignored. Current value: num_threads=4\n",
      "[LightGBM] [Warning] num_threads is set=4, n_jobs=-1 will be ignored. Current value: num_threads=4\n",
      "[LightGBM] [Warning] num_threads is set=4, n_jobs=-1 will be ignored. Current value: num_threads=4\n",
      "[LightGBM] [Warning] num_threads is set=4, n_jobs=-1 will be ignored. Current value: num_threads=4\n",
      "[LightGBM] [Warning] num_threads is set=4, n_jobs=-1 will be ignored. Current value: num_threads=4\n",
      "[LightGBM] [Warning] num_threads is set=4, n_jobs=-1 will be ignored. Current value: num_threads=4\n",
      "[LightGBM] [Warning] num_threads is set=4, n_jobs=-1 will be ignored. Current value: num_threads=4\n",
      "[LightGBM] [Warning] num_threads is set=4, n_jobs=-1 will be ignored. Current value: num_threads=4\n",
      "[LightGBM] [Warning] num_threads is set=4, n_jobs=-1 will be ignored. Current value: num_threads=4\n",
      "[LightGBM] [Warning] num_threads is set=4, n_jobs=-1 will be ignored. Current value: num_threads=4\n",
      "[LightGBM] [Warning] num_threads is set=4, n_jobs=-1 will be ignored. Current value: num_threads=4\n",
      "[LightGBM] [Warning] num_threads is set=4, n_jobs=-1 will be ignored. Current value: num_threads=4\n",
      "[LightGBM] [Warning] num_threads is set=4, n_jobs=-1 will be ignored. Current value: num_threads=4\n",
      "[LightGBM] [Warning] num_threads is set=4, n_jobs=-1 will be ignored. Current value: num_threads=4\n",
      "[LightGBM] [Warning] num_threads is set=4, n_jobs=-1 will be ignored. Current value: num_threads=4\n",
      "[LightGBM] [Warning] num_threads is set=4, n_jobs=-1 will be ignored. Current value: num_threads=4\n",
      "[LightGBM] [Warning] num_threads is set=4, n_jobs=-1 will be ignored. Current value: num_threads=4\n",
      "[LightGBM] [Warning] num_threads is set=4, n_jobs=-1 will be ignored. Current value: num_threads=4\n",
      "[LightGBM] [Warning] num_threads is set=4, n_jobs=-1 will be ignored. Current value: num_threads=4\n",
      "[LightGBM] [Warning] num_threads is set=4, n_jobs=-1 will be ignored. Current value: num_threads=4\n",
      "[LightGBM] [Warning] num_threads is set=4, n_jobs=-1 will be ignored. Current value: num_threads=4\n",
      "[LightGBM] [Warning] num_threads is set=4, n_jobs=-1 will be ignored. Current value: num_threads=4\n",
      "[LightGBM] [Warning] num_threads is set=4, n_jobs=-1 will be ignored. Current value: num_threads=4\n",
      "[LightGBM] [Warning] num_threads is set=4, n_jobs=-1 will be ignored. Current value: num_threads=4\n",
      "[LightGBM] [Warning] num_threads is set=4, n_jobs=-1 will be ignored. Current value: num_threads=4\n",
      "[LightGBM] [Warning] num_threads is set=4, n_jobs=-1 will be ignored. Current value: num_threads=4\n",
      "[LightGBM] [Warning] num_threads is set=4, n_jobs=-1 will be ignored. Current value: num_threads=4\n",
      "[LightGBM] [Warning] num_threads is set=4, n_jobs=-1 will be ignored. Current value: num_threads=4\n",
      "[LightGBM] [Warning] num_threads is set=4, n_jobs=-1 will be ignored. Current value: num_threads=4\n",
      "[LightGBM] [Warning] num_threads is set=4, n_jobs=-1 will be ignored. Current value: num_threads=4\n",
      "[LightGBM] [Warning] num_threads is set=4, n_jobs=-1 will be ignored. Current value: num_threads=4\n",
      "[LightGBM] [Warning] num_threads is set=4, n_jobs=-1 will be ignored. Current value: num_threads=4\n",
      "[LightGBM] [Warning] num_threads is set=4, n_jobs=-1 will be ignored. Current value: num_threads=4\n",
      "[LightGBM] [Warning] num_threads is set=4, n_jobs=-1 will be ignored. Current value: num_threads=4\n",
      "[LightGBM] [Warning] num_threads is set=4, n_jobs=-1 will be ignored. Current value: num_threads=4\n",
      "[LightGBM] [Warning] num_threads is set=4, n_jobs=-1 will be ignored. Current value: num_threads=4\n",
      "[LightGBM] [Warning] num_threads is set=4, n_jobs=-1 will be ignored. Current value: num_threads=4\n",
      "[LightGBM] [Warning] num_threads is set=4, n_jobs=-1 will be ignored. Current value: num_threads=4\n",
      "[LightGBM] [Warning] num_threads is set=4, n_jobs=-1 will be ignored. Current value: num_threads=4\n",
      "[LightGBM] [Warning] num_threads is set=4, n_jobs=-1 will be ignored. Current value: num_threads=4\n",
      "[LightGBM] [Warning] num_threads is set=4, n_jobs=-1 will be ignored. Current value: num_threads=4\n",
      "[LightGBM] [Warning] num_threads is set=4, n_jobs=-1 will be ignored. Current value: num_threads=4\n",
      "[LightGBM] [Warning] num_threads is set=4, n_jobs=-1 will be ignored. Current value: num_threads=4\n",
      "[LightGBM] [Warning] num_threads is set=4, n_jobs=-1 will be ignored. Current value: num_threads=4\n",
      "[LightGBM] [Warning] num_threads is set=4, n_jobs=-1 will be ignored. Current value: num_threads=4\n",
      "[LightGBM] [Warning] num_threads is set=4, n_jobs=-1 will be ignored. Current value: num_threads=4\n",
      "[LightGBM] [Warning] num_threads is set=4, n_jobs=-1 will be ignored. Current value: num_threads=4\n",
      "[LightGBM] [Warning] num_threads is set=4, n_jobs=-1 will be ignored. Current value: num_threads=4\n",
      "[LightGBM] [Warning] num_threads is set=4, n_jobs=-1 will be ignored. Current value: num_threads=4\n",
      "[LightGBM] [Warning] num_threads is set=4, n_jobs=-1 will be ignored. Current value: num_threads=4\n",
      "[LightGBM] [Warning] num_threads is set=4, n_jobs=-1 will be ignored. Current value: num_threads=4\n",
      "[LightGBM] [Warning] num_threads is set=4, n_jobs=-1 will be ignored. Current value: num_threads=4\n",
      "[LightGBM] [Warning] num_threads is set=4, n_jobs=-1 will be ignored. Current value: num_threads=4\n",
      "[LightGBM] [Warning] num_threads is set=4, n_jobs=-1 will be ignored. Current value: num_threads=4\n",
      "[LightGBM] [Warning] num_threads is set=4, n_jobs=-1 will be ignored. Current value: num_threads=4\n",
      "[LightGBM] [Warning] num_threads is set=4, n_jobs=-1 will be ignored. Current value: num_threads=4\n",
      "[LightGBM] [Warning] num_threads is set=4, n_jobs=-1 will be ignored. Current value: num_threads=4\n",
      "[LightGBM] [Warning] num_threads is set=4, n_jobs=-1 will be ignored. Current value: num_threads=4\n",
      "[LightGBM] [Warning] num_threads is set=4, n_jobs=-1 will be ignored. Current value: num_threads=4\n",
      "[LightGBM] [Warning] num_threads is set=4, n_jobs=-1 will be ignored. Current value: num_threads=4\n",
      "[LightGBM] [Warning] num_threads is set=4, n_jobs=-1 will be ignored. Current value: num_threads=4\n",
      "[LightGBM] [Warning] num_threads is set=4, n_jobs=-1 will be ignored. Current value: num_threads=4\n",
      "[LightGBM] [Warning] num_threads is set=4, n_jobs=-1 will be ignored. Current value: num_threads=4\n",
      "[LightGBM] [Warning] num_threads is set=4, n_jobs=-1 will be ignored. Current value: num_threads=4\n",
      "[LightGBM] [Warning] num_threads is set=4, n_jobs=-1 will be ignored. Current value: num_threads=4\n",
      "[LightGBM] [Warning] num_threads is set=4, n_jobs=-1 will be ignored. Current value: num_threads=4\n",
      "[LightGBM] [Warning] num_threads is set=4, n_jobs=-1 will be ignored. Current value: num_threads=4\n",
      "[LightGBM] [Warning] num_threads is set=4, n_jobs=-1 will be ignored. Current value: num_threads=4\n",
      "[LightGBM] [Warning] num_threads is set=4, n_jobs=-1 will be ignored. Current value: num_threads=4\n",
      "[LightGBM] [Warning] num_threads is set=4, n_jobs=-1 will be ignored. Current value: num_threads=4\n",
      "[LightGBM] [Warning] num_threads is set=4, n_jobs=-1 will be ignored. Current value: num_threads=4\n",
      "[LightGBM] [Warning] num_threads is set=4, n_jobs=-1 will be ignored. Current value: num_threads=4\n",
      "[LightGBM] [Warning] num_threads is set=4, n_jobs=-1 will be ignored. Current value: num_threads=4\n",
      "[LightGBM] [Warning] num_threads is set=4, n_jobs=-1 will be ignored. Current value: num_threads=4\n",
      "[LightGBM] [Warning] num_threads is set=4, n_jobs=-1 will be ignored. Current value: num_threads=4\n",
      "[LightGBM] [Warning] num_threads is set=4, n_jobs=-1 will be ignored. Current value: num_threads=4\n",
      "[LightGBM] [Warning] num_threads is set=4, n_jobs=-1 will be ignored. Current value: num_threads=4\n",
      "[LightGBM] [Warning] num_threads is set=4, n_jobs=-1 will be ignored. Current value: num_threads=4\n",
      "[LightGBM] [Warning] num_threads is set=4, n_jobs=-1 will be ignored. Current value: num_threads=4\n",
      "[LightGBM] [Warning] num_threads is set=4, n_jobs=-1 will be ignored. Current value: num_threads=4\n",
      "[LightGBM] [Warning] num_threads is set=4, n_jobs=-1 will be ignored. Current value: num_threads=4\n",
      "[LightGBM] [Warning] num_threads is set=4, n_jobs=-1 will be ignored. Current value: num_threads=4\n",
      "[LightGBM] [Warning] num_threads is set=4, n_jobs=-1 will be ignored. Current value: num_threads=4\n",
      "[LightGBM] [Warning] num_threads is set=4, n_jobs=-1 will be ignored. Current value: num_threads=4\n",
      "[LightGBM] [Warning] num_threads is set=4, n_jobs=-1 will be ignored. Current value: num_threads=4\n",
      "[LightGBM] [Warning] num_threads is set=4, n_jobs=-1 will be ignored. Current value: num_threads=4\n",
      "[LightGBM] [Warning] num_threads is set=4, n_jobs=-1 will be ignored. Current value: num_threads=4\n",
      "[LightGBM] [Warning] num_threads is set=4, n_jobs=-1 will be ignored. Current value: num_threads=4\n",
      "[LightGBM] [Warning] num_threads is set=4, n_jobs=-1 will be ignored. Current value: num_threads=4\n"
     ]
    },
    {
     "name": "stdout",
     "output_type": "stream",
     "text": [
      "[LightGBM] [Warning] num_threads is set=4, n_jobs=-1 will be ignored. Current value: num_threads=4\n",
      "[LightGBM] [Warning] num_threads is set=4, n_jobs=-1 will be ignored. Current value: num_threads=4\n",
      "[LightGBM] [Warning] num_threads is set=4, n_jobs=-1 will be ignored. Current value: num_threads=4\n",
      "[LightGBM] [Warning] num_threads is set=4, n_jobs=-1 will be ignored. Current value: num_threads=4\n",
      "[LightGBM] [Warning] num_threads is set=4, n_jobs=-1 will be ignored. Current value: num_threads=4\n",
      "[LightGBM] [Warning] num_threads is set=4, n_jobs=-1 will be ignored. Current value: num_threads=4\n",
      "[LightGBM] [Warning] num_threads is set=4, n_jobs=-1 will be ignored. Current value: num_threads=4\n",
      "[LightGBM] [Warning] num_threads is set=4, n_jobs=-1 will be ignored. Current value: num_threads=4\n",
      "[LightGBM] [Warning] num_threads is set=4, n_jobs=-1 will be ignored. Current value: num_threads=4\n",
      "[LightGBM] [Warning] num_threads is set=4, n_jobs=-1 will be ignored. Current value: num_threads=4\n",
      "[LightGBM] [Warning] num_threads is set=4, n_jobs=-1 will be ignored. Current value: num_threads=4\n",
      "[LightGBM] [Warning] num_threads is set=4, n_jobs=-1 will be ignored. Current value: num_threads=4\n",
      "[LightGBM] [Warning] num_threads is set=4, n_jobs=-1 will be ignored. Current value: num_threads=4\n",
      "[LightGBM] [Warning] num_threads is set=4, n_jobs=-1 will be ignored. Current value: num_threads=4\n",
      "[LightGBM] [Warning] num_threads is set=4, n_jobs=-1 will be ignored. Current value: num_threads=4\n",
      "[LightGBM] [Warning] num_threads is set=4, n_jobs=-1 will be ignored. Current value: num_threads=4\n",
      "[LightGBM] [Warning] num_threads is set=4, n_jobs=-1 will be ignored. Current value: num_threads=4\n",
      "[LightGBM] [Warning] num_threads is set=4, n_jobs=-1 will be ignored. Current value: num_threads=4\n",
      "[LightGBM] [Warning] num_threads is set=4, n_jobs=-1 will be ignored. Current value: num_threads=4\n",
      "[LightGBM] [Warning] num_threads is set=4, n_jobs=-1 will be ignored. Current value: num_threads=4\n",
      "[LightGBM] [Warning] num_threads is set=4, n_jobs=-1 will be ignored. Current value: num_threads=4\n",
      "[LightGBM] [Warning] num_threads is set=4, n_jobs=-1 will be ignored. Current value: num_threads=4\n",
      "[LightGBM] [Warning] num_threads is set=4, n_jobs=-1 will be ignored. Current value: num_threads=4\n",
      "[LightGBM] [Warning] num_threads is set=4, n_jobs=-1 will be ignored. Current value: num_threads=4\n",
      "[LightGBM] [Warning] num_threads is set=4, n_jobs=-1 will be ignored. Current value: num_threads=4\n",
      "[LightGBM] [Warning] num_threads is set=4, n_jobs=-1 will be ignored. Current value: num_threads=4\n",
      "[LightGBM] [Warning] num_threads is set=4, n_jobs=-1 will be ignored. Current value: num_threads=4\n",
      "[LightGBM] [Warning] num_threads is set=4, n_jobs=-1 will be ignored. Current value: num_threads=4\n",
      "[LightGBM] [Warning] num_threads is set=4, n_jobs=-1 will be ignored. Current value: num_threads=4\n",
      "[LightGBM] [Warning] num_threads is set=4, n_jobs=-1 will be ignored. Current value: num_threads=4\n",
      "[LightGBM] [Warning] num_threads is set=4, n_jobs=-1 will be ignored. Current value: num_threads=4\n",
      "[LightGBM] [Warning] num_threads is set=4, n_jobs=-1 will be ignored. Current value: num_threads=4\n",
      "[LightGBM] [Warning] num_threads is set=4, n_jobs=-1 will be ignored. Current value: num_threads=4\n",
      "[LightGBM] [Warning] num_threads is set=4, n_jobs=-1 will be ignored. Current value: num_threads=4\n",
      "[LightGBM] [Warning] num_threads is set=4, n_jobs=-1 will be ignored. Current value: num_threads=4\n",
      "[LightGBM] [Warning] num_threads is set=4, n_jobs=-1 will be ignored. Current value: num_threads=4\n",
      "[LightGBM] [Warning] num_threads is set=4, n_jobs=-1 will be ignored. Current value: num_threads=4\n",
      "[LightGBM] [Warning] num_threads is set=4, n_jobs=-1 will be ignored. Current value: num_threads=4\n",
      "[LightGBM] [Warning] num_threads is set=4, n_jobs=-1 will be ignored. Current value: num_threads=4\n",
      "[LightGBM] [Warning] num_threads is set=4, n_jobs=-1 will be ignored. Current value: num_threads=4\n",
      "[LightGBM] [Warning] num_threads is set=4, n_jobs=-1 will be ignored. Current value: num_threads=4\n",
      "[LightGBM] [Warning] num_threads is set=4, n_jobs=-1 will be ignored. Current value: num_threads=4\n",
      "[LightGBM] [Warning] num_threads is set=4, n_jobs=-1 will be ignored. Current value: num_threads=4\n",
      "[LightGBM] [Warning] num_threads is set=4, n_jobs=-1 will be ignored. Current value: num_threads=4\n",
      "[LightGBM] [Warning] num_threads is set=4, n_jobs=-1 will be ignored. Current value: num_threads=4\n",
      "[LightGBM] [Warning] num_threads is set=4, n_jobs=-1 will be ignored. Current value: num_threads=4\n",
      "[LightGBM] [Warning] num_threads is set=4, n_jobs=-1 will be ignored. Current value: num_threads=4\n",
      "[LightGBM] [Warning] num_threads is set=4, n_jobs=-1 will be ignored. Current value: num_threads=4\n",
      "[LightGBM] [Warning] num_threads is set=4, n_jobs=-1 will be ignored. Current value: num_threads=4\n",
      "[LightGBM] [Warning] num_threads is set=4, n_jobs=-1 will be ignored. Current value: num_threads=4\n",
      "[LightGBM] [Warning] num_threads is set=4, n_jobs=-1 will be ignored. Current value: num_threads=4\n",
      "[LightGBM] [Warning] num_threads is set=4, n_jobs=-1 will be ignored. Current value: num_threads=4\n",
      "[LightGBM] [Warning] num_threads is set=4, n_jobs=-1 will be ignored. Current value: num_threads=4\n",
      "[LightGBM] [Warning] num_threads is set=4, n_jobs=-1 will be ignored. Current value: num_threads=4\n",
      "[LightGBM] [Warning] num_threads is set=4, n_jobs=-1 will be ignored. Current value: num_threads=4\n",
      "[LightGBM] [Warning] num_threads is set=4, n_jobs=-1 will be ignored. Current value: num_threads=4\n",
      "[LightGBM] [Warning] num_threads is set=4, n_jobs=-1 will be ignored. Current value: num_threads=4\n",
      "[LightGBM] [Warning] num_threads is set=4, n_jobs=-1 will be ignored. Current value: num_threads=4\n",
      "[LightGBM] [Warning] num_threads is set=4, n_jobs=-1 will be ignored. Current value: num_threads=4\n",
      "[LightGBM] [Warning] num_threads is set=4, n_jobs=-1 will be ignored. Current value: num_threads=4\n",
      "[LightGBM] [Warning] num_threads is set=4, n_jobs=-1 will be ignored. Current value: num_threads=4\n",
      "[LightGBM] [Warning] num_threads is set=4, n_jobs=-1 will be ignored. Current value: num_threads=4\n",
      "[LightGBM] [Warning] num_threads is set=4, n_jobs=-1 will be ignored. Current value: num_threads=4\n",
      "[LightGBM] [Warning] num_threads is set=4, n_jobs=-1 will be ignored. Current value: num_threads=4\n",
      "[LightGBM] [Warning] num_threads is set=4, n_jobs=-1 will be ignored. Current value: num_threads=4\n",
      "[LightGBM] [Warning] num_threads is set=4, n_jobs=-1 will be ignored. Current value: num_threads=4\n",
      "[LightGBM] [Warning] num_threads is set=4, n_jobs=-1 will be ignored. Current value: num_threads=4\n",
      "[LightGBM] [Warning] num_threads is set=4, n_jobs=-1 will be ignored. Current value: num_threads=4\n",
      "[LightGBM] [Warning] num_threads is set=4, n_jobs=-1 will be ignored. Current value: num_threads=4\n",
      "[LightGBM] [Warning] num_threads is set=4, n_jobs=-1 will be ignored. Current value: num_threads=4\n",
      "[LightGBM] [Warning] num_threads is set=4, n_jobs=-1 will be ignored. Current value: num_threads=4\n",
      "[LightGBM] [Warning] num_threads is set=4, n_jobs=-1 will be ignored. Current value: num_threads=4\n",
      "[LightGBM] [Warning] num_threads is set=4, n_jobs=-1 will be ignored. Current value: num_threads=4\n",
      "[LightGBM] [Warning] num_threads is set=4, n_jobs=-1 will be ignored. Current value: num_threads=4\n",
      "[LightGBM] [Warning] num_threads is set=4, n_jobs=-1 will be ignored. Current value: num_threads=4\n",
      "[LightGBM] [Warning] num_threads is set=4, n_jobs=-1 will be ignored. Current value: num_threads=4\n",
      "[LightGBM] [Warning] num_threads is set=4, n_jobs=-1 will be ignored. Current value: num_threads=4\n",
      "[LightGBM] [Warning] num_threads is set=4, n_jobs=-1 will be ignored. Current value: num_threads=4\n",
      "[LightGBM] [Warning] num_threads is set=4, n_jobs=-1 will be ignored. Current value: num_threads=4\n",
      "[LightGBM] [Warning] num_threads is set=4, n_jobs=-1 will be ignored. Current value: num_threads=4\n",
      "[LightGBM] [Warning] num_threads is set=4, n_jobs=-1 will be ignored. Current value: num_threads=4\n",
      "[LightGBM] [Warning] num_threads is set=4, n_jobs=-1 will be ignored. Current value: num_threads=4\n",
      "[LightGBM] [Warning] num_threads is set=4, n_jobs=-1 will be ignored. Current value: num_threads=4\n",
      "[LightGBM] [Warning] num_threads is set=4, n_jobs=-1 will be ignored. Current value: num_threads=4\n",
      "[LightGBM] [Warning] num_threads is set=4, n_jobs=-1 will be ignored. Current value: num_threads=4\n",
      "[LightGBM] [Warning] num_threads is set=4, n_jobs=-1 will be ignored. Current value: num_threads=4\n",
      "[LightGBM] [Warning] num_threads is set=4, n_jobs=-1 will be ignored. Current value: num_threads=4\n",
      "[LightGBM] [Warning] num_threads is set=4, n_jobs=-1 will be ignored. Current value: num_threads=4\n",
      "[LightGBM] [Warning] num_threads is set=4, n_jobs=-1 will be ignored. Current value: num_threads=4\n",
      "[LightGBM] [Warning] num_threads is set=4, n_jobs=-1 will be ignored. Current value: num_threads=4\n",
      "[LightGBM] [Warning] num_threads is set=4, n_jobs=-1 will be ignored. Current value: num_threads=4\n",
      "[LightGBM] [Warning] num_threads is set=4, n_jobs=-1 will be ignored. Current value: num_threads=4\n",
      "[LightGBM] [Warning] num_threads is set=4, n_jobs=-1 will be ignored. Current value: num_threads=4\n",
      "[LightGBM] [Warning] num_threads is set=4, n_jobs=-1 will be ignored. Current value: num_threads=4\n",
      "[LightGBM] [Warning] num_threads is set=4, n_jobs=-1 will be ignored. Current value: num_threads=4\n",
      "[LightGBM] [Warning] num_threads is set=4, n_jobs=-1 will be ignored. Current value: num_threads=4\n",
      "[LightGBM] [Warning] num_threads is set=4, n_jobs=-1 will be ignored. Current value: num_threads=4\n",
      "[LightGBM] [Warning] num_threads is set=4, n_jobs=-1 will be ignored. Current value: num_threads=4\n",
      "[LightGBM] [Warning] num_threads is set=4, n_jobs=-1 will be ignored. Current value: num_threads=4\n",
      "[LightGBM] [Warning] num_threads is set=4, n_jobs=-1 will be ignored. Current value: num_threads=4\n",
      "[LightGBM] [Warning] num_threads is set=4, n_jobs=-1 will be ignored. Current value: num_threads=4\n",
      "[LightGBM] [Warning] num_threads is set=4, n_jobs=-1 will be ignored. Current value: num_threads=4\n",
      "[LightGBM] [Warning] num_threads is set=4, n_jobs=-1 will be ignored. Current value: num_threads=4\n",
      "[LightGBM] [Warning] num_threads is set=4, n_jobs=-1 will be ignored. Current value: num_threads=4\n",
      "[LightGBM] [Warning] num_threads is set=4, n_jobs=-1 will be ignored. Current value: num_threads=4\n",
      "[LightGBM] [Warning] num_threads is set=4, n_jobs=-1 will be ignored. Current value: num_threads=4\n",
      "[LightGBM] [Warning] num_threads is set=4, n_jobs=-1 will be ignored. Current value: num_threads=4\n",
      "[LightGBM] [Warning] num_threads is set=4, n_jobs=-1 will be ignored. Current value: num_threads=4\n",
      "[LightGBM] [Warning] num_threads is set=4, n_jobs=-1 will be ignored. Current value: num_threads=4\n",
      "[LightGBM] [Warning] num_threads is set=4, n_jobs=-1 will be ignored. Current value: num_threads=4\n",
      "[LightGBM] [Warning] num_threads is set=4, n_jobs=-1 will be ignored. Current value: num_threads=4\n",
      "[LightGBM] [Warning] num_threads is set=4, n_jobs=-1 will be ignored. Current value: num_threads=4\n",
      "[LightGBM] [Warning] num_threads is set=4, n_jobs=-1 will be ignored. Current value: num_threads=4\n",
      "[LightGBM] [Warning] num_threads is set=4, n_jobs=-1 will be ignored. Current value: num_threads=4\n",
      "[LightGBM] [Warning] num_threads is set=4, n_jobs=-1 will be ignored. Current value: num_threads=4\n",
      "[LightGBM] [Warning] num_threads is set=4, n_jobs=-1 will be ignored. Current value: num_threads=4\n",
      "[LightGBM] [Warning] num_threads is set=4, n_jobs=-1 will be ignored. Current value: num_threads=4\n",
      "[LightGBM] [Warning] num_threads is set=4, n_jobs=-1 will be ignored. Current value: num_threads=4\n",
      "[LightGBM] [Warning] num_threads is set=4, n_jobs=-1 will be ignored. Current value: num_threads=4\n",
      "[LightGBM] [Warning] num_threads is set=4, n_jobs=-1 will be ignored. Current value: num_threads=4\n",
      "[LightGBM] [Warning] num_threads is set=4, n_jobs=-1 will be ignored. Current value: num_threads=4\n",
      "[LightGBM] [Warning] num_threads is set=4, n_jobs=-1 will be ignored. Current value: num_threads=4\n",
      "[LightGBM] [Warning] num_threads is set=4, n_jobs=-1 will be ignored. Current value: num_threads=4\n",
      "[LightGBM] [Warning] num_threads is set=4, n_jobs=-1 will be ignored. Current value: num_threads=4\n",
      "[LightGBM] [Warning] num_threads is set=4, n_jobs=-1 will be ignored. Current value: num_threads=4\n",
      "[LightGBM] [Warning] num_threads is set=4, n_jobs=-1 will be ignored. Current value: num_threads=4\n",
      "[LightGBM] [Warning] num_threads is set=4, n_jobs=-1 will be ignored. Current value: num_threads=4\n",
      "[LightGBM] [Warning] num_threads is set=4, n_jobs=-1 will be ignored. Current value: num_threads=4\n",
      "[LightGBM] [Warning] num_threads is set=4, n_jobs=-1 will be ignored. Current value: num_threads=4\n",
      "[LightGBM] [Warning] num_threads is set=4, n_jobs=-1 will be ignored. Current value: num_threads=4\n",
      "[LightGBM] [Warning] num_threads is set=4, n_jobs=-1 will be ignored. Current value: num_threads=4\n",
      "[LightGBM] [Warning] num_threads is set=4, n_jobs=-1 will be ignored. Current value: num_threads=4\n",
      "[LightGBM] [Warning] num_threads is set=4, n_jobs=-1 will be ignored. Current value: num_threads=4\n",
      "[LightGBM] [Warning] num_threads is set=4, n_jobs=-1 will be ignored. Current value: num_threads=4\n",
      "[LightGBM] [Warning] num_threads is set=4, n_jobs=-1 will be ignored. Current value: num_threads=4\n",
      "[LightGBM] [Warning] num_threads is set=4, n_jobs=-1 will be ignored. Current value: num_threads=4\n",
      "[LightGBM] [Warning] num_threads is set=4, n_jobs=-1 will be ignored. Current value: num_threads=4\n",
      "[LightGBM] [Warning] num_threads is set=4, n_jobs=-1 will be ignored. Current value: num_threads=4\n",
      "[LightGBM] [Warning] num_threads is set=4, n_jobs=-1 will be ignored. Current value: num_threads=4\n",
      "[LightGBM] [Warning] num_threads is set=4, n_jobs=-1 will be ignored. Current value: num_threads=4\n",
      "[LightGBM] [Warning] num_threads is set=4, n_jobs=-1 will be ignored. Current value: num_threads=4\n",
      "[LightGBM] [Warning] num_threads is set=4, n_jobs=-1 will be ignored. Current value: num_threads=4\n",
      "[LightGBM] [Warning] num_threads is set=4, n_jobs=-1 will be ignored. Current value: num_threads=4\n",
      "[LightGBM] [Warning] num_threads is set=4, n_jobs=-1 will be ignored. Current value: num_threads=4\n",
      "[LightGBM] [Warning] num_threads is set=4, n_jobs=-1 will be ignored. Current value: num_threads=4\n",
      "[LightGBM] [Warning] num_threads is set=4, n_jobs=-1 will be ignored. Current value: num_threads=4\n",
      "[LightGBM] [Warning] num_threads is set=4, n_jobs=-1 will be ignored. Current value: num_threads=4\n",
      "[LightGBM] [Warning] num_threads is set=4, n_jobs=-1 will be ignored. Current value: num_threads=4\n",
      "[LightGBM] [Warning] num_threads is set=4, n_jobs=-1 will be ignored. Current value: num_threads=4\n",
      "[LightGBM] [Warning] num_threads is set=4, n_jobs=-1 will be ignored. Current value: num_threads=4\n",
      "[LightGBM] [Warning] num_threads is set=4, n_jobs=-1 will be ignored. Current value: num_threads=4\n",
      "[LightGBM] [Warning] num_threads is set=4, n_jobs=-1 will be ignored. Current value: num_threads=4\n",
      "[LightGBM] [Warning] num_threads is set=4, n_jobs=-1 will be ignored. Current value: num_threads=4\n",
      "[LightGBM] [Warning] num_threads is set=4, n_jobs=-1 will be ignored. Current value: num_threads=4\n",
      "[LightGBM] [Warning] num_threads is set=4, n_jobs=-1 will be ignored. Current value: num_threads=4\n",
      "[LightGBM] [Warning] num_threads is set=4, n_jobs=-1 will be ignored. Current value: num_threads=4\n",
      "[LightGBM] [Warning] num_threads is set=4, n_jobs=-1 will be ignored. Current value: num_threads=4\n",
      "[LightGBM] [Warning] num_threads is set=4, n_jobs=-1 will be ignored. Current value: num_threads=4\n",
      "[LightGBM] [Warning] num_threads is set=4, n_jobs=-1 will be ignored. Current value: num_threads=4\n",
      "[LightGBM] [Warning] num_threads is set=4, n_jobs=-1 will be ignored. Current value: num_threads=4\n",
      "[LightGBM] [Warning] num_threads is set=4, n_jobs=-1 will be ignored. Current value: num_threads=4\n",
      "[LightGBM] [Warning] num_threads is set=4, n_jobs=-1 will be ignored. Current value: num_threads=4\n",
      "[LightGBM] [Warning] num_threads is set=4, n_jobs=-1 will be ignored. Current value: num_threads=4\n",
      "[LightGBM] [Warning] num_threads is set=4, n_jobs=-1 will be ignored. Current value: num_threads=4\n",
      "[LightGBM] [Warning] num_threads is set=4, n_jobs=-1 will be ignored. Current value: num_threads=4\n",
      "[LightGBM] [Warning] num_threads is set=4, n_jobs=-1 will be ignored. Current value: num_threads=4\n",
      "[LightGBM] [Warning] num_threads is set=4, n_jobs=-1 will be ignored. Current value: num_threads=4\n",
      "[LightGBM] [Warning] num_threads is set=4, n_jobs=-1 will be ignored. Current value: num_threads=4\n",
      "[LightGBM] [Warning] num_threads is set=4, n_jobs=-1 will be ignored. Current value: num_threads=4\n",
      "[LightGBM] [Warning] num_threads is set=4, n_jobs=-1 will be ignored. Current value: num_threads=4\n",
      "[LightGBM] [Warning] num_threads is set=4, n_jobs=-1 will be ignored. Current value: num_threads=4\n",
      "[LightGBM] [Warning] num_threads is set=4, n_jobs=-1 will be ignored. Current value: num_threads=4\n",
      "[LightGBM] [Warning] num_threads is set=4, n_jobs=-1 will be ignored. Current value: num_threads=4\n",
      "[LightGBM] [Warning] num_threads is set=4, n_jobs=-1 will be ignored. Current value: num_threads=4\n",
      "[LightGBM] [Warning] num_threads is set=4, n_jobs=-1 will be ignored. Current value: num_threads=4\n",
      "[LightGBM] [Warning] num_threads is set=4, n_jobs=-1 will be ignored. Current value: num_threads=4\n",
      "[LightGBM] [Warning] num_threads is set=4, n_jobs=-1 will be ignored. Current value: num_threads=4\n",
      "[LightGBM] [Warning] num_threads is set=4, n_jobs=-1 will be ignored. Current value: num_threads=4\n",
      "[LightGBM] [Warning] num_threads is set=4, n_jobs=-1 will be ignored. Current value: num_threads=4\n",
      "[LightGBM] [Warning] num_threads is set=4, n_jobs=-1 will be ignored. Current value: num_threads=4\n",
      "[LightGBM] [Warning] num_threads is set=4, n_jobs=-1 will be ignored. Current value: num_threads=4\n",
      "[LightGBM] [Warning] num_threads is set=4, n_jobs=-1 will be ignored. Current value: num_threads=4\n",
      "[LightGBM] [Warning] num_threads is set=4, n_jobs=-1 will be ignored. Current value: num_threads=4\n",
      "[LightGBM] [Warning] num_threads is set=4, n_jobs=-1 will be ignored. Current value: num_threads=4\n",
      "[LightGBM] [Warning] num_threads is set=4, n_jobs=-1 will be ignored. Current value: num_threads=4\n",
      "[LightGBM] [Warning] num_threads is set=4, n_jobs=-1 will be ignored. Current value: num_threads=4\n",
      "[LightGBM] [Warning] num_threads is set=4, n_jobs=-1 will be ignored. Current value: num_threads=4\n",
      "[LightGBM] [Warning] num_threads is set=4, n_jobs=-1 will be ignored. Current value: num_threads=4\n",
      "[LightGBM] [Warning] num_threads is set=4, n_jobs=-1 will be ignored. Current value: num_threads=4\n",
      "[LightGBM] [Warning] num_threads is set=4, n_jobs=-1 will be ignored. Current value: num_threads=4\n",
      "[LightGBM] [Warning] num_threads is set=4, n_jobs=-1 will be ignored. Current value: num_threads=4\n",
      "[LightGBM] [Warning] num_threads is set=4, n_jobs=-1 will be ignored. Current value: num_threads=4\n",
      "[LightGBM] [Warning] num_threads is set=4, n_jobs=-1 will be ignored. Current value: num_threads=4\n",
      "[LightGBM] [Warning] num_threads is set=4, n_jobs=-1 will be ignored. Current value: num_threads=4\n",
      "[LightGBM] [Warning] num_threads is set=4, n_jobs=-1 will be ignored. Current value: num_threads=4\n",
      "[LightGBM] [Warning] num_threads is set=4, n_jobs=-1 will be ignored. Current value: num_threads=4\n",
      "[LightGBM] [Warning] num_threads is set=4, n_jobs=-1 will be ignored. Current value: num_threads=4\n",
      "[LightGBM] [Warning] num_threads is set=4, n_jobs=-1 will be ignored. Current value: num_threads=4\n",
      "[LightGBM] [Warning] num_threads is set=4, n_jobs=-1 will be ignored. Current value: num_threads=4\n",
      "[LightGBM] [Warning] num_threads is set=4, n_jobs=-1 will be ignored. Current value: num_threads=4\n",
      "[LightGBM] [Warning] num_threads is set=4, n_jobs=-1 will be ignored. Current value: num_threads=4\n",
      "[LightGBM] [Warning] num_threads is set=4, n_jobs=-1 will be ignored. Current value: num_threads=4\n",
      "[LightGBM] [Warning] num_threads is set=4, n_jobs=-1 will be ignored. Current value: num_threads=4\n",
      "[LightGBM] [Warning] num_threads is set=4, n_jobs=-1 will be ignored. Current value: num_threads=4\n",
      "[LightGBM] [Warning] num_threads is set=4, n_jobs=-1 will be ignored. Current value: num_threads=4\n",
      "[LightGBM] [Warning] num_threads is set=4, n_jobs=-1 will be ignored. Current value: num_threads=4\n",
      "[LightGBM] [Warning] num_threads is set=4, n_jobs=-1 will be ignored. Current value: num_threads=4\n",
      "[LightGBM] [Warning] num_threads is set=4, n_jobs=-1 will be ignored. Current value: num_threads=4\n",
      "[LightGBM] [Warning] num_threads is set=4, n_jobs=-1 will be ignored. Current value: num_threads=4\n",
      "[LightGBM] [Warning] num_threads is set=4, n_jobs=-1 will be ignored. Current value: num_threads=4\n"
     ]
    },
    {
     "name": "stdout",
     "output_type": "stream",
     "text": [
      "[LightGBM] [Warning] num_threads is set=4, n_jobs=-1 will be ignored. Current value: num_threads=4\n",
      "[LightGBM] [Warning] num_threads is set=4, n_jobs=-1 will be ignored. Current value: num_threads=4\n",
      "[LightGBM] [Warning] num_threads is set=4, n_jobs=-1 will be ignored. Current value: num_threads=4\n",
      "[LightGBM] [Warning] num_threads is set=4, n_jobs=-1 will be ignored. Current value: num_threads=4\n",
      "[LightGBM] [Warning] num_threads is set=4, n_jobs=-1 will be ignored. Current value: num_threads=4\n",
      "[LightGBM] [Warning] num_threads is set=4, n_jobs=-1 will be ignored. Current value: num_threads=4\n",
      "[LightGBM] [Warning] num_threads is set=4, n_jobs=-1 will be ignored. Current value: num_threads=4\n",
      "[LightGBM] [Warning] num_threads is set=4, n_jobs=-1 will be ignored. Current value: num_threads=4\n",
      "[LightGBM] [Warning] num_threads is set=4, n_jobs=-1 will be ignored. Current value: num_threads=4\n",
      "[LightGBM] [Warning] num_threads is set=4, n_jobs=-1 will be ignored. Current value: num_threads=4\n",
      "[LightGBM] [Warning] num_threads is set=4, n_jobs=-1 will be ignored. Current value: num_threads=4\n",
      "[LightGBM] [Warning] num_threads is set=4, n_jobs=-1 will be ignored. Current value: num_threads=4\n",
      "[LightGBM] [Warning] num_threads is set=4, n_jobs=-1 will be ignored. Current value: num_threads=4\n",
      "[LightGBM] [Warning] num_threads is set=4, n_jobs=-1 will be ignored. Current value: num_threads=4\n",
      "[LightGBM] [Warning] num_threads is set=4, n_jobs=-1 will be ignored. Current value: num_threads=4\n",
      "[LightGBM] [Warning] num_threads is set=4, n_jobs=-1 will be ignored. Current value: num_threads=4\n",
      "[LightGBM] [Warning] num_threads is set=4, n_jobs=-1 will be ignored. Current value: num_threads=4\n",
      "[LightGBM] [Warning] num_threads is set=4, n_jobs=-1 will be ignored. Current value: num_threads=4\n",
      "[LightGBM] [Warning] num_threads is set=4, n_jobs=-1 will be ignored. Current value: num_threads=4\n",
      "[LightGBM] [Warning] num_threads is set=4, n_jobs=-1 will be ignored. Current value: num_threads=4\n",
      "[LightGBM] [Warning] num_threads is set=4, n_jobs=-1 will be ignored. Current value: num_threads=4\n",
      "[LightGBM] [Warning] num_threads is set=4, n_jobs=-1 will be ignored. Current value: num_threads=4\n",
      "[LightGBM] [Warning] num_threads is set=4, n_jobs=-1 will be ignored. Current value: num_threads=4\n",
      "[LightGBM] [Warning] num_threads is set=4, n_jobs=-1 will be ignored. Current value: num_threads=4\n",
      "[LightGBM] [Warning] num_threads is set=4, n_jobs=-1 will be ignored. Current value: num_threads=4\n",
      "[LightGBM] [Warning] num_threads is set=4, n_jobs=-1 will be ignored. Current value: num_threads=4\n",
      "[LightGBM] [Warning] num_threads is set=4, n_jobs=-1 will be ignored. Current value: num_threads=4\n",
      "[LightGBM] [Warning] num_threads is set=4, n_jobs=-1 will be ignored. Current value: num_threads=4\n",
      "[LightGBM] [Warning] num_threads is set=4, n_jobs=-1 will be ignored. Current value: num_threads=4\n",
      "[LightGBM] [Warning] num_threads is set=4, n_jobs=-1 will be ignored. Current value: num_threads=4\n",
      "[LightGBM] [Warning] num_threads is set=4, n_jobs=-1 will be ignored. Current value: num_threads=4\n",
      "[LightGBM] [Warning] num_threads is set=4, n_jobs=-1 will be ignored. Current value: num_threads=4\n",
      "[LightGBM] [Warning] num_threads is set=4, n_jobs=-1 will be ignored. Current value: num_threads=4\n",
      "[LightGBM] [Warning] num_threads is set=4, n_jobs=-1 will be ignored. Current value: num_threads=4\n",
      "[LightGBM] [Warning] num_threads is set=4, n_jobs=-1 will be ignored. Current value: num_threads=4\n",
      "[LightGBM] [Warning] num_threads is set=4, n_jobs=-1 will be ignored. Current value: num_threads=4\n",
      "[LightGBM] [Warning] num_threads is set=4, n_jobs=-1 will be ignored. Current value: num_threads=4\n",
      "[LightGBM] [Warning] num_threads is set=4, n_jobs=-1 will be ignored. Current value: num_threads=4\n",
      "[LightGBM] [Warning] num_threads is set=4, n_jobs=-1 will be ignored. Current value: num_threads=4\n",
      "[LightGBM] [Warning] num_threads is set=4, n_jobs=-1 will be ignored. Current value: num_threads=4\n",
      "[LightGBM] [Warning] num_threads is set=4, n_jobs=-1 will be ignored. Current value: num_threads=4\n",
      "[LightGBM] [Warning] num_threads is set=4, n_jobs=-1 will be ignored. Current value: num_threads=4\n",
      "[LightGBM] [Warning] num_threads is set=4, n_jobs=-1 will be ignored. Current value: num_threads=4\n",
      "[LightGBM] [Warning] num_threads is set=4, n_jobs=-1 will be ignored. Current value: num_threads=4\n",
      "[LightGBM] [Warning] num_threads is set=4, n_jobs=-1 will be ignored. Current value: num_threads=4\n",
      "[LightGBM] [Warning] num_threads is set=4, n_jobs=-1 will be ignored. Current value: num_threads=4\n",
      "[LightGBM] [Warning] num_threads is set=4, n_jobs=-1 will be ignored. Current value: num_threads=4\n",
      "[LightGBM] [Warning] num_threads is set=4, n_jobs=-1 will be ignored. Current value: num_threads=4\n",
      "[LightGBM] [Warning] num_threads is set=4, n_jobs=-1 will be ignored. Current value: num_threads=4\n",
      "[LightGBM] [Warning] num_threads is set=4, n_jobs=-1 will be ignored. Current value: num_threads=4\n",
      "[LightGBM] [Warning] num_threads is set=4, n_jobs=-1 will be ignored. Current value: num_threads=4\n",
      "[LightGBM] [Warning] num_threads is set=4, n_jobs=-1 will be ignored. Current value: num_threads=4\n",
      "[LightGBM] [Warning] num_threads is set=4, n_jobs=-1 will be ignored. Current value: num_threads=4\n",
      "[LightGBM] [Warning] num_threads is set=4, n_jobs=-1 will be ignored. Current value: num_threads=4\n",
      "[LightGBM] [Warning] num_threads is set=4, n_jobs=-1 will be ignored. Current value: num_threads=4\n",
      "[LightGBM] [Warning] num_threads is set=4, n_jobs=-1 will be ignored. Current value: num_threads=4\n",
      "[LightGBM] [Warning] num_threads is set=4, n_jobs=-1 will be ignored. Current value: num_threads=4\n",
      "[LightGBM] [Warning] num_threads is set=4, n_jobs=-1 will be ignored. Current value: num_threads=4\n",
      "[LightGBM] [Warning] num_threads is set=4, n_jobs=-1 will be ignored. Current value: num_threads=4\n",
      "[LightGBM] [Warning] num_threads is set=4, n_jobs=-1 will be ignored. Current value: num_threads=4\n",
      "[LightGBM] [Warning] num_threads is set=4, n_jobs=-1 will be ignored. Current value: num_threads=4\n",
      "[LightGBM] [Warning] num_threads is set=4, n_jobs=-1 will be ignored. Current value: num_threads=4\n",
      "[LightGBM] [Warning] num_threads is set=4, n_jobs=-1 will be ignored. Current value: num_threads=4\n",
      "[LightGBM] [Warning] num_threads is set=4, n_jobs=-1 will be ignored. Current value: num_threads=4\n",
      "[LightGBM] [Warning] num_threads is set=4, n_jobs=-1 will be ignored. Current value: num_threads=4\n",
      "[LightGBM] [Warning] num_threads is set=4, n_jobs=-1 will be ignored. Current value: num_threads=4\n",
      "[LightGBM] [Warning] num_threads is set=4, n_jobs=-1 will be ignored. Current value: num_threads=4\n",
      "[LightGBM] [Warning] num_threads is set=4, n_jobs=-1 will be ignored. Current value: num_threads=4\n",
      "[LightGBM] [Warning] num_threads is set=4, n_jobs=-1 will be ignored. Current value: num_threads=4\n",
      "[LightGBM] [Warning] num_threads is set=4, n_jobs=-1 will be ignored. Current value: num_threads=4\n",
      "[LightGBM] [Warning] num_threads is set=4, n_jobs=-1 will be ignored. Current value: num_threads=4\n",
      "[LightGBM] [Warning] num_threads is set=4, n_jobs=-1 will be ignored. Current value: num_threads=4\n",
      "[LightGBM] [Warning] num_threads is set=4, n_jobs=-1 will be ignored. Current value: num_threads=4\n",
      "[LightGBM] [Warning] num_threads is set=4, n_jobs=-1 will be ignored. Current value: num_threads=4\n",
      "[LightGBM] [Warning] num_threads is set=4, n_jobs=-1 will be ignored. Current value: num_threads=4\n",
      "[LightGBM] [Warning] num_threads is set=4, n_jobs=-1 will be ignored. Current value: num_threads=4\n",
      "[LightGBM] [Warning] num_threads is set=4, n_jobs=-1 will be ignored. Current value: num_threads=4\n",
      "[LightGBM] [Warning] num_threads is set=4, n_jobs=-1 will be ignored. Current value: num_threads=4\n",
      "[LightGBM] [Warning] num_threads is set=4, n_jobs=-1 will be ignored. Current value: num_threads=4\n",
      "[LightGBM] [Warning] num_threads is set=4, n_jobs=-1 will be ignored. Current value: num_threads=4\n",
      "[LightGBM] [Warning] num_threads is set=4, n_jobs=-1 will be ignored. Current value: num_threads=4\n",
      "[LightGBM] [Warning] num_threads is set=4, n_jobs=-1 will be ignored. Current value: num_threads=4\n",
      "[LightGBM] [Warning] num_threads is set=4, n_jobs=-1 will be ignored. Current value: num_threads=4\n",
      "[LightGBM] [Warning] num_threads is set=4, n_jobs=-1 will be ignored. Current value: num_threads=4\n",
      "[LightGBM] [Warning] num_threads is set=4, n_jobs=-1 will be ignored. Current value: num_threads=4\n",
      "[LightGBM] [Warning] num_threads is set=4, n_jobs=-1 will be ignored. Current value: num_threads=4\n",
      "[LightGBM] [Warning] num_threads is set=4, n_jobs=-1 will be ignored. Current value: num_threads=4\n",
      "[LightGBM] [Warning] num_threads is set=4, n_jobs=-1 will be ignored. Current value: num_threads=4\n",
      "[LightGBM] [Warning] num_threads is set=4, n_jobs=-1 will be ignored. Current value: num_threads=4\n",
      "[LightGBM] [Warning] num_threads is set=4, n_jobs=-1 will be ignored. Current value: num_threads=4\n",
      "[LightGBM] [Warning] num_threads is set=4, n_jobs=-1 will be ignored. Current value: num_threads=4\n",
      "[LightGBM] [Warning] num_threads is set=4, n_jobs=-1 will be ignored. Current value: num_threads=4\n",
      "[LightGBM] [Warning] num_threads is set=4, n_jobs=-1 will be ignored. Current value: num_threads=4\n",
      "[LightGBM] [Warning] num_threads is set=4, n_jobs=-1 will be ignored. Current value: num_threads=4\n",
      "[LightGBM] [Warning] num_threads is set=4, n_jobs=-1 will be ignored. Current value: num_threads=4\n",
      "[LightGBM] [Warning] num_threads is set=4, n_jobs=-1 will be ignored. Current value: num_threads=4\n",
      "[LightGBM] [Warning] num_threads is set=4, n_jobs=-1 will be ignored. Current value: num_threads=4\n",
      "[LightGBM] [Warning] num_threads is set=4, n_jobs=-1 will be ignored. Current value: num_threads=4\n",
      "[LightGBM] [Warning] num_threads is set=4, n_jobs=-1 will be ignored. Current value: num_threads=4\n",
      "[LightGBM] [Warning] num_threads is set=4, n_jobs=-1 will be ignored. Current value: num_threads=4\n",
      "[LightGBM] [Warning] num_threads is set=4, n_jobs=-1 will be ignored. Current value: num_threads=4\n",
      "[LightGBM] [Warning] num_threads is set=4, n_jobs=-1 will be ignored. Current value: num_threads=4\n",
      "[LightGBM] [Warning] num_threads is set=4, n_jobs=-1 will be ignored. Current value: num_threads=4\n",
      "[LightGBM] [Warning] num_threads is set=4, n_jobs=-1 will be ignored. Current value: num_threads=4\n",
      "[LightGBM] [Warning] num_threads is set=4, n_jobs=-1 will be ignored. Current value: num_threads=4\n",
      "[LightGBM] [Warning] num_threads is set=4, n_jobs=-1 will be ignored. Current value: num_threads=4\n",
      "[LightGBM] [Warning] num_threads is set=4, n_jobs=-1 will be ignored. Current value: num_threads=4\n",
      "[LightGBM] [Warning] num_threads is set=4, n_jobs=-1 will be ignored. Current value: num_threads=4\n",
      "[LightGBM] [Warning] num_threads is set=4, n_jobs=-1 will be ignored. Current value: num_threads=4\n",
      "[LightGBM] [Warning] num_threads is set=4, n_jobs=-1 will be ignored. Current value: num_threads=4\n",
      "[LightGBM] [Warning] num_threads is set=4, n_jobs=-1 will be ignored. Current value: num_threads=4\n",
      "[LightGBM] [Warning] num_threads is set=4, n_jobs=-1 will be ignored. Current value: num_threads=4\n",
      "[LightGBM] [Warning] num_threads is set=4, n_jobs=-1 will be ignored. Current value: num_threads=4\n",
      "[LightGBM] [Warning] num_threads is set=4, n_jobs=-1 will be ignored. Current value: num_threads=4\n",
      "[LightGBM] [Warning] num_threads is set=4, n_jobs=-1 will be ignored. Current value: num_threads=4\n",
      "[LightGBM] [Warning] num_threads is set=4, n_jobs=-1 will be ignored. Current value: num_threads=4\n",
      "[LightGBM] [Warning] num_threads is set=4, n_jobs=-1 will be ignored. Current value: num_threads=4\n",
      "[LightGBM] [Warning] num_threads is set=4, n_jobs=-1 will be ignored. Current value: num_threads=4\n",
      "[LightGBM] [Warning] num_threads is set=4, n_jobs=-1 will be ignored. Current value: num_threads=4\n",
      "[LightGBM] [Warning] num_threads is set=4, n_jobs=-1 will be ignored. Current value: num_threads=4\n",
      "[LightGBM] [Warning] num_threads is set=4, n_jobs=-1 will be ignored. Current value: num_threads=4\n",
      "[LightGBM] [Warning] num_threads is set=4, n_jobs=-1 will be ignored. Current value: num_threads=4\n",
      "[LightGBM] [Warning] num_threads is set=4, n_jobs=-1 will be ignored. Current value: num_threads=4\n",
      "[LightGBM] [Warning] num_threads is set=4, n_jobs=-1 will be ignored. Current value: num_threads=4\n",
      "[LightGBM] [Warning] num_threads is set=4, n_jobs=-1 will be ignored. Current value: num_threads=4\n",
      "[LightGBM] [Warning] num_threads is set=4, n_jobs=-1 will be ignored. Current value: num_threads=4\n",
      "[LightGBM] [Warning] num_threads is set=4, n_jobs=-1 will be ignored. Current value: num_threads=4\n",
      "[LightGBM] [Warning] num_threads is set=4, n_jobs=-1 will be ignored. Current value: num_threads=4\n",
      "[LightGBM] [Warning] num_threads is set=4, n_jobs=-1 will be ignored. Current value: num_threads=4\n",
      "[LightGBM] [Warning] num_threads is set=4, n_jobs=-1 will be ignored. Current value: num_threads=4\n",
      "[LightGBM] [Warning] num_threads is set=4, n_jobs=-1 will be ignored. Current value: num_threads=4\n",
      "[LightGBM] [Warning] num_threads is set=4, n_jobs=-1 will be ignored. Current value: num_threads=4\n",
      "[LightGBM] [Warning] num_threads is set=4, n_jobs=-1 will be ignored. Current value: num_threads=4\n",
      "[LightGBM] [Warning] num_threads is set=4, n_jobs=-1 will be ignored. Current value: num_threads=4\n",
      "[LightGBM] [Warning] num_threads is set=4, n_jobs=-1 will be ignored. Current value: num_threads=4\n",
      "[LightGBM] [Warning] num_threads is set=4, n_jobs=-1 will be ignored. Current value: num_threads=4\n",
      "[LightGBM] [Warning] num_threads is set=4, n_jobs=-1 will be ignored. Current value: num_threads=4\n",
      "[LightGBM] [Warning] num_threads is set=4, n_jobs=-1 will be ignored. Current value: num_threads=4\n",
      "[LightGBM] [Warning] num_threads is set=4, n_jobs=-1 will be ignored. Current value: num_threads=4\n",
      "[LightGBM] [Warning] num_threads is set=4, n_jobs=-1 will be ignored. Current value: num_threads=4\n",
      "[LightGBM] [Warning] num_threads is set=4, n_jobs=-1 will be ignored. Current value: num_threads=4\n",
      "[LightGBM] [Warning] num_threads is set=4, n_jobs=-1 will be ignored. Current value: num_threads=4\n",
      "[LightGBM] [Warning] num_threads is set=4, n_jobs=-1 will be ignored. Current value: num_threads=4\n",
      "[LightGBM] [Warning] num_threads is set=4, n_jobs=-1 will be ignored. Current value: num_threads=4\n",
      "[LightGBM] [Warning] num_threads is set=4, n_jobs=-1 will be ignored. Current value: num_threads=4\n",
      "[LightGBM] [Warning] num_threads is set=4, n_jobs=-1 will be ignored. Current value: num_threads=4\n",
      "[LightGBM] [Warning] num_threads is set=4, n_jobs=-1 will be ignored. Current value: num_threads=4\n",
      "[LightGBM] [Warning] num_threads is set=4, n_jobs=-1 will be ignored. Current value: num_threads=4\n",
      "[LightGBM] [Warning] num_threads is set=4, n_jobs=-1 will be ignored. Current value: num_threads=4\n",
      "[LightGBM] [Warning] num_threads is set=4, n_jobs=-1 will be ignored. Current value: num_threads=4\n",
      "[LightGBM] [Warning] num_threads is set=4, n_jobs=-1 will be ignored. Current value: num_threads=4\n",
      "[LightGBM] [Warning] num_threads is set=4, n_jobs=-1 will be ignored. Current value: num_threads=4\n",
      "[LightGBM] [Warning] num_threads is set=4, n_jobs=-1 will be ignored. Current value: num_threads=4\n",
      "[LightGBM] [Warning] num_threads is set=4, n_jobs=-1 will be ignored. Current value: num_threads=4\n",
      "[LightGBM] [Warning] num_threads is set=4, n_jobs=-1 will be ignored. Current value: num_threads=4\n",
      "[LightGBM] [Warning] num_threads is set=4, n_jobs=-1 will be ignored. Current value: num_threads=4\n",
      "[LightGBM] [Warning] num_threads is set=4, n_jobs=-1 will be ignored. Current value: num_threads=4\n",
      "[LightGBM] [Warning] num_threads is set=4, n_jobs=-1 will be ignored. Current value: num_threads=4\n",
      "[LightGBM] [Warning] num_threads is set=4, n_jobs=-1 will be ignored. Current value: num_threads=4\n",
      "[LightGBM] [Warning] num_threads is set=4, n_jobs=-1 will be ignored. Current value: num_threads=4\n",
      "[LightGBM] [Warning] num_threads is set=4, n_jobs=-1 will be ignored. Current value: num_threads=4\n",
      "[LightGBM] [Warning] num_threads is set=4, n_jobs=-1 will be ignored. Current value: num_threads=4\n",
      "[LightGBM] [Warning] num_threads is set=4, n_jobs=-1 will be ignored. Current value: num_threads=4\n",
      "[LightGBM] [Warning] num_threads is set=4, n_jobs=-1 will be ignored. Current value: num_threads=4\n",
      "[LightGBM] [Warning] num_threads is set=4, n_jobs=-1 will be ignored. Current value: num_threads=4\n",
      "[LightGBM] [Warning] num_threads is set=4, n_jobs=-1 will be ignored. Current value: num_threads=4\n",
      "[LightGBM] [Warning] num_threads is set=4, n_jobs=-1 will be ignored. Current value: num_threads=4\n",
      "[LightGBM] [Warning] num_threads is set=4, n_jobs=-1 will be ignored. Current value: num_threads=4\n",
      "[LightGBM] [Warning] num_threads is set=4, n_jobs=-1 will be ignored. Current value: num_threads=4\n",
      "[LightGBM] [Warning] num_threads is set=4, n_jobs=-1 will be ignored. Current value: num_threads=4\n",
      "[LightGBM] [Warning] num_threads is set=4, n_jobs=-1 will be ignored. Current value: num_threads=4\n",
      "[LightGBM] [Warning] num_threads is set=4, n_jobs=-1 will be ignored. Current value: num_threads=4\n",
      "[LightGBM] [Warning] num_threads is set=4, n_jobs=-1 will be ignored. Current value: num_threads=4\n",
      "[LightGBM] [Warning] num_threads is set=4, n_jobs=-1 will be ignored. Current value: num_threads=4\n",
      "[LightGBM] [Warning] num_threads is set=4, n_jobs=-1 will be ignored. Current value: num_threads=4\n",
      "[LightGBM] [Warning] num_threads is set=4, n_jobs=-1 will be ignored. Current value: num_threads=4\n",
      "[LightGBM] [Warning] num_threads is set=4, n_jobs=-1 will be ignored. Current value: num_threads=4\n",
      "[LightGBM] [Warning] num_threads is set=4, n_jobs=-1 will be ignored. Current value: num_threads=4\n",
      "[LightGBM] [Warning] num_threads is set=4, n_jobs=-1 will be ignored. Current value: num_threads=4\n",
      "[LightGBM] [Warning] num_threads is set=4, n_jobs=-1 will be ignored. Current value: num_threads=4\n",
      "[LightGBM] [Warning] num_threads is set=4, n_jobs=-1 will be ignored. Current value: num_threads=4\n",
      "[LightGBM] [Warning] num_threads is set=4, n_jobs=-1 will be ignored. Current value: num_threads=4\n",
      "[LightGBM] [Warning] num_threads is set=4, n_jobs=-1 will be ignored. Current value: num_threads=4\n",
      "[LightGBM] [Warning] num_threads is set=4, n_jobs=-1 will be ignored. Current value: num_threads=4\n",
      "[LightGBM] [Warning] num_threads is set=4, n_jobs=-1 will be ignored. Current value: num_threads=4\n",
      "[LightGBM] [Warning] num_threads is set=4, n_jobs=-1 will be ignored. Current value: num_threads=4\n",
      "[LightGBM] [Warning] num_threads is set=4, n_jobs=-1 will be ignored. Current value: num_threads=4\n",
      "[LightGBM] [Warning] num_threads is set=4, n_jobs=-1 will be ignored. Current value: num_threads=4\n",
      "[LightGBM] [Warning] num_threads is set=4, n_jobs=-1 will be ignored. Current value: num_threads=4\n",
      "[LightGBM] [Warning] num_threads is set=4, n_jobs=-1 will be ignored. Current value: num_threads=4\n",
      "[LightGBM] [Warning] num_threads is set=4, n_jobs=-1 will be ignored. Current value: num_threads=4\n",
      "[LightGBM] [Warning] num_threads is set=4, n_jobs=-1 will be ignored. Current value: num_threads=4\n",
      "[LightGBM] [Warning] num_threads is set=4, n_jobs=-1 will be ignored. Current value: num_threads=4\n",
      "[LightGBM] [Warning] num_threads is set=4, n_jobs=-1 will be ignored. Current value: num_threads=4\n",
      "[LightGBM] [Warning] num_threads is set=4, n_jobs=-1 will be ignored. Current value: num_threads=4\n",
      "[LightGBM] [Warning] num_threads is set=4, n_jobs=-1 will be ignored. Current value: num_threads=4\n",
      "[LightGBM] [Warning] num_threads is set=4, n_jobs=-1 will be ignored. Current value: num_threads=4\n",
      "[LightGBM] [Warning] num_threads is set=4, n_jobs=-1 will be ignored. Current value: num_threads=4\n",
      "[LightGBM] [Warning] num_threads is set=4, n_jobs=-1 will be ignored. Current value: num_threads=4\n",
      "[LightGBM] [Warning] num_threads is set=4, n_jobs=-1 will be ignored. Current value: num_threads=4\n",
      "[LightGBM] [Warning] num_threads is set=4, n_jobs=-1 will be ignored. Current value: num_threads=4\n",
      "[LightGBM] [Warning] num_threads is set=4, n_jobs=-1 will be ignored. Current value: num_threads=4\n",
      "[LightGBM] [Warning] num_threads is set=4, n_jobs=-1 will be ignored. Current value: num_threads=4\n",
      "[LightGBM] [Warning] num_threads is set=4, n_jobs=-1 will be ignored. Current value: num_threads=4\n",
      "[LightGBM] [Warning] num_threads is set=4, n_jobs=-1 will be ignored. Current value: num_threads=4\n",
      "[LightGBM] [Warning] num_threads is set=4, n_jobs=-1 will be ignored. Current value: num_threads=4\n",
      "[LightGBM] [Warning] num_threads is set=4, n_jobs=-1 will be ignored. Current value: num_threads=4\n",
      "[LightGBM] [Warning] num_threads is set=4, n_jobs=-1 will be ignored. Current value: num_threads=4\n",
      "[LightGBM] [Warning] num_threads is set=4, n_jobs=-1 will be ignored. Current value: num_threads=4\n",
      "[LightGBM] [Warning] num_threads is set=4, n_jobs=-1 will be ignored. Current value: num_threads=4\n",
      "[LightGBM] [Warning] num_threads is set=4, n_jobs=-1 will be ignored. Current value: num_threads=4\n",
      "[LightGBM] [Warning] num_threads is set=4, n_jobs=-1 will be ignored. Current value: num_threads=4\n",
      "[LightGBM] [Warning] num_threads is set=4, n_jobs=-1 will be ignored. Current value: num_threads=4\n",
      "[LightGBM] [Warning] num_threads is set=4, n_jobs=-1 will be ignored. Current value: num_threads=4\n",
      "[LightGBM] [Warning] num_threads is set=4, n_jobs=-1 will be ignored. Current value: num_threads=4\n",
      "[LightGBM] [Warning] num_threads is set=4, n_jobs=-1 will be ignored. Current value: num_threads=4\n"
     ]
    }
   ],
   "source": [
    "test_data = pd.DataFrame(y_test)\n",
    "test_data['num_orders_pred'] = y_pred\n",
    "\n",
    "test_data.plot(title='Сравнение фактических и спрогнозированных значений', \n",
    "               ylabel='Количество заказов',\n",
    "               figsize=(10, 3)\n",
    "              )\n",
    "\n",
    "plt.show()"
   ]
  },
  {
   "cell_type": "markdown",
   "metadata": {},
   "source": [
    "## Чек-лист проверки"
   ]
  },
  {
   "cell_type": "markdown",
   "metadata": {},
   "source": [
    "- [x]  Jupyter Notebook открыт\n",
    "- [x]  Весь код выполняется без ошибок\n",
    "- [x]  Ячейки с кодом расположены в порядке исполнения\n",
    "- [x]  Данные загружены и подготовлены\n",
    "- [x]  Данные проанализированы\n",
    "- [x]  Модель обучена, гиперпараметры подобраны\n",
    "- [x]  Качество моделей проверено, выводы сделаны\n",
    "- [x]  Значение *RMSE* на тестовой выборке не больше 48"
   ]
  }
 ],
 "metadata": {
  "ExecuteTimeLog": [
   {
    "duration": 419,
    "start_time": "2023-03-13T12:16:32.953Z"
   },
   {
    "duration": 89,
    "start_time": "2023-03-13T12:20:50.131Z"
   },
   {
    "duration": 13,
    "start_time": "2023-03-13T12:20:59.509Z"
   },
   {
    "duration": 68,
    "start_time": "2023-03-13T12:27:30.630Z"
   },
   {
    "duration": 6,
    "start_time": "2023-03-13T12:27:30.897Z"
   },
   {
    "duration": 44,
    "start_time": "2023-03-13T12:29:36.933Z"
   },
   {
    "duration": 6,
    "start_time": "2023-03-13T12:29:37.159Z"
   },
   {
    "duration": 10,
    "start_time": "2023-03-13T12:31:31.834Z"
   },
   {
    "duration": 4,
    "start_time": "2023-03-13T12:32:28.756Z"
   },
   {
    "duration": 8,
    "start_time": "2023-03-13T12:32:46.517Z"
   },
   {
    "duration": 44,
    "start_time": "2023-03-13T12:33:32.659Z"
   },
   {
    "duration": 399,
    "start_time": "2023-03-13T12:33:37.364Z"
   },
   {
    "duration": 42,
    "start_time": "2023-03-13T12:33:37.765Z"
   },
   {
    "duration": 13,
    "start_time": "2023-03-13T12:33:37.808Z"
   },
   {
    "duration": 13,
    "start_time": "2023-03-13T12:33:37.822Z"
   },
   {
    "duration": 13,
    "start_time": "2023-03-13T12:33:50.705Z"
   },
   {
    "duration": 365,
    "start_time": "2023-03-13T12:35:03.197Z"
   },
   {
    "duration": 41,
    "start_time": "2023-03-13T12:35:03.564Z"
   },
   {
    "duration": 11,
    "start_time": "2023-03-13T12:35:03.607Z"
   },
   {
    "duration": 18,
    "start_time": "2023-03-13T12:35:03.619Z"
   },
   {
    "duration": 44,
    "start_time": "2023-03-13T12:35:03.639Z"
   },
   {
    "duration": 383,
    "start_time": "2023-03-13T12:35:31.081Z"
   },
   {
    "duration": 42,
    "start_time": "2023-03-13T12:35:31.466Z"
   },
   {
    "duration": 11,
    "start_time": "2023-03-13T12:35:31.510Z"
   },
   {
    "duration": 17,
    "start_time": "2023-03-13T12:35:31.523Z"
   },
   {
    "duration": 46,
    "start_time": "2023-03-13T12:35:31.542Z"
   },
   {
    "duration": 395,
    "start_time": "2023-03-13T12:35:51.033Z"
   },
   {
    "duration": 41,
    "start_time": "2023-03-13T12:35:51.430Z"
   },
   {
    "duration": 12,
    "start_time": "2023-03-13T12:35:51.473Z"
   },
   {
    "duration": 6,
    "start_time": "2023-03-13T12:35:51.487Z"
   },
   {
    "duration": 24,
    "start_time": "2023-03-13T12:35:51.495Z"
   },
   {
    "duration": 9,
    "start_time": "2023-03-13T12:39:27.592Z"
   },
   {
    "duration": 417,
    "start_time": "2023-03-13T12:44:36.429Z"
   },
   {
    "duration": 46,
    "start_time": "2023-03-13T12:44:36.848Z"
   },
   {
    "duration": 13,
    "start_time": "2023-03-13T12:44:36.898Z"
   },
   {
    "duration": 6,
    "start_time": "2023-03-13T12:44:36.912Z"
   },
   {
    "duration": 15,
    "start_time": "2023-03-13T12:44:36.919Z"
   },
   {
    "duration": 8,
    "start_time": "2023-03-13T12:44:36.936Z"
   },
   {
    "duration": 75,
    "start_time": "2023-03-13T12:44:36.946Z"
   },
   {
    "duration": 10,
    "start_time": "2023-03-13T12:45:14.455Z"
   },
   {
    "duration": 436,
    "start_time": "2023-03-13T12:46:59.959Z"
   },
   {
    "duration": 45,
    "start_time": "2023-03-13T12:47:00.397Z"
   },
   {
    "duration": 14,
    "start_time": "2023-03-13T12:47:00.444Z"
   },
   {
    "duration": 20,
    "start_time": "2023-03-13T12:47:00.460Z"
   },
   {
    "duration": 35,
    "start_time": "2023-03-13T12:47:00.481Z"
   },
   {
    "duration": 24,
    "start_time": "2023-03-13T12:47:00.518Z"
   },
   {
    "duration": 88,
    "start_time": "2023-03-13T12:47:00.544Z"
   },
   {
    "duration": 10,
    "start_time": "2023-03-13T12:47:34.348Z"
   },
   {
    "duration": 17,
    "start_time": "2023-03-13T12:47:46.571Z"
   },
   {
    "duration": 412,
    "start_time": "2023-03-13T12:47:54.328Z"
   },
   {
    "duration": 44,
    "start_time": "2023-03-13T12:47:54.742Z"
   },
   {
    "duration": 16,
    "start_time": "2023-03-13T12:47:54.788Z"
   },
   {
    "duration": 8,
    "start_time": "2023-03-13T12:47:54.806Z"
   },
   {
    "duration": 12,
    "start_time": "2023-03-13T12:47:54.817Z"
   },
   {
    "duration": 9,
    "start_time": "2023-03-13T12:47:54.831Z"
   },
   {
    "duration": 27,
    "start_time": "2023-03-13T12:47:54.842Z"
   },
   {
    "duration": 18,
    "start_time": "2023-03-13T12:47:54.871Z"
   },
   {
    "duration": 374,
    "start_time": "2023-03-13T12:48:39.215Z"
   },
   {
    "duration": 41,
    "start_time": "2023-03-13T12:48:39.591Z"
   },
   {
    "duration": 12,
    "start_time": "2023-03-13T12:48:39.633Z"
   },
   {
    "duration": 6,
    "start_time": "2023-03-13T12:48:39.647Z"
   },
   {
    "duration": 16,
    "start_time": "2023-03-13T12:48:39.664Z"
   },
   {
    "duration": 9,
    "start_time": "2023-03-13T12:48:39.682Z"
   },
   {
    "duration": 88,
    "start_time": "2023-03-13T12:48:39.693Z"
   },
   {
    "duration": 12,
    "start_time": "2023-03-13T12:48:59.837Z"
   },
   {
    "duration": 423,
    "start_time": "2023-03-13T12:49:04.940Z"
   },
   {
    "duration": 42,
    "start_time": "2023-03-13T12:49:05.365Z"
   },
   {
    "duration": 12,
    "start_time": "2023-03-13T12:49:05.408Z"
   },
   {
    "duration": 26,
    "start_time": "2023-03-13T12:49:05.422Z"
   },
   {
    "duration": 36,
    "start_time": "2023-03-13T12:49:05.449Z"
   },
   {
    "duration": 24,
    "start_time": "2023-03-13T12:49:05.487Z"
   },
   {
    "duration": 22,
    "start_time": "2023-03-13T12:49:05.513Z"
   },
   {
    "duration": 19,
    "start_time": "2023-03-13T12:50:40.464Z"
   },
   {
    "duration": 14,
    "start_time": "2023-03-13T12:54:29.969Z"
   },
   {
    "duration": 11,
    "start_time": "2023-03-13T12:54:48.780Z"
   },
   {
    "duration": 397,
    "start_time": "2023-03-13T12:54:56.116Z"
   },
   {
    "duration": 55,
    "start_time": "2023-03-13T12:54:56.518Z"
   },
   {
    "duration": 16,
    "start_time": "2023-03-13T12:54:56.575Z"
   },
   {
    "duration": 19,
    "start_time": "2023-03-13T12:54:56.593Z"
   },
   {
    "duration": 18,
    "start_time": "2023-03-13T12:54:56.616Z"
   },
   {
    "duration": 9,
    "start_time": "2023-03-13T12:54:56.636Z"
   },
   {
    "duration": 15,
    "start_time": "2023-03-13T12:54:56.647Z"
   },
   {
    "duration": 21,
    "start_time": "2023-03-13T12:54:56.665Z"
   },
   {
    "duration": 32,
    "start_time": "2023-03-13T12:54:56.688Z"
   },
   {
    "duration": 605,
    "start_time": "2023-03-13T13:06:50.767Z"
   },
   {
    "duration": 324,
    "start_time": "2023-03-13T13:07:06.086Z"
   },
   {
    "duration": 658,
    "start_time": "2023-03-13T13:07:28.347Z"
   },
   {
    "duration": 40,
    "start_time": "2023-03-13T13:07:29.007Z"
   },
   {
    "duration": 11,
    "start_time": "2023-03-13T13:07:29.048Z"
   },
   {
    "duration": 22,
    "start_time": "2023-03-13T13:07:29.061Z"
   },
   {
    "duration": 13,
    "start_time": "2023-03-13T13:07:29.084Z"
   },
   {
    "duration": 8,
    "start_time": "2023-03-13T13:07:29.098Z"
   },
   {
    "duration": 15,
    "start_time": "2023-03-13T13:07:29.108Z"
   },
   {
    "duration": 14,
    "start_time": "2023-03-13T13:07:29.124Z"
   },
   {
    "duration": 12,
    "start_time": "2023-03-13T13:07:29.140Z"
   },
   {
    "duration": 235,
    "start_time": "2023-03-13T13:07:29.155Z"
   },
   {
    "duration": 209,
    "start_time": "2023-03-13T13:08:10.889Z"
   },
   {
    "duration": 258,
    "start_time": "2023-03-13T13:08:36.681Z"
   },
   {
    "duration": 248,
    "start_time": "2023-03-13T13:08:54.845Z"
   },
   {
    "duration": 133,
    "start_time": "2023-03-13T13:10:38.175Z"
   },
   {
    "duration": 145,
    "start_time": "2023-03-13T13:10:48.374Z"
   },
   {
    "duration": 4,
    "start_time": "2023-03-13T13:11:07.944Z"
   },
   {
    "duration": 5,
    "start_time": "2023-03-13T13:11:17.116Z"
   },
   {
    "duration": 139,
    "start_time": "2023-03-13T13:11:23.535Z"
   },
   {
    "duration": 192,
    "start_time": "2023-03-13T13:11:41.600Z"
   },
   {
    "duration": 177,
    "start_time": "2023-03-13T13:11:59.833Z"
   },
   {
    "duration": 512,
    "start_time": "2023-03-13T13:15:01.839Z"
   },
   {
    "duration": 1122,
    "start_time": "2023-03-13T13:15:07.336Z"
   },
   {
    "duration": 42,
    "start_time": "2023-03-13T13:15:08.460Z"
   },
   {
    "duration": 12,
    "start_time": "2023-03-13T13:15:08.504Z"
   },
   {
    "duration": 8,
    "start_time": "2023-03-13T13:15:08.517Z"
   },
   {
    "duration": 17,
    "start_time": "2023-03-13T13:15:08.526Z"
   },
   {
    "duration": 9,
    "start_time": "2023-03-13T13:15:08.545Z"
   },
   {
    "duration": 7,
    "start_time": "2023-03-13T13:15:08.556Z"
   },
   {
    "duration": 17,
    "start_time": "2023-03-13T13:15:08.564Z"
   },
   {
    "duration": 15,
    "start_time": "2023-03-13T13:15:08.583Z"
   },
   {
    "duration": 282,
    "start_time": "2023-03-13T13:15:08.600Z"
   },
   {
    "duration": 5,
    "start_time": "2023-03-13T13:15:08.883Z"
   },
   {
    "duration": 9,
    "start_time": "2023-03-13T13:15:08.889Z"
   },
   {
    "duration": 134,
    "start_time": "2023-03-13T13:15:08.899Z"
   },
   {
    "duration": 183,
    "start_time": "2023-03-13T13:15:09.034Z"
   },
   {
    "duration": 193,
    "start_time": "2023-03-13T13:15:09.219Z"
   },
   {
    "duration": 8,
    "start_time": "2023-03-13T13:15:31.384Z"
   },
   {
    "duration": 7,
    "start_time": "2023-03-13T13:15:42.727Z"
   },
   {
    "duration": 179,
    "start_time": "2023-03-13T13:15:55.144Z"
   },
   {
    "duration": 221,
    "start_time": "2023-03-13T13:16:24.805Z"
   },
   {
    "duration": 288,
    "start_time": "2023-03-13T13:16:44.893Z"
   },
   {
    "duration": 193,
    "start_time": "2023-03-13T13:16:49.623Z"
   },
   {
    "duration": 195,
    "start_time": "2023-03-13T13:16:54.208Z"
   },
   {
    "duration": 5,
    "start_time": "2023-03-13T13:17:05.308Z"
   },
   {
    "duration": 3023,
    "start_time": "2023-03-13T13:17:23.224Z"
   },
   {
    "duration": 2903,
    "start_time": "2023-03-13T13:17:36.959Z"
   },
   {
    "duration": 196,
    "start_time": "2023-03-13T13:18:00.235Z"
   },
   {
    "duration": 1049,
    "start_time": "2023-03-13T13:18:09.893Z"
   },
   {
    "duration": 41,
    "start_time": "2023-03-13T13:18:10.944Z"
   },
   {
    "duration": 12,
    "start_time": "2023-03-13T13:18:10.989Z"
   },
   {
    "duration": 21,
    "start_time": "2023-03-13T13:18:11.002Z"
   },
   {
    "duration": 17,
    "start_time": "2023-03-13T13:18:11.024Z"
   },
   {
    "duration": 10,
    "start_time": "2023-03-13T13:18:11.043Z"
   },
   {
    "duration": 15,
    "start_time": "2023-03-13T13:18:11.054Z"
   },
   {
    "duration": 19,
    "start_time": "2023-03-13T13:18:11.070Z"
   },
   {
    "duration": 12,
    "start_time": "2023-03-13T13:18:11.091Z"
   },
   {
    "duration": 259,
    "start_time": "2023-03-13T13:18:11.105Z"
   },
   {
    "duration": 4,
    "start_time": "2023-03-13T13:18:11.366Z"
   },
   {
    "duration": 19,
    "start_time": "2023-03-13T13:18:11.372Z"
   },
   {
    "duration": 144,
    "start_time": "2023-03-13T13:18:11.392Z"
   },
   {
    "duration": 179,
    "start_time": "2023-03-13T13:18:11.538Z"
   },
   {
    "duration": 194,
    "start_time": "2023-03-13T13:18:11.719Z"
   },
   {
    "duration": 7,
    "start_time": "2023-03-13T13:18:11.914Z"
   },
   {
    "duration": 186,
    "start_time": "2023-03-13T13:18:11.922Z"
   },
   {
    "duration": 204,
    "start_time": "2023-03-13T13:18:12.110Z"
   },
   {
    "duration": 254,
    "start_time": "2023-03-13T13:18:12.316Z"
   },
   {
    "duration": 68,
    "start_time": "2023-03-13T13:18:28.488Z"
   },
   {
    "duration": 89,
    "start_time": "2023-03-13T13:18:43.585Z"
   },
   {
    "duration": 5,
    "start_time": "2023-03-13T13:18:53.924Z"
   },
   {
    "duration": 112,
    "start_time": "2023-03-13T13:19:07.492Z"
   },
   {
    "duration": 117,
    "start_time": "2023-03-13T13:19:13.304Z"
   },
   {
    "duration": 145,
    "start_time": "2023-03-13T13:19:19.364Z"
   },
   {
    "duration": 134,
    "start_time": "2023-03-13T13:19:40.722Z"
   },
   {
    "duration": 141,
    "start_time": "2023-03-13T13:20:35.569Z"
   },
   {
    "duration": 1094,
    "start_time": "2023-03-13T13:20:49.039Z"
   },
   {
    "duration": 42,
    "start_time": "2023-03-13T13:20:50.135Z"
   },
   {
    "duration": 11,
    "start_time": "2023-03-13T13:20:50.178Z"
   },
   {
    "duration": 4,
    "start_time": "2023-03-13T13:20:50.191Z"
   },
   {
    "duration": 15,
    "start_time": "2023-03-13T13:20:50.197Z"
   },
   {
    "duration": 8,
    "start_time": "2023-03-13T13:20:50.214Z"
   },
   {
    "duration": 8,
    "start_time": "2023-03-13T13:20:50.223Z"
   },
   {
    "duration": 12,
    "start_time": "2023-03-13T13:20:50.233Z"
   },
   {
    "duration": 13,
    "start_time": "2023-03-13T13:20:50.264Z"
   },
   {
    "duration": 282,
    "start_time": "2023-03-13T13:20:50.279Z"
   },
   {
    "duration": 6,
    "start_time": "2023-03-13T13:20:50.562Z"
   },
   {
    "duration": 6,
    "start_time": "2023-03-13T13:20:50.569Z"
   },
   {
    "duration": 150,
    "start_time": "2023-03-13T13:20:50.577Z"
   },
   {
    "duration": 199,
    "start_time": "2023-03-13T13:20:50.729Z"
   },
   {
    "duration": 201,
    "start_time": "2023-03-13T13:20:50.930Z"
   },
   {
    "duration": 7,
    "start_time": "2023-03-13T13:20:51.133Z"
   },
   {
    "duration": 193,
    "start_time": "2023-03-13T13:20:51.141Z"
   },
   {
    "duration": 210,
    "start_time": "2023-03-13T13:20:51.336Z"
   },
   {
    "duration": 191,
    "start_time": "2023-03-13T13:20:51.548Z"
   },
   {
    "duration": 53,
    "start_time": "2023-03-13T17:56:11.754Z"
   },
   {
    "duration": 1412,
    "start_time": "2023-03-13T17:56:16.607Z"
   },
   {
    "duration": 98,
    "start_time": "2023-03-13T17:56:18.021Z"
   },
   {
    "duration": 15,
    "start_time": "2023-03-13T17:56:18.121Z"
   },
   {
    "duration": 35,
    "start_time": "2023-03-13T17:56:18.138Z"
   },
   {
    "duration": 40,
    "start_time": "2023-03-13T17:56:18.175Z"
   },
   {
    "duration": 43,
    "start_time": "2023-03-13T17:56:18.217Z"
   },
   {
    "duration": 38,
    "start_time": "2023-03-13T17:56:18.261Z"
   },
   {
    "duration": 47,
    "start_time": "2023-03-13T17:56:18.301Z"
   },
   {
    "duration": 35,
    "start_time": "2023-03-13T17:56:18.350Z"
   },
   {
    "duration": 349,
    "start_time": "2023-03-13T17:56:18.387Z"
   },
   {
    "duration": 6,
    "start_time": "2023-03-13T17:56:18.739Z"
   },
   {
    "duration": 38,
    "start_time": "2023-03-13T17:56:18.747Z"
   },
   {
    "duration": 174,
    "start_time": "2023-03-13T17:56:18.786Z"
   },
   {
    "duration": 238,
    "start_time": "2023-03-13T17:56:18.963Z"
   },
   {
    "duration": 227,
    "start_time": "2023-03-13T17:56:19.203Z"
   },
   {
    "duration": 9,
    "start_time": "2023-03-13T17:56:19.433Z"
   },
   {
    "duration": 238,
    "start_time": "2023-03-13T17:56:19.444Z"
   },
   {
    "duration": 255,
    "start_time": "2023-03-13T17:56:19.684Z"
   },
   {
    "duration": 240,
    "start_time": "2023-03-13T17:56:19.941Z"
   },
   {
    "duration": 241,
    "start_time": "2023-03-13T17:56:20.183Z"
   },
   {
    "duration": 149,
    "start_time": "2023-03-13T18:15:16.523Z"
   },
   {
    "duration": 166,
    "start_time": "2023-03-13T18:15:27.625Z"
   },
   {
    "duration": 391,
    "start_time": "2023-03-13T18:19:21.620Z"
   },
   {
    "duration": 345,
    "start_time": "2023-03-13T18:19:26.715Z"
   },
   {
    "duration": 339,
    "start_time": "2023-03-13T18:19:35.307Z"
   },
   {
    "duration": 263,
    "start_time": "2023-03-13T18:20:05.086Z"
   },
   {
    "duration": 373,
    "start_time": "2023-03-13T18:20:08.530Z"
   },
   {
    "duration": 390,
    "start_time": "2023-03-13T18:20:17.081Z"
   },
   {
    "duration": 940,
    "start_time": "2023-03-13T18:20:33.441Z"
   },
   {
    "duration": 353,
    "start_time": "2023-03-13T18:21:14.400Z"
   },
   {
    "duration": 154,
    "start_time": "2023-03-13T18:24:13.293Z"
   },
   {
    "duration": 357,
    "start_time": "2023-03-13T18:25:33.850Z"
   },
   {
    "duration": 184,
    "start_time": "2023-03-13T18:26:03.922Z"
   },
   {
    "duration": 246,
    "start_time": "2023-03-13T18:26:12.090Z"
   },
   {
    "duration": 301,
    "start_time": "2023-03-13T18:26:44.896Z"
   },
   {
    "duration": 336,
    "start_time": "2023-03-13T18:27:44.648Z"
   },
   {
    "duration": 1246,
    "start_time": "2023-03-13T18:27:57.349Z"
   },
   {
    "duration": 48,
    "start_time": "2023-03-13T18:27:58.598Z"
   },
   {
    "duration": 15,
    "start_time": "2023-03-13T18:27:58.648Z"
   },
   {
    "duration": 7,
    "start_time": "2023-03-13T18:27:58.666Z"
   },
   {
    "duration": 19,
    "start_time": "2023-03-13T18:27:58.674Z"
   },
   {
    "duration": 11,
    "start_time": "2023-03-13T18:27:58.694Z"
   },
   {
    "duration": 18,
    "start_time": "2023-03-13T18:27:58.707Z"
   },
   {
    "duration": 13,
    "start_time": "2023-03-13T18:27:58.727Z"
   },
   {
    "duration": 17,
    "start_time": "2023-03-13T18:27:58.763Z"
   },
   {
    "duration": 5,
    "start_time": "2023-03-13T18:27:58.784Z"
   },
   {
    "duration": 8,
    "start_time": "2023-03-13T18:27:58.790Z"
   },
   {
    "duration": 339,
    "start_time": "2023-03-13T18:27:58.800Z"
   },
   {
    "duration": 172,
    "start_time": "2023-03-13T18:27:59.141Z"
   },
   {
    "duration": 230,
    "start_time": "2023-03-13T18:27:59.316Z"
   },
   {
    "duration": 18,
    "start_time": "2023-03-13T18:27:59.548Z"
   },
   {
    "duration": 214,
    "start_time": "2023-03-13T18:27:59.568Z"
   },
   {
    "duration": 159,
    "start_time": "2023-03-13T18:27:59.783Z"
   },
   {
    "duration": 246,
    "start_time": "2023-03-13T18:27:59.944Z"
   },
   {
    "duration": 264,
    "start_time": "2023-03-13T18:28:00.192Z"
   },
   {
    "duration": 299,
    "start_time": "2023-03-13T18:28:12.824Z"
   },
   {
    "duration": 301,
    "start_time": "2023-03-13T18:29:21.200Z"
   },
   {
    "duration": 314,
    "start_time": "2023-03-13T18:29:31.889Z"
   },
   {
    "duration": 535,
    "start_time": "2023-03-13T18:35:20.512Z"
   },
   {
    "duration": 1239,
    "start_time": "2023-03-13T18:36:14.649Z"
   },
   {
    "duration": 47,
    "start_time": "2023-03-13T18:36:15.890Z"
   },
   {
    "duration": 17,
    "start_time": "2023-03-13T18:36:15.939Z"
   },
   {
    "duration": 23,
    "start_time": "2023-03-13T18:36:15.958Z"
   },
   {
    "duration": 20,
    "start_time": "2023-03-13T18:36:15.985Z"
   },
   {
    "duration": 13,
    "start_time": "2023-03-13T18:36:16.007Z"
   },
   {
    "duration": 18,
    "start_time": "2023-03-13T18:36:16.022Z"
   },
   {
    "duration": 17,
    "start_time": "2023-03-13T18:36:16.041Z"
   },
   {
    "duration": 16,
    "start_time": "2023-03-13T18:36:16.063Z"
   },
   {
    "duration": 9,
    "start_time": "2023-03-13T18:36:16.080Z"
   },
   {
    "duration": 19,
    "start_time": "2023-03-13T18:36:16.091Z"
   },
   {
    "duration": 333,
    "start_time": "2023-03-13T18:36:16.112Z"
   },
   {
    "duration": 164,
    "start_time": "2023-03-13T18:36:16.447Z"
   },
   {
    "duration": 238,
    "start_time": "2023-03-13T18:36:16.613Z"
   },
   {
    "duration": 18,
    "start_time": "2023-03-13T18:36:16.853Z"
   },
   {
    "duration": 217,
    "start_time": "2023-03-13T18:36:16.873Z"
   },
   {
    "duration": 160,
    "start_time": "2023-03-13T18:36:17.092Z"
   },
   {
    "duration": 248,
    "start_time": "2023-03-13T18:36:17.254Z"
   },
   {
    "duration": 251,
    "start_time": "2023-03-13T18:36:17.504Z"
   },
   {
    "duration": 1168,
    "start_time": "2023-03-13T18:50:39.730Z"
   },
   {
    "duration": 46,
    "start_time": "2023-03-13T18:50:40.901Z"
   },
   {
    "duration": 16,
    "start_time": "2023-03-13T18:50:40.949Z"
   },
   {
    "duration": 8,
    "start_time": "2023-03-13T18:50:40.968Z"
   },
   {
    "duration": 16,
    "start_time": "2023-03-13T18:50:40.978Z"
   },
   {
    "duration": 10,
    "start_time": "2023-03-13T18:50:40.996Z"
   },
   {
    "duration": 8,
    "start_time": "2023-03-13T18:50:41.008Z"
   },
   {
    "duration": 50,
    "start_time": "2023-03-13T18:50:41.018Z"
   },
   {
    "duration": 22,
    "start_time": "2023-03-13T18:50:41.070Z"
   },
   {
    "duration": 5,
    "start_time": "2023-03-13T18:50:41.095Z"
   },
   {
    "duration": 7,
    "start_time": "2023-03-13T18:50:41.102Z"
   },
   {
    "duration": 361,
    "start_time": "2023-03-13T18:50:41.111Z"
   },
   {
    "duration": 5,
    "start_time": "2023-03-13T18:50:51.078Z"
   },
   {
    "duration": 493,
    "start_time": "2023-03-13T18:51:37.708Z"
   },
   {
    "duration": 364,
    "start_time": "2023-03-13T18:51:46.507Z"
   },
   {
    "duration": 328,
    "start_time": "2023-03-13T18:51:59.446Z"
   },
   {
    "duration": 414,
    "start_time": "2023-03-13T18:52:07.447Z"
   },
   {
    "duration": 100,
    "start_time": "2023-03-13T18:52:37.511Z"
   },
   {
    "duration": 393,
    "start_time": "2023-03-13T18:52:45.169Z"
   },
   {
    "duration": 334,
    "start_time": "2023-03-13T18:53:08.845Z"
   },
   {
    "duration": 1128,
    "start_time": "2023-03-14T06:15:06.497Z"
   },
   {
    "duration": 85,
    "start_time": "2023-03-14T06:15:07.627Z"
   },
   {
    "duration": 12,
    "start_time": "2023-03-14T06:15:07.713Z"
   },
   {
    "duration": 5,
    "start_time": "2023-03-14T06:15:07.726Z"
   },
   {
    "duration": 13,
    "start_time": "2023-03-14T06:15:07.733Z"
   },
   {
    "duration": 8,
    "start_time": "2023-03-14T06:15:07.748Z"
   },
   {
    "duration": 4,
    "start_time": "2023-03-14T06:15:07.757Z"
   },
   {
    "duration": 11,
    "start_time": "2023-03-14T06:15:07.762Z"
   },
   {
    "duration": 10,
    "start_time": "2023-03-14T06:15:07.779Z"
   },
   {
    "duration": 9,
    "start_time": "2023-03-14T06:15:07.790Z"
   },
   {
    "duration": 6,
    "start_time": "2023-03-14T06:15:07.801Z"
   },
   {
    "duration": 263,
    "start_time": "2023-03-14T06:15:07.809Z"
   },
   {
    "duration": 114,
    "start_time": "2023-03-14T06:15:08.073Z"
   },
   {
    "duration": 161,
    "start_time": "2023-03-14T06:15:08.190Z"
   },
   {
    "duration": 6,
    "start_time": "2023-03-14T06:15:08.352Z"
   },
   {
    "duration": 178,
    "start_time": "2023-03-14T06:15:08.359Z"
   },
   {
    "duration": 118,
    "start_time": "2023-03-14T06:15:08.538Z"
   },
   {
    "duration": 174,
    "start_time": "2023-03-14T06:15:08.658Z"
   },
   {
    "duration": 176,
    "start_time": "2023-03-14T06:15:08.834Z"
   },
   {
    "duration": 280,
    "start_time": "2023-03-14T06:15:13.978Z"
   },
   {
    "duration": 246,
    "start_time": "2023-03-14T06:15:49.438Z"
   },
   {
    "duration": 268,
    "start_time": "2023-03-14T06:16:28.284Z"
   },
   {
    "duration": 264,
    "start_time": "2023-03-14T06:16:33.780Z"
   },
   {
    "duration": 245,
    "start_time": "2023-03-14T06:16:48.378Z"
   },
   {
    "duration": 290,
    "start_time": "2023-03-14T06:16:53.415Z"
   },
   {
    "duration": 1053,
    "start_time": "2023-03-14T06:17:42.773Z"
   },
   {
    "duration": 38,
    "start_time": "2023-03-14T06:17:43.828Z"
   },
   {
    "duration": 12,
    "start_time": "2023-03-14T06:17:43.867Z"
   },
   {
    "duration": 12,
    "start_time": "2023-03-14T06:17:43.880Z"
   },
   {
    "duration": 13,
    "start_time": "2023-03-14T06:17:43.895Z"
   },
   {
    "duration": 8,
    "start_time": "2023-03-14T06:17:43.910Z"
   },
   {
    "duration": 5,
    "start_time": "2023-03-14T06:17:43.919Z"
   },
   {
    "duration": 9,
    "start_time": "2023-03-14T06:17:43.925Z"
   },
   {
    "duration": 11,
    "start_time": "2023-03-14T06:17:43.935Z"
   },
   {
    "duration": 386,
    "start_time": "2023-03-14T06:22:12.874Z"
   },
   {
    "duration": 8,
    "start_time": "2023-03-14T06:22:29.225Z"
   },
   {
    "duration": 3,
    "start_time": "2023-03-14T06:22:36.273Z"
   },
   {
    "duration": 3,
    "start_time": "2023-03-14T06:22:58.946Z"
   },
   {
    "duration": 993,
    "start_time": "2023-03-14T06:23:32.807Z"
   },
   {
    "duration": 39,
    "start_time": "2023-03-14T06:23:33.801Z"
   },
   {
    "duration": 10,
    "start_time": "2023-03-14T06:23:33.842Z"
   },
   {
    "duration": 11,
    "start_time": "2023-03-14T06:23:33.853Z"
   },
   {
    "duration": 16,
    "start_time": "2023-03-14T06:23:33.866Z"
   },
   {
    "duration": 9,
    "start_time": "2023-03-14T06:23:33.883Z"
   },
   {
    "duration": 6,
    "start_time": "2023-03-14T06:23:33.894Z"
   },
   {
    "duration": 27,
    "start_time": "2023-03-14T06:23:33.901Z"
   },
   {
    "duration": 13,
    "start_time": "2023-03-14T06:23:33.929Z"
   },
   {
    "duration": 3,
    "start_time": "2023-03-14T06:23:33.943Z"
   },
   {
    "duration": 7,
    "start_time": "2023-03-14T06:23:33.948Z"
   },
   {
    "duration": 1360,
    "start_time": "2023-03-14T13:01:21.770Z"
   },
   {
    "duration": 138,
    "start_time": "2023-03-14T13:01:23.132Z"
   },
   {
    "duration": 15,
    "start_time": "2023-03-14T13:01:23.272Z"
   },
   {
    "duration": 6,
    "start_time": "2023-03-14T13:01:23.290Z"
   },
   {
    "duration": 13,
    "start_time": "2023-03-14T13:01:23.298Z"
   },
   {
    "duration": 9,
    "start_time": "2023-03-14T13:01:23.313Z"
   },
   {
    "duration": 15,
    "start_time": "2023-03-14T13:01:23.324Z"
   },
   {
    "duration": 12,
    "start_time": "2023-03-14T13:01:23.342Z"
   },
   {
    "duration": 39,
    "start_time": "2023-03-14T13:01:23.356Z"
   },
   {
    "duration": 4,
    "start_time": "2023-03-14T13:01:23.397Z"
   },
   {
    "duration": 15,
    "start_time": "2023-03-14T13:01:23.402Z"
   },
   {
    "duration": 347,
    "start_time": "2023-03-14T13:01:23.419Z"
   },
   {
    "duration": 182,
    "start_time": "2023-03-14T13:01:30.898Z"
   },
   {
    "duration": 209,
    "start_time": "2023-03-14T13:01:37.110Z"
   },
   {
    "duration": 204,
    "start_time": "2023-03-14T13:01:40.949Z"
   },
   {
    "duration": 221,
    "start_time": "2023-03-14T13:01:46.550Z"
   },
   {
    "duration": 192,
    "start_time": "2023-03-14T13:02:02.509Z"
   },
   {
    "duration": 303,
    "start_time": "2023-03-14T13:02:12.581Z"
   },
   {
    "duration": 397,
    "start_time": "2023-03-14T13:02:43.972Z"
   },
   {
    "duration": 1074,
    "start_time": "2023-03-14T13:03:15.750Z"
   },
   {
    "duration": 44,
    "start_time": "2023-03-14T13:03:16.826Z"
   },
   {
    "duration": 12,
    "start_time": "2023-03-14T13:03:16.872Z"
   },
   {
    "duration": 5,
    "start_time": "2023-03-14T13:03:16.886Z"
   },
   {
    "duration": 13,
    "start_time": "2023-03-14T13:03:16.893Z"
   },
   {
    "duration": 10,
    "start_time": "2023-03-14T13:03:16.907Z"
   },
   {
    "duration": 8,
    "start_time": "2023-03-14T13:03:16.918Z"
   },
   {
    "duration": 10,
    "start_time": "2023-03-14T13:03:16.928Z"
   },
   {
    "duration": 13,
    "start_time": "2023-03-14T13:03:16.940Z"
   },
   {
    "duration": 34,
    "start_time": "2023-03-14T13:03:16.955Z"
   },
   {
    "duration": 4,
    "start_time": "2023-03-14T13:03:16.991Z"
   },
   {
    "duration": 282,
    "start_time": "2023-03-14T13:03:16.997Z"
   },
   {
    "duration": 132,
    "start_time": "2023-03-14T13:30:58.922Z"
   },
   {
    "duration": 158,
    "start_time": "2023-03-14T13:31:13.159Z"
   },
   {
    "duration": 155,
    "start_time": "2023-03-14T13:31:30.422Z"
   },
   {
    "duration": 181,
    "start_time": "2023-03-14T13:31:57.923Z"
   },
   {
    "duration": 182,
    "start_time": "2023-03-14T13:32:04.517Z"
   },
   {
    "duration": 368,
    "start_time": "2023-03-14T13:43:39.307Z"
   },
   {
    "duration": 480,
    "start_time": "2023-03-14T13:43:56.984Z"
   },
   {
    "duration": 408,
    "start_time": "2023-03-14T13:44:05.593Z"
   },
   {
    "duration": 563,
    "start_time": "2023-03-14T13:46:44.210Z"
   },
   {
    "duration": 539,
    "start_time": "2023-03-14T13:47:30.741Z"
   },
   {
    "duration": 686,
    "start_time": "2023-03-14T13:47:47.181Z"
   },
   {
    "duration": 671,
    "start_time": "2023-03-14T13:48:00.007Z"
   },
   {
    "duration": 588,
    "start_time": "2023-03-14T13:48:35.579Z"
   },
   {
    "duration": 732,
    "start_time": "2023-03-14T13:49:09.123Z"
   },
   {
    "duration": 104,
    "start_time": "2023-03-14T13:49:32.530Z"
   },
   {
    "duration": 594,
    "start_time": "2023-03-14T13:49:40.107Z"
   },
   {
    "duration": 712,
    "start_time": "2023-03-14T13:51:42.016Z"
   },
   {
    "duration": 977,
    "start_time": "2023-03-14T13:52:14.675Z"
   },
   {
    "duration": 812,
    "start_time": "2023-03-14T13:52:30.022Z"
   },
   {
    "duration": 871,
    "start_time": "2023-03-14T13:52:51.733Z"
   },
   {
    "duration": 780,
    "start_time": "2023-03-14T13:59:07.821Z"
   },
   {
    "duration": 817,
    "start_time": "2023-03-14T13:59:32.721Z"
   },
   {
    "duration": 1132,
    "start_time": "2023-03-14T14:02:55.955Z"
   },
   {
    "duration": 40,
    "start_time": "2023-03-14T14:02:57.089Z"
   },
   {
    "duration": 11,
    "start_time": "2023-03-14T14:02:57.131Z"
   },
   {
    "duration": 12,
    "start_time": "2023-03-14T14:02:57.144Z"
   },
   {
    "duration": 15,
    "start_time": "2023-03-14T14:02:57.158Z"
   },
   {
    "duration": 10,
    "start_time": "2023-03-14T14:02:57.174Z"
   },
   {
    "duration": 7,
    "start_time": "2023-03-14T14:02:57.185Z"
   },
   {
    "duration": 10,
    "start_time": "2023-03-14T14:02:57.194Z"
   },
   {
    "duration": 15,
    "start_time": "2023-03-14T14:02:57.206Z"
   },
   {
    "duration": 3,
    "start_time": "2023-03-14T14:02:57.224Z"
   },
   {
    "duration": 8,
    "start_time": "2023-03-14T14:02:57.229Z"
   },
   {
    "duration": 802,
    "start_time": "2023-03-14T14:02:57.239Z"
   },
   {
    "duration": 160,
    "start_time": "2023-03-14T14:02:58.043Z"
   },
   {
    "duration": 214,
    "start_time": "2023-03-14T14:04:51.836Z"
   },
   {
    "duration": 219,
    "start_time": "2023-03-14T14:11:36.923Z"
   },
   {
    "duration": 213,
    "start_time": "2023-03-14T14:12:11.555Z"
   },
   {
    "duration": 1114,
    "start_time": "2023-03-14T14:13:45.776Z"
   },
   {
    "duration": 41,
    "start_time": "2023-03-14T14:13:46.892Z"
   },
   {
    "duration": 14,
    "start_time": "2023-03-14T14:13:46.934Z"
   },
   {
    "duration": 12,
    "start_time": "2023-03-14T14:13:46.950Z"
   },
   {
    "duration": 13,
    "start_time": "2023-03-14T14:13:46.963Z"
   },
   {
    "duration": 11,
    "start_time": "2023-03-14T14:13:46.978Z"
   },
   {
    "duration": 14,
    "start_time": "2023-03-14T14:13:46.991Z"
   },
   {
    "duration": 26,
    "start_time": "2023-03-14T14:13:47.007Z"
   },
   {
    "duration": 15,
    "start_time": "2023-03-14T14:13:47.035Z"
   },
   {
    "duration": 3,
    "start_time": "2023-03-14T14:13:47.053Z"
   },
   {
    "duration": 6,
    "start_time": "2023-03-14T14:13:47.057Z"
   },
   {
    "duration": 780,
    "start_time": "2023-03-14T14:13:47.065Z"
   },
   {
    "duration": 237,
    "start_time": "2023-03-14T14:13:47.847Z"
   },
   {
    "duration": 1125,
    "start_time": "2023-03-14T14:14:23.083Z"
   },
   {
    "duration": 41,
    "start_time": "2023-03-14T14:14:24.210Z"
   },
   {
    "duration": 17,
    "start_time": "2023-03-14T14:14:24.253Z"
   },
   {
    "duration": 15,
    "start_time": "2023-03-14T14:14:24.272Z"
   },
   {
    "duration": 20,
    "start_time": "2023-03-14T14:14:24.289Z"
   },
   {
    "duration": 10,
    "start_time": "2023-03-14T14:14:24.311Z"
   },
   {
    "duration": 9,
    "start_time": "2023-03-14T14:14:24.322Z"
   },
   {
    "duration": 15,
    "start_time": "2023-03-14T14:14:24.332Z"
   },
   {
    "duration": 51,
    "start_time": "2023-03-14T14:14:24.349Z"
   },
   {
    "duration": 4,
    "start_time": "2023-03-14T14:14:24.402Z"
   },
   {
    "duration": 5,
    "start_time": "2023-03-14T14:14:24.407Z"
   },
   {
    "duration": 839,
    "start_time": "2023-03-14T14:14:24.414Z"
   },
   {
    "duration": 246,
    "start_time": "2023-03-14T14:14:25.255Z"
   },
   {
    "duration": 1063,
    "start_time": "2023-03-14T14:15:39.499Z"
   },
   {
    "duration": 874,
    "start_time": "2023-03-14T14:15:50.285Z"
   },
   {
    "duration": 1115,
    "start_time": "2023-03-14T14:16:42.455Z"
   },
   {
    "duration": 40,
    "start_time": "2023-03-14T14:16:43.572Z"
   },
   {
    "duration": 12,
    "start_time": "2023-03-14T14:16:43.613Z"
   },
   {
    "duration": 22,
    "start_time": "2023-03-14T14:16:43.628Z"
   },
   {
    "duration": 17,
    "start_time": "2023-03-14T14:16:43.652Z"
   },
   {
    "duration": 10,
    "start_time": "2023-03-14T14:16:43.671Z"
   },
   {
    "duration": 17,
    "start_time": "2023-03-14T14:16:43.682Z"
   },
   {
    "duration": 17,
    "start_time": "2023-03-14T14:16:43.701Z"
   },
   {
    "duration": 23,
    "start_time": "2023-03-14T14:16:43.720Z"
   },
   {
    "duration": 11,
    "start_time": "2023-03-14T14:16:43.746Z"
   },
   {
    "duration": 13,
    "start_time": "2023-03-14T14:16:43.759Z"
   },
   {
    "duration": 915,
    "start_time": "2023-03-14T14:16:43.774Z"
   },
   {
    "duration": 250,
    "start_time": "2023-03-14T14:16:44.691Z"
   },
   {
    "duration": 266,
    "start_time": "2023-03-14T14:28:28.211Z"
   },
   {
    "duration": 152,
    "start_time": "2023-03-14T14:29:09.403Z"
   },
   {
    "duration": 223,
    "start_time": "2023-03-14T14:29:18.501Z"
   },
   {
    "duration": 95,
    "start_time": "2023-03-14T14:30:18.329Z"
   },
   {
    "duration": 220,
    "start_time": "2023-03-14T14:30:27.241Z"
   },
   {
    "duration": 201,
    "start_time": "2023-03-14T14:30:36.468Z"
   },
   {
    "duration": 219,
    "start_time": "2023-03-14T14:30:45.331Z"
   },
   {
    "duration": 225,
    "start_time": "2023-03-14T14:31:07.173Z"
   },
   {
    "duration": 197,
    "start_time": "2023-03-14T14:31:17.009Z"
   },
   {
    "duration": 228,
    "start_time": "2023-03-14T14:31:32.776Z"
   },
   {
    "duration": 132,
    "start_time": "2023-03-14T14:33:14.653Z"
   },
   {
    "duration": 133,
    "start_time": "2023-03-14T14:33:23.198Z"
   },
   {
    "duration": 216,
    "start_time": "2023-03-14T14:33:37.173Z"
   },
   {
    "duration": 218,
    "start_time": "2023-03-14T14:33:41.670Z"
   },
   {
    "duration": 208,
    "start_time": "2023-03-14T14:33:49.198Z"
   },
   {
    "duration": 225,
    "start_time": "2023-03-14T14:34:00.620Z"
   },
   {
    "duration": 206,
    "start_time": "2023-03-14T14:34:10.332Z"
   },
   {
    "duration": 321,
    "start_time": "2023-03-14T14:34:37.818Z"
   },
   {
    "duration": 229,
    "start_time": "2023-03-14T14:35:16.026Z"
   },
   {
    "duration": 222,
    "start_time": "2023-03-14T14:35:39.026Z"
   },
   {
    "duration": 11,
    "start_time": "2023-03-14T14:36:10.114Z"
   },
   {
    "duration": 12,
    "start_time": "2023-03-14T14:36:19.697Z"
   },
   {
    "duration": 12,
    "start_time": "2023-03-14T14:36:28.049Z"
   },
   {
    "duration": 12,
    "start_time": "2023-03-14T14:36:39.114Z"
   },
   {
    "duration": 218,
    "start_time": "2023-03-14T14:36:58.520Z"
   },
   {
    "duration": 249,
    "start_time": "2023-03-14T14:37:19.919Z"
   },
   {
    "duration": 130,
    "start_time": "2023-03-14T14:37:30.047Z"
   },
   {
    "duration": 1099,
    "start_time": "2023-03-14T14:37:38.264Z"
   },
   {
    "duration": 39,
    "start_time": "2023-03-14T14:37:39.365Z"
   },
   {
    "duration": 19,
    "start_time": "2023-03-14T14:37:39.406Z"
   },
   {
    "duration": 7,
    "start_time": "2023-03-14T14:37:39.428Z"
   },
   {
    "duration": 22,
    "start_time": "2023-03-14T14:37:39.436Z"
   },
   {
    "duration": 24,
    "start_time": "2023-03-14T14:37:39.460Z"
   },
   {
    "duration": 11,
    "start_time": "2023-03-14T14:37:39.486Z"
   },
   {
    "duration": 19,
    "start_time": "2023-03-14T14:37:39.499Z"
   },
   {
    "duration": 14,
    "start_time": "2023-03-14T14:37:39.520Z"
   },
   {
    "duration": 4,
    "start_time": "2023-03-14T14:37:39.536Z"
   },
   {
    "duration": 6,
    "start_time": "2023-03-14T14:37:39.541Z"
   },
   {
    "duration": 937,
    "start_time": "2023-03-14T14:37:39.548Z"
   },
   {
    "duration": 245,
    "start_time": "2023-03-14T14:37:40.487Z"
   },
   {
    "duration": 1132,
    "start_time": "2023-03-14T14:38:40.251Z"
   },
   {
    "duration": 40,
    "start_time": "2023-03-14T14:38:41.385Z"
   },
   {
    "duration": 13,
    "start_time": "2023-03-14T14:38:41.426Z"
   },
   {
    "duration": 27,
    "start_time": "2023-03-14T14:38:41.441Z"
   },
   {
    "duration": 21,
    "start_time": "2023-03-14T14:38:41.469Z"
   },
   {
    "duration": 27,
    "start_time": "2023-03-14T14:38:41.492Z"
   },
   {
    "duration": 19,
    "start_time": "2023-03-14T14:38:41.521Z"
   },
   {
    "duration": 22,
    "start_time": "2023-03-14T14:38:41.542Z"
   },
   {
    "duration": 36,
    "start_time": "2023-03-14T14:38:41.565Z"
   },
   {
    "duration": 3,
    "start_time": "2023-03-14T14:38:41.604Z"
   },
   {
    "duration": 18,
    "start_time": "2023-03-14T14:38:41.608Z"
   },
   {
    "duration": 932,
    "start_time": "2023-03-14T14:38:41.627Z"
   },
   {
    "duration": 233,
    "start_time": "2023-03-14T14:38:42.561Z"
   },
   {
    "duration": 1056,
    "start_time": "2023-03-14T14:56:11.414Z"
   },
   {
    "duration": 39,
    "start_time": "2023-03-14T14:56:12.472Z"
   },
   {
    "duration": 13,
    "start_time": "2023-03-14T14:56:12.513Z"
   },
   {
    "duration": 5,
    "start_time": "2023-03-14T14:56:12.528Z"
   },
   {
    "duration": 12,
    "start_time": "2023-03-14T14:56:12.536Z"
   },
   {
    "duration": 8,
    "start_time": "2023-03-14T14:56:12.550Z"
   },
   {
    "duration": 8,
    "start_time": "2023-03-14T14:56:12.560Z"
   },
   {
    "duration": 10,
    "start_time": "2023-03-14T14:56:12.587Z"
   },
   {
    "duration": 13,
    "start_time": "2023-03-14T14:56:12.599Z"
   },
   {
    "duration": 3,
    "start_time": "2023-03-14T14:56:12.614Z"
   },
   {
    "duration": 6,
    "start_time": "2023-03-14T14:56:12.618Z"
   },
   {
    "duration": 932,
    "start_time": "2023-03-14T14:56:12.625Z"
   },
   {
    "duration": 232,
    "start_time": "2023-03-14T14:56:13.559Z"
   },
   {
    "duration": 96,
    "start_time": "2023-03-14T15:05:40.712Z"
   },
   {
    "duration": 4,
    "start_time": "2023-03-14T15:05:56.904Z"
   },
   {
    "duration": 8,
    "start_time": "2023-03-14T15:06:10.704Z"
   },
   {
    "duration": 11,
    "start_time": "2023-03-14T15:06:43.024Z"
   },
   {
    "duration": 14,
    "start_time": "2023-03-14T15:07:03.943Z"
   },
   {
    "duration": 12,
    "start_time": "2023-03-14T15:08:03.710Z"
   },
   {
    "duration": 16,
    "start_time": "2023-03-14T15:08:14.416Z"
   },
   {
    "duration": 18,
    "start_time": "2023-03-14T15:08:47.701Z"
   },
   {
    "duration": 1073,
    "start_time": "2023-03-14T15:12:07.205Z"
   },
   {
    "duration": 40,
    "start_time": "2023-03-14T15:12:08.280Z"
   },
   {
    "duration": 12,
    "start_time": "2023-03-14T15:12:08.324Z"
   },
   {
    "duration": 9,
    "start_time": "2023-03-14T15:12:08.338Z"
   },
   {
    "duration": 22,
    "start_time": "2023-03-14T15:12:08.348Z"
   },
   {
    "duration": 9,
    "start_time": "2023-03-14T15:12:08.372Z"
   },
   {
    "duration": 20,
    "start_time": "2023-03-14T15:12:08.388Z"
   },
   {
    "duration": 11,
    "start_time": "2023-03-14T15:12:08.409Z"
   },
   {
    "duration": 14,
    "start_time": "2023-03-14T15:12:08.422Z"
   },
   {
    "duration": 6,
    "start_time": "2023-03-14T15:12:08.437Z"
   },
   {
    "duration": 6,
    "start_time": "2023-03-14T15:12:08.445Z"
   },
   {
    "duration": 896,
    "start_time": "2023-03-14T15:12:08.453Z"
   },
   {
    "duration": 241,
    "start_time": "2023-03-14T15:12:09.350Z"
   },
   {
    "duration": 14,
    "start_time": "2023-03-14T15:12:09.592Z"
   },
   {
    "duration": 1429,
    "start_time": "2023-03-14T18:30:18.100Z"
   },
   {
    "duration": 194,
    "start_time": "2023-03-14T18:30:19.531Z"
   },
   {
    "duration": 16,
    "start_time": "2023-03-14T18:30:19.728Z"
   },
   {
    "duration": 10,
    "start_time": "2023-03-14T18:30:19.746Z"
   },
   {
    "duration": 25,
    "start_time": "2023-03-14T18:30:19.758Z"
   },
   {
    "duration": 16,
    "start_time": "2023-03-14T18:30:19.791Z"
   },
   {
    "duration": 6,
    "start_time": "2023-03-14T18:30:19.809Z"
   },
   {
    "duration": 12,
    "start_time": "2023-03-14T18:30:19.817Z"
   },
   {
    "duration": 14,
    "start_time": "2023-03-14T18:30:19.830Z"
   },
   {
    "duration": 4,
    "start_time": "2023-03-14T18:30:19.845Z"
   },
   {
    "duration": 25,
    "start_time": "2023-03-14T18:30:19.850Z"
   },
   {
    "duration": 1047,
    "start_time": "2023-03-14T18:30:19.876Z"
   },
   {
    "duration": 328,
    "start_time": "2023-03-14T18:30:20.925Z"
   },
   {
    "duration": 35,
    "start_time": "2023-03-14T18:30:21.256Z"
   },
   {
    "duration": 1068,
    "start_time": "2023-03-14T18:30:21.293Z"
   },
   {
    "duration": 101,
    "start_time": "2023-03-14T18:30:34.234Z"
   },
   {
    "duration": 1198,
    "start_time": "2023-03-14T18:31:19.155Z"
   },
   {
    "duration": 52,
    "start_time": "2023-03-14T18:31:20.355Z"
   },
   {
    "duration": 12,
    "start_time": "2023-03-14T18:31:20.409Z"
   },
   {
    "duration": 9,
    "start_time": "2023-03-14T18:31:20.424Z"
   },
   {
    "duration": 24,
    "start_time": "2023-03-14T18:31:20.435Z"
   },
   {
    "duration": 37,
    "start_time": "2023-03-14T18:31:20.472Z"
   },
   {
    "duration": 6,
    "start_time": "2023-03-14T18:31:20.511Z"
   },
   {
    "duration": 27,
    "start_time": "2023-03-14T18:31:20.518Z"
   },
   {
    "duration": 32,
    "start_time": "2023-03-14T18:31:20.546Z"
   },
   {
    "duration": 38,
    "start_time": "2023-03-14T18:31:20.581Z"
   },
   {
    "duration": 26,
    "start_time": "2023-03-14T18:31:20.620Z"
   },
   {
    "duration": 1013,
    "start_time": "2023-03-14T18:31:20.648Z"
   },
   {
    "duration": 281,
    "start_time": "2023-03-14T18:31:21.663Z"
   },
   {
    "duration": 30,
    "start_time": "2023-03-14T18:31:21.945Z"
   },
   {
    "duration": 32,
    "start_time": "2023-03-14T18:31:21.985Z"
   },
   {
    "duration": 1288,
    "start_time": "2023-03-14T18:41:40.248Z"
   },
   {
    "duration": 53,
    "start_time": "2023-03-14T18:41:41.538Z"
   },
   {
    "duration": 14,
    "start_time": "2023-03-14T18:41:41.601Z"
   },
   {
    "duration": 7,
    "start_time": "2023-03-14T18:41:41.617Z"
   },
   {
    "duration": 14,
    "start_time": "2023-03-14T18:41:41.627Z"
   },
   {
    "duration": 10,
    "start_time": "2023-03-14T18:41:41.643Z"
   },
   {
    "duration": 17,
    "start_time": "2023-03-14T18:41:41.659Z"
   },
   {
    "duration": 51,
    "start_time": "2023-03-14T18:41:41.678Z"
   },
   {
    "duration": 16,
    "start_time": "2023-03-14T18:41:41.730Z"
   },
   {
    "duration": 4,
    "start_time": "2023-03-14T18:41:41.748Z"
   },
   {
    "duration": 7,
    "start_time": "2023-03-14T18:41:41.754Z"
   },
   {
    "duration": 1103,
    "start_time": "2023-03-14T18:41:41.762Z"
   },
   {
    "duration": 300,
    "start_time": "2023-03-14T18:41:42.867Z"
   },
   {
    "duration": 32,
    "start_time": "2023-03-14T18:41:43.169Z"
   },
   {
    "duration": 22,
    "start_time": "2023-03-14T18:41:43.208Z"
   },
   {
    "duration": 1291,
    "start_time": "2023-03-14T18:42:25.547Z"
   },
   {
    "duration": 51,
    "start_time": "2023-03-14T18:42:26.839Z"
   },
   {
    "duration": 18,
    "start_time": "2023-03-14T18:42:26.896Z"
   },
   {
    "duration": 7,
    "start_time": "2023-03-14T18:42:26.916Z"
   },
   {
    "duration": 16,
    "start_time": "2023-03-14T18:42:26.925Z"
   },
   {
    "duration": 10,
    "start_time": "2023-03-14T18:42:26.943Z"
   },
   {
    "duration": 10,
    "start_time": "2023-03-14T18:42:26.954Z"
   },
   {
    "duration": 23,
    "start_time": "2023-03-14T18:42:26.971Z"
   },
   {
    "duration": 21,
    "start_time": "2023-03-14T18:42:27.004Z"
   },
   {
    "duration": 4,
    "start_time": "2023-03-14T18:42:27.027Z"
   },
   {
    "duration": 5,
    "start_time": "2023-03-14T18:42:27.033Z"
   },
   {
    "duration": 1113,
    "start_time": "2023-03-14T18:42:27.040Z"
   },
   {
    "duration": 334,
    "start_time": "2023-03-14T18:42:28.155Z"
   },
   {
    "duration": 17,
    "start_time": "2023-03-14T18:42:28.491Z"
   },
   {
    "duration": 20,
    "start_time": "2023-03-14T18:42:28.510Z"
   },
   {
    "duration": 277,
    "start_time": "2023-03-14T18:53:53.014Z"
   },
   {
    "duration": 336,
    "start_time": "2023-03-14T18:54:19.743Z"
   },
   {
    "duration": 256,
    "start_time": "2023-03-14T18:54:41.288Z"
   },
   {
    "duration": 225,
    "start_time": "2023-03-14T18:54:52.126Z"
   },
   {
    "duration": 317,
    "start_time": "2023-03-14T18:57:05.996Z"
   },
   {
    "duration": 1307,
    "start_time": "2023-03-14T18:57:24.011Z"
   },
   {
    "duration": 47,
    "start_time": "2023-03-14T18:57:25.321Z"
   },
   {
    "duration": 18,
    "start_time": "2023-03-14T18:57:25.370Z"
   },
   {
    "duration": 41,
    "start_time": "2023-03-14T18:57:25.390Z"
   },
   {
    "duration": 19,
    "start_time": "2023-03-14T18:57:25.436Z"
   },
   {
    "duration": 18,
    "start_time": "2023-03-14T18:57:25.457Z"
   },
   {
    "duration": 44,
    "start_time": "2023-03-14T18:57:25.484Z"
   },
   {
    "duration": 18,
    "start_time": "2023-03-14T18:57:25.529Z"
   },
   {
    "duration": 16,
    "start_time": "2023-03-14T18:57:25.549Z"
   },
   {
    "duration": 15,
    "start_time": "2023-03-14T18:57:25.567Z"
   },
   {
    "duration": 29,
    "start_time": "2023-03-14T18:57:25.584Z"
   },
   {
    "duration": 1091,
    "start_time": "2023-03-14T18:57:25.615Z"
   },
   {
    "duration": 357,
    "start_time": "2023-03-14T18:57:26.708Z"
   },
   {
    "duration": 28,
    "start_time": "2023-03-14T18:57:27.069Z"
   },
   {
    "duration": 310,
    "start_time": "2023-03-14T18:57:27.104Z"
   },
   {
    "duration": 26,
    "start_time": "2023-03-14T18:57:27.415Z"
   },
   {
    "duration": 348,
    "start_time": "2023-03-14T19:03:31.161Z"
   },
   {
    "duration": 345,
    "start_time": "2023-03-14T19:03:35.265Z"
   },
   {
    "duration": 243,
    "start_time": "2023-03-14T19:03:39.618Z"
   },
   {
    "duration": 275,
    "start_time": "2023-03-14T19:03:46.369Z"
   },
   {
    "duration": 273,
    "start_time": "2023-03-14T19:05:58.933Z"
   },
   {
    "duration": 289,
    "start_time": "2023-03-14T19:06:28.612Z"
   },
   {
    "duration": 1262,
    "start_time": "2023-03-14T19:08:37.553Z"
   },
   {
    "duration": 43,
    "start_time": "2023-03-14T19:08:38.819Z"
   },
   {
    "duration": 20,
    "start_time": "2023-03-14T19:08:38.863Z"
   },
   {
    "duration": 32,
    "start_time": "2023-03-14T19:08:38.885Z"
   },
   {
    "duration": 22,
    "start_time": "2023-03-14T19:08:38.919Z"
   },
   {
    "duration": 14,
    "start_time": "2023-03-14T19:08:38.943Z"
   },
   {
    "duration": 30,
    "start_time": "2023-03-14T19:08:38.958Z"
   },
   {
    "duration": 36,
    "start_time": "2023-03-14T19:08:38.995Z"
   },
   {
    "duration": 24,
    "start_time": "2023-03-14T19:08:39.033Z"
   },
   {
    "duration": 4,
    "start_time": "2023-03-14T19:08:39.060Z"
   },
   {
    "duration": 38,
    "start_time": "2023-03-14T19:08:39.065Z"
   },
   {
    "duration": 1056,
    "start_time": "2023-03-14T19:08:39.105Z"
   },
   {
    "duration": 322,
    "start_time": "2023-03-14T19:08:40.162Z"
   },
   {
    "duration": 24,
    "start_time": "2023-03-14T19:08:40.489Z"
   },
   {
    "duration": 250,
    "start_time": "2023-03-14T19:08:40.515Z"
   },
   {
    "duration": 314,
    "start_time": "2023-03-14T19:08:40.767Z"
   },
   {
    "duration": 23,
    "start_time": "2023-03-14T19:08:41.083Z"
   },
   {
    "duration": 243,
    "start_time": "2023-03-14T19:10:24.390Z"
   },
   {
    "duration": 274,
    "start_time": "2023-03-14T19:10:36.935Z"
   },
   {
    "duration": 260,
    "start_time": "2023-03-14T19:10:49.504Z"
   },
   {
    "duration": 229,
    "start_time": "2023-03-14T19:10:55.385Z"
   },
   {
    "duration": 229,
    "start_time": "2023-03-14T19:11:00.300Z"
   },
   {
    "duration": 390,
    "start_time": "2023-03-14T19:11:04.414Z"
   },
   {
    "duration": 227,
    "start_time": "2023-03-14T19:11:08.734Z"
   },
   {
    "duration": 262,
    "start_time": "2023-03-14T19:11:12.591Z"
   },
   {
    "duration": 11820,
    "start_time": "2023-03-14T19:11:34.897Z"
   },
   {
    "duration": 238,
    "start_time": "2023-03-14T19:12:03.821Z"
   },
   {
    "duration": 257,
    "start_time": "2023-03-14T19:12:10.653Z"
   },
   {
    "duration": 260,
    "start_time": "2023-03-14T19:12:20.924Z"
   },
   {
    "duration": 268,
    "start_time": "2023-03-14T19:12:25.222Z"
   },
   {
    "duration": 1305,
    "start_time": "2023-03-14T19:13:26.855Z"
   },
   {
    "duration": 68,
    "start_time": "2023-03-14T19:13:28.162Z"
   },
   {
    "duration": 14,
    "start_time": "2023-03-14T19:13:28.232Z"
   },
   {
    "duration": 7,
    "start_time": "2023-03-14T19:13:28.249Z"
   },
   {
    "duration": 16,
    "start_time": "2023-03-14T19:13:28.257Z"
   },
   {
    "duration": 43,
    "start_time": "2023-03-14T19:13:28.275Z"
   },
   {
    "duration": 9,
    "start_time": "2023-03-14T19:13:28.320Z"
   },
   {
    "duration": 12,
    "start_time": "2023-03-14T19:13:28.330Z"
   },
   {
    "duration": 13,
    "start_time": "2023-03-14T19:13:28.344Z"
   },
   {
    "duration": 8,
    "start_time": "2023-03-14T19:13:28.360Z"
   },
   {
    "duration": 35,
    "start_time": "2023-03-14T19:13:28.370Z"
   },
   {
    "duration": 1098,
    "start_time": "2023-03-14T19:13:28.407Z"
   },
   {
    "duration": 317,
    "start_time": "2023-03-14T19:13:29.506Z"
   },
   {
    "duration": 13,
    "start_time": "2023-03-14T19:13:29.825Z"
   },
   {
    "duration": 286,
    "start_time": "2023-03-14T19:13:29.839Z"
   },
   {
    "duration": 19,
    "start_time": "2023-03-14T19:13:30.127Z"
   },
   {
    "duration": 1429,
    "start_time": "2023-03-14T19:15:15.499Z"
   },
   {
    "duration": 59,
    "start_time": "2023-03-14T19:15:16.931Z"
   },
   {
    "duration": 22,
    "start_time": "2023-03-14T19:15:16.993Z"
   },
   {
    "duration": 10,
    "start_time": "2023-03-14T19:15:17.017Z"
   },
   {
    "duration": 26,
    "start_time": "2023-03-14T19:15:17.029Z"
   },
   {
    "duration": 54,
    "start_time": "2023-03-14T19:15:17.057Z"
   },
   {
    "duration": 8,
    "start_time": "2023-03-14T19:15:17.114Z"
   },
   {
    "duration": 13,
    "start_time": "2023-03-14T19:15:17.123Z"
   },
   {
    "duration": 14,
    "start_time": "2023-03-14T19:15:17.138Z"
   },
   {
    "duration": 4,
    "start_time": "2023-03-14T19:15:17.153Z"
   },
   {
    "duration": 55,
    "start_time": "2023-03-14T19:15:17.158Z"
   },
   {
    "duration": 1271,
    "start_time": "2023-03-14T19:15:17.215Z"
   },
   {
    "duration": 368,
    "start_time": "2023-03-14T19:15:18.489Z"
   },
   {
    "duration": 18,
    "start_time": "2023-03-14T19:15:18.859Z"
   },
   {
    "duration": 300,
    "start_time": "2023-03-14T19:15:18.880Z"
   },
   {
    "duration": 27,
    "start_time": "2023-03-14T19:15:19.182Z"
   },
   {
    "duration": 391,
    "start_time": "2023-03-14T19:18:40.402Z"
   },
   {
    "duration": 1311,
    "start_time": "2023-03-14T19:18:45.905Z"
   },
   {
    "duration": 69,
    "start_time": "2023-03-14T19:18:47.221Z"
   },
   {
    "duration": 17,
    "start_time": "2023-03-14T19:18:47.293Z"
   },
   {
    "duration": 36,
    "start_time": "2023-03-14T19:18:47.312Z"
   },
   {
    "duration": 18,
    "start_time": "2023-03-14T19:18:47.352Z"
   },
   {
    "duration": 48,
    "start_time": "2023-03-14T19:18:47.380Z"
   },
   {
    "duration": 11,
    "start_time": "2023-03-14T19:18:47.430Z"
   },
   {
    "duration": 18,
    "start_time": "2023-03-14T19:18:47.443Z"
   },
   {
    "duration": 27,
    "start_time": "2023-03-14T19:18:47.463Z"
   },
   {
    "duration": 33,
    "start_time": "2023-03-14T19:18:47.492Z"
   },
   {
    "duration": 13,
    "start_time": "2023-03-14T19:18:47.527Z"
   },
   {
    "duration": 1220,
    "start_time": "2023-03-14T19:18:47.545Z"
   },
   {
    "duration": 359,
    "start_time": "2023-03-14T19:18:48.767Z"
   },
   {
    "duration": 18,
    "start_time": "2023-03-14T19:18:49.130Z"
   },
   {
    "duration": 288,
    "start_time": "2023-03-14T19:18:49.150Z"
   },
   {
    "duration": 43,
    "start_time": "2023-03-14T19:18:49.440Z"
   },
   {
    "duration": 14,
    "start_time": "2023-03-14T19:20:25.896Z"
   },
   {
    "duration": 39,
    "start_time": "2023-03-14T19:20:29.268Z"
   },
   {
    "duration": 1421,
    "start_time": "2023-03-14T19:29:36.764Z"
   },
   {
    "duration": 44,
    "start_time": "2023-03-14T19:29:38.188Z"
   },
   {
    "duration": 14,
    "start_time": "2023-03-14T19:29:38.234Z"
   },
   {
    "duration": 7,
    "start_time": "2023-03-14T19:29:38.251Z"
   },
   {
    "duration": 22,
    "start_time": "2023-03-14T19:29:38.268Z"
   },
   {
    "duration": 16,
    "start_time": "2023-03-14T19:29:38.293Z"
   },
   {
    "duration": 9,
    "start_time": "2023-03-14T19:29:38.312Z"
   },
   {
    "duration": 19,
    "start_time": "2023-03-14T19:29:38.323Z"
   },
   {
    "duration": 46,
    "start_time": "2023-03-14T19:29:38.343Z"
   },
   {
    "duration": 7,
    "start_time": "2023-03-14T19:29:38.392Z"
   },
   {
    "duration": 9,
    "start_time": "2023-03-14T19:29:38.401Z"
   },
   {
    "duration": 1029,
    "start_time": "2023-03-14T19:29:38.412Z"
   },
   {
    "duration": 380,
    "start_time": "2023-03-14T19:29:39.443Z"
   },
   {
    "duration": 13,
    "start_time": "2023-03-14T19:29:39.824Z"
   },
   {
    "duration": 265,
    "start_time": "2023-03-14T19:29:39.838Z"
   },
   {
    "duration": 28,
    "start_time": "2023-03-14T19:29:40.106Z"
   },
   {
    "duration": 14,
    "start_time": "2023-03-14T19:29:40.136Z"
   },
   {
    "duration": 15,
    "start_time": "2023-03-14T19:29:40.174Z"
   },
   {
    "duration": 1736,
    "start_time": "2023-03-15T02:49:25.573Z"
   },
   {
    "duration": 94,
    "start_time": "2023-03-15T02:49:27.312Z"
   },
   {
    "duration": 14,
    "start_time": "2023-03-15T02:49:27.408Z"
   },
   {
    "duration": 15,
    "start_time": "2023-03-15T02:49:27.424Z"
   },
   {
    "duration": 21,
    "start_time": "2023-03-15T02:49:27.442Z"
   },
   {
    "duration": 11,
    "start_time": "2023-03-15T02:49:27.465Z"
   },
   {
    "duration": 31,
    "start_time": "2023-03-15T02:49:27.481Z"
   },
   {
    "duration": 23,
    "start_time": "2023-03-15T02:49:27.514Z"
   },
   {
    "duration": 23,
    "start_time": "2023-03-15T02:49:27.539Z"
   },
   {
    "duration": 4,
    "start_time": "2023-03-15T02:49:27.564Z"
   },
   {
    "duration": 12,
    "start_time": "2023-03-15T02:49:27.569Z"
   },
   {
    "duration": 1141,
    "start_time": "2023-03-15T02:49:27.582Z"
   },
   {
    "duration": 360,
    "start_time": "2023-03-15T02:49:28.724Z"
   },
   {
    "duration": 16,
    "start_time": "2023-03-15T02:49:29.086Z"
   },
   {
    "duration": 232,
    "start_time": "2023-03-15T02:49:29.104Z"
   },
   {
    "duration": 21,
    "start_time": "2023-03-15T02:49:29.338Z"
   },
   {
    "duration": 20,
    "start_time": "2023-03-15T02:49:29.361Z"
   },
   {
    "duration": 8,
    "start_time": "2023-03-15T02:49:29.383Z"
   },
   {
    "duration": 1532,
    "start_time": "2023-03-15T02:49:56.101Z"
   },
   {
    "duration": 43,
    "start_time": "2023-03-15T02:49:57.636Z"
   },
   {
    "duration": 15,
    "start_time": "2023-03-15T02:49:57.681Z"
   },
   {
    "duration": 29,
    "start_time": "2023-03-15T02:49:57.698Z"
   },
   {
    "duration": 35,
    "start_time": "2023-03-15T02:49:57.730Z"
   },
   {
    "duration": 13,
    "start_time": "2023-03-15T02:49:57.767Z"
   },
   {
    "duration": 32,
    "start_time": "2023-03-15T02:49:57.783Z"
   },
   {
    "duration": 23,
    "start_time": "2023-03-15T02:49:57.817Z"
   },
   {
    "duration": 26,
    "start_time": "2023-03-15T02:49:57.842Z"
   },
   {
    "duration": 4,
    "start_time": "2023-03-15T02:49:57.870Z"
   },
   {
    "duration": 25,
    "start_time": "2023-03-15T02:49:57.876Z"
   },
   {
    "duration": 1099,
    "start_time": "2023-03-15T02:49:57.903Z"
   },
   {
    "duration": 361,
    "start_time": "2023-03-15T02:49:59.004Z"
   },
   {
    "duration": 23,
    "start_time": "2023-03-15T02:49:59.368Z"
   },
   {
    "duration": 277,
    "start_time": "2023-03-15T02:49:59.392Z"
   },
   {
    "duration": 30,
    "start_time": "2023-03-15T02:49:59.671Z"
   },
   {
    "duration": 22,
    "start_time": "2023-03-15T02:49:59.703Z"
   },
   {
    "duration": 9,
    "start_time": "2023-03-15T02:49:59.727Z"
   },
   {
    "duration": 131,
    "start_time": "2023-03-15T03:09:46.353Z"
   },
   {
    "duration": 1503,
    "start_time": "2023-03-15T03:09:51.783Z"
   },
   {
    "duration": 45,
    "start_time": "2023-03-15T03:09:53.289Z"
   },
   {
    "duration": 14,
    "start_time": "2023-03-15T03:09:53.337Z"
   },
   {
    "duration": 22,
    "start_time": "2023-03-15T03:09:53.354Z"
   },
   {
    "duration": 37,
    "start_time": "2023-03-15T03:09:53.378Z"
   },
   {
    "duration": 16,
    "start_time": "2023-03-15T03:09:53.417Z"
   },
   {
    "duration": 17,
    "start_time": "2023-03-15T03:09:53.435Z"
   },
   {
    "duration": 22,
    "start_time": "2023-03-15T03:09:53.454Z"
   },
   {
    "duration": 19,
    "start_time": "2023-03-15T03:09:53.478Z"
   },
   {
    "duration": 6,
    "start_time": "2023-03-15T03:09:53.501Z"
   },
   {
    "duration": 19,
    "start_time": "2023-03-15T03:09:53.509Z"
   },
   {
    "duration": 1049,
    "start_time": "2023-03-15T03:09:53.530Z"
   },
   {
    "duration": 429,
    "start_time": "2023-03-15T03:09:54.581Z"
   },
   {
    "duration": 16,
    "start_time": "2023-03-15T03:09:55.012Z"
   },
   {
    "duration": 273,
    "start_time": "2023-03-15T03:09:55.030Z"
   },
   {
    "duration": 26,
    "start_time": "2023-03-15T03:09:55.306Z"
   },
   {
    "duration": 13,
    "start_time": "2023-03-15T03:09:55.334Z"
   },
   {
    "duration": 31,
    "start_time": "2023-03-15T03:09:55.351Z"
   },
   {
    "duration": 26,
    "start_time": "2023-03-15T03:09:55.383Z"
   },
   {
    "duration": 3,
    "start_time": "2023-03-15T03:12:13.250Z"
   },
   {
    "duration": 1479,
    "start_time": "2023-03-15T03:12:31.850Z"
   },
   {
    "duration": 44,
    "start_time": "2023-03-15T03:12:33.331Z"
   },
   {
    "duration": 15,
    "start_time": "2023-03-15T03:12:33.377Z"
   },
   {
    "duration": 10,
    "start_time": "2023-03-15T03:12:33.394Z"
   },
   {
    "duration": 20,
    "start_time": "2023-03-15T03:12:33.406Z"
   },
   {
    "duration": 12,
    "start_time": "2023-03-15T03:12:33.428Z"
   },
   {
    "duration": 12,
    "start_time": "2023-03-15T03:12:33.442Z"
   },
   {
    "duration": 33,
    "start_time": "2023-03-15T03:12:33.456Z"
   },
   {
    "duration": 18,
    "start_time": "2023-03-15T03:12:33.491Z"
   },
   {
    "duration": 4,
    "start_time": "2023-03-15T03:12:33.512Z"
   },
   {
    "duration": 10,
    "start_time": "2023-03-15T03:12:33.518Z"
   },
   {
    "duration": 1180,
    "start_time": "2023-03-15T03:12:33.530Z"
   },
   {
    "duration": 384,
    "start_time": "2023-03-15T03:12:34.712Z"
   },
   {
    "duration": 16,
    "start_time": "2023-03-15T03:12:35.098Z"
   },
   {
    "duration": 241,
    "start_time": "2023-03-15T03:12:35.116Z"
   },
   {
    "duration": 31,
    "start_time": "2023-03-15T03:12:35.360Z"
   },
   {
    "duration": 13,
    "start_time": "2023-03-15T03:12:35.392Z"
   },
   {
    "duration": 8,
    "start_time": "2023-03-15T03:12:35.407Z"
   },
   {
    "duration": 16,
    "start_time": "2023-03-15T03:12:35.417Z"
   },
   {
    "duration": 41,
    "start_time": "2023-03-15T03:12:35.435Z"
   },
   {
    "duration": 1520,
    "start_time": "2023-03-15T03:13:05.091Z"
   },
   {
    "duration": 48,
    "start_time": "2023-03-15T03:13:06.613Z"
   },
   {
    "duration": 13,
    "start_time": "2023-03-15T03:13:06.663Z"
   },
   {
    "duration": 7,
    "start_time": "2023-03-15T03:13:06.679Z"
   },
   {
    "duration": 15,
    "start_time": "2023-03-15T03:13:06.688Z"
   },
   {
    "duration": 11,
    "start_time": "2023-03-15T03:13:06.705Z"
   },
   {
    "duration": 19,
    "start_time": "2023-03-15T03:13:06.717Z"
   },
   {
    "duration": 26,
    "start_time": "2023-03-15T03:13:06.738Z"
   },
   {
    "duration": 24,
    "start_time": "2023-03-15T03:13:06.766Z"
   },
   {
    "duration": 4,
    "start_time": "2023-03-15T03:13:06.792Z"
   },
   {
    "duration": 12,
    "start_time": "2023-03-15T03:13:06.798Z"
   },
   {
    "duration": 1015,
    "start_time": "2023-03-15T03:13:06.812Z"
   },
   {
    "duration": 397,
    "start_time": "2023-03-15T03:13:07.829Z"
   },
   {
    "duration": 14,
    "start_time": "2023-03-15T03:13:08.228Z"
   },
   {
    "duration": 280,
    "start_time": "2023-03-15T03:13:08.244Z"
   },
   {
    "duration": 19,
    "start_time": "2023-03-15T03:13:08.526Z"
   },
   {
    "duration": 11,
    "start_time": "2023-03-15T03:13:08.546Z"
   },
   {
    "duration": 8,
    "start_time": "2023-03-15T03:13:08.558Z"
   },
   {
    "duration": 13,
    "start_time": "2023-03-15T03:13:08.568Z"
   },
   {
    "duration": 12,
    "start_time": "2023-03-15T03:13:08.582Z"
   },
   {
    "duration": 119,
    "start_time": "2023-03-15T03:13:51.319Z"
   },
   {
    "duration": 1446,
    "start_time": "2023-03-15T03:14:38.604Z"
   },
   {
    "duration": 42,
    "start_time": "2023-03-15T03:14:40.053Z"
   },
   {
    "duration": 15,
    "start_time": "2023-03-15T03:14:40.097Z"
   },
   {
    "duration": 31,
    "start_time": "2023-03-15T03:14:40.114Z"
   },
   {
    "duration": 22,
    "start_time": "2023-03-15T03:14:40.147Z"
   },
   {
    "duration": 18,
    "start_time": "2023-03-15T03:14:40.171Z"
   },
   {
    "duration": 39,
    "start_time": "2023-03-15T03:14:40.191Z"
   },
   {
    "duration": 26,
    "start_time": "2023-03-15T03:14:40.232Z"
   },
   {
    "duration": 28,
    "start_time": "2023-03-15T03:14:40.261Z"
   },
   {
    "duration": 20,
    "start_time": "2023-03-15T03:14:40.293Z"
   },
   {
    "duration": 15,
    "start_time": "2023-03-15T03:14:40.316Z"
   },
   {
    "duration": 1103,
    "start_time": "2023-03-15T03:14:40.333Z"
   },
   {
    "duration": 399,
    "start_time": "2023-03-15T03:14:41.438Z"
   },
   {
    "duration": 15,
    "start_time": "2023-03-15T03:14:41.839Z"
   },
   {
    "duration": 277,
    "start_time": "2023-03-15T03:14:41.855Z"
   },
   {
    "duration": 20,
    "start_time": "2023-03-15T03:14:42.134Z"
   },
   {
    "duration": 24,
    "start_time": "2023-03-15T03:14:42.157Z"
   },
   {
    "duration": 11,
    "start_time": "2023-03-15T03:14:42.183Z"
   },
   {
    "duration": 12,
    "start_time": "2023-03-15T03:14:42.196Z"
   },
   {
    "duration": 28,
    "start_time": "2023-03-15T03:14:42.211Z"
   },
   {
    "duration": 120,
    "start_time": "2023-03-15T03:14:42.241Z"
   },
   {
    "duration": 1406,
    "start_time": "2023-03-15T03:16:37.139Z"
   },
   {
    "duration": 44,
    "start_time": "2023-03-15T03:16:38.547Z"
   },
   {
    "duration": 14,
    "start_time": "2023-03-15T03:16:38.593Z"
   },
   {
    "duration": 6,
    "start_time": "2023-03-15T03:16:38.610Z"
   },
   {
    "duration": 18,
    "start_time": "2023-03-15T03:16:38.617Z"
   },
   {
    "duration": 10,
    "start_time": "2023-03-15T03:16:38.637Z"
   },
   {
    "duration": 33,
    "start_time": "2023-03-15T03:16:38.649Z"
   },
   {
    "duration": 17,
    "start_time": "2023-03-15T03:16:38.684Z"
   },
   {
    "duration": 17,
    "start_time": "2023-03-15T03:16:38.703Z"
   },
   {
    "duration": 5,
    "start_time": "2023-03-15T03:16:38.723Z"
   },
   {
    "duration": 8,
    "start_time": "2023-03-15T03:16:38.730Z"
   },
   {
    "duration": 1104,
    "start_time": "2023-03-15T03:16:38.739Z"
   },
   {
    "duration": 404,
    "start_time": "2023-03-15T03:16:39.845Z"
   },
   {
    "duration": 15,
    "start_time": "2023-03-15T03:16:40.251Z"
   },
   {
    "duration": 260,
    "start_time": "2023-03-15T03:16:40.267Z"
   },
   {
    "duration": 22,
    "start_time": "2023-03-15T03:16:40.529Z"
   },
   {
    "duration": 33,
    "start_time": "2023-03-15T03:16:40.553Z"
   },
   {
    "duration": 12,
    "start_time": "2023-03-15T03:16:40.588Z"
   },
   {
    "duration": 17,
    "start_time": "2023-03-15T03:16:40.602Z"
   },
   {
    "duration": 18,
    "start_time": "2023-03-15T03:16:40.621Z"
   },
   {
    "duration": 129,
    "start_time": "2023-03-15T03:16:40.641Z"
   },
   {
    "duration": 4,
    "start_time": "2023-03-15T03:16:50.443Z"
   },
   {
    "duration": 4,
    "start_time": "2023-03-15T03:16:50.658Z"
   },
   {
    "duration": 18,
    "start_time": "2023-03-15T03:16:51.066Z"
   },
   {
    "duration": 1439,
    "start_time": "2023-03-15T03:17:11.328Z"
   },
   {
    "duration": 44,
    "start_time": "2023-03-15T03:17:12.770Z"
   },
   {
    "duration": 16,
    "start_time": "2023-03-15T03:17:12.816Z"
   },
   {
    "duration": 24,
    "start_time": "2023-03-15T03:17:12.834Z"
   },
   {
    "duration": 21,
    "start_time": "2023-03-15T03:17:12.861Z"
   },
   {
    "duration": 11,
    "start_time": "2023-03-15T03:17:12.884Z"
   },
   {
    "duration": 24,
    "start_time": "2023-03-15T03:17:12.897Z"
   },
   {
    "duration": 50,
    "start_time": "2023-03-15T03:17:12.923Z"
   },
   {
    "duration": 34,
    "start_time": "2023-03-15T03:17:12.975Z"
   },
   {
    "duration": 3,
    "start_time": "2023-03-15T03:17:13.011Z"
   },
   {
    "duration": 17,
    "start_time": "2023-03-15T03:17:13.016Z"
   },
   {
    "duration": 1004,
    "start_time": "2023-03-15T03:17:13.035Z"
   },
   {
    "duration": 382,
    "start_time": "2023-03-15T03:17:14.042Z"
   },
   {
    "duration": 14,
    "start_time": "2023-03-15T03:17:14.427Z"
   },
   {
    "duration": 248,
    "start_time": "2023-03-15T03:17:14.443Z"
   },
   {
    "duration": 21,
    "start_time": "2023-03-15T03:17:14.693Z"
   },
   {
    "duration": 16,
    "start_time": "2023-03-15T03:17:14.716Z"
   },
   {
    "duration": 10,
    "start_time": "2023-03-15T03:17:14.734Z"
   },
   {
    "duration": 11,
    "start_time": "2023-03-15T03:17:14.746Z"
   },
   {
    "duration": 147,
    "start_time": "2023-03-15T03:17:14.759Z"
   },
   {
    "duration": 0,
    "start_time": "2023-03-15T03:17:14.908Z"
   },
   {
    "duration": 1381,
    "start_time": "2023-03-15T03:17:32.523Z"
   },
   {
    "duration": 42,
    "start_time": "2023-03-15T03:17:33.906Z"
   },
   {
    "duration": 13,
    "start_time": "2023-03-15T03:17:33.950Z"
   },
   {
    "duration": 45,
    "start_time": "2023-03-15T03:17:33.965Z"
   },
   {
    "duration": 51,
    "start_time": "2023-03-15T03:17:34.013Z"
   },
   {
    "duration": 31,
    "start_time": "2023-03-15T03:17:34.067Z"
   },
   {
    "duration": 22,
    "start_time": "2023-03-15T03:17:34.100Z"
   },
   {
    "duration": 24,
    "start_time": "2023-03-15T03:17:34.124Z"
   },
   {
    "duration": 27,
    "start_time": "2023-03-15T03:17:34.151Z"
   },
   {
    "duration": 4,
    "start_time": "2023-03-15T03:17:34.180Z"
   },
   {
    "duration": 16,
    "start_time": "2023-03-15T03:17:34.186Z"
   },
   {
    "duration": 1079,
    "start_time": "2023-03-15T03:17:34.204Z"
   },
   {
    "duration": 414,
    "start_time": "2023-03-15T03:17:35.285Z"
   },
   {
    "duration": 16,
    "start_time": "2023-03-15T03:17:35.702Z"
   },
   {
    "duration": 323,
    "start_time": "2023-03-15T03:17:35.720Z"
   },
   {
    "duration": 36,
    "start_time": "2023-03-15T03:17:36.045Z"
   },
   {
    "duration": 13,
    "start_time": "2023-03-15T03:17:36.084Z"
   },
   {
    "duration": 24,
    "start_time": "2023-03-15T03:17:36.099Z"
   },
   {
    "duration": 23,
    "start_time": "2023-03-15T03:17:36.125Z"
   },
   {
    "duration": 25,
    "start_time": "2023-03-15T03:17:36.150Z"
   },
   {
    "duration": 125,
    "start_time": "2023-03-15T03:17:36.177Z"
   },
   {
    "duration": 5,
    "start_time": "2023-03-15T03:17:54.986Z"
   },
   {
    "duration": 6,
    "start_time": "2023-03-15T03:17:55.152Z"
   },
   {
    "duration": 17,
    "start_time": "2023-03-15T03:17:55.320Z"
   },
   {
    "duration": 1531,
    "start_time": "2023-03-15T03:20:46.047Z"
   },
   {
    "duration": 48,
    "start_time": "2023-03-15T03:20:47.581Z"
   },
   {
    "duration": 14,
    "start_time": "2023-03-15T03:20:47.631Z"
   },
   {
    "duration": 15,
    "start_time": "2023-03-15T03:20:47.647Z"
   },
   {
    "duration": 20,
    "start_time": "2023-03-15T03:20:47.665Z"
   },
   {
    "duration": 10,
    "start_time": "2023-03-15T03:20:47.687Z"
   },
   {
    "duration": 17,
    "start_time": "2023-03-15T03:20:47.699Z"
   },
   {
    "duration": 20,
    "start_time": "2023-03-15T03:20:47.718Z"
   },
   {
    "duration": 21,
    "start_time": "2023-03-15T03:20:47.741Z"
   },
   {
    "duration": 3,
    "start_time": "2023-03-15T03:20:47.764Z"
   },
   {
    "duration": 14,
    "start_time": "2023-03-15T03:20:47.769Z"
   },
   {
    "duration": 1133,
    "start_time": "2023-03-15T03:20:47.786Z"
   },
   {
    "duration": 411,
    "start_time": "2023-03-15T03:20:48.921Z"
   },
   {
    "duration": 19,
    "start_time": "2023-03-15T03:20:49.336Z"
   },
   {
    "duration": 267,
    "start_time": "2023-03-15T03:20:49.357Z"
   },
   {
    "duration": 23,
    "start_time": "2023-03-15T03:20:49.626Z"
   },
   {
    "duration": 32,
    "start_time": "2023-03-15T03:20:49.652Z"
   },
   {
    "duration": 10,
    "start_time": "2023-03-15T03:20:49.686Z"
   },
   {
    "duration": 27,
    "start_time": "2023-03-15T03:20:49.698Z"
   },
   {
    "duration": 140,
    "start_time": "2023-03-15T03:20:49.728Z"
   },
   {
    "duration": 0,
    "start_time": "2023-03-15T03:20:49.870Z"
   },
   {
    "duration": 3,
    "start_time": "2023-03-15T03:21:22.148Z"
   },
   {
    "duration": 4,
    "start_time": "2023-03-15T03:21:25.300Z"
   },
   {
    "duration": 5,
    "start_time": "2023-03-15T03:21:32.844Z"
   },
   {
    "duration": 4,
    "start_time": "2023-03-15T03:22:12.075Z"
   },
   {
    "duration": 4,
    "start_time": "2023-03-15T03:22:21.810Z"
   },
   {
    "duration": 4,
    "start_time": "2023-03-15T03:22:24.482Z"
   },
   {
    "duration": 1424,
    "start_time": "2023-03-15T03:23:17.720Z"
   },
   {
    "duration": 45,
    "start_time": "2023-03-15T03:23:19.146Z"
   },
   {
    "duration": 15,
    "start_time": "2023-03-15T03:23:19.192Z"
   },
   {
    "duration": 26,
    "start_time": "2023-03-15T03:23:19.210Z"
   },
   {
    "duration": 52,
    "start_time": "2023-03-15T03:23:19.239Z"
   },
   {
    "duration": 19,
    "start_time": "2023-03-15T03:23:19.293Z"
   },
   {
    "duration": 32,
    "start_time": "2023-03-15T03:23:19.314Z"
   },
   {
    "duration": 21,
    "start_time": "2023-03-15T03:23:19.348Z"
   },
   {
    "duration": 23,
    "start_time": "2023-03-15T03:23:19.370Z"
   },
   {
    "duration": 13,
    "start_time": "2023-03-15T03:23:19.397Z"
   },
   {
    "duration": 26,
    "start_time": "2023-03-15T03:23:19.413Z"
   },
   {
    "duration": 1001,
    "start_time": "2023-03-15T03:23:19.442Z"
   },
   {
    "duration": 419,
    "start_time": "2023-03-15T03:23:20.445Z"
   },
   {
    "duration": 26,
    "start_time": "2023-03-15T03:23:20.866Z"
   },
   {
    "duration": 293,
    "start_time": "2023-03-15T03:23:20.893Z"
   },
   {
    "duration": 20,
    "start_time": "2023-03-15T03:23:21.188Z"
   },
   {
    "duration": 20,
    "start_time": "2023-03-15T03:23:21.210Z"
   },
   {
    "duration": 17,
    "start_time": "2023-03-15T03:23:21.232Z"
   },
   {
    "duration": 8,
    "start_time": "2023-03-15T03:23:21.251Z"
   },
   {
    "duration": 137,
    "start_time": "2023-03-15T03:23:21.261Z"
   },
   {
    "duration": 1680,
    "start_time": "2023-03-15T03:23:40.128Z"
   },
   {
    "duration": 43,
    "start_time": "2023-03-15T03:23:41.812Z"
   },
   {
    "duration": 14,
    "start_time": "2023-03-15T03:23:41.857Z"
   },
   {
    "duration": 6,
    "start_time": "2023-03-15T03:23:41.873Z"
   },
   {
    "duration": 26,
    "start_time": "2023-03-15T03:23:41.881Z"
   },
   {
    "duration": 10,
    "start_time": "2023-03-15T03:23:41.909Z"
   },
   {
    "duration": 12,
    "start_time": "2023-03-15T03:23:41.921Z"
   },
   {
    "duration": 34,
    "start_time": "2023-03-15T03:23:41.935Z"
   },
   {
    "duration": 16,
    "start_time": "2023-03-15T03:23:41.971Z"
   },
   {
    "duration": 4,
    "start_time": "2023-03-15T03:23:41.990Z"
   },
   {
    "duration": 26,
    "start_time": "2023-03-15T03:23:41.996Z"
   },
   {
    "duration": 1103,
    "start_time": "2023-03-15T03:23:42.024Z"
   },
   {
    "duration": 408,
    "start_time": "2023-03-15T03:23:43.129Z"
   },
   {
    "duration": 16,
    "start_time": "2023-03-15T03:23:43.539Z"
   },
   {
    "duration": 253,
    "start_time": "2023-03-15T03:23:43.557Z"
   },
   {
    "duration": 21,
    "start_time": "2023-03-15T03:23:43.811Z"
   },
   {
    "duration": 12,
    "start_time": "2023-03-15T03:23:43.834Z"
   },
   {
    "duration": 33,
    "start_time": "2023-03-15T03:23:43.848Z"
   },
   {
    "duration": 6,
    "start_time": "2023-03-15T03:23:43.882Z"
   },
   {
    "duration": 133,
    "start_time": "2023-03-15T03:23:43.890Z"
   },
   {
    "duration": 4,
    "start_time": "2023-03-15T03:28:02.088Z"
   },
   {
    "duration": 19,
    "start_time": "2023-03-15T03:28:02.250Z"
   },
   {
    "duration": 4,
    "start_time": "2023-03-15T03:28:12.611Z"
   },
   {
    "duration": 7,
    "start_time": "2023-03-15T03:28:12.818Z"
   },
   {
    "duration": 1698,
    "start_time": "2023-03-15T06:40:03.666Z"
   },
   {
    "duration": 91,
    "start_time": "2023-03-15T06:40:05.366Z"
   },
   {
    "duration": 13,
    "start_time": "2023-03-15T06:40:05.459Z"
   },
   {
    "duration": 24,
    "start_time": "2023-03-15T06:40:05.474Z"
   },
   {
    "duration": 17,
    "start_time": "2023-03-15T06:40:05.499Z"
   },
   {
    "duration": 13,
    "start_time": "2023-03-15T06:40:05.518Z"
   },
   {
    "duration": 11,
    "start_time": "2023-03-15T06:40:05.533Z"
   },
   {
    "duration": 24,
    "start_time": "2023-03-15T06:40:05.545Z"
   },
   {
    "duration": 25,
    "start_time": "2023-03-15T06:40:05.571Z"
   },
   {
    "duration": 25,
    "start_time": "2023-03-15T06:40:05.598Z"
   },
   {
    "duration": 22,
    "start_time": "2023-03-15T06:40:05.625Z"
   },
   {
    "duration": 1078,
    "start_time": "2023-03-15T06:40:05.649Z"
   },
   {
    "duration": 346,
    "start_time": "2023-03-15T06:40:06.730Z"
   },
   {
    "duration": 23,
    "start_time": "2023-03-15T06:40:07.077Z"
   },
   {
    "duration": 226,
    "start_time": "2023-03-15T06:40:07.102Z"
   },
   {
    "duration": 19,
    "start_time": "2023-03-15T06:40:07.330Z"
   },
   {
    "duration": 18,
    "start_time": "2023-03-15T06:40:07.351Z"
   },
   {
    "duration": 22,
    "start_time": "2023-03-15T06:40:07.373Z"
   },
   {
    "duration": 16,
    "start_time": "2023-03-15T06:40:07.397Z"
   },
   {
    "duration": 23,
    "start_time": "2023-03-15T06:40:07.415Z"
   },
   {
    "duration": 7,
    "start_time": "2023-03-15T06:40:22.538Z"
   },
   {
    "duration": 5,
    "start_time": "2023-03-15T06:41:08.663Z"
   },
   {
    "duration": 1365,
    "start_time": "2023-03-15T06:42:10.771Z"
   },
   {
    "duration": 40,
    "start_time": "2023-03-15T06:42:12.138Z"
   },
   {
    "duration": 13,
    "start_time": "2023-03-15T06:42:12.180Z"
   },
   {
    "duration": 51,
    "start_time": "2023-03-15T06:42:12.195Z"
   },
   {
    "duration": 55,
    "start_time": "2023-03-15T06:42:12.248Z"
   },
   {
    "duration": 42,
    "start_time": "2023-03-15T06:42:12.305Z"
   },
   {
    "duration": 61,
    "start_time": "2023-03-15T06:42:12.349Z"
   },
   {
    "duration": 27,
    "start_time": "2023-03-15T06:42:12.412Z"
   },
   {
    "duration": 46,
    "start_time": "2023-03-15T06:42:12.441Z"
   },
   {
    "duration": 18,
    "start_time": "2023-03-15T06:42:12.490Z"
   },
   {
    "duration": 55,
    "start_time": "2023-03-15T06:42:12.510Z"
   },
   {
    "duration": 988,
    "start_time": "2023-03-15T06:42:12.566Z"
   },
   {
    "duration": 346,
    "start_time": "2023-03-15T06:42:13.556Z"
   },
   {
    "duration": 17,
    "start_time": "2023-03-15T06:42:13.904Z"
   },
   {
    "duration": 268,
    "start_time": "2023-03-15T06:42:13.923Z"
   },
   {
    "duration": 19,
    "start_time": "2023-03-15T06:42:14.193Z"
   },
   {
    "duration": 17,
    "start_time": "2023-03-15T06:42:14.213Z"
   },
   {
    "duration": 45,
    "start_time": "2023-03-15T06:42:14.232Z"
   },
   {
    "duration": 25,
    "start_time": "2023-03-15T06:42:14.278Z"
   },
   {
    "duration": 159,
    "start_time": "2023-03-15T06:42:14.304Z"
   },
   {
    "duration": 0,
    "start_time": "2023-03-15T06:42:14.464Z"
   },
   {
    "duration": 1263,
    "start_time": "2023-03-15T06:42:48.140Z"
   },
   {
    "duration": 41,
    "start_time": "2023-03-15T06:42:49.404Z"
   },
   {
    "duration": 14,
    "start_time": "2023-03-15T06:42:49.446Z"
   },
   {
    "duration": 8,
    "start_time": "2023-03-15T06:42:49.462Z"
   },
   {
    "duration": 23,
    "start_time": "2023-03-15T06:42:49.472Z"
   },
   {
    "duration": 9,
    "start_time": "2023-03-15T06:42:49.497Z"
   },
   {
    "duration": 7,
    "start_time": "2023-03-15T06:42:49.508Z"
   },
   {
    "duration": 11,
    "start_time": "2023-03-15T06:42:49.517Z"
   },
   {
    "duration": 13,
    "start_time": "2023-03-15T06:42:49.530Z"
   },
   {
    "duration": 3,
    "start_time": "2023-03-15T06:42:49.545Z"
   },
   {
    "duration": 7,
    "start_time": "2023-03-15T06:42:49.550Z"
   },
   {
    "duration": 1024,
    "start_time": "2023-03-15T06:42:49.558Z"
   },
   {
    "duration": 340,
    "start_time": "2023-03-15T06:42:50.584Z"
   },
   {
    "duration": 14,
    "start_time": "2023-03-15T06:42:50.926Z"
   },
   {
    "duration": 219,
    "start_time": "2023-03-15T06:42:50.942Z"
   },
   {
    "duration": 32,
    "start_time": "2023-03-15T06:42:51.163Z"
   },
   {
    "duration": 9,
    "start_time": "2023-03-15T06:42:51.197Z"
   },
   {
    "duration": 6,
    "start_time": "2023-03-15T06:42:51.207Z"
   },
   {
    "duration": 5,
    "start_time": "2023-03-15T06:42:51.215Z"
   },
   {
    "duration": 9,
    "start_time": "2023-03-15T06:42:51.222Z"
   },
   {
    "duration": 6,
    "start_time": "2023-03-15T06:42:51.232Z"
   },
   {
    "duration": 1406,
    "start_time": "2023-03-15T06:45:28.297Z"
   },
   {
    "duration": 39,
    "start_time": "2023-03-15T06:45:29.705Z"
   },
   {
    "duration": 13,
    "start_time": "2023-03-15T06:45:29.746Z"
   },
   {
    "duration": 5,
    "start_time": "2023-03-15T06:45:29.761Z"
   },
   {
    "duration": 16,
    "start_time": "2023-03-15T06:45:29.768Z"
   },
   {
    "duration": 13,
    "start_time": "2023-03-15T06:45:29.785Z"
   },
   {
    "duration": 7,
    "start_time": "2023-03-15T06:45:29.800Z"
   },
   {
    "duration": 12,
    "start_time": "2023-03-15T06:45:29.809Z"
   },
   {
    "duration": 14,
    "start_time": "2023-03-15T06:45:29.823Z"
   },
   {
    "duration": 4,
    "start_time": "2023-03-15T06:45:29.840Z"
   },
   {
    "duration": 11,
    "start_time": "2023-03-15T06:45:29.846Z"
   },
   {
    "duration": 1032,
    "start_time": "2023-03-15T06:45:29.890Z"
   },
   {
    "duration": 344,
    "start_time": "2023-03-15T06:45:30.924Z"
   },
   {
    "duration": 13,
    "start_time": "2023-03-15T06:45:31.270Z"
   },
   {
    "duration": 212,
    "start_time": "2023-03-15T06:45:31.290Z"
   },
   {
    "duration": 22,
    "start_time": "2023-03-15T06:45:31.504Z"
   },
   {
    "duration": 17,
    "start_time": "2023-03-15T06:45:31.528Z"
   },
   {
    "duration": 31,
    "start_time": "2023-03-15T06:45:31.547Z"
   },
   {
    "duration": 15,
    "start_time": "2023-03-15T06:45:31.580Z"
   },
   {
    "duration": 24,
    "start_time": "2023-03-15T06:45:31.597Z"
   },
   {
    "duration": 1386,
    "start_time": "2023-03-15T06:50:55.705Z"
   },
   {
    "duration": 39,
    "start_time": "2023-03-15T06:50:57.093Z"
   },
   {
    "duration": 12,
    "start_time": "2023-03-15T06:50:57.134Z"
   },
   {
    "duration": 18,
    "start_time": "2023-03-15T06:50:57.148Z"
   },
   {
    "duration": 19,
    "start_time": "2023-03-15T06:50:57.167Z"
   },
   {
    "duration": 8,
    "start_time": "2023-03-15T06:50:57.187Z"
   },
   {
    "duration": 9,
    "start_time": "2023-03-15T06:50:57.197Z"
   },
   {
    "duration": 20,
    "start_time": "2023-03-15T06:50:57.208Z"
   },
   {
    "duration": 20,
    "start_time": "2023-03-15T06:50:57.229Z"
   },
   {
    "duration": 28,
    "start_time": "2023-03-15T06:50:57.251Z"
   },
   {
    "duration": 14,
    "start_time": "2023-03-15T06:50:57.281Z"
   },
   {
    "duration": 1009,
    "start_time": "2023-03-15T06:50:57.297Z"
   },
   {
    "duration": 338,
    "start_time": "2023-03-15T06:50:58.308Z"
   },
   {
    "duration": 13,
    "start_time": "2023-03-15T06:50:58.648Z"
   },
   {
    "duration": 222,
    "start_time": "2023-03-15T06:50:58.662Z"
   },
   {
    "duration": 18,
    "start_time": "2023-03-15T06:50:58.890Z"
   },
   {
    "duration": 34,
    "start_time": "2023-03-15T06:50:58.910Z"
   },
   {
    "duration": 49,
    "start_time": "2023-03-15T06:50:58.946Z"
   },
   {
    "duration": 34,
    "start_time": "2023-03-15T06:50:58.996Z"
   },
   {
    "duration": 73,
    "start_time": "2023-03-15T06:50:59.032Z"
   },
   {
    "duration": 7,
    "start_time": "2023-03-15T06:51:12.406Z"
   },
   {
    "duration": 1346,
    "start_time": "2023-03-15T06:51:31.213Z"
   },
   {
    "duration": 41,
    "start_time": "2023-03-15T06:51:32.561Z"
   },
   {
    "duration": 14,
    "start_time": "2023-03-15T06:51:32.603Z"
   },
   {
    "duration": 5,
    "start_time": "2023-03-15T06:51:32.618Z"
   },
   {
    "duration": 27,
    "start_time": "2023-03-15T06:51:32.626Z"
   },
   {
    "duration": 12,
    "start_time": "2023-03-15T06:51:32.655Z"
   },
   {
    "duration": 41,
    "start_time": "2023-03-15T06:51:32.669Z"
   },
   {
    "duration": 19,
    "start_time": "2023-03-15T06:51:32.712Z"
   },
   {
    "duration": 13,
    "start_time": "2023-03-15T06:51:32.732Z"
   },
   {
    "duration": 5,
    "start_time": "2023-03-15T06:51:32.747Z"
   },
   {
    "duration": 5,
    "start_time": "2023-03-15T06:51:32.754Z"
   },
   {
    "duration": 965,
    "start_time": "2023-03-15T06:51:32.761Z"
   },
   {
    "duration": 324,
    "start_time": "2023-03-15T06:51:33.727Z"
   },
   {
    "duration": 14,
    "start_time": "2023-03-15T06:51:34.053Z"
   },
   {
    "duration": 239,
    "start_time": "2023-03-15T06:51:34.068Z"
   },
   {
    "duration": 19,
    "start_time": "2023-03-15T06:51:34.309Z"
   },
   {
    "duration": 10,
    "start_time": "2023-03-15T06:51:34.330Z"
   },
   {
    "duration": 8,
    "start_time": "2023-03-15T06:51:34.341Z"
   },
   {
    "duration": 4,
    "start_time": "2023-03-15T06:51:34.350Z"
   },
   {
    "duration": 11,
    "start_time": "2023-03-15T06:51:34.355Z"
   },
   {
    "duration": 6,
    "start_time": "2023-03-15T06:51:59.357Z"
   },
   {
    "duration": 6,
    "start_time": "2023-03-15T06:52:06.861Z"
   },
   {
    "duration": 1380,
    "start_time": "2023-03-15T06:58:16.227Z"
   },
   {
    "duration": 39,
    "start_time": "2023-03-15T06:58:17.609Z"
   },
   {
    "duration": 13,
    "start_time": "2023-03-15T06:58:17.650Z"
   },
   {
    "duration": 23,
    "start_time": "2023-03-15T06:58:17.665Z"
   },
   {
    "duration": 16,
    "start_time": "2023-03-15T06:58:17.690Z"
   },
   {
    "duration": 9,
    "start_time": "2023-03-15T06:58:17.707Z"
   },
   {
    "duration": 15,
    "start_time": "2023-03-15T06:58:17.717Z"
   },
   {
    "duration": 24,
    "start_time": "2023-03-15T06:58:17.734Z"
   },
   {
    "duration": 15,
    "start_time": "2023-03-15T06:58:17.760Z"
   },
   {
    "duration": 3,
    "start_time": "2023-03-15T06:58:17.778Z"
   },
   {
    "duration": 9,
    "start_time": "2023-03-15T06:58:17.783Z"
   },
   {
    "duration": 997,
    "start_time": "2023-03-15T06:58:17.793Z"
   },
   {
    "duration": 340,
    "start_time": "2023-03-15T06:58:18.792Z"
   },
   {
    "duration": 14,
    "start_time": "2023-03-15T06:58:19.134Z"
   },
   {
    "duration": 218,
    "start_time": "2023-03-15T06:58:19.150Z"
   },
   {
    "duration": 29,
    "start_time": "2023-03-15T06:58:19.370Z"
   },
   {
    "duration": 9,
    "start_time": "2023-03-15T06:58:19.401Z"
   },
   {
    "duration": 3,
    "start_time": "2023-03-15T06:58:19.412Z"
   },
   {
    "duration": 12,
    "start_time": "2023-03-15T06:58:19.416Z"
   },
   {
    "duration": 4,
    "start_time": "2023-03-15T06:58:19.429Z"
   },
   {
    "duration": 9,
    "start_time": "2023-03-15T06:58:19.434Z"
   },
   {
    "duration": 1341,
    "start_time": "2023-03-15T07:46:14.433Z"
   },
   {
    "duration": 41,
    "start_time": "2023-03-15T07:46:15.777Z"
   },
   {
    "duration": 15,
    "start_time": "2023-03-15T07:46:15.819Z"
   },
   {
    "duration": 25,
    "start_time": "2023-03-15T07:46:15.836Z"
   },
   {
    "duration": 37,
    "start_time": "2023-03-15T07:46:15.864Z"
   },
   {
    "duration": 15,
    "start_time": "2023-03-15T07:46:15.903Z"
   },
   {
    "duration": 18,
    "start_time": "2023-03-15T07:46:15.919Z"
   },
   {
    "duration": 20,
    "start_time": "2023-03-15T07:46:15.938Z"
   },
   {
    "duration": 35,
    "start_time": "2023-03-15T07:46:15.960Z"
   },
   {
    "duration": 3,
    "start_time": "2023-03-15T07:46:15.997Z"
   },
   {
    "duration": 22,
    "start_time": "2023-03-15T07:46:16.002Z"
   },
   {
    "duration": 1088,
    "start_time": "2023-03-15T07:46:16.026Z"
   },
   {
    "duration": 353,
    "start_time": "2023-03-15T07:46:17.115Z"
   },
   {
    "duration": 20,
    "start_time": "2023-03-15T07:46:17.471Z"
   },
   {
    "duration": 231,
    "start_time": "2023-03-15T07:46:17.493Z"
   },
   {
    "duration": 21,
    "start_time": "2023-03-15T07:46:17.726Z"
   },
   {
    "duration": 13,
    "start_time": "2023-03-15T07:46:17.750Z"
   },
   {
    "duration": 4,
    "start_time": "2023-03-15T07:46:17.765Z"
   },
   {
    "duration": 8,
    "start_time": "2023-03-15T07:46:17.790Z"
   },
   {
    "duration": 8,
    "start_time": "2023-03-15T07:46:17.800Z"
   },
   {
    "duration": 7,
    "start_time": "2023-03-15T07:46:17.810Z"
   },
   {
    "duration": 145,
    "start_time": "2023-03-15T07:47:11.938Z"
   },
   {
    "duration": 6,
    "start_time": "2023-03-15T07:49:59.216Z"
   },
   {
    "duration": 87,
    "start_time": "2023-03-15T07:53:57.126Z"
   },
   {
    "duration": 12,
    "start_time": "2023-03-15T07:59:32.712Z"
   },
   {
    "duration": 4,
    "start_time": "2023-03-15T08:00:29.086Z"
   },
   {
    "duration": 1388,
    "start_time": "2023-03-15T08:00:38.542Z"
   },
   {
    "duration": 40,
    "start_time": "2023-03-15T08:00:39.932Z"
   },
   {
    "duration": 14,
    "start_time": "2023-03-15T08:00:39.974Z"
   },
   {
    "duration": 5,
    "start_time": "2023-03-15T08:00:39.991Z"
   },
   {
    "duration": 14,
    "start_time": "2023-03-15T08:00:39.998Z"
   },
   {
    "duration": 17,
    "start_time": "2023-03-15T08:00:40.014Z"
   },
   {
    "duration": 13,
    "start_time": "2023-03-15T08:00:40.033Z"
   },
   {
    "duration": 16,
    "start_time": "2023-03-15T08:00:40.048Z"
   },
   {
    "duration": 29,
    "start_time": "2023-03-15T08:00:40.066Z"
   },
   {
    "duration": 3,
    "start_time": "2023-03-15T08:00:40.098Z"
   },
   {
    "duration": 11,
    "start_time": "2023-03-15T08:00:40.103Z"
   },
   {
    "duration": 1030,
    "start_time": "2023-03-15T08:00:40.116Z"
   },
   {
    "duration": 339,
    "start_time": "2023-03-15T08:00:41.147Z"
   },
   {
    "duration": 14,
    "start_time": "2023-03-15T08:00:41.489Z"
   },
   {
    "duration": 226,
    "start_time": "2023-03-15T08:00:41.505Z"
   },
   {
    "duration": 21,
    "start_time": "2023-03-15T08:00:41.733Z"
   },
   {
    "duration": 10,
    "start_time": "2023-03-15T08:00:41.755Z"
   },
   {
    "duration": 129,
    "start_time": "2023-03-15T08:00:41.766Z"
   },
   {
    "duration": 0,
    "start_time": "2023-03-15T08:00:41.896Z"
   },
   {
    "duration": 0,
    "start_time": "2023-03-15T08:00:41.898Z"
   },
   {
    "duration": 0,
    "start_time": "2023-03-15T08:00:41.899Z"
   },
   {
    "duration": 0,
    "start_time": "2023-03-15T08:00:41.900Z"
   },
   {
    "duration": 1638,
    "start_time": "2023-03-15T08:00:55.751Z"
   },
   {
    "duration": 39,
    "start_time": "2023-03-15T08:00:57.391Z"
   },
   {
    "duration": 13,
    "start_time": "2023-03-15T08:00:57.431Z"
   },
   {
    "duration": 30,
    "start_time": "2023-03-15T08:00:57.446Z"
   },
   {
    "duration": 25,
    "start_time": "2023-03-15T08:00:57.478Z"
   },
   {
    "duration": 24,
    "start_time": "2023-03-15T08:00:57.505Z"
   },
   {
    "duration": 14,
    "start_time": "2023-03-15T08:00:57.531Z"
   },
   {
    "duration": 19,
    "start_time": "2023-03-15T08:00:57.546Z"
   },
   {
    "duration": 35,
    "start_time": "2023-03-15T08:00:57.567Z"
   },
   {
    "duration": 5,
    "start_time": "2023-03-15T08:00:57.604Z"
   },
   {
    "duration": 23,
    "start_time": "2023-03-15T08:00:57.611Z"
   },
   {
    "duration": 1018,
    "start_time": "2023-03-15T08:00:57.636Z"
   },
   {
    "duration": 354,
    "start_time": "2023-03-15T08:00:58.656Z"
   },
   {
    "duration": 14,
    "start_time": "2023-03-15T08:00:59.013Z"
   },
   {
    "duration": 237,
    "start_time": "2023-03-15T08:00:59.030Z"
   },
   {
    "duration": 28,
    "start_time": "2023-03-15T08:00:59.269Z"
   },
   {
    "duration": 10,
    "start_time": "2023-03-15T08:00:59.299Z"
   },
   {
    "duration": 123,
    "start_time": "2023-03-15T08:00:59.311Z"
   },
   {
    "duration": 0,
    "start_time": "2023-03-15T08:00:59.436Z"
   },
   {
    "duration": 0,
    "start_time": "2023-03-15T08:00:59.437Z"
   },
   {
    "duration": 0,
    "start_time": "2023-03-15T08:00:59.439Z"
   },
   {
    "duration": 0,
    "start_time": "2023-03-15T08:00:59.440Z"
   },
   {
    "duration": 2223,
    "start_time": "2023-03-15T08:01:32.746Z"
   },
   {
    "duration": 55,
    "start_time": "2023-03-15T08:01:34.972Z"
   },
   {
    "duration": 14,
    "start_time": "2023-03-15T08:01:35.029Z"
   },
   {
    "duration": 8,
    "start_time": "2023-03-15T08:01:35.045Z"
   },
   {
    "duration": 16,
    "start_time": "2023-03-15T08:01:35.055Z"
   },
   {
    "duration": 17,
    "start_time": "2023-03-15T08:01:35.073Z"
   },
   {
    "duration": 11,
    "start_time": "2023-03-15T08:01:35.091Z"
   },
   {
    "duration": 15,
    "start_time": "2023-03-15T08:01:35.104Z"
   },
   {
    "duration": 19,
    "start_time": "2023-03-15T08:01:35.120Z"
   },
   {
    "duration": 4,
    "start_time": "2023-03-15T08:01:35.140Z"
   },
   {
    "duration": 9,
    "start_time": "2023-03-15T08:01:35.146Z"
   },
   {
    "duration": 1057,
    "start_time": "2023-03-15T08:01:35.157Z"
   },
   {
    "duration": 408,
    "start_time": "2023-03-15T08:01:36.216Z"
   },
   {
    "duration": 14,
    "start_time": "2023-03-15T08:01:36.626Z"
   },
   {
    "duration": 228,
    "start_time": "2023-03-15T08:01:36.641Z"
   },
   {
    "duration": 27,
    "start_time": "2023-03-15T08:01:36.871Z"
   },
   {
    "duration": 10,
    "start_time": "2023-03-15T08:01:36.900Z"
   },
   {
    "duration": 9,
    "start_time": "2023-03-15T08:01:36.912Z"
   },
   {
    "duration": 144,
    "start_time": "2023-03-15T08:01:36.922Z"
   },
   {
    "duration": 0,
    "start_time": "2023-03-15T08:01:37.068Z"
   },
   {
    "duration": 0,
    "start_time": "2023-03-15T08:01:37.070Z"
   },
   {
    "duration": 0,
    "start_time": "2023-03-15T08:01:37.071Z"
   },
   {
    "duration": 5,
    "start_time": "2023-03-15T08:01:46.009Z"
   },
   {
    "duration": 1450,
    "start_time": "2023-03-15T08:02:02.955Z"
   },
   {
    "duration": 46,
    "start_time": "2023-03-15T08:02:04.408Z"
   },
   {
    "duration": 18,
    "start_time": "2023-03-15T08:02:04.457Z"
   },
   {
    "duration": 30,
    "start_time": "2023-03-15T08:02:04.477Z"
   },
   {
    "duration": 41,
    "start_time": "2023-03-15T08:02:04.509Z"
   },
   {
    "duration": 16,
    "start_time": "2023-03-15T08:02:04.552Z"
   },
   {
    "duration": 32,
    "start_time": "2023-03-15T08:02:04.570Z"
   },
   {
    "duration": 26,
    "start_time": "2023-03-15T08:02:04.604Z"
   },
   {
    "duration": 36,
    "start_time": "2023-03-15T08:02:04.632Z"
   },
   {
    "duration": 4,
    "start_time": "2023-03-15T08:02:04.671Z"
   },
   {
    "duration": 31,
    "start_time": "2023-03-15T08:02:04.676Z"
   },
   {
    "duration": 1029,
    "start_time": "2023-03-15T08:02:04.709Z"
   },
   {
    "duration": 352,
    "start_time": "2023-03-15T08:02:05.740Z"
   },
   {
    "duration": 18,
    "start_time": "2023-03-15T08:02:06.094Z"
   },
   {
    "duration": 287,
    "start_time": "2023-03-15T08:02:06.114Z"
   },
   {
    "duration": 25,
    "start_time": "2023-03-15T08:02:06.403Z"
   },
   {
    "duration": 37,
    "start_time": "2023-03-15T08:02:06.430Z"
   },
   {
    "duration": 18,
    "start_time": "2023-03-15T08:02:06.469Z"
   },
   {
    "duration": 15,
    "start_time": "2023-03-15T08:02:06.489Z"
   },
   {
    "duration": 10,
    "start_time": "2023-03-15T08:02:06.506Z"
   },
   {
    "duration": 17,
    "start_time": "2023-03-15T08:02:06.518Z"
   },
   {
    "duration": 131,
    "start_time": "2023-03-15T08:02:06.537Z"
   },
   {
    "duration": 3,
    "start_time": "2023-03-15T08:04:01.351Z"
   },
   {
    "duration": 2,
    "start_time": "2023-03-15T08:04:06.001Z"
   },
   {
    "duration": 4,
    "start_time": "2023-03-15T08:04:09.888Z"
   },
   {
    "duration": 5,
    "start_time": "2023-03-15T08:04:27.408Z"
   },
   {
    "duration": 10,
    "start_time": "2023-03-15T08:04:50.681Z"
   },
   {
    "duration": 5,
    "start_time": "2023-03-15T08:06:35.006Z"
   },
   {
    "duration": 11,
    "start_time": "2023-03-15T08:06:40.708Z"
   },
   {
    "duration": 7,
    "start_time": "2023-03-15T08:06:53.257Z"
   },
   {
    "duration": 1347,
    "start_time": "2023-03-15T08:07:57.440Z"
   },
   {
    "duration": 41,
    "start_time": "2023-03-15T08:07:58.789Z"
   },
   {
    "duration": 13,
    "start_time": "2023-03-15T08:07:58.834Z"
   },
   {
    "duration": 10,
    "start_time": "2023-03-15T08:07:58.849Z"
   },
   {
    "duration": 17,
    "start_time": "2023-03-15T08:07:58.860Z"
   },
   {
    "duration": 14,
    "start_time": "2023-03-15T08:07:58.878Z"
   },
   {
    "duration": 8,
    "start_time": "2023-03-15T08:07:58.894Z"
   },
   {
    "duration": 14,
    "start_time": "2023-03-15T08:07:58.903Z"
   },
   {
    "duration": 18,
    "start_time": "2023-03-15T08:07:58.919Z"
   },
   {
    "duration": 3,
    "start_time": "2023-03-15T08:07:58.939Z"
   },
   {
    "duration": 9,
    "start_time": "2023-03-15T08:07:58.944Z"
   },
   {
    "duration": 996,
    "start_time": "2023-03-15T08:07:58.954Z"
   },
   {
    "duration": 346,
    "start_time": "2023-03-15T08:07:59.952Z"
   },
   {
    "duration": 14,
    "start_time": "2023-03-15T08:08:00.300Z"
   },
   {
    "duration": 254,
    "start_time": "2023-03-15T08:08:00.316Z"
   },
   {
    "duration": 31,
    "start_time": "2023-03-15T08:08:00.572Z"
   },
   {
    "duration": 21,
    "start_time": "2023-03-15T08:08:00.605Z"
   },
   {
    "duration": 31,
    "start_time": "2023-03-15T08:08:00.628Z"
   },
   {
    "duration": 35,
    "start_time": "2023-03-15T08:08:00.661Z"
   },
   {
    "duration": 33,
    "start_time": "2023-03-15T08:08:00.698Z"
   },
   {
    "duration": 43,
    "start_time": "2023-03-15T08:08:00.733Z"
   },
   {
    "duration": 45,
    "start_time": "2023-03-15T08:08:00.778Z"
   },
   {
    "duration": 132,
    "start_time": "2023-03-15T08:23:29.209Z"
   },
   {
    "duration": 1385,
    "start_time": "2023-03-15T08:23:39.545Z"
   },
   {
    "duration": 42,
    "start_time": "2023-03-15T08:23:40.932Z"
   },
   {
    "duration": 13,
    "start_time": "2023-03-15T08:23:40.975Z"
   },
   {
    "duration": 18,
    "start_time": "2023-03-15T08:23:40.991Z"
   },
   {
    "duration": 14,
    "start_time": "2023-03-15T08:23:41.011Z"
   },
   {
    "duration": 9,
    "start_time": "2023-03-15T08:23:41.026Z"
   },
   {
    "duration": 7,
    "start_time": "2023-03-15T08:23:41.037Z"
   },
   {
    "duration": 12,
    "start_time": "2023-03-15T08:23:41.045Z"
   },
   {
    "duration": 33,
    "start_time": "2023-03-15T08:23:41.059Z"
   },
   {
    "duration": 5,
    "start_time": "2023-03-15T08:23:41.096Z"
   },
   {
    "duration": 12,
    "start_time": "2023-03-15T08:23:41.103Z"
   },
   {
    "duration": 1033,
    "start_time": "2023-03-15T08:23:41.117Z"
   },
   {
    "duration": 474,
    "start_time": "2023-03-15T08:23:42.152Z"
   },
   {
    "duration": 15,
    "start_time": "2023-03-15T08:23:42.628Z"
   },
   {
    "duration": 257,
    "start_time": "2023-03-15T08:23:42.645Z"
   },
   {
    "duration": 27,
    "start_time": "2023-03-15T08:23:42.904Z"
   },
   {
    "duration": 11,
    "start_time": "2023-03-15T08:23:42.933Z"
   },
   {
    "duration": 8,
    "start_time": "2023-03-15T08:23:42.946Z"
   },
   {
    "duration": 36,
    "start_time": "2023-03-15T08:23:42.956Z"
   },
   {
    "duration": 8,
    "start_time": "2023-03-15T08:23:42.995Z"
   },
   {
    "duration": 20,
    "start_time": "2023-03-15T08:23:43.005Z"
   },
   {
    "duration": 28,
    "start_time": "2023-03-15T08:23:43.027Z"
   },
   {
    "duration": 126,
    "start_time": "2023-03-15T08:26:13.023Z"
   },
   {
    "duration": 4,
    "start_time": "2023-03-15T08:26:24.932Z"
   },
   {
    "duration": 13,
    "start_time": "2023-03-15T08:28:05.809Z"
   },
   {
    "duration": 4,
    "start_time": "2023-03-15T08:28:38.935Z"
   },
   {
    "duration": 1416,
    "start_time": "2023-03-15T08:29:07.949Z"
   },
   {
    "duration": 42,
    "start_time": "2023-03-15T08:29:09.367Z"
   },
   {
    "duration": 14,
    "start_time": "2023-03-15T08:29:09.411Z"
   },
   {
    "duration": 5,
    "start_time": "2023-03-15T08:29:09.427Z"
   },
   {
    "duration": 15,
    "start_time": "2023-03-15T08:29:09.435Z"
   },
   {
    "duration": 12,
    "start_time": "2023-03-15T08:29:09.452Z"
   },
   {
    "duration": 28,
    "start_time": "2023-03-15T08:29:09.466Z"
   },
   {
    "duration": 30,
    "start_time": "2023-03-15T08:29:09.496Z"
   },
   {
    "duration": 20,
    "start_time": "2023-03-15T08:29:09.528Z"
   },
   {
    "duration": 10,
    "start_time": "2023-03-15T08:29:09.550Z"
   },
   {
    "duration": 7,
    "start_time": "2023-03-15T08:29:09.561Z"
   },
   {
    "duration": 1080,
    "start_time": "2023-03-15T08:29:09.570Z"
   },
   {
    "duration": 381,
    "start_time": "2023-03-15T08:29:10.652Z"
   },
   {
    "duration": 14,
    "start_time": "2023-03-15T08:29:11.035Z"
   },
   {
    "duration": 270,
    "start_time": "2023-03-15T08:29:11.051Z"
   },
   {
    "duration": 20,
    "start_time": "2023-03-15T08:29:11.323Z"
   },
   {
    "duration": 23,
    "start_time": "2023-03-15T08:29:11.345Z"
   },
   {
    "duration": 22,
    "start_time": "2023-03-15T08:29:11.369Z"
   },
   {
    "duration": 24,
    "start_time": "2023-03-15T08:29:11.393Z"
   },
   {
    "duration": 21,
    "start_time": "2023-03-15T08:29:11.419Z"
   },
   {
    "duration": 20,
    "start_time": "2023-03-15T08:29:11.442Z"
   },
   {
    "duration": 40,
    "start_time": "2023-03-15T08:29:11.464Z"
   },
   {
    "duration": 5,
    "start_time": "2023-03-15T08:29:11.508Z"
   },
   {
    "duration": 5,
    "start_time": "2023-03-15T08:30:23.279Z"
   },
   {
    "duration": 7,
    "start_time": "2023-03-15T08:32:16.318Z"
   },
   {
    "duration": 10,
    "start_time": "2023-03-15T08:32:22.694Z"
   },
   {
    "duration": 6,
    "start_time": "2023-03-15T08:32:37.606Z"
   },
   {
    "duration": 10,
    "start_time": "2023-03-15T08:34:14.553Z"
   },
   {
    "duration": 1470,
    "start_time": "2023-03-15T08:34:41.375Z"
   },
   {
    "duration": 41,
    "start_time": "2023-03-15T08:34:42.847Z"
   },
   {
    "duration": 22,
    "start_time": "2023-03-15T08:34:42.889Z"
   },
   {
    "duration": 25,
    "start_time": "2023-03-15T08:34:42.915Z"
   },
   {
    "duration": 29,
    "start_time": "2023-03-15T08:34:42.943Z"
   },
   {
    "duration": 10,
    "start_time": "2023-03-15T08:34:42.974Z"
   },
   {
    "duration": 34,
    "start_time": "2023-03-15T08:34:42.986Z"
   },
   {
    "duration": 28,
    "start_time": "2023-03-15T08:34:43.022Z"
   },
   {
    "duration": 28,
    "start_time": "2023-03-15T08:34:43.052Z"
   },
   {
    "duration": 6,
    "start_time": "2023-03-15T08:34:43.083Z"
   },
   {
    "duration": 35,
    "start_time": "2023-03-15T08:34:43.094Z"
   },
   {
    "duration": 1127,
    "start_time": "2023-03-15T08:34:43.131Z"
   },
   {
    "duration": 411,
    "start_time": "2023-03-15T08:34:44.260Z"
   },
   {
    "duration": 30,
    "start_time": "2023-03-15T08:34:44.672Z"
   },
   {
    "duration": 261,
    "start_time": "2023-03-15T08:34:44.704Z"
   },
   {
    "duration": 36,
    "start_time": "2023-03-15T08:34:44.966Z"
   },
   {
    "duration": 13,
    "start_time": "2023-03-15T08:34:45.005Z"
   },
   {
    "duration": 33,
    "start_time": "2023-03-15T08:34:45.020Z"
   },
   {
    "duration": 24,
    "start_time": "2023-03-15T08:34:45.054Z"
   },
   {
    "duration": 38,
    "start_time": "2023-03-15T08:34:45.079Z"
   },
   {
    "duration": 32,
    "start_time": "2023-03-15T08:34:45.118Z"
   },
   {
    "duration": 43,
    "start_time": "2023-03-15T08:34:45.152Z"
   },
   {
    "duration": 17,
    "start_time": "2023-03-15T08:34:45.198Z"
   },
   {
    "duration": 164,
    "start_time": "2023-03-15T08:38:05.172Z"
   },
   {
    "duration": 21,
    "start_time": "2023-03-15T08:45:36.711Z"
   },
   {
    "duration": 5,
    "start_time": "2023-03-15T08:45:47.231Z"
   },
   {
    "duration": 31,
    "start_time": "2023-03-15T08:45:51.019Z"
   },
   {
    "duration": 16,
    "start_time": "2023-03-15T08:45:54.209Z"
   },
   {
    "duration": 5,
    "start_time": "2023-03-15T08:46:00.432Z"
   },
   {
    "duration": 33,
    "start_time": "2023-03-15T08:46:04.872Z"
   },
   {
    "duration": 10,
    "start_time": "2023-03-15T08:46:23.352Z"
   },
   {
    "duration": 12,
    "start_time": "2023-03-15T08:46:30.256Z"
   },
   {
    "duration": 1584,
    "start_time": "2023-03-15T08:46:46.403Z"
   },
   {
    "duration": 51,
    "start_time": "2023-03-15T08:46:47.989Z"
   },
   {
    "duration": 14,
    "start_time": "2023-03-15T08:46:48.041Z"
   },
   {
    "duration": 17,
    "start_time": "2023-03-15T08:46:48.057Z"
   },
   {
    "duration": 13,
    "start_time": "2023-03-15T08:46:48.076Z"
   },
   {
    "duration": 15,
    "start_time": "2023-03-15T08:46:48.107Z"
   },
   {
    "duration": 8,
    "start_time": "2023-03-15T08:46:48.124Z"
   },
   {
    "duration": 12,
    "start_time": "2023-03-15T08:46:48.134Z"
   },
   {
    "duration": 15,
    "start_time": "2023-03-15T08:46:48.148Z"
   },
   {
    "duration": 4,
    "start_time": "2023-03-15T08:46:48.164Z"
   },
   {
    "duration": 25,
    "start_time": "2023-03-15T08:46:48.169Z"
   },
   {
    "duration": 1101,
    "start_time": "2023-03-15T08:46:48.197Z"
   },
   {
    "duration": 399,
    "start_time": "2023-03-15T08:46:49.300Z"
   },
   {
    "duration": 22,
    "start_time": "2023-03-15T08:46:49.703Z"
   },
   {
    "duration": 248,
    "start_time": "2023-03-15T08:46:49.727Z"
   },
   {
    "duration": 38,
    "start_time": "2023-03-15T08:46:49.977Z"
   },
   {
    "duration": 19,
    "start_time": "2023-03-15T08:46:50.017Z"
   },
   {
    "duration": 29,
    "start_time": "2023-03-15T08:46:50.038Z"
   },
   {
    "duration": 8,
    "start_time": "2023-03-15T08:46:50.069Z"
   },
   {
    "duration": 12,
    "start_time": "2023-03-15T08:46:50.079Z"
   },
   {
    "duration": 32,
    "start_time": "2023-03-15T08:46:50.094Z"
   },
   {
    "duration": 24,
    "start_time": "2023-03-15T08:46:50.128Z"
   },
   {
    "duration": 9,
    "start_time": "2023-03-15T08:46:50.154Z"
   },
   {
    "duration": 138,
    "start_time": "2023-03-15T08:46:50.165Z"
   },
   {
    "duration": 0,
    "start_time": "2023-03-15T08:46:50.307Z"
   },
   {
    "duration": 1661,
    "start_time": "2023-03-15T08:47:28.268Z"
   },
   {
    "duration": 42,
    "start_time": "2023-03-15T08:47:29.932Z"
   },
   {
    "duration": 15,
    "start_time": "2023-03-15T08:47:29.975Z"
   },
   {
    "duration": 16,
    "start_time": "2023-03-15T08:47:29.994Z"
   },
   {
    "duration": 48,
    "start_time": "2023-03-15T08:47:30.013Z"
   },
   {
    "duration": 37,
    "start_time": "2023-03-15T08:47:30.063Z"
   },
   {
    "duration": 24,
    "start_time": "2023-03-15T08:47:30.102Z"
   },
   {
    "duration": 17,
    "start_time": "2023-03-15T08:47:30.128Z"
   },
   {
    "duration": 36,
    "start_time": "2023-03-15T08:47:30.147Z"
   },
   {
    "duration": 15,
    "start_time": "2023-03-15T08:47:30.186Z"
   },
   {
    "duration": 25,
    "start_time": "2023-03-15T08:47:30.204Z"
   },
   {
    "duration": 1179,
    "start_time": "2023-03-15T08:47:30.232Z"
   },
   {
    "duration": 381,
    "start_time": "2023-03-15T08:47:31.416Z"
   },
   {
    "duration": 18,
    "start_time": "2023-03-15T08:47:31.800Z"
   },
   {
    "duration": 239,
    "start_time": "2023-03-15T08:47:31.820Z"
   },
   {
    "duration": 33,
    "start_time": "2023-03-15T08:47:32.060Z"
   },
   {
    "duration": 11,
    "start_time": "2023-03-15T08:47:32.094Z"
   },
   {
    "duration": 25,
    "start_time": "2023-03-15T08:47:32.108Z"
   },
   {
    "duration": 27,
    "start_time": "2023-03-15T08:47:32.135Z"
   },
   {
    "duration": 10,
    "start_time": "2023-03-15T08:47:32.163Z"
   },
   {
    "duration": 29,
    "start_time": "2023-03-15T08:47:32.176Z"
   },
   {
    "duration": 37,
    "start_time": "2023-03-15T08:47:32.208Z"
   },
   {
    "duration": 11,
    "start_time": "2023-03-15T08:47:32.246Z"
   },
   {
    "duration": 23,
    "start_time": "2023-03-15T08:47:32.259Z"
   },
   {
    "duration": 24,
    "start_time": "2023-03-15T08:47:32.289Z"
   },
   {
    "duration": 1914,
    "start_time": "2023-03-15T08:47:50.629Z"
   },
   {
    "duration": 41,
    "start_time": "2023-03-15T08:47:52.545Z"
   },
   {
    "duration": 27,
    "start_time": "2023-03-15T08:47:52.587Z"
   },
   {
    "duration": 14,
    "start_time": "2023-03-15T08:47:52.616Z"
   },
   {
    "duration": 17,
    "start_time": "2023-03-15T08:47:52.632Z"
   },
   {
    "duration": 11,
    "start_time": "2023-03-15T08:47:52.652Z"
   },
   {
    "duration": 41,
    "start_time": "2023-03-15T08:47:52.665Z"
   },
   {
    "duration": 24,
    "start_time": "2023-03-15T08:47:52.708Z"
   },
   {
    "duration": 24,
    "start_time": "2023-03-15T08:47:52.734Z"
   },
   {
    "duration": 4,
    "start_time": "2023-03-15T08:47:52.762Z"
   },
   {
    "duration": 12,
    "start_time": "2023-03-15T08:47:52.769Z"
   },
   {
    "duration": 1195,
    "start_time": "2023-03-15T08:47:52.783Z"
   },
   {
    "duration": 448,
    "start_time": "2023-03-15T08:47:53.980Z"
   },
   {
    "duration": 23,
    "start_time": "2023-03-15T08:47:54.430Z"
   },
   {
    "duration": 319,
    "start_time": "2023-03-15T08:47:54.456Z"
   },
   {
    "duration": 55,
    "start_time": "2023-03-15T08:47:54.777Z"
   },
   {
    "duration": 14,
    "start_time": "2023-03-15T08:47:54.835Z"
   },
   {
    "duration": 23,
    "start_time": "2023-03-15T08:47:54.851Z"
   },
   {
    "duration": 8,
    "start_time": "2023-03-15T08:47:54.877Z"
   },
   {
    "duration": 47,
    "start_time": "2023-03-15T08:47:54.888Z"
   },
   {
    "duration": 12,
    "start_time": "2023-03-15T08:47:54.938Z"
   },
   {
    "duration": 29,
    "start_time": "2023-03-15T08:47:54.952Z"
   },
   {
    "duration": 19,
    "start_time": "2023-03-15T08:47:54.983Z"
   },
   {
    "duration": 38,
    "start_time": "2023-03-15T08:47:55.015Z"
   },
   {
    "duration": 13,
    "start_time": "2023-03-15T08:47:55.055Z"
   },
   {
    "duration": 1996,
    "start_time": "2023-03-15T08:48:06.068Z"
   },
   {
    "duration": 57,
    "start_time": "2023-03-15T08:48:08.067Z"
   },
   {
    "duration": 16,
    "start_time": "2023-03-15T08:48:08.127Z"
   },
   {
    "duration": 27,
    "start_time": "2023-03-15T08:48:08.144Z"
   },
   {
    "duration": 19,
    "start_time": "2023-03-15T08:48:08.174Z"
   },
   {
    "duration": 13,
    "start_time": "2023-03-15T08:48:08.196Z"
   },
   {
    "duration": 21,
    "start_time": "2023-03-15T08:48:08.211Z"
   },
   {
    "duration": 18,
    "start_time": "2023-03-15T08:48:08.235Z"
   },
   {
    "duration": 16,
    "start_time": "2023-03-15T08:48:08.256Z"
   },
   {
    "duration": 37,
    "start_time": "2023-03-15T08:48:08.295Z"
   },
   {
    "duration": 10,
    "start_time": "2023-03-15T08:48:08.334Z"
   },
   {
    "duration": 1267,
    "start_time": "2023-03-15T08:48:08.347Z"
   },
   {
    "duration": 477,
    "start_time": "2023-03-15T08:48:09.617Z"
   },
   {
    "duration": 25,
    "start_time": "2023-03-15T08:48:10.099Z"
   },
   {
    "duration": 306,
    "start_time": "2023-03-15T08:48:10.126Z"
   },
   {
    "duration": 24,
    "start_time": "2023-03-15T08:48:10.434Z"
   },
   {
    "duration": 40,
    "start_time": "2023-03-15T08:48:10.461Z"
   },
   {
    "duration": 12,
    "start_time": "2023-03-15T08:48:10.504Z"
   },
   {
    "duration": 9,
    "start_time": "2023-03-15T08:48:10.520Z"
   },
   {
    "duration": 10,
    "start_time": "2023-03-15T08:48:10.531Z"
   },
   {
    "duration": 13,
    "start_time": "2023-03-15T08:48:10.544Z"
   },
   {
    "duration": 42,
    "start_time": "2023-03-15T08:48:10.560Z"
   },
   {
    "duration": 16,
    "start_time": "2023-03-15T08:48:10.605Z"
   },
   {
    "duration": 25,
    "start_time": "2023-03-15T08:48:10.622Z"
   },
   {
    "duration": 13,
    "start_time": "2023-03-15T08:48:10.649Z"
   },
   {
    "duration": 10,
    "start_time": "2023-03-15T08:48:14.378Z"
   },
   {
    "duration": 1626,
    "start_time": "2023-03-15T10:49:06.657Z"
   },
   {
    "duration": 144,
    "start_time": "2023-03-15T10:49:08.285Z"
   },
   {
    "duration": 15,
    "start_time": "2023-03-15T10:49:08.431Z"
   },
   {
    "duration": 23,
    "start_time": "2023-03-15T10:49:08.448Z"
   },
   {
    "duration": 14,
    "start_time": "2023-03-15T10:49:08.473Z"
   },
   {
    "duration": 14,
    "start_time": "2023-03-15T10:49:08.488Z"
   },
   {
    "duration": 15,
    "start_time": "2023-03-15T10:49:08.503Z"
   },
   {
    "duration": 16,
    "start_time": "2023-03-15T10:49:08.520Z"
   },
   {
    "duration": 21,
    "start_time": "2023-03-15T10:49:08.537Z"
   },
   {
    "duration": 7,
    "start_time": "2023-03-15T10:49:08.561Z"
   },
   {
    "duration": 6,
    "start_time": "2023-03-15T10:49:08.570Z"
   },
   {
    "duration": 1124,
    "start_time": "2023-03-15T10:49:08.578Z"
   },
   {
    "duration": 369,
    "start_time": "2023-03-15T10:49:09.704Z"
   },
   {
    "duration": 15,
    "start_time": "2023-03-15T10:49:10.077Z"
   },
   {
    "duration": 260,
    "start_time": "2023-03-15T10:49:10.093Z"
   },
   {
    "duration": 20,
    "start_time": "2023-03-15T10:49:10.356Z"
   },
   {
    "duration": 12,
    "start_time": "2023-03-15T10:49:10.378Z"
   },
   {
    "duration": 19,
    "start_time": "2023-03-15T10:49:10.393Z"
   },
   {
    "duration": 5,
    "start_time": "2023-03-15T10:49:10.414Z"
   },
   {
    "duration": 23,
    "start_time": "2023-03-15T10:49:10.421Z"
   },
   {
    "duration": 13,
    "start_time": "2023-03-15T10:49:10.448Z"
   },
   {
    "duration": 28,
    "start_time": "2023-03-15T10:49:10.463Z"
   },
   {
    "duration": 11,
    "start_time": "2023-03-15T10:49:10.494Z"
   },
   {
    "duration": 37,
    "start_time": "2023-03-15T10:49:10.507Z"
   },
   {
    "duration": 13,
    "start_time": "2023-03-15T10:49:10.546Z"
   },
   {
    "duration": 3483,
    "start_time": "2023-03-15T11:05:33.829Z"
   },
   {
    "duration": 239,
    "start_time": "2023-03-15T11:05:37.316Z"
   },
   {
    "duration": 2374,
    "start_time": "2023-03-15T11:05:44.577Z"
   },
   {
    "duration": 1519,
    "start_time": "2023-03-15T11:05:46.955Z"
   },
   {
    "duration": 39,
    "start_time": "2023-03-15T11:05:48.476Z"
   },
   {
    "duration": 12,
    "start_time": "2023-03-15T11:05:48.517Z"
   },
   {
    "duration": 5,
    "start_time": "2023-03-15T11:05:48.531Z"
   },
   {
    "duration": 28,
    "start_time": "2023-03-15T11:05:48.541Z"
   },
   {
    "duration": 21,
    "start_time": "2023-03-15T11:05:48.570Z"
   },
   {
    "duration": 16,
    "start_time": "2023-03-15T11:05:48.592Z"
   },
   {
    "duration": 22,
    "start_time": "2023-03-15T11:05:48.610Z"
   },
   {
    "duration": 25,
    "start_time": "2023-03-15T11:05:48.634Z"
   },
   {
    "duration": 9,
    "start_time": "2023-03-15T11:05:48.661Z"
   },
   {
    "duration": 13,
    "start_time": "2023-03-15T11:05:48.671Z"
   },
   {
    "duration": 1101,
    "start_time": "2023-03-15T11:05:48.685Z"
   },
   {
    "duration": 303,
    "start_time": "2023-03-15T11:05:49.789Z"
   },
   {
    "duration": 15,
    "start_time": "2023-03-15T11:05:50.094Z"
   },
   {
    "duration": 244,
    "start_time": "2023-03-15T11:05:50.110Z"
   },
   {
    "duration": 23,
    "start_time": "2023-03-15T11:05:50.357Z"
   },
   {
    "duration": 15,
    "start_time": "2023-03-15T11:05:50.382Z"
   },
   {
    "duration": 9,
    "start_time": "2023-03-15T11:05:50.399Z"
   },
   {
    "duration": 13,
    "start_time": "2023-03-15T11:05:50.410Z"
   },
   {
    "duration": 23,
    "start_time": "2023-03-15T11:05:50.424Z"
   },
   {
    "duration": 20,
    "start_time": "2023-03-15T11:05:50.448Z"
   },
   {
    "duration": 34,
    "start_time": "2023-03-15T11:05:50.470Z"
   },
   {
    "duration": 11,
    "start_time": "2023-03-15T11:05:50.506Z"
   },
   {
    "duration": 40,
    "start_time": "2023-03-15T11:05:50.518Z"
   },
   {
    "duration": 20,
    "start_time": "2023-03-15T11:05:50.559Z"
   },
   {
    "duration": 7,
    "start_time": "2023-03-15T11:10:09.958Z"
   },
   {
    "duration": 2359,
    "start_time": "2023-03-15T11:10:17.567Z"
   },
   {
    "duration": 1445,
    "start_time": "2023-03-15T11:10:19.929Z"
   },
   {
    "duration": 39,
    "start_time": "2023-03-15T11:10:21.376Z"
   },
   {
    "duration": 44,
    "start_time": "2023-03-15T11:10:21.417Z"
   },
   {
    "duration": 45,
    "start_time": "2023-03-15T11:10:21.463Z"
   },
   {
    "duration": 111,
    "start_time": "2023-03-15T11:10:21.510Z"
   },
   {
    "duration": 90,
    "start_time": "2023-03-15T11:10:21.622Z"
   },
   {
    "duration": 87,
    "start_time": "2023-03-15T11:10:21.714Z"
   },
   {
    "duration": 98,
    "start_time": "2023-03-15T11:10:21.804Z"
   },
   {
    "duration": 81,
    "start_time": "2023-03-15T11:10:21.904Z"
   },
   {
    "duration": 42,
    "start_time": "2023-03-15T11:10:21.986Z"
   },
   {
    "duration": 41,
    "start_time": "2023-03-15T11:10:22.030Z"
   },
   {
    "duration": 1141,
    "start_time": "2023-03-15T11:10:22.073Z"
   },
   {
    "duration": 284,
    "start_time": "2023-03-15T11:10:23.216Z"
   },
   {
    "duration": 13,
    "start_time": "2023-03-15T11:10:23.502Z"
   },
   {
    "duration": 255,
    "start_time": "2023-03-15T11:10:23.517Z"
   },
   {
    "duration": 25,
    "start_time": "2023-03-15T11:10:23.774Z"
   },
   {
    "duration": 11,
    "start_time": "2023-03-15T11:10:23.801Z"
   },
   {
    "duration": 35,
    "start_time": "2023-03-15T11:10:23.814Z"
   },
   {
    "duration": 15,
    "start_time": "2023-03-15T11:10:23.851Z"
   },
   {
    "duration": 7,
    "start_time": "2023-03-15T11:10:23.868Z"
   },
   {
    "duration": 17,
    "start_time": "2023-03-15T11:10:23.876Z"
   },
   {
    "duration": 32,
    "start_time": "2023-03-15T11:10:23.895Z"
   },
   {
    "duration": 20,
    "start_time": "2023-03-15T11:10:23.928Z"
   },
   {
    "duration": 23,
    "start_time": "2023-03-15T11:10:23.955Z"
   },
   {
    "duration": 10,
    "start_time": "2023-03-15T11:10:23.980Z"
   },
   {
    "duration": 152,
    "start_time": "2023-03-15T11:16:02.216Z"
   },
   {
    "duration": 11,
    "start_time": "2023-03-15T11:23:13.076Z"
   },
   {
    "duration": 2581,
    "start_time": "2023-03-15T11:26:07.506Z"
   },
   {
    "duration": 1522,
    "start_time": "2023-03-15T11:26:10.090Z"
   },
   {
    "duration": 0,
    "start_time": "2023-03-15T11:26:11.615Z"
   },
   {
    "duration": 1,
    "start_time": "2023-03-15T11:26:11.616Z"
   },
   {
    "duration": 0,
    "start_time": "2023-03-15T11:26:11.618Z"
   },
   {
    "duration": 0,
    "start_time": "2023-03-15T11:26:11.620Z"
   },
   {
    "duration": 0,
    "start_time": "2023-03-15T11:26:11.621Z"
   },
   {
    "duration": 0,
    "start_time": "2023-03-15T11:26:11.622Z"
   },
   {
    "duration": 0,
    "start_time": "2023-03-15T11:26:11.624Z"
   },
   {
    "duration": 0,
    "start_time": "2023-03-15T11:26:11.625Z"
   },
   {
    "duration": 1,
    "start_time": "2023-03-15T11:26:11.626Z"
   },
   {
    "duration": 0,
    "start_time": "2023-03-15T11:26:11.645Z"
   },
   {
    "duration": 0,
    "start_time": "2023-03-15T11:26:11.646Z"
   },
   {
    "duration": 0,
    "start_time": "2023-03-15T11:26:11.647Z"
   },
   {
    "duration": 0,
    "start_time": "2023-03-15T11:26:11.648Z"
   },
   {
    "duration": 0,
    "start_time": "2023-03-15T11:26:11.649Z"
   },
   {
    "duration": 0,
    "start_time": "2023-03-15T11:26:11.650Z"
   },
   {
    "duration": 0,
    "start_time": "2023-03-15T11:26:11.650Z"
   },
   {
    "duration": 0,
    "start_time": "2023-03-15T11:26:11.651Z"
   },
   {
    "duration": 0,
    "start_time": "2023-03-15T11:26:11.652Z"
   },
   {
    "duration": 0,
    "start_time": "2023-03-15T11:26:11.659Z"
   },
   {
    "duration": 0,
    "start_time": "2023-03-15T11:26:11.659Z"
   },
   {
    "duration": 0,
    "start_time": "2023-03-15T11:26:11.660Z"
   },
   {
    "duration": 0,
    "start_time": "2023-03-15T11:26:11.661Z"
   },
   {
    "duration": 0,
    "start_time": "2023-03-15T11:26:11.662Z"
   },
   {
    "duration": 2247,
    "start_time": "2023-03-15T11:26:42.218Z"
   },
   {
    "duration": 1412,
    "start_time": "2023-03-15T11:26:44.467Z"
   },
   {
    "duration": 37,
    "start_time": "2023-03-15T11:26:45.881Z"
   },
   {
    "duration": 12,
    "start_time": "2023-03-15T11:26:45.920Z"
   },
   {
    "duration": 13,
    "start_time": "2023-03-15T11:26:45.934Z"
   },
   {
    "duration": 16,
    "start_time": "2023-03-15T11:26:45.949Z"
   },
   {
    "duration": 9,
    "start_time": "2023-03-15T11:26:45.967Z"
   },
   {
    "duration": 10,
    "start_time": "2023-03-15T11:26:45.977Z"
   },
   {
    "duration": 10,
    "start_time": "2023-03-15T11:26:45.988Z"
   },
   {
    "duration": 13,
    "start_time": "2023-03-15T11:26:46.000Z"
   },
   {
    "duration": 3,
    "start_time": "2023-03-15T11:26:46.015Z"
   },
   {
    "duration": 38,
    "start_time": "2023-03-15T11:26:46.019Z"
   },
   {
    "duration": 1059,
    "start_time": "2023-03-15T11:26:46.059Z"
   },
   {
    "duration": 310,
    "start_time": "2023-03-15T11:26:47.121Z"
   },
   {
    "duration": 22,
    "start_time": "2023-03-15T11:26:47.433Z"
   },
   {
    "duration": 304,
    "start_time": "2023-03-15T11:26:47.457Z"
   },
   {
    "duration": 23,
    "start_time": "2023-03-15T11:26:47.762Z"
   },
   {
    "duration": 11,
    "start_time": "2023-03-15T11:26:47.787Z"
   },
   {
    "duration": 8,
    "start_time": "2023-03-15T11:26:47.800Z"
   },
   {
    "duration": 6,
    "start_time": "2023-03-15T11:26:47.810Z"
   },
   {
    "duration": 6,
    "start_time": "2023-03-15T11:26:47.841Z"
   },
   {
    "duration": 11,
    "start_time": "2023-03-15T11:26:47.849Z"
   },
   {
    "duration": 30,
    "start_time": "2023-03-15T11:26:47.862Z"
   },
   {
    "duration": 59,
    "start_time": "2023-03-15T11:26:47.893Z"
   },
   {
    "duration": 4,
    "start_time": "2023-03-15T11:26:47.956Z"
   },
   {
    "duration": 30,
    "start_time": "2023-03-15T11:27:01.355Z"
   },
   {
    "duration": 2285,
    "start_time": "2023-03-15T11:27:33.631Z"
   },
   {
    "duration": 1480,
    "start_time": "2023-03-15T11:27:35.919Z"
   },
   {
    "duration": 52,
    "start_time": "2023-03-15T11:27:37.401Z"
   },
   {
    "duration": 14,
    "start_time": "2023-03-15T11:27:37.457Z"
   },
   {
    "duration": 25,
    "start_time": "2023-03-15T11:27:37.473Z"
   },
   {
    "duration": 18,
    "start_time": "2023-03-15T11:27:37.500Z"
   },
   {
    "duration": 27,
    "start_time": "2023-03-15T11:27:37.520Z"
   },
   {
    "duration": 17,
    "start_time": "2023-03-15T11:27:37.548Z"
   },
   {
    "duration": 41,
    "start_time": "2023-03-15T11:27:37.567Z"
   },
   {
    "duration": 52,
    "start_time": "2023-03-15T11:27:37.610Z"
   },
   {
    "duration": 4,
    "start_time": "2023-03-15T11:27:37.665Z"
   },
   {
    "duration": 22,
    "start_time": "2023-03-15T11:27:37.671Z"
   },
   {
    "duration": 1215,
    "start_time": "2023-03-15T11:27:37.695Z"
   },
   {
    "duration": 281,
    "start_time": "2023-03-15T11:27:38.912Z"
   },
   {
    "duration": 13,
    "start_time": "2023-03-15T11:27:39.195Z"
   },
   {
    "duration": 248,
    "start_time": "2023-03-15T11:27:39.209Z"
   },
   {
    "duration": 22,
    "start_time": "2023-03-15T11:27:39.459Z"
   },
   {
    "duration": 10,
    "start_time": "2023-03-15T11:27:39.482Z"
   },
   {
    "duration": 7,
    "start_time": "2023-03-15T11:27:39.494Z"
   },
   {
    "duration": 4,
    "start_time": "2023-03-15T11:27:39.502Z"
   },
   {
    "duration": 4,
    "start_time": "2023-03-15T11:27:39.508Z"
   },
   {
    "duration": 31,
    "start_time": "2023-03-15T11:27:39.514Z"
   },
   {
    "duration": 33,
    "start_time": "2023-03-15T11:27:39.550Z"
   },
   {
    "duration": 28,
    "start_time": "2023-03-15T11:27:39.585Z"
   },
   {
    "duration": 3,
    "start_time": "2023-03-15T11:27:39.614Z"
   },
   {
    "duration": 2950,
    "start_time": "2023-03-15T11:28:58.198Z"
   },
   {
    "duration": 2927,
    "start_time": "2023-03-15T11:29:32.720Z"
   },
   {
    "duration": 2424,
    "start_time": "2023-03-15T11:32:04.409Z"
   },
   {
    "duration": 1695,
    "start_time": "2023-03-15T11:32:06.836Z"
   },
   {
    "duration": 59,
    "start_time": "2023-03-15T11:32:08.533Z"
   },
   {
    "duration": 15,
    "start_time": "2023-03-15T11:32:08.594Z"
   },
   {
    "duration": 8,
    "start_time": "2023-03-15T11:32:08.611Z"
   },
   {
    "duration": 29,
    "start_time": "2023-03-15T11:32:08.621Z"
   },
   {
    "duration": 19,
    "start_time": "2023-03-15T11:32:08.652Z"
   },
   {
    "duration": 7,
    "start_time": "2023-03-15T11:32:08.673Z"
   },
   {
    "duration": 16,
    "start_time": "2023-03-15T11:32:08.682Z"
   },
   {
    "duration": 43,
    "start_time": "2023-03-15T11:32:08.700Z"
   },
   {
    "duration": 6,
    "start_time": "2023-03-15T11:32:08.749Z"
   },
   {
    "duration": 25,
    "start_time": "2023-03-15T11:32:08.760Z"
   },
   {
    "duration": 1250,
    "start_time": "2023-03-15T11:32:08.788Z"
   },
   {
    "duration": 286,
    "start_time": "2023-03-15T11:32:10.044Z"
   },
   {
    "duration": 25,
    "start_time": "2023-03-15T11:32:10.332Z"
   },
   {
    "duration": 239,
    "start_time": "2023-03-15T11:32:10.359Z"
   },
   {
    "duration": 20,
    "start_time": "2023-03-15T11:32:10.599Z"
   },
   {
    "duration": 30,
    "start_time": "2023-03-15T11:32:10.621Z"
   },
   {
    "duration": 9,
    "start_time": "2023-03-15T11:32:10.659Z"
   },
   {
    "duration": 4,
    "start_time": "2023-03-15T11:32:10.669Z"
   },
   {
    "duration": 6,
    "start_time": "2023-03-15T11:32:10.675Z"
   },
   {
    "duration": 12,
    "start_time": "2023-03-15T11:32:10.682Z"
   },
   {
    "duration": 30,
    "start_time": "2023-03-15T11:32:10.696Z"
   },
   {
    "duration": 37,
    "start_time": "2023-03-15T11:32:10.745Z"
   },
   {
    "duration": 4,
    "start_time": "2023-03-15T11:32:10.784Z"
   },
   {
    "duration": 2778,
    "start_time": "2023-03-15T11:32:10.790Z"
   },
   {
    "duration": 2998,
    "start_time": "2023-03-15T11:32:13.570Z"
   },
   {
    "duration": 7,
    "start_time": "2023-03-15T11:44:42.713Z"
   },
   {
    "duration": 6,
    "start_time": "2023-03-15T11:44:52.454Z"
   },
   {
    "duration": 2486,
    "start_time": "2023-03-15T11:46:00.554Z"
   },
   {
    "duration": 1581,
    "start_time": "2023-03-15T11:46:03.051Z"
   },
   {
    "duration": 44,
    "start_time": "2023-03-15T11:46:04.634Z"
   },
   {
    "duration": 12,
    "start_time": "2023-03-15T11:46:04.680Z"
   },
   {
    "duration": 15,
    "start_time": "2023-03-15T11:46:04.694Z"
   },
   {
    "duration": 25,
    "start_time": "2023-03-15T11:46:04.710Z"
   },
   {
    "duration": 21,
    "start_time": "2023-03-15T11:46:04.736Z"
   },
   {
    "duration": 9,
    "start_time": "2023-03-15T11:46:04.759Z"
   },
   {
    "duration": 18,
    "start_time": "2023-03-15T11:46:04.770Z"
   },
   {
    "duration": 27,
    "start_time": "2023-03-15T11:46:04.790Z"
   },
   {
    "duration": 7,
    "start_time": "2023-03-15T11:46:04.819Z"
   },
   {
    "duration": 26,
    "start_time": "2023-03-15T11:46:04.828Z"
   },
   {
    "duration": 1170,
    "start_time": "2023-03-15T11:46:04.856Z"
   },
   {
    "duration": 287,
    "start_time": "2023-03-15T11:46:06.030Z"
   },
   {
    "duration": 13,
    "start_time": "2023-03-15T11:46:06.319Z"
   },
   {
    "duration": 233,
    "start_time": "2023-03-15T11:46:06.342Z"
   },
   {
    "duration": 19,
    "start_time": "2023-03-15T11:46:06.576Z"
   },
   {
    "duration": 10,
    "start_time": "2023-03-15T11:46:06.597Z"
   },
   {
    "duration": 8,
    "start_time": "2023-03-15T11:46:06.609Z"
   },
   {
    "duration": 5,
    "start_time": "2023-03-15T11:46:06.642Z"
   },
   {
    "duration": 11,
    "start_time": "2023-03-15T11:46:06.649Z"
   },
   {
    "duration": 11,
    "start_time": "2023-03-15T11:46:06.662Z"
   },
   {
    "duration": 30,
    "start_time": "2023-03-15T11:46:06.675Z"
   },
   {
    "duration": 58,
    "start_time": "2023-03-15T11:46:06.706Z"
   },
   {
    "duration": 3,
    "start_time": "2023-03-15T11:46:06.766Z"
   },
   {
    "duration": 2972,
    "start_time": "2023-03-15T11:46:06.771Z"
   },
   {
    "duration": 2911,
    "start_time": "2023-03-15T11:46:09.749Z"
   },
   {
    "duration": 2350,
    "start_time": "2023-03-15T11:47:21.555Z"
   },
   {
    "duration": 1444,
    "start_time": "2023-03-15T11:47:23.908Z"
   },
   {
    "duration": 39,
    "start_time": "2023-03-15T11:47:25.354Z"
   },
   {
    "duration": 12,
    "start_time": "2023-03-15T11:47:25.394Z"
   },
   {
    "duration": 6,
    "start_time": "2023-03-15T11:47:25.408Z"
   },
   {
    "duration": 15,
    "start_time": "2023-03-15T11:47:25.415Z"
   },
   {
    "duration": 20,
    "start_time": "2023-03-15T11:47:25.432Z"
   },
   {
    "duration": 5,
    "start_time": "2023-03-15T11:47:25.458Z"
   },
   {
    "duration": 11,
    "start_time": "2023-03-15T11:47:25.464Z"
   },
   {
    "duration": 12,
    "start_time": "2023-03-15T11:47:25.476Z"
   },
   {
    "duration": 3,
    "start_time": "2023-03-15T11:47:25.489Z"
   },
   {
    "duration": 5,
    "start_time": "2023-03-15T11:47:25.493Z"
   },
   {
    "duration": 1103,
    "start_time": "2023-03-15T11:47:25.499Z"
   },
   {
    "duration": 285,
    "start_time": "2023-03-15T11:47:26.605Z"
   },
   {
    "duration": 15,
    "start_time": "2023-03-15T11:47:26.892Z"
   },
   {
    "duration": 248,
    "start_time": "2023-03-15T11:47:26.908Z"
   },
   {
    "duration": 20,
    "start_time": "2023-03-15T11:47:27.158Z"
   },
   {
    "duration": 9,
    "start_time": "2023-03-15T11:47:27.180Z"
   },
   {
    "duration": 8,
    "start_time": "2023-03-15T11:47:27.191Z"
   },
   {
    "duration": 4,
    "start_time": "2023-03-15T11:47:27.201Z"
   },
   {
    "duration": 43,
    "start_time": "2023-03-15T11:47:27.206Z"
   },
   {
    "duration": 7,
    "start_time": "2023-03-15T11:47:27.251Z"
   },
   {
    "duration": 31,
    "start_time": "2023-03-15T11:47:27.260Z"
   },
   {
    "duration": 29,
    "start_time": "2023-03-15T11:47:27.293Z"
   },
   {
    "duration": 30,
    "start_time": "2023-03-15T11:47:27.323Z"
   },
   {
    "duration": 285,
    "start_time": "2023-03-15T11:47:27.356Z"
   },
   {
    "duration": 3003,
    "start_time": "2023-03-15T11:47:27.643Z"
   },
   {
    "duration": 3008,
    "start_time": "2023-03-15T11:47:30.648Z"
   },
   {
    "duration": 164,
    "start_time": "2023-03-15T11:56:37.622Z"
   },
   {
    "duration": 2340,
    "start_time": "2023-03-15T11:57:14.349Z"
   },
   {
    "duration": 1476,
    "start_time": "2023-03-15T11:57:16.692Z"
   },
   {
    "duration": 0,
    "start_time": "2023-03-15T11:57:18.171Z"
   },
   {
    "duration": 0,
    "start_time": "2023-03-15T11:57:18.172Z"
   },
   {
    "duration": 0,
    "start_time": "2023-03-15T11:57:18.173Z"
   },
   {
    "duration": 0,
    "start_time": "2023-03-15T11:57:18.174Z"
   },
   {
    "duration": 0,
    "start_time": "2023-03-15T11:57:18.175Z"
   },
   {
    "duration": 0,
    "start_time": "2023-03-15T11:57:18.177Z"
   },
   {
    "duration": 0,
    "start_time": "2023-03-15T11:57:18.178Z"
   },
   {
    "duration": 0,
    "start_time": "2023-03-15T11:57:18.179Z"
   },
   {
    "duration": 0,
    "start_time": "2023-03-15T11:57:18.180Z"
   },
   {
    "duration": 0,
    "start_time": "2023-03-15T11:57:18.181Z"
   },
   {
    "duration": 0,
    "start_time": "2023-03-15T11:57:18.182Z"
   },
   {
    "duration": 0,
    "start_time": "2023-03-15T11:57:18.184Z"
   },
   {
    "duration": 0,
    "start_time": "2023-03-15T11:57:18.185Z"
   },
   {
    "duration": 0,
    "start_time": "2023-03-15T11:57:18.186Z"
   },
   {
    "duration": 0,
    "start_time": "2023-03-15T11:57:18.186Z"
   },
   {
    "duration": 0,
    "start_time": "2023-03-15T11:57:18.188Z"
   },
   {
    "duration": 0,
    "start_time": "2023-03-15T11:57:18.189Z"
   },
   {
    "duration": 0,
    "start_time": "2023-03-15T11:57:18.190Z"
   },
   {
    "duration": 0,
    "start_time": "2023-03-15T11:57:18.191Z"
   },
   {
    "duration": 0,
    "start_time": "2023-03-15T11:57:18.192Z"
   },
   {
    "duration": 0,
    "start_time": "2023-03-15T11:57:18.193Z"
   },
   {
    "duration": 0,
    "start_time": "2023-03-15T11:57:18.195Z"
   },
   {
    "duration": 0,
    "start_time": "2023-03-15T11:57:18.196Z"
   },
   {
    "duration": 0,
    "start_time": "2023-03-15T11:57:18.242Z"
   },
   {
    "duration": 0,
    "start_time": "2023-03-15T11:57:18.243Z"
   },
   {
    "duration": 0,
    "start_time": "2023-03-15T11:57:18.243Z"
   },
   {
    "duration": 0,
    "start_time": "2023-03-15T11:57:18.244Z"
   },
   {
    "duration": 2483,
    "start_time": "2023-03-15T11:57:36.094Z"
   },
   {
    "duration": 1476,
    "start_time": "2023-03-15T11:57:38.580Z"
   },
   {
    "duration": 40,
    "start_time": "2023-03-15T11:57:40.058Z"
   },
   {
    "duration": 14,
    "start_time": "2023-03-15T11:57:40.100Z"
   },
   {
    "duration": 6,
    "start_time": "2023-03-15T11:57:40.116Z"
   },
   {
    "duration": 12,
    "start_time": "2023-03-15T11:57:40.124Z"
   },
   {
    "duration": 19,
    "start_time": "2023-03-15T11:57:40.138Z"
   },
   {
    "duration": 4,
    "start_time": "2023-03-15T11:57:40.159Z"
   },
   {
    "duration": 10,
    "start_time": "2023-03-15T11:57:40.165Z"
   },
   {
    "duration": 13,
    "start_time": "2023-03-15T11:57:40.177Z"
   },
   {
    "duration": 4,
    "start_time": "2023-03-15T11:57:40.191Z"
   },
   {
    "duration": 8,
    "start_time": "2023-03-15T11:57:40.196Z"
   },
   {
    "duration": 1093,
    "start_time": "2023-03-15T11:57:40.205Z"
   },
   {
    "duration": 265,
    "start_time": "2023-03-15T11:57:41.301Z"
   },
   {
    "duration": 12,
    "start_time": "2023-03-15T11:57:41.568Z"
   },
   {
    "duration": 270,
    "start_time": "2023-03-15T11:57:41.582Z"
   },
   {
    "duration": 22,
    "start_time": "2023-03-15T11:57:41.854Z"
   },
   {
    "duration": 12,
    "start_time": "2023-03-15T11:57:41.878Z"
   },
   {
    "duration": 9,
    "start_time": "2023-03-15T11:57:41.892Z"
   },
   {
    "duration": 7,
    "start_time": "2023-03-15T11:57:41.903Z"
   },
   {
    "duration": 43,
    "start_time": "2023-03-15T11:57:41.912Z"
   },
   {
    "duration": 12,
    "start_time": "2023-03-15T11:57:41.957Z"
   },
   {
    "duration": 35,
    "start_time": "2023-03-15T11:57:41.970Z"
   },
   {
    "duration": 34,
    "start_time": "2023-03-15T11:57:42.007Z"
   },
   {
    "duration": 4,
    "start_time": "2023-03-15T11:57:42.052Z"
   },
   {
    "duration": 291,
    "start_time": "2023-03-15T11:57:42.059Z"
   },
   {
    "duration": 3111,
    "start_time": "2023-03-15T11:57:42.352Z"
   },
   {
    "duration": 2902,
    "start_time": "2023-03-15T11:57:45.544Z"
   },
   {
    "duration": 5580,
    "start_time": "2023-03-15T11:57:48.450Z"
   },
   {
    "duration": 6126,
    "start_time": "2023-03-15T11:58:18.760Z"
   },
   {
    "duration": 26268,
    "start_time": "2023-03-15T12:01:02.100Z"
   },
   {
    "duration": 27239,
    "start_time": "2023-03-15T12:01:28.370Z"
   },
   {
    "duration": 37,
    "start_time": "2023-03-15T12:04:43.021Z"
   },
   {
    "duration": 2619,
    "start_time": "2023-03-15T12:04:48.383Z"
   },
   {
    "duration": 1623,
    "start_time": "2023-03-15T12:04:51.004Z"
   },
   {
    "duration": 47,
    "start_time": "2023-03-15T12:04:52.629Z"
   },
   {
    "duration": 16,
    "start_time": "2023-03-15T12:04:52.678Z"
   },
   {
    "duration": 9,
    "start_time": "2023-03-15T12:04:52.698Z"
   },
   {
    "duration": 13,
    "start_time": "2023-03-15T12:04:52.709Z"
   },
   {
    "duration": 34,
    "start_time": "2023-03-15T12:04:52.724Z"
   },
   {
    "duration": 6,
    "start_time": "2023-03-15T12:04:52.760Z"
   },
   {
    "duration": 22,
    "start_time": "2023-03-15T12:04:52.768Z"
   },
   {
    "duration": 19,
    "start_time": "2023-03-15T12:04:52.793Z"
   },
   {
    "duration": 4,
    "start_time": "2023-03-15T12:04:52.815Z"
   },
   {
    "duration": 30,
    "start_time": "2023-03-15T12:04:52.820Z"
   },
   {
    "duration": 1238,
    "start_time": "2023-03-15T12:04:52.856Z"
   },
   {
    "duration": 318,
    "start_time": "2023-03-15T12:04:54.099Z"
   },
   {
    "duration": 35,
    "start_time": "2023-03-15T12:04:54.418Z"
   },
   {
    "duration": 242,
    "start_time": "2023-03-15T12:04:54.455Z"
   },
   {
    "duration": 27,
    "start_time": "2023-03-15T12:04:54.699Z"
   },
   {
    "duration": 22,
    "start_time": "2023-03-15T12:04:54.742Z"
   },
   {
    "duration": 11,
    "start_time": "2023-03-15T12:04:54.767Z"
   },
   {
    "duration": 13,
    "start_time": "2023-03-15T12:04:54.780Z"
   },
   {
    "duration": 21,
    "start_time": "2023-03-15T12:04:54.795Z"
   },
   {
    "duration": 9,
    "start_time": "2023-03-15T12:04:54.818Z"
   },
   {
    "duration": 38,
    "start_time": "2023-03-15T12:04:54.829Z"
   },
   {
    "duration": 33,
    "start_time": "2023-03-15T12:04:54.869Z"
   },
   {
    "duration": 26,
    "start_time": "2023-03-15T12:04:54.904Z"
   },
   {
    "duration": 436,
    "start_time": "2023-03-15T12:04:54.931Z"
   },
   {
    "duration": 3097,
    "start_time": "2023-03-15T12:04:55.369Z"
   },
   {
    "duration": 3322,
    "start_time": "2023-03-15T12:04:58.542Z"
   },
   {
    "duration": 6004,
    "start_time": "2023-03-15T12:05:01.944Z"
   },
   {
    "duration": 5891,
    "start_time": "2023-03-15T12:05:07.959Z"
   },
   {
    "duration": 27395,
    "start_time": "2023-03-15T12:05:13.856Z"
   },
   {
    "duration": 27104,
    "start_time": "2023-03-15T12:05:41.253Z"
   },
   {
    "duration": 2336,
    "start_time": "2023-03-15T12:39:29.872Z"
   },
   {
    "duration": 1531,
    "start_time": "2023-03-15T12:39:32.210Z"
   },
   {
    "duration": 51,
    "start_time": "2023-03-15T12:39:33.743Z"
   },
   {
    "duration": 24,
    "start_time": "2023-03-15T12:39:33.797Z"
   },
   {
    "duration": 8,
    "start_time": "2023-03-15T12:39:33.824Z"
   },
   {
    "duration": 19,
    "start_time": "2023-03-15T12:39:33.834Z"
   },
   {
    "duration": 11,
    "start_time": "2023-03-15T12:39:33.856Z"
   },
   {
    "duration": 7,
    "start_time": "2023-03-15T12:39:33.869Z"
   },
   {
    "duration": 21,
    "start_time": "2023-03-15T12:39:33.878Z"
   },
   {
    "duration": 15,
    "start_time": "2023-03-15T12:39:33.901Z"
   },
   {
    "duration": 24,
    "start_time": "2023-03-15T12:39:33.919Z"
   },
   {
    "duration": 7,
    "start_time": "2023-03-15T12:39:33.945Z"
   },
   {
    "duration": 1144,
    "start_time": "2023-03-15T12:39:33.954Z"
   },
   {
    "duration": 296,
    "start_time": "2023-03-15T12:39:35.103Z"
   },
   {
    "duration": 14,
    "start_time": "2023-03-15T12:39:35.401Z"
   },
   {
    "duration": 245,
    "start_time": "2023-03-15T12:39:35.417Z"
   },
   {
    "duration": 24,
    "start_time": "2023-03-15T12:39:35.664Z"
   },
   {
    "duration": 11,
    "start_time": "2023-03-15T12:39:35.690Z"
   },
   {
    "duration": 10,
    "start_time": "2023-03-15T12:39:35.703Z"
   },
   {
    "duration": 30,
    "start_time": "2023-03-15T12:39:35.714Z"
   },
   {
    "duration": 77,
    "start_time": "2023-03-15T12:39:35.747Z"
   },
   {
    "duration": 78,
    "start_time": "2023-03-15T12:39:35.826Z"
   },
   {
    "duration": 51,
    "start_time": "2023-03-15T12:39:35.906Z"
   },
   {
    "duration": 38,
    "start_time": "2023-03-15T12:39:35.959Z"
   },
   {
    "duration": 3,
    "start_time": "2023-03-15T12:39:35.999Z"
   },
   {
    "duration": 253,
    "start_time": "2023-03-15T12:39:36.005Z"
   },
   {
    "duration": 3106,
    "start_time": "2023-03-15T12:39:36.342Z"
   },
   {
    "duration": 2895,
    "start_time": "2023-03-15T12:39:39.451Z"
   },
   {
    "duration": 5477,
    "start_time": "2023-03-15T12:39:42.350Z"
   },
   {
    "duration": 5402,
    "start_time": "2023-03-15T12:39:47.829Z"
   },
   {
    "duration": 26331,
    "start_time": "2023-03-15T12:39:53.233Z"
   },
   {
    "duration": 26205,
    "start_time": "2023-03-15T12:40:19.566Z"
   },
   {
    "duration": 2410,
    "start_time": "2023-03-15T12:42:04.586Z"
   },
   {
    "duration": 1658,
    "start_time": "2023-03-15T12:42:06.998Z"
   },
   {
    "duration": 41,
    "start_time": "2023-03-15T12:42:08.658Z"
   },
   {
    "duration": 14,
    "start_time": "2023-03-15T12:42:08.701Z"
   },
   {
    "duration": 23,
    "start_time": "2023-03-15T12:42:08.716Z"
   },
   {
    "duration": 23,
    "start_time": "2023-03-15T12:42:08.741Z"
   },
   {
    "duration": 17,
    "start_time": "2023-03-15T12:42:08.766Z"
   },
   {
    "duration": 8,
    "start_time": "2023-03-15T12:42:08.785Z"
   },
   {
    "duration": 21,
    "start_time": "2023-03-15T12:42:08.794Z"
   },
   {
    "duration": 18,
    "start_time": "2023-03-15T12:42:08.818Z"
   },
   {
    "duration": 5,
    "start_time": "2023-03-15T12:42:08.837Z"
   },
   {
    "duration": 13,
    "start_time": "2023-03-15T12:42:08.844Z"
   },
   {
    "duration": 1138,
    "start_time": "2023-03-15T12:42:08.860Z"
   },
   {
    "duration": 278,
    "start_time": "2023-03-15T12:42:10.000Z"
   },
   {
    "duration": 15,
    "start_time": "2023-03-15T12:42:10.279Z"
   },
   {
    "duration": 222,
    "start_time": "2023-03-15T12:42:10.295Z"
   },
   {
    "duration": 28,
    "start_time": "2023-03-15T12:42:10.519Z"
   },
   {
    "duration": 10,
    "start_time": "2023-03-15T12:42:10.549Z"
   },
   {
    "duration": 7,
    "start_time": "2023-03-15T12:42:10.561Z"
   },
   {
    "duration": 53,
    "start_time": "2023-03-15T12:42:10.570Z"
   },
   {
    "duration": 17,
    "start_time": "2023-03-15T12:42:10.625Z"
   },
   {
    "duration": 17,
    "start_time": "2023-03-15T12:42:10.644Z"
   },
   {
    "duration": 30,
    "start_time": "2023-03-15T12:42:10.663Z"
   },
   {
    "duration": 29,
    "start_time": "2023-03-15T12:42:10.695Z"
   },
   {
    "duration": 2,
    "start_time": "2023-03-15T12:42:10.726Z"
   },
   {
    "duration": 205,
    "start_time": "2023-03-15T12:42:10.741Z"
   },
   {
    "duration": 3394,
    "start_time": "2023-03-15T12:42:10.949Z"
   },
   {
    "duration": 3196,
    "start_time": "2023-03-15T12:42:14.347Z"
   },
   {
    "duration": 5435,
    "start_time": "2023-03-15T12:42:17.546Z"
   },
   {
    "duration": 5537,
    "start_time": "2023-03-15T12:42:22.983Z"
   },
   {
    "duration": 25836,
    "start_time": "2023-03-15T12:42:28.521Z"
   },
   {
    "duration": 25809,
    "start_time": "2023-03-15T12:42:54.358Z"
   },
   {
    "duration": 4,
    "start_time": "2023-03-15T12:47:04.229Z"
   },
   {
    "duration": 3,
    "start_time": "2023-03-15T12:54:46.293Z"
   },
   {
    "duration": 149,
    "start_time": "2023-03-15T12:54:46.734Z"
   },
   {
    "duration": 4,
    "start_time": "2023-03-15T12:55:12.420Z"
   },
   {
    "duration": 1703,
    "start_time": "2023-03-15T12:55:12.643Z"
   },
   {
    "duration": 4,
    "start_time": "2023-03-15T12:55:32.059Z"
   },
   {
    "duration": 1280,
    "start_time": "2023-03-15T12:55:32.668Z"
   },
   {
    "duration": 6,
    "start_time": "2023-03-15T12:59:21.230Z"
   },
   {
    "duration": 5,
    "start_time": "2023-03-15T12:59:30.874Z"
   },
   {
    "duration": 2327,
    "start_time": "2023-03-15T12:59:53.745Z"
   },
   {
    "duration": 1487,
    "start_time": "2023-03-15T12:59:56.074Z"
   },
   {
    "duration": 45,
    "start_time": "2023-03-15T12:59:57.563Z"
   },
   {
    "duration": 31,
    "start_time": "2023-03-15T12:59:57.611Z"
   },
   {
    "duration": 40,
    "start_time": "2023-03-15T12:59:57.646Z"
   },
   {
    "duration": 38,
    "start_time": "2023-03-15T12:59:57.689Z"
   },
   {
    "duration": 16,
    "start_time": "2023-03-15T12:59:57.729Z"
   },
   {
    "duration": 9,
    "start_time": "2023-03-15T12:59:57.747Z"
   },
   {
    "duration": 15,
    "start_time": "2023-03-15T12:59:57.758Z"
   },
   {
    "duration": 25,
    "start_time": "2023-03-15T12:59:57.775Z"
   },
   {
    "duration": 4,
    "start_time": "2023-03-15T12:59:57.802Z"
   },
   {
    "duration": 39,
    "start_time": "2023-03-15T12:59:57.808Z"
   },
   {
    "duration": 1153,
    "start_time": "2023-03-15T12:59:57.849Z"
   },
   {
    "duration": 286,
    "start_time": "2023-03-15T12:59:59.007Z"
   },
   {
    "duration": 16,
    "start_time": "2023-03-15T12:59:59.296Z"
   },
   {
    "duration": 435,
    "start_time": "2023-03-15T12:59:59.314Z"
   },
   {
    "duration": 20,
    "start_time": "2023-03-15T12:59:59.750Z"
   },
   {
    "duration": 12,
    "start_time": "2023-03-15T12:59:59.772Z"
   },
   {
    "duration": 8,
    "start_time": "2023-03-15T12:59:59.786Z"
   },
   {
    "duration": 5,
    "start_time": "2023-03-15T12:59:59.796Z"
   },
   {
    "duration": 6,
    "start_time": "2023-03-15T12:59:59.802Z"
   },
   {
    "duration": 6,
    "start_time": "2023-03-15T12:59:59.842Z"
   },
   {
    "duration": 31,
    "start_time": "2023-03-15T12:59:59.850Z"
   },
   {
    "duration": 30,
    "start_time": "2023-03-15T12:59:59.883Z"
   },
   {
    "duration": 28,
    "start_time": "2023-03-15T12:59:59.915Z"
   },
   {
    "duration": 301,
    "start_time": "2023-03-15T12:59:59.944Z"
   },
   {
    "duration": 3106,
    "start_time": "2023-03-15T13:00:00.246Z"
   },
   {
    "duration": 3208,
    "start_time": "2023-03-15T13:00:03.442Z"
   },
   {
    "duration": 5725,
    "start_time": "2023-03-15T13:00:06.652Z"
   },
   {
    "duration": 5566,
    "start_time": "2023-03-15T13:00:12.379Z"
   },
   {
    "duration": 27043,
    "start_time": "2023-03-15T13:00:17.947Z"
   },
   {
    "duration": 25896,
    "start_time": "2023-03-15T13:00:44.991Z"
   },
   {
    "duration": 2,
    "start_time": "2023-03-15T13:01:10.889Z"
   },
   {
    "duration": 1575,
    "start_time": "2023-03-15T13:01:10.893Z"
   },
   {
    "duration": 3,
    "start_time": "2023-03-15T13:01:31.348Z"
   },
   {
    "duration": 2079,
    "start_time": "2023-03-15T13:01:31.563Z"
   },
   {
    "duration": 136,
    "start_time": "2023-03-15T13:02:27.580Z"
   },
   {
    "duration": 91,
    "start_time": "2023-03-15T13:05:08.151Z"
   },
   {
    "duration": 13,
    "start_time": "2023-03-15T13:08:26.649Z"
   },
   {
    "duration": 15,
    "start_time": "2023-03-15T13:08:33.625Z"
   },
   {
    "duration": 15,
    "start_time": "2023-03-15T13:10:07.553Z"
   },
   {
    "duration": 12,
    "start_time": "2023-03-15T13:10:40.581Z"
   },
   {
    "duration": 3,
    "start_time": "2023-03-15T13:10:56.074Z"
   },
   {
    "duration": 2642,
    "start_time": "2023-03-15T13:11:15.087Z"
   },
   {
    "duration": 1812,
    "start_time": "2023-03-15T13:11:17.732Z"
   },
   {
    "duration": 40,
    "start_time": "2023-03-15T13:11:19.546Z"
   },
   {
    "duration": 13,
    "start_time": "2023-03-15T13:11:19.588Z"
   },
   {
    "duration": 10,
    "start_time": "2023-03-15T13:11:19.603Z"
   },
   {
    "duration": 18,
    "start_time": "2023-03-15T13:11:19.614Z"
   },
   {
    "duration": 11,
    "start_time": "2023-03-15T13:11:19.642Z"
   },
   {
    "duration": 14,
    "start_time": "2023-03-15T13:11:19.655Z"
   },
   {
    "duration": 11,
    "start_time": "2023-03-15T13:11:19.671Z"
   },
   {
    "duration": 22,
    "start_time": "2023-03-15T13:11:19.684Z"
   },
   {
    "duration": 4,
    "start_time": "2023-03-15T13:11:19.708Z"
   },
   {
    "duration": 5,
    "start_time": "2023-03-15T13:11:19.742Z"
   },
   {
    "duration": 1145,
    "start_time": "2023-03-15T13:11:19.749Z"
   },
   {
    "duration": 284,
    "start_time": "2023-03-15T13:11:20.900Z"
   },
   {
    "duration": 13,
    "start_time": "2023-03-15T13:11:21.186Z"
   },
   {
    "duration": 281,
    "start_time": "2023-03-15T13:11:21.200Z"
   },
   {
    "duration": 26,
    "start_time": "2023-03-15T13:11:21.484Z"
   },
   {
    "duration": 30,
    "start_time": "2023-03-15T13:11:21.513Z"
   },
   {
    "duration": 11,
    "start_time": "2023-03-15T13:11:21.545Z"
   },
   {
    "duration": 4,
    "start_time": "2023-03-15T13:11:21.558Z"
   },
   {
    "duration": 9,
    "start_time": "2023-03-15T13:11:21.564Z"
   },
   {
    "duration": 12,
    "start_time": "2023-03-15T13:11:21.575Z"
   },
   {
    "duration": 67,
    "start_time": "2023-03-15T13:11:21.589Z"
   },
   {
    "duration": 41,
    "start_time": "2023-03-15T13:11:21.658Z"
   },
   {
    "duration": 3,
    "start_time": "2023-03-15T13:11:21.702Z"
   },
   {
    "duration": 242,
    "start_time": "2023-03-15T13:11:21.707Z"
   },
   {
    "duration": 3498,
    "start_time": "2023-03-15T13:11:21.951Z"
   },
   {
    "duration": 3293,
    "start_time": "2023-03-15T13:11:25.451Z"
   },
   {
    "duration": 5501,
    "start_time": "2023-03-15T13:11:28.749Z"
   },
   {
    "duration": 5668,
    "start_time": "2023-03-15T13:11:34.253Z"
   },
   {
    "duration": 26194,
    "start_time": "2023-03-15T13:11:39.923Z"
   },
   {
    "duration": 26150,
    "start_time": "2023-03-15T13:12:06.119Z"
   },
   {
    "duration": 4,
    "start_time": "2023-03-15T13:12:32.271Z"
   },
   {
    "duration": 88665,
    "start_time": "2023-03-15T13:12:32.278Z"
   },
   {
    "duration": 14,
    "start_time": "2023-03-15T13:14:00.944Z"
   },
   {
    "duration": 205,
    "start_time": "2023-03-15T13:14:00.960Z"
   },
   {
    "duration": 22975,
    "start_time": "2023-03-15T13:16:05.874Z"
   },
   {
    "duration": 14,
    "start_time": "2023-03-15T13:18:59.323Z"
   },
   {
    "duration": 15938,
    "start_time": "2023-03-15T13:19:06.010Z"
   },
   {
    "duration": 7,
    "start_time": "2023-03-15T13:19:27.234Z"
   },
   {
    "duration": 6,
    "start_time": "2023-03-15T13:20:59.896Z"
   },
   {
    "duration": 11,
    "start_time": "2023-03-15T13:21:11.024Z"
   },
   {
    "duration": 4,
    "start_time": "2023-03-15T13:21:18.328Z"
   },
   {
    "duration": 3,
    "start_time": "2023-03-15T13:23:41.877Z"
   },
   {
    "duration": 2073,
    "start_time": "2023-03-15T13:23:42.172Z"
   },
   {
    "duration": 15,
    "start_time": "2023-03-15T13:23:49.516Z"
   },
   {
    "duration": 19922,
    "start_time": "2023-03-15T13:23:51.619Z"
   },
   {
    "duration": 6,
    "start_time": "2023-03-15T13:24:50.345Z"
   },
   {
    "duration": 4336,
    "start_time": "2023-03-15T13:27:54.510Z"
   },
   {
    "duration": 5,
    "start_time": "2023-03-15T13:27:58.848Z"
   },
   {
    "duration": 1136,
    "start_time": "2023-03-15T13:28:11.310Z"
   },
   {
    "duration": 4,
    "start_time": "2023-03-15T13:28:12.448Z"
   },
   {
    "duration": 3553,
    "start_time": "2023-03-15T13:28:25.694Z"
   },
   {
    "duration": 6,
    "start_time": "2023-03-15T13:28:29.249Z"
   },
   {
    "duration": 20931,
    "start_time": "2023-03-15T13:28:38.326Z"
   },
   {
    "duration": 6,
    "start_time": "2023-03-15T13:28:59.340Z"
   },
   {
    "duration": 7862,
    "start_time": "2023-03-15T13:29:15.179Z"
   },
   {
    "duration": 4,
    "start_time": "2023-03-15T13:29:23.044Z"
   },
   {
    "duration": 14720,
    "start_time": "2023-03-15T13:29:37.029Z"
   },
   {
    "duration": 6,
    "start_time": "2023-03-15T13:29:51.751Z"
   },
   {
    "duration": 1605,
    "start_time": "2023-03-15T13:31:36.137Z"
   },
   {
    "duration": 103,
    "start_time": "2023-03-15T13:31:37.746Z"
   },
   {
    "duration": 24597,
    "start_time": "2023-03-15T13:31:37.851Z"
   },
   {
    "duration": 5,
    "start_time": "2023-03-15T13:32:02.450Z"
   },
   {
    "duration": 15735,
    "start_time": "2023-03-15T13:33:03.613Z"
   },
   {
    "duration": 7,
    "start_time": "2023-03-15T13:33:19.350Z"
   },
   {
    "duration": 16737,
    "start_time": "2023-03-15T13:33:27.808Z"
   },
   {
    "duration": 6,
    "start_time": "2023-03-15T13:33:44.547Z"
   },
   {
    "duration": 17490,
    "start_time": "2023-03-15T13:34:33.654Z"
   },
   {
    "duration": 6,
    "start_time": "2023-03-15T13:34:51.146Z"
   },
   {
    "duration": 24640,
    "start_time": "2023-03-15T13:34:55.305Z"
   },
   {
    "duration": 7,
    "start_time": "2023-03-15T13:35:19.947Z"
   },
   {
    "duration": 25140,
    "start_time": "2023-03-15T13:35:31.004Z"
   },
   {
    "duration": 2250,
    "start_time": "2023-03-15T13:41:37.969Z"
   },
   {
    "duration": 1497,
    "start_time": "2023-03-15T13:41:40.222Z"
   },
   {
    "duration": 40,
    "start_time": "2023-03-15T13:41:41.721Z"
   },
   {
    "duration": 14,
    "start_time": "2023-03-15T13:41:41.763Z"
   },
   {
    "duration": 11,
    "start_time": "2023-03-15T13:41:41.780Z"
   },
   {
    "duration": 15,
    "start_time": "2023-03-15T13:41:41.793Z"
   },
   {
    "duration": 30,
    "start_time": "2023-03-15T13:41:41.811Z"
   },
   {
    "duration": 6,
    "start_time": "2023-03-15T13:41:41.843Z"
   },
   {
    "duration": 12,
    "start_time": "2023-03-15T13:41:41.850Z"
   },
   {
    "duration": 16,
    "start_time": "2023-03-15T13:41:41.863Z"
   },
   {
    "duration": 4,
    "start_time": "2023-03-15T13:41:41.881Z"
   },
   {
    "duration": 7,
    "start_time": "2023-03-15T13:41:41.887Z"
   },
   {
    "duration": 1094,
    "start_time": "2023-03-15T13:41:41.896Z"
   },
   {
    "duration": 267,
    "start_time": "2023-03-15T13:41:42.993Z"
   },
   {
    "duration": 13,
    "start_time": "2023-03-15T13:41:43.262Z"
   },
   {
    "duration": 222,
    "start_time": "2023-03-15T13:41:43.277Z"
   },
   {
    "duration": 18,
    "start_time": "2023-03-15T13:41:43.501Z"
   },
   {
    "duration": 22,
    "start_time": "2023-03-15T13:41:43.521Z"
   },
   {
    "duration": 9,
    "start_time": "2023-03-15T13:41:43.545Z"
   },
   {
    "duration": 10,
    "start_time": "2023-03-15T13:41:43.556Z"
   },
   {
    "duration": 5,
    "start_time": "2023-03-15T13:41:43.567Z"
   },
   {
    "duration": 7,
    "start_time": "2023-03-15T13:41:43.573Z"
   },
   {
    "duration": 29,
    "start_time": "2023-03-15T13:41:43.581Z"
   },
   {
    "duration": 54,
    "start_time": "2023-03-15T13:41:43.612Z"
   },
   {
    "duration": 4,
    "start_time": "2023-03-15T13:41:43.667Z"
   },
   {
    "duration": 278,
    "start_time": "2023-03-15T13:41:43.672Z"
   },
   {
    "duration": 3191,
    "start_time": "2023-03-15T13:41:43.952Z"
   },
   {
    "duration": 3397,
    "start_time": "2023-03-15T13:41:47.146Z"
   },
   {
    "duration": 5278,
    "start_time": "2023-03-15T13:41:50.545Z"
   },
   {
    "duration": 5409,
    "start_time": "2023-03-15T13:41:55.825Z"
   },
   {
    "duration": 26267,
    "start_time": "2023-03-15T13:42:01.236Z"
   },
   {
    "duration": 26012,
    "start_time": "2023-03-15T13:42:27.505Z"
   },
   {
    "duration": 2,
    "start_time": "2023-03-15T13:42:53.519Z"
   },
   {
    "duration": 6,
    "start_time": "2023-03-15T13:42:53.522Z"
   },
   {
    "duration": 13,
    "start_time": "2023-03-15T13:42:53.529Z"
   },
   {
    "duration": 4,
    "start_time": "2023-03-15T13:42:53.544Z"
   },
   {
    "duration": 4,
    "start_time": "2023-03-15T13:42:53.549Z"
   },
   {
    "duration": 3,
    "start_time": "2023-03-15T13:42:53.555Z"
   },
   {
    "duration": 1393,
    "start_time": "2023-03-15T13:42:53.562Z"
   },
   {
    "duration": 2290,
    "start_time": "2023-03-15T13:45:31.103Z"
   },
   {
    "duration": 1448,
    "start_time": "2023-03-15T13:45:33.396Z"
   },
   {
    "duration": 47,
    "start_time": "2023-03-15T13:45:34.846Z"
   },
   {
    "duration": 13,
    "start_time": "2023-03-15T13:45:34.894Z"
   },
   {
    "duration": 16,
    "start_time": "2023-03-15T13:45:34.909Z"
   },
   {
    "duration": 27,
    "start_time": "2023-03-15T13:45:34.927Z"
   },
   {
    "duration": 10,
    "start_time": "2023-03-15T13:45:34.956Z"
   },
   {
    "duration": 23,
    "start_time": "2023-03-15T13:45:34.967Z"
   },
   {
    "duration": 32,
    "start_time": "2023-03-15T13:45:34.992Z"
   },
   {
    "duration": 34,
    "start_time": "2023-03-15T13:45:35.025Z"
   },
   {
    "duration": 8,
    "start_time": "2023-03-15T13:45:35.061Z"
   },
   {
    "duration": 16,
    "start_time": "2023-03-15T13:45:35.071Z"
   },
   {
    "duration": 1093,
    "start_time": "2023-03-15T13:45:35.089Z"
   },
   {
    "duration": 281,
    "start_time": "2023-03-15T13:45:36.185Z"
   },
   {
    "duration": 13,
    "start_time": "2023-03-15T13:45:36.468Z"
   },
   {
    "duration": 244,
    "start_time": "2023-03-15T13:45:36.482Z"
   },
   {
    "duration": 30,
    "start_time": "2023-03-15T13:45:36.727Z"
   },
   {
    "duration": 11,
    "start_time": "2023-03-15T13:45:36.758Z"
   },
   {
    "duration": 9,
    "start_time": "2023-03-15T13:45:36.771Z"
   },
   {
    "duration": 4,
    "start_time": "2023-03-15T13:45:36.782Z"
   },
   {
    "duration": 5,
    "start_time": "2023-03-15T13:45:36.789Z"
   },
   {
    "duration": 17,
    "start_time": "2023-03-15T13:45:36.796Z"
   },
   {
    "duration": 56,
    "start_time": "2023-03-15T13:45:36.814Z"
   },
   {
    "duration": 31,
    "start_time": "2023-03-15T13:45:36.872Z"
   },
   {
    "duration": 3,
    "start_time": "2023-03-15T13:45:36.905Z"
   },
   {
    "duration": 332,
    "start_time": "2023-03-15T13:45:36.910Z"
   },
   {
    "duration": 3698,
    "start_time": "2023-03-15T13:45:37.245Z"
   },
   {
    "duration": 2998,
    "start_time": "2023-03-15T13:45:40.945Z"
   },
   {
    "duration": 5491,
    "start_time": "2023-03-15T13:45:43.946Z"
   },
   {
    "duration": 5317,
    "start_time": "2023-03-15T13:45:49.439Z"
   },
   {
    "duration": 25905,
    "start_time": "2023-03-15T13:45:54.758Z"
   },
   {
    "duration": 25656,
    "start_time": "2023-03-15T13:46:20.665Z"
   },
   {
    "duration": 3,
    "start_time": "2023-03-15T13:46:46.323Z"
   },
   {
    "duration": 15,
    "start_time": "2023-03-15T13:46:46.327Z"
   },
   {
    "duration": 5,
    "start_time": "2023-03-15T13:46:46.344Z"
   },
   {
    "duration": 4,
    "start_time": "2023-03-15T13:46:46.350Z"
   },
   {
    "duration": 6,
    "start_time": "2023-03-15T13:46:46.356Z"
   },
   {
    "duration": 5,
    "start_time": "2023-03-15T13:46:46.364Z"
   },
   {
    "duration": 15378,
    "start_time": "2023-03-15T13:46:46.371Z"
   },
   {
    "duration": 197902,
    "start_time": "2023-03-15T13:47:01.750Z"
   },
   {
    "duration": 11786,
    "start_time": "2023-03-15T13:50:19.656Z"
   },
   {
    "duration": 7,
    "start_time": "2023-03-15T13:51:44.230Z"
   },
   {
    "duration": 2258,
    "start_time": "2023-03-15T13:52:19.424Z"
   },
   {
    "duration": 1497,
    "start_time": "2023-03-15T13:52:21.685Z"
   },
   {
    "duration": 41,
    "start_time": "2023-03-15T13:52:23.184Z"
   },
   {
    "duration": 121,
    "start_time": "2023-03-15T13:52:23.229Z"
   },
   {
    "duration": 179,
    "start_time": "2023-03-15T13:52:23.352Z"
   },
   {
    "duration": 31,
    "start_time": "2023-03-15T13:52:23.533Z"
   },
   {
    "duration": 10,
    "start_time": "2023-03-15T13:52:23.566Z"
   },
   {
    "duration": 13,
    "start_time": "2023-03-15T13:52:23.578Z"
   },
   {
    "duration": 16,
    "start_time": "2023-03-15T13:52:23.593Z"
   },
   {
    "duration": 30,
    "start_time": "2023-03-15T13:52:23.613Z"
   },
   {
    "duration": 4,
    "start_time": "2023-03-15T13:52:23.645Z"
   },
   {
    "duration": 22,
    "start_time": "2023-03-15T13:52:23.651Z"
   },
   {
    "duration": 1147,
    "start_time": "2023-03-15T13:52:23.675Z"
   },
   {
    "duration": 264,
    "start_time": "2023-03-15T13:52:24.824Z"
   },
   {
    "duration": 13,
    "start_time": "2023-03-15T13:52:25.089Z"
   },
   {
    "duration": 227,
    "start_time": "2023-03-15T13:52:25.104Z"
   },
   {
    "duration": 26,
    "start_time": "2023-03-15T13:52:25.332Z"
   },
   {
    "duration": 10,
    "start_time": "2023-03-15T13:52:25.360Z"
   },
   {
    "duration": 7,
    "start_time": "2023-03-15T13:52:25.372Z"
   },
   {
    "duration": 12,
    "start_time": "2023-03-15T13:52:25.381Z"
   },
   {
    "duration": 8,
    "start_time": "2023-03-15T13:52:25.394Z"
   },
   {
    "duration": 11,
    "start_time": "2023-03-15T13:52:25.403Z"
   },
   {
    "duration": 47,
    "start_time": "2023-03-15T13:52:25.415Z"
   },
   {
    "duration": 29,
    "start_time": "2023-03-15T13:52:25.464Z"
   },
   {
    "duration": 3,
    "start_time": "2023-03-15T13:52:25.495Z"
   },
   {
    "duration": 254,
    "start_time": "2023-03-15T13:52:25.499Z"
   },
   {
    "duration": 3188,
    "start_time": "2023-03-15T13:52:25.755Z"
   },
   {
    "duration": 3001,
    "start_time": "2023-03-15T13:52:28.949Z"
   },
   {
    "duration": 5303,
    "start_time": "2023-03-15T13:52:32.042Z"
   },
   {
    "duration": 5819,
    "start_time": "2023-03-15T13:52:37.347Z"
   },
   {
    "duration": 25746,
    "start_time": "2023-03-15T13:52:43.168Z"
   },
   {
    "duration": 25783,
    "start_time": "2023-03-15T13:53:08.916Z"
   },
   {
    "duration": 3,
    "start_time": "2023-03-15T13:53:34.701Z"
   },
   {
    "duration": 216044,
    "start_time": "2023-03-15T13:53:34.705Z"
   },
   {
    "duration": 18405,
    "start_time": "2023-03-15T13:57:10.751Z"
   },
   {
    "duration": 10899,
    "start_time": "2023-03-15T13:57:29.158Z"
   },
   {
    "duration": 2466,
    "start_time": "2023-03-15T14:15:59.046Z"
   },
   {
    "duration": 1483,
    "start_time": "2023-03-15T14:16:01.515Z"
   },
   {
    "duration": 49,
    "start_time": "2023-03-15T14:16:02.999Z"
   },
   {
    "duration": 12,
    "start_time": "2023-03-15T14:16:03.050Z"
   },
   {
    "duration": 6,
    "start_time": "2023-03-15T14:16:03.063Z"
   },
   {
    "duration": 17,
    "start_time": "2023-03-15T14:16:03.070Z"
   },
   {
    "duration": 9,
    "start_time": "2023-03-15T14:16:03.088Z"
   },
   {
    "duration": 7,
    "start_time": "2023-03-15T14:16:03.099Z"
   },
   {
    "duration": 34,
    "start_time": "2023-03-15T14:16:03.108Z"
   },
   {
    "duration": 13,
    "start_time": "2023-03-15T14:16:03.145Z"
   },
   {
    "duration": 3,
    "start_time": "2023-03-15T14:16:03.160Z"
   },
   {
    "duration": 5,
    "start_time": "2023-03-15T14:16:03.164Z"
   },
   {
    "duration": 1132,
    "start_time": "2023-03-15T14:16:03.170Z"
   },
   {
    "duration": 258,
    "start_time": "2023-03-15T14:16:04.303Z"
   },
   {
    "duration": 13,
    "start_time": "2023-03-15T14:16:04.563Z"
   },
   {
    "duration": 230,
    "start_time": "2023-03-15T14:16:04.577Z"
   },
   {
    "duration": 19,
    "start_time": "2023-03-15T14:16:04.809Z"
   },
   {
    "duration": 11,
    "start_time": "2023-03-15T14:16:04.840Z"
   },
   {
    "duration": 8,
    "start_time": "2023-03-15T14:16:04.853Z"
   },
   {
    "duration": 14,
    "start_time": "2023-03-15T14:16:04.862Z"
   },
   {
    "duration": 4,
    "start_time": "2023-03-15T14:16:04.878Z"
   },
   {
    "duration": 11,
    "start_time": "2023-03-15T14:16:04.883Z"
   },
   {
    "duration": 50,
    "start_time": "2023-03-15T14:16:04.896Z"
   },
   {
    "duration": 33,
    "start_time": "2023-03-15T14:16:04.948Z"
   },
   {
    "duration": 4,
    "start_time": "2023-03-15T14:16:04.983Z"
   },
   {
    "duration": 262,
    "start_time": "2023-03-15T14:16:04.988Z"
   },
   {
    "duration": 3191,
    "start_time": "2023-03-15T14:16:05.252Z"
   },
   {
    "duration": 3091,
    "start_time": "2023-03-15T14:16:08.451Z"
   },
   {
    "duration": 5321,
    "start_time": "2023-03-15T14:16:11.544Z"
   },
   {
    "duration": 5584,
    "start_time": "2023-03-15T14:16:16.867Z"
   },
   {
    "duration": 26279,
    "start_time": "2023-03-15T14:16:22.453Z"
   },
   {
    "duration": 26271,
    "start_time": "2023-03-15T14:16:48.734Z"
   },
   {
    "duration": 3,
    "start_time": "2023-03-15T14:17:15.007Z"
   },
   {
    "duration": 2035,
    "start_time": "2023-03-15T14:17:15.012Z"
   },
   {
    "duration": 11204,
    "start_time": "2023-03-15T14:17:17.049Z"
   },
   {
    "duration": 11601,
    "start_time": "2023-03-15T14:17:28.254Z"
   },
   {
    "duration": 9206,
    "start_time": "2023-03-15T14:37:22.648Z"
   },
   {
    "duration": 238,
    "start_time": "2023-03-15T14:38:05.312Z"
   },
   {
    "duration": 3207,
    "start_time": "2023-03-15T14:38:31.336Z"
   },
   {
    "duration": 3553,
    "start_time": "2023-03-15T14:39:12.090Z"
   },
   {
    "duration": 16145,
    "start_time": "2023-03-15T14:40:58.498Z"
   },
   {
    "duration": 301,
    "start_time": "2023-03-15T14:41:14.645Z"
   },
   {
    "duration": 3196,
    "start_time": "2023-03-15T14:41:14.949Z"
   },
   {
    "duration": 3396,
    "start_time": "2023-03-15T14:41:18.147Z"
   },
   {
    "duration": 19424,
    "start_time": "2023-03-15T14:41:50.722Z"
   },
   {
    "duration": 391,
    "start_time": "2023-03-15T14:42:10.151Z"
   },
   {
    "duration": 3198,
    "start_time": "2023-03-15T14:42:10.545Z"
   },
   {
    "duration": 2998,
    "start_time": "2023-03-15T14:42:13.746Z"
   },
   {
    "duration": 24648,
    "start_time": "2023-03-15T14:42:36.793Z"
   },
   {
    "duration": 306,
    "start_time": "2023-03-15T14:43:01.444Z"
   },
   {
    "duration": 3095,
    "start_time": "2023-03-15T14:43:01.753Z"
   },
   {
    "duration": 3092,
    "start_time": "2023-03-15T14:43:04.850Z"
   },
   {
    "duration": 24732,
    "start_time": "2023-03-15T14:43:10.311Z"
   },
   {
    "duration": 396,
    "start_time": "2023-03-15T14:43:35.046Z"
   },
   {
    "duration": 3499,
    "start_time": "2023-03-15T14:43:35.445Z"
   },
   {
    "duration": 3095,
    "start_time": "2023-03-15T14:43:38.947Z"
   },
   {
    "duration": 22845,
    "start_time": "2023-03-15T14:43:54.898Z"
   },
   {
    "duration": 500,
    "start_time": "2023-03-15T14:44:17.749Z"
   },
   {
    "duration": 3191,
    "start_time": "2023-03-15T14:44:18.252Z"
   },
   {
    "duration": 3004,
    "start_time": "2023-03-15T14:44:21.446Z"
   },
   {
    "duration": 5,
    "start_time": "2023-03-15T14:44:51.958Z"
   },
   {
    "duration": 25418,
    "start_time": "2023-03-15T14:45:29.030Z"
   },
   {
    "duration": 295,
    "start_time": "2023-03-15T14:45:54.451Z"
   },
   {
    "duration": 3404,
    "start_time": "2023-03-15T14:45:54.749Z"
   },
   {
    "duration": 3086,
    "start_time": "2023-03-15T14:45:58.156Z"
   },
   {
    "duration": 5,
    "start_time": "2023-03-15T14:46:01.243Z"
   },
   {
    "duration": 3072,
    "start_time": "2023-03-15T16:28:10.728Z"
   },
   {
    "duration": 1784,
    "start_time": "2023-03-15T16:28:13.802Z"
   },
   {
    "duration": 89,
    "start_time": "2023-03-15T16:28:15.588Z"
   },
   {
    "duration": 14,
    "start_time": "2023-03-15T16:28:15.679Z"
   },
   {
    "duration": 7,
    "start_time": "2023-03-15T16:28:15.695Z"
   },
   {
    "duration": 13,
    "start_time": "2023-03-15T16:28:15.704Z"
   },
   {
    "duration": 9,
    "start_time": "2023-03-15T16:28:15.719Z"
   },
   {
    "duration": 6,
    "start_time": "2023-03-15T16:28:15.730Z"
   },
   {
    "duration": 14,
    "start_time": "2023-03-15T16:28:15.738Z"
   },
   {
    "duration": 38,
    "start_time": "2023-03-15T16:28:15.756Z"
   },
   {
    "duration": 3,
    "start_time": "2023-03-15T16:28:15.796Z"
   },
   {
    "duration": 8,
    "start_time": "2023-03-15T16:28:15.800Z"
   },
   {
    "duration": 1181,
    "start_time": "2023-03-15T16:28:15.809Z"
   },
   {
    "duration": 278,
    "start_time": "2023-03-15T16:28:16.991Z"
   },
   {
    "duration": 20,
    "start_time": "2023-03-15T16:28:17.270Z"
   },
   {
    "duration": 208,
    "start_time": "2023-03-15T16:28:17.292Z"
   },
   {
    "duration": 19,
    "start_time": "2023-03-15T16:28:17.502Z"
   },
   {
    "duration": 8,
    "start_time": "2023-03-15T16:28:17.523Z"
   },
   {
    "duration": 7,
    "start_time": "2023-03-15T16:28:17.533Z"
   },
   {
    "duration": 15,
    "start_time": "2023-03-15T16:28:17.541Z"
   },
   {
    "duration": 4,
    "start_time": "2023-03-15T16:28:17.558Z"
   },
   {
    "duration": 27,
    "start_time": "2023-03-15T16:28:17.564Z"
   },
   {
    "duration": 29,
    "start_time": "2023-03-15T16:28:17.593Z"
   },
   {
    "duration": 30,
    "start_time": "2023-03-15T16:28:17.624Z"
   },
   {
    "duration": 3,
    "start_time": "2023-03-15T16:28:17.656Z"
   },
   {
    "duration": 242,
    "start_time": "2023-03-15T16:28:17.661Z"
   },
   {
    "duration": 3287,
    "start_time": "2023-03-15T16:28:17.909Z"
   },
   {
    "duration": 3192,
    "start_time": "2023-03-15T16:28:21.201Z"
   },
   {
    "duration": 5500,
    "start_time": "2023-03-15T16:28:24.395Z"
   },
   {
    "duration": 5545,
    "start_time": "2023-03-15T16:28:29.897Z"
   },
   {
    "duration": 26833,
    "start_time": "2023-03-15T16:28:35.444Z"
   },
   {
    "duration": 26137,
    "start_time": "2023-03-15T16:29:02.281Z"
   },
   {
    "duration": 2,
    "start_time": "2023-03-15T16:29:28.421Z"
   },
   {
    "duration": 295473,
    "start_time": "2023-03-15T16:29:28.425Z"
   },
   {
    "duration": 2597,
    "start_time": "2023-03-15T16:56:23.262Z"
   },
   {
    "duration": 1612,
    "start_time": "2023-03-15T16:56:25.861Z"
   },
   {
    "duration": 52,
    "start_time": "2023-03-15T16:56:27.475Z"
   },
   {
    "duration": 14,
    "start_time": "2023-03-15T16:56:27.529Z"
   },
   {
    "duration": 30,
    "start_time": "2023-03-15T16:56:27.545Z"
   },
   {
    "duration": 84,
    "start_time": "2023-03-15T16:56:27.576Z"
   },
   {
    "duration": 38,
    "start_time": "2023-03-15T16:56:27.662Z"
   },
   {
    "duration": 31,
    "start_time": "2023-03-15T16:56:27.702Z"
   },
   {
    "duration": 47,
    "start_time": "2023-03-15T16:56:27.735Z"
   },
   {
    "duration": 44,
    "start_time": "2023-03-15T16:56:27.785Z"
   },
   {
    "duration": 35,
    "start_time": "2023-03-15T16:56:27.831Z"
   },
   {
    "duration": 16,
    "start_time": "2023-03-15T16:56:27.868Z"
   },
   {
    "duration": 1173,
    "start_time": "2023-03-15T16:56:27.885Z"
   },
   {
    "duration": 297,
    "start_time": "2023-03-15T16:56:29.060Z"
   },
   {
    "duration": 15,
    "start_time": "2023-03-15T16:56:29.360Z"
   },
   {
    "duration": 252,
    "start_time": "2023-03-15T16:56:29.377Z"
   },
   {
    "duration": 18,
    "start_time": "2023-03-15T16:56:29.631Z"
   },
   {
    "duration": 21,
    "start_time": "2023-03-15T16:56:29.651Z"
   },
   {
    "duration": 27,
    "start_time": "2023-03-15T16:56:29.673Z"
   },
   {
    "duration": 31,
    "start_time": "2023-03-15T16:56:29.710Z"
   },
   {
    "duration": 35,
    "start_time": "2023-03-15T16:56:29.743Z"
   },
   {
    "duration": 58,
    "start_time": "2023-03-15T16:56:29.780Z"
   },
   {
    "duration": 29,
    "start_time": "2023-03-15T16:56:29.839Z"
   },
   {
    "duration": 33,
    "start_time": "2023-03-15T16:56:29.870Z"
   },
   {
    "duration": 7,
    "start_time": "2023-03-15T16:56:29.906Z"
   },
   {
    "duration": 204,
    "start_time": "2023-03-15T16:56:29.916Z"
   },
   {
    "duration": 2902,
    "start_time": "2023-03-15T16:56:30.192Z"
   },
   {
    "duration": 3019,
    "start_time": "2023-03-15T16:56:33.098Z"
   },
   {
    "duration": 6119,
    "start_time": "2023-03-15T16:56:36.189Z"
   },
   {
    "duration": 6037,
    "start_time": "2023-03-15T16:56:42.310Z"
   },
   {
    "duration": 29327,
    "start_time": "2023-03-15T16:56:48.349Z"
   },
   {
    "duration": 28752,
    "start_time": "2023-03-15T16:57:17.678Z"
   },
   {
    "duration": 3,
    "start_time": "2023-03-15T16:57:46.433Z"
   },
   {
    "duration": 58664,
    "start_time": "2023-03-15T16:57:46.437Z"
   },
   {
    "duration": 306300,
    "start_time": "2023-03-15T16:58:45.104Z"
   },
   {
    "duration": 386206,
    "start_time": "2023-03-15T17:03:51.406Z"
   },
   {
    "duration": 24189,
    "start_time": "2023-03-15T17:10:17.613Z"
   },
   {
    "duration": 206,
    "start_time": "2023-03-15T17:10:41.804Z"
   },
   {
    "duration": 2991,
    "start_time": "2023-03-15T17:10:42.105Z"
   },
   {
    "duration": 3194,
    "start_time": "2023-03-15T17:10:45.104Z"
   },
   {
    "duration": 27320,
    "start_time": "2023-03-15T17:21:45.310Z"
   },
   {
    "duration": 2423,
    "start_time": "2023-03-15T17:23:43.784Z"
   },
   {
    "duration": 1539,
    "start_time": "2023-03-15T17:23:46.210Z"
   },
   {
    "duration": 63,
    "start_time": "2023-03-15T17:23:47.751Z"
   },
   {
    "duration": 16,
    "start_time": "2023-03-15T17:23:47.817Z"
   },
   {
    "duration": 14,
    "start_time": "2023-03-15T17:23:47.834Z"
   },
   {
    "duration": 18,
    "start_time": "2023-03-15T17:23:47.850Z"
   },
   {
    "duration": 15,
    "start_time": "2023-03-15T17:23:47.869Z"
   },
   {
    "duration": 28,
    "start_time": "2023-03-15T17:23:47.886Z"
   },
   {
    "duration": 14,
    "start_time": "2023-03-15T17:23:47.916Z"
   },
   {
    "duration": 14,
    "start_time": "2023-03-15T17:23:47.933Z"
   },
   {
    "duration": 3,
    "start_time": "2023-03-15T17:23:47.949Z"
   },
   {
    "duration": 6,
    "start_time": "2023-03-15T17:23:47.954Z"
   },
   {
    "duration": 1061,
    "start_time": "2023-03-15T17:23:47.961Z"
   },
   {
    "duration": 284,
    "start_time": "2023-03-15T17:23:49.024Z"
   },
   {
    "duration": 14,
    "start_time": "2023-03-15T17:23:49.309Z"
   },
   {
    "duration": 224,
    "start_time": "2023-03-15T17:23:49.324Z"
   },
   {
    "duration": 19,
    "start_time": "2023-03-15T17:23:49.550Z"
   },
   {
    "duration": 33,
    "start_time": "2023-03-15T17:23:49.570Z"
   },
   {
    "duration": 8,
    "start_time": "2023-03-15T17:23:49.605Z"
   },
   {
    "duration": 21,
    "start_time": "2023-03-15T17:23:49.614Z"
   },
   {
    "duration": 19,
    "start_time": "2023-03-15T17:23:49.637Z"
   },
   {
    "duration": 12,
    "start_time": "2023-03-15T17:23:49.658Z"
   },
   {
    "duration": 31,
    "start_time": "2023-03-15T17:23:49.672Z"
   },
   {
    "duration": 28,
    "start_time": "2023-03-15T17:23:49.704Z"
   },
   {
    "duration": 3,
    "start_time": "2023-03-15T17:23:49.734Z"
   },
   {
    "duration": 262,
    "start_time": "2023-03-15T17:23:49.738Z"
   },
   {
    "duration": 3006,
    "start_time": "2023-03-15T17:23:50.002Z"
   },
   {
    "duration": 3101,
    "start_time": "2023-03-15T17:23:53.012Z"
   },
   {
    "duration": 5689,
    "start_time": "2023-03-15T17:23:56.195Z"
   },
   {
    "duration": 5864,
    "start_time": "2023-03-15T17:24:01.886Z"
   },
   {
    "duration": 28532,
    "start_time": "2023-03-15T17:24:07.752Z"
   },
   {
    "duration": 27961,
    "start_time": "2023-03-15T17:24:36.290Z"
   },
   {
    "duration": 2,
    "start_time": "2023-03-15T17:25:04.253Z"
   },
   {
    "duration": 18644,
    "start_time": "2023-03-15T17:25:04.257Z"
   },
   {
    "duration": 168108,
    "start_time": "2023-03-15T17:25:22.903Z"
   },
   {
    "duration": 120501,
    "start_time": "2023-03-15T17:28:11.013Z"
   },
   {
    "duration": 24032,
    "start_time": "2023-03-15T17:30:11.516Z"
   },
   {
    "duration": 306,
    "start_time": "2023-03-15T17:30:35.598Z"
   },
   {
    "duration": 3002,
    "start_time": "2023-03-15T17:30:35.995Z"
   },
   {
    "duration": 2994,
    "start_time": "2023-03-15T17:30:38.998Z"
   },
   {
    "duration": 2983,
    "start_time": "2023-03-17T04:54:06.485Z"
   },
   {
    "duration": 1915,
    "start_time": "2023-03-17T04:54:09.470Z"
   },
   {
    "duration": 89,
    "start_time": "2023-03-17T04:54:11.387Z"
   },
   {
    "duration": 12,
    "start_time": "2023-03-17T04:54:11.478Z"
   },
   {
    "duration": 7,
    "start_time": "2023-03-17T04:54:11.492Z"
   },
   {
    "duration": 24,
    "start_time": "2023-03-17T04:54:11.501Z"
   },
   {
    "duration": 9,
    "start_time": "2023-03-17T04:54:11.526Z"
   },
   {
    "duration": 7,
    "start_time": "2023-03-17T04:54:11.536Z"
   },
   {
    "duration": 11,
    "start_time": "2023-03-17T04:54:11.545Z"
   },
   {
    "duration": 14,
    "start_time": "2023-03-17T04:54:11.581Z"
   },
   {
    "duration": 5,
    "start_time": "2023-03-17T04:54:11.598Z"
   },
   {
    "duration": 8,
    "start_time": "2023-03-17T04:54:11.604Z"
   },
   {
    "duration": 1041,
    "start_time": "2023-03-17T04:54:11.614Z"
   },
   {
    "duration": 274,
    "start_time": "2023-03-17T04:54:12.657Z"
   },
   {
    "duration": 12,
    "start_time": "2023-03-17T04:54:12.932Z"
   },
   {
    "duration": 230,
    "start_time": "2023-03-17T04:54:12.945Z"
   },
   {
    "duration": 21,
    "start_time": "2023-03-17T04:54:13.179Z"
   },
   {
    "duration": 11,
    "start_time": "2023-03-17T04:54:13.202Z"
   },
   {
    "duration": 7,
    "start_time": "2023-03-17T04:54:13.215Z"
   },
   {
    "duration": 3,
    "start_time": "2023-03-17T04:54:13.224Z"
   },
   {
    "duration": 4,
    "start_time": "2023-03-17T04:54:13.229Z"
   },
   {
    "duration": 44,
    "start_time": "2023-03-17T04:54:13.235Z"
   },
   {
    "duration": 32,
    "start_time": "2023-03-17T04:54:13.281Z"
   },
   {
    "duration": 25,
    "start_time": "2023-03-17T04:54:13.314Z"
   },
   {
    "duration": 3,
    "start_time": "2023-03-17T04:54:13.341Z"
   },
   {
    "duration": 242,
    "start_time": "2023-03-17T04:54:13.345Z"
   },
   {
    "duration": 2808,
    "start_time": "2023-03-17T04:54:13.588Z"
   },
   {
    "duration": 2809,
    "start_time": "2023-03-17T04:54:16.488Z"
   },
   {
    "duration": 5477,
    "start_time": "2023-03-17T04:54:19.298Z"
   },
   {
    "duration": 5432,
    "start_time": "2023-03-17T04:54:24.776Z"
   },
   {
    "duration": 26233,
    "start_time": "2023-03-17T04:54:30.209Z"
   },
   {
    "duration": 27042,
    "start_time": "2023-03-17T04:54:56.444Z"
   },
   {
    "duration": 2,
    "start_time": "2023-03-17T04:55:23.488Z"
   },
   {
    "duration": 905,
    "start_time": "2023-03-17T04:55:23.492Z"
   },
   {
    "duration": 7897,
    "start_time": "2023-03-17T04:55:24.400Z"
   },
   {
    "duration": 8696,
    "start_time": "2023-03-17T04:55:32.299Z"
   },
   {
    "duration": 16724,
    "start_time": "2023-03-17T04:55:40.998Z"
   },
   {
    "duration": 462,
    "start_time": "2023-03-17T04:55:57.724Z"
   },
   {
    "duration": 2911,
    "start_time": "2023-03-17T04:55:58.197Z"
   },
   {
    "duration": 2818,
    "start_time": "2023-03-17T04:56:01.179Z"
   },
   {
    "duration": 2044715,
    "start_time": "2023-03-17T04:56:03.999Z"
   },
   {
    "duration": 2790,
    "start_time": "2023-03-17T05:30:08.716Z"
   },
   {
    "duration": 20089,
    "start_time": "2023-03-17T05:30:11.508Z"
   },
   {
    "duration": 19425,
    "start_time": "2023-03-17T05:30:31.598Z"
   },
   {
    "duration": 15,
    "start_time": "2023-03-17T05:30:51.025Z"
   },
   {
    "duration": 50,
    "start_time": "2023-03-17T06:05:35.169Z"
   },
   {
    "duration": 162,
    "start_time": "2023-03-17T06:05:48.913Z"
   },
   {
    "duration": 51,
    "start_time": "2023-03-17T06:05:58.897Z"
   },
   {
    "duration": 34,
    "start_time": "2023-03-17T06:06:26.997Z"
   },
   {
    "duration": 8,
    "start_time": "2023-03-17T07:14:11.100Z"
   },
   {
    "duration": 10,
    "start_time": "2023-03-17T07:14:16.124Z"
   },
   {
    "duration": 9,
    "start_time": "2023-03-17T07:15:51.542Z"
   },
   {
    "duration": 15,
    "start_time": "2023-03-17T07:18:53.728Z"
   },
   {
    "duration": 14,
    "start_time": "2023-03-17T07:20:35.820Z"
   },
   {
    "duration": 144,
    "start_time": "2023-03-17T07:25:49.420Z"
   },
   {
    "duration": 20,
    "start_time": "2023-03-17T07:34:02.810Z"
   },
   {
    "duration": 38,
    "start_time": "2023-03-17T07:34:17.781Z"
   },
   {
    "duration": 3,
    "start_time": "2023-03-17T07:36:51.002Z"
   },
   {
    "duration": 41,
    "start_time": "2023-03-17T07:36:52.449Z"
   },
   {
    "duration": 569,
    "start_time": "2023-03-17T07:36:54.036Z"
   },
   {
    "duration": 3,
    "start_time": "2023-03-17T07:37:04.524Z"
   },
   {
    "duration": 221,
    "start_time": "2023-03-17T07:37:05.476Z"
   },
   {
    "duration": 2919,
    "start_time": "2023-03-17T07:37:06.669Z"
   },
   {
    "duration": 12,
    "start_time": "2023-03-17T07:37:32.707Z"
   },
   {
    "duration": 5,
    "start_time": "2023-03-17T07:37:38.148Z"
   },
   {
    "duration": 12,
    "start_time": "2023-03-17T07:37:51.621Z"
   },
   {
    "duration": 7,
    "start_time": "2023-03-17T07:38:57.694Z"
   },
   {
    "duration": 15,
    "start_time": "2023-03-17T07:38:58.852Z"
   },
   {
    "duration": 507,
    "start_time": "2023-03-17T07:38:59.910Z"
   },
   {
    "duration": 478,
    "start_time": "2023-03-17T07:39:00.743Z"
   },
   {
    "duration": 15,
    "start_time": "2023-03-17T07:39:07.512Z"
   },
   {
    "duration": 2,
    "start_time": "2023-03-17T07:39:59.324Z"
   },
   {
    "duration": 149,
    "start_time": "2023-03-17T07:40:00.060Z"
   },
   {
    "duration": 2345,
    "start_time": "2023-03-17T07:40:01.252Z"
   },
   {
    "duration": 2523,
    "start_time": "2023-03-17T07:40:15.470Z"
   },
   {
    "duration": 9,
    "start_time": "2023-03-17T07:40:25.556Z"
   },
   {
    "duration": 49,
    "start_time": "2023-03-17T07:42:32.307Z"
   },
   {
    "duration": 428,
    "start_time": "2023-03-17T07:43:20.035Z"
   },
   {
    "duration": 380,
    "start_time": "2023-03-17T07:43:58.451Z"
   },
   {
    "duration": 23,
    "start_time": "2023-03-17T07:45:00.342Z"
   },
   {
    "duration": 15,
    "start_time": "2023-03-17T07:45:04.078Z"
   },
   {
    "duration": 21,
    "start_time": "2023-03-17T07:45:31.757Z"
   },
   {
    "duration": 10,
    "start_time": "2023-03-17T07:45:32.611Z"
   },
   {
    "duration": 27,
    "start_time": "2023-03-17T07:46:39.908Z"
   },
   {
    "duration": 30,
    "start_time": "2023-03-17T07:46:40.678Z"
   },
   {
    "duration": 463,
    "start_time": "2023-03-17T07:47:15.153Z"
   },
   {
    "duration": 438,
    "start_time": "2023-03-17T07:47:22.108Z"
   },
   {
    "duration": 598,
    "start_time": "2023-03-17T07:48:07.920Z"
   },
   {
    "duration": 144,
    "start_time": "2023-03-17T07:48:23.097Z"
   },
   {
    "duration": 527,
    "start_time": "2023-03-17T07:48:26.130Z"
   },
   {
    "duration": 113,
    "start_time": "2023-03-17T07:49:41.899Z"
   },
   {
    "duration": 383,
    "start_time": "2023-03-17T07:50:13.090Z"
   },
   {
    "duration": 469,
    "start_time": "2023-03-17T07:50:29.760Z"
   }
  ],
  "kernelspec": {
   "display_name": "Python 3 (ipykernel)",
   "language": "python",
   "name": "python3"
  },
  "language_info": {
   "codemirror_mode": {
    "name": "ipython",
    "version": 3
   },
   "file_extension": ".py",
   "mimetype": "text/x-python",
   "name": "python",
   "nbconvert_exporter": "python",
   "pygments_lexer": "ipython3",
   "version": "3.10.4"
  },
  "toc": {
   "base_numbering": 1,
   "nav_menu": {},
   "number_sections": true,
   "sideBar": true,
   "skip_h1_title": true,
   "title_cell": "Содержание",
   "title_sidebar": "Contents",
   "toc_cell": true,
   "toc_position": {
    "height": "678px",
    "left": "26px",
    "top": "150px",
    "width": "364.375px"
   },
   "toc_section_display": true,
   "toc_window_display": true
  }
 },
 "nbformat": 4,
 "nbformat_minor": 2
}
