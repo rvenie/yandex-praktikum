{
 "cells": [
  {
   "cell_type": "markdown",
   "metadata": {
    "id": "65rNPbNAOimr"
   },
   "source": [
    "**Описание проекта**\n",
    "\n",
    "Оператор мобильной связи «Мегалайн» выяснил: многие клиенты пользуются архивными тарифами. Они хотят построить систему, способную проанализировать поведение клиентов и предложить пользователям новый тариф: «Смарт» или «Ультра».\n",
    "\n",
    "В вашем распоряжении данные о поведении клиентов, которые уже перешли на эти тарифы (из проекта курса «Статистический анализ данных»). Нужно построить модель для задачи классификации, которая выберет подходящий тариф. Предобработка данных не понадобится — вы её уже сделали.\n",
    "\n",
    "**Постройте модель с максимально большим значением accuracy. Чтобы сдать проект успешно, нужно довести долю правильных ответов по крайней мере до 0.75. Проверьте accuracy на тестовой выборке самостоятельно.**"
   ]
  },
  {
   "cell_type": "code",
   "execution_count": 103,
   "metadata": {
    "colab": {
     "base_uri": "https://localhost:8080/",
     "height": 715
    },
    "id": "qzuCSbd_NMEj",
    "outputId": "f9a7da7e-f592-41c9-aa41-f84329d37c41",
    "scrolled": true
   },
   "outputs": [
    {
     "data": {
      "text/html": [
       "<div>\n",
       "<style scoped>\n",
       "    .dataframe tbody tr th:only-of-type {\n",
       "        vertical-align: middle;\n",
       "    }\n",
       "\n",
       "    .dataframe tbody tr th {\n",
       "        vertical-align: top;\n",
       "    }\n",
       "\n",
       "    .dataframe thead th {\n",
       "        text-align: right;\n",
       "    }\n",
       "</style>\n",
       "<table border=\"1\" class=\"dataframe\">\n",
       "  <thead>\n",
       "    <tr style=\"text-align: right;\">\n",
       "      <th></th>\n",
       "      <th>calls</th>\n",
       "      <th>minutes</th>\n",
       "      <th>messages</th>\n",
       "      <th>mb_used</th>\n",
       "      <th>is_ultra</th>\n",
       "    </tr>\n",
       "  </thead>\n",
       "  <tbody>\n",
       "    <tr>\n",
       "      <th>0</th>\n",
       "      <td>40.0</td>\n",
       "      <td>311.90</td>\n",
       "      <td>83.0</td>\n",
       "      <td>19915.42</td>\n",
       "      <td>0</td>\n",
       "    </tr>\n",
       "    <tr>\n",
       "      <th>1</th>\n",
       "      <td>85.0</td>\n",
       "      <td>516.75</td>\n",
       "      <td>56.0</td>\n",
       "      <td>22696.96</td>\n",
       "      <td>0</td>\n",
       "    </tr>\n",
       "    <tr>\n",
       "      <th>2</th>\n",
       "      <td>77.0</td>\n",
       "      <td>467.66</td>\n",
       "      <td>86.0</td>\n",
       "      <td>21060.45</td>\n",
       "      <td>0</td>\n",
       "    </tr>\n",
       "    <tr>\n",
       "      <th>3</th>\n",
       "      <td>106.0</td>\n",
       "      <td>745.53</td>\n",
       "      <td>81.0</td>\n",
       "      <td>8437.39</td>\n",
       "      <td>1</td>\n",
       "    </tr>\n",
       "    <tr>\n",
       "      <th>4</th>\n",
       "      <td>66.0</td>\n",
       "      <td>418.74</td>\n",
       "      <td>1.0</td>\n",
       "      <td>14502.75</td>\n",
       "      <td>0</td>\n",
       "    </tr>\n",
       "  </tbody>\n",
       "</table>\n",
       "</div>"
      ],
      "text/plain": [
       "   calls  minutes  messages   mb_used  is_ultra\n",
       "0   40.0   311.90      83.0  19915.42         0\n",
       "1   85.0   516.75      56.0  22696.96         0\n",
       "2   77.0   467.66      86.0  21060.45         0\n",
       "3  106.0   745.53      81.0   8437.39         1\n",
       "4   66.0   418.74       1.0  14502.75         0"
      ]
     },
     "metadata": {},
     "output_type": "display_data"
    },
    {
     "data": {
      "text/html": [
       "<div>\n",
       "<style scoped>\n",
       "    .dataframe tbody tr th:only-of-type {\n",
       "        vertical-align: middle;\n",
       "    }\n",
       "\n",
       "    .dataframe tbody tr th {\n",
       "        vertical-align: top;\n",
       "    }\n",
       "\n",
       "    .dataframe thead th {\n",
       "        text-align: right;\n",
       "    }\n",
       "</style>\n",
       "<table border=\"1\" class=\"dataframe\">\n",
       "  <thead>\n",
       "    <tr style=\"text-align: right;\">\n",
       "      <th></th>\n",
       "      <th>calls</th>\n",
       "      <th>minutes</th>\n",
       "      <th>messages</th>\n",
       "      <th>mb_used</th>\n",
       "      <th>is_ultra</th>\n",
       "    </tr>\n",
       "  </thead>\n",
       "  <tbody>\n",
       "    <tr>\n",
       "      <th>count</th>\n",
       "      <td>3214.000000</td>\n",
       "      <td>3214.000000</td>\n",
       "      <td>3214.000000</td>\n",
       "      <td>3214.000000</td>\n",
       "      <td>3214.000000</td>\n",
       "    </tr>\n",
       "    <tr>\n",
       "      <th>mean</th>\n",
       "      <td>63.038892</td>\n",
       "      <td>438.208787</td>\n",
       "      <td>38.281269</td>\n",
       "      <td>17207.673836</td>\n",
       "      <td>0.306472</td>\n",
       "    </tr>\n",
       "    <tr>\n",
       "      <th>std</th>\n",
       "      <td>33.236368</td>\n",
       "      <td>234.569872</td>\n",
       "      <td>36.148326</td>\n",
       "      <td>7570.968246</td>\n",
       "      <td>0.461100</td>\n",
       "    </tr>\n",
       "    <tr>\n",
       "      <th>min</th>\n",
       "      <td>0.000000</td>\n",
       "      <td>0.000000</td>\n",
       "      <td>0.000000</td>\n",
       "      <td>0.000000</td>\n",
       "      <td>0.000000</td>\n",
       "    </tr>\n",
       "    <tr>\n",
       "      <th>25%</th>\n",
       "      <td>40.000000</td>\n",
       "      <td>274.575000</td>\n",
       "      <td>9.000000</td>\n",
       "      <td>12491.902500</td>\n",
       "      <td>0.000000</td>\n",
       "    </tr>\n",
       "    <tr>\n",
       "      <th>50%</th>\n",
       "      <td>62.000000</td>\n",
       "      <td>430.600000</td>\n",
       "      <td>30.000000</td>\n",
       "      <td>16943.235000</td>\n",
       "      <td>0.000000</td>\n",
       "    </tr>\n",
       "    <tr>\n",
       "      <th>75%</th>\n",
       "      <td>82.000000</td>\n",
       "      <td>571.927500</td>\n",
       "      <td>57.000000</td>\n",
       "      <td>21424.700000</td>\n",
       "      <td>1.000000</td>\n",
       "    </tr>\n",
       "    <tr>\n",
       "      <th>max</th>\n",
       "      <td>244.000000</td>\n",
       "      <td>1632.060000</td>\n",
       "      <td>224.000000</td>\n",
       "      <td>49745.730000</td>\n",
       "      <td>1.000000</td>\n",
       "    </tr>\n",
       "  </tbody>\n",
       "</table>\n",
       "</div>"
      ],
      "text/plain": [
       "             calls      minutes     messages       mb_used     is_ultra\n",
       "count  3214.000000  3214.000000  3214.000000   3214.000000  3214.000000\n",
       "mean     63.038892   438.208787    38.281269  17207.673836     0.306472\n",
       "std      33.236368   234.569872    36.148326   7570.968246     0.461100\n",
       "min       0.000000     0.000000     0.000000      0.000000     0.000000\n",
       "25%      40.000000   274.575000     9.000000  12491.902500     0.000000\n",
       "50%      62.000000   430.600000    30.000000  16943.235000     0.000000\n",
       "75%      82.000000   571.927500    57.000000  21424.700000     1.000000\n",
       "max     244.000000  1632.060000   224.000000  49745.730000     1.000000"
      ]
     },
     "metadata": {},
     "output_type": "display_data"
    },
    {
     "name": "stdout",
     "output_type": "stream",
     "text": [
      "<class 'pandas.core.frame.DataFrame'>\n",
      "RangeIndex: 3214 entries, 0 to 3213\n",
      "Data columns (total 5 columns):\n",
      " #   Column    Non-Null Count  Dtype  \n",
      "---  ------    --------------  -----  \n",
      " 0   calls     3214 non-null   float64\n",
      " 1   minutes   3214 non-null   float64\n",
      " 2   messages  3214 non-null   float64\n",
      " 3   mb_used   3214 non-null   float64\n",
      " 4   is_ultra  3214 non-null   int64  \n",
      "dtypes: float64(4), int64(1)\n",
      "memory usage: 125.7 KB\n"
     ]
    },
    {
     "data": {
      "text/plain": [
       "None"
      ]
     },
     "metadata": {},
     "output_type": "display_data"
    }
   ],
   "source": [
    "import pandas as pd\n",
    "import numpy as np\n",
    "import seaborn as sns\n",
    "import matplotlib.pyplot as plt\n",
    "from scipy import stats as st \n",
    "import os\n",
    "\n",
    "pth1 = 'users_behavior.csv'\n",
    "pth2 = './datasets/users_behavior.csv'\n",
    "pth3 = '/datasets/users_behavior.csv'\n",
    "pth4 = './users_behavior.csv'\n",
    "pth5= '/content/drive/MyDrive/Colab Notebooks/datasets/users_behavior.csv'\n",
    "if os.path.exists(pth1):\n",
    "    df = pd.read_csv(pth1)\n",
    "elif os.path.exists(pth2):\n",
    "    df = pd.read_csv(pth2)\n",
    "elif os.path.exists(pth3):\n",
    "    df = pd.read_csv(pth3)\n",
    "elif os.path.exists(pth4):\n",
    "    df = pd.read_csv(pth4)\n",
    "elif os.path.exists(pth5):\n",
    "    df = pd.read_csv(pth5)\n",
    "else:\n",
    "    print(\"Проверьте правильность пути к датасету\")\n",
    "\n",
    "display(df.head(5))\n",
    "display(df.describe())\n",
    "display(df.info())"
   ]
  },
  {
   "cell_type": "markdown",
   "metadata": {},
   "source": [
    "<div class=\"alert-success\"> \n",
    "<b>Комментарий ревьюера 👍</b>\n",
    "\n",
    "Хороший первичный анализ данных"
   ]
  },
  {
   "cell_type": "markdown",
   "metadata": {
    "id": "ugamsURnAPGH"
   },
   "source": [
    "# Разделите исходные данные на обучающую, валидационную и тестовую выборки.\n"
   ]
  },
  {
   "cell_type": "markdown",
   "metadata": {
    "id": "SJidODq3AQ3j"
   },
   "source": [
    "* Обучающая выборка используется для обучения модели,\n",
    "* Валидационная - для ее настройки,\n",
    "* Тестовая - для окончательной оценки производительности модели.\n",
    "\n",
    "Спрятанной тестовой выборки нет. Размеры тестового и валидационного наборов обычно равны. Исходные данные разбивают в соотношении 3:1:1. "
   ]
  },
  {
   "cell_type": "code",
   "execution_count": 104,
   "metadata": {
    "id": "luYhLmvzATrZ"
   },
   "outputs": [
    {
     "data": {
      "text/plain": [
       "'Размер тренировочной выборки:'"
      ]
     },
     "metadata": {},
     "output_type": "display_data"
    },
    {
     "data": {
      "text/plain": [
       "(2410, 5)"
      ]
     },
     "metadata": {},
     "output_type": "display_data"
    },
    {
     "data": {
      "text/plain": [
       "'Размер вылидационный выборки:'"
      ]
     },
     "metadata": {},
     "output_type": "display_data"
    },
    {
     "data": {
      "text/plain": [
       "(804, 5)"
      ]
     },
     "metadata": {},
     "output_type": "display_data"
    },
    {
     "data": {
      "text/plain": [
       "'Размер тестовой выборки:'"
      ]
     },
     "metadata": {},
     "output_type": "display_data"
    },
    {
     "data": {
      "text/plain": [
       "(603, 5)"
      ]
     },
     "metadata": {},
     "output_type": "display_data"
    }
   ],
   "source": [
    "df['calls'] = df['calls'].astype('int64') # корректируем тип данных в столбце calls\n",
    "from sklearn.model_selection import train_test_split\n",
    "\n",
    "# разбиение на обучающую выборку и валидационные данные\n",
    "df_train, df_valid = train_test_split(df, test_size=0.25, random_state=12345)\n",
    "display('Размер тренировочной выборки:', df_train.shape)\n",
    "display('Размер вылидационный выборки:', df_valid.shape)\n",
    "# разбиение обучающих данных на обучающую и тестовую тестовую выборки\n",
    "df_train, df_test = train_test_split(df_train, test_size=0.25, random_state=12345)\n",
    "display()\n",
    "display('Размер тестовой выборки:', df_test.shape)\n"
   ]
  },
  {
   "cell_type": "markdown",
   "metadata": {},
   "source": [
    "<div class=\"alert-warning\"> \n",
    "<b>Комментарий ревьюера 💡 </b>\n",
    "\n",
    "Стоит еще выводить размеры выборок для проверки, все ли прошло успешно. Например, с помощью shape"
   ]
  },
  {
   "cell_type": "markdown",
   "metadata": {
    "id": "NvU72u7GNUZQ"
   },
   "source": [
    "# Исследуйте качество разных моделей, меняя гиперпараметры.\n"
   ]
  },
  {
   "cell_type": "markdown",
   "metadata": {
    "id": "hXOHUf2vO4x9"
   },
   "source": [
    "Нужно построить модель для задачи классификации, которая выберет подходящий тариф. \n",
    "* Гиперпараметры проверяются на валидационной выборке.\n",
    "\n",
    "\n"
   ]
  },
  {
   "cell_type": "code",
   "execution_count": 105,
   "metadata": {
    "id": "j0V-aj-ii0xM"
   },
   "outputs": [],
   "source": [
    "features_train = df_train.drop('is_ultra', axis=1) # признаки для обучения обучающей выборки\n",
    "target_train = df_train['is_ultra']\n",
    "\n",
    "features_valid = df_valid.drop('is_ultra', axis=1) # признаки для обучения валидационной выборки\n",
    "target_valid = df_valid['is_ultra']\n",
    "\n",
    "\n",
    "features_test = df_test.drop('is_ultra', axis=1) # признаки для обучения тестовой выборки\n",
    "target_test = df_test['is_ultra']"
   ]
  },
  {
   "cell_type": "markdown",
   "metadata": {
    "id": "KYcz-rr8P_gO"
   },
   "source": [
    "## Модель дерева решений\n"
   ]
  },
  {
   "cell_type": "code",
   "execution_count": 106,
   "metadata": {
    "colab": {
     "base_uri": "https://localhost:8080/"
    },
    "id": "zJyv4zJ8QFXu",
    "outputId": "27621e9f-2a33-408e-debc-3b71d20aa63e"
   },
   "outputs": [
    {
     "name": "stdout",
     "output_type": "stream",
     "text": [
      "Наилучшее качество модели дерева решений: 0.8022388059701493 При глубине: 7 При параметре criterion: entropy При параметре splitter: best\n"
     ]
    }
   ],
   "source": [
    "from sklearn.metrics import accuracy_score \n",
    "from sklearn.tree import DecisionTreeClassifier \n",
    "\n",
    "best_model_dtc = None\n",
    "best_result_dtc = 0\n",
    "\n",
    "for splitter in [\"best\", \"random\"]:\n",
    "    for criterion in [\"gini\", \"entropy\"]:\n",
    "        for depth in range(1, 16):\n",
    "            model = DecisionTreeClassifier(criterion=criterion, splitter=splitter, random_state=12345, max_depth=depth) # обучите модель с заданной глубиной дерева\n",
    "            model.fit(features_train, target_train) # обучите модель\n",
    "            predictions = model.predict(features_valid)\n",
    "            result = accuracy_score(target_valid, predictions)\n",
    "            if result > best_result_dtc:\n",
    "                best_model_dtc = model\n",
    "                best_result_dtc = result\n",
    "                best_depth_dtc = depth\n",
    "                best_criterion = criterion\n",
    "                best_splitter = splitter\n",
    "print(\"Наилучшее качество модели дерева решений:\", best_result_dtc, \"При глубине:\", best_depth_dtc, \"При параметре criterion:\", best_criterion, \"При параметре splitter:\", best_splitter)"
   ]
  },
  {
   "cell_type": "markdown",
   "metadata": {
    "id": "68Lek_T4QLzg"
   },
   "source": [
    "## Модель случайного леса"
   ]
  },
  {
   "cell_type": "code",
   "execution_count": 107,
   "metadata": {
    "colab": {
     "base_uri": "https://localhost:8080/"
    },
    "id": "EgprqlOKQRVu",
    "outputId": "640d27cf-33db-417f-e1ce-f6a6ad62ade6"
   },
   "outputs": [
    {
     "name": "stdout",
     "output_type": "stream",
     "text": [
      "Наилучшее качество модели случайного леса: 0.8121890547263682 При глубине: 10 При параметре criterion: gini При параметре n_estimators: 14\n"
     ]
    }
   ],
   "source": [
    "from sklearn.ensemble import RandomForestClassifier\n",
    "best_model_rfc = None\n",
    "best_result_rfc = 0\n",
    "best_est_rfc = 0\n",
    "\n",
    "for criterion in [\"gini\", \"entropy\"]:\n",
    "    for est in range(1, 16):\n",
    "        for depth in range(1, 16):\n",
    "            model = RandomForestClassifier(criterion = criterion, max_depth=depth, random_state=12345, n_estimators=est) # обучите модель с заданным количеством деревьев\n",
    "            model.fit(features, target) # обучите модель на тренировочной выборке\n",
    "            predictions = model.predict(features_valid)\n",
    "            result = accuracy_score(predictions, target_valid) # посчитайте качество модели на валидационной выборке \n",
    "            if result > best_result_rfc:\n",
    "                best_model_rfc = model\n",
    "                best_result_rfc = result\n",
    "                best_depth_rfc = depth\n",
    "                best_criterion_rfc = criterion\n",
    "                best_est_rfc = est\n",
    "print(\"Наилучшее качество модели случайного леса:\", best_result_rfc, \"При глубине:\", best_depth_rfc, \"При параметре criterion:\", best_criterion_rfc, \"При параметре n_estimators:\", best_est_rfc)"
   ]
  },
  {
   "cell_type": "markdown",
   "metadata": {
    "id": "H4lqg-rQQXOm"
   },
   "source": [
    "## Модель логистической регрессии"
   ]
  },
  {
   "cell_type": "code",
   "execution_count": 108,
   "metadata": {
    "colab": {
     "base_uri": "https://localhost:8080/"
    },
    "id": "qGh-ilP8QZu9",
    "outputId": "455f9c13-fa1c-4b7f-db3a-a313356e9f6c"
   },
   "outputs": [
    {
     "name": "stderr",
     "output_type": "stream",
     "text": [
      "/opt/conda/lib/python3.9/site-packages/sklearn/svm/_base.py:985: ConvergenceWarning: Liblinear failed to converge, increase the number of iterations.\n",
      "  warnings.warn(\"Liblinear failed to converge, increase \"\n",
      "/opt/conda/lib/python3.9/site-packages/sklearn/utils/optimize.py:202: ConvergenceWarning: newton-cg failed to converge. Increase the number of iterations.\n",
      "  warnings.warn(\"newton-cg failed to converge. Increase the \"\n",
      "/opt/conda/lib/python3.9/site-packages/scipy/optimize/_linesearch.py:456: LineSearchWarning: The line search algorithm did not converge\n",
      "  warn('The line search algorithm did not converge', LineSearchWarning)\n",
      "/opt/conda/lib/python3.9/site-packages/scipy/optimize/_linesearch.py:305: LineSearchWarning: The line search algorithm did not converge\n",
      "  warn('The line search algorithm did not converge', LineSearchWarning)\n",
      "/opt/conda/lib/python3.9/site-packages/scipy/optimize/_linesearch.py:456: LineSearchWarning: The line search algorithm did not converge\n",
      "  warn('The line search algorithm did not converge', LineSearchWarning)\n",
      "/opt/conda/lib/python3.9/site-packages/scipy/optimize/_linesearch.py:305: LineSearchWarning: The line search algorithm did not converge\n",
      "  warn('The line search algorithm did not converge', LineSearchWarning)\n",
      "/opt/conda/lib/python3.9/site-packages/sklearn/utils/optimize.py:202: ConvergenceWarning: newton-cg failed to converge. Increase the number of iterations.\n",
      "  warnings.warn(\"newton-cg failed to converge. Increase the \"\n",
      "/opt/conda/lib/python3.9/site-packages/scipy/optimize/_linesearch.py:456: LineSearchWarning: The line search algorithm did not converge\n",
      "  warn('The line search algorithm did not converge', LineSearchWarning)\n",
      "/opt/conda/lib/python3.9/site-packages/scipy/optimize/_linesearch.py:305: LineSearchWarning: The line search algorithm did not converge\n",
      "  warn('The line search algorithm did not converge', LineSearchWarning)\n",
      "/opt/conda/lib/python3.9/site-packages/scipy/optimize/_linesearch.py:456: LineSearchWarning: The line search algorithm did not converge\n",
      "  warn('The line search algorithm did not converge', LineSearchWarning)\n",
      "/opt/conda/lib/python3.9/site-packages/scipy/optimize/_linesearch.py:305: LineSearchWarning: The line search algorithm did not converge\n",
      "  warn('The line search algorithm did not converge', LineSearchWarning)\n",
      "/opt/conda/lib/python3.9/site-packages/scipy/optimize/_linesearch.py:415: LineSearchWarning: Rounding errors prevent the line search from converging\n",
      "  warn(msg, LineSearchWarning)\n",
      "/opt/conda/lib/python3.9/site-packages/scipy/optimize/_linesearch.py:305: LineSearchWarning: The line search algorithm did not converge\n",
      "  warn('The line search algorithm did not converge', LineSearchWarning)\n",
      "/opt/conda/lib/python3.9/site-packages/sklearn/utils/optimize.py:195: UserWarning: Line Search failed\n",
      "  warnings.warn('Line Search failed')\n",
      "/opt/conda/lib/python3.9/site-packages/scipy/optimize/_linesearch.py:456: LineSearchWarning: The line search algorithm did not converge\n",
      "  warn('The line search algorithm did not converge', LineSearchWarning)\n",
      "/opt/conda/lib/python3.9/site-packages/scipy/optimize/_linesearch.py:305: LineSearchWarning: The line search algorithm did not converge\n",
      "  warn('The line search algorithm did not converge', LineSearchWarning)\n",
      "/opt/conda/lib/python3.9/site-packages/scipy/optimize/_linesearch.py:456: LineSearchWarning: The line search algorithm did not converge\n",
      "  warn('The line search algorithm did not converge', LineSearchWarning)\n",
      "/opt/conda/lib/python3.9/site-packages/scipy/optimize/_linesearch.py:305: LineSearchWarning: The line search algorithm did not converge\n",
      "  warn('The line search algorithm did not converge', LineSearchWarning)\n",
      "/opt/conda/lib/python3.9/site-packages/scipy/optimize/_linesearch.py:415: LineSearchWarning: Rounding errors prevent the line search from converging\n",
      "  warn(msg, LineSearchWarning)\n",
      "/opt/conda/lib/python3.9/site-packages/scipy/optimize/_linesearch.py:305: LineSearchWarning: The line search algorithm did not converge\n",
      "  warn('The line search algorithm did not converge', LineSearchWarning)\n",
      "/opt/conda/lib/python3.9/site-packages/sklearn/utils/optimize.py:195: UserWarning: Line Search failed\n",
      "  warnings.warn('Line Search failed')\n",
      "/opt/conda/lib/python3.9/site-packages/scipy/optimize/_linesearch.py:456: LineSearchWarning: The line search algorithm did not converge\n",
      "  warn('The line search algorithm did not converge', LineSearchWarning)\n",
      "/opt/conda/lib/python3.9/site-packages/scipy/optimize/_linesearch.py:305: LineSearchWarning: The line search algorithm did not converge\n",
      "  warn('The line search algorithm did not converge', LineSearchWarning)\n",
      "/opt/conda/lib/python3.9/site-packages/scipy/optimize/_linesearch.py:456: LineSearchWarning: The line search algorithm did not converge\n",
      "  warn('The line search algorithm did not converge', LineSearchWarning)\n",
      "/opt/conda/lib/python3.9/site-packages/scipy/optimize/_linesearch.py:305: LineSearchWarning: The line search algorithm did not converge\n",
      "  warn('The line search algorithm did not converge', LineSearchWarning)\n",
      "/opt/conda/lib/python3.9/site-packages/scipy/optimize/_linesearch.py:415: LineSearchWarning: Rounding errors prevent the line search from converging\n",
      "  warn(msg, LineSearchWarning)\n",
      "/opt/conda/lib/python3.9/site-packages/scipy/optimize/_linesearch.py:305: LineSearchWarning: The line search algorithm did not converge\n",
      "  warn('The line search algorithm did not converge', LineSearchWarning)\n",
      "/opt/conda/lib/python3.9/site-packages/sklearn/utils/optimize.py:195: UserWarning: Line Search failed\n",
      "  warnings.warn('Line Search failed')\n",
      "/opt/conda/lib/python3.9/site-packages/scipy/optimize/_linesearch.py:456: LineSearchWarning: The line search algorithm did not converge\n",
      "  warn('The line search algorithm did not converge', LineSearchWarning)\n",
      "/opt/conda/lib/python3.9/site-packages/scipy/optimize/_linesearch.py:305: LineSearchWarning: The line search algorithm did not converge\n",
      "  warn('The line search algorithm did not converge', LineSearchWarning)\n",
      "/opt/conda/lib/python3.9/site-packages/scipy/optimize/_linesearch.py:456: LineSearchWarning: The line search algorithm did not converge\n",
      "  warn('The line search algorithm did not converge', LineSearchWarning)\n",
      "/opt/conda/lib/python3.9/site-packages/scipy/optimize/_linesearch.py:305: LineSearchWarning: The line search algorithm did not converge\n",
      "  warn('The line search algorithm did not converge', LineSearchWarning)\n",
      "/opt/conda/lib/python3.9/site-packages/scipy/optimize/_linesearch.py:415: LineSearchWarning: Rounding errors prevent the line search from converging\n",
      "  warn(msg, LineSearchWarning)\n",
      "/opt/conda/lib/python3.9/site-packages/scipy/optimize/_linesearch.py:305: LineSearchWarning: The line search algorithm did not converge\n",
      "  warn('The line search algorithm did not converge', LineSearchWarning)\n",
      "/opt/conda/lib/python3.9/site-packages/sklearn/utils/optimize.py:195: UserWarning: Line Search failed\n",
      "  warnings.warn('Line Search failed')\n",
      "/opt/conda/lib/python3.9/site-packages/sklearn/linear_model/_logistic.py:763: ConvergenceWarning: lbfgs failed to converge (status=1):\n",
      "STOP: TOTAL NO. of ITERATIONS REACHED LIMIT.\n",
      "\n",
      "Increase the number of iterations (max_iter) or scale the data as shown in:\n",
      "    https://scikit-learn.org/stable/modules/preprocessing.html\n",
      "Please also refer to the documentation for alternative solver options:\n",
      "    https://scikit-learn.org/stable/modules/linear_model.html#logistic-regression\n",
      "  n_iter_i = _check_optimize_result(\n",
      "/opt/conda/lib/python3.9/site-packages/sklearn/linear_model/_logistic.py:763: ConvergenceWarning: lbfgs failed to converge (status=1):\n",
      "STOP: TOTAL NO. of ITERATIONS REACHED LIMIT.\n",
      "\n",
      "Increase the number of iterations (max_iter) or scale the data as shown in:\n",
      "    https://scikit-learn.org/stable/modules/preprocessing.html\n",
      "Please also refer to the documentation for alternative solver options:\n",
      "    https://scikit-learn.org/stable/modules/linear_model.html#logistic-regression\n",
      "  n_iter_i = _check_optimize_result(\n",
      "/opt/conda/lib/python3.9/site-packages/sklearn/linear_model/_sag.py:328: ConvergenceWarning: The max_iter was reached which means the coef_ did not converge\n",
      "  warnings.warn(\"The max_iter was reached which means \"\n",
      "/opt/conda/lib/python3.9/site-packages/sklearn/linear_model/_sag.py:328: ConvergenceWarning: The max_iter was reached which means the coef_ did not converge\n",
      "  warnings.warn(\"The max_iter was reached which means \"\n",
      "/opt/conda/lib/python3.9/site-packages/sklearn/linear_model/_sag.py:328: ConvergenceWarning: The max_iter was reached which means the coef_ did not converge\n",
      "  warnings.warn(\"The max_iter was reached which means \"\n",
      "/opt/conda/lib/python3.9/site-packages/sklearn/linear_model/_sag.py:328: ConvergenceWarning: The max_iter was reached which means the coef_ did not converge\n",
      "  warnings.warn(\"The max_iter was reached which means \"\n",
      "/opt/conda/lib/python3.9/site-packages/sklearn/linear_model/_sag.py:328: ConvergenceWarning: The max_iter was reached which means the coef_ did not converge\n",
      "  warnings.warn(\"The max_iter was reached which means \"\n",
      "/opt/conda/lib/python3.9/site-packages/sklearn/linear_model/_sag.py:328: ConvergenceWarning: The max_iter was reached which means the coef_ did not converge\n",
      "  warnings.warn(\"The max_iter was reached which means \"\n",
      "/opt/conda/lib/python3.9/site-packages/sklearn/linear_model/_sag.py:328: ConvergenceWarning: The max_iter was reached which means the coef_ did not converge\n",
      "  warnings.warn(\"The max_iter was reached which means \"\n",
      "/opt/conda/lib/python3.9/site-packages/sklearn/linear_model/_sag.py:328: ConvergenceWarning: The max_iter was reached which means the coef_ did not converge\n",
      "  warnings.warn(\"The max_iter was reached which means \"\n",
      "/opt/conda/lib/python3.9/site-packages/sklearn/linear_model/_sag.py:328: ConvergenceWarning: The max_iter was reached which means the coef_ did not converge\n",
      "  warnings.warn(\"The max_iter was reached which means \"\n",
      "/opt/conda/lib/python3.9/site-packages/sklearn/linear_model/_sag.py:328: ConvergenceWarning: The max_iter was reached which means the coef_ did not converge\n",
      "  warnings.warn(\"The max_iter was reached which means \"\n"
     ]
    },
    {
     "name": "stdout",
     "output_type": "stream",
     "text": [
      "Наилучшее качество модели случайного леса: 0.7611940298507462 При параметре solver: newton-cg При параметре max_iter: 50\n"
     ]
    }
   ],
   "source": [
    "from sklearn.linear_model import LogisticRegression\n",
    "best_model_lr = None\n",
    "best_result_lr = 0\n",
    "best_solver_lr = []\n",
    "best_iter_lr = 0\n",
    "for solver in ['liblinear', 'newton-cg', 'lbfgs', 'sag', 'saga']:\n",
    "    for i in [10,50,100,500,1000,10000]:\n",
    "        model = LogisticRegression(random_state=12345, solver=solver, max_iter=i)\n",
    "        model.fit(features_train, target_train)\n",
    "        result = model.score(features_valid, target_valid)# посчитайте качество модели на валидационной выборке \n",
    "        if result > best_result_lr:\n",
    "            best_model_lr = model\n",
    "            best_result_lr = result\n",
    "            best_solver_lr = solver\n",
    "            best_iter_lr = i\n",
    "print(\"Наилучшее качество модели случайного леса:\", best_result_lr, \"При параметре solver:\", best_solver_lr, \"При параметре max_iter:\", best_iter_lr) # сохраните наилучшую модель"
   ]
  },
  {
   "cell_type": "markdown",
   "metadata": {
    "id": "zFl-fGuslAWY"
   },
   "source": [
    "# Сравнение качества моделей на валидационной выборке"
   ]
  },
  {
   "cell_type": "code",
   "execution_count": 109,
   "metadata": {
    "colab": {
     "base_uri": "https://localhost:8080/"
    },
    "id": "6QO7eknjlJCe",
    "outputId": "06dc60f5-4ab6-4430-f969-0085106fc4dd"
   },
   "outputs": [
    {
     "name": "stdout",
     "output_type": "stream",
     "text": [
      "Качество модели дерева решений: 0.8022388059701493\n",
      "Качество модели случайного леса: 0.8121890547263682\n",
      "Качество модели логистической регрессии: 0.7611940298507462\n"
     ]
    }
   ],
   "source": [
    "# Дерево решений\n",
    "result_dtc = best_model_dtc.score(features_valid, target_valid)\n",
    "print(\"Качество модели дерева решений:\", result_dtc)\n",
    "# Случайный лес\n",
    "result_rfc = best_model_rfc.score(features_valid, target_valid)\n",
    "print(\"Качество модели случайного леса:\", result_rfc)\n",
    "# Логистическая ререссия\n",
    "result_lr = best_model_lr.score(features_valid, target_valid)\n",
    "print(\"Качество модели логистической регрессии:\", result_lr)"
   ]
  },
  {
   "cell_type": "markdown",
   "metadata": {
    "id": "R2p-Ay-GlYCq"
   },
   "source": [
    " Предварительно:\n",
    "\n",
    "1. Самое высокое качество у модели **случайного леса**\n",
    "\n",
    "2. На втором месте — модель **дерева решений**.\n",
    "\n",
    "3. Самое низкое качество предсказания у модели **логистической регрессии**."
   ]
  },
  {
   "cell_type": "markdown",
   "metadata": {
    "id": "m3Um70F-7qlt"
   },
   "source": [
    "# Окончательная проверки качества моделей на тестовой выборке\n"
   ]
  },
  {
   "cell_type": "code",
   "execution_count": 110,
   "metadata": {
    "colab": {
     "base_uri": "https://localhost:8080/"
    },
    "id": "OUgMIv5I8NbJ",
    "outputId": "b1847a3c-273e-418e-cc5a-c3826eea591f"
   },
   "outputs": [
    {
     "name": "stdout",
     "output_type": "stream",
     "text": [
      "Качество модели дерева решений: 0.7893864013266998\n",
      "Качество модели случайного леса: 0.8109452736318408\n",
      "Качество модели логистической регрессии: 0.7412935323383084\n"
     ]
    }
   ],
   "source": [
    "# Дерево решений\n",
    "result_dtc = best_model_dtc.score(features_test, target_test)\n",
    "print(\"Качество модели дерева решений:\", result_dtc)\n",
    "# Случайный лес\n",
    "result_rfc = best_model_rfc.score(features_test, target_test)\n",
    "print(\"Качество модели случайного леса:\", result_rfc)\n",
    "# Логистическая ререссия\n",
    "result_lr = best_model_lr.score(features_test, target_test) \n",
    "print(\"Качество модели логистической регрессии:\", result_lr)"
   ]
  },
  {
   "cell_type": "markdown",
   "metadata": {
    "id": "GR7WYFvaNXCl"
   },
   "source": [
    " \n",
    "\n",
    "1. Самое высокое качество у **случайного леса**\n",
    "\n",
    "2. На втором месте — **дерева решений**.\n",
    "\n",
    "3. Самое низкое качество предсказания у модели **логистической регрессии**. "
   ]
  },
  {
   "cell_type": "markdown",
   "metadata": {
    "id": "PArIDfS10r54"
   },
   "source": [
    "Как видно из проверки на тестовой выборке, **модель случайного леса** показала себя лучше всего во всех наблюдениях, а модель дерева решений сильно снизила свое качество( с 0.8 до 0.78) на тестовой выборке. Самое низкое качество сохраняеется у модели логистической регрессии"
   ]
  },
  {
   "cell_type": "code",
   "execution_count": 115,
   "metadata": {},
   "outputs": [
    {
     "name": "stdout",
     "output_type": "stream",
     "text": [
      "Баланс классов тренировочной выборки: 0    1255\n",
      "1     552\n",
      "Name: is_ultra, dtype: int64\n",
      "Баланс классов валидационной выборки: 0    563\n",
      "1    241\n",
      "Name: is_ultra, dtype: int64\n",
      "Баланс классов тестовой выборки: 0    411\n",
      "1    192\n",
      "Name: is_ultra, dtype: int64\n"
     ]
    }
   ],
   "source": [
    "print('Баланс классов тренировочной выборки:', target_train.value_counts())\n",
    "\n",
    "print('Баланс классов валидационной выборки:', target_valid.value_counts())\n",
    "\n",
    "\n",
    "print('Баланс классов тестовой выборки:', target_test.value_counts())\n"
   ]
  },
  {
   "cell_type": "markdown",
   "metadata": {
    "id": "hiYl3oP1Ppzq"
   },
   "source": [
    "# Общий вывод\n",
    "\n",
    "Исходя из проделанной работы над гиперпараметрами трёх моделей, наилучший подбор тарифа обеспечит **модель случайного леса при глубине: 10, параметре criterion: gini, параметре n_estimators: 14**. "
   ]
  }
 ],
 "metadata": {
  "ExecuteTimeLog": [
   {
    "duration": 1428,
    "start_time": "2023-05-06T17:41:38.862Z"
   },
   {
    "duration": 568,
    "start_time": "2023-05-06T17:41:40.292Z"
   },
   {
    "duration": 6,
    "start_time": "2023-05-06T17:41:40.861Z"
   },
   {
    "duration": 156,
    "start_time": "2023-05-06T17:41:40.868Z"
   },
   {
    "duration": 1568,
    "start_time": "2023-05-07T09:12:09.159Z"
   },
   {
    "duration": 255,
    "start_time": "2023-05-07T09:12:10.729Z"
   },
   {
    "duration": 16,
    "start_time": "2023-05-07T09:12:10.986Z"
   },
   {
    "duration": 175,
    "start_time": "2023-05-07T09:12:18.630Z"
   },
   {
    "duration": 7,
    "start_time": "2023-05-07T09:12:18.808Z"
   },
   {
    "duration": 6,
    "start_time": "2023-05-07T09:12:18.817Z"
   },
   {
    "duration": 414,
    "start_time": "2023-05-07T09:12:18.826Z"
   },
   {
    "duration": 0,
    "start_time": "2023-05-07T09:12:19.242Z"
   },
   {
    "duration": 0,
    "start_time": "2023-05-07T09:12:19.243Z"
   },
   {
    "duration": 0,
    "start_time": "2023-05-07T09:12:19.244Z"
   },
   {
    "duration": 0,
    "start_time": "2023-05-07T09:12:19.245Z"
   },
   {
    "duration": 259,
    "start_time": "2023-05-07T09:12:59.360Z"
   },
   {
    "duration": 9,
    "start_time": "2023-05-07T09:13:11.949Z"
   },
   {
    "duration": 9,
    "start_time": "2023-05-07T09:13:12.910Z"
   },
   {
    "duration": 256,
    "start_time": "2023-05-07T09:13:21.204Z"
   },
   {
    "duration": 275,
    "start_time": "2023-05-07T09:14:40.833Z"
   },
   {
    "duration": 250,
    "start_time": "2023-05-07T09:15:49.963Z"
   },
   {
    "duration": 390,
    "start_time": "2023-05-07T09:17:10.619Z"
   },
   {
    "duration": 13516,
    "start_time": "2023-05-07T09:44:53.925Z"
   },
   {
    "duration": 13424,
    "start_time": "2023-05-07T09:45:28.533Z"
   },
   {
    "duration": 377,
    "start_time": "2023-05-07T09:45:41.958Z"
   },
   {
    "duration": 34,
    "start_time": "2023-05-07T09:48:10.542Z"
   },
   {
    "duration": 35,
    "start_time": "2023-05-07T09:48:16.633Z"
   },
   {
    "duration": 28,
    "start_time": "2023-05-07T09:48:18.989Z"
   },
   {
    "duration": 15,
    "start_time": "2023-05-07T09:48:58.951Z"
   },
   {
    "duration": 13,
    "start_time": "2023-05-07T09:49:52.077Z"
   },
   {
    "duration": 399,
    "start_time": "2023-05-07T10:23:19.545Z"
   },
   {
    "duration": 13023,
    "start_time": "2023-05-07T10:23:33.734Z"
   },
   {
    "duration": 762,
    "start_time": "2023-05-07T10:23:46.759Z"
   },
   {
    "duration": 559,
    "start_time": "2023-05-07T10:33:17.317Z"
   },
   {
    "duration": 153,
    "start_time": "2023-05-07T11:30:21.690Z"
   },
   {
    "duration": 8,
    "start_time": "2023-05-07T11:30:21.845Z"
   },
   {
    "duration": 6,
    "start_time": "2023-05-07T11:30:21.854Z"
   },
   {
    "duration": 365,
    "start_time": "2023-05-07T11:30:21.862Z"
   },
   {
    "duration": 12809,
    "start_time": "2023-05-07T11:30:22.228Z"
   },
   {
    "duration": 522,
    "start_time": "2023-05-07T11:30:35.038Z"
   },
   {
    "duration": 0,
    "start_time": "2023-05-07T11:30:35.561Z"
   },
   {
    "duration": 0,
    "start_time": "2023-05-07T11:30:35.562Z"
   },
   {
    "duration": 1928,
    "start_time": "2023-05-07T11:34:35.659Z"
   },
   {
    "duration": 739,
    "start_time": "2023-05-07T11:35:44.922Z"
   },
   {
    "duration": 395,
    "start_time": "2023-05-07T11:35:51.218Z"
   },
   {
    "duration": 227,
    "start_time": "2023-05-07T11:36:00.328Z"
   },
   {
    "duration": 206,
    "start_time": "2023-05-07T11:36:12.355Z"
   },
   {
    "duration": 214,
    "start_time": "2023-05-07T11:36:44.336Z"
   },
   {
    "duration": 80,
    "start_time": "2023-05-07T11:39:08.869Z"
   },
   {
    "duration": 2016,
    "start_time": "2023-05-07T11:39:18.741Z"
   },
   {
    "duration": 2096,
    "start_time": "2023-05-07T11:39:58.408Z"
   },
   {
    "duration": 2457,
    "start_time": "2023-05-07T11:40:11.168Z"
   },
   {
    "duration": 182,
    "start_time": "2023-05-07T12:03:24.074Z"
   },
   {
    "duration": 8,
    "start_time": "2023-05-07T12:03:24.258Z"
   },
   {
    "duration": 6,
    "start_time": "2023-05-07T12:03:24.268Z"
   },
   {
    "duration": 390,
    "start_time": "2023-05-07T12:03:24.276Z"
   },
   {
    "duration": 12760,
    "start_time": "2023-05-07T12:03:24.668Z"
   },
   {
    "duration": 2559,
    "start_time": "2023-05-07T12:03:37.430Z"
   },
   {
    "duration": 14,
    "start_time": "2023-05-07T12:03:39.994Z"
   },
   {
    "duration": 0,
    "start_time": "2023-05-07T12:03:40.010Z"
   },
   {
    "duration": 176,
    "start_time": "2023-05-07T12:07:57.973Z"
   },
   {
    "duration": 7,
    "start_time": "2023-05-07T12:07:58.150Z"
   },
   {
    "duration": 9,
    "start_time": "2023-05-07T12:07:58.159Z"
   },
   {
    "duration": 389,
    "start_time": "2023-05-07T12:07:58.169Z"
   },
   {
    "duration": 12984,
    "start_time": "2023-05-07T12:07:58.561Z"
   },
   {
    "duration": 2587,
    "start_time": "2023-05-07T12:08:11.547Z"
   },
   {
    "duration": 12,
    "start_time": "2023-05-07T12:08:14.136Z"
   },
   {
    "duration": 0,
    "start_time": "2023-05-07T12:08:14.150Z"
   },
   {
    "duration": 157,
    "start_time": "2023-05-07T12:24:48.356Z"
   },
   {
    "duration": 7,
    "start_time": "2023-05-07T12:24:48.517Z"
   },
   {
    "duration": 6,
    "start_time": "2023-05-07T12:24:48.526Z"
   },
   {
    "duration": 386,
    "start_time": "2023-05-07T12:24:48.533Z"
   },
   {
    "duration": 12822,
    "start_time": "2023-05-07T12:24:48.921Z"
   },
   {
    "duration": 2750,
    "start_time": "2023-05-07T12:25:01.745Z"
   },
   {
    "duration": 17,
    "start_time": "2023-05-07T12:25:04.498Z"
   },
   {
    "duration": 0,
    "start_time": "2023-05-07T12:25:04.517Z"
   },
   {
    "duration": 9,
    "start_time": "2023-05-07T12:25:20.637Z"
   },
   {
    "duration": 352,
    "start_time": "2023-05-07T12:26:24.747Z"
   },
   {
    "duration": 12626,
    "start_time": "2023-05-07T12:26:32.305Z"
   },
   {
    "duration": 14,
    "start_time": "2023-05-07T12:26:44.932Z"
   },
   {
    "duration": 14,
    "start_time": "2023-05-07T12:26:55.446Z"
   },
   {
    "duration": 14,
    "start_time": "2023-05-07T12:27:47.328Z"
   },
   {
    "duration": 16,
    "start_time": "2023-05-07T12:27:57.961Z"
   },
   {
    "duration": 14,
    "start_time": "2023-05-07T12:28:00.735Z"
   },
   {
    "duration": 5,
    "start_time": "2023-05-07T12:32:47.104Z"
   },
   {
    "duration": 6,
    "start_time": "2023-05-07T12:33:58.167Z"
   },
   {
    "duration": 9,
    "start_time": "2023-05-07T12:35:24.734Z"
   },
   {
    "duration": 15,
    "start_time": "2023-05-07T12:35:53.745Z"
   },
   {
    "duration": 12,
    "start_time": "2023-05-07T12:36:16.737Z"
   },
   {
    "duration": 222,
    "start_time": "2023-05-07T12:37:04.211Z"
   },
   {
    "duration": 2440,
    "start_time": "2023-05-07T12:37:17.502Z"
   },
   {
    "duration": 142,
    "start_time": "2023-05-07T12:37:30.039Z"
   },
   {
    "duration": 7,
    "start_time": "2023-05-07T12:37:30.183Z"
   },
   {
    "duration": 17,
    "start_time": "2023-05-07T12:37:30.195Z"
   },
   {
    "duration": 372,
    "start_time": "2023-05-07T12:37:30.214Z"
   },
   {
    "duration": 12781,
    "start_time": "2023-05-07T12:37:30.591Z"
   },
   {
    "duration": 2525,
    "start_time": "2023-05-07T12:37:43.374Z"
   },
   {
    "duration": 16,
    "start_time": "2023-05-07T12:37:45.903Z"
   },
   {
    "duration": 15,
    "start_time": "2023-05-07T12:37:45.921Z"
   },
   {
    "duration": 11,
    "start_time": "2023-05-07T12:37:45.938Z"
   },
   {
    "duration": 13,
    "start_time": "2023-05-07T12:41:04.611Z"
   },
   {
    "duration": 87,
    "start_time": "2023-05-07T12:41:19.839Z"
   },
   {
    "duration": 17,
    "start_time": "2023-05-07T12:41:23.613Z"
   },
   {
    "duration": 80,
    "start_time": "2023-05-07T12:41:31.082Z"
   },
   {
    "duration": 86,
    "start_time": "2023-05-07T12:41:33.321Z"
   },
   {
    "duration": 14,
    "start_time": "2023-05-07T12:41:35.437Z"
   },
   {
    "duration": 153,
    "start_time": "2023-05-07T12:42:14.064Z"
   },
   {
    "duration": 16,
    "start_time": "2023-05-07T12:42:14.220Z"
   },
   {
    "duration": 5,
    "start_time": "2023-05-07T12:42:14.238Z"
   },
   {
    "duration": 387,
    "start_time": "2023-05-07T12:42:14.245Z"
   },
   {
    "duration": 12677,
    "start_time": "2023-05-07T12:42:14.634Z"
   },
   {
    "duration": 2549,
    "start_time": "2023-05-07T12:42:27.313Z"
   },
   {
    "duration": 13,
    "start_time": "2023-05-07T12:42:29.864Z"
   },
   {
    "duration": 30,
    "start_time": "2023-05-07T12:42:29.879Z"
   },
   {
    "duration": 13,
    "start_time": "2023-05-07T12:42:29.910Z"
   },
   {
    "duration": 6,
    "start_time": "2023-05-07T12:44:32.205Z"
   },
   {
    "duration": 108,
    "start_time": "2023-05-07T12:44:44.303Z"
   },
   {
    "duration": 6,
    "start_time": "2023-05-07T12:44:48.019Z"
   },
   {
    "duration": 9,
    "start_time": "2023-05-07T12:44:53.887Z"
   }
  ],
  "colab": {
   "provenance": [],
   "toc_visible": true
  },
  "kernelspec": {
   "display_name": "Python 3 (ipykernel)",
   "language": "python",
   "name": "python3"
  },
  "language_info": {
   "codemirror_mode": {
    "name": "ipython",
    "version": 3
   },
   "file_extension": ".py",
   "mimetype": "text/x-python",
   "name": "python",
   "nbconvert_exporter": "python",
   "pygments_lexer": "ipython3",
   "version": "3.9.5"
  },
  "toc": {
   "base_numbering": 1,
   "nav_menu": {},
   "number_sections": true,
   "sideBar": true,
   "skip_h1_title": true,
   "title_cell": "Table of Contents",
   "title_sidebar": "Contents",
   "toc_cell": false,
   "toc_position": {},
   "toc_section_display": true,
   "toc_window_display": false
  }
 },
 "nbformat": 4,
 "nbformat_minor": 1
}
