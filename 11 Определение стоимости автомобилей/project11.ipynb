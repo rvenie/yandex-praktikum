{
 "cells": [
  {
   "cell_type": "markdown",
   "id": "b6b15c66-7d53-4dd3-9367-f7aa9539792e",
   "metadata": {
    "id": "b6b15c66-7d53-4dd3-9367-f7aa9539792e"
   },
   "source": [
    "# Определение стоимости автомобилей"
   ]
  },
  {
   "cell_type": "code",
   "execution_count": 20,
   "id": "-8tcFh1Gk0sn",
   "metadata": {
    "colab": {
     "base_uri": "https://localhost:8080/"
    },
    "id": "-8tcFh1Gk0sn",
    "outputId": "60c573ee-3af6-48e0-d1ee-c16f27557668"
   },
   "outputs": [],
   "source": [
    "# from google.colab import drive\n",
    "# drive.mount('/content/drive')"
   ]
  },
  {
   "cell_type": "markdown",
   "id": "3d2caa24-7ff8-4591-ac83-82a267e85dc8",
   "metadata": {
    "id": "3d2caa24-7ff8-4591-ac83-82a267e85dc8"
   },
   "source": [
    "# Описание проекта\n",
    "Сервис по продаже автомобилей с пробегом «Не бит, не крашен» разрабатывает приложение, чтобы привлечь новых клиентов. В нём можно будет узнать рыночную стоимость своего автомобиля.\n",
    "Постройте модель, которая умеет её определять. В вашем распоряжении данные о технических характеристиках, комплектации и ценах других автомобилей.\n",
    "Критерии, которые важны заказчику:\n",
    "    качество предсказания;\n",
    "    время обучения модели;\n",
    "    время предсказания модели."
   ]
  },
  {
   "cell_type": "code",
   "execution_count": 21,
   "id": "WmKPRFv83Bhi",
   "metadata": {
    "colab": {
     "base_uri": "https://localhost:8080/"
    },
    "id": "WmKPRFv83Bhi",
    "outputId": "eb789242-1a4a-4e24-de01-c722c7e6606d"
   },
   "outputs": [
    {
     "name": "stdout",
     "output_type": "stream",
     "text": [
      "Requirement already satisfied: lightgbm in /opt/conda/lib/python3.9/site-packages (3.3.1)\n",
      "Requirement already satisfied: scipy in /opt/conda/lib/python3.9/site-packages (from lightgbm) (1.9.1)\n",
      "Requirement already satisfied: wheel in /opt/conda/lib/python3.9/site-packages (from lightgbm) (0.36.2)\n",
      "Requirement already satisfied: scikit-learn!=0.22.0 in /opt/conda/lib/python3.9/site-packages (from lightgbm) (0.24.1)\n",
      "Requirement already satisfied: numpy in /opt/conda/lib/python3.9/site-packages (from lightgbm) (1.21.1)\n",
      "Requirement already satisfied: threadpoolctl>=2.0.0 in /opt/conda/lib/python3.9/site-packages (from scikit-learn!=0.22.0->lightgbm) (3.1.0)\n",
      "Requirement already satisfied: joblib>=0.11 in /opt/conda/lib/python3.9/site-packages (from scikit-learn!=0.22.0->lightgbm) (1.1.0)\n",
      "Requirement already satisfied: catboost in /opt/conda/lib/python3.9/site-packages (1.0.3)\n",
      "Requirement already satisfied: matplotlib in /opt/conda/lib/python3.9/site-packages (from catboost) (3.3.4)\n",
      "Requirement already satisfied: scipy in /opt/conda/lib/python3.9/site-packages (from catboost) (1.9.1)\n",
      "Requirement already satisfied: graphviz in /opt/conda/lib/python3.9/site-packages (from catboost) (0.20.1)\n",
      "Requirement already satisfied: numpy>=1.16.0 in /opt/conda/lib/python3.9/site-packages (from catboost) (1.21.1)\n",
      "Requirement already satisfied: six in /opt/conda/lib/python3.9/site-packages (from catboost) (1.16.0)\n",
      "Requirement already satisfied: plotly in /opt/conda/lib/python3.9/site-packages (from catboost) (5.4.0)\n",
      "Requirement already satisfied: pandas>=0.24.0 in /opt/conda/lib/python3.9/site-packages (from catboost) (1.2.4)\n",
      "Requirement already satisfied: python-dateutil>=2.7.3 in /opt/conda/lib/python3.9/site-packages (from pandas>=0.24.0->catboost) (2.8.1)\n",
      "Requirement already satisfied: pytz>=2017.3 in /opt/conda/lib/python3.9/site-packages (from pandas>=0.24.0->catboost) (2021.1)\n",
      "Requirement already satisfied: kiwisolver>=1.0.1 in /opt/conda/lib/python3.9/site-packages (from matplotlib->catboost) (1.4.4)\n",
      "Requirement already satisfied: pyparsing!=2.0.4,!=2.1.2,!=2.1.6,>=2.0.3 in /opt/conda/lib/python3.9/site-packages (from matplotlib->catboost) (2.4.7)\n",
      "Requirement already satisfied: cycler>=0.10 in /opt/conda/lib/python3.9/site-packages (from matplotlib->catboost) (0.11.0)\n",
      "Requirement already satisfied: pillow>=6.2.0 in /opt/conda/lib/python3.9/site-packages (from matplotlib->catboost) (8.4.0)\n",
      "Requirement already satisfied: tenacity>=6.2.0 in /opt/conda/lib/python3.9/site-packages (from plotly->catboost) (8.0.1)\n",
      "Requirement already satisfied: category_encoders in /opt/conda/lib/python3.9/site-packages (2.6.1)\n",
      "Requirement already satisfied: patsy>=0.5.1 in /opt/conda/lib/python3.9/site-packages (from category_encoders) (0.5.2)\n",
      "Requirement already satisfied: statsmodels>=0.9.0 in /opt/conda/lib/python3.9/site-packages (from category_encoders) (0.13.2)\n",
      "Requirement already satisfied: numpy>=1.14.0 in /opt/conda/lib/python3.9/site-packages (from category_encoders) (1.21.1)\n",
      "Requirement already satisfied: pandas>=1.0.5 in /opt/conda/lib/python3.9/site-packages (from category_encoders) (1.2.4)\n",
      "Requirement already satisfied: scipy>=1.0.0 in /opt/conda/lib/python3.9/site-packages (from category_encoders) (1.9.1)\n",
      "Requirement already satisfied: scikit-learn>=0.20.0 in /opt/conda/lib/python3.9/site-packages (from category_encoders) (0.24.1)\n",
      "Requirement already satisfied: python-dateutil>=2.7.3 in /opt/conda/lib/python3.9/site-packages (from pandas>=1.0.5->category_encoders) (2.8.1)\n",
      "Requirement already satisfied: pytz>=2017.3 in /opt/conda/lib/python3.9/site-packages (from pandas>=1.0.5->category_encoders) (2021.1)\n",
      "Requirement already satisfied: six in /opt/conda/lib/python3.9/site-packages (from patsy>=0.5.1->category_encoders) (1.16.0)\n",
      "Requirement already satisfied: joblib>=0.11 in /opt/conda/lib/python3.9/site-packages (from scikit-learn>=0.20.0->category_encoders) (1.1.0)\n",
      "Requirement already satisfied: threadpoolctl>=2.0.0 in /opt/conda/lib/python3.9/site-packages (from scikit-learn>=0.20.0->category_encoders) (3.1.0)\n",
      "Requirement already satisfied: packaging>=21.3 in /opt/conda/lib/python3.9/site-packages (from statsmodels>=0.9.0->category_encoders) (21.3)\n",
      "Requirement already satisfied: pyparsing!=3.0.5,>=2.0.2 in /opt/conda/lib/python3.9/site-packages (from packaging>=21.3->statsmodels>=0.9.0->category_encoders) (2.4.7)\n",
      "Requirement already satisfied: fast_ml in /opt/conda/lib/python3.9/site-packages (3.68)\n"
     ]
    }
   ],
   "source": [
    "!pip install lightgbm\n",
    "!pip install catboost\n",
    "!pip install category_encoders\n",
    "!pip install fast_ml"
   ]
  },
  {
   "cell_type": "code",
   "execution_count": 22,
   "id": "d05bc5f6-e8f8-4f3c-b5c0-b24074d5d1ad",
   "metadata": {
    "id": "d05bc5f6-e8f8-4f3c-b5c0-b24074d5d1ad"
   },
   "outputs": [],
   "source": [
    "import pandas as pd\n",
    "import numpy as np\n",
    "from sklearn.model_selection import train_test_split\n",
    "from sklearn.ensemble import RandomForestRegressor\n",
    "from sklearn.tree import DecisionTreeRegressor\n",
    "from sklearn.preprocessing import StandardScaler\n",
    "from sklearn.metrics import mean_squared_error\n",
    "from catboost import Pool, CatBoostRegressor\n",
    "from sklearn.model_selection import GridSearchCV\n",
    "import lightgbm as lgb\n",
    "from sklearn.preprocessing import OneHotEncoder\n",
    "from category_encoders import MEstimateEncoder\n",
    "from fast_ml.model_development import train_valid_test_split"
   ]
  },
  {
   "cell_type": "code",
   "execution_count": 23,
   "id": "fdc76709-db4e-46c1-a8e4-75e9fcdd222e",
   "metadata": {
    "colab": {
     "base_uri": "https://localhost:8080/",
     "height": 779
    },
    "id": "fdc76709-db4e-46c1-a8e4-75e9fcdd222e",
    "outputId": "1b68ac45-e01e-4bdc-85b3-96a12abed9c8"
   },
   "outputs": [
    {
     "data": {
      "text/html": [
       "<div>\n",
       "<style scoped>\n",
       "    .dataframe tbody tr th:only-of-type {\n",
       "        vertical-align: middle;\n",
       "    }\n",
       "\n",
       "    .dataframe tbody tr th {\n",
       "        vertical-align: top;\n",
       "    }\n",
       "\n",
       "    .dataframe thead th {\n",
       "        text-align: right;\n",
       "    }\n",
       "</style>\n",
       "<table border=\"1\" class=\"dataframe\">\n",
       "  <thead>\n",
       "    <tr style=\"text-align: right;\">\n",
       "      <th></th>\n",
       "      <th>DateCrawled</th>\n",
       "      <th>Price</th>\n",
       "      <th>VehicleType</th>\n",
       "      <th>RegistrationYear</th>\n",
       "      <th>Gearbox</th>\n",
       "      <th>Power</th>\n",
       "      <th>Model</th>\n",
       "      <th>Kilometer</th>\n",
       "      <th>RegistrationMonth</th>\n",
       "      <th>FuelType</th>\n",
       "      <th>Brand</th>\n",
       "      <th>Repaired</th>\n",
       "      <th>DateCreated</th>\n",
       "      <th>NumberOfPictures</th>\n",
       "      <th>PostalCode</th>\n",
       "      <th>LastSeen</th>\n",
       "    </tr>\n",
       "  </thead>\n",
       "  <tbody>\n",
       "    <tr>\n",
       "      <th>0</th>\n",
       "      <td>2016-03-24 11:52:17</td>\n",
       "      <td>480</td>\n",
       "      <td>NaN</td>\n",
       "      <td>1993</td>\n",
       "      <td>manual</td>\n",
       "      <td>0</td>\n",
       "      <td>golf</td>\n",
       "      <td>150000</td>\n",
       "      <td>0</td>\n",
       "      <td>petrol</td>\n",
       "      <td>volkswagen</td>\n",
       "      <td>NaN</td>\n",
       "      <td>2016-03-24 00:00:00</td>\n",
       "      <td>0</td>\n",
       "      <td>70435</td>\n",
       "      <td>2016-04-07 03:16:57</td>\n",
       "    </tr>\n",
       "    <tr>\n",
       "      <th>1</th>\n",
       "      <td>2016-03-24 10:58:45</td>\n",
       "      <td>18300</td>\n",
       "      <td>coupe</td>\n",
       "      <td>2011</td>\n",
       "      <td>manual</td>\n",
       "      <td>190</td>\n",
       "      <td>NaN</td>\n",
       "      <td>125000</td>\n",
       "      <td>5</td>\n",
       "      <td>gasoline</td>\n",
       "      <td>audi</td>\n",
       "      <td>yes</td>\n",
       "      <td>2016-03-24 00:00:00</td>\n",
       "      <td>0</td>\n",
       "      <td>66954</td>\n",
       "      <td>2016-04-07 01:46:50</td>\n",
       "    </tr>\n",
       "    <tr>\n",
       "      <th>2</th>\n",
       "      <td>2016-03-14 12:52:21</td>\n",
       "      <td>9800</td>\n",
       "      <td>suv</td>\n",
       "      <td>2004</td>\n",
       "      <td>auto</td>\n",
       "      <td>163</td>\n",
       "      <td>grand</td>\n",
       "      <td>125000</td>\n",
       "      <td>8</td>\n",
       "      <td>gasoline</td>\n",
       "      <td>jeep</td>\n",
       "      <td>NaN</td>\n",
       "      <td>2016-03-14 00:00:00</td>\n",
       "      <td>0</td>\n",
       "      <td>90480</td>\n",
       "      <td>2016-04-05 12:47:46</td>\n",
       "    </tr>\n",
       "    <tr>\n",
       "      <th>3</th>\n",
       "      <td>2016-03-17 16:54:04</td>\n",
       "      <td>1500</td>\n",
       "      <td>small</td>\n",
       "      <td>2001</td>\n",
       "      <td>manual</td>\n",
       "      <td>75</td>\n",
       "      <td>golf</td>\n",
       "      <td>150000</td>\n",
       "      <td>6</td>\n",
       "      <td>petrol</td>\n",
       "      <td>volkswagen</td>\n",
       "      <td>no</td>\n",
       "      <td>2016-03-17 00:00:00</td>\n",
       "      <td>0</td>\n",
       "      <td>91074</td>\n",
       "      <td>2016-03-17 17:40:17</td>\n",
       "    </tr>\n",
       "    <tr>\n",
       "      <th>4</th>\n",
       "      <td>2016-03-31 17:25:20</td>\n",
       "      <td>3600</td>\n",
       "      <td>small</td>\n",
       "      <td>2008</td>\n",
       "      <td>manual</td>\n",
       "      <td>69</td>\n",
       "      <td>fabia</td>\n",
       "      <td>90000</td>\n",
       "      <td>7</td>\n",
       "      <td>gasoline</td>\n",
       "      <td>skoda</td>\n",
       "      <td>no</td>\n",
       "      <td>2016-03-31 00:00:00</td>\n",
       "      <td>0</td>\n",
       "      <td>60437</td>\n",
       "      <td>2016-04-06 10:17:21</td>\n",
       "    </tr>\n",
       "  </tbody>\n",
       "</table>\n",
       "</div>"
      ],
      "text/plain": [
       "           DateCrawled  Price VehicleType  RegistrationYear Gearbox  Power  \\\n",
       "0  2016-03-24 11:52:17    480         NaN              1993  manual      0   \n",
       "1  2016-03-24 10:58:45  18300       coupe              2011  manual    190   \n",
       "2  2016-03-14 12:52:21   9800         suv              2004    auto    163   \n",
       "3  2016-03-17 16:54:04   1500       small              2001  manual     75   \n",
       "4  2016-03-31 17:25:20   3600       small              2008  manual     69   \n",
       "\n",
       "   Model  Kilometer  RegistrationMonth  FuelType       Brand Repaired  \\\n",
       "0   golf     150000                  0    petrol  volkswagen      NaN   \n",
       "1    NaN     125000                  5  gasoline        audi      yes   \n",
       "2  grand     125000                  8  gasoline        jeep      NaN   \n",
       "3   golf     150000                  6    petrol  volkswagen       no   \n",
       "4  fabia      90000                  7  gasoline       skoda       no   \n",
       "\n",
       "           DateCreated  NumberOfPictures  PostalCode             LastSeen  \n",
       "0  2016-03-24 00:00:00                 0       70435  2016-04-07 03:16:57  \n",
       "1  2016-03-24 00:00:00                 0       66954  2016-04-07 01:46:50  \n",
       "2  2016-03-14 00:00:00                 0       90480  2016-04-05 12:47:46  \n",
       "3  2016-03-17 00:00:00                 0       91074  2016-03-17 17:40:17  \n",
       "4  2016-03-31 00:00:00                 0       60437  2016-04-06 10:17:21  "
      ]
     },
     "metadata": {},
     "output_type": "display_data"
    },
    {
     "name": "stdout",
     "output_type": "stream",
     "text": [
      "<class 'pandas.core.frame.DataFrame'>\n",
      "RangeIndex: 354369 entries, 0 to 354368\n",
      "Data columns (total 16 columns):\n",
      " #   Column             Non-Null Count   Dtype \n",
      "---  ------             --------------   ----- \n",
      " 0   DateCrawled        354369 non-null  object\n",
      " 1   Price              354369 non-null  int64 \n",
      " 2   VehicleType        316879 non-null  object\n",
      " 3   RegistrationYear   354369 non-null  int64 \n",
      " 4   Gearbox            334536 non-null  object\n",
      " 5   Power              354369 non-null  int64 \n",
      " 6   Model              334664 non-null  object\n",
      " 7   Kilometer          354369 non-null  int64 \n",
      " 8   RegistrationMonth  354369 non-null  int64 \n",
      " 9   FuelType           321474 non-null  object\n",
      " 10  Brand              354369 non-null  object\n",
      " 11  Repaired           283215 non-null  object\n",
      " 12  DateCreated        354369 non-null  object\n",
      " 13  NumberOfPictures   354369 non-null  int64 \n",
      " 14  PostalCode         354369 non-null  int64 \n",
      " 15  LastSeen           354369 non-null  object\n",
      "dtypes: int64(7), object(9)\n",
      "memory usage: 43.3+ MB\n"
     ]
    }
   ],
   "source": [
    "try:\n",
    "    df = pd.read_csv('/content/drive/MyDrive/Colab Notebooks/autos.csv')\n",
    "except:\n",
    "    df = pd.read_csv('/datasets/autos.csv')\n",
    "\n",
    "display(df.head())\n",
    "df.info()"
   ]
  },
  {
   "cell_type": "markdown",
   "id": "27b791ab-96b0-4ac2-b7a0-9a60463a46d7",
   "metadata": {
    "id": "27b791ab-96b0-4ac2-b7a0-9a60463a46d7"
   },
   "source": [
    "# Изучите данные.\n",
    "Заполните пропущенные значения и обработайте аномалии в столбцах. Если среди признаков имеются неинформативные, удалите их."
   ]
  },
  {
   "cell_type": "code",
   "execution_count": 24,
   "id": "8e9d8862-5eb1-45bc-98dc-65ab0036eeff",
   "metadata": {
    "id": "8e9d8862-5eb1-45bc-98dc-65ab0036eeff"
   },
   "outputs": [],
   "source": [
    "# приведем названия столбцов\n",
    "df.columns = df.columns.str.replace(r\"([A-Z])\", r\" \\1\").str.lower().str.replace(' ', '_').str[1:]"
   ]
  },
  {
   "cell_type": "code",
   "execution_count": 25,
   "id": "0857d488-0d03-4839-9540-4a4a1475b426",
   "metadata": {
    "id": "0857d488-0d03-4839-9540-4a4a1475b426"
   },
   "outputs": [],
   "source": [
    "# удалим столбцы, которые не помогут в обучении модели\n",
    "df = df.drop(['date_crawled', 'registration_month', 'date_created', 'number_of_pictures', 'postal_code', 'last_seen'], axis=1)"
   ]
  },
  {
   "cell_type": "code",
   "execution_count": 26,
   "id": "a29c8817-5657-432b-9ff8-8da4c87810c8",
   "metadata": {
    "colab": {
     "base_uri": "https://localhost:8080/"
    },
    "id": "a29c8817-5657-432b-9ff8-8da4c87810c8",
    "outputId": "e4ae25df-c607-4900-89c1-f1ca4f8acc40"
   },
   "outputs": [
    {
     "data": {
      "text/plain": [
       "price                    0\n",
       "vehicle_type         37490\n",
       "registration_year        0\n",
       "gearbox              19833\n",
       "power                    0\n",
       "model                19705\n",
       "kilometer                0\n",
       "fuel_type            32895\n",
       "brand                    0\n",
       "repaired             71154\n",
       "dtype: int64"
      ]
     },
     "execution_count": 26,
     "metadata": {},
     "output_type": "execute_result"
    }
   ],
   "source": [
    "df.isna().sum()"
   ]
  },
  {
   "cell_type": "code",
   "execution_count": 27,
   "id": "dc530333-84a5-4845-9513-b5bd695a2944",
   "metadata": {
    "colab": {
     "base_uri": "https://localhost:8080/",
     "height": 182
    },
    "id": "dc530333-84a5-4845-9513-b5bd695a2944",
    "outputId": "28debd30-0d96-43fb-d53d-26a0b452967f"
   },
   "outputs": [
    {
     "data": {
      "text/plain": [
       "sedan          91457\n",
       "small          79831\n",
       "wagon          65166\n",
       "bus            28775\n",
       "convertible    20203\n",
       "coupe          16163\n",
       "suv            11996\n",
       "other           3288\n",
       "Name: vehicle_type, dtype: int64"
      ]
     },
     "metadata": {},
     "output_type": "display_data"
    }
   ],
   "source": [
    "display(df['vehicle_type'].value_counts())\n",
    "# заменим NaN на other\n",
    "df['vehicle_type'] = df['vehicle_type'].fillna('other')"
   ]
  },
  {
   "cell_type": "code",
   "execution_count": 28,
   "id": "fab39c66-ec12-4d5d-b146-4ca8903d5846",
   "metadata": {
    "colab": {
     "base_uri": "https://localhost:8080/",
     "height": 72
    },
    "id": "fab39c66-ec12-4d5d-b146-4ca8903d5846",
    "outputId": "fd6d3706-f17c-4b20-fd80-ee582e1ccb9a"
   },
   "outputs": [
    {
     "data": {
      "text/plain": [
       "manual    268251\n",
       "auto       66285\n",
       "Name: gearbox, dtype: int64"
      ]
     },
     "metadata": {},
     "output_type": "display_data"
    }
   ],
   "source": [
    "display(df['gearbox'].value_counts())\n",
    "df['gearbox'].fillna('unknown', inplace=True)"
   ]
  },
  {
   "cell_type": "code",
   "execution_count": 29,
   "id": "386599a3-6326-4f9e-a35d-794c6e0109f2",
   "metadata": {
    "colab": {
     "base_uri": "https://localhost:8080/",
     "height": 237
    },
    "id": "386599a3-6326-4f9e-a35d-794c6e0109f2",
    "outputId": "17374086-87c6-45b1-9b76-c75055001fc0"
   },
   "outputs": [
    {
     "data": {
      "text/plain": [
       "golf                  29232\n",
       "other                 24421\n",
       "3er                   19761\n",
       "polo                  13066\n",
       "corsa                 12570\n",
       "                      ...  \n",
       "i3                        8\n",
       "serie_3                   4\n",
       "rangerover                4\n",
       "range_rover_evoque        2\n",
       "serie_1                   2\n",
       "Name: model, Length: 250, dtype: int64"
      ]
     },
     "metadata": {},
     "output_type": "display_data"
    }
   ],
   "source": [
    "display(df['model'].value_counts())\n",
    "df['model'].fillna('other', inplace=True)"
   ]
  },
  {
   "cell_type": "code",
   "execution_count": 30,
   "id": "b4e98a7f-7426-4b76-8e07-0fc7d99d7e6d",
   "metadata": {
    "colab": {
     "base_uri": "https://localhost:8080/",
     "height": 164
    },
    "id": "b4e98a7f-7426-4b76-8e07-0fc7d99d7e6d",
    "outputId": "0bdd5ed5-d4c2-4c08-82f5-aea9b004a18f"
   },
   "outputs": [
    {
     "data": {
      "text/plain": [
       "petrol      216352\n",
       "gasoline     98720\n",
       "lpg           5310\n",
       "cng            565\n",
       "hybrid         233\n",
       "other          204\n",
       "electric        90\n",
       "Name: fuel_type, dtype: int64"
      ]
     },
     "metadata": {},
     "output_type": "display_data"
    }
   ],
   "source": [
    "display(df['fuel_type'].value_counts())\n",
    "df['fuel_type'].fillna('other', inplace=True)\n",
    "# gasoline и petrol - одно и то же, следует обьединить\n",
    "df['fuel_type'] = df['fuel_type'].replace('gasoline','petrol')"
   ]
  },
  {
   "cell_type": "code",
   "execution_count": 31,
   "id": "2ce10ac6-4b06-4e9a-b97d-abc3c104d0a5",
   "metadata": {
    "colab": {
     "base_uri": "https://localhost:8080/",
     "height": 274
    },
    "id": "2ce10ac6-4b06-4e9a-b97d-abc3c104d0a5",
    "outputId": "7ddd6fff-f7b6-4fb2-fa4e-ba467694dd6f"
   },
   "outputs": [
    {
     "data": {
      "text/plain": [
       "no     247161\n",
       "yes     36054\n",
       "Name: repaired, dtype: int64"
      ]
     },
     "metadata": {},
     "output_type": "display_data"
    },
    {
     "data": {
      "text/plain": [
       "price                0\n",
       "vehicle_type         0\n",
       "registration_year    0\n",
       "gearbox              0\n",
       "power                0\n",
       "model                0\n",
       "kilometer            0\n",
       "fuel_type            0\n",
       "brand                0\n",
       "repaired             0\n",
       "dtype: int64"
      ]
     },
     "execution_count": 31,
     "metadata": {},
     "output_type": "execute_result"
    }
   ],
   "source": [
    "display(df['repaired'].value_counts())\n",
    "df['repaired'].fillna('other', inplace=True)\n",
    "# перепроверим пропущеные значения\n",
    "df.isna().sum()"
   ]
  },
  {
   "cell_type": "code",
   "execution_count": 32,
   "id": "2618a6f5-b6d2-4f31-acec-287da179810f",
   "metadata": {
    "colab": {
     "base_uri": "https://localhost:8080/"
    },
    "id": "2618a6f5-b6d2-4f31-acec-287da179810f",
    "outputId": "81b256f4-4f2b-4c00-f6ed-ed72a6b48a6f"
   },
   "outputs": [
    {
     "name": "stdout",
     "output_type": "stream",
     "text": [
      "Дубликатов: 46042\n",
      "Дубликатов после удаления: 0\n"
     ]
    }
   ],
   "source": [
    "# Проверяем на наличие дубликатов\n",
    "print('Дубликатов:', df.duplicated().sum())\n",
    "df = df.drop_duplicates().reset_index(drop=True)\n",
    "print('Дубликатов после удаления:', df.duplicated().sum())"
   ]
  },
  {
   "cell_type": "code",
   "execution_count": 33,
   "id": "52e5628e-6e1c-4bd1-a428-db9679a3a9df",
   "metadata": {
    "colab": {
     "base_uri": "https://localhost:8080/",
     "height": 639
    },
    "id": "52e5628e-6e1c-4bd1-a428-db9679a3a9df",
    "outputId": "acc092fe-c139-496a-b26e-e0981dcd883b"
   },
   "outputs": [
    {
     "data": {
      "text/html": [
       "<div>\n",
       "<style scoped>\n",
       "    .dataframe tbody tr th:only-of-type {\n",
       "        vertical-align: middle;\n",
       "    }\n",
       "\n",
       "    .dataframe tbody tr th {\n",
       "        vertical-align: top;\n",
       "    }\n",
       "\n",
       "    .dataframe thead th {\n",
       "        text-align: right;\n",
       "    }\n",
       "</style>\n",
       "<table border=\"1\" class=\"dataframe\">\n",
       "  <thead>\n",
       "    <tr style=\"text-align: right;\">\n",
       "      <th></th>\n",
       "      <th>price</th>\n",
       "      <th>registration_year</th>\n",
       "      <th>power</th>\n",
       "      <th>kilometer</th>\n",
       "    </tr>\n",
       "  </thead>\n",
       "  <tbody>\n",
       "    <tr>\n",
       "      <th>count</th>\n",
       "      <td>308327.000000</td>\n",
       "      <td>308327.000000</td>\n",
       "      <td>308327.000000</td>\n",
       "      <td>308327.000000</td>\n",
       "    </tr>\n",
       "    <tr>\n",
       "      <th>mean</th>\n",
       "      <td>4492.320854</td>\n",
       "      <td>2004.367597</td>\n",
       "      <td>111.044164</td>\n",
       "      <td>127167.325599</td>\n",
       "    </tr>\n",
       "    <tr>\n",
       "      <th>std</th>\n",
       "      <td>4568.472330</td>\n",
       "      <td>92.690667</td>\n",
       "      <td>201.268827</td>\n",
       "      <td>38557.473682</td>\n",
       "    </tr>\n",
       "    <tr>\n",
       "      <th>min</th>\n",
       "      <td>0.000000</td>\n",
       "      <td>1000.000000</td>\n",
       "      <td>0.000000</td>\n",
       "      <td>5000.000000</td>\n",
       "    </tr>\n",
       "    <tr>\n",
       "      <th>25%</th>\n",
       "      <td>1100.000000</td>\n",
       "      <td>1999.000000</td>\n",
       "      <td>69.000000</td>\n",
       "      <td>125000.000000</td>\n",
       "    </tr>\n",
       "    <tr>\n",
       "      <th>50%</th>\n",
       "      <td>2800.000000</td>\n",
       "      <td>2003.000000</td>\n",
       "      <td>105.000000</td>\n",
       "      <td>150000.000000</td>\n",
       "    </tr>\n",
       "    <tr>\n",
       "      <th>75%</th>\n",
       "      <td>6500.000000</td>\n",
       "      <td>2008.000000</td>\n",
       "      <td>143.000000</td>\n",
       "      <td>150000.000000</td>\n",
       "    </tr>\n",
       "    <tr>\n",
       "      <th>max</th>\n",
       "      <td>20000.000000</td>\n",
       "      <td>9999.000000</td>\n",
       "      <td>20000.000000</td>\n",
       "      <td>150000.000000</td>\n",
       "    </tr>\n",
       "  </tbody>\n",
       "</table>\n",
       "</div>"
      ],
      "text/plain": [
       "               price  registration_year          power      kilometer\n",
       "count  308327.000000      308327.000000  308327.000000  308327.000000\n",
       "mean     4492.320854        2004.367597     111.044164  127167.325599\n",
       "std      4568.472330          92.690667     201.268827   38557.473682\n",
       "min         0.000000        1000.000000       0.000000    5000.000000\n",
       "25%      1100.000000        1999.000000      69.000000  125000.000000\n",
       "50%      2800.000000        2003.000000     105.000000  150000.000000\n",
       "75%      6500.000000        2008.000000     143.000000  150000.000000\n",
       "max     20000.000000        9999.000000   20000.000000  150000.000000"
      ]
     },
     "metadata": {},
     "output_type": "display_data"
    },
    {
     "name": "stdout",
     "output_type": "stream",
     "text": [
      "Количество строк, выбранных для удаления price: 13066\n",
      "Количество строк, выбранных для удаления power: 6489\n",
      "Было удалено всего строк: 19555\n"
     ]
    },
    {
     "data": {
      "text/html": [
       "<div>\n",
       "<style scoped>\n",
       "    .dataframe tbody tr th:only-of-type {\n",
       "        vertical-align: middle;\n",
       "    }\n",
       "\n",
       "    .dataframe tbody tr th {\n",
       "        vertical-align: top;\n",
       "    }\n",
       "\n",
       "    .dataframe thead th {\n",
       "        text-align: right;\n",
       "    }\n",
       "</style>\n",
       "<table border=\"1\" class=\"dataframe\">\n",
       "  <thead>\n",
       "    <tr style=\"text-align: right;\">\n",
       "      <th></th>\n",
       "      <th>price</th>\n",
       "      <th>registration_year</th>\n",
       "      <th>power</th>\n",
       "      <th>kilometer</th>\n",
       "    </tr>\n",
       "  </thead>\n",
       "  <tbody>\n",
       "    <tr>\n",
       "      <th>count</th>\n",
       "      <td>279130.000000</td>\n",
       "      <td>279130.000000</td>\n",
       "      <td>279130.000000</td>\n",
       "      <td>279130.000000</td>\n",
       "    </tr>\n",
       "    <tr>\n",
       "      <th>mean</th>\n",
       "      <td>4492.033178</td>\n",
       "      <td>2002.101673</td>\n",
       "      <td>104.896919</td>\n",
       "      <td>126689.033784</td>\n",
       "    </tr>\n",
       "    <tr>\n",
       "      <th>std</th>\n",
       "      <td>4502.624517</td>\n",
       "      <td>6.757793</td>\n",
       "      <td>56.448676</td>\n",
       "      <td>38648.097784</td>\n",
       "    </tr>\n",
       "    <tr>\n",
       "      <th>min</th>\n",
       "      <td>0.000000</td>\n",
       "      <td>1931.000000</td>\n",
       "      <td>0.000000</td>\n",
       "      <td>5000.000000</td>\n",
       "    </tr>\n",
       "    <tr>\n",
       "      <th>25%</th>\n",
       "      <td>1100.000000</td>\n",
       "      <td>1999.000000</td>\n",
       "      <td>70.000000</td>\n",
       "      <td>125000.000000</td>\n",
       "    </tr>\n",
       "    <tr>\n",
       "      <th>50%</th>\n",
       "      <td>2850.000000</td>\n",
       "      <td>2002.000000</td>\n",
       "      <td>105.000000</td>\n",
       "      <td>150000.000000</td>\n",
       "    </tr>\n",
       "    <tr>\n",
       "      <th>75%</th>\n",
       "      <td>6500.000000</td>\n",
       "      <td>2007.000000</td>\n",
       "      <td>140.000000</td>\n",
       "      <td>150000.000000</td>\n",
       "    </tr>\n",
       "    <tr>\n",
       "      <th>max</th>\n",
       "      <td>20000.000000</td>\n",
       "      <td>2015.000000</td>\n",
       "      <td>251.000000</td>\n",
       "      <td>150000.000000</td>\n",
       "    </tr>\n",
       "  </tbody>\n",
       "</table>\n",
       "</div>"
      ],
      "text/plain": [
       "               price  registration_year          power      kilometer\n",
       "count  279130.000000      279130.000000  279130.000000  279130.000000\n",
       "mean     4492.033178        2002.101673     104.896919  126689.033784\n",
       "std      4502.624517           6.757793      56.448676   38648.097784\n",
       "min         0.000000        1931.000000       0.000000    5000.000000\n",
       "25%      1100.000000        1999.000000      70.000000  125000.000000\n",
       "50%      2850.000000        2002.000000     105.000000  150000.000000\n",
       "75%      6500.000000        2007.000000     140.000000  150000.000000\n",
       "max     20000.000000        2015.000000     251.000000  150000.000000"
      ]
     },
     "metadata": {},
     "output_type": "display_data"
    }
   ],
   "source": [
    "# Ищем аномальные значения\n",
    "display(df.describe())\n",
    "# Замечаем аномалии: год регистрации 9999, количесто лошадиных сил 0 и 20000\n",
    "\n",
    "df = df[(df['registration_year'] > 1930) & (df['registration_year'] < 2016)]\n",
    "#Функция для обработки аномалий\n",
    "def balance(df, column):\n",
    "    q25 = df[column].quantile(0.25)\n",
    "    q75 = df[column].quantile(0.75)\n",
    "    iqr = q75 - q25\n",
    "    lower = q25 - 1.5 * iqr\n",
    "    upper = q75 + 1.5 * iqr\n",
    "    del_index = df[(df[column] < lower) | (df[column] > upper)].index\n",
    "    print(f\"Количество строк, выбранных для удаления {column}: {len(del_index)}\")\n",
    "    return del_index\n",
    "\n",
    "col = [\"price\", \"power\"]\n",
    "count = 0\n",
    "for column in col:\n",
    "    to_del = balance(df, column)\n",
    "    count += len(to_del)\n",
    "df = df.drop(to_del, axis=0)\n",
    "print(\"Было удалено всего строк:\", count)\n",
    "display(df.describe())\n"
   ]
  },
  {
   "cell_type": "markdown",
   "id": "7fdcb5f6-21d9-4119-a76a-b52fbc42ddb0",
   "metadata": {
    "id": "7fdcb5f6-21d9-4119-a76a-b52fbc42ddb0"
   },
   "source": [
    "* После подготовки даных в общей сложности было удалено 53 тыс. строк. Среди них были как аномальные значения, так и дубликаты.\n",
    "* Исправлены наименования столбцов для удобочитаемости, а так же обединены некоторые группые категориальных признаков, которые дублируют друг друга.\n",
    "* Датасет очищен от отсутствующих значений.\n",
    "* Категориальные признаки переведены в количественные в отдельной копии датасете"
   ]
  },
  {
   "cell_type": "markdown",
   "id": "ad31c4a9-5b10-424e-ab3e-fa2c9d70c23e",
   "metadata": {
    "id": "ad31c4a9-5b10-424e-ab3e-fa2c9d70c23e"
   },
   "source": [
    "# Подготовьте выборки для обучения моделей.\n"
   ]
  },
  {
   "cell_type": "code",
   "execution_count": 38,
   "id": "doil7ZgHrqQc",
   "metadata": {
    "colab": {
     "base_uri": "https://localhost:8080/"
    },
    "id": "doil7ZgHrqQc",
    "outputId": "3a7ea9d9-f971-43d0-f954-173e607f8716"
   },
   "outputs": [
    {
     "name": "stdout",
     "output_type": "stream",
     "text": [
      "Размер тренировочной выборки: (167478, 21)\n",
      "Размер валидационной выборки: (55826, 21)\n",
      "Размер тестовой выборки: (55826, 21)\n"
     ]
    }
   ],
   "source": [
    "features_train, target_train, features_valid, target_valid, features_test, target_test = train_valid_test_split(df, target='price', train_size=0.6, valid_size=0.2, test_size=0.2, random_state=42)\n",
    "\n",
    "def encode(data, target):\n",
    "    # Подготавливаем инструменты для масштабирования и кодирования\n",
    "    scaler = StandardScaler()\n",
    "    encoder_ohe = OneHotEncoder(drop='first', sparse=False)\n",
    "    encoder_m_estimate = MEstimateEncoder()\n",
    "\n",
    "    # Отделяем количественные и категориальные признаки\n",
    "    numerical_features = data.select_dtypes(include=[np.number]).columns.tolist()\n",
    "    categorical_features = data.select_dtypes(include=['object']).columns.tolist()\n",
    "\n",
    "    # Не забываем про размерность\n",
    "    categorical_features.remove('brand')\n",
    "    categorical_features.remove('model')\n",
    "\n",
    "    # Масштабируем количественные признаки\n",
    "    scaler.fit(features_train[numerical_features])\n",
    "    scaled_numerical = scaler.transform(data[numerical_features])\n",
    "\n",
    "    # Применяем OHE к категориальным признакам (кроме 'brand' и 'model')\n",
    "    encoder_ohe.fit(features_train[categorical_features])\n",
    "    ohe_features = encoder_ohe.transform(data[categorical_features])\n",
    "\n",
    "    # MEstimate для Brand и Model\n",
    "    encoder_m_estimate.fit(features_train[['brand', 'model']], target_train)\n",
    "    encoded_razmernost = encoder_m_estimate.transform(data[['brand', 'model']])\n",
    "    \n",
    "    # Объединяем масштабированные и закодированные признаки, не забыв сбросит индексы\n",
    "    features_final = pd.concat([\n",
    "    pd.DataFrame(scaled_numerical, columns=numerical_features),\n",
    "    pd.DataFrame(ohe_features, columns=encoder_ohe.get_feature_names(input_features=categorical_features)),\n",
    "    encoded_razmernost.reset_index(drop=True)\n",
    "], axis=1)\n",
    "\n",
    "    return features_final\n",
    "\n",
    "# Применяем функцию к разным выборкам\n",
    "features_train_num = encode(features_train, target_train)\n",
    "features_valid_num = encode(features_valid, target_valid)\n",
    "features_test_num = encode(features_test, target_test)\n",
    "\n",
    "print('Размер тренировочной выборки:', features_train_num.shape)\n",
    "print('Размер валидационной выборки:', features_valid_num.shape)\n",
    "print('Размер тестовой выборки:', features_test_num.shape)\n"
   ]
  },
  {
   "cell_type": "markdown",
   "id": "y7-aKA8LZWeQ",
   "metadata": {
    "id": "y7-aKA8LZWeQ"
   },
   "source": [
    "## Кодируем выборки"
   ]
  },
  {
   "cell_type": "code",
   "execution_count": null,
   "id": "nGPFSBLupjW9",
   "metadata": {
    "colab": {
     "base_uri": "https://localhost:8080/"
    },
    "id": "nGPFSBLupjW9",
    "outputId": "cdba9ed3-3a9f-40de-b818-369cfe7659a7"
   },
   "outputs": [],
   "source": [
    "# Отдельно создадим выборку без предварительного перевода категориальных признаком и без масштабирования используя fast_ml\n",
    "features_train, target_train, features_valid, target_valid, features_test, target_test = train_valid_test_split(df, target = 'price', train_size=0.6, valid_size=0.2, test_size=0.2)\n",
    "print('Размер тренировочной выборки:', features_train.shape)\n",
    "print('Размер валидационной выборки:', features_valid.shape)\n",
    "print('Размер тестовой выборки:', features_test.shape)"
   ]
  },
  {
   "cell_type": "markdown",
   "id": "5816db4e-c33b-4f81-834f-fbbe73d30a4f",
   "metadata": {
    "id": "5816db4e-c33b-4f81-834f-fbbe73d30a4f"
   },
   "source": [
    "# Обучите разные модели\n",
    "одна из которых — LightGBM, как минимум одна — не бустинг. Для каждой модели попробуйте разные гиперпараметры."
   ]
  },
  {
   "cell_type": "code",
   "execution_count": null,
   "id": "33d40016-d1a8-433a-987b-a4c7a5079543",
   "metadata": {
    "colab": {
     "base_uri": "https://localhost:8080/"
    },
    "id": "33d40016-d1a8-433a-987b-a4c7a5079543",
    "outputId": "dd8531d6-a4e6-42b6-8391-97bbd254aee8"
   },
   "outputs": [],
   "source": [
    "# catboost\n",
    "\n",
    "model = CatBoostRegressor(loss_function=\"RMSE\", iterations=10)\n",
    "cat_features = ['vehicle_type', 'gearbox', 'model',\n",
    "                'fuel_type', 'brand', 'repaired']\n",
    "parameters_cat = {'depth':[1,10, 2],\n",
    "                  'learning_rate':(0.1,0.4,0.7,0.9)}\n",
    "\n",
    "catboost_grid = model.grid_search(parameters_cat,\n",
    "            Pool(features_valid[features_valid.columns], target_valid, cat_features=cat_features),\n",
    "            cv=3,\n",
    "            verbose=False,\n",
    "            plot=False)"
   ]
  },
  {
   "cell_type": "code",
   "execution_count": null,
   "id": "DsDO3c9l0GjC",
   "metadata": {
    "colab": {
     "base_uri": "https://localhost:8080/"
    },
    "id": "DsDO3c9l0GjC",
    "outputId": "6977413e-13c0-4657-f44d-873fbd8f34b2"
   },
   "outputs": [],
   "source": [
    "catboost_grid[\"params\"]"
   ]
  },
  {
   "cell_type": "code",
   "execution_count": null,
   "id": "owf5940e0Jnz",
   "metadata": {
    "colab": {
     "base_uri": "https://localhost:8080/"
    },
    "id": "owf5940e0Jnz",
    "outputId": "c4be83cf-e52b-4033-8a57-f8ad27f13b21"
   },
   "outputs": [],
   "source": [
    "%%time\n",
    "catboost = CatBoostRegressor(depth=catboost_grid[\"params\"][\"depth\"],\n",
    "                              learning_rate=catboost_grid[\"params\"]['learning_rate'],\n",
    "                              loss_function='RMSE',verbose=100)\n",
    "catboost.fit(Pool(features_train, target_train,\n",
    "                   cat_features=cat_features))"
   ]
  },
  {
   "cell_type": "code",
   "execution_count": null,
   "id": "pDMxM9VhNOv4",
   "metadata": {
    "colab": {
     "base_uri": "https://localhost:8080/"
    },
    "id": "pDMxM9VhNOv4",
    "outputId": "2eaa6e29-3b6a-429b-95cb-4a18944c257a"
   },
   "outputs": [],
   "source": [
    "%%time\n",
    "cat_predict = catboost.predict(features_test)\n",
    "print('Время предсказания CatBoost: ', cat_predict)"
   ]
  },
  {
   "cell_type": "code",
   "execution_count": null,
   "id": "ydCg4a783HQo",
   "metadata": {
    "colab": {
     "base_uri": "https://localhost:8080/"
    },
    "id": "ydCg4a783HQo",
    "outputId": "c9e5e4e2-eee7-42fd-a56e-fddad9245a46"
   },
   "outputs": [],
   "source": [
    "print(\"CatBoost RMSE:\", mean_squared_error(target_test, cat_predict) ** 0.5)"
   ]
  },
  {
   "cell_type": "code",
   "execution_count": null,
   "id": "iYFa1oY4xZ30",
   "metadata": {
    "colab": {
     "background_save": true,
     "base_uri": "https://localhost:8080/"
    },
    "id": "iYFa1oY4xZ30",
    "outputId": "dbb4290a-9559-42ed-c160-ef0dbc8dd0e1"
   },
   "outputs": [],
   "source": [
    "# RandomForest\n",
    "\n",
    "RF = RandomForestRegressor(criterion = \"friedman_mse\",random_state=42,n_jobs=-1)\n",
    "\n",
    "# Подбор гиперпараметров для RandomForest\n",
    "param_grid = {\n",
    "    'n_estimators': [50, 100, 200],\n",
    "    'max_depth': [3,5,7],\n",
    "}\n",
    "\n",
    "grid_search = GridSearchCV(estimator=RF, param_grid=param_grid, scoring='neg_root_mean_squared_error',\n",
    "                           cv=3, verbose=1, n_jobs=-1)\n",
    "\n",
    "grid_search.fit(features_valid_num, target_valid_num)"
   ]
  },
  {
   "cell_type": "code",
   "execution_count": null,
   "id": "PEgiJxgOLwzp",
   "metadata": {
    "colab": {
     "background_save": true
    },
    "id": "PEgiJxgOLwzp",
    "outputId": "66b8fd1b-7b27-4de3-9bdd-b21f21bd0cc4"
   },
   "outputs": [],
   "source": [
    "# Лучшие параметры\n",
    "best_est = grid_search.best_params_['n_estimators']\n",
    "best_depth = grid_search.best_params_['max_depth']\n",
    "print('Лучшее est', best_est)\n",
    "print('Лучшая глубина', best_depth)\n",
    "print('Лучшая RMSE RandomForest на валидационной выборке : ', grid_search.best_score_*-1)"
   ]
  },
  {
   "cell_type": "code",
   "execution_count": null,
   "id": "Xyj5ruj2IxbE",
   "metadata": {
    "colab": {
     "background_save": true
    },
    "id": "Xyj5ruj2IxbE",
    "outputId": "1f257a0c-7372-4930-d3c7-5ab87e7b039a"
   },
   "outputs": [],
   "source": [
    "%%time\n",
    "# Обучаем на тренировочных данных и лучших параметрах\n",
    "RF = RandomForestRegressor(random_state=42, n_estimators=best_est, max_depth=best_depth)\n",
    "RF.fit(features_train_num, target_train_num)"
   ]
  },
  {
   "cell_type": "code",
   "execution_count": null,
   "id": "rJg259pQJkxS",
   "metadata": {
    "colab": {
     "background_save": true
    },
    "id": "rJg259pQJkxS",
    "outputId": "45eebbe1-48e8-4bc2-fd24-c752107f8b98"
   },
   "outputs": [],
   "source": [
    "%%time\n",
    "# Получите предсказания на тестовых данных и оцените RMSE\n",
    "predictions = RF.predict(features_test_num)\n",
    "rmse = mean_squared_error(target_test_num, predictions)**0.5\n",
    "\n",
    "# Выведите результаты\n",
    "print('Лучшее количество деревьев:', best_est)\n",
    "print('Лучшая глубина:', best_depth)\n",
    "print('RMSE для случайного леса с лучшими гиперпараметрами на тестовой выборке:', rmse)"
   ]
  },
  {
   "cell_type": "code",
   "execution_count": null,
   "id": "7GVj0LL64O1X",
   "metadata": {
    "colab": {
     "base_uri": "https://localhost:8080/"
    },
    "id": "7GVj0LL64O1X",
    "outputId": "b456889f-a8dd-432e-c223-6284bd45ce3b"
   },
   "outputs": [],
   "source": [
    "# построим модель без подбора гиперпараметров\n",
    "model = lgb.LGBMRegressor(random_state=42)\n",
    "model.fit(features_train_num, target_train_num)\n",
    "predictions_train = model.predict(features_train_num)\n",
    "rmse = mean_squared_error(target_train_num, predictions_train)**0.5\n",
    "print('RMSE lgbm на тренировочный выборке без предустановленных параметров:', rmse)\n"
   ]
  },
  {
   "cell_type": "code",
   "execution_count": null,
   "id": "ZKwY0iDx733n",
   "metadata": {
    "colab": {
     "base_uri": "https://localhost:8080/",
     "height": 136
    },
    "id": "ZKwY0iDx733n",
    "outputId": "8e9f1bf9-589a-4549-bb71-6e3925f14dcf"
   },
   "outputs": [],
   "source": [
    "model = lgb.LGBMRegressor(random_state=42)\n",
    "param_grid = {\n",
    "    'n_estimators': [100, 200, 300],\n",
    "    'max_depth': [3, 5, 7],\n",
    "    'learning_rate': [0.01, 0.1, 0.2]\n",
    "}\n",
    "tuning_model = GridSearchCV(estimator=model,\n",
    "                            param_grid=param_grid,\n",
    "                            scoring='neg_root_mean_squared_error',\n",
    "                            cv=5,\n",
    "                            verbose=1,\n",
    "                            n_jobs=-1)\n",
    "tuning_model.fit(features_valid_num, target_valid_num)"
   ]
  },
  {
   "cell_type": "code",
   "execution_count": null,
   "id": "fqp4WfWjGLuE",
   "metadata": {
    "colab": {
     "base_uri": "https://localhost:8080/"
    },
    "id": "fqp4WfWjGLuE",
    "outputId": "0a2cc732-c735-44ed-8b16-e7ea95844455"
   },
   "outputs": [],
   "source": [
    "print('Лучшие параметры LGBM:', tuning_model.best_params_)\n",
    "print('RMSE LGBM на валидационной выборке : ', tuning_model.best_score_*-1)"
   ]
  },
  {
   "cell_type": "code",
   "execution_count": null,
   "id": "jgoep4vZZKZ-",
   "metadata": {
    "colab": {
     "base_uri": "https://localhost:8080/",
     "height": 111
    },
    "id": "jgoep4vZZKZ-",
    "outputId": "efef7c31-731c-4929-d230-0e8e18929192"
   },
   "outputs": [],
   "source": [
    "%%time\n",
    "model = lgb.LGBMRegressor(random_state=42, n_estimators=300, learning_rate=0.1, max_depth=7)\n",
    "model.fit(features_train_num, target_train_num)"
   ]
  },
  {
   "cell_type": "code",
   "execution_count": null,
   "id": "oSJEjRp4Mepi",
   "metadata": {
    "colab": {
     "base_uri": "https://localhost:8080/"
    },
    "id": "oSJEjRp4Mepi",
    "outputId": "92e788e3-cf43-4b40-f296-787236bedbf9"
   },
   "outputs": [],
   "source": [
    "%%time\n",
    "lgb_predict = model.predict(features_test_num)\n",
    "print('Время предсказания LGBM: ', lgb_predict)"
   ]
  },
  {
   "cell_type": "code",
   "execution_count": null,
   "id": "L0q-99oSZWss",
   "metadata": {
    "colab": {
     "base_uri": "https://localhost:8080/"
    },
    "id": "L0q-99oSZWss",
    "outputId": "d6ac1b77-f530-43ed-fa7c-ae49fb720f39"
   },
   "outputs": [],
   "source": [
    "print(\"LightGBM RMSE на тестовой выборке:\",(mean_squared_error(target_test_num,lgb_predict)**0.5))"
   ]
  },
  {
   "cell_type": "markdown",
   "id": "4I-1rTozDEqo",
   "metadata": {
    "id": "4I-1rTozDEqo"
   },
   "source": [
    "Выводы:\n",
    "\n",
    "> CatBoost:\n",
    "Время обучения: 9min 12s\n",
    "Время предсказания: 1.64 s\n",
    "RMSE: 1715.281\n",
    "\n",
    "\n",
    "---\n",
    "\n",
    "\n",
    "> RandomForest:\n",
    "Время обучения: 57.3 s\n",
    "Время предсказания: 687 ms\n",
    "RMSE: 2117.214\n",
    "\n",
    "\n",
    "---\n",
    "\n",
    "\n",
    ">LGBM:\n",
    "Время обучения: 2.92 s\n",
    "Время предсказания: 765 ms\n",
    "RMSE : 1786.6348"
   ]
  },
  {
   "cell_type": "markdown",
   "id": "jW9y4MiKHoN9",
   "metadata": {
    "id": "jW9y4MiKHoN9"
   },
   "source": [
    "> Модель LighGBM показала преимущество перед другими моделями по скорости обучения и времени предсказания, незначительно уступив Catboost по метрике RMSE.\n",
    "\n",
    "> Сatboost в свою очередь показал худшие временные показатели, что может сказаться на пользовательском опыте приложения."
   ]
  },
  {
   "cell_type": "markdown",
   "id": "W4fEvsxyI0RA",
   "metadata": {
    "id": "W4fEvsxyI0RA"
   },
   "source": [
    "# Общий вывод:\n",
    "\n",
    "\n",
    "> В ходе предобработки исходного датасета в общей сложности было удалено 53 тыс. строк. Среди них были как аномальные значения, так и дубликаты. Исправлены наименования столбцов для удобочитаемости, а так же обединены некоторые группые категориальных признаков, которые дублируют друг друга. Датасет очищен от отсутствующих значений.\n",
    "Категориальные признаки переведены в количественные в отдельной копии датасете не забывая о проклятии размерности.\n",
    "\n",
    "> В ходе подготовки выборок для оубчения было решено поделить их на 3 выборки в пропорции 3-1-1: для подбора обучения(тренировочная), для подбора гиперпараметров(валидационная), для финального тестирования моделия(тестовая). Отдельно для каждой выборки проведено масштабирование признаков и кодирование.\n",
    "\n",
    "> В ходе работы с 3-мя моделями МО, наилучший показатель RMSE продемонстрировала модель Catboost - 1715.281, но по временным параметрам уступив двум другим моделям.\n",
    "\n",
    "> Наилучшие скоростные характеристики имеет модель LightGBM, а RMSE назначиельно хуже Catboost - 1786.634.\n",
    "\n",
    "Исходя из требований заказчика по скорости обучения, придсказания и качества модели, рекомендуем модель LightGBM, поскольку она имеет самые оптимальные характеристики."
   ]
  }
 ],
 "metadata": {
  "ExecuteTimeLog": [
   {
    "duration": 87,
    "start_time": "2023-07-26T18:44:07.960Z"
   },
   {
    "duration": 0,
    "start_time": "2023-07-26T18:44:08.051Z"
   },
   {
    "duration": 0,
    "start_time": "2023-07-26T18:44:08.053Z"
   },
   {
    "duration": 0,
    "start_time": "2023-07-26T18:44:08.073Z"
   },
   {
    "duration": 0,
    "start_time": "2023-07-26T18:44:08.074Z"
   },
   {
    "duration": 1,
    "start_time": "2023-07-26T18:44:08.075Z"
   },
   {
    "duration": 0,
    "start_time": "2023-07-26T18:44:08.077Z"
   },
   {
    "duration": 0,
    "start_time": "2023-07-26T18:44:08.078Z"
   },
   {
    "duration": 0,
    "start_time": "2023-07-26T18:44:08.080Z"
   },
   {
    "duration": 0,
    "start_time": "2023-07-26T18:44:08.080Z"
   },
   {
    "duration": 0,
    "start_time": "2023-07-26T18:44:08.081Z"
   },
   {
    "duration": 0,
    "start_time": "2023-07-26T18:44:08.082Z"
   },
   {
    "duration": 0,
    "start_time": "2023-07-26T18:44:08.083Z"
   },
   {
    "duration": 0,
    "start_time": "2023-07-26T18:44:08.083Z"
   },
   {
    "duration": 0,
    "start_time": "2023-07-26T18:44:08.093Z"
   },
   {
    "duration": 0,
    "start_time": "2023-07-26T18:44:08.094Z"
   },
   {
    "duration": 0,
    "start_time": "2023-07-26T18:44:08.095Z"
   },
   {
    "duration": 0,
    "start_time": "2023-07-26T18:44:08.097Z"
   },
   {
    "duration": 0,
    "start_time": "2023-07-26T18:44:08.098Z"
   },
   {
    "duration": 0,
    "start_time": "2023-07-26T18:44:08.100Z"
   },
   {
    "duration": 0,
    "start_time": "2023-07-26T18:44:08.102Z"
   },
   {
    "duration": 0,
    "start_time": "2023-07-26T18:44:08.103Z"
   },
   {
    "duration": 0,
    "start_time": "2023-07-26T18:44:08.104Z"
   },
   {
    "duration": 0,
    "start_time": "2023-07-26T18:44:08.106Z"
   },
   {
    "duration": 0,
    "start_time": "2023-07-26T18:44:08.107Z"
   },
   {
    "duration": 0,
    "start_time": "2023-07-26T18:44:08.109Z"
   },
   {
    "duration": 0,
    "start_time": "2023-07-26T18:44:08.110Z"
   },
   {
    "duration": 0,
    "start_time": "2023-07-26T18:44:08.112Z"
   },
   {
    "duration": 0,
    "start_time": "2023-07-26T18:44:08.113Z"
   },
   {
    "duration": 0,
    "start_time": "2023-07-26T18:44:08.114Z"
   },
   {
    "duration": 0,
    "start_time": "2023-07-26T18:44:08.116Z"
   },
   {
    "duration": 0,
    "start_time": "2023-07-26T18:44:08.117Z"
   },
   {
    "duration": 0,
    "start_time": "2023-07-26T18:44:08.118Z"
   },
   {
    "duration": 25798,
    "start_time": "2023-07-26T18:49:43.794Z"
   },
   {
    "duration": 11,
    "start_time": "2023-07-26T18:50:15.104Z"
   },
   {
    "duration": 3,
    "start_time": "2023-07-26T18:50:25.130Z"
   },
   {
    "duration": 57,
    "start_time": "2023-07-27T17:55:40.517Z"
   },
   {
    "duration": 2,
    "start_time": "2023-07-27T17:55:49.400Z"
   },
   {
    "duration": 10520,
    "start_time": "2023-07-27T17:55:49.405Z"
   },
   {
    "duration": 2311,
    "start_time": "2023-07-27T17:55:59.927Z"
   },
   {
    "duration": 4724,
    "start_time": "2023-07-27T17:56:02.241Z"
   },
   {
    "duration": 11,
    "start_time": "2023-07-27T17:56:06.969Z"
   },
   {
    "duration": 95,
    "start_time": "2023-07-27T17:56:06.981Z"
   },
   {
    "duration": 95,
    "start_time": "2023-07-27T17:56:07.083Z"
   },
   {
    "duration": 55,
    "start_time": "2023-07-27T17:56:07.181Z"
   },
   {
    "duration": 97,
    "start_time": "2023-07-27T17:56:07.239Z"
   },
   {
    "duration": 76,
    "start_time": "2023-07-27T17:56:07.339Z"
   },
   {
    "duration": 86,
    "start_time": "2023-07-27T17:56:07.417Z"
   },
   {
    "duration": 126,
    "start_time": "2023-07-27T17:56:07.506Z"
   },
   {
    "duration": 560,
    "start_time": "2023-07-27T17:56:07.633Z"
   },
   {
    "duration": 219,
    "start_time": "2023-07-27T17:56:08.195Z"
   },
   {
    "duration": 5,
    "start_time": "2023-07-27T17:56:08.416Z"
   },
   {
    "duration": 1011,
    "start_time": "2023-07-27T17:56:08.424Z"
   },
   {
    "duration": 882,
    "start_time": "2023-07-27T17:56:41.909Z"
   },
   {
    "duration": 3,
    "start_time": "2023-07-27T18:20:05.946Z"
   },
   {
    "duration": 8233,
    "start_time": "2023-07-27T18:20:05.958Z"
   },
   {
    "duration": 4,
    "start_time": "2023-07-27T18:20:14.193Z"
   },
   {
    "duration": 992,
    "start_time": "2023-07-27T18:20:14.198Z"
   },
   {
    "duration": 4,
    "start_time": "2023-07-27T18:20:15.193Z"
   },
   {
    "duration": 67,
    "start_time": "2023-07-27T18:20:15.200Z"
   },
   {
    "duration": 65,
    "start_time": "2023-07-27T18:20:15.270Z"
   },
   {
    "duration": 119,
    "start_time": "2023-07-27T18:20:15.337Z"
   },
   {
    "duration": 49,
    "start_time": "2023-07-27T18:20:15.458Z"
   },
   {
    "duration": 70,
    "start_time": "2023-07-27T18:20:15.509Z"
   },
   {
    "duration": 51,
    "start_time": "2023-07-27T18:20:15.581Z"
   },
   {
    "duration": 148,
    "start_time": "2023-07-27T18:20:15.633Z"
   },
   {
    "duration": 459,
    "start_time": "2023-07-27T18:20:15.784Z"
   },
   {
    "duration": 192,
    "start_time": "2023-07-27T18:20:16.245Z"
   },
   {
    "duration": 4,
    "start_time": "2023-07-27T18:20:16.439Z"
   },
   {
    "duration": 692,
    "start_time": "2023-07-27T18:20:16.457Z"
   },
   {
    "duration": 1743,
    "start_time": "2023-07-27T18:20:29.014Z"
   },
   {
    "duration": 1630,
    "start_time": "2023-07-27T18:20:34.993Z"
   },
   {
    "duration": 1596,
    "start_time": "2023-07-27T18:20:38.463Z"
   },
   {
    "duration": 61,
    "start_time": "2023-07-27T18:21:36.409Z"
   }
  ],
  "colab": {
   "provenance": []
  },
  "kernelspec": {
   "display_name": "Python 3 (ipykernel)",
   "language": "python",
   "name": "python3"
  },
  "language_info": {
   "codemirror_mode": {
    "name": "ipython",
    "version": 3
   },
   "file_extension": ".py",
   "mimetype": "text/x-python",
   "name": "python",
   "nbconvert_exporter": "python",
   "pygments_lexer": "ipython3",
   "version": "3.9.5"
  },
  "toc": {
   "base_numbering": 1,
   "nav_menu": {},
   "number_sections": true,
   "sideBar": true,
   "skip_h1_title": true,
   "title_cell": "Table of Contents",
   "title_sidebar": "Contents",
   "toc_cell": false,
   "toc_position": {},
   "toc_section_display": true,
   "toc_window_display": true
  }
 },
 "nbformat": 4,
 "nbformat_minor": 5
}
