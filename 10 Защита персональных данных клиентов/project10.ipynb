{
 "cells": [
  {
   "cell_type": "markdown",
   "id": "0859b293-c89a-46c1-ae2c-d5f30cfcaa22",
   "metadata": {},
   "source": [
    "# Проект - Защита персональных данных клиентов"
   ]
  },
  {
   "cell_type": "markdown",
   "id": "f017db96-5b02-475d-9faa-43d35c7aefa7",
   "metadata": {},
   "source": [
    "## Описание проекта\n",
    "Вам нужно защитить данные клиентов страховой компании «Хоть потоп». Разработайте такой метод преобразования данных, чтобы по ним было сложно восстановить персональную информацию. Обоснуйте корректность его работы.\n",
    "Нужно защитить данные, чтобы при преобразовании качество моделей машинного обучения не ухудшилось. Подбирать наилучшую модель не требуется."
   ]
  },
  {
   "cell_type": "code",
   "execution_count": 1,
   "id": "a3edc9b5-e31a-4772-bff3-fb9544456c85",
   "metadata": {},
   "outputs": [],
   "source": [
    "import pandas as pd\n",
    "import numpy as np\n",
    "from sklearn.metrics import r2_score\n",
    "from sklearn.linear_model import LinearRegression"
   ]
  },
  {
   "cell_type": "code",
   "execution_count": 2,
   "id": "0f353ad1-01be-4c88-b657-a92d87b02d8c",
   "metadata": {},
   "outputs": [
    {
     "name": "stdout",
     "output_type": "stream",
     "text": [
      "   Пол  Возраст  Зарплата  Члены семьи  Страховые выплаты\n",
      "0    1     41.0   49600.0            1                  0\n",
      "1    0     46.0   38000.0            1                  1\n",
      "2    0     29.0   21000.0            0                  0\n",
      "3    0     21.0   41700.0            2                  0\n",
      "4    1     28.0   26100.0            0                  0\n",
      "<class 'pandas.core.frame.DataFrame'>\n",
      "RangeIndex: 5000 entries, 0 to 4999\n",
      "Data columns (total 5 columns):\n",
      " #   Column             Non-Null Count  Dtype  \n",
      "---  ------             --------------  -----  \n",
      " 0   Пол                5000 non-null   int64  \n",
      " 1   Возраст            5000 non-null   float64\n",
      " 2   Зарплата           5000 non-null   float64\n",
      " 3   Члены семьи        5000 non-null   int64  \n",
      " 4   Страховые выплаты  5000 non-null   int64  \n",
      "dtypes: float64(2), int64(3)\n",
      "memory usage: 195.4 KB\n"
     ]
    },
    {
     "data": {
      "text/html": [
       "<div>\n",
       "<style scoped>\n",
       "    .dataframe tbody tr th:only-of-type {\n",
       "        vertical-align: middle;\n",
       "    }\n",
       "\n",
       "    .dataframe tbody tr th {\n",
       "        vertical-align: top;\n",
       "    }\n",
       "\n",
       "    .dataframe thead th {\n",
       "        text-align: right;\n",
       "    }\n",
       "</style>\n",
       "<table border=\"1\" class=\"dataframe\">\n",
       "  <thead>\n",
       "    <tr style=\"text-align: right;\">\n",
       "      <th></th>\n",
       "      <th>Пол</th>\n",
       "      <th>Возраст</th>\n",
       "      <th>Зарплата</th>\n",
       "      <th>Члены семьи</th>\n",
       "      <th>Страховые выплаты</th>\n",
       "    </tr>\n",
       "  </thead>\n",
       "  <tbody>\n",
       "    <tr>\n",
       "      <th>count</th>\n",
       "      <td>5000.000000</td>\n",
       "      <td>5000.000000</td>\n",
       "      <td>5000.000000</td>\n",
       "      <td>5000.000000</td>\n",
       "      <td>5000.000000</td>\n",
       "    </tr>\n",
       "    <tr>\n",
       "      <th>mean</th>\n",
       "      <td>0.499000</td>\n",
       "      <td>30.952800</td>\n",
       "      <td>39916.360000</td>\n",
       "      <td>1.194200</td>\n",
       "      <td>0.148000</td>\n",
       "    </tr>\n",
       "    <tr>\n",
       "      <th>std</th>\n",
       "      <td>0.500049</td>\n",
       "      <td>8.440807</td>\n",
       "      <td>9900.083569</td>\n",
       "      <td>1.091387</td>\n",
       "      <td>0.463183</td>\n",
       "    </tr>\n",
       "    <tr>\n",
       "      <th>min</th>\n",
       "      <td>0.000000</td>\n",
       "      <td>18.000000</td>\n",
       "      <td>5300.000000</td>\n",
       "      <td>0.000000</td>\n",
       "      <td>0.000000</td>\n",
       "    </tr>\n",
       "    <tr>\n",
       "      <th>25%</th>\n",
       "      <td>0.000000</td>\n",
       "      <td>24.000000</td>\n",
       "      <td>33300.000000</td>\n",
       "      <td>0.000000</td>\n",
       "      <td>0.000000</td>\n",
       "    </tr>\n",
       "    <tr>\n",
       "      <th>50%</th>\n",
       "      <td>0.000000</td>\n",
       "      <td>30.000000</td>\n",
       "      <td>40200.000000</td>\n",
       "      <td>1.000000</td>\n",
       "      <td>0.000000</td>\n",
       "    </tr>\n",
       "    <tr>\n",
       "      <th>75%</th>\n",
       "      <td>1.000000</td>\n",
       "      <td>37.000000</td>\n",
       "      <td>46600.000000</td>\n",
       "      <td>2.000000</td>\n",
       "      <td>0.000000</td>\n",
       "    </tr>\n",
       "    <tr>\n",
       "      <th>max</th>\n",
       "      <td>1.000000</td>\n",
       "      <td>65.000000</td>\n",
       "      <td>79000.000000</td>\n",
       "      <td>6.000000</td>\n",
       "      <td>5.000000</td>\n",
       "    </tr>\n",
       "  </tbody>\n",
       "</table>\n",
       "</div>"
      ],
      "text/plain": [
       "               Пол      Возраст      Зарплата  Члены семьи  Страховые выплаты\n",
       "count  5000.000000  5000.000000   5000.000000  5000.000000        5000.000000\n",
       "mean      0.499000    30.952800  39916.360000     1.194200           0.148000\n",
       "std       0.500049     8.440807   9900.083569     1.091387           0.463183\n",
       "min       0.000000    18.000000   5300.000000     0.000000           0.000000\n",
       "25%       0.000000    24.000000  33300.000000     0.000000           0.000000\n",
       "50%       0.000000    30.000000  40200.000000     1.000000           0.000000\n",
       "75%       1.000000    37.000000  46600.000000     2.000000           0.000000\n",
       "max       1.000000    65.000000  79000.000000     6.000000           5.000000"
      ]
     },
     "execution_count": 2,
     "metadata": {},
     "output_type": "execute_result"
    }
   ],
   "source": [
    "df = pd.read_csv('/datasets/insurance.csv')\n",
    "\n",
    "print(df.head())\n",
    "df.info()\n",
    "df.describe()"
   ]
  },
  {
   "cell_type": "code",
   "execution_count": 3,
   "id": "47d5b259-1b24-40b7-81a2-fc4cad9abd8a",
   "metadata": {},
   "outputs": [],
   "source": [
    "# Корректируем тип данных в столбцах, это может ускорить процесс их обработки\n",
    "df[['Возраст', 'Зарплата']] = df[['Возраст', 'Зарплата']].astype('int')\n",
    "\n"
   ]
  },
  {
   "cell_type": "markdown",
   "id": "3c3fbc34-c699-4dc6-b51b-1b574d1db2ab",
   "metadata": {},
   "source": [
    "> Данные не имеют аномалий, пропущенных значений. Приведены к одному типу для ускорения работы."
   ]
  },
  {
   "cell_type": "markdown",
   "id": "a60134c1-4e1a-4894-934a-693c2ad3935d",
   "metadata": {},
   "source": [
    "# Ответьте на вопрос и обоснуйте решение. \n",
    "     Признаки умножают на обратимую матрицу. Изменится ли качество линейной регрессии? (Её можно обучить заново.)\n",
    "     Ответ: Не изменится. "
   ]
  },
  {
   "cell_type": "code",
   "execution_count": 4,
   "id": "c8e5faff-1ef1-4fa6-b6aa-3647feda2bd8",
   "metadata": {},
   "outputs": [
    {
     "name": "stdout",
     "output_type": "stream",
     "text": [
      "[-9.38235447e-01  7.92580563e-03  3.57083050e-02 -1.70081903e-07\n",
      " -1.35676627e-02]\n"
     ]
    },
    {
     "data": {
      "text/plain": [
       "0.42494550308169177"
      ]
     },
     "execution_count": 4,
     "metadata": {},
     "output_type": "execute_result"
    }
   ],
   "source": [
    "# Построим модель линейной регрессии\n",
    "features = df.drop('Страховые выплаты', axis=1)\n",
    "target = df['Страховые выплаты']\n",
    "\n",
    "class LinearReg:\n",
    "    def fit(self, train_features, train_target):\n",
    "        X = np.concatenate((np.ones((train_features.shape[0], 1)), train_features), axis=1)\n",
    "        y = train_target\n",
    "        w = np.linalg.inv((X.T @ X)).dot(X.T).dot(y)\n",
    "        self.w = w[1:]\n",
    "        self.w0 = w[0]\n",
    "        print(w)\n",
    "        \n",
    "    def predict(self, test_features):\n",
    "        return test_features.dot(self.w) + self.w0\n",
    "\n",
    "model = LinearReg()\n",
    "model.fit(features, target)\n",
    "predictions = model.predict(features)\n",
    "r2_score(target, predictions)\n",
    "\n"
   ]
  },
  {
   "cell_type": "markdown",
   "id": "5d258301-1919-4694-ba03-c8fa2e79514a",
   "metadata": {},
   "source": [
    "## Укажите, как связаны параметры линейной регрессии в исходной задаче и в преобразованной."
   ]
  },
  {
   "cell_type": "code",
   "execution_count": 12,
   "id": "678ff6db-d256-4be8-a6ca-77c03268625a",
   "metadata": {},
   "outputs": [
    {
     "data": {
      "text/plain": [
       "'Единичная матрица:'"
      ]
     },
     "metadata": {},
     "output_type": "display_data"
    },
    {
     "data": {
      "text/plain": [
       "array([[1.00000000e+00, 1.92464671e-15, 7.29716029e-18, 1.08075546e-16],\n",
       "       [4.93730636e-17, 1.00000000e+00, 2.92732425e-17, 7.72592079e-19],\n",
       "       [5.86169492e-17, 3.08108515e-16, 1.00000000e+00, 2.01242669e-17],\n",
       "       [5.67703304e-16, 1.34518238e-15, 4.40309675e-18, 1.00000000e+00]])"
      ]
     },
     "metadata": {},
     "output_type": "display_data"
    },
    {
     "name": "stdout",
     "output_type": "stream",
     "text": [
      "[-0.9382372   0.15840625  0.42128275  0.17202907 -0.2532531 ]\n"
     ]
    },
    {
     "data": {
      "text/plain": [
       "0.42494550307804435"
      ]
     },
     "execution_count": 12,
     "metadata": {},
     "output_type": "execute_result"
    }
   ],
   "source": [
    "# Создадим случайную кваратную матрицу, размером количества столбцов в features\n",
    "random_matrix = np.random.normal(0, 1, (features.shape[1], features.shape[1]))\n",
    "\n",
    "# Проверим сгенерированную матрицу на обратимость \n",
    "display('Единичная матрица:', abs(random_matrix @ np.linalg.inv(random_matrix)))\n",
    "\n",
    "# Умножим признаки на обратимую матрицу \n",
    "encoded = features.dot(random_matrix)\n",
    "\n",
    "#Заново обучаем и смотрим R2\n",
    "model = LinearReg()\n",
    "model.fit(encoded, target)\n",
    "predictions = model.predict(encoded)\n",
    "r2_score(target, predictions)\n",
    "\n"
   ]
  },
  {
   "cell_type": "markdown",
   "id": "6439f623-6e81-4844-b39a-461534aa4987",
   "metadata": {},
   "source": [
    "> Качество не изменилось"
   ]
  },
  {
   "cell_type": "markdown",
   "id": "9e49c2b9-b0c9-4b25-baaa-c5b173b122a5",
   "metadata": {},
   "source": [
    "$w' = (X^T M^T XM)^-1  X^T M^T y$ \\\\ \n",
    "Предсказания: $ a = Wx$\n",
    "\n",
    "Преобразованная матрица признаков получается умножением исходной $Х$ на случайную обратимую матрицу($М$), формула принимает вид $a' = XMw'$\n",
    "\n",
    "Формула обучения в этом случае выглядит как $w' = ((XM)^T XM)^-1 (XM)^T y$\n",
    "\n",
    "Раскрывая скобки принимает вид: \n",
    "\n",
    "$w' = (M^T X^T XM)^-1 M^T X^T y = M^-1(M^T X^T X)^-1 M^T X^T y = M^-1(X^T X)^-1 (M^T)^-1 M^T X^Ty$\n",
    "\n",
    "В получившемся выражени $(M^T)^-1 M^T$ - единичная матрица, можно сократить:\n",
    "\n",
    "И получим $w' = M^-1(X^T X)^-1 X^T y$\n",
    "\n",
    "Исходная формула обучения $w = (X^T X)^-1 X^T y$\n",
    "\n",
    "То есть новые веса можно выразить через исходные\n",
    "$w' = M^-1 w$"
   ]
  },
  {
   "cell_type": "markdown",
   "id": "d981e9d5-0708-43ae-adec-d21103bb5e3f",
   "metadata": {},
   "source": [
    "Доказательство равенства предсказаний:\n",
    "\n",
    "Формула предсказания :\n",
    "$a = Xw$\n",
    "\n",
    "Получая новую матрицу, мы умножаем ее на случайную обратную:\n",
    "$a' = XMw'$\n",
    "\n",
    "Ранее мы вычислили значение $w'$, так что подставим в формулу:\n",
    "$a' = XM M^-1 w$\n",
    "\n",
    "$M * M^-1$ -  единичная матрица, значит сокращаем:\n",
    "\n",
    "$a' = Xw = a$"
   ]
  },
  {
   "cell_type": "markdown",
   "id": "258f940b-2834-4af1-92f3-ec7acdf41364",
   "metadata": {},
   "source": [
    "# Предложите алгоритм преобразования данных для решения задачи. "
   ]
  },
  {
   "cell_type": "code",
   "execution_count": 6,
   "id": "1291639c-d021-4e61-9ed4-e0c0ea8b2ccc",
   "metadata": {},
   "outputs": [],
   "source": [
    "def encode(features):\n",
    "    # Создадим случайную кваратную матрицу, размером количества столбцов в features\n",
    "    random_matrix = np.random.normal(0, 1, (features.shape[1], features.shape[1]))\n",
    "    # Проверим сгенерированную матрицу на обратимость \n",
    "    display('Единичная матрица:', random_matrix @ np.linalg.inv(random_matrix))\n",
    "    # Умножим признаки на обратимую матрицу \n",
    "    encoded = features.dot(random_matrix)\n",
    "    return encoded"
   ]
  },
  {
   "cell_type": "markdown",
   "id": "12c6fb91-71d1-428d-9c55-d27849ce8477",
   "metadata": {},
   "source": [
    "# Запрограммируйте этот алгоритм, применив матричные операции. \n",
    "\n",
    "Проверьте, что качество линейной регрессии из sklearn не отличается до и после преобразования. Примените метрику R2. "
   ]
  },
  {
   "cell_type": "code",
   "execution_count": 7,
   "id": "e74e8699-6fc9-4ee6-8f37-a6d4bf4828e3",
   "metadata": {},
   "outputs": [
    {
     "data": {
      "text/plain": [
       "0.42494550308169177"
      ]
     },
     "execution_count": 7,
     "metadata": {},
     "output_type": "execute_result"
    }
   ],
   "source": [
    "# Обучаем модель из sklearn на исходных данных\n",
    "sk_model = LinearRegression().fit(features, target)\n",
    "sk_predictions = sk_model.predict(features)\n",
    "r2_score(target, sk_predictions)\n"
   ]
  },
  {
   "cell_type": "code",
   "execution_count": 8,
   "id": "7147df7b-d999-45df-8680-d8ad82d9faf0",
   "metadata": {},
   "outputs": [
    {
     "data": {
      "text/plain": [
       "0.42494550308175716"
      ]
     },
     "execution_count": 8,
     "metadata": {},
     "output_type": "execute_result"
    }
   ],
   "source": [
    "# Обучаем модель из sklearn на кодированных данных\n",
    "sk_model.fit(encoded, target)\n",
    "pred = sk_model.predict(encoded)\n",
    "r2_score(target, pred)\n"
   ]
  },
  {
   "cell_type": "markdown",
   "id": "c26b13b9-bdb3-435d-bf44-53005f62b8c2",
   "metadata": {},
   "source": [
    "> Качество моделей для закодированных и иходных данных аналогично. Качество также аналогично рукописной модели линейной регресии"
   ]
  },
  {
   "cell_type": "markdown",
   "id": "2c11943f-616e-486a-92d0-d8339ac88a53",
   "metadata": {},
   "source": [
    "# Общий вывод"
   ]
  },
  {
   "cell_type": "markdown",
   "id": "3662a07b-ee84-4ebc-a7bc-7f1aef81eaa9",
   "metadata": {},
   "source": [
    "* Защита данных не ухудшила показатель качества модели.\n",
    "* Рукописная модель не уступает в качестве таковой из пакета sklearn"
   ]
  }
 ],
 "metadata": {
  "ExecuteTimeLog": [
   {
    "duration": 2510,
    "start_time": "2023-07-03T18:32:06.344Z"
   },
   {
    "duration": 43,
    "start_time": "2023-07-03T18:32:08.856Z"
   },
   {
    "duration": 23,
    "start_time": "2023-07-03T18:32:08.902Z"
   },
   {
    "duration": 89,
    "start_time": "2023-07-03T18:32:08.928Z"
   },
   {
    "duration": 444,
    "start_time": "2023-07-03T18:32:09.019Z"
   },
   {
    "duration": 0,
    "start_time": "2023-07-03T18:32:09.465Z"
   },
   {
    "duration": 0,
    "start_time": "2023-07-03T18:32:09.466Z"
   },
   {
    "duration": 0,
    "start_time": "2023-07-03T18:32:09.467Z"
   },
   {
    "duration": 2091,
    "start_time": "2023-07-03T18:32:20.450Z"
   },
   {
    "duration": 43,
    "start_time": "2023-07-03T18:32:22.547Z"
   },
   {
    "duration": 21,
    "start_time": "2023-07-03T18:32:22.592Z"
   },
   {
    "duration": 90,
    "start_time": "2023-07-03T18:32:22.621Z"
   },
   {
    "duration": 148,
    "start_time": "2023-07-03T18:32:22.713Z"
   },
   {
    "duration": 97,
    "start_time": "2023-07-03T18:32:22.908Z"
   },
   {
    "duration": 58,
    "start_time": "2023-07-03T18:32:23.007Z"
   },
   {
    "duration": 58,
    "start_time": "2023-07-03T18:32:23.072Z"
   },
   {
    "duration": 2317,
    "start_time": "2023-07-03T18:33:02.542Z"
   },
   {
    "duration": 52,
    "start_time": "2023-07-03T18:33:04.861Z"
   },
   {
    "duration": 18,
    "start_time": "2023-07-03T18:33:04.922Z"
   },
   {
    "duration": 89,
    "start_time": "2023-07-03T18:33:04.946Z"
   },
   {
    "duration": 112,
    "start_time": "2023-07-03T18:33:05.042Z"
   },
   {
    "duration": 54,
    "start_time": "2023-07-03T18:33:05.156Z"
   },
   {
    "duration": 155,
    "start_time": "2023-07-03T18:33:05.213Z"
   },
   {
    "duration": 180,
    "start_time": "2023-07-03T18:33:05.370Z"
   },
   {
    "duration": 1914,
    "start_time": "2023-07-04T06:37:06.299Z"
   },
   {
    "duration": 132,
    "start_time": "2023-07-04T06:37:08.216Z"
   },
   {
    "duration": 5,
    "start_time": "2023-07-04T06:37:08.350Z"
   },
   {
    "duration": 61,
    "start_time": "2023-07-04T06:37:08.356Z"
   },
   {
    "duration": 102,
    "start_time": "2023-07-04T06:37:08.419Z"
   },
   {
    "duration": 4,
    "start_time": "2023-07-04T06:37:08.523Z"
   },
   {
    "duration": 102,
    "start_time": "2023-07-04T06:37:08.615Z"
   },
   {
    "duration": 98,
    "start_time": "2023-07-04T06:37:08.719Z"
   },
   {
    "duration": 10,
    "start_time": "2023-07-04T06:37:53.039Z"
   },
   {
    "duration": 9,
    "start_time": "2023-07-04T06:58:57.443Z"
   },
   {
    "duration": 28,
    "start_time": "2023-07-04T06:59:02.695Z"
   },
   {
    "duration": 10,
    "start_time": "2023-07-04T06:59:05.091Z"
   },
   {
    "duration": 2272,
    "start_time": "2023-07-04T07:02:21.212Z"
   },
   {
    "duration": 80,
    "start_time": "2023-07-04T07:02:23.486Z"
   },
   {
    "duration": 7,
    "start_time": "2023-07-04T07:02:23.568Z"
   },
   {
    "duration": 47,
    "start_time": "2023-07-04T07:02:23.578Z"
   },
   {
    "duration": 114,
    "start_time": "2023-07-04T07:02:23.712Z"
   },
   {
    "duration": 87,
    "start_time": "2023-07-04T07:02:23.828Z"
   },
   {
    "duration": 106,
    "start_time": "2023-07-04T07:02:23.917Z"
   },
   {
    "duration": 189,
    "start_time": "2023-07-04T07:02:24.027Z"
   },
   {
    "duration": 1184,
    "start_time": "2023-07-04T07:35:40.527Z"
   },
   {
    "duration": 137,
    "start_time": "2023-07-04T07:35:41.712Z"
   },
   {
    "duration": 7,
    "start_time": "2023-07-04T07:35:41.850Z"
   },
   {
    "duration": 23,
    "start_time": "2023-07-04T07:35:41.859Z"
   },
   {
    "duration": 106,
    "start_time": "2023-07-04T07:35:41.960Z"
   },
   {
    "duration": 5,
    "start_time": "2023-07-04T07:35:42.068Z"
   },
   {
    "duration": 106,
    "start_time": "2023-07-04T07:35:42.161Z"
   },
   {
    "duration": 100,
    "start_time": "2023-07-04T07:35:42.269Z"
   },
   {
    "duration": 67,
    "start_time": "2023-07-04T07:36:53.998Z"
   },
   {
    "duration": 18,
    "start_time": "2023-07-04T07:37:01.781Z"
   },
   {
    "duration": 14,
    "start_time": "2023-07-04T07:37:11.092Z"
   },
   {
    "duration": 15,
    "start_time": "2023-07-04T07:37:18.292Z"
   }
  ],
  "kernelspec": {
   "display_name": "Python 3 (ipykernel)",
   "language": "python",
   "name": "python3"
  },
  "language_info": {
   "codemirror_mode": {
    "name": "ipython",
    "version": 3
   },
   "file_extension": ".py",
   "mimetype": "text/x-python",
   "name": "python",
   "nbconvert_exporter": "python",
   "pygments_lexer": "ipython3",
   "version": "3.9.5"
  },
  "toc": {
   "base_numbering": 1,
   "nav_menu": {},
   "number_sections": true,
   "sideBar": true,
   "skip_h1_title": true,
   "title_cell": "Table of Contents",
   "title_sidebar": "Contents",
   "toc_cell": false,
   "toc_position": {},
   "toc_section_display": true,
   "toc_window_display": false
  }
 },
 "nbformat": 4,
 "nbformat_minor": 5
}
