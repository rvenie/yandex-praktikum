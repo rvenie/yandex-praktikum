{
 "cells": [
  {
   "cell_type": "markdown",
   "id": "4f11de00",
   "metadata": {
    "deletable": false,
    "editable": false,
    "id": "4f11de00"
   },
   "source": [
    "# Исследование надежности заемщиков"
   ]
  },
  {
   "cell_type": "markdown",
   "id": "f09d6878",
   "metadata": {
    "deletable": false,
    "editable": false,
    "id": "f09d6878"
   },
   "source": [
    "Это первая часть проекта, она будет проверена автоматически. Вторую часть проверит ревьюер. "
   ]
  },
  {
   "cell_type": "markdown",
   "id": "516620ee",
   "metadata": {
    "deletable": false,
    "editable": false,
    "id": "516620ee"
   },
   "source": [
    "## Откройте таблицу и изучите общую информацию о данных"
   ]
  },
  {
   "cell_type": "markdown",
   "id": "76a8a9ce",
   "metadata": {
    "deletable": false,
    "editable": false,
    "id": "76a8a9ce",
    "tags": [
     "start_task"
    ]
   },
   "source": [
    "**Задание 1. Импортируйте библиотеку pandas. Считайте данные из csv-файла в датафрейм и сохраните в переменную `data`. Путь к файлу:**\n",
    "\n",
    "`/datasets/data.csv`"
   ]
  },
  {
   "cell_type": "code",
   "execution_count": 346,
   "id": "fab207d0",
   "metadata": {
    "id": "fab207d0"
   },
   "outputs": [],
   "source": [
    "import pandas as pd# импортируйте библиотеку pandas"
   ]
  },
  {
   "cell_type": "code",
   "execution_count": 347,
   "id": "6c82b607",
   "metadata": {
    "id": "6c82b607"
   },
   "outputs": [],
   "source": [
    "data = pd.read_csv('/datasets/data.csv')# прочитайте csv-файл"
   ]
  },
  {
   "cell_type": "markdown",
   "id": "08bbb5b3",
   "metadata": {
    "deletable": false,
    "editable": false,
    "id": "08bbb5b3",
    "tags": [
     "start_task"
    ]
   },
   "source": [
    "**Задание 2. Выведите первые 20 строчек датафрейма `data` на экран.**"
   ]
  },
  {
   "cell_type": "code",
   "execution_count": 348,
   "id": "4ff33b36",
   "metadata": {
    "id": "4ff33b36"
   },
   "outputs": [
    {
     "name": "stdout",
     "output_type": "stream",
     "text": [
      "    children  days_employed  dob_years            education  education_id  \\\n",
      "0          1   -8437.673028         42               высшее             0   \n",
      "1          1   -4024.803754         36              среднее             1   \n",
      "2          0   -5623.422610         33              Среднее             1   \n",
      "3          3   -4124.747207         32              среднее             1   \n",
      "4          0  340266.072047         53              среднее             1   \n",
      "5          0    -926.185831         27               высшее             0   \n",
      "6          0   -2879.202052         43               высшее             0   \n",
      "7          0    -152.779569         50              СРЕДНЕЕ             1   \n",
      "8          2   -6929.865299         35               ВЫСШЕЕ             0   \n",
      "9          0   -2188.756445         41              среднее             1   \n",
      "10         2   -4171.483647         36               высшее             0   \n",
      "11         0    -792.701887         40              среднее             1   \n",
      "12         0            NaN         65              среднее             1   \n",
      "13         0   -1846.641941         54  неоконченное высшее             2   \n",
      "14         0   -1844.956182         56               высшее             0   \n",
      "15         1    -972.364419         26              среднее             1   \n",
      "16         0   -1719.934226         35              среднее             1   \n",
      "17         0   -2369.999720         33               высшее             0   \n",
      "18         0  400281.136913         53              среднее             1   \n",
      "19         0  -10038.818549         48              СРЕДНЕЕ             1   \n",
      "\n",
      "       family_status  family_status_id gender income_type  debt  \\\n",
      "0    женат / замужем                 0      F   сотрудник     0   \n",
      "1    женат / замужем                 0      F   сотрудник     0   \n",
      "2    женат / замужем                 0      M   сотрудник     0   \n",
      "3    женат / замужем                 0      M   сотрудник     0   \n",
      "4   гражданский брак                 1      F   пенсионер     0   \n",
      "5   гражданский брак                 1      M   компаньон     0   \n",
      "6    женат / замужем                 0      F   компаньон     0   \n",
      "7    женат / замужем                 0      M   сотрудник     0   \n",
      "8   гражданский брак                 1      F   сотрудник     0   \n",
      "9    женат / замужем                 0      M   сотрудник     0   \n",
      "10   женат / замужем                 0      M   компаньон     0   \n",
      "11   женат / замужем                 0      F   сотрудник     0   \n",
      "12  гражданский брак                 1      M   пенсионер     0   \n",
      "13   женат / замужем                 0      F   сотрудник     0   \n",
      "14  гражданский брак                 1      F   компаньон     1   \n",
      "15   женат / замужем                 0      F   сотрудник     0   \n",
      "16   женат / замужем                 0      F   сотрудник     0   \n",
      "17  гражданский брак                 1      M   сотрудник     0   \n",
      "18    вдовец / вдова                 2      F   пенсионер     0   \n",
      "19         в разводе                 3      F   сотрудник     0   \n",
      "\n",
      "     total_income                                 purpose  \n",
      "0   253875.639453                           покупка жилья  \n",
      "1   112080.014102                 приобретение автомобиля  \n",
      "2   145885.952297                           покупка жилья  \n",
      "3   267628.550329              дополнительное образование  \n",
      "4   158616.077870                         сыграть свадьбу  \n",
      "5   255763.565419                           покупка жилья  \n",
      "6   240525.971920                       операции с жильем  \n",
      "7   135823.934197                             образование  \n",
      "8    95856.832424                   на проведение свадьбы  \n",
      "9   144425.938277                 покупка жилья для семьи  \n",
      "10  113943.491460                    покупка недвижимости  \n",
      "11   77069.234271       покупка коммерческой недвижимости  \n",
      "12            NaN                         сыграть свадьбу  \n",
      "13  130458.228857                 приобретение автомобиля  \n",
      "14  165127.911772              покупка жилой недвижимости  \n",
      "15  116820.904450  строительство собственной недвижимости  \n",
      "16  289202.704229                            недвижимость  \n",
      "17   90410.586745              строительство недвижимости  \n",
      "18   56823.777243      на покупку подержанного автомобиля  \n",
      "19  242831.107982            на покупку своего автомобиля  \n"
     ]
    }
   ],
   "source": [
    "print(data.head(20))# ваш код здесь"
   ]
  },
  {
   "cell_type": "markdown",
   "id": "c8f382ae",
   "metadata": {
    "deletable": false,
    "editable": false,
    "id": "c8f382ae",
    "tags": [
     "start_task"
    ]
   },
   "source": [
    "**Задание 3. Выведите основную информацию о датафрейме с помощью метода `info()`.**"
   ]
  },
  {
   "cell_type": "code",
   "execution_count": 349,
   "id": "e1ed9908",
   "metadata": {
    "id": "e1ed9908"
   },
   "outputs": [
    {
     "name": "stdout",
     "output_type": "stream",
     "text": [
      "<class 'pandas.core.frame.DataFrame'>\n",
      "RangeIndex: 21525 entries, 0 to 21524\n",
      "Data columns (total 12 columns):\n",
      " #   Column            Non-Null Count  Dtype  \n",
      "---  ------            --------------  -----  \n",
      " 0   children          21525 non-null  int64  \n",
      " 1   days_employed     19351 non-null  float64\n",
      " 2   dob_years         21525 non-null  int64  \n",
      " 3   education         21525 non-null  object \n",
      " 4   education_id      21525 non-null  int64  \n",
      " 5   family_status     21525 non-null  object \n",
      " 6   family_status_id  21525 non-null  int64  \n",
      " 7   gender            21525 non-null  object \n",
      " 8   income_type       21525 non-null  object \n",
      " 9   debt              21525 non-null  int64  \n",
      " 10  total_income      19351 non-null  float64\n",
      " 11  purpose           21525 non-null  object \n",
      "dtypes: float64(2), int64(5), object(5)\n",
      "memory usage: 2.0+ MB\n"
     ]
    }
   ],
   "source": [
    "data.info()# ваш код здесь"
   ]
  },
  {
   "cell_type": "markdown",
   "id": "f969a1cd",
   "metadata": {
    "deletable": false,
    "editable": false,
    "id": "f969a1cd"
   },
   "source": [
    "## Предобработка данных"
   ]
  },
  {
   "cell_type": "markdown",
   "id": "7283e864",
   "metadata": {
    "deletable": false,
    "editable": false,
    "id": "7283e864"
   },
   "source": [
    "### Удаление пропусков"
   ]
  },
  {
   "cell_type": "markdown",
   "id": "c9a0745e",
   "metadata": {
    "deletable": false,
    "editable": false,
    "id": "c9a0745e",
    "tags": [
     "start_task"
    ]
   },
   "source": [
    "**Задание 4. Выведите количество пропущенных значений для каждого столбца. Используйте комбинацию двух методов.**"
   ]
  },
  {
   "cell_type": "code",
   "execution_count": 350,
   "id": "b7a096e1",
   "metadata": {
    "id": "b7a096e1"
   },
   "outputs": [
    {
     "data": {
      "text/plain": [
       "children               0\n",
       "days_employed       2174\n",
       "dob_years              0\n",
       "education              0\n",
       "education_id           0\n",
       "family_status          0\n",
       "family_status_id       0\n",
       "gender                 0\n",
       "income_type            0\n",
       "debt                   0\n",
       "total_income        2174\n",
       "purpose                0\n",
       "dtype: int64"
      ]
     },
     "execution_count": 350,
     "metadata": {},
     "output_type": "execute_result"
    }
   ],
   "source": [
    "data.isna().sum()# ваш код здесь"
   ]
  },
  {
   "cell_type": "markdown",
   "id": "c2578616",
   "metadata": {
    "deletable": false,
    "editable": false,
    "id": "c2578616",
    "tags": [
     "start_task"
    ]
   },
   "source": [
    "**Задание 5. В двух столбцах есть пропущенные значения. Один из них — `days_employed`. Пропуски в этом столбце вы обработаете на следующем этапе. Другой столбец с пропущенными значениями — `total_income` — хранит данные о доходах. На сумму дохода сильнее всего влияет тип занятости, поэтому заполнить пропуски в этом столбце нужно медианным значением по каждому типу из столбца `income_type`. Например, у человека с типом занятости `сотрудник` пропуск в столбце `total_income` должен быть заполнен медианным доходом среди всех записей с тем же типом.**"
   ]
  },
  {
   "cell_type": "code",
   "execution_count": 351,
   "id": "e8afc4bc",
   "metadata": {
    "id": "e8afc4bc",
    "scrolled": false
   },
   "outputs": [],
   "source": [
    "data['total_income'] = data['total_income'].fillna(data.groupby('income_type')['total_income'].transform('median'))"
   ]
  },
  {
   "cell_type": "code",
   "execution_count": null,
   "id": "fc19441c",
   "metadata": {},
   "outputs": [],
   "source": []
  },
  {
   "cell_type": "markdown",
   "id": "ae986d46",
   "metadata": {
    "deletable": false,
    "editable": false,
    "id": "ae986d46"
   },
   "source": [
    "### Обработка аномальных значений"
   ]
  },
  {
   "cell_type": "markdown",
   "id": "b049cbae",
   "metadata": {
    "deletable": false,
    "editable": false,
    "id": "b049cbae",
    "tags": [
     "start_task"
    ]
   },
   "source": [
    "**Задание 6. В данных могут встречаться артефакты (аномалии) — значения, которые не отражают действительность и появились по какой-то ошибке. Таким артефактом будет отрицательное количество дней трудового стажа в столбце `days_employed`. Для реальных данных это нормально. Обработайте значения в этом столбце: замените все отрицательные значения положительными с помощью метода `abs()`.**"
   ]
  },
  {
   "cell_type": "code",
   "execution_count": 352,
   "id": "187779b0",
   "metadata": {
    "id": "187779b0"
   },
   "outputs": [],
   "source": [
    "data['days_employed'] = data['days_employed'].abs()"
   ]
  },
  {
   "cell_type": "code",
   "execution_count": null,
   "id": "e23b8dba",
   "metadata": {},
   "outputs": [],
   "source": []
  },
  {
   "cell_type": "markdown",
   "id": "a13054c2",
   "metadata": {
    "deletable": false,
    "editable": false,
    "id": "a13054c2",
    "tags": [
     "start_task"
    ]
   },
   "source": [
    "**Задание 7. Для каждого типа занятости выведите медианное значение трудового стажа `days_employed` в днях.**"
   ]
  },
  {
   "cell_type": "code",
   "execution_count": 353,
   "id": "f3f5810c",
   "metadata": {
    "id": "f3f5810c"
   },
   "outputs": [
    {
     "name": "stdout",
     "output_type": "stream",
     "text": [
      "income_type\n",
      "безработный        366413.652744\n",
      "в декрете            3296.759962\n",
      "госслужащий          2689.368353\n",
      "компаньон            1547.382223\n",
      "пенсионер          365213.306266\n",
      "предприниматель       520.848083\n",
      "сотрудник            1574.202821\n",
      "студент               578.751554\n",
      "Name: days_employed, dtype: float64\n"
     ]
    }
   ],
   "source": [
    "print(data.groupby('income_type')['days_employed'].median())"
   ]
  },
  {
   "cell_type": "markdown",
   "id": "dbc3168c",
   "metadata": {
    "deletable": false,
    "editable": false,
    "id": "dbc3168c"
   },
   "source": [
    "У двух типов (безработные и пенсионеры) получатся аномально большие значения. Исправить такие значения сложно, поэтому оставьте их как есть."
   ]
  },
  {
   "cell_type": "markdown",
   "id": "ff4378c2",
   "metadata": {
    "deletable": false,
    "editable": false,
    "id": "ff4378c2",
    "tags": [
     "start_task"
    ]
   },
   "source": [
    "**Задание 8. Выведите перечень уникальных значений столбца `children`.**"
   ]
  },
  {
   "cell_type": "code",
   "execution_count": 354,
   "id": "9bd0c232",
   "metadata": {
    "id": "9bd0c232"
   },
   "outputs": [
    {
     "name": "stdout",
     "output_type": "stream",
     "text": [
      "[ 1  0  3  2 -1  4 20  5]\n"
     ]
    }
   ],
   "source": [
    "print(data['children'].unique())"
   ]
  },
  {
   "cell_type": "markdown",
   "id": "8e911990",
   "metadata": {
    "deletable": false,
    "editable": false,
    "id": "8e911990",
    "tags": [
     "start_task"
    ]
   },
   "source": [
    "**Задание 9. В столбце `children` есть два аномальных значения. Удалите строки, в которых встречаются такие аномальные значения из датафрейма `data`.**"
   ]
  },
  {
   "cell_type": "code",
   "execution_count": 355,
   "id": "6d5ba289",
   "metadata": {
    "id": "6d5ba289"
   },
   "outputs": [],
   "source": [
    "data = data[(data['children'] >= 0) & (data['children'] <= 5)]\n"
   ]
  },
  {
   "cell_type": "markdown",
   "id": "18d77455",
   "metadata": {
    "deletable": false,
    "editable": false,
    "id": "18d77455",
    "tags": [
     "start_task"
    ]
   },
   "source": [
    "**Задание 10. Ещё раз выведите перечень уникальных значений столбца `children`, чтобы убедиться, что артефакты удалены.**"
   ]
  },
  {
   "cell_type": "code",
   "execution_count": 356,
   "id": "2c5fa92c",
   "metadata": {
    "id": "2c5fa92c"
   },
   "outputs": [
    {
     "name": "stdout",
     "output_type": "stream",
     "text": [
      "[1 0 3 2 4 5]\n"
     ]
    }
   ],
   "source": [
    "print(data['children'].unique())# ваш код здесь"
   ]
  },
  {
   "cell_type": "markdown",
   "id": "0ec07dee",
   "metadata": {
    "deletable": false,
    "editable": false,
    "id": "0ec07dee"
   },
   "source": [
    "### Удаление пропусков (продолжение)"
   ]
  },
  {
   "cell_type": "markdown",
   "id": "0fc3ae3f",
   "metadata": {
    "deletable": false,
    "editable": false,
    "id": "0fc3ae3f",
    "tags": [
     "start_task"
    ]
   },
   "source": [
    "**Задание 11. Заполните пропуски в столбце `days_employed` медианными значениями по каждому типу занятости `income_type`.**"
   ]
  },
  {
   "cell_type": "code",
   "execution_count": 357,
   "id": "e2aea7ac",
   "metadata": {
    "id": "e2aea7ac"
   },
   "outputs": [],
   "source": [
    "data['days_employed'] = data['days_employed'].fillna(data.groupby('income_type')['days_employed'].transform('median'))\n"
   ]
  },
  {
   "cell_type": "markdown",
   "id": "97b0b795",
   "metadata": {
    "deletable": false,
    "editable": false,
    "id": "97b0b795",
    "tags": [
     "start_task"
    ]
   },
   "source": [
    "**Задание 12. Убедитесь, что все пропуски заполнены. Проверьте себя и ещё раз выведите количество пропущенных значений для каждого столбца с помощью двух методов.**"
   ]
  },
  {
   "cell_type": "code",
   "execution_count": 358,
   "id": "79632a21",
   "metadata": {
    "id": "79632a21"
   },
   "outputs": [
    {
     "data": {
      "text/plain": [
       "children            0\n",
       "days_employed       0\n",
       "dob_years           0\n",
       "education           0\n",
       "education_id        0\n",
       "family_status       0\n",
       "family_status_id    0\n",
       "gender              0\n",
       "income_type         0\n",
       "debt                0\n",
       "total_income        0\n",
       "purpose             0\n",
       "dtype: int64"
      ]
     },
     "execution_count": 358,
     "metadata": {},
     "output_type": "execute_result"
    }
   ],
   "source": [
    "data.isna().sum()# ваш код здесь"
   ]
  },
  {
   "cell_type": "markdown",
   "id": "bd4aeb20",
   "metadata": {
    "deletable": false,
    "editable": false,
    "id": "bd4aeb20"
   },
   "source": [
    "### Изменение типов данных"
   ]
  },
  {
   "cell_type": "markdown",
   "id": "963bfa58",
   "metadata": {
    "deletable": false,
    "editable": false,
    "id": "963bfa58",
    "tags": [
     "start_task"
    ]
   },
   "source": [
    "**Задание 13. Замените вещественный тип данных в столбце `total_income` на целочисленный с помощью метода `astype()`.**"
   ]
  },
  {
   "cell_type": "code",
   "execution_count": 359,
   "id": "73da6ea0",
   "metadata": {
    "id": "73da6ea0"
   },
   "outputs": [],
   "source": [
    "data['total_income'] = data['total_income'].astype('int')"
   ]
  },
  {
   "cell_type": "markdown",
   "id": "d290239e",
   "metadata": {
    "deletable": false,
    "editable": false,
    "id": "d290239e"
   },
   "source": [
    "### Обработка дубликатов"
   ]
  },
  {
   "cell_type": "markdown",
   "id": "1b5844fd",
   "metadata": {
    "deletable": false,
    "editable": false,
    "id": "1b5844fd",
    "tags": [
     "start_task"
    ]
   },
   "source": [
    "**Задание 14. Обработайте неявные дубликаты в столбце `education`. В этом столбце есть одни и те же значения, но записанные по-разному: с использованием заглавных и строчных букв. Приведите их к нижнему регистру.**"
   ]
  },
  {
   "cell_type": "code",
   "execution_count": 360,
   "id": "3f2504b3",
   "metadata": {
    "id": "3f2504b3"
   },
   "outputs": [],
   "source": [
    "data['education'] = data['education'].str.lower()"
   ]
  },
  {
   "cell_type": "markdown",
   "id": "4c22acbc",
   "metadata": {
    "deletable": false,
    "editable": false,
    "id": "4c22acbc",
    "tags": [
     "start_task"
    ]
   },
   "source": [
    "**Задание 15. Выведите на экран количество строк-дубликатов в данных. Если такие строки присутствуют, удалите их.**"
   ]
  },
  {
   "cell_type": "code",
   "execution_count": 361,
   "id": "d34a4325",
   "metadata": {
    "id": "d34a4325"
   },
   "outputs": [
    {
     "name": "stdout",
     "output_type": "stream",
     "text": [
      "71\n"
     ]
    }
   ],
   "source": [
    "print(data.duplicated().sum())# посчитайте дубликаты"
   ]
  },
  {
   "cell_type": "code",
   "execution_count": 362,
   "id": "6e1a6499",
   "metadata": {
    "id": "6e1a6499"
   },
   "outputs": [],
   "source": [
    "data = data.drop_duplicates()"
   ]
  },
  {
   "cell_type": "markdown",
   "id": "e5686ccc",
   "metadata": {
    "deletable": false,
    "editable": false,
    "id": "e5686ccc"
   },
   "source": [
    "### Категоризация данных"
   ]
  },
  {
   "cell_type": "markdown",
   "id": "636e9acd",
   "metadata": {
    "deletable": false,
    "editable": false,
    "id": "636e9acd",
    "tags": [
     "start_task"
    ]
   },
   "source": [
    "**Задание 16. На основании диапазонов, указанных ниже, создайте в датафрейме `data` столбец `total_income_category` с категориями:**\n",
    "\n",
    "- 0–30000 — `'E'`;\n",
    "- 30001–50000 — `'D'`;\n",
    "- 50001–200000 — `'C'`;\n",
    "- 200001–1000000 — `'B'`;\n",
    "- 1000001 и выше — `'A'`.\n",
    "\n",
    "\n",
    "**Например, кредитополучателю с доходом 25000 нужно назначить категорию `'E'`, а клиенту, получающему 235000, — `'B'`. Используйте собственную функцию с именем `categorize_income()` и метод `apply()`.**"
   ]
  },
  {
   "cell_type": "code",
   "execution_count": 363,
   "id": "880a77e5",
   "metadata": {
    "id": "880a77e5"
   },
   "outputs": [],
   "source": [
    "def categorize_income(data):\n",
    "    if data['total_income'] <= 30000:\n",
    "        return 'E';\n",
    "    elif data['total_income'] <= 50000:\n",
    "        return 'D';\n",
    "    elif data['total_income'] <= 200000:\n",
    "        return 'C';\n",
    "    elif data['total_income'] <= 1000000:\n",
    "        return 'B';\n",
    "    else:\n",
    "        return 'A';"
   ]
  },
  {
   "cell_type": "code",
   "execution_count": 364,
   "id": "6f25f161",
   "metadata": {
    "id": "6f25f161"
   },
   "outputs": [],
   "source": [
    "data['total_income_category'] = data.apply(categorize_income, axis=1)# примените функцию методом apply()"
   ]
  },
  {
   "cell_type": "markdown",
   "id": "3363b685",
   "metadata": {
    "deletable": false,
    "editable": false,
    "id": "3363b685",
    "tags": [
     "start_task"
    ]
   },
   "source": [
    "**Задание 17. Выведите на экран перечень уникальных целей взятия кредита из столбца `purpose`.**"
   ]
  },
  {
   "cell_type": "code",
   "execution_count": 365,
   "id": "e59f2c15",
   "metadata": {
    "id": "e59f2c15"
   },
   "outputs": [
    {
     "name": "stdout",
     "output_type": "stream",
     "text": [
      "['покупка жилья' 'приобретение автомобиля' 'дополнительное образование'\n",
      " 'сыграть свадьбу' 'операции с жильем' 'образование'\n",
      " 'на проведение свадьбы' 'покупка жилья для семьи' 'покупка недвижимости'\n",
      " 'покупка коммерческой недвижимости' 'покупка жилой недвижимости'\n",
      " 'строительство собственной недвижимости' 'недвижимость'\n",
      " 'строительство недвижимости' 'на покупку подержанного автомобиля'\n",
      " 'на покупку своего автомобиля' 'операции с коммерческой недвижимостью'\n",
      " 'строительство жилой недвижимости' 'жилье'\n",
      " 'операции со своей недвижимостью' 'автомобили' 'заняться образованием'\n",
      " 'сделка с подержанным автомобилем' 'получение образования' 'автомобиль'\n",
      " 'свадьба' 'получение дополнительного образования' 'покупка своего жилья'\n",
      " 'операции с недвижимостью' 'получение высшего образования'\n",
      " 'свой автомобиль' 'сделка с автомобилем' 'профильное образование'\n",
      " 'высшее образование' 'покупка жилья для сдачи' 'на покупку автомобиля'\n",
      " 'ремонт жилью' 'заняться высшим образованием']\n"
     ]
    }
   ],
   "source": [
    "print(data['purpose'].unique())# ваш код здесь"
   ]
  },
  {
   "cell_type": "markdown",
   "id": "bb33e847",
   "metadata": {
    "deletable": false,
    "editable": false,
    "id": "bb33e847",
    "tags": [
     "start_task"
    ]
   },
   "source": [
    "**Задание 18. Создайте функцию, которая на основании данных из столбца `purpose` сформирует новый столбец `purpose_category`, в который войдут следующие категории:**\n",
    "\n",
    "- `'операции с автомобилем'`,\n",
    "- `'операции с недвижимостью'`,\n",
    "- `'проведение свадьбы'`,\n",
    "- `'получение образования'`.\n",
    "\n",
    "**Например, если в столбце `purpose` находится подстрока `'на покупку автомобиля'`, то в столбце `purpose_category` должна появиться строка `'операции с автомобилем'`.**\n",
    "\n",
    "**Используйте собственную функцию с именем `categorize_purpose()` и метод `apply()`. Изучите данные в столбце `purpose` и определите, какие подстроки помогут вам правильно определить категорию.**"
   ]
  },
  {
   "cell_type": "code",
   "execution_count": 371,
   "id": "63909b83",
   "metadata": {
    "id": "63909b83"
   },
   "outputs": [],
   "source": [
    "def categorize_purpose(data):\n",
    "    for item in ['покупка жилья','операции с жильем','покупка жилья для семьи', 'покупка недвижимости','покупка коммерческой недвижимости','строительство собственной недвижимости', 'недвижимость','строительство недвижимости','операции с коммерческой недвижимостью','строительство жилой недвижимости', 'жилье','операции со своей недвижимостью', 'покупка своего жилья','операции с недвижимостью','покупка жилья для сдачи','ремонт жилью', 'покупка жилой недвижимости']:\n",
    "        if data['purpose'] == item:\n",
    "            return 'операции с недвижимостью';\n",
    "    for item in ['приобретение автомобиля','на покупку подержанного автомобиля','на покупку своего автомобиля', 'автомобили','сделка с подержанным автомобилем', 'автомобиль','свой автомобиль', 'сделка с автомобилем', 'на покупку автомобиля']:\n",
    "        if data['purpose'] == item:\n",
    "            return 'операции с автомобилем';\n",
    "    for item in ['сыграть свадьбу','на проведение свадьбы','свадьба']:\n",
    "        if data['purpose'] == item:\n",
    "            return 'проведение свадьбы';\n",
    "    else:\n",
    "        return 'получение образования';"
   ]
  },
  {
   "cell_type": "code",
   "execution_count": 367,
   "id": "7cb4a81d",
   "metadata": {
    "id": "7cb4a81d"
   },
   "outputs": [],
   "source": [
    "data['purpose_category'] = data.apply(categorize_purpose, axis=1)"
   ]
  }
 ],
 "metadata": {
  "ExecuteTimeLog": [
   {
    "duration": 53,
    "start_time": "2023-02-03T08:46:16.723Z"
   },
   {
    "duration": 438,
    "start_time": "2023-02-03T08:46:33.524Z"
   },
   {
    "duration": 136,
    "start_time": "2023-02-03T08:46:35.711Z"
   },
   {
    "duration": 98,
    "start_time": "2023-02-03T08:46:50.127Z"
   },
   {
    "duration": 12,
    "start_time": "2023-02-03T08:46:53.386Z"
   },
   {
    "duration": 24,
    "start_time": "2023-02-03T08:48:10.435Z"
   },
   {
    "duration": 17,
    "start_time": "2023-02-03T08:50:37.188Z"
   },
   {
    "duration": 11,
    "start_time": "2023-02-03T08:50:54.989Z"
   },
   {
    "duration": 12,
    "start_time": "2023-02-03T08:51:11.714Z"
   },
   {
    "duration": 12,
    "start_time": "2023-02-03T08:51:20.498Z"
   },
   {
    "duration": 11,
    "start_time": "2023-02-03T08:51:32.476Z"
   },
   {
    "duration": 35,
    "start_time": "2023-02-03T08:58:09.790Z"
   },
   {
    "duration": 11,
    "start_time": "2023-02-03T08:59:01.041Z"
   },
   {
    "duration": 10,
    "start_time": "2023-02-03T08:59:45.655Z"
   },
   {
    "duration": 4,
    "start_time": "2023-02-03T09:00:48.057Z"
   },
   {
    "duration": 1142,
    "start_time": "2023-02-03T09:01:02.658Z"
   },
   {
    "duration": 14,
    "start_time": "2023-02-03T09:02:22.757Z"
   },
   {
    "duration": 9,
    "start_time": "2023-02-03T09:02:32.716Z"
   },
   {
    "duration": 1192,
    "start_time": "2023-02-03T09:03:19.273Z"
   },
   {
    "duration": 81,
    "start_time": "2023-02-03T09:08:19.491Z"
   },
   {
    "duration": 6,
    "start_time": "2023-02-03T09:08:26.696Z"
   },
   {
    "duration": 1168,
    "start_time": "2023-02-03T09:15:55.610Z"
   },
   {
    "duration": 15,
    "start_time": "2023-02-03T09:16:14.713Z"
   },
   {
    "duration": 23,
    "start_time": "2023-02-03T09:18:24.600Z"
   },
   {
    "duration": 8,
    "start_time": "2023-02-03T09:19:12.267Z"
   },
   {
    "duration": 6,
    "start_time": "2023-02-03T09:20:39.776Z"
   },
   {
    "duration": 9,
    "start_time": "2023-02-03T09:20:52.214Z"
   },
   {
    "duration": 15,
    "start_time": "2023-02-03T09:20:59.475Z"
   },
   {
    "duration": 12,
    "start_time": "2023-02-03T09:22:07.702Z"
   },
   {
    "duration": 4,
    "start_time": "2023-02-03T09:22:13.779Z"
   },
   {
    "duration": 9,
    "start_time": "2023-02-03T09:22:35.514Z"
   },
   {
    "duration": 4,
    "start_time": "2023-02-03T09:22:41.551Z"
   },
   {
    "duration": 7,
    "start_time": "2023-02-03T09:22:44.691Z"
   },
   {
    "duration": 16,
    "start_time": "2023-02-03T09:38:01.725Z"
   },
   {
    "duration": 17,
    "start_time": "2023-02-03T09:38:19.996Z"
   },
   {
    "duration": 12,
    "start_time": "2023-02-03T09:40:50.300Z"
   },
   {
    "duration": 35,
    "start_time": "2023-02-03T09:41:33.987Z"
   },
   {
    "duration": 35,
    "start_time": "2023-02-03T09:42:28.010Z"
   },
   {
    "duration": 44,
    "start_time": "2023-02-03T09:42:38.785Z"
   },
   {
    "duration": 32,
    "start_time": "2023-02-03T09:42:51.998Z"
   },
   {
    "duration": 45,
    "start_time": "2023-02-03T09:43:39.952Z"
   },
   {
    "duration": 44,
    "start_time": "2023-02-03T09:44:27.800Z"
   },
   {
    "duration": 40,
    "start_time": "2023-02-03T09:44:41.840Z"
   },
   {
    "duration": 4,
    "start_time": "2023-02-03T09:45:33.750Z"
   },
   {
    "duration": 4,
    "start_time": "2023-02-03T09:46:12.880Z"
   },
   {
    "duration": 32,
    "start_time": "2023-02-03T09:46:27.566Z"
   },
   {
    "duration": 34,
    "start_time": "2023-02-03T09:46:43.738Z"
   },
   {
    "duration": 11,
    "start_time": "2023-02-03T09:52:09.098Z"
   },
   {
    "duration": 9,
    "start_time": "2023-02-03T09:59:14.648Z"
   },
   {
    "duration": 32,
    "start_time": "2023-02-03T10:00:28.421Z"
   },
   {
    "duration": 22,
    "start_time": "2023-02-03T10:00:37.547Z"
   },
   {
    "duration": 29,
    "start_time": "2023-02-03T10:01:03.720Z"
   },
   {
    "duration": 26,
    "start_time": "2023-02-03T10:01:16.584Z"
   },
   {
    "duration": 8,
    "start_time": "2023-02-03T10:01:31.688Z"
   },
   {
    "duration": 8,
    "start_time": "2023-02-03T10:01:35.697Z"
   },
   {
    "duration": 4,
    "start_time": "2023-02-03T10:01:42.745Z"
   },
   {
    "duration": 10,
    "start_time": "2023-02-03T10:01:45.358Z"
   },
   {
    "duration": 22,
    "start_time": "2023-02-03T10:01:48.828Z"
   },
   {
    "duration": 85,
    "start_time": "2023-02-03T10:02:53.597Z"
   },
   {
    "duration": 22,
    "start_time": "2023-02-03T10:03:02.589Z"
   },
   {
    "duration": 22,
    "start_time": "2023-02-03T10:04:39.598Z"
   },
   {
    "duration": 11,
    "start_time": "2023-02-03T10:08:27.943Z"
   },
   {
    "duration": 11,
    "start_time": "2023-02-03T10:08:29.386Z"
   },
   {
    "duration": 11,
    "start_time": "2023-02-03T10:08:31.262Z"
   },
   {
    "duration": 3,
    "start_time": "2023-02-03T10:14:49.373Z"
   },
   {
    "duration": 103,
    "start_time": "2023-02-03T10:14:49.378Z"
   },
   {
    "duration": 10,
    "start_time": "2023-02-03T10:14:49.483Z"
   },
   {
    "duration": 31,
    "start_time": "2023-02-03T10:14:49.495Z"
   },
   {
    "duration": 15,
    "start_time": "2023-02-03T10:14:49.529Z"
   },
   {
    "duration": 10,
    "start_time": "2023-02-03T10:14:49.546Z"
   },
   {
    "duration": 11,
    "start_time": "2023-02-03T10:14:49.558Z"
   },
   {
    "duration": 5,
    "start_time": "2023-02-03T10:14:49.571Z"
   },
   {
    "duration": 5,
    "start_time": "2023-02-03T10:14:49.578Z"
   },
   {
    "duration": 11,
    "start_time": "2023-02-03T10:14:49.585Z"
   },
   {
    "duration": 5,
    "start_time": "2023-02-03T10:14:49.599Z"
   },
   {
    "duration": 18,
    "start_time": "2023-02-03T10:14:49.606Z"
   },
   {
    "duration": 6,
    "start_time": "2023-02-03T10:14:49.626Z"
   },
   {
    "duration": 5,
    "start_time": "2023-02-03T10:14:49.635Z"
   },
   {
    "duration": 5,
    "start_time": "2023-02-03T10:14:49.642Z"
   },
   {
    "duration": 6,
    "start_time": "2023-02-03T10:14:49.649Z"
   },
   {
    "duration": 7,
    "start_time": "2023-02-03T10:14:49.657Z"
   },
   {
    "duration": 6,
    "start_time": "2023-02-03T10:14:49.665Z"
   },
   {
    "duration": 10,
    "start_time": "2023-02-03T10:14:49.673Z"
   },
   {
    "duration": 6,
    "start_time": "2023-02-03T10:14:49.685Z"
   },
   {
    "duration": 6,
    "start_time": "2023-02-03T10:14:49.693Z"
   },
   {
    "duration": 8,
    "start_time": "2023-02-03T10:14:49.700Z"
   },
   {
    "duration": 21,
    "start_time": "2023-02-03T10:15:12.217Z"
   },
   {
    "duration": 9,
    "start_time": "2023-02-03T10:15:13.117Z"
   },
   {
    "duration": 10,
    "start_time": "2023-02-03T10:15:48.546Z"
   },
   {
    "duration": 10,
    "start_time": "2023-02-03T10:15:53.654Z"
   },
   {
    "duration": 5,
    "start_time": "2023-02-03T10:16:27.343Z"
   },
   {
    "duration": 5,
    "start_time": "2023-02-03T10:16:29.893Z"
   },
   {
    "duration": 1481,
    "start_time": "2023-02-03T10:16:39.693Z"
   },
   {
    "duration": 10,
    "start_time": "2023-02-03T10:16:48.669Z"
   },
   {
    "duration": 8,
    "start_time": "2023-02-03T10:17:39.900Z"
   },
   {
    "duration": 8,
    "start_time": "2023-02-03T10:17:49.496Z"
   },
   {
    "duration": 9,
    "start_time": "2023-02-03T10:18:01.791Z"
   },
   {
    "duration": 8,
    "start_time": "2023-02-03T10:18:35.117Z"
   },
   {
    "duration": 7,
    "start_time": "2023-02-03T10:18:51.950Z"
   },
   {
    "duration": 7,
    "start_time": "2023-02-03T10:19:36.114Z"
   },
   {
    "duration": 7,
    "start_time": "2023-02-03T10:19:37.173Z"
   },
   {
    "duration": 7,
    "start_time": "2023-02-03T10:19:42.566Z"
   },
   {
    "duration": 394,
    "start_time": "2023-02-03T17:07:15.765Z"
   },
   {
    "duration": 333,
    "start_time": "2023-02-03T17:07:16.161Z"
   },
   {
    "duration": 12,
    "start_time": "2023-02-03T17:07:16.496Z"
   },
   {
    "duration": 28,
    "start_time": "2023-02-03T17:07:16.511Z"
   },
   {
    "duration": 17,
    "start_time": "2023-02-03T17:07:16.541Z"
   },
   {
    "duration": 18,
    "start_time": "2023-02-03T17:07:16.560Z"
   },
   {
    "duration": 9,
    "start_time": "2023-02-03T17:07:16.580Z"
   },
   {
    "duration": 7,
    "start_time": "2023-02-03T17:07:16.591Z"
   },
   {
    "duration": 12,
    "start_time": "2023-02-03T17:07:16.600Z"
   },
   {
    "duration": 11,
    "start_time": "2023-02-03T17:07:16.614Z"
   },
   {
    "duration": 19,
    "start_time": "2023-02-03T17:07:16.626Z"
   },
   {
    "duration": 11,
    "start_time": "2023-02-03T17:07:16.647Z"
   },
   {
    "duration": 5,
    "start_time": "2023-02-03T17:07:16.659Z"
   },
   {
    "duration": 5,
    "start_time": "2023-02-03T17:07:16.665Z"
   },
   {
    "duration": 16,
    "start_time": "2023-02-03T17:07:16.672Z"
   },
   {
    "duration": 6,
    "start_time": "2023-02-03T17:07:16.689Z"
   },
   {
    "duration": 6,
    "start_time": "2023-02-03T17:07:16.696Z"
   },
   {
    "duration": 18,
    "start_time": "2023-02-03T17:07:16.703Z"
   },
   {
    "duration": 9,
    "start_time": "2023-02-03T17:07:16.722Z"
   },
   {
    "duration": 11,
    "start_time": "2023-02-03T17:07:16.732Z"
   },
   {
    "duration": 6,
    "start_time": "2023-02-03T17:07:16.745Z"
   },
   {
    "duration": 7,
    "start_time": "2023-02-03T17:07:16.753Z"
   },
   {
    "duration": 8,
    "start_time": "2023-02-03T17:11:34.143Z"
   },
   {
    "duration": 3,
    "start_time": "2023-02-03T17:21:41.537Z"
   },
   {
    "duration": 6,
    "start_time": "2023-02-03T17:21:52.877Z"
   },
   {
    "duration": 3,
    "start_time": "2023-02-03T17:22:21.930Z"
   },
   {
    "duration": 7,
    "start_time": "2023-02-03T17:23:21.547Z"
   },
   {
    "duration": 4,
    "start_time": "2023-02-03T17:24:48.159Z"
   },
   {
    "duration": 67,
    "start_time": "2023-02-03T17:34:29.354Z"
   },
   {
    "duration": 11,
    "start_time": "2023-02-03T17:37:44.156Z"
   },
   {
    "duration": 8,
    "start_time": "2023-02-03T17:38:14.209Z"
   },
   {
    "duration": 347,
    "start_time": "2023-02-03T17:38:20.498Z"
   },
   {
    "duration": 372,
    "start_time": "2023-02-03T17:38:26.633Z"
   },
   {
    "duration": 4,
    "start_time": "2023-02-03T17:38:42.519Z"
   },
   {
    "duration": 8,
    "start_time": "2023-02-03T17:39:29.419Z"
   },
   {
    "duration": 8,
    "start_time": "2023-02-03T17:42:30.032Z"
   },
   {
    "duration": 50,
    "start_time": "2023-02-03T17:43:04.346Z"
   },
   {
    "duration": 11,
    "start_time": "2023-02-03T17:43:26.476Z"
   },
   {
    "duration": 373,
    "start_time": "2023-02-03T17:44:00.349Z"
   },
   {
    "duration": 10,
    "start_time": "2023-02-03T17:45:24.109Z"
   },
   {
    "duration": 4,
    "start_time": "2023-02-03T17:46:14.099Z"
   },
   {
    "duration": 6,
    "start_time": "2023-02-03T17:46:35.063Z"
   },
   {
    "duration": 10,
    "start_time": "2023-02-03T17:47:08.275Z"
   },
   {
    "duration": 10,
    "start_time": "2023-02-03T17:47:24.937Z"
   },
   {
    "duration": 4,
    "start_time": "2023-02-03T17:47:27.760Z"
   },
   {
    "duration": 3,
    "start_time": "2023-02-03T17:47:34.094Z"
   },
   {
    "duration": 78,
    "start_time": "2023-02-03T17:47:34.099Z"
   },
   {
    "duration": 9,
    "start_time": "2023-02-03T17:47:34.178Z"
   },
   {
    "duration": 15,
    "start_time": "2023-02-03T17:47:34.189Z"
   },
   {
    "duration": 9,
    "start_time": "2023-02-03T17:47:34.207Z"
   },
   {
    "duration": 32,
    "start_time": "2023-02-03T17:47:34.218Z"
   },
   {
    "duration": 3,
    "start_time": "2023-02-03T17:47:34.252Z"
   },
   {
    "duration": 14,
    "start_time": "2023-02-03T17:47:34.257Z"
   },
   {
    "duration": 6,
    "start_time": "2023-02-03T17:47:34.272Z"
   },
   {
    "duration": 412,
    "start_time": "2023-02-03T17:47:34.280Z"
   },
   {
    "duration": 0,
    "start_time": "2023-02-03T17:47:34.694Z"
   },
   {
    "duration": 0,
    "start_time": "2023-02-03T17:47:34.696Z"
   },
   {
    "duration": 0,
    "start_time": "2023-02-03T17:47:34.697Z"
   },
   {
    "duration": 0,
    "start_time": "2023-02-03T17:47:34.698Z"
   },
   {
    "duration": 0,
    "start_time": "2023-02-03T17:47:34.699Z"
   },
   {
    "duration": 0,
    "start_time": "2023-02-03T17:47:34.700Z"
   },
   {
    "duration": 0,
    "start_time": "2023-02-03T17:47:34.701Z"
   },
   {
    "duration": 0,
    "start_time": "2023-02-03T17:47:34.702Z"
   },
   {
    "duration": 0,
    "start_time": "2023-02-03T17:47:34.703Z"
   },
   {
    "duration": 0,
    "start_time": "2023-02-03T17:47:34.704Z"
   },
   {
    "duration": 0,
    "start_time": "2023-02-03T17:47:34.705Z"
   },
   {
    "duration": 0,
    "start_time": "2023-02-03T17:47:34.706Z"
   },
   {
    "duration": 11,
    "start_time": "2023-02-03T17:48:35.625Z"
   },
   {
    "duration": 2,
    "start_time": "2023-02-03T17:48:42.348Z"
   },
   {
    "duration": 76,
    "start_time": "2023-02-03T17:48:42.352Z"
   },
   {
    "duration": 8,
    "start_time": "2023-02-03T17:48:42.430Z"
   },
   {
    "duration": 26,
    "start_time": "2023-02-03T17:48:42.440Z"
   },
   {
    "duration": 9,
    "start_time": "2023-02-03T17:48:42.468Z"
   },
   {
    "duration": 7,
    "start_time": "2023-02-03T17:48:42.478Z"
   },
   {
    "duration": 14,
    "start_time": "2023-02-03T17:48:42.487Z"
   },
   {
    "duration": 10,
    "start_time": "2023-02-03T17:48:42.503Z"
   },
   {
    "duration": 7,
    "start_time": "2023-02-03T17:48:42.515Z"
   },
   {
    "duration": 19,
    "start_time": "2023-02-03T17:48:42.523Z"
   },
   {
    "duration": 5,
    "start_time": "2023-02-03T17:48:42.544Z"
   },
   {
    "duration": 3,
    "start_time": "2023-02-03T17:48:42.550Z"
   },
   {
    "duration": 8,
    "start_time": "2023-02-03T17:48:42.554Z"
   },
   {
    "duration": 4,
    "start_time": "2023-02-03T17:48:42.564Z"
   },
   {
    "duration": 6,
    "start_time": "2023-02-03T17:48:42.569Z"
   },
   {
    "duration": 9,
    "start_time": "2023-02-03T17:48:42.577Z"
   },
   {
    "duration": 5,
    "start_time": "2023-02-03T17:48:42.587Z"
   },
   {
    "duration": 5,
    "start_time": "2023-02-03T17:48:42.593Z"
   },
   {
    "duration": 6,
    "start_time": "2023-02-03T17:48:42.600Z"
   },
   {
    "duration": 5,
    "start_time": "2023-02-03T17:48:42.608Z"
   },
   {
    "duration": 5,
    "start_time": "2023-02-03T17:48:42.615Z"
   },
   {
    "duration": 9,
    "start_time": "2023-02-03T17:48:42.621Z"
   },
   {
    "duration": 4,
    "start_time": "2023-02-03T17:48:45.788Z"
   },
   {
    "duration": 3,
    "start_time": "2023-02-03T17:48:47.312Z"
   },
   {
    "duration": 3,
    "start_time": "2023-02-03T17:48:47.501Z"
   },
   {
    "duration": 4,
    "start_time": "2023-02-03T17:48:47.748Z"
   },
   {
    "duration": 4,
    "start_time": "2023-02-03T17:48:47.916Z"
   },
   {
    "duration": 3,
    "start_time": "2023-02-03T17:48:48.084Z"
   },
   {
    "duration": 3,
    "start_time": "2023-02-03T17:48:48.184Z"
   },
   {
    "duration": 3,
    "start_time": "2023-02-03T17:49:09.436Z"
   },
   {
    "duration": 8,
    "start_time": "2023-02-03T17:51:26.425Z"
   },
   {
    "duration": 4,
    "start_time": "2023-02-03T17:51:43.140Z"
   },
   {
    "duration": 2,
    "start_time": "2023-02-03T17:51:46.725Z"
   },
   {
    "duration": 84,
    "start_time": "2023-02-03T17:51:46.730Z"
   },
   {
    "duration": 8,
    "start_time": "2023-02-03T17:51:46.816Z"
   },
   {
    "duration": 23,
    "start_time": "2023-02-03T17:51:46.826Z"
   },
   {
    "duration": 10,
    "start_time": "2023-02-03T17:51:46.852Z"
   },
   {
    "duration": 14,
    "start_time": "2023-02-03T17:51:46.864Z"
   },
   {
    "duration": 6,
    "start_time": "2023-02-03T17:51:46.879Z"
   },
   {
    "duration": 11,
    "start_time": "2023-02-03T17:51:46.886Z"
   },
   {
    "duration": 5,
    "start_time": "2023-02-03T17:51:46.899Z"
   },
   {
    "duration": 10,
    "start_time": "2023-02-03T17:51:46.906Z"
   },
   {
    "duration": 8,
    "start_time": "2023-02-03T17:51:46.917Z"
   },
   {
    "duration": 9,
    "start_time": "2023-02-03T17:51:46.927Z"
   },
   {
    "duration": 5,
    "start_time": "2023-02-03T17:51:46.939Z"
   },
   {
    "duration": 7,
    "start_time": "2023-02-03T17:51:46.949Z"
   },
   {
    "duration": 10,
    "start_time": "2023-02-03T17:51:46.957Z"
   },
   {
    "duration": 10,
    "start_time": "2023-02-03T17:51:46.969Z"
   },
   {
    "duration": 4,
    "start_time": "2023-02-03T17:51:46.981Z"
   },
   {
    "duration": 7,
    "start_time": "2023-02-03T17:51:46.987Z"
   },
   {
    "duration": 12,
    "start_time": "2023-02-03T17:51:46.995Z"
   },
   {
    "duration": 8,
    "start_time": "2023-02-03T17:51:47.009Z"
   },
   {
    "duration": 7,
    "start_time": "2023-02-03T17:51:47.019Z"
   },
   {
    "duration": 13,
    "start_time": "2023-02-03T17:51:47.028Z"
   },
   {
    "duration": 9,
    "start_time": "2023-02-03T17:52:31.040Z"
   },
   {
    "duration": 3,
    "start_time": "2023-02-03T17:52:37.240Z"
   },
   {
    "duration": 75,
    "start_time": "2023-02-03T17:52:37.245Z"
   },
   {
    "duration": 8,
    "start_time": "2023-02-03T17:52:37.322Z"
   },
   {
    "duration": 22,
    "start_time": "2023-02-03T17:52:37.332Z"
   },
   {
    "duration": 8,
    "start_time": "2023-02-03T17:52:37.356Z"
   },
   {
    "duration": 12,
    "start_time": "2023-02-03T17:52:37.366Z"
   },
   {
    "duration": 7,
    "start_time": "2023-02-03T17:52:37.380Z"
   },
   {
    "duration": 10,
    "start_time": "2023-02-03T17:52:37.389Z"
   },
   {
    "duration": 3,
    "start_time": "2023-02-03T17:52:37.402Z"
   },
   {
    "duration": 13,
    "start_time": "2023-02-03T17:52:37.406Z"
   },
   {
    "duration": 0,
    "start_time": "2023-02-03T17:52:37.420Z"
   },
   {
    "duration": 0,
    "start_time": "2023-02-03T17:52:37.421Z"
   },
   {
    "duration": 0,
    "start_time": "2023-02-03T17:52:37.422Z"
   },
   {
    "duration": 0,
    "start_time": "2023-02-03T17:52:37.423Z"
   },
   {
    "duration": 0,
    "start_time": "2023-02-03T17:52:37.424Z"
   },
   {
    "duration": 0,
    "start_time": "2023-02-03T17:52:37.425Z"
   },
   {
    "duration": 0,
    "start_time": "2023-02-03T17:52:37.426Z"
   },
   {
    "duration": 0,
    "start_time": "2023-02-03T17:52:37.448Z"
   },
   {
    "duration": 0,
    "start_time": "2023-02-03T17:52:37.449Z"
   },
   {
    "duration": 0,
    "start_time": "2023-02-03T17:52:37.450Z"
   },
   {
    "duration": 0,
    "start_time": "2023-02-03T17:52:37.451Z"
   },
   {
    "duration": 0,
    "start_time": "2023-02-03T17:52:37.452Z"
   },
   {
    "duration": 8,
    "start_time": "2023-02-03T17:56:53.256Z"
   },
   {
    "duration": 5,
    "start_time": "2023-02-03T17:57:39.990Z"
   },
   {
    "duration": 5,
    "start_time": "2023-02-03T17:57:55.896Z"
   },
   {
    "duration": 6,
    "start_time": "2023-02-03T17:58:05.808Z"
   },
   {
    "duration": 6,
    "start_time": "2023-02-03T17:58:14.597Z"
   },
   {
    "duration": 8,
    "start_time": "2023-02-03T17:58:22.980Z"
   },
   {
    "duration": 5,
    "start_time": "2023-02-03T17:58:31.342Z"
   },
   {
    "duration": 5,
    "start_time": "2023-02-03T17:58:39.369Z"
   },
   {
    "duration": 3,
    "start_time": "2023-02-03T17:58:45.548Z"
   },
   {
    "duration": 79,
    "start_time": "2023-02-03T17:58:45.553Z"
   },
   {
    "duration": 8,
    "start_time": "2023-02-03T17:58:45.634Z"
   },
   {
    "duration": 16,
    "start_time": "2023-02-03T17:58:45.644Z"
   },
   {
    "duration": 11,
    "start_time": "2023-02-03T17:58:45.663Z"
   },
   {
    "duration": 6,
    "start_time": "2023-02-03T17:58:45.675Z"
   },
   {
    "duration": 6,
    "start_time": "2023-02-03T17:58:45.683Z"
   },
   {
    "duration": 15,
    "start_time": "2023-02-03T17:58:45.691Z"
   },
   {
    "duration": 4,
    "start_time": "2023-02-03T17:58:45.707Z"
   },
   {
    "duration": 10,
    "start_time": "2023-02-03T17:58:45.712Z"
   },
   {
    "duration": 2,
    "start_time": "2023-02-03T17:58:45.748Z"
   },
   {
    "duration": 9,
    "start_time": "2023-02-03T17:58:45.751Z"
   },
   {
    "duration": 5,
    "start_time": "2023-02-03T17:58:45.761Z"
   },
   {
    "duration": 4,
    "start_time": "2023-02-03T17:58:45.768Z"
   },
   {
    "duration": 7,
    "start_time": "2023-02-03T17:58:45.773Z"
   },
   {
    "duration": 11,
    "start_time": "2023-02-03T17:58:45.781Z"
   },
   {
    "duration": 14,
    "start_time": "2023-02-03T17:58:45.793Z"
   },
   {
    "duration": 4,
    "start_time": "2023-02-03T17:58:45.810Z"
   },
   {
    "duration": 7,
    "start_time": "2023-02-03T17:58:45.816Z"
   },
   {
    "duration": 5,
    "start_time": "2023-02-03T17:58:45.825Z"
   },
   {
    "duration": 4,
    "start_time": "2023-02-03T17:58:45.832Z"
   },
   {
    "duration": 11,
    "start_time": "2023-02-03T17:58:45.838Z"
   },
   {
    "duration": 4,
    "start_time": "2023-02-03T17:59:11.219Z"
   },
   {
    "duration": 7,
    "start_time": "2023-02-03T18:00:09.433Z"
   },
   {
    "duration": 26,
    "start_time": "2023-02-03T18:00:19.575Z"
   },
   {
    "duration": 7,
    "start_time": "2023-02-03T18:01:07.273Z"
   },
   {
    "duration": 8,
    "start_time": "2023-02-03T18:01:13.455Z"
   },
   {
    "duration": 8,
    "start_time": "2023-02-03T18:02:08.054Z"
   },
   {
    "duration": 12,
    "start_time": "2023-02-03T18:03:42.870Z"
   },
   {
    "duration": 4,
    "start_time": "2023-02-03T18:04:06.655Z"
   },
   {
    "duration": 81,
    "start_time": "2023-02-03T18:04:06.661Z"
   },
   {
    "duration": 10,
    "start_time": "2023-02-03T18:04:06.743Z"
   },
   {
    "duration": 16,
    "start_time": "2023-02-03T18:04:06.756Z"
   },
   {
    "duration": 10,
    "start_time": "2023-02-03T18:04:06.774Z"
   },
   {
    "duration": 7,
    "start_time": "2023-02-03T18:04:06.785Z"
   },
   {
    "duration": 15,
    "start_time": "2023-02-03T18:04:06.793Z"
   },
   {
    "duration": 16,
    "start_time": "2023-02-03T18:04:06.810Z"
   },
   {
    "duration": 21,
    "start_time": "2023-02-03T18:04:06.829Z"
   },
   {
    "duration": 10,
    "start_time": "2023-02-03T18:04:06.852Z"
   },
   {
    "duration": 4,
    "start_time": "2023-02-03T18:04:06.864Z"
   },
   {
    "duration": 14,
    "start_time": "2023-02-03T18:04:06.871Z"
   },
   {
    "duration": 2,
    "start_time": "2023-02-03T18:04:06.888Z"
   },
   {
    "duration": 6,
    "start_time": "2023-02-03T18:04:06.892Z"
   },
   {
    "duration": 9,
    "start_time": "2023-02-03T18:04:06.900Z"
   },
   {
    "duration": 15,
    "start_time": "2023-02-03T18:04:06.911Z"
   },
   {
    "duration": 21,
    "start_time": "2023-02-03T18:04:06.928Z"
   },
   {
    "duration": 6,
    "start_time": "2023-02-03T18:04:06.951Z"
   },
   {
    "duration": 6,
    "start_time": "2023-02-03T18:04:06.959Z"
   },
   {
    "duration": 9,
    "start_time": "2023-02-03T18:04:06.966Z"
   },
   {
    "duration": 15,
    "start_time": "2023-02-03T18:04:06.977Z"
   },
   {
    "duration": 17,
    "start_time": "2023-02-03T18:04:06.994Z"
   },
   {
    "duration": 6,
    "start_time": "2023-02-03T18:04:49.012Z"
   },
   {
    "duration": 7,
    "start_time": "2023-02-03T18:08:23.153Z"
   },
   {
    "duration": 14,
    "start_time": "2023-02-03T18:08:40.967Z"
   },
   {
    "duration": 12,
    "start_time": "2023-02-03T18:08:53.103Z"
   },
   {
    "duration": 11,
    "start_time": "2023-02-03T18:09:12.077Z"
   },
   {
    "duration": 11,
    "start_time": "2023-02-03T18:09:42.881Z"
   },
   {
    "duration": 10,
    "start_time": "2023-02-03T18:10:01.154Z"
   },
   {
    "duration": 8,
    "start_time": "2023-02-03T18:10:04.978Z"
   },
   {
    "duration": 7,
    "start_time": "2023-02-03T18:10:11.189Z"
   },
   {
    "duration": 2,
    "start_time": "2023-02-03T18:10:55.318Z"
   },
   {
    "duration": 76,
    "start_time": "2023-02-03T18:10:55.322Z"
   },
   {
    "duration": 8,
    "start_time": "2023-02-03T18:10:55.400Z"
   },
   {
    "duration": 27,
    "start_time": "2023-02-03T18:10:55.410Z"
   },
   {
    "duration": 13,
    "start_time": "2023-02-03T18:10:55.439Z"
   },
   {
    "duration": 17,
    "start_time": "2023-02-03T18:10:55.453Z"
   },
   {
    "duration": 6,
    "start_time": "2023-02-03T18:10:55.471Z"
   },
   {
    "duration": 10,
    "start_time": "2023-02-03T18:10:55.479Z"
   },
   {
    "duration": 4,
    "start_time": "2023-02-03T18:10:55.491Z"
   },
   {
    "duration": 8,
    "start_time": "2023-02-03T18:10:55.496Z"
   },
   {
    "duration": 13,
    "start_time": "2023-02-03T18:10:55.505Z"
   },
   {
    "duration": 9,
    "start_time": "2023-02-03T18:10:55.519Z"
   },
   {
    "duration": 5,
    "start_time": "2023-02-03T18:10:55.529Z"
   },
   {
    "duration": 12,
    "start_time": "2023-02-03T18:10:55.535Z"
   },
   {
    "duration": 6,
    "start_time": "2023-02-03T18:10:55.548Z"
   },
   {
    "duration": 6,
    "start_time": "2023-02-03T18:10:55.555Z"
   },
   {
    "duration": 5,
    "start_time": "2023-02-03T18:10:55.563Z"
   },
   {
    "duration": 5,
    "start_time": "2023-02-03T18:10:55.569Z"
   },
   {
    "duration": 10,
    "start_time": "2023-02-03T18:10:55.575Z"
   },
   {
    "duration": 6,
    "start_time": "2023-02-03T18:10:55.587Z"
   },
   {
    "duration": 8,
    "start_time": "2023-02-03T18:10:55.594Z"
   },
   {
    "duration": 6,
    "start_time": "2023-02-03T18:10:55.603Z"
   },
   {
    "duration": 7,
    "start_time": "2023-02-03T18:12:27.403Z"
   },
   {
    "duration": 7,
    "start_time": "2023-02-03T18:12:53.621Z"
   },
   {
    "duration": 2,
    "start_time": "2023-02-03T18:13:00.222Z"
   },
   {
    "duration": 91,
    "start_time": "2023-02-03T18:13:00.226Z"
   },
   {
    "duration": 9,
    "start_time": "2023-02-03T18:13:00.319Z"
   },
   {
    "duration": 24,
    "start_time": "2023-02-03T18:13:00.330Z"
   },
   {
    "duration": 27,
    "start_time": "2023-02-03T18:13:00.356Z"
   },
   {
    "duration": 9,
    "start_time": "2023-02-03T18:13:00.385Z"
   },
   {
    "duration": 25,
    "start_time": "2023-02-03T18:13:00.396Z"
   },
   {
    "duration": 34,
    "start_time": "2023-02-03T18:13:00.422Z"
   },
   {
    "duration": 29,
    "start_time": "2023-02-03T18:13:00.458Z"
   },
   {
    "duration": 26,
    "start_time": "2023-02-03T18:13:00.489Z"
   },
   {
    "duration": 18,
    "start_time": "2023-02-03T18:13:00.517Z"
   },
   {
    "duration": 24,
    "start_time": "2023-02-03T18:13:00.537Z"
   },
   {
    "duration": 36,
    "start_time": "2023-02-03T18:13:00.563Z"
   },
   {
    "duration": 21,
    "start_time": "2023-02-03T18:13:00.601Z"
   },
   {
    "duration": 29,
    "start_time": "2023-02-03T18:13:00.623Z"
   },
   {
    "duration": 25,
    "start_time": "2023-02-03T18:13:00.654Z"
   },
   {
    "duration": 13,
    "start_time": "2023-02-03T18:13:00.681Z"
   },
   {
    "duration": 21,
    "start_time": "2023-02-03T18:13:00.696Z"
   },
   {
    "duration": 15,
    "start_time": "2023-02-03T18:13:00.718Z"
   },
   {
    "duration": 22,
    "start_time": "2023-02-03T18:13:00.735Z"
   },
   {
    "duration": 22,
    "start_time": "2023-02-03T18:13:00.759Z"
   },
   {
    "duration": 21,
    "start_time": "2023-02-03T18:13:00.782Z"
   },
   {
    "duration": 11,
    "start_time": "2023-02-03T18:13:54.805Z"
   },
   {
    "duration": 40,
    "start_time": "2023-02-03T18:14:42.694Z"
   },
   {
    "duration": 4,
    "start_time": "2023-02-03T18:14:46.393Z"
   },
   {
    "duration": 4,
    "start_time": "2023-02-03T18:15:00.169Z"
   },
   {
    "duration": 4,
    "start_time": "2023-02-03T18:15:29.807Z"
   },
   {
    "duration": 5,
    "start_time": "2023-02-03T18:17:00.064Z"
   },
   {
    "duration": 9,
    "start_time": "2023-02-03T18:18:39.771Z"
   },
   {
    "duration": 9,
    "start_time": "2023-02-03T18:18:50.124Z"
   },
   {
    "duration": 7,
    "start_time": "2023-02-03T18:19:04.190Z"
   },
   {
    "duration": 10,
    "start_time": "2023-02-03T18:19:38.488Z"
   },
   {
    "duration": 52,
    "start_time": "2023-02-03T18:20:11.640Z"
   },
   {
    "duration": 19,
    "start_time": "2023-02-03T18:20:15.277Z"
   },
   {
    "duration": 19,
    "start_time": "2023-02-03T18:20:36.188Z"
   },
   {
    "duration": 9,
    "start_time": "2023-02-03T18:30:44.332Z"
   },
   {
    "duration": 7,
    "start_time": "2023-02-03T18:30:56.008Z"
   },
   {
    "duration": 4,
    "start_time": "2023-02-03T18:31:04.429Z"
   },
   {
    "duration": 7,
    "start_time": "2023-02-03T18:31:06.228Z"
   },
   {
    "duration": 42,
    "start_time": "2023-02-03T18:31:12.929Z"
   },
   {
    "duration": 546,
    "start_time": "2023-02-03T18:31:15.617Z"
   },
   {
    "duration": 714,
    "start_time": "2023-02-03T18:32:09.026Z"
   },
   {
    "duration": 2,
    "start_time": "2023-02-03T18:32:18.773Z"
   },
   {
    "duration": 95,
    "start_time": "2023-02-03T18:32:18.777Z"
   },
   {
    "duration": 10,
    "start_time": "2023-02-03T18:32:18.874Z"
   },
   {
    "duration": 21,
    "start_time": "2023-02-03T18:32:18.886Z"
   },
   {
    "duration": 13,
    "start_time": "2023-02-03T18:32:18.909Z"
   },
   {
    "duration": 10,
    "start_time": "2023-02-03T18:32:18.924Z"
   },
   {
    "duration": 6,
    "start_time": "2023-02-03T18:32:18.949Z"
   },
   {
    "duration": 10,
    "start_time": "2023-02-03T18:32:18.957Z"
   },
   {
    "duration": 4,
    "start_time": "2023-02-03T18:32:18.969Z"
   },
   {
    "duration": 11,
    "start_time": "2023-02-03T18:32:18.975Z"
   },
   {
    "duration": 7,
    "start_time": "2023-02-03T18:32:18.988Z"
   },
   {
    "duration": 12,
    "start_time": "2023-02-03T18:32:18.996Z"
   },
   {
    "duration": 11,
    "start_time": "2023-02-03T18:32:19.011Z"
   },
   {
    "duration": 5,
    "start_time": "2023-02-03T18:32:19.048Z"
   },
   {
    "duration": 18,
    "start_time": "2023-02-03T18:32:19.054Z"
   },
   {
    "duration": 28,
    "start_time": "2023-02-03T18:32:19.074Z"
   },
   {
    "duration": 21,
    "start_time": "2023-02-03T18:32:19.104Z"
   },
   {
    "duration": 3,
    "start_time": "2023-02-03T18:32:19.127Z"
   },
   {
    "duration": 902,
    "start_time": "2023-02-03T18:32:19.132Z"
   },
   {
    "duration": 0,
    "start_time": "2023-02-03T18:32:20.036Z"
   },
   {
    "duration": 0,
    "start_time": "2023-02-03T18:32:20.037Z"
   },
   {
    "duration": 0,
    "start_time": "2023-02-03T18:32:20.038Z"
   },
   {
    "duration": 51,
    "start_time": "2023-02-03T18:32:55.271Z"
   },
   {
    "duration": 4,
    "start_time": "2023-02-03T18:32:59.319Z"
   },
   {
    "duration": 676,
    "start_time": "2023-02-03T18:33:01.033Z"
   },
   {
    "duration": 774,
    "start_time": "2023-02-03T18:33:38.832Z"
   },
   {
    "duration": 3,
    "start_time": "2023-02-03T18:34:30.025Z"
   },
   {
    "duration": 112,
    "start_time": "2023-02-03T18:34:30.030Z"
   },
   {
    "duration": 18,
    "start_time": "2023-02-03T18:34:30.143Z"
   },
   {
    "duration": 44,
    "start_time": "2023-02-03T18:34:30.164Z"
   },
   {
    "duration": 11,
    "start_time": "2023-02-03T18:34:30.210Z"
   },
   {
    "duration": 17,
    "start_time": "2023-02-03T18:34:30.223Z"
   },
   {
    "duration": 34,
    "start_time": "2023-02-03T18:34:30.242Z"
   },
   {
    "duration": 32,
    "start_time": "2023-02-03T18:34:30.277Z"
   },
   {
    "duration": 19,
    "start_time": "2023-02-03T18:34:30.313Z"
   },
   {
    "duration": 21,
    "start_time": "2023-02-03T18:34:30.334Z"
   },
   {
    "duration": 25,
    "start_time": "2023-02-03T18:34:30.357Z"
   },
   {
    "duration": 29,
    "start_time": "2023-02-03T18:34:30.384Z"
   },
   {
    "duration": 25,
    "start_time": "2023-02-03T18:34:30.415Z"
   },
   {
    "duration": 26,
    "start_time": "2023-02-03T18:34:30.442Z"
   },
   {
    "duration": 30,
    "start_time": "2023-02-03T18:34:30.470Z"
   },
   {
    "duration": 38,
    "start_time": "2023-02-03T18:34:30.502Z"
   },
   {
    "duration": 38,
    "start_time": "2023-02-03T18:34:30.541Z"
   },
   {
    "duration": 20,
    "start_time": "2023-02-03T18:34:30.580Z"
   },
   {
    "duration": 606,
    "start_time": "2023-02-03T18:34:30.602Z"
   },
   {
    "duration": 1,
    "start_time": "2023-02-03T18:34:31.209Z"
   },
   {
    "duration": 0,
    "start_time": "2023-02-03T18:34:31.211Z"
   },
   {
    "duration": 0,
    "start_time": "2023-02-03T18:34:31.212Z"
   },
   {
    "duration": 4,
    "start_time": "2023-02-03T18:35:18.993Z"
   },
   {
    "duration": 506,
    "start_time": "2023-02-03T18:35:22.530Z"
   },
   {
    "duration": 4,
    "start_time": "2023-02-03T18:36:13.509Z"
   },
   {
    "duration": 583,
    "start_time": "2023-02-03T18:36:15.546Z"
   },
   {
    "duration": 165,
    "start_time": "2023-02-03T18:37:19.658Z"
   },
   {
    "duration": 580,
    "start_time": "2023-02-03T18:37:37.482Z"
   },
   {
    "duration": 148,
    "start_time": "2023-02-03T18:37:46.508Z"
   },
   {
    "duration": 4,
    "start_time": "2023-02-03T18:39:23.264Z"
   },
   {
    "duration": 188,
    "start_time": "2023-02-03T18:39:25.112Z"
   },
   {
    "duration": 48,
    "start_time": "2023-02-03T18:39:45.986Z"
   },
   {
    "duration": 4,
    "start_time": "2023-02-03T18:40:02.127Z"
   },
   {
    "duration": 243,
    "start_time": "2023-02-03T18:40:04.558Z"
   },
   {
    "duration": 7,
    "start_time": "2023-02-03T18:40:52.051Z"
   },
   {
    "duration": 6,
    "start_time": "2023-02-03T18:41:00.961Z"
   },
   {
    "duration": 46,
    "start_time": "2023-02-03T18:47:04.398Z"
   },
   {
    "duration": 44,
    "start_time": "2023-02-03T18:47:09.848Z"
   },
   {
    "duration": 4,
    "start_time": "2023-02-03T18:47:37.408Z"
   },
   {
    "duration": 4,
    "start_time": "2023-02-03T18:53:07.801Z"
   },
   {
    "duration": 650,
    "start_time": "2023-02-03T18:53:49.329Z"
   },
   {
    "duration": 280,
    "start_time": "2023-02-03T18:55:24.203Z"
   },
   {
    "duration": 4,
    "start_time": "2023-02-03T18:59:18.000Z"
   },
   {
    "duration": 242,
    "start_time": "2023-02-03T18:59:19.557Z"
   },
   {
    "duration": 3,
    "start_time": "2023-02-03T18:59:22.251Z"
   },
   {
    "duration": 70,
    "start_time": "2023-02-03T18:59:22.258Z"
   },
   {
    "duration": 9,
    "start_time": "2023-02-03T18:59:22.330Z"
   },
   {
    "duration": 26,
    "start_time": "2023-02-03T18:59:22.340Z"
   },
   {
    "duration": 12,
    "start_time": "2023-02-03T18:59:22.368Z"
   },
   {
    "duration": 8,
    "start_time": "2023-02-03T18:59:22.381Z"
   },
   {
    "duration": 3,
    "start_time": "2023-02-03T18:59:22.390Z"
   },
   {
    "duration": 10,
    "start_time": "2023-02-03T18:59:22.395Z"
   },
   {
    "duration": 5,
    "start_time": "2023-02-03T18:59:22.407Z"
   },
   {
    "duration": 11,
    "start_time": "2023-02-03T18:59:22.413Z"
   },
   {
    "duration": 25,
    "start_time": "2023-02-03T18:59:22.427Z"
   },
   {
    "duration": 10,
    "start_time": "2023-02-03T18:59:22.453Z"
   },
   {
    "duration": 10,
    "start_time": "2023-02-03T18:59:22.464Z"
   },
   {
    "duration": 5,
    "start_time": "2023-02-03T18:59:22.476Z"
   },
   {
    "duration": 15,
    "start_time": "2023-02-03T18:59:22.482Z"
   },
   {
    "duration": 20,
    "start_time": "2023-02-03T18:59:22.498Z"
   },
   {
    "duration": 43,
    "start_time": "2023-02-03T18:59:22.520Z"
   },
   {
    "duration": 4,
    "start_time": "2023-02-03T18:59:22.565Z"
   },
   {
    "duration": 256,
    "start_time": "2023-02-03T18:59:22.570Z"
   },
   {
    "duration": 5,
    "start_time": "2023-02-03T18:59:22.828Z"
   },
   {
    "duration": 18,
    "start_time": "2023-02-03T18:59:22.834Z"
   },
   {
    "duration": 244,
    "start_time": "2023-02-03T18:59:22.854Z"
   },
   {
    "duration": 5,
    "start_time": "2023-02-03T19:04:28.570Z"
   },
   {
    "duration": 1043,
    "start_time": "2023-02-03T19:04:30.921Z"
   },
   {
    "duration": 4,
    "start_time": "2023-02-03T19:06:00.813Z"
   },
   {
    "duration": 5,
    "start_time": "2023-02-03T19:06:28.825Z"
   },
   {
    "duration": 4,
    "start_time": "2023-02-03T19:07:21.190Z"
   },
   {
    "duration": 83,
    "start_time": "2023-02-03T19:07:21.195Z"
   },
   {
    "duration": 8,
    "start_time": "2023-02-03T19:07:21.280Z"
   },
   {
    "duration": 24,
    "start_time": "2023-02-03T19:07:21.290Z"
   },
   {
    "duration": 14,
    "start_time": "2023-02-03T19:07:21.317Z"
   },
   {
    "duration": 13,
    "start_time": "2023-02-03T19:07:21.332Z"
   },
   {
    "duration": 5,
    "start_time": "2023-02-03T19:07:21.347Z"
   },
   {
    "duration": 29,
    "start_time": "2023-02-03T19:07:21.353Z"
   },
   {
    "duration": 12,
    "start_time": "2023-02-03T19:07:21.384Z"
   },
   {
    "duration": 12,
    "start_time": "2023-02-03T19:07:21.398Z"
   },
   {
    "duration": 28,
    "start_time": "2023-02-03T19:07:21.411Z"
   },
   {
    "duration": 16,
    "start_time": "2023-02-03T19:07:21.440Z"
   },
   {
    "duration": 16,
    "start_time": "2023-02-03T19:07:21.459Z"
   },
   {
    "duration": 11,
    "start_time": "2023-02-03T19:07:21.476Z"
   },
   {
    "duration": 16,
    "start_time": "2023-02-03T19:07:21.488Z"
   },
   {
    "duration": 26,
    "start_time": "2023-02-03T19:07:21.506Z"
   },
   {
    "duration": 18,
    "start_time": "2023-02-03T19:07:21.533Z"
   },
   {
    "duration": 4,
    "start_time": "2023-02-03T19:07:21.552Z"
   },
   {
    "duration": 267,
    "start_time": "2023-02-03T19:07:21.558Z"
   },
   {
    "duration": 5,
    "start_time": "2023-02-03T19:07:21.827Z"
   },
   {
    "duration": 9,
    "start_time": "2023-02-03T19:07:21.834Z"
   },
   {
    "duration": 997,
    "start_time": "2023-02-03T19:07:21.844Z"
   },
   {
    "duration": 6,
    "start_time": "2023-02-03T19:07:47.184Z"
   },
   {
    "duration": 4,
    "start_time": "2023-02-03T19:08:44.218Z"
   },
   {
    "duration": 4,
    "start_time": "2023-02-03T19:09:55.624Z"
   },
   {
    "duration": 6,
    "start_time": "2023-02-03T19:16:50.244Z"
   }
  ],
  "colab": {
   "provenance": []
  },
  "kernelspec": {
   "display_name": "Python 3 (ipykernel)",
   "language": "python",
   "name": "python3"
  },
  "language_info": {
   "codemirror_mode": {
    "name": "ipython",
    "version": 3
   },
   "file_extension": ".py",
   "mimetype": "text/x-python",
   "name": "python",
   "nbconvert_exporter": "python",
   "pygments_lexer": "ipython3",
   "version": "3.9.5"
  },
  "toc": {
   "base_numbering": 1,
   "nav_menu": {},
   "number_sections": true,
   "sideBar": true,
   "skip_h1_title": true,
   "title_cell": "Table of Contents",
   "title_sidebar": "Contents",
   "toc_cell": false,
   "toc_position": {},
   "toc_section_display": true,
   "toc_window_display": false
  }
 },
 "nbformat": 4,
 "nbformat_minor": 5
}
