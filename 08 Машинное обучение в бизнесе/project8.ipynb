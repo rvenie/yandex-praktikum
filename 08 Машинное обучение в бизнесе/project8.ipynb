{
 "cells": [
  {
   "cell_type": "markdown",
   "metadata": {
    "id": "CsimtdbCB339"
   },
   "source": [
    "Описание проекта\n",
    "\n",
    "Допустим, вы работаете в добывающей компании «ГлавРосГосНефть». Нужно решить, где бурить новую скважину. \n",
    "\n",
    "Шаги для выбора локации обычно такие:\n",
    "\n",
    "* В избранном регионе собирают характеристики для скважин: качество нефти и объём её запасов;\n",
    "* Строят модель для предсказания объёма запасов в новых скважинах;\n",
    "* Выбирают скважины с самыми высокими оценками значений;\n",
    "* Определяют регион с максимальной суммарной прибылью отобранных скважин.\n",
    "\n",
    "Вам предоставлены пробы нефти в трёх регионах. Характеристики для каждой скважины в регионе уже известны. Постройте модель для определения региона, где добыча принесёт наибольшую прибыль. Проанализируйте возможную прибыль и риски техникой Bootstrap."
   ]
  },
  {
   "cell_type": "code",
   "execution_count": 25,
   "metadata": {
    "id": "C5PaJo9gB2MI"
   },
   "outputs": [],
   "source": [
    "# импорт необходимых для проекта библиотек\n",
    "import pandas as pd\n",
    "import numpy as np\n",
    "import seaborn as sns\n",
    "import matplotlib.pyplot as plt\n",
    "from scipy import stats as st \n",
    "import os\n",
    "\n",
    "from sklearn.model_selection import train_test_split\n",
    "from sklearn.metrics import mean_squared_error\n",
    "from sklearn.linear_model import LinearRegression\n",
    "from sklearn.preprocessing import StandardScaler"
   ]
  },
  {
   "cell_type": "code",
   "execution_count": 26,
   "metadata": {
    "id": "qkdk8WqLTX98"
   },
   "outputs": [],
   "source": [
    "# Согласно условиям задачи\n",
    "BUDGET = 10e9\n",
    "PRICE_PER_UNIT = 450000\n",
    "ALL_UNITS = 500\n",
    "TOP_UNITS = 200\n",
    "REQUIRED_VOLUME = BUDGET / PRICE_PER_UNIT / TOP_UNITS"
   ]
  },
  {
   "cell_type": "markdown",
   "metadata": {
    "id": "7Z33K2J1Hsw5"
   },
   "source": [
    "# Загрузите и подготовьте данные. Поясните порядок действий.\n"
   ]
  },
  {
   "cell_type": "code",
   "execution_count": 27,
   "metadata": {
    "colab": {
     "base_uri": "https://localhost:8080/",
     "height": 1000
    },
    "id": "tQRUUrgNBu12",
    "outputId": "4bc48a6d-9ceb-4615-c7ef-048264fa31d2"
   },
   "outputs": [
    {
     "name": "stdout",
     "output_type": "stream",
     "text": [
      "<class 'pandas.core.frame.DataFrame'>\n",
      "RangeIndex: 100000 entries, 0 to 99999\n",
      "Data columns (total 5 columns):\n",
      " #   Column   Non-Null Count   Dtype  \n",
      "---  ------   --------------   -----  \n",
      " 0   id       100000 non-null  object \n",
      " 1   f0       100000 non-null  float64\n",
      " 2   f1       100000 non-null  float64\n",
      " 3   f2       100000 non-null  float64\n",
      " 4   product  100000 non-null  float64\n",
      "dtypes: float64(4), object(1)\n",
      "memory usage: 3.8+ MB\n"
     ]
    },
    {
     "data": {
      "text/plain": [
       "None"
      ]
     },
     "metadata": {},
     "output_type": "display_data"
    },
    {
     "name": "stdout",
     "output_type": "stream",
     "text": [
      "<class 'pandas.core.frame.DataFrame'>\n",
      "RangeIndex: 100000 entries, 0 to 99999\n",
      "Data columns (total 5 columns):\n",
      " #   Column   Non-Null Count   Dtype  \n",
      "---  ------   --------------   -----  \n",
      " 0   id       100000 non-null  object \n",
      " 1   f0       100000 non-null  float64\n",
      " 2   f1       100000 non-null  float64\n",
      " 3   f2       100000 non-null  float64\n",
      " 4   product  100000 non-null  float64\n",
      "dtypes: float64(4), object(1)\n",
      "memory usage: 3.8+ MB\n"
     ]
    },
    {
     "data": {
      "text/plain": [
       "None"
      ]
     },
     "metadata": {},
     "output_type": "display_data"
    },
    {
     "name": "stdout",
     "output_type": "stream",
     "text": [
      "<class 'pandas.core.frame.DataFrame'>\n",
      "RangeIndex: 100000 entries, 0 to 99999\n",
      "Data columns (total 5 columns):\n",
      " #   Column   Non-Null Count   Dtype  \n",
      "---  ------   --------------   -----  \n",
      " 0   id       100000 non-null  object \n",
      " 1   f0       100000 non-null  float64\n",
      " 2   f1       100000 non-null  float64\n",
      " 3   f2       100000 non-null  float64\n",
      " 4   product  100000 non-null  float64\n",
      "dtypes: float64(4), object(1)\n",
      "memory usage: 3.8+ MB\n"
     ]
    },
    {
     "data": {
      "text/plain": [
       "None"
      ]
     },
     "metadata": {},
     "output_type": "display_data"
    },
    {
     "data": {
      "text/html": [
       "<div>\n",
       "<style scoped>\n",
       "    .dataframe tbody tr th:only-of-type {\n",
       "        vertical-align: middle;\n",
       "    }\n",
       "\n",
       "    .dataframe tbody tr th {\n",
       "        vertical-align: top;\n",
       "    }\n",
       "\n",
       "    .dataframe thead th {\n",
       "        text-align: right;\n",
       "    }\n",
       "</style>\n",
       "<table border=\"1\" class=\"dataframe\">\n",
       "  <thead>\n",
       "    <tr style=\"text-align: right;\">\n",
       "      <th></th>\n",
       "      <th>f0</th>\n",
       "      <th>f1</th>\n",
       "      <th>f2</th>\n",
       "      <th>product</th>\n",
       "    </tr>\n",
       "  </thead>\n",
       "  <tbody>\n",
       "    <tr>\n",
       "      <th>count</th>\n",
       "      <td>100000.000000</td>\n",
       "      <td>100000.000000</td>\n",
       "      <td>100000.000000</td>\n",
       "      <td>100000.000000</td>\n",
       "    </tr>\n",
       "    <tr>\n",
       "      <th>mean</th>\n",
       "      <td>0.500419</td>\n",
       "      <td>0.250143</td>\n",
       "      <td>2.502647</td>\n",
       "      <td>92.500000</td>\n",
       "    </tr>\n",
       "    <tr>\n",
       "      <th>std</th>\n",
       "      <td>0.871832</td>\n",
       "      <td>0.504433</td>\n",
       "      <td>3.248248</td>\n",
       "      <td>44.288691</td>\n",
       "    </tr>\n",
       "    <tr>\n",
       "      <th>min</th>\n",
       "      <td>-1.408605</td>\n",
       "      <td>-0.848218</td>\n",
       "      <td>-12.088328</td>\n",
       "      <td>0.000000</td>\n",
       "    </tr>\n",
       "    <tr>\n",
       "      <th>25%</th>\n",
       "      <td>-0.072580</td>\n",
       "      <td>-0.200881</td>\n",
       "      <td>0.287748</td>\n",
       "      <td>56.497507</td>\n",
       "    </tr>\n",
       "    <tr>\n",
       "      <th>50%</th>\n",
       "      <td>0.502360</td>\n",
       "      <td>0.250252</td>\n",
       "      <td>2.515969</td>\n",
       "      <td>91.849972</td>\n",
       "    </tr>\n",
       "    <tr>\n",
       "      <th>75%</th>\n",
       "      <td>1.073581</td>\n",
       "      <td>0.700646</td>\n",
       "      <td>4.715088</td>\n",
       "      <td>128.564089</td>\n",
       "    </tr>\n",
       "    <tr>\n",
       "      <th>max</th>\n",
       "      <td>2.362331</td>\n",
       "      <td>1.343769</td>\n",
       "      <td>16.003790</td>\n",
       "      <td>185.364347</td>\n",
       "    </tr>\n",
       "  </tbody>\n",
       "</table>\n",
       "</div>"
      ],
      "text/plain": [
       "                  f0             f1             f2        product\n",
       "count  100000.000000  100000.000000  100000.000000  100000.000000\n",
       "mean        0.500419       0.250143       2.502647      92.500000\n",
       "std         0.871832       0.504433       3.248248      44.288691\n",
       "min        -1.408605      -0.848218     -12.088328       0.000000\n",
       "25%        -0.072580      -0.200881       0.287748      56.497507\n",
       "50%         0.502360       0.250252       2.515969      91.849972\n",
       "75%         1.073581       0.700646       4.715088     128.564089\n",
       "max         2.362331       1.343769      16.003790     185.364347"
      ]
     },
     "metadata": {},
     "output_type": "display_data"
    },
    {
     "data": {
      "text/html": [
       "<div>\n",
       "<style scoped>\n",
       "    .dataframe tbody tr th:only-of-type {\n",
       "        vertical-align: middle;\n",
       "    }\n",
       "\n",
       "    .dataframe tbody tr th {\n",
       "        vertical-align: top;\n",
       "    }\n",
       "\n",
       "    .dataframe thead th {\n",
       "        text-align: right;\n",
       "    }\n",
       "</style>\n",
       "<table border=\"1\" class=\"dataframe\">\n",
       "  <thead>\n",
       "    <tr style=\"text-align: right;\">\n",
       "      <th></th>\n",
       "      <th>f0</th>\n",
       "      <th>f1</th>\n",
       "      <th>f2</th>\n",
       "      <th>product</th>\n",
       "    </tr>\n",
       "  </thead>\n",
       "  <tbody>\n",
       "    <tr>\n",
       "      <th>count</th>\n",
       "      <td>100000.000000</td>\n",
       "      <td>100000.000000</td>\n",
       "      <td>100000.000000</td>\n",
       "      <td>100000.000000</td>\n",
       "    </tr>\n",
       "    <tr>\n",
       "      <th>mean</th>\n",
       "      <td>1.141296</td>\n",
       "      <td>-4.796579</td>\n",
       "      <td>2.494541</td>\n",
       "      <td>68.825000</td>\n",
       "    </tr>\n",
       "    <tr>\n",
       "      <th>std</th>\n",
       "      <td>8.965932</td>\n",
       "      <td>5.119872</td>\n",
       "      <td>1.703572</td>\n",
       "      <td>45.944423</td>\n",
       "    </tr>\n",
       "    <tr>\n",
       "      <th>min</th>\n",
       "      <td>-31.609576</td>\n",
       "      <td>-26.358598</td>\n",
       "      <td>-0.018144</td>\n",
       "      <td>0.000000</td>\n",
       "    </tr>\n",
       "    <tr>\n",
       "      <th>25%</th>\n",
       "      <td>-6.298551</td>\n",
       "      <td>-8.267985</td>\n",
       "      <td>1.000021</td>\n",
       "      <td>26.953261</td>\n",
       "    </tr>\n",
       "    <tr>\n",
       "      <th>50%</th>\n",
       "      <td>1.153055</td>\n",
       "      <td>-4.813172</td>\n",
       "      <td>2.011479</td>\n",
       "      <td>57.085625</td>\n",
       "    </tr>\n",
       "    <tr>\n",
       "      <th>75%</th>\n",
       "      <td>8.621015</td>\n",
       "      <td>-1.332816</td>\n",
       "      <td>3.999904</td>\n",
       "      <td>107.813044</td>\n",
       "    </tr>\n",
       "    <tr>\n",
       "      <th>max</th>\n",
       "      <td>29.421755</td>\n",
       "      <td>18.734063</td>\n",
       "      <td>5.019721</td>\n",
       "      <td>137.945408</td>\n",
       "    </tr>\n",
       "  </tbody>\n",
       "</table>\n",
       "</div>"
      ],
      "text/plain": [
       "                  f0             f1             f2        product\n",
       "count  100000.000000  100000.000000  100000.000000  100000.000000\n",
       "mean        1.141296      -4.796579       2.494541      68.825000\n",
       "std         8.965932       5.119872       1.703572      45.944423\n",
       "min       -31.609576     -26.358598      -0.018144       0.000000\n",
       "25%        -6.298551      -8.267985       1.000021      26.953261\n",
       "50%         1.153055      -4.813172       2.011479      57.085625\n",
       "75%         8.621015      -1.332816       3.999904     107.813044\n",
       "max        29.421755      18.734063       5.019721     137.945408"
      ]
     },
     "metadata": {},
     "output_type": "display_data"
    },
    {
     "data": {
      "text/html": [
       "<div>\n",
       "<style scoped>\n",
       "    .dataframe tbody tr th:only-of-type {\n",
       "        vertical-align: middle;\n",
       "    }\n",
       "\n",
       "    .dataframe tbody tr th {\n",
       "        vertical-align: top;\n",
       "    }\n",
       "\n",
       "    .dataframe thead th {\n",
       "        text-align: right;\n",
       "    }\n",
       "</style>\n",
       "<table border=\"1\" class=\"dataframe\">\n",
       "  <thead>\n",
       "    <tr style=\"text-align: right;\">\n",
       "      <th></th>\n",
       "      <th>f0</th>\n",
       "      <th>f1</th>\n",
       "      <th>f2</th>\n",
       "      <th>product</th>\n",
       "    </tr>\n",
       "  </thead>\n",
       "  <tbody>\n",
       "    <tr>\n",
       "      <th>count</th>\n",
       "      <td>100000.000000</td>\n",
       "      <td>100000.000000</td>\n",
       "      <td>100000.000000</td>\n",
       "      <td>100000.000000</td>\n",
       "    </tr>\n",
       "    <tr>\n",
       "      <th>mean</th>\n",
       "      <td>0.002023</td>\n",
       "      <td>-0.002081</td>\n",
       "      <td>2.495128</td>\n",
       "      <td>95.000000</td>\n",
       "    </tr>\n",
       "    <tr>\n",
       "      <th>std</th>\n",
       "      <td>1.732045</td>\n",
       "      <td>1.730417</td>\n",
       "      <td>3.473445</td>\n",
       "      <td>44.749921</td>\n",
       "    </tr>\n",
       "    <tr>\n",
       "      <th>min</th>\n",
       "      <td>-8.760004</td>\n",
       "      <td>-7.084020</td>\n",
       "      <td>-11.970335</td>\n",
       "      <td>0.000000</td>\n",
       "    </tr>\n",
       "    <tr>\n",
       "      <th>25%</th>\n",
       "      <td>-1.162288</td>\n",
       "      <td>-1.174820</td>\n",
       "      <td>0.130359</td>\n",
       "      <td>59.450441</td>\n",
       "    </tr>\n",
       "    <tr>\n",
       "      <th>50%</th>\n",
       "      <td>0.009424</td>\n",
       "      <td>-0.009482</td>\n",
       "      <td>2.484236</td>\n",
       "      <td>94.925613</td>\n",
       "    </tr>\n",
       "    <tr>\n",
       "      <th>75%</th>\n",
       "      <td>1.158535</td>\n",
       "      <td>1.163678</td>\n",
       "      <td>4.858794</td>\n",
       "      <td>130.595027</td>\n",
       "    </tr>\n",
       "    <tr>\n",
       "      <th>max</th>\n",
       "      <td>7.238262</td>\n",
       "      <td>7.844801</td>\n",
       "      <td>16.739402</td>\n",
       "      <td>190.029838</td>\n",
       "    </tr>\n",
       "  </tbody>\n",
       "</table>\n",
       "</div>"
      ],
      "text/plain": [
       "                  f0             f1             f2        product\n",
       "count  100000.000000  100000.000000  100000.000000  100000.000000\n",
       "mean        0.002023      -0.002081       2.495128      95.000000\n",
       "std         1.732045       1.730417       3.473445      44.749921\n",
       "min        -8.760004      -7.084020     -11.970335       0.000000\n",
       "25%        -1.162288      -1.174820       0.130359      59.450441\n",
       "50%         0.009424      -0.009482       2.484236      94.925613\n",
       "75%         1.158535       1.163678       4.858794     130.595027\n",
       "max         7.238262       7.844801      16.739402     190.029838"
      ]
     },
     "metadata": {},
     "output_type": "display_data"
    }
   ],
   "source": [
    "# импорт файлов из предполагаемых директорий\n",
    "pth1 = '/datasets/geo_data_0.csv'\n",
    "pth2 = '/datasets/geo_data_1.csv'\n",
    "pth3 = '/datasets/geo_data_2.csv'\n",
    "pth4= '/content/drive/MyDrive/Colab Notebooks/datasets/geo_data_0.csv'\n",
    "pth5 = '/content/drive/MyDrive/Colab Notebooks/datasets/geo_data_1.csv'\n",
    "pth6 = '/content/drive/MyDrive/Colab Notebooks/datasets/geo_data_2.csv'\n",
    "\n",
    "if os.path.exists(pth1):\n",
    "    df1 = pd.read_csv(pth1)\n",
    "    df2 = pd.read_csv(pth2)\n",
    "    df3 = pd.read_csv(pth3)\n",
    "elif os.path.exists(pth4):\n",
    "    df1 = pd.read_csv(pth4)\n",
    "    df2 = pd.read_csv(pth5)\n",
    "    df3 = pd.read_csv(pth6)\n",
    "\n",
    "else:\n",
    "    print(\"Проверьте правильность пути к датасету\")\n",
    "# краткий обзор датасета\n",
    "display(df1.info())\n",
    "display(df2.info())\n",
    "display(df3.info())\n",
    "display(df1.describe())\n",
    "display(df2.describe())\n",
    "display(df3.describe())"
   ]
  },
  {
   "cell_type": "code",
   "execution_count": 28,
   "metadata": {
    "colab": {
     "base_uri": "https://localhost:8080/"
    },
    "id": "vm3wqwj3JuX4",
    "outputId": "9c726a0a-c1bd-4828-c0f3-9b76172213c7"
   },
   "outputs": [
    {
     "name": "stdout",
     "output_type": "stream",
     "text": [
      "Empty DataFrame\n",
      "Columns: [id, f0, f1, f2, product]\n",
      "Index: []\n",
      "Empty DataFrame\n",
      "Columns: [id, f0, f1, f2, product]\n",
      "Index: []\n",
      "Empty DataFrame\n",
      "Columns: [id, f0, f1, f2, product]\n",
      "Index: []\n"
     ]
    }
   ],
   "source": [
    "# Проверям нет ли повторов в датасетах\n",
    "for data in [df1,df2,df3]:\n",
    "  print(data[data.duplicated()] == True)\n"
   ]
  },
  {
   "cell_type": "markdown",
   "metadata": {
    "id": "ngZ9zskjHo3h"
   },
   "source": [
    "# Обучите и проверьте модель для каждого региона:\n",
    "\n"
   ]
  },
  {
   "cell_type": "markdown",
   "metadata": {
    "id": "i3wdQzomHyfV"
   },
   "source": [
    "## 2.1. Разбейте данные на обучающую и валидационную выборки в соотношении 75:25.\n",
    "## 2.2. Обучите модель и сделайте предсказания на валидационной выборке\n"
   ]
  },
  {
   "cell_type": "code",
   "execution_count": 29,
   "metadata": {
    "id": "yXjHWUBHH4x_"
   },
   "outputs": [],
   "source": [
    "def model(df):\n",
    "    # Подготовливаем данные\n",
    "    features = df.drop(['product', 'id'], axis=1)\n",
    "    target = df['product']\n",
    "    # Создаем тренировочную и валидационной выборки\n",
    "    features_train, features_valid, target_train, target_valid= train_test_split(features, target, test_size=0.25, random_state=12345)\n",
    "    display('Тренировочная выборка:', features_train.shape)\n",
    "    display('Валидационная выборка:', features_valid.shape)\n",
    "    # Масштабируем признаки\n",
    "    scaler = StandardScaler()\n",
    "    scaler.fit(features_train)\n",
    "    features_train = scaler.transform(features_train)\n",
    "    features_valid = scaler.transform(features_valid)\n",
    "    # Обучаем модель\n",
    "    model = LinearRegression()\n",
    "    model.fit(features_train, target_train)\n",
    "    predicted_valid = model.predict(features_valid)\n",
    "    predicted_valid = pd.Series(predicted_valid)\n",
    "    # Расчет среднего запаса\n",
    "    avg_predicted = predicted_valid.mean()\n",
    "    print(\"Средний запас предсказанного сырья:\", avg_predicted)\n",
    "    # Расчет RMSE\n",
    "    rmse = mean_squared_error(target_valid, predicted_valid)**0.5\n",
    "    print(\"RMSE модели:\", rmse)\n",
    "    # Предскзаывание на константной модели\n",
    "    const_model_predict = pd.Series(target_train.mean(), index=target_valid.index) \n",
    "    rmse = mean_squared_error(target_valid, const_model_predict) ** 0.5\n",
    "    print(\"RMSE константной модели =\", rmse)\n",
    "  \n",
    "    return predicted_valid.reset_index(drop=True), target_valid.reset_index(drop=True)\n",
    "\n"
   ]
  },
  {
   "cell_type": "markdown",
   "metadata": {
    "id": "JVDPkFl_jH_0"
   },
   "source": [
    "##  2.3. Сохраните предсказания и правильные ответы на валидационной выборке.\n",
    "##  2.4. Напечатайте на экране средний запас предсказанного сырья и RMSE модели.\n"
   ]
  },
  {
   "cell_type": "code",
   "execution_count": 30,
   "metadata": {
    "colab": {
     "base_uri": "https://localhost:8080/",
     "height": 477
    },
    "id": "0H1cKarwjS2x",
    "outputId": "2f7f13f5-e99b-4994-fd98-5c8558a5ebe9"
   },
   "outputs": [
    {
     "name": "stdout",
     "output_type": "stream",
     "text": [
      "Первый регион\n"
     ]
    },
    {
     "data": {
      "text/plain": [
       "'Тренировочная выборка:'"
      ]
     },
     "metadata": {},
     "output_type": "display_data"
    },
    {
     "data": {
      "text/plain": [
       "(75000, 3)"
      ]
     },
     "metadata": {},
     "output_type": "display_data"
    },
    {
     "data": {
      "text/plain": [
       "'Валидационная выборка:'"
      ]
     },
     "metadata": {},
     "output_type": "display_data"
    },
    {
     "data": {
      "text/plain": [
       "(25000, 3)"
      ]
     },
     "metadata": {},
     "output_type": "display_data"
    },
    {
     "name": "stdout",
     "output_type": "stream",
     "text": [
      "Средний запас предсказанного сырья: 92.59256778438035\n",
      "RMSE модели: 37.5794217150813\n",
      "RMSE константной модели = 44.289591053907365\n",
      "\n",
      "Второй регион\n"
     ]
    },
    {
     "data": {
      "text/plain": [
       "'Тренировочная выборка:'"
      ]
     },
     "metadata": {},
     "output_type": "display_data"
    },
    {
     "data": {
      "text/plain": [
       "(75000, 3)"
      ]
     },
     "metadata": {},
     "output_type": "display_data"
    },
    {
     "data": {
      "text/plain": [
       "'Валидационная выборка:'"
      ]
     },
     "metadata": {},
     "output_type": "display_data"
    },
    {
     "data": {
      "text/plain": [
       "(25000, 3)"
      ]
     },
     "metadata": {},
     "output_type": "display_data"
    },
    {
     "name": "stdout",
     "output_type": "stream",
     "text": [
      "Средний запас предсказанного сырья: 68.728546895446\n",
      "RMSE модели: 0.893099286775617\n",
      "RMSE константной модели = 46.02144533725462\n",
      "\n",
      "Третий регион\n"
     ]
    },
    {
     "data": {
      "text/plain": [
       "'Тренировочная выборка:'"
      ]
     },
     "metadata": {},
     "output_type": "display_data"
    },
    {
     "data": {
      "text/plain": [
       "(75000, 3)"
      ]
     },
     "metadata": {},
     "output_type": "display_data"
    },
    {
     "data": {
      "text/plain": [
       "'Валидационная выборка:'"
      ]
     },
     "metadata": {},
     "output_type": "display_data"
    },
    {
     "data": {
      "text/plain": [
       "(25000, 3)"
      ]
     },
     "metadata": {},
     "output_type": "display_data"
    },
    {
     "name": "stdout",
     "output_type": "stream",
     "text": [
      "Средний запас предсказанного сырья: 94.96504596800489\n",
      "RMSE модели: 40.02970873393434\n",
      "RMSE константной модели = 44.90234968510566\n"
     ]
    }
   ],
   "source": [
    "print('Первый регион')\n",
    "predicted_valid_1, target_valid_1 = model(df1)\n",
    "print()\n",
    "print('Второй регион')\n",
    "predicted_valid_2, target_valid_2 = model(df2)\n",
    "print()\n",
    "print('Третий регион')\n",
    "predicted_valid_3, target_valid_3 = model(df3)"
   ]
  },
  {
   "cell_type": "markdown",
   "metadata": {
    "id": "C_Z3-fr56LQ1"
   },
   "source": [
    " ## 2.5. Проанализируйте результаты."
   ]
  },
  {
   "cell_type": "markdown",
   "metadata": {
    "id": "f8RiiXP07dsB"
   },
   "source": [
    "RMSE моделей значительно больше константных моделей, что сообщает нам, что модель не обучилась достаточно хорошо и плохо выявляет закономерности в данных. Исключением является модель, обучавшаяся на данных **второго региона**."
   ]
  },
  {
   "cell_type": "markdown",
   "metadata": {
    "id": "bQYX60Qg8EPG"
   },
   "source": [
    "# Подготовьтесь к расчёту прибыли:\n"
   ]
  },
  {
   "cell_type": "markdown",
   "metadata": {
    "id": "WcmNUA7yTYkh"
   },
   "source": [
    "## 3.1. Все ключевые значения для расчётов сохранены в отдельных переменных."
   ]
  },
  {
   "cell_type": "markdown",
   "metadata": {
    "id": "SzxnWvbT8HYl"
   },
   "source": [
    "\n",
    "## 3.2. Рассчитайте достаточный объём сырья для безубыточной разработки новой скважины. Сравните полученный объём сырья со средним запасом в каждом регионе.\n"
   ]
  },
  {
   "cell_type": "code",
   "execution_count": 31,
   "metadata": {
    "colab": {
     "base_uri": "https://localhost:8080/"
    },
    "id": "SyjiGDXu8G_A",
    "outputId": "2d09f794-5572-4724-92ac-ccea50f0606a"
   },
   "outputs": [
    {
     "name": "stdout",
     "output_type": "stream",
     "text": [
      "Достаточный объем сырья для безубыточной разработки новой скважины: 111.11111111111111\n",
      "Средний запас в регионе 1: 92.50000000000001\n",
      "Средний запас в регионе 2: 68.82500000000002\n",
      "Средний запас в регионе 3: 95.00000000000004\n"
     ]
    }
   ],
   "source": [
    "\n",
    "print('Достаточный объем сырья для безубыточной разработки новой скважины:', REQUIRED_VOLUME)\n",
    "print('Средний запас в регионе 1:', df1['product'].mean())\n",
    "print('Средний запас в регионе 2:', df2['product'].mean())\n",
    "print('Средний запас в регионе 3:', df3['product'].mean())"
   ]
  },
  {
   "cell_type": "markdown",
   "metadata": {
    "id": "EfAkEdTAM9kb"
   },
   "source": [
    "##  3.3. Напишите выводы по этапу подготовки расчёта прибыли.\n",
    "\n"
   ]
  },
  {
   "cell_type": "markdown",
   "metadata": {
    "id": "OdII-rpfWwa3"
   },
   "source": [
    "Cредние запасы в регионах не соответствуют соответствуют рассчитаному уровню безубыточности."
   ]
  },
  {
   "cell_type": "markdown",
   "metadata": {
    "id": "kwZ_9S3sVxmz"
   },
   "source": [
    "# Напишите функцию для расчёта прибыли по выбранным скважинам и предсказаниям модели:"
   ]
  },
  {
   "cell_type": "markdown",
   "metadata": {
    "id": "_z3th3N-V-ZX"
   },
   "source": [
    "Рассчитать прибыль для выбранных скважин с максимальными предсказаниями. "
   ]
  },
  {
   "cell_type": "code",
   "execution_count": 32,
   "metadata": {
    "colab": {
     "base_uri": "https://localhost:8080/"
    },
    "id": "ySJd48RdWCFn",
    "outputId": "c606b2a7-7678-49a5-9d1b-970935ea1ce9"
   },
   "outputs": [
    {
     "name": "stdout",
     "output_type": "stream",
     "text": [
      "Прибыль для региона 1: 3320826043.1398506\n",
      "Прибыль для региона 2: 2415086696.681511\n",
      "Прибыль для региона 3: 2710349963.5998325\n"
     ]
    }
   ],
   "source": [
    "def profit(target, predicted):\n",
    "    #4.1 Выберите скважины с максимальными значениями предсказаний. \n",
    "    top_pred = predicted.sort_values(ascending=False)[:TOP_UNITS] # для 200\n",
    "    # 4.2. Просуммируйте целевое значение объёма сырья, соответствующее этим предсказаниям.   \n",
    "    sum_target = target[top_pred.index].sum()\n",
    "    # 4.3. Рассчитайте прибыль для полученного объёма сырья\n",
    "    profit = sum_target * PRICE_PER_UNIT - BUDGET\n",
    "    return profit\n",
    "\n",
    "print('Прибыль для региона 1:', profit(target_valid_1, predicted_valid_1))\n",
    "print('Прибыль для региона 2:', profit(target_valid_2, predicted_valid_2))\n",
    "print('Прибыль для региона 3:', profit(target_valid_3, predicted_valid_3))"
   ]
  },
  {
   "cell_type": "markdown",
   "metadata": {
    "id": "VLH9A-RvlHxi"
   },
   "source": [
    "# 5. Посчитайте риски и прибыль для каждого региона:\n"
   ]
  },
  {
   "cell_type": "markdown",
   "metadata": {
    "id": "ricPZz-9Bszb"
   },
   "source": [
    "## 5.1. + 5.2. Примените технику Bootstrap с 1000 выборок, чтобы найти распределение прибыли. Найдите среднюю прибыль, 95%-й доверительный интервал и риск убытков. Убыток — это отрицательная прибыль."
   ]
  },
  {
   "cell_type": "code",
   "execution_count": 33,
   "metadata": {
    "colab": {
     "base_uri": "https://localhost:8080/",
     "height": 142
    },
    "id": "G4VcOqEfNX0H",
    "outputId": "04920908-1d43-436e-da60-b90923db1895"
   },
   "outputs": [
    {
     "data": {
      "text/html": [
       "<div>\n",
       "<style scoped>\n",
       "    .dataframe tbody tr th:only-of-type {\n",
       "        vertical-align: middle;\n",
       "    }\n",
       "\n",
       "    .dataframe tbody tr th {\n",
       "        vertical-align: top;\n",
       "    }\n",
       "\n",
       "    .dataframe thead th {\n",
       "        text-align: right;\n",
       "    }\n",
       "</style>\n",
       "<table border=\"1\" class=\"dataframe\">\n",
       "  <thead>\n",
       "    <tr style=\"text-align: right;\">\n",
       "      <th></th>\n",
       "      <th>Регион</th>\n",
       "      <th>Средняя прибыль</th>\n",
       "      <th>95-% доверительный интервал</th>\n",
       "      <th>Риск убытка</th>\n",
       "    </tr>\n",
       "  </thead>\n",
       "  <tbody>\n",
       "    <tr>\n",
       "      <th>0</th>\n",
       "      <td>1</td>\n",
       "      <td>5.867268e+08</td>\n",
       "      <td>(-23098498.171101615, 1189482667.2667706)</td>\n",
       "      <td>0.027</td>\n",
       "    </tr>\n",
       "    <tr>\n",
       "      <th>1</th>\n",
       "      <td>2</td>\n",
       "      <td>6.626946e+08</td>\n",
       "      <td>(141539735.44347674, 1208722487.7387738)</td>\n",
       "      <td>0.007</td>\n",
       "    </tr>\n",
       "    <tr>\n",
       "      <th>2</th>\n",
       "      <td>3</td>\n",
       "      <td>6.217730e+08</td>\n",
       "      <td>(5046868.11313715, 1243004614.896015)</td>\n",
       "      <td>0.021</td>\n",
       "    </tr>\n",
       "  </tbody>\n",
       "</table>\n",
       "</div>"
      ],
      "text/plain": [
       "   Регион  Средняя прибыль                95-% доверительный интервал  \\\n",
       "0       1     5.867268e+08  (-23098498.171101615, 1189482667.2667706)   \n",
       "1       2     6.626946e+08   (141539735.44347674, 1208722487.7387738)   \n",
       "2       3     6.217730e+08      (5046868.11313715, 1243004614.896015)   \n",
       "\n",
       "   Риск убытка  \n",
       "0        0.027  \n",
       "1        0.007  \n",
       "2        0.021  "
      ]
     },
     "execution_count": 33,
     "metadata": {},
     "output_type": "execute_result"
    }
   ],
   "source": [
    "state = np.random.RandomState(42)\n",
    "\n",
    "def find_conf_interval_and_loss_risk(predicted_valid, target_valid):\n",
    "    # 5.1. Примените технику Bootstrap с 1000 выборок, чтобы найти распределение прибыли.\n",
    "    # Cоздаем списк с 1000 значение - распределение прибыли\n",
    "    revenue = []\n",
    "    for i in range(1000):\n",
    "        target_sample = target_valid.sample(ALL_UNITS, replace=True, random_state=state)\n",
    "        predicted_sample = predicted_valid[target_sample.index]\n",
    "        revenue.append(profit(target_sample, predicted_sample))\n",
    "\n",
    "    revenue = pd.Series(revenue)\n",
    "\n",
    "    # 5.2 Найдите среднюю прибыль,\n",
    "    mean_revenue = revenue.mean()\n",
    "    # Определение границ 95%-го доверительного интервала,\n",
    "    lower = revenue.quantile(0.025)\n",
    "    higher = revenue.quantile(0.975)\n",
    "    # Риск убытков: как сумма убыточных выборок к общему числу выборок.\n",
    "    risk = (revenue < 0).sum() / 1000 \n",
    "\n",
    "    return ((lower, higher), mean_revenue, risk)\n",
    "\n",
    "\n",
    "table = []\n",
    "i = 1\n",
    "for preds, target in zip([predicted_valid_1, predicted_valid_2, predicted_valid_3], \n",
    "                         [target_valid_1, target_valid_2, target_valid_3]):\n",
    "    interval, mean_revenue, risk = find_conf_interval_and_loss_risk(preds, target)\n",
    "    row = {'Регион': i, \n",
    "           'Средняя прибыль': mean_revenue, \n",
    "           '95-% доверительный интервал': interval, \n",
    "           'Риск убытка': risk}\n",
    "    table.append(row)\n",
    "    i+=1\n",
    "pd.DataFrame(table)"
   ]
  },
  {
   "cell_type": "markdown",
   "metadata": {
    "id": "OL6vrUINlNHt"
   },
   "source": [
    "## 5.3. Напишите выводы: предложите регион для разработки скважин и обоснуйте выбор."
   ]
  },
  {
   "cell_type": "markdown",
   "metadata": {
    "id": "lgxfVC-LBNLE"
   },
   "source": [
    "Где бурить новую скважину?\n",
    "\n",
    "**Второй регион** показывает самый узкий доверительный интервал, а также минимальный риск убытка. Предполагаемая средняя прибыль в этом регионе так же выше остальных\n"
   ]
  }
 ],
 "metadata": {
  "ExecuteTimeLog": [
   {
    "duration": 2370,
    "start_time": "2023-06-06T11:07:10.733Z"
   },
   {
    "duration": 986,
    "start_time": "2023-06-06T11:07:13.105Z"
   },
   {
    "duration": 141,
    "start_time": "2023-06-06T11:07:14.092Z"
   },
   {
    "duration": 6,
    "start_time": "2023-06-06T11:07:14.236Z"
   },
   {
    "duration": 489,
    "start_time": "2023-06-06T11:07:14.244Z"
   },
   {
    "duration": 81,
    "start_time": "2023-06-06T11:07:14.737Z"
   },
   {
    "duration": 120,
    "start_time": "2023-06-06T11:07:14.822Z"
   },
   {
    "duration": 56,
    "start_time": "2023-06-06T11:07:14.944Z"
   },
   {
    "duration": 2806,
    "start_time": "2023-06-06T11:07:15.002Z"
   },
   {
    "duration": 12,
    "start_time": "2023-06-06T18:25:31.321Z"
   },
   {
    "duration": 48,
    "start_time": "2023-06-06T18:25:54.982Z"
   },
   {
    "duration": 1562,
    "start_time": "2023-06-06T18:26:03.895Z"
   },
   {
    "duration": 1076,
    "start_time": "2023-06-06T18:26:05.460Z"
   },
   {
    "duration": 163,
    "start_time": "2023-06-06T18:26:06.538Z"
   },
   {
    "duration": 6,
    "start_time": "2023-06-06T18:26:06.703Z"
   },
   {
    "duration": 636,
    "start_time": "2023-06-06T18:26:06.711Z"
   },
   {
    "duration": 4,
    "start_time": "2023-06-06T18:26:07.349Z"
   },
   {
    "duration": 115,
    "start_time": "2023-06-06T18:26:07.355Z"
   },
   {
    "duration": 19,
    "start_time": "2023-06-06T18:26:07.471Z"
   },
   {
    "duration": 3505,
    "start_time": "2023-06-06T18:26:07.491Z"
   },
   {
    "duration": 3,
    "start_time": "2023-06-06T18:38:19.499Z"
   },
   {
    "duration": 6,
    "start_time": "2023-06-06T18:38:23.102Z"
   },
   {
    "duration": 17,
    "start_time": "2023-06-06T18:38:42.853Z"
   },
   {
    "duration": 13,
    "start_time": "2023-06-06T18:40:15.891Z"
   },
   {
    "duration": 4,
    "start_time": "2023-06-06T18:43:44.932Z"
   },
   {
    "duration": 542,
    "start_time": "2023-06-06T18:43:44.938Z"
   },
   {
    "duration": 143,
    "start_time": "2023-06-06T18:43:45.482Z"
   },
   {
    "duration": 5,
    "start_time": "2023-06-06T18:43:45.627Z"
   },
   {
    "duration": 418,
    "start_time": "2023-06-06T18:43:45.646Z"
   },
   {
    "duration": 4,
    "start_time": "2023-06-06T18:43:46.146Z"
   },
   {
    "duration": 112,
    "start_time": "2023-06-06T18:43:46.152Z"
   },
   {
    "duration": 22,
    "start_time": "2023-06-06T18:43:46.266Z"
   },
   {
    "duration": 3560,
    "start_time": "2023-06-06T18:43:46.290Z"
   },
   {
    "duration": 3,
    "start_time": "2023-06-06T18:45:06.292Z"
   },
   {
    "duration": 38,
    "start_time": "2023-06-06T18:45:06.298Z"
   },
   {
    "duration": 619,
    "start_time": "2023-06-06T18:45:06.338Z"
   },
   {
    "duration": 143,
    "start_time": "2023-06-06T18:45:06.958Z"
   },
   {
    "duration": 6,
    "start_time": "2023-06-06T18:45:07.104Z"
   },
   {
    "duration": 450,
    "start_time": "2023-06-06T18:45:07.112Z"
   },
   {
    "duration": 89,
    "start_time": "2023-06-06T18:45:07.564Z"
   },
   {
    "duration": 129,
    "start_time": "2023-06-06T18:45:07.655Z"
   },
   {
    "duration": 3996,
    "start_time": "2023-06-06T18:45:07.785Z"
   }
  ],
  "colab": {
   "provenance": []
  },
  "kernelspec": {
   "display_name": "Python 3 (ipykernel)",
   "language": "python",
   "name": "python3"
  },
  "language_info": {
   "codemirror_mode": {
    "name": "ipython",
    "version": 3
   },
   "file_extension": ".py",
   "mimetype": "text/x-python",
   "name": "python",
   "nbconvert_exporter": "python",
   "pygments_lexer": "ipython3",
   "version": "3.9.5"
  },
  "toc": {
   "base_numbering": 1,
   "nav_menu": {},
   "number_sections": true,
   "sideBar": true,
   "skip_h1_title": true,
   "title_cell": "Table of Contents",
   "title_sidebar": "Contents",
   "toc_cell": false,
   "toc_position": {
    "height": "calc(100% - 180px)",
    "left": "10px",
    "top": "150px",
    "width": "261.4px"
   },
   "toc_section_display": true,
   "toc_window_display": true
  }
 },
 "nbformat": 4,
 "nbformat_minor": 1
}
