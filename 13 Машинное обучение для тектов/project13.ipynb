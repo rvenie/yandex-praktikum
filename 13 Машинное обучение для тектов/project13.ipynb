{
 "cells": [
  {
   "cell_type": "markdown",
   "id": "50e6b392-6c36-4583-8afa-a1ca6069bf00",
   "metadata": {
    "id": "50e6b392-6c36-4583-8afa-a1ca6069bf00"
   },
   "source": [
    "# Описание проекта"
   ]
  },
  {
   "cell_type": "markdown",
   "id": "24329ed0-a3bd-4ec1-a6f7-0b5ae65fc079",
   "metadata": {
    "id": "24329ed0-a3bd-4ec1-a6f7-0b5ae65fc079"
   },
   "source": [
    "Интернет-магазин «Викишоп» запускает новый сервис. Теперь пользователи могут редактировать и дополнять описания товаров, как в вики-сообществах. То есть клиенты предлагают свои правки и комментируют изменения других. Магазину нужен инструмент, который будет искать токсичные комментарии и отправлять их на модерацию.\n",
    "\n",
    "Обучите модель классифицировать комментарии на позитивные и негативные. В вашем распоряжении набор данных с разметкой о токсичности правок.\n",
    "\n",
    "Постройте модель со значением метрики качества F1 не меньше 0.75."
   ]
  },
  {
   "cell_type": "code",
   "execution_count": 6,
   "id": "2492b71c-06a0-4527-b938-749639e3ce79",
   "metadata": {
    "id": "2492b71c-06a0-4527-b938-749639e3ce79"
   },
   "outputs": [],
   "source": [
    "!pip install -q spacy catboost"
   ]
  },
  {
   "cell_type": "code",
   "execution_count": 1,
   "id": "86377ba9-1cf8-43ed-8b1c-ecfc8a4a2a64",
   "metadata": {
    "id": "86377ba9-1cf8-43ed-8b1c-ecfc8a4a2a64"
   },
   "outputs": [
    {
     "ename": "ModuleNotFoundError",
     "evalue": "No module named 'nltk'",
     "output_type": "error",
     "traceback": [
      "\u001b[0;31m---------------------------------------------------------------------------\u001b[0m",
      "\u001b[0;31mModuleNotFoundError\u001b[0m                       Traceback (most recent call last)",
      "\u001b[1;32m/Users/rvenie/Documents/projects/practicum_projects/all_projects/project10.ipynb Cell 7\u001b[0m line \u001b[0;36m3\n\u001b[1;32m      <a href='vscode-notebook-cell:/Users/rvenie/Documents/projects/practicum_projects/all_projects/project10.ipynb#W6sZmlsZQ%3D%3D?line=0'>1</a>\u001b[0m \u001b[39mimport\u001b[39;00m \u001b[39mnumpy\u001b[39;00m \u001b[39mas\u001b[39;00m \u001b[39mnp\u001b[39;00m\n\u001b[1;32m      <a href='vscode-notebook-cell:/Users/rvenie/Documents/projects/practicum_projects/all_projects/project10.ipynb#W6sZmlsZQ%3D%3D?line=1'>2</a>\u001b[0m \u001b[39mimport\u001b[39;00m \u001b[39mpandas\u001b[39;00m \u001b[39mas\u001b[39;00m \u001b[39mpd\u001b[39;00m\n\u001b[0;32m----> <a href='vscode-notebook-cell:/Users/rvenie/Documents/projects/practicum_projects/all_projects/project10.ipynb#W6sZmlsZQ%3D%3D?line=2'>3</a>\u001b[0m \u001b[39mimport\u001b[39;00m \u001b[39mnltk\u001b[39;00m\n\u001b[1;32m      <a href='vscode-notebook-cell:/Users/rvenie/Documents/projects/practicum_projects/all_projects/project10.ipynb#W6sZmlsZQ%3D%3D?line=3'>4</a>\u001b[0m \u001b[39mimport\u001b[39;00m \u001b[39mre\u001b[39;00m\n\u001b[1;32m      <a href='vscode-notebook-cell:/Users/rvenie/Documents/projects/practicum_projects/all_projects/project10.ipynb#W6sZmlsZQ%3D%3D?line=4'>5</a>\u001b[0m \u001b[39mfrom\u001b[39;00m \u001b[39mtqdm\u001b[39;00m\u001b[39m.\u001b[39;00m\u001b[39mnotebook\u001b[39;00m \u001b[39mimport\u001b[39;00m tqdm\n",
      "\u001b[0;31mModuleNotFoundError\u001b[0m: No module named 'nltk'"
     ]
    }
   ],
   "source": [
    "import numpy as np\n",
    "import pandas as pd\n",
    "import nltk\n",
    "import re\n",
    "from tqdm.notebook import tqdm\n",
    "tqdm.pandas()\n",
    "import spacy\n",
    "nlp = spacy.load(\"en_core_web_sm\", disable=['parser', 'ner'])\n",
    "from nltk.corpus import stopwords as nltk_stopwords\n",
    "from sklearn.model_selection import cross_val_score\n",
    "from sklearn.model_selection import train_test_split\n",
    "from sklearn.model_selection import GridSearchCV\n",
    "from sklearn.metrics import make_scorer, f1_score\n",
    "\n",
    "from sklearn.feature_extraction.text import TfidfVectorizer\n",
    "from sklearn.linear_model import LogisticRegression\n",
    "from sklearn.ensemble import RandomForestClassifier\n",
    "from catboost import CatBoostClassifier, Pool\n",
    "from sklearn.pipeline import Pipeline"
   ]
  },
  {
   "cell_type": "code",
   "execution_count": 8,
   "id": "f6df6e64-731a-4352-bb58-003baef311ee",
   "metadata": {
    "colab": {
     "base_uri": "https://localhost:8080/",
     "height": 390
    },
    "id": "f6df6e64-731a-4352-bb58-003baef311ee",
    "outputId": "f6a84c71-9212-4651-bd53-c8754f4e03e4"
   },
   "outputs": [
    {
     "data": {
      "text/html": [
       "<div>\n",
       "<style scoped>\n",
       "    .dataframe tbody tr th:only-of-type {\n",
       "        vertical-align: middle;\n",
       "    }\n",
       "\n",
       "    .dataframe tbody tr th {\n",
       "        vertical-align: top;\n",
       "    }\n",
       "\n",
       "    .dataframe thead th {\n",
       "        text-align: right;\n",
       "    }\n",
       "</style>\n",
       "<table border=\"1\" class=\"dataframe\">\n",
       "  <thead>\n",
       "    <tr style=\"text-align: right;\">\n",
       "      <th></th>\n",
       "      <th>Unnamed: 0</th>\n",
       "      <th>text</th>\n",
       "      <th>toxic</th>\n",
       "    </tr>\n",
       "  </thead>\n",
       "  <tbody>\n",
       "    <tr>\n",
       "      <th>0</th>\n",
       "      <td>0</td>\n",
       "      <td>Explanation\\nWhy the edits made under my usern...</td>\n",
       "      <td>0</td>\n",
       "    </tr>\n",
       "    <tr>\n",
       "      <th>1</th>\n",
       "      <td>1</td>\n",
       "      <td>D'aww! He matches this background colour I'm s...</td>\n",
       "      <td>0</td>\n",
       "    </tr>\n",
       "    <tr>\n",
       "      <th>2</th>\n",
       "      <td>2</td>\n",
       "      <td>Hey man, I'm really not trying to edit war. It...</td>\n",
       "      <td>0</td>\n",
       "    </tr>\n",
       "    <tr>\n",
       "      <th>3</th>\n",
       "      <td>3</td>\n",
       "      <td>\"\\nMore\\nI can't make any real suggestions on ...</td>\n",
       "      <td>0</td>\n",
       "    </tr>\n",
       "    <tr>\n",
       "      <th>4</th>\n",
       "      <td>4</td>\n",
       "      <td>You, sir, are my hero. Any chance you remember...</td>\n",
       "      <td>0</td>\n",
       "    </tr>\n",
       "  </tbody>\n",
       "</table>\n",
       "</div>"
      ],
      "text/plain": [
       "   Unnamed: 0                                               text  toxic\n",
       "0           0  Explanation\\nWhy the edits made under my usern...      0\n",
       "1           1  D'aww! He matches this background colour I'm s...      0\n",
       "2           2  Hey man, I'm really not trying to edit war. It...      0\n",
       "3           3  \"\\nMore\\nI can't make any real suggestions on ...      0\n",
       "4           4  You, sir, are my hero. Any chance you remember...      0"
      ]
     },
     "metadata": {},
     "output_type": "display_data"
    },
    {
     "name": "stdout",
     "output_type": "stream",
     "text": [
      "<class 'pandas.core.frame.DataFrame'>\n",
      "RangeIndex: 159292 entries, 0 to 159291\n",
      "Data columns (total 3 columns):\n",
      " #   Column      Non-Null Count   Dtype \n",
      "---  ------      --------------   ----- \n",
      " 0   Unnamed: 0  159292 non-null  int64 \n",
      " 1   text        159292 non-null  object\n",
      " 2   toxic       159292 non-null  int64 \n",
      "dtypes: int64(2), object(1)\n",
      "memory usage: 3.6+ MB\n"
     ]
    }
   ],
   "source": [
    "try:\n",
    "    data = pd.read_csv('/datasets/toxic_comments.csv')\n",
    "except:\n",
    "    data = pd.read_csv('https://code.s3.yandex.net/datasets/toxic_comments.csv')\n",
    "\n",
    "display(data.head())\n",
    "data.info()"
   ]
  },
  {
   "cell_type": "code",
   "execution_count": 9,
   "id": "356d8a78-9528-4ea2-99f7-048449e10711",
   "metadata": {
    "colab": {
     "base_uri": "https://localhost:8080/"
    },
    "id": "356d8a78-9528-4ea2-99f7-048449e10711",
    "outputId": "c2c8dc48-9035-40bd-b015-65deab2bc2bb"
   },
   "outputs": [
    {
     "name": "stdout",
     "output_type": "stream",
     "text": [
      "<class 'pandas.core.frame.DataFrame'>\n",
      "RangeIndex: 159292 entries, 0 to 159291\n",
      "Data columns (total 2 columns):\n",
      " #   Column  Non-Null Count   Dtype \n",
      "---  ------  --------------   ----- \n",
      " 0   text    159292 non-null  object\n",
      " 1   toxic   159292 non-null  int64 \n",
      "dtypes: int64(1), object(1)\n",
      "memory usage: 2.4+ MB\n"
     ]
    }
   ],
   "source": [
    "#удалим неинформативный столбец со старыми индексами\n",
    "data.drop(data.columns[0], axis=1, inplace=True)\n",
    "data.info()"
   ]
  },
  {
   "cell_type": "code",
   "execution_count": 10,
   "id": "92061f7e-96f1-457e-ae21-806d191cc2b4",
   "metadata": {
    "id": "92061f7e-96f1-457e-ae21-806d191cc2b4"
   },
   "outputs": [
    {
     "data": {
      "application/vnd.jupyter.widget-view+json": {
       "model_id": "a41cc70f208c4be6aa2c5b58247ca0bf",
       "version_major": 2,
       "version_minor": 0
      },
      "text/plain": [
       "  0%|          | 0/159292 [00:00<?, ?it/s]"
      ]
     },
     "metadata": {},
     "output_type": "display_data"
    }
   ],
   "source": [
    "\"\"\"def lemmatize(text):\n",
    "    doc = nlp(text)\n",
    "    text = \" \".join([token.lemma_ for token in doc])\n",
    "    return text\"\"\"\n",
    "\n",
    "def clear_text(text):\n",
    "    text = re.sub(r\"(?:\\n|\\r)\", \" \", text)\n",
    "    text = re.sub(r\"[^a-zA-Z ]+\", \"\", text).strip().lower()\n",
    "    text = \" \".join(text.split())\n",
    "    return text\n",
    "\n",
    "data['text'] = data['text'].apply(lambda x: clear_text(x))\n",
    "\n",
    "\n",
    "lemm_texts = []\n",
    "total = data.shape[0]\n",
    "nlp_pipe = nlp.pipe(data['text'].values, disable = ['ner', 'parser'])\n",
    "\n",
    "for doc in tqdm(nlp_pipe, total=total):\n",
    "    lemm_text = \" \".join([token.lemma_ for token in doc])    \n",
    "    lemm_texts.append(lemm_text) "
   ]
  },
  {
   "cell_type": "code",
   "execution_count": 11,
   "id": "K3E65myAGJzl",
   "metadata": {
    "id": "K3E65myAGJzl"
   },
   "outputs": [],
   "source": [
    "stopwords = list(set(nltk_stopwords.words('english')))"
   ]
  },
  {
   "cell_type": "markdown",
   "id": "ii_cH4AvP_H1",
   "metadata": {
    "id": "ii_cH4AvP_H1"
   },
   "source": [
    "## Разделим на выборки"
   ]
  },
  {
   "cell_type": "code",
   "execution_count": 22,
   "id": "S9PGt5OqP6_x",
   "metadata": {
    "colab": {
     "base_uri": "https://localhost:8080/"
    },
    "id": "S9PGt5OqP6_x",
    "outputId": "0d618096-4c3f-4edf-b99e-a64a5349506c"
   },
   "outputs": [
    {
     "data": {
      "text/plain": [
       "(143362, 15930)"
      ]
     },
     "execution_count": 22,
     "metadata": {},
     "output_type": "execute_result"
    }
   ],
   "source": [
    "target=data['toxic'].values\n",
    "features = data['text']\n",
    "features_train, features_test, target_train, target_test = train_test_split(features, \n",
    "                                                                            target, \n",
    "                                                                            test_size = .1, \n",
    "                                                                            random_state = 42)\n",
    "\n",
    "features_train.shape[0], features_test.shape[0]"
   ]
  },
  {
   "cell_type": "code",
   "execution_count": 23,
   "id": "RVwfeTGSYnxj",
   "metadata": {
    "colab": {
     "base_uri": "https://localhost:8080/"
    },
    "id": "RVwfeTGSYnxj",
    "outputId": "5594266b-d969-408d-f20e-e1b7762e8b6a"
   },
   "outputs": [
    {
     "data": {
      "text/plain": [
       "0    explanation why the edits made under my userna...\n",
       "1    daww he matches this background colour im seem...\n",
       "2    hey man im really not trying to edit war its j...\n",
       "3    more i cant make any real suggestions on impro...\n",
       "4    you sir are my hero any chance you remember wh...\n",
       "Name: text, dtype: object"
      ]
     },
     "execution_count": 23,
     "metadata": {},
     "output_type": "execute_result"
    }
   ],
   "source": [
    "data['text'].head()"
   ]
  },
  {
   "cell_type": "markdown",
   "id": "Py1bXUuj7wWO",
   "metadata": {
    "id": "Py1bXUuj7wWO"
   },
   "source": [
    "> Проведена предоработка данных.\n",
    "* Строки приведены в нижний регистр, перед векторизацией из текста были удалены лишние пробелы, символы конца строки, ненужные символы, а также удалены стоп-слова с помощью библиотеки nltk_stopwords.\n",
    "* Данные разделены на тренировочную и тестовую выборки\n",
    "* Проведена векторизация текстов используя TF-IDF"
   ]
  },
  {
   "cell_type": "markdown",
   "id": "xfHWloe3aLUT",
   "metadata": {
    "id": "xfHWloe3aLUT"
   },
   "source": [
    "# Обучим модели"
   ]
  },
  {
   "cell_type": "markdown",
   "id": "fk2Up8ULaNFu",
   "metadata": {
    "id": "fk2Up8ULaNFu"
   },
   "source": [
    "## CatBoostClassifier"
   ]
  },
  {
   "cell_type": "code",
   "execution_count": null,
   "id": "26667a7f",
   "metadata": {},
   "outputs": [
    {
     "name": "stdout",
     "output_type": "stream",
     "text": [
      "Fitting 3 folds for each of 12 candidates, totalling 36 fits\n"
     ]
    }
   ],
   "source": [
    "%%time\n",
    "pipeline = Pipeline([\n",
    "    ('tfidf', TfidfVectorizer(stop_words=stopwords)), \n",
    "    ('model', CatBoostClassifier(verbose=0, iterations=10))  \n",
    "])\n",
    "\n",
    "parameters = {\n",
    "    'model__depth': [2, 4, 8], \n",
    "    'model__learning_rate': [0.1, 0.4, 0.7, 0.9] \n",
    "}\n",
    "\n",
    "grid_search = GridSearchCV(pipeline, parameters, scoring='f1', cv=3, verbose=True, n_jobs=-1)\n",
    "grid_search.fit(features_train, target_train)\n",
    "print('Лучшие гиперпараметры:', grid_search.best_params_)\n",
    "print('Лучший F1 CatBoostClassifier:', grid_search.best_score_)"
   ]
  },
  {
   "cell_type": "markdown",
   "id": "gGO3sIaaa_WG",
   "metadata": {
    "id": "gGO3sIaaa_WG"
   },
   "source": [
    "## LogisticRegression"
   ]
  },
  {
   "cell_type": "code",
   "execution_count": null,
   "id": "66J8RpKGbD78",
   "metadata": {
    "id": "66J8RpKGbD78"
   },
   "outputs": [],
   "source": [
    "%%time\n",
    "pipeline = Pipeline([\n",
    "    ('tfidf', TfidfVectorizer(stop_words=stopwords)),  # TF-IDF векторизация\n",
    "    ('model', LogisticRegression(random_state=42, solver='liblinear', class_weight=\"balanced\")) \n",
    "])\n",
    "\n",
    "parameters = {\n",
    "            'model__penalty': ['l1', 'l2'],\n",
    "            'model__C': list(range(1,15,3))\n",
    "        }\n",
    "\n",
    "grid_search = GridSearchCV(pipeline, parameters, scoring='f1', cv=3, verbose=True, n_jobs=-1)\n",
    "grid_search.fit(features_train, target_train)\n",
    "\n",
    "print('Лучшие гиперпараметры:', grid_search.best_params_)\n",
    "print('Лучший F1 LogisticRegression:', grid_search.best_score_)"
   ]
  },
  {
   "cell_type": "markdown",
   "id": "k3oqqNYR6LCa",
   "metadata": {
    "id": "k3oqqNYR6LCa"
   },
   "source": [
    "## RandomForest"
   ]
  },
  {
   "cell_type": "code",
   "execution_count": null,
   "id": "Xazylk5-6KUN",
   "metadata": {
    "id": "Xazylk5-6KUN"
   },
   "outputs": [],
   "source": [
    "%%time\n",
    "\n",
    "pipeline = Pipeline([\n",
    "    ('tfidf', TfidfVectorizer(stop_words=stopwords)),  # TF-IDF векторизация\n",
    "    ('model', RandomForestClassifier(random_state=42)) \n",
    "])\n",
    "\n",
    "parameters = {\n",
    "    'model__n_estimators': list(range(50,300,50)),\n",
    "    'model__max_depth':[5,15],\n",
    "    'model__max_features' : list(range(1,20, 2))\n",
    "        }\n",
    "\n",
    "grid_search = GridSearchCV(pipeline, parameters, scoring='f1', cv=3, verbose=True, n_jobs=-1)\n",
    "grid_search.fit(features_train, target_train)\n",
    "\n",
    "print('Лучшие гиперпараметры:', grid_search.best_params_)\n",
    "print('Лучший F1 RandomForestClassifier:', grid_search.best_score_)"
   ]
  },
  {
   "cell_type": "markdown",
   "id": "pOwBSkGK7DqK",
   "metadata": {
    "id": "pOwBSkGK7DqK"
   },
   "source": [
    "## Проверка на тестовой выборке"
   ]
  },
  {
   "cell_type": "code",
   "execution_count": null,
   "id": "2db4e06f",
   "metadata": {},
   "outputs": [],
   "source": [
    "# Проведем Векторизацию даннных тестовой выборки используя TF-IDF\n",
    "count_tf_idf = TfidfVectorizer(stop_words=stopwords)\n",
    "features_train = count_tf_idf.fit_transform(features_train)\n",
    "features_test = count_tf_idf.transform(features_test)\n",
    "\n",
    "print(\"Размер матрицы test:\", features_test.shape)"
   ]
  },
  {
   "cell_type": "code",
   "execution_count": null,
   "id": "65cfe06f-ff13-4e92-85a5-313a5f0e04f1",
   "metadata": {
    "id": "65cfe06f-ff13-4e92-85a5-313a5f0e04f1"
   },
   "outputs": [],
   "source": [
    "LR = LogisticRegression(random_state=42, C=7, penalty='l2', solver='liblinear', class_weight=\"balanced\")\n",
    "LR.fit(features_train, target_train)\n",
    "predictions = LR.predict(features_test)\n",
    "print('Лучший результат:', f1_score(target_test, predictions))\n"
   ]
  },
  {
   "cell_type": "markdown",
   "id": "OGhIYfi78i_L",
   "metadata": {
    "id": "OGhIYfi78i_L"
   },
   "source": [
    "> Обучены 3 модели:\n",
    "* CatboostClassifier\n",
    "* LogisticRegression\n",
    "* RandomForestClassifier\n",
    "\n",
    "Лучше всего с поставленной задачей справилась модель LogisticRegression, ее значение F1 на тестовой выборке: 0.77, что выполняет поставленный критерий."
   ]
  },
  {
   "cell_type": "markdown",
   "id": "KV_KXNkE9CnZ",
   "metadata": {
    "id": "KV_KXNkE9CnZ"
   },
   "source": [
    "# Общий вывод"
   ]
  },
  {
   "cell_type": "markdown",
   "id": "WKqtVdka9FWb",
   "metadata": {
    "id": "WKqtVdka9FWb"
   },
   "source": [
    "В ходе работы над проектом была проведена предоработка данных. Обучена модель классификации комментариев на позитивные и негативные.  Лучше всего с поставленной задачей справилась модель LogisticRegression, ее значение F1 на тестовой выборке: 0.77, что выполняет поставленный критерий."
   ]
  }
 ],
 "metadata": {
  "ExecuteTimeLog": [
   {
    "duration": 7613,
    "start_time": "2023-08-13T09:25:12.495Z"
   },
   {
    "duration": 2691,
    "start_time": "2023-08-13T09:25:20.111Z"
   },
   {
    "duration": 70,
    "start_time": "2023-08-13T09:25:22.804Z"
   },
   {
    "duration": 2524784,
    "start_time": "2023-08-13T09:25:22.877Z"
   },
   {
    "duration": 95,
    "start_time": "2023-08-13T10:07:27.663Z"
   },
   {
    "duration": 515,
    "start_time": "2023-08-13T10:07:27.761Z"
   },
   {
    "duration": 86,
    "start_time": "2023-08-13T10:07:28.280Z"
   },
   {
    "duration": 70286,
    "start_time": "2023-08-13T10:07:28.372Z"
   },
   {
    "duration": 5436,
    "start_time": "2023-08-13T11:50:44.858Z"
   },
   {
    "duration": 3324,
    "start_time": "2023-08-13T12:08:23.805Z"
   },
   {
    "duration": 48,
    "start_time": "2023-08-13T12:08:27.132Z"
   },
   {
    "duration": 460890,
    "start_time": "2023-08-13T12:08:31.505Z"
   },
   {
    "duration": 0,
    "start_time": "2023-08-13T12:16:12.398Z"
   },
   {
    "duration": 554,
    "start_time": "2023-08-13T12:16:13.178Z"
   },
   {
    "duration": 845,
    "start_time": "2023-08-13T12:16:14.685Z"
   },
   {
    "duration": 48,
    "start_time": "2023-08-13T12:16:17.100Z"
   },
   {
    "duration": 703898,
    "start_time": "2023-08-13T12:16:18.629Z"
   },
   {
    "duration": 5,
    "start_time": "2023-08-13T12:28:02.585Z"
   },
   {
    "duration": 70,
    "start_time": "2023-08-13T12:28:02.592Z"
   },
   {
    "duration": 528,
    "start_time": "2023-08-13T13:10:11.799Z"
   },
   {
    "duration": 56,
    "start_time": "2023-08-13T13:11:31.407Z"
   },
   {
    "duration": 616110,
    "start_time": "2023-08-13T13:11:56.696Z"
   },
   {
    "duration": 56462,
    "start_time": "2023-08-13T13:22:31.190Z"
   },
   {
    "duration": 155671,
    "start_time": "2023-08-13T13:23:28.893Z"
   },
   {
    "duration": 399189,
    "start_time": "2023-08-13T13:26:06.523Z"
   },
   {
    "duration": 11997,
    "start_time": "2023-08-13T13:32:47.797Z"
   },
   {
    "duration": 8,
    "start_time": "2023-08-13T13:33:13.084Z"
   },
   {
    "duration": 52,
    "start_time": "2023-08-13T13:33:15.240Z"
   },
   {
    "duration": 8354,
    "start_time": "2023-08-13T13:33:36.740Z"
   },
   {
    "duration": 31,
    "start_time": "2023-08-13T13:33:55.783Z"
   },
   {
    "duration": 30,
    "start_time": "2023-08-13T13:34:11.464Z"
   },
   {
    "duration": 135,
    "start_time": "2023-08-13T13:34:28.076Z"
   },
   {
    "duration": 138,
    "start_time": "2023-08-13T13:37:25.489Z"
   },
   {
    "duration": 28,
    "start_time": "2023-08-13T13:37:38.716Z"
   },
   {
    "duration": 29,
    "start_time": "2023-08-13T13:38:18.387Z"
   },
   {
    "duration": 37,
    "start_time": "2023-08-13T13:38:25.535Z"
   },
   {
    "duration": 48,
    "start_time": "2023-08-13T13:38:49.857Z"
   },
   {
    "duration": 5,
    "start_time": "2023-08-13T13:38:53.295Z"
   },
   {
    "duration": 9255,
    "start_time": "2023-08-13T13:38:55.769Z"
   },
   {
    "duration": 34,
    "start_time": "2023-08-13T13:39:21.829Z"
   },
   {
    "duration": 8584,
    "start_time": "2023-08-13T13:39:24.304Z"
   },
   {
    "duration": 119,
    "start_time": "2023-08-13T13:39:44.789Z"
   },
   {
    "duration": 119,
    "start_time": "2023-08-13T13:39:57.436Z"
   },
   {
    "duration": 22,
    "start_time": "2023-08-13T13:41:23.592Z"
   },
   {
    "duration": 34,
    "start_time": "2023-08-13T13:41:27.491Z"
   },
   {
    "duration": 8833,
    "start_time": "2023-08-13T13:41:30.042Z"
   },
   {
    "duration": 657,
    "start_time": "2023-08-13T13:41:45.461Z"
   },
   {
    "duration": 43,
    "start_time": "2023-08-13T13:44:03.336Z"
   },
   {
    "duration": 109784,
    "start_time": "2023-08-13T13:44:08.067Z"
   },
   {
    "duration": 201113,
    "start_time": "2023-08-13T13:45:59.052Z"
   },
   {
    "duration": 95998,
    "start_time": "2023-08-13T13:49:20.173Z"
   },
   {
    "duration": 0,
    "start_time": "2023-08-13T13:50:56.174Z"
   },
   {
    "duration": 27196,
    "start_time": "2023-08-13T13:51:06.954Z"
   },
   {
    "duration": 5329,
    "start_time": "2023-08-13T13:51:39.783Z"
   },
   {
    "duration": 632,
    "start_time": "2023-08-13T13:51:45.116Z"
   },
   {
    "duration": 894,
    "start_time": "2023-08-13T13:51:45.750Z"
   },
   {
    "duration": 61,
    "start_time": "2023-08-13T13:51:46.645Z"
   },
   {
    "duration": 663264,
    "start_time": "2023-08-13T13:51:46.708Z"
   },
   {
    "duration": 8,
    "start_time": "2023-08-13T14:02:49.981Z"
   },
   {
    "duration": 53,
    "start_time": "2023-08-13T14:02:49.992Z"
   },
   {
    "duration": 6,
    "start_time": "2023-08-13T14:02:50.047Z"
   },
   {
    "duration": 10,
    "start_time": "2023-08-13T14:02:50.054Z"
   },
   {
    "duration": 2434,
    "start_time": "2023-08-14T17:42:49.097Z"
   },
   {
    "duration": 4502,
    "start_time": "2023-08-14T17:42:51.534Z"
   },
   {
    "duration": 2685,
    "start_time": "2023-08-14T17:42:56.037Z"
   },
   {
    "duration": 33,
    "start_time": "2023-08-14T17:42:58.724Z"
   },
   {
    "duration": 163549,
    "start_time": "2023-08-14T17:42:58.758Z"
   },
   {
    "duration": 0,
    "start_time": "2023-08-14T17:45:42.309Z"
   },
   {
    "duration": 0,
    "start_time": "2023-08-14T17:45:42.310Z"
   },
   {
    "duration": 0,
    "start_time": "2023-08-14T17:45:42.311Z"
   },
   {
    "duration": 0,
    "start_time": "2023-08-14T17:45:42.312Z"
   },
   {
    "duration": 0,
    "start_time": "2023-08-14T17:45:42.313Z"
   },
   {
    "duration": 0,
    "start_time": "2023-08-14T17:45:42.314Z"
   },
   {
    "duration": 0,
    "start_time": "2023-08-14T17:45:42.315Z"
   },
   {
    "duration": 0,
    "start_time": "2023-08-14T17:45:42.316Z"
   },
   {
    "duration": 2368,
    "start_time": "2023-08-14T17:49:51.411Z"
   },
   {
    "duration": 452,
    "start_time": "2023-08-14T17:49:53.782Z"
   },
   {
    "duration": 884,
    "start_time": "2023-08-14T17:49:54.236Z"
   },
   {
    "duration": 55,
    "start_time": "2023-08-14T17:49:55.123Z"
   },
   {
    "duration": 570928,
    "start_time": "2023-08-14T17:49:55.180Z"
   },
   {
    "duration": 9,
    "start_time": "2023-08-14T17:59:26.110Z"
   },
   {
    "duration": 59,
    "start_time": "2023-08-14T17:59:26.120Z"
   },
   {
    "duration": 7,
    "start_time": "2023-08-14T17:59:26.180Z"
   },
   {
    "duration": 6739,
    "start_time": "2023-08-14T17:59:26.189Z"
   },
   {
    "duration": 194,
    "start_time": "2023-08-14T17:59:32.930Z"
   },
   {
    "duration": 149,
    "start_time": "2023-08-14T17:59:33.126Z"
   },
   {
    "duration": 100,
    "start_time": "2023-08-14T17:59:33.277Z"
   },
   {
    "duration": 24700,
    "start_time": "2023-08-14T17:59:33.378Z"
   },
   {
    "duration": 106,
    "start_time": "2023-08-14T17:59:58.080Z"
   },
   {
    "duration": 114,
    "start_time": "2023-08-14T18:00:14.880Z"
   },
   {
    "duration": 634,
    "start_time": "2023-08-14T18:02:27.669Z"
   },
   {
    "duration": 21,
    "start_time": "2023-08-14T18:02:56.650Z"
   },
   {
    "duration": 4,
    "start_time": "2023-08-14T18:02:59.019Z"
   }
  ],
  "colab": {
   "provenance": []
  },
  "kernelspec": {
   "display_name": "Python 3 (ipykernel)",
   "language": "python",
   "name": "python3"
  },
  "language_info": {
   "codemirror_mode": {
    "name": "ipython",
    "version": 3
   },
   "file_extension": ".py",
   "mimetype": "text/x-python",
   "name": "python",
   "nbconvert_exporter": "python",
   "pygments_lexer": "ipython3",
   "version": "3.11.5"
  },
  "toc": {
   "base_numbering": 1,
   "nav_menu": {},
   "number_sections": true,
   "sideBar": true,
   "skip_h1_title": true,
   "title_cell": "Table of Contents",
   "title_sidebar": "Contents",
   "toc_cell": false,
   "toc_position": {},
   "toc_section_display": true,
   "toc_window_display": false
  }
 },
 "nbformat": 4,
 "nbformat_minor": 5
}
